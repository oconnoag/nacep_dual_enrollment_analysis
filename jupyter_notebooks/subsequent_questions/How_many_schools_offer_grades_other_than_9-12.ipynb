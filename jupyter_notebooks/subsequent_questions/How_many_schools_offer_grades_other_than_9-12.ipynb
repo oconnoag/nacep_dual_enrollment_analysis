{
 "cells": [
  {
   "cell_type": "code",
   "execution_count": 1,
   "metadata": {},
   "outputs": [
    {
     "data": {
      "text/html": [
       "<script>requirejs.config({paths: { 'plotly': ['https://cdn.plot.ly/plotly-latest.min']},});if(!window.Plotly) {{require(['plotly'],function(plotly) {window.Plotly=plotly;});}}</script>"
      ],
      "text/vnd.plotly.v1+html": [
       "<script>requirejs.config({paths: { 'plotly': ['https://cdn.plot.ly/plotly-latest.min']},});if(!window.Plotly) {{require(['plotly'],function(plotly) {window.Plotly=plotly;});}}</script>"
      ]
     },
     "metadata": {},
     "output_type": "display_data"
    }
   ],
   "source": [
    "import pandas as pd\n",
    "import numpy as np\n",
    "import seaborn as sns\n",
    "import matplotlib.pyplot as plt\n",
    "\n",
    "import plotly.plotly as py\n",
    "import plotly.graph_objs as go\n",
    "from plotly.offline import init_notebook_mode,iplot\n",
    "init_notebook_mode(connected = True)\n",
    "\n",
    "%matplotlib inline\n",
    "sns.set_style('whitegrid')\n",
    "plt.rc('axes', titlesize = 14, titleweight = 'bold', labelweight = 'bold')"
   ]
  },
  {
   "cell_type": "code",
   "execution_count": 2,
   "metadata": {},
   "outputs": [],
   "source": [
    "crdc_1516 = pd.read_csv('../../filtered_data/04_filter_final.csv', dtype = {'LEAID':np.object})"
   ]
  },
  {
   "cell_type": "code",
   "execution_count": 3,
   "metadata": {},
   "outputs": [],
   "source": [
    "import os\n",
    "os.chdir('..')\n",
    "from my_functions.extra_functions import have_gr9_or_younger"
   ]
  },
  {
   "cell_type": "code",
   "execution_count": 4,
   "metadata": {},
   "outputs": [],
   "source": [
    "grade_ranges = have_gr9_or_younger(crdc_1516)"
   ]
  },
  {
   "cell_type": "code",
   "execution_count": 5,
   "metadata": {},
   "outputs": [
    {
     "data": {
      "text/plain": [
       "0.275"
      ]
     },
     "execution_count": 5,
     "metadata": {},
     "output_type": "execute_result"
    }
   ],
   "source": [
    "grade_ranges"
   ]
  },
  {
   "cell_type": "code",
   "execution_count": 6,
   "metadata": {},
   "outputs": [
    {
     "data": {
      "text/plain": [
       "array(['COMBOKEY', 'SCH_NAME', 'GSHI', 'GSLO', 'JJ', 'LAT1516', 'LEAID',\n",
       "       'LEA_NAME', 'LEA_STATE', 'LEA_STATE_NAME', 'LEVEL', 'LOCALE15',\n",
       "       'LON1516', 'NMCNTY15', 'SCHID', 'SCH_APENR_AM_F', 'SCH_APENR_AM_M',\n",
       "       'SCH_APENR_AS_F', 'SCH_APENR_AS_M', 'SCH_APENR_BL_F',\n",
       "       'SCH_APENR_BL_M', 'SCH_APENR_HI_F', 'SCH_APENR_HI_M',\n",
       "       'SCH_APENR_HP_F', 'SCH_APENR_HP_M', 'SCH_APENR_IDEA_F',\n",
       "       'SCH_APENR_IDEA_M', 'SCH_APENR_IND', 'SCH_APENR_LEP_F',\n",
       "       'SCH_APENR_LEP_M', 'SCH_APENR_TR_F', 'SCH_APENR_TR_M',\n",
       "       'SCH_APENR_WH_F', 'SCH_APENR_WH_M', 'SCH_DUALENR_AM_F',\n",
       "       'SCH_DUALENR_AM_M', 'SCH_DUALENR_AS_F', 'SCH_DUALENR_AS_M',\n",
       "       'SCH_DUALENR_BL_F', 'SCH_DUALENR_BL_M', 'SCH_DUALENR_HI_F',\n",
       "       'SCH_DUALENR_HI_M', 'SCH_DUALENR_HP_F', 'SCH_DUALENR_HP_M',\n",
       "       'SCH_DUALENR_IDEA_F', 'SCH_DUALENR_IDEA_M', 'SCH_DUALENR_LEP_F',\n",
       "       'SCH_DUALENR_LEP_M', 'SCH_DUALENR_TR_F', 'SCH_DUALENR_TR_M',\n",
       "       'SCH_DUALENR_WH_F', 'SCH_DUALENR_WH_M', 'SCH_DUAL_IND',\n",
       "       'SCH_ENR_AM_F', 'SCH_ENR_AM_M', 'SCH_ENR_AS_F', 'SCH_ENR_AS_M',\n",
       "       'SCH_ENR_BL_F', 'SCH_ENR_BL_M', 'SCH_ENR_HI_F', 'SCH_ENR_HI_M',\n",
       "       'SCH_ENR_HP_F', 'SCH_ENR_HP_M', 'SCH_ENR_IDEA_F', 'SCH_ENR_IDEA_M',\n",
       "       'SCH_ENR_LEP_F', 'SCH_ENR_LEP_M', 'SCH_ENR_TR_F', 'SCH_ENR_TR_M',\n",
       "       'SCH_ENR_WH_F', 'SCH_ENR_WH_M', 'SCH_GRADE_G01', 'SCH_GRADE_G02',\n",
       "       'SCH_GRADE_G03', 'SCH_GRADE_G04', 'SCH_GRADE_G05', 'SCH_GRADE_G06',\n",
       "       'SCH_GRADE_G07', 'SCH_GRADE_G08', 'SCH_GRADE_G09', 'SCH_GRADE_G10',\n",
       "       'SCH_GRADE_G11', 'SCH_GRADE_G12', 'SCH_GRADE_KG', 'SCH_GRADE_PS',\n",
       "       'SCH_GRADE_UG', 'SCH_IBENR_AM_F', 'SCH_IBENR_AM_M',\n",
       "       'SCH_IBENR_AS_F', 'SCH_IBENR_AS_M', 'SCH_IBENR_BL_F',\n",
       "       'SCH_IBENR_BL_M', 'SCH_IBENR_HI_F', 'SCH_IBENR_HI_M',\n",
       "       'SCH_IBENR_HP_F', 'SCH_IBENR_HP_M', 'SCH_IBENR_IDEA_F',\n",
       "       'SCH_IBENR_IDEA_M', 'SCH_IBENR_IND', 'SCH_IBENR_LEP_F',\n",
       "       'SCH_IBENR_LEP_M', 'SCH_IBENR_TR_F', 'SCH_IBENR_TR_M',\n",
       "       'SCH_IBENR_WH_F', 'SCH_IBENR_WH_M', 'SCH_STATUS_ALT',\n",
       "       'SCH_STATUS_CHARTER', 'SCH_STATUS_MAGNET', 'SCH_STATUS_SPED',\n",
       "       'SCH_TYPE', 'SCH_TYPE_TEXT', 'SCH_UGDETAIL_HS', 'STABR',\n",
       "       'Students_in_11_12', 'TITLEI', 'TOT_APENR_F', 'TOT_APENR_M',\n",
       "       'TOT_DUALENR_F', 'TOT_DUALENR_M', 'TOT_ENR_F', 'TOT_ENR_M',\n",
       "       'TOT_IBENR_F', 'TOT_IBENR_M', 'VIRTUAL'], dtype=object)"
      ]
     },
     "execution_count": 6,
     "metadata": {},
     "output_type": "execute_result"
    }
   ],
   "source": [
    "crdc_1516.columns.values"
   ]
  },
  {
   "cell_type": "code",
   "execution_count": null,
   "metadata": {},
   "outputs": [],
   "source": []
  }
 ],
 "metadata": {
  "kernelspec": {
   "display_name": "nacep_venv",
   "language": "python",
   "name": "nacep_venv"
  },
  "language_info": {
   "codemirror_mode": {
    "name": "ipython",
    "version": 3
   },
   "file_extension": ".py",
   "mimetype": "text/x-python",
   "name": "python",
   "nbconvert_exporter": "python",
   "pygments_lexer": "ipython3",
   "version": "3.6.5"
  }
 },
 "nbformat": 4,
 "nbformat_minor": 2
}
