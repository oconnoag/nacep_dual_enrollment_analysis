{
 "cells": [
  {
   "cell_type": "markdown",
   "metadata": {},
   "source": [
    "# <u> NACEP </u>\n",
    "## 2015-16 CRDC\n",
    "## AP v. DE Enrollment Analysis"
   ]
  },
  {
   "cell_type": "code",
   "execution_count": 1,
   "metadata": {},
   "outputs": [
    {
     "data": {
      "text/html": [
       "<script>requirejs.config({paths: { 'plotly': ['https://cdn.plot.ly/plotly-latest.min']},});if(!window.Plotly) {{require(['plotly'],function(plotly) {window.Plotly=plotly;});}}</script>"
      ],
      "text/vnd.plotly.v1+html": [
       "<script>requirejs.config({paths: { 'plotly': ['https://cdn.plot.ly/plotly-latest.min']},});if(!window.Plotly) {{require(['plotly'],function(plotly) {window.Plotly=plotly;});}}</script>"
      ]
     },
     "metadata": {},
     "output_type": "display_data"
    }
   ],
   "source": [
    "import pandas as pd\n",
    "import numpy as np\n",
    "import seaborn as sns\n",
    "import matplotlib.pyplot as plt\n",
    "\n",
    "import plotly.plotly as py\n",
    "import plotly.graph_objs as go\n",
    "from plotly.offline import init_notebook_mode,iplot\n",
    "init_notebook_mode(connected = True)\n",
    "\n",
    "%matplotlib inline\n",
    "sns.set_style('whitegrid')\n",
    "plt.rc('axes', titlesize = 14, titleweight = 'bold', labelweight = 'bold')"
   ]
  },
  {
   "cell_type": "code",
   "execution_count": 2,
   "metadata": {},
   "outputs": [],
   "source": [
    "crdc_1516 = pd.read_csv('../filtered_data/04_filter_final.csv', dtype = {'LEAID':np.object})"
   ]
  },
  {
   "cell_type": "code",
   "execution_count": 3,
   "metadata": {},
   "outputs": [
    {
     "data": {
      "text/plain": [
       "18667"
      ]
     },
     "execution_count": 3,
     "metadata": {},
     "output_type": "execute_result"
    }
   ],
   "source": [
    "len(crdc_1516.index)"
   ]
  },
  {
   "cell_type": "code",
   "execution_count": 4,
   "metadata": {},
   "outputs": [
    {
     "data": {
      "text/plain": [
       "array(['COMBOKEY', 'SCH_NAME', 'GSHI', 'GSLO', 'JJ', 'LAT1516', 'LEAID',\n",
       "       'LEA_NAME', 'LEA_STATE', 'LEA_STATE_NAME', 'LEVEL', 'LOCALE15',\n",
       "       'LON1516', 'NMCNTY15', 'SCHID', 'SCH_APENR_AM_F', 'SCH_APENR_AM_M',\n",
       "       'SCH_APENR_AS_F', 'SCH_APENR_AS_M', 'SCH_APENR_BL_F',\n",
       "       'SCH_APENR_BL_M', 'SCH_APENR_HI_F', 'SCH_APENR_HI_M',\n",
       "       'SCH_APENR_HP_F', 'SCH_APENR_HP_M', 'SCH_APENR_IDEA_F',\n",
       "       'SCH_APENR_IDEA_M', 'SCH_APENR_IND', 'SCH_APENR_LEP_F',\n",
       "       'SCH_APENR_LEP_M', 'SCH_APENR_TR_F', 'SCH_APENR_TR_M',\n",
       "       'SCH_APENR_WH_F', 'SCH_APENR_WH_M', 'SCH_DUALENR_AM_F',\n",
       "       'SCH_DUALENR_AM_M', 'SCH_DUALENR_AS_F', 'SCH_DUALENR_AS_M',\n",
       "       'SCH_DUALENR_BL_F', 'SCH_DUALENR_BL_M', 'SCH_DUALENR_HI_F',\n",
       "       'SCH_DUALENR_HI_M', 'SCH_DUALENR_HP_F', 'SCH_DUALENR_HP_M',\n",
       "       'SCH_DUALENR_IDEA_F', 'SCH_DUALENR_IDEA_M', 'SCH_DUALENR_LEP_F',\n",
       "       'SCH_DUALENR_LEP_M', 'SCH_DUALENR_TR_F', 'SCH_DUALENR_TR_M',\n",
       "       'SCH_DUALENR_WH_F', 'SCH_DUALENR_WH_M', 'SCH_DUAL_IND',\n",
       "       'SCH_ENR_AM_F', 'SCH_ENR_AM_M', 'SCH_ENR_AS_F', 'SCH_ENR_AS_M',\n",
       "       'SCH_ENR_BL_F', 'SCH_ENR_BL_M', 'SCH_ENR_HI_F', 'SCH_ENR_HI_M',\n",
       "       'SCH_ENR_HP_F', 'SCH_ENR_HP_M', 'SCH_ENR_IDEA_F', 'SCH_ENR_IDEA_M',\n",
       "       'SCH_ENR_LEP_F', 'SCH_ENR_LEP_M', 'SCH_ENR_TR_F', 'SCH_ENR_TR_M',\n",
       "       'SCH_ENR_WH_F', 'SCH_ENR_WH_M', 'SCH_GRADE_G01', 'SCH_GRADE_G02',\n",
       "       'SCH_GRADE_G03', 'SCH_GRADE_G04', 'SCH_GRADE_G05', 'SCH_GRADE_G06',\n",
       "       'SCH_GRADE_G07', 'SCH_GRADE_G08', 'SCH_GRADE_G09', 'SCH_GRADE_G10',\n",
       "       'SCH_GRADE_G11', 'SCH_GRADE_G12', 'SCH_GRADE_KG', 'SCH_GRADE_PS',\n",
       "       'SCH_GRADE_UG', 'SCH_IBENR_AM_F', 'SCH_IBENR_AM_M',\n",
       "       'SCH_IBENR_AS_F', 'SCH_IBENR_AS_M', 'SCH_IBENR_BL_F',\n",
       "       'SCH_IBENR_BL_M', 'SCH_IBENR_HI_F', 'SCH_IBENR_HI_M',\n",
       "       'SCH_IBENR_HP_F', 'SCH_IBENR_HP_M', 'SCH_IBENR_IDEA_F',\n",
       "       'SCH_IBENR_IDEA_M', 'SCH_IBENR_IND', 'SCH_IBENR_LEP_F',\n",
       "       'SCH_IBENR_LEP_M', 'SCH_IBENR_TR_F', 'SCH_IBENR_TR_M',\n",
       "       'SCH_IBENR_WH_F', 'SCH_IBENR_WH_M', 'SCH_STATUS_ALT',\n",
       "       'SCH_STATUS_CHARTER', 'SCH_STATUS_MAGNET', 'SCH_STATUS_SPED',\n",
       "       'SCH_TYPE', 'SCH_TYPE_TEXT', 'SCH_UGDETAIL_HS', 'STABR',\n",
       "       'Students_in_11_12', 'TITLEI', 'TOT_APENR_F', 'TOT_APENR_M',\n",
       "       'TOT_DUALENR_F', 'TOT_DUALENR_M', 'TOT_ENR_F', 'TOT_ENR_M',\n",
       "       'TOT_IBENR_F', 'TOT_IBENR_M', 'VIRTUAL'], dtype=object)"
      ]
     },
     "execution_count": 4,
     "metadata": {},
     "output_type": "execute_result"
    }
   ],
   "source": [
    "crdc_1516.columns.values"
   ]
  },
  {
   "cell_type": "markdown",
   "metadata": {},
   "source": [
    "# <font color = green> Clean Missing Values / Add Enrollment columns </font>\n",
    "Cleaning Specificially those for int-columns -- these are recorded as negative numbers that interfere with the enrollment calculations.<br>\n",
    "\n",
    "**This section sets up most of the calculations needed for the analyses in the report.**"
   ]
  },
  {
   "cell_type": "code",
   "execution_count": 5,
   "metadata": {},
   "outputs": [],
   "source": [
    "crdc_1516_cleaned = crdc_1516.copy()"
   ]
  },
  {
   "cell_type": "code",
   "execution_count": 6,
   "metadata": {},
   "outputs": [],
   "source": [
    "def missing_value_mapper(value):\n",
    "    \"\"\"Converts any negative number into 0, as these negative numbers represent missing/null values\"\"\"\n",
    "    if isinstance(value, int):\n",
    "        if value < 0:\n",
    "            return 0\n",
    "    return value\n",
    "\n",
    "crdc_1516_cleaned = crdc_1516_cleaned.applymap(missing_value_mapper)"
   ]
  },
  {
   "cell_type": "markdown",
   "metadata": {},
   "source": [
    "<font color = blue>** -- Totals Columns -- **</font>"
   ]
  },
  {
   "cell_type": "markdown",
   "metadata": {},
   "source": [
    "** Total enrollments **"
   ]
  },
  {
   "cell_type": "code",
   "execution_count": 7,
   "metadata": {},
   "outputs": [],
   "source": [
    "crdc_1516_cleaned['total_enrollment'] = crdc_1516_cleaned['TOT_ENR_M'] + crdc_1516_cleaned['TOT_ENR_F']"
   ]
  },
  {
   "cell_type": "markdown",
   "metadata": {},
   "source": [
    "** Total white enrollments **"
   ]
  },
  {
   "cell_type": "code",
   "execution_count": 8,
   "metadata": {},
   "outputs": [],
   "source": [
    "crdc_1516_cleaned['total_white_enrollment'] = crdc_1516_cleaned['SCH_ENR_WH_M'] + crdc_1516_cleaned['SCH_ENR_WH_F']"
   ]
  },
  {
   "cell_type": "markdown",
   "metadata": {},
   "source": [
    "** Total non-white enrollments **"
   ]
  },
  {
   "cell_type": "code",
   "execution_count": 9,
   "metadata": {},
   "outputs": [],
   "source": [
    "crdc_1516_cleaned['total_nonwhite_enrollment'] = crdc_1516_cleaned['total_enrollment'] - crdc_1516_cleaned['total_white_enrollment']"
   ]
  },
  {
   "cell_type": "markdown",
   "metadata": {},
   "source": [
    "**Total Racial Breakdowns**"
   ]
  },
  {
   "cell_type": "code",
   "execution_count": 10,
   "metadata": {},
   "outputs": [],
   "source": [
    "crdc_1516_cleaned['total_hi_enrollment'] = crdc_1516_cleaned['SCH_ENR_HI_M'] + crdc_1516_cleaned['SCH_ENR_HI_F']\n",
    "crdc_1516_cleaned['total_am_enrollment'] = crdc_1516_cleaned['SCH_ENR_AM_M'] + crdc_1516_cleaned['SCH_ENR_AM_F']\n",
    "crdc_1516_cleaned['total_as_enrollment'] = crdc_1516_cleaned['SCH_ENR_AS_M'] + crdc_1516_cleaned['SCH_ENR_AS_F']\n",
    "crdc_1516_cleaned['total_bl_enrollment'] = crdc_1516_cleaned['SCH_ENR_BL_M'] + crdc_1516_cleaned['SCH_ENR_BL_F']\n",
    "crdc_1516_cleaned['total_hp_enrollment'] = crdc_1516_cleaned['SCH_ENR_HP_M'] + crdc_1516_cleaned['SCH_ENR_HP_F']\n",
    "crdc_1516_cleaned['total_tr_enrollment'] = crdc_1516_cleaned['SCH_ENR_TR_M'] + crdc_1516_cleaned['SCH_ENR_TR_F']"
   ]
  },
  {
   "cell_type": "markdown",
   "metadata": {},
   "source": [
    "** Total LEP enrollment **"
   ]
  },
  {
   "cell_type": "code",
   "execution_count": 11,
   "metadata": {},
   "outputs": [],
   "source": [
    "crdc_1516_cleaned['total_lep_enrollment'] = crdc_1516_cleaned['SCH_ENR_LEP_M'] + crdc_1516_cleaned['SCH_ENR_LEP_F']"
   ]
  },
  {
   "cell_type": "markdown",
   "metadata": {},
   "source": [
    "** Total IDEA enrollment **"
   ]
  },
  {
   "cell_type": "code",
   "execution_count": 12,
   "metadata": {},
   "outputs": [],
   "source": [
    "crdc_1516_cleaned['total_idea_enrollment'] = crdc_1516_cleaned['SCH_ENR_IDEA_M'] + crdc_1516_cleaned['SCH_ENR_IDEA_F']"
   ]
  },
  {
   "cell_type": "markdown",
   "metadata": {},
   "source": [
    "<font color = blue>** -- DE Columns -- **</font>"
   ]
  },
  {
   "cell_type": "markdown",
   "metadata": {},
   "source": [
    "** Total DE Enrollment **"
   ]
  },
  {
   "cell_type": "code",
   "execution_count": 13,
   "metadata": {},
   "outputs": [],
   "source": [
    "crdc_1516_cleaned['de_total_enrollment'] = crdc_1516_cleaned['TOT_DUALENR_M'] + crdc_1516_cleaned['TOT_DUALENR_F']"
   ]
  },
  {
   "cell_type": "markdown",
   "metadata": {},
   "source": [
    "** Total DE white enrollment **"
   ]
  },
  {
   "cell_type": "code",
   "execution_count": 14,
   "metadata": {},
   "outputs": [],
   "source": [
    "crdc_1516_cleaned['de_white_enrollment'] = crdc_1516_cleaned['SCH_DUALENR_WH_F'] +  crdc_1516_cleaned['SCH_DUALENR_WH_M']"
   ]
  },
  {
   "cell_type": "markdown",
   "metadata": {},
   "source": [
    "** Total DE non-white enrollment **"
   ]
  },
  {
   "cell_type": "code",
   "execution_count": 15,
   "metadata": {},
   "outputs": [],
   "source": [
    "crdc_1516_cleaned['de_nonwhite_enrollment'] = crdc_1516_cleaned['de_total_enrollment'] - crdc_1516_cleaned['de_white_enrollment']"
   ]
  },
  {
   "cell_type": "markdown",
   "metadata": {},
   "source": [
    "** DE Racial Breakdowns **"
   ]
  },
  {
   "cell_type": "code",
   "execution_count": 16,
   "metadata": {},
   "outputs": [],
   "source": [
    "crdc_1516_cleaned['de_hi_enrollment'] = crdc_1516_cleaned['SCH_DUALENR_HI_M'] + crdc_1516_cleaned['SCH_DUALENR_HI_F']\n",
    "crdc_1516_cleaned['de_am_enrollment'] = crdc_1516_cleaned['SCH_DUALENR_AM_M'] + crdc_1516_cleaned['SCH_DUALENR_AM_F']\n",
    "crdc_1516_cleaned['de_as_enrollment'] = crdc_1516_cleaned['SCH_DUALENR_AS_M'] + crdc_1516_cleaned['SCH_DUALENR_AS_F']\n",
    "crdc_1516_cleaned['de_bl_enrollment'] = crdc_1516_cleaned['SCH_DUALENR_BL_M'] + crdc_1516_cleaned['SCH_DUALENR_BL_F']\n",
    "crdc_1516_cleaned['de_hp_enrollment'] = crdc_1516_cleaned['SCH_DUALENR_HP_M'] + crdc_1516_cleaned['SCH_DUALENR_HP_F']\n",
    "crdc_1516_cleaned['de_tr_enrollment'] = crdc_1516_cleaned['SCH_DUALENR_TR_M'] + crdc_1516_cleaned['SCH_DUALENR_TR_F']"
   ]
  },
  {
   "cell_type": "markdown",
   "metadata": {},
   "source": [
    "** Total DE LEA-enrollment **"
   ]
  },
  {
   "cell_type": "code",
   "execution_count": 17,
   "metadata": {},
   "outputs": [],
   "source": [
    "crdc_1516_cleaned['de_lep_enrollment'] = crdc_1516_cleaned['SCH_DUALENR_LEP_M'] + crdc_1516_cleaned['SCH_DUALENR_LEP_F']"
   ]
  },
  {
   "cell_type": "markdown",
   "metadata": {},
   "source": [
    "** Total DE IDEA-enrollment **"
   ]
  },
  {
   "cell_type": "code",
   "execution_count": 18,
   "metadata": {},
   "outputs": [],
   "source": [
    "crdc_1516_cleaned['de_idea_enrollment'] = crdc_1516_cleaned['SCH_DUALENR_IDEA_M'] + crdc_1516_cleaned['SCH_DUALENR_IDEA_F']"
   ]
  },
  {
   "cell_type": "markdown",
   "metadata": {},
   "source": [
    "<font color = blue>** -- AP Columns -- **</font>"
   ]
  },
  {
   "cell_type": "markdown",
   "metadata": {},
   "source": [
    "** Total AP enrollment **"
   ]
  },
  {
   "cell_type": "code",
   "execution_count": 19,
   "metadata": {},
   "outputs": [],
   "source": [
    "crdc_1516_cleaned['ap_total_enrollment'] = crdc_1516_cleaned['TOT_APENR_M'] + crdc_1516_cleaned['TOT_APENR_F']"
   ]
  },
  {
   "cell_type": "markdown",
   "metadata": {},
   "source": [
    "**Total AP white enrollment**"
   ]
  },
  {
   "cell_type": "code",
   "execution_count": 20,
   "metadata": {},
   "outputs": [],
   "source": [
    "crdc_1516_cleaned['ap_white_enrollment'] = crdc_1516_cleaned['SCH_APENR_WH_F'] +  crdc_1516_cleaned['SCH_APENR_WH_M']"
   ]
  },
  {
   "cell_type": "markdown",
   "metadata": {},
   "source": [
    "**Total AP non-white enrollment**"
   ]
  },
  {
   "cell_type": "code",
   "execution_count": 21,
   "metadata": {},
   "outputs": [],
   "source": [
    "crdc_1516_cleaned['ap_nonwhite_enrollment'] = crdc_1516_cleaned['ap_total_enrollment'] - crdc_1516_cleaned['ap_white_enrollment']"
   ]
  },
  {
   "cell_type": "markdown",
   "metadata": {},
   "source": [
    "**AP Racial Breakdowns**"
   ]
  },
  {
   "cell_type": "code",
   "execution_count": 22,
   "metadata": {},
   "outputs": [],
   "source": [
    "crdc_1516_cleaned['ap_hi_enrollment'] = crdc_1516_cleaned['SCH_APENR_HI_M'] + crdc_1516_cleaned['SCH_APENR_HI_F']\n",
    "crdc_1516_cleaned['ap_am_enrollment'] = crdc_1516_cleaned['SCH_APENR_AM_M'] + crdc_1516_cleaned['SCH_APENR_AM_F']\n",
    "crdc_1516_cleaned['ap_as_enrollment'] = crdc_1516_cleaned['SCH_APENR_AS_M'] + crdc_1516_cleaned['SCH_APENR_AS_F']\n",
    "crdc_1516_cleaned['ap_bl_enrollment'] = crdc_1516_cleaned['SCH_APENR_BL_M'] + crdc_1516_cleaned['SCH_APENR_BL_F']\n",
    "crdc_1516_cleaned['ap_hp_enrollment'] = crdc_1516_cleaned['SCH_APENR_HP_M'] + crdc_1516_cleaned['SCH_APENR_HP_F']\n",
    "crdc_1516_cleaned['ap_tr_enrollment'] = crdc_1516_cleaned['SCH_APENR_TR_M'] + crdc_1516_cleaned['SCH_APENR_TR_F']"
   ]
  },
  {
   "cell_type": "markdown",
   "metadata": {},
   "source": [
    "**Total AP LEA-enrollment**"
   ]
  },
  {
   "cell_type": "code",
   "execution_count": 23,
   "metadata": {},
   "outputs": [],
   "source": [
    "crdc_1516_cleaned['ap_lep_enrollment'] = crdc_1516_cleaned['SCH_APENR_LEP_M'] + crdc_1516_cleaned['SCH_APENR_LEP_F']"
   ]
  },
  {
   "cell_type": "markdown",
   "metadata": {},
   "source": [
    "**Total AP IDEA-enrollment**"
   ]
  },
  {
   "cell_type": "code",
   "execution_count": 24,
   "metadata": {},
   "outputs": [],
   "source": [
    "crdc_1516_cleaned['ap_idea_enrollment'] = crdc_1516_cleaned['SCH_APENR_IDEA_M'] + crdc_1516_cleaned['SCH_APENR_IDEA_F']"
   ]
  },
  {
   "cell_type": "markdown",
   "metadata": {},
   "source": [
    "# <font color = green> Manipulate DataFrame </font>"
   ]
  },
  {
   "cell_type": "markdown",
   "metadata": {},
   "source": [
    "** Add Size Column **"
   ]
  },
  {
   "cell_type": "code",
   "execution_count": 25,
   "metadata": {},
   "outputs": [],
   "source": [
    "def school_sizer(enroll):\n",
    "    if enroll < 100:\n",
    "        return 1\n",
    "    elif 100 <= enroll < 500:\n",
    "        return 2\n",
    "    elif 500 <= enroll < 1200:\n",
    "        return 3\n",
    "    return 4"
   ]
  },
  {
   "cell_type": "code",
   "execution_count": 26,
   "metadata": {},
   "outputs": [],
   "source": [
    "crdc_1516_cleaned['size_group'] = crdc_1516_cleaned['total_enrollment'].apply(lambda x: school_sizer(x))"
   ]
  },
  {
   "cell_type": "markdown",
   "metadata": {},
   "source": [
    "** Add Region Column **"
   ]
  },
  {
   "cell_type": "code",
   "execution_count": 27,
   "metadata": {},
   "outputs": [],
   "source": [
    "\"\"\"\n",
    "1:  Middle States Commission on Higher Education - New York, New Jersey, Pennsylvania, Delaware, Maryland, the District of Columbia\n",
    "\n",
    "2:  New England Association of Schools and Colleges - Connecticut, Maine, Massachusetts, New Hampshire, Rhode Island, and Vermont\n",
    "\n",
    "3:  Higher Learning Commission - Arkansas, Arizona, Colorado, Iowa, Illinois, Indiana, Kansas, Michigan, Minnesota, Missouri, \n",
    "    North Dakota, Nebraska, New Mexico, Ohio, Oklahoma, South Dakota, Wisconsin, West Virginia, and Wyoming\n",
    "\n",
    "4:  Northwest Commission on Colleges and Universities - Alaska, Idaho, Montana, Nevada, Oregon, Utah, and Washington\n",
    "\n",
    "5:  Southern Association of Colleges and Schools - Alabama, Florida, Georgia, Kentucky, Louisiana, Mississippi, \n",
    "    North Carolina, South Carolina, Tennessee, Texas and Virginia\n",
    "\n",
    "6:  Western Association of Schools and Colleges - California, Hawaii\n",
    "\"\"\"\n",
    "\n",
    "middle_states = \"NY,NJ,PA,DE,MD,DC\".split(',')\n",
    "new_england = \"CT,ME,MA,NH,RI,VT\".split(',')\n",
    "higher_learning_commission = \"AR,AZ,CO,IA,IL,IN,KS,MI,MN,MO,ND,NE,NM,OH,OK,SD,WI,WV,WY\".split(',')\n",
    "northwest_commission = \"AK,ID,MT,NV,OR,UT,WA\".split(',')\n",
    "southern_association = \"AL,FL,GA,KY,LA,MS,NC,SC,TN,TX,VA\".split(',')\n",
    "western_association = \"CA,HI\".split(',')"
   ]
  },
  {
   "cell_type": "code",
   "execution_count": 28,
   "metadata": {},
   "outputs": [],
   "source": [
    "def region_mapper(state):\n",
    "    if state in middle_states:\n",
    "        return \"MSCHE\"\n",
    "    elif state in new_england:\n",
    "        return \"NEASC\"\n",
    "    elif state in higher_learning_commission:\n",
    "        return \"HLC\"\n",
    "    elif state in northwest_commission:\n",
    "        return \"NWCCU\"\n",
    "    elif state in southern_association:\n",
    "        return \"SACS\"\n",
    "    elif state in western_association:\n",
    "        return \"WASC\"\n",
    "    else:\n",
    "        return \"Messed Up\"\n",
    "    \n",
    "crdc_1516_cleaned['region_accred'] = crdc_1516_cleaned['LEA_STATE'].apply(lambda x: region_mapper(x))"
   ]
  },
  {
   "cell_type": "markdown",
   "metadata": {},
   "source": [
    "** Add Ethnicity Percentage **"
   ]
  },
  {
   "cell_type": "code",
   "execution_count": 29,
   "metadata": {},
   "outputs": [],
   "source": [
    "crdc_1516_cleaned['pct_eth'] = crdc_1516_cleaned['total_nonwhite_enrollment'] / crdc_1516_cleaned['total_enrollment']"
   ]
  },
  {
   "cell_type": "code",
   "execution_count": 30,
   "metadata": {
    "scrolled": true
   },
   "outputs": [
    {
     "data": {
      "text/plain": [
       "Text(0.5,0,'Ethnicity Percentage')"
      ]
     },
     "execution_count": 30,
     "metadata": {},
     "output_type": "execute_result"
    },
    {
     "data": {
      "image/png": "[encoded data removed]",
      "text/plain": [
       "<Figure size 432x288 with 1 Axes>"
      ]
     },
     "metadata": {},
     "output_type": "display_data"
    }
   ],
   "source": [
    "crdc_1516_cleaned.pct_eth.plot.hist(bins=100, xlim = [0,1], edgecolor = 'k')\n",
    "plt.title('Distribution of Schools by Ethnicity Percentages')\n",
    "plt.xlabel('Ethnicity Percentage')\n",
    "# plt.savefig(fname = './Visualizations/By_ethnicity_dist_200.png', dpi = 200)"
   ]
  },
  {
   "cell_type": "markdown",
   "metadata": {},
   "source": [
    "** Add Ethnicity Percentage Quintile **"
   ]
  },
  {
   "cell_type": "code",
   "execution_count": 31,
   "metadata": {},
   "outputs": [],
   "source": [
    "def eth_grouper(pct):\n",
    "    if pct <= .20:\n",
    "        return 1\n",
    "    elif .20 < pct <= .4:\n",
    "        return 2\n",
    "    elif .4 < pct <= 0.6:\n",
    "        return 3\n",
    "    elif .6 < pct <= .8:\n",
    "        return 4\n",
    "    return 5\n",
    "    \n",
    "crdc_1516_cleaned['eth_quintile'] = crdc_1516_cleaned['pct_eth'].apply(lambda pct: eth_grouper(pct))"
   ]
  },
  {
   "cell_type": "markdown",
   "metadata": {},
   "source": [
    "# <font color = green> Filter non-Yes Schools and Examine Characteristics </font>"
   ]
  },
  {
   "cell_type": "code",
   "execution_count": 32,
   "metadata": {},
   "outputs": [],
   "source": [
    "def school_grade_range(df):\n",
    "    \"\"\"Calculates the number of schools in a given DataFrame (df) of a particular distribution of grades:\n",
    "        Example:  If a school (in df) offers grades 9,10,11,12 exclusively, they are placed in the '9-12' \n",
    "                    category. \"\"\"\n",
    "    df_grade_range = []\n",
    "    for index, row in df.iterrows():\n",
    "        grade_range = []\n",
    "\n",
    "        if row.SCH_GRADE_G12 == 'Yes':\n",
    "            grade_range.append(12)\n",
    "        if row.SCH_GRADE_G11 == 'Yes':\n",
    "            grade_range.append(11)\n",
    "        if row.SCH_GRADE_G10 == 'Yes':\n",
    "            grade_range.append(10)\n",
    "        if row.SCH_GRADE_G09 == 'Yes':\n",
    "            grade_range.append(9)\n",
    "        if row.SCH_GRADE_G08 == 'Yes':\n",
    "            grade_range.append(8)\n",
    "        if row.SCH_GRADE_G07 == 'Yes':\n",
    "            grade_range.append(7)\n",
    "        if row.SCH_GRADE_G06 == 'Yes':\n",
    "            grade_range.append(6)\n",
    "        if row.SCH_GRADE_G05 == 'Yes':\n",
    "            grade_range.append(5)\n",
    "        if row.SCH_GRADE_G04 == 'Yes':\n",
    "            grade_range.append(4)\n",
    "        if row.SCH_GRADE_G03 == 'Yes':\n",
    "            grade_range.append(3)\n",
    "        if row.SCH_GRADE_G02 == 'Yes':\n",
    "            grade_range.append(2)\n",
    "        if row.SCH_GRADE_G01 == 'Yes':\n",
    "            grade_range.append(1)\n",
    "        if row.SCH_GRADE_KG == 'Yes':\n",
    "            grade_range.append('kg')\n",
    "        if row.SCH_GRADE_PS == 'Yes':\n",
    "            grade_range.append('pk')\n",
    "        \n",
    "        if grade_range == [12,11,10,9,8,7,6,5,4,3,2,1,'kg','pk']:\n",
    "            df_grade_range.append('pk-12')\n",
    "        elif grade_range == [12,11,10,9,8,7,6,5,4,3,2,1,'kg']:\n",
    "            df_grade_range.append('kg-12')\n",
    "        elif grade_range == [12,11,10,9,8,7,6,5]:\n",
    "            df_grade_range.append('05-12')\n",
    "        elif grade_range == [12,11,10,9,8,7,6]:\n",
    "            df_grade_range.append('06-12')\n",
    "        elif grade_range == [12,11,10,9,8,7]:\n",
    "            df_grade_range.append('07-12')\n",
    "        elif grade_range == [12,11,10,9,8]:\n",
    "            df_grade_range.append('08-12')\n",
    "        elif grade_range == [12,11,10,9]:\n",
    "            df_grade_range.append('09-12')\n",
    "        elif grade_range == [11,10,9]:\n",
    "            df_grade_range.append('09-11')\n",
    "        elif grade_range == [10,9]:\n",
    "            df_grade_range.append('09-10')\n",
    "        elif grade_range == [12,11,10]:\n",
    "            df_grade_range.append('10-12')\n",
    "        elif grade_range == [12,11]:\n",
    "            df_grade_range.append('11-12')\n",
    "        elif grade_range == [9]:\n",
    "            df_grade_range.append('9-only')\n",
    "        elif grade_range == [10]:\n",
    "            df_grade_range.append('10-only')\n",
    "        elif grade_range == [11]:\n",
    "            df_grade_range.append('11-only')\n",
    "        elif grade_range == [12]:\n",
    "            df_grade_range.append('12-only')\n",
    "        else:\n",
    "            df_grade_range.append('other')\n",
    "    return pd.DataFrame(df_grade_range, columns=['grade_range'])"
   ]
  },
  {
   "cell_type": "code",
   "execution_count": 33,
   "metadata": {},
   "outputs": [],
   "source": [
    "def have_gr9_or_younger(df):\n",
    "    \"\"\"Calculates the number of schools in a given DataFrame (df) offer grades of 8th or younger (i.e. non-high school grades)\"\"\"\n",
    "    count = 0\n",
    "    for index, row in df.iterrows():\n",
    "        if row.SCH_GRADE_G08 == 'Yes':\n",
    "            count += 1\n",
    "        elif row.SCH_GRADE_G07 == 'Yes':\n",
    "            count += 1\n",
    "        elif row.SCH_GRADE_G06 == 'Yes':\n",
    "            count += 1\n",
    "        elif row.SCH_GRADE_G05 == 'Yes':\n",
    "            count += 1\n",
    "        elif row.SCH_GRADE_G04 == 'Yes':\n",
    "            count += 1\n",
    "        elif row.SCH_GRADE_G03 == 'Yes':\n",
    "            count += 1\n",
    "        elif row.SCH_GRADE_G02 == 'Yes':\n",
    "            count += 1\n",
    "        elif row.SCH_GRADE_G01 == 'Yes':\n",
    "            count += 1\n",
    "        elif row.SCH_GRADE_KG == 'Yes':\n",
    "            count += 1\n",
    "        elif row.SCH_GRADE_PS == 'Yes':\n",
    "            count += 1\n",
    "    return round(count / len(df),3)"
   ]
  },
  {
   "cell_type": "code",
   "execution_count": 34,
   "metadata": {},
   "outputs": [],
   "source": [
    "def hs_enrollment_averager(df):\n",
    "    \"\"\"Provides a work-around for figuring out the number of high school students in a school that offers grades 8th \n",
    "        or lower.  Scales the total enrollment of each school by the ratio of high school grades offered : total grades\n",
    "        offered\n",
    "        \n",
    "        Takes in a DataFrame and returns a list of 'averaged' enrollments for each school.\"\"\"\n",
    "    hs_enrollment_list = []\n",
    "    for index, row in df.iterrows():\n",
    "        all_count = 0\n",
    "        hs_count = 0\n",
    "        if row.SCH_GRADE_G12 == 'Yes':\n",
    "            hs_count += 1\n",
    "            all_count += 1\n",
    "        if row.SCH_GRADE_G11 == 'Yes':\n",
    "            hs_count += 1\n",
    "            all_count += 1\n",
    "        if row.SCH_GRADE_G10 == 'Yes':\n",
    "            hs_count += 1\n",
    "            all_count += 1\n",
    "        if row.SCH_GRADE_G09 == 'Yes':\n",
    "            hs_count += 1\n",
    "            all_count += 1\n",
    "            \n",
    "        if row.SCH_GRADE_G08 == 'Yes':\n",
    "            all_count += 1\n",
    "        if row.SCH_GRADE_G07 == 'Yes':\n",
    "            all_count += 1\n",
    "        if row.SCH_GRADE_G06 == 'Yes':\n",
    "            all_count += 1\n",
    "        if row.SCH_GRADE_G05 == 'Yes':\n",
    "            all_count += 1\n",
    "        if row.SCH_GRADE_G04 == 'Yes':\n",
    "            all_count += 1\n",
    "        if row.SCH_GRADE_G03 == 'Yes':\n",
    "            all_count += 1\n",
    "        if row.SCH_GRADE_G02 == 'Yes':\n",
    "            all_count += 1\n",
    "        if row.SCH_GRADE_G01 == 'Yes':\n",
    "            all_count += 1\n",
    "        if row.SCH_GRADE_KG == 'Yes':\n",
    "            all_count += 1\n",
    "        if row.SCH_GRADE_PS == 'Yes':\n",
    "            all_count += 1\n",
    "        \n",
    "        if all_count > 0:\n",
    "            hs_ratio = hs_count / all_count\n",
    "            hs_enrollment = int(round(row['total_enrollment'] * hs_ratio, 0))\n",
    "        else:\n",
    "            hs_enrollment = row['total_enrollment']\n",
    "        \n",
    "        hs_enrollment_list.append(hs_enrollment)\n",
    "    return hs_enrollment_list"
   ]
  },
  {
   "cell_type": "markdown",
   "metadata": {},
   "source": [
    "**DE**"
   ]
  },
  {
   "cell_type": "code",
   "execution_count": 36,
   "metadata": {},
   "outputs": [],
   "source": [
    "crdc_1516_deYes = crdc_1516_cleaned[crdc_1516_cleaned.SCH_DUAL_IND == 'Yes']"
   ]
  },
  {
   "cell_type": "code",
   "execution_count": 37,
   "metadata": {},
   "outputs": [
    {
     "data": {
      "text/plain": [
       "13330"
      ]
     },
     "execution_count": 37,
     "metadata": {},
     "output_type": "execute_result"
    }
   ],
   "source": [
    "\"\"\"Number of schools which responded 'Yes' to the DE_Flag \"\"\"\n",
    "len(crdc_1516_deYes)"
   ]
  },
  {
   "cell_type": "code",
   "execution_count": 38,
   "metadata": {},
   "outputs": [
    {
     "data": {
      "text/html": [
       "<div>\n",
       "<style scoped>\n",
       "    .dataframe tbody tr th:only-of-type {\n",
       "        vertical-align: middle;\n",
       "    }\n",
       "\n",
       "    .dataframe tbody tr th {\n",
       "        vertical-align: top;\n",
       "    }\n",
       "\n",
       "    .dataframe thead th {\n",
       "        text-align: right;\n",
       "    }\n",
       "</style>\n",
       "<table border=\"1\" class=\"dataframe\">\n",
       "  <thead>\n",
       "    <tr style=\"text-align: right;\">\n",
       "      <th></th>\n",
       "      <th># schools</th>\n",
       "      <th>pct_of_schools</th>\n",
       "      <th>total_enrollment</th>\n",
       "      <th>pct_of_total_enrollment</th>\n",
       "      <th>de_total_enrollment</th>\n",
       "      <th>pct_of_total_de_enrollment</th>\n",
       "    </tr>\n",
       "    <tr>\n",
       "      <th>index</th>\n",
       "      <th></th>\n",
       "      <th></th>\n",
       "      <th></th>\n",
       "      <th></th>\n",
       "      <th></th>\n",
       "      <th></th>\n",
       "    </tr>\n",
       "  </thead>\n",
       "  <tbody>\n",
       "    <tr>\n",
       "      <th>05-12</th>\n",
       "      <td>28</td>\n",
       "      <td>0.002</td>\n",
       "      <td>15233</td>\n",
       "      <td>0.001</td>\n",
       "      <td>1261</td>\n",
       "      <td>0.001</td>\n",
       "    </tr>\n",
       "    <tr>\n",
       "      <th>06-12</th>\n",
       "      <td>607</td>\n",
       "      <td>0.046</td>\n",
       "      <td>296372</td>\n",
       "      <td>0.026</td>\n",
       "      <td>24309</td>\n",
       "      <td>0.021</td>\n",
       "    </tr>\n",
       "    <tr>\n",
       "      <th>07-12</th>\n",
       "      <td>1659</td>\n",
       "      <td>0.124</td>\n",
       "      <td>574941</td>\n",
       "      <td>0.051</td>\n",
       "      <td>58581</td>\n",
       "      <td>0.051</td>\n",
       "    </tr>\n",
       "    <tr>\n",
       "      <th>08-12</th>\n",
       "      <td>195</td>\n",
       "      <td>0.015</td>\n",
       "      <td>156724</td>\n",
       "      <td>0.014</td>\n",
       "      <td>16287</td>\n",
       "      <td>0.014</td>\n",
       "    </tr>\n",
       "    <tr>\n",
       "      <th>09-11</th>\n",
       "      <td>28</td>\n",
       "      <td>0.002</td>\n",
       "      <td>11536</td>\n",
       "      <td>0.001</td>\n",
       "      <td>1425</td>\n",
       "      <td>0.001</td>\n",
       "    </tr>\n",
       "    <tr>\n",
       "      <th>09-12</th>\n",
       "      <td>9481</td>\n",
       "      <td>0.711</td>\n",
       "      <td>9296851</td>\n",
       "      <td>0.824</td>\n",
       "      <td>953130</td>\n",
       "      <td>0.828</td>\n",
       "    </tr>\n",
       "    <tr>\n",
       "      <th>10-12</th>\n",
       "      <td>232</td>\n",
       "      <td>0.017</td>\n",
       "      <td>263635</td>\n",
       "      <td>0.023</td>\n",
       "      <td>50881</td>\n",
       "      <td>0.044</td>\n",
       "    </tr>\n",
       "    <tr>\n",
       "      <th>11-12</th>\n",
       "      <td>79</td>\n",
       "      <td>0.006</td>\n",
       "      <td>31357</td>\n",
       "      <td>0.003</td>\n",
       "      <td>9095</td>\n",
       "      <td>0.008</td>\n",
       "    </tr>\n",
       "    <tr>\n",
       "      <th>11-only</th>\n",
       "      <td>1</td>\n",
       "      <td>0.000</td>\n",
       "      <td>32</td>\n",
       "      <td>0.000</td>\n",
       "      <td>32</td>\n",
       "      <td>0.000</td>\n",
       "    </tr>\n",
       "    <tr>\n",
       "      <th>12-only</th>\n",
       "      <td>3</td>\n",
       "      <td>0.000</td>\n",
       "      <td>495</td>\n",
       "      <td>0.000</td>\n",
       "      <td>104</td>\n",
       "      <td>0.000</td>\n",
       "    </tr>\n",
       "    <tr>\n",
       "      <th>kg-12</th>\n",
       "      <td>339</td>\n",
       "      <td>0.025</td>\n",
       "      <td>218627</td>\n",
       "      <td>0.019</td>\n",
       "      <td>8217</td>\n",
       "      <td>0.007</td>\n",
       "    </tr>\n",
       "    <tr>\n",
       "      <th>other</th>\n",
       "      <td>242</td>\n",
       "      <td>0.018</td>\n",
       "      <td>243776</td>\n",
       "      <td>0.022</td>\n",
       "      <td>20637</td>\n",
       "      <td>0.018</td>\n",
       "    </tr>\n",
       "    <tr>\n",
       "      <th>pk-12</th>\n",
       "      <td>436</td>\n",
       "      <td>0.033</td>\n",
       "      <td>173724</td>\n",
       "      <td>0.015</td>\n",
       "      <td>7711</td>\n",
       "      <td>0.007</td>\n",
       "    </tr>\n",
       "  </tbody>\n",
       "</table>\n",
       "</div>"
      ],
      "text/plain": [
       "         # schools  pct_of_schools  total_enrollment  pct_of_total_enrollment  \\\n",
       "index                                                                           \n",
       "05-12           28           0.002             15233                    0.001   \n",
       "06-12          607           0.046            296372                    0.026   \n",
       "07-12         1659           0.124            574941                    0.051   \n",
       "08-12          195           0.015            156724                    0.014   \n",
       "09-11           28           0.002             11536                    0.001   \n",
       "09-12         9481           0.711           9296851                    0.824   \n",
       "10-12          232           0.017            263635                    0.023   \n",
       "11-12           79           0.006             31357                    0.003   \n",
       "11-only          1           0.000                32                    0.000   \n",
       "12-only          3           0.000               495                    0.000   \n",
       "kg-12          339           0.025            218627                    0.019   \n",
       "other          242           0.018            243776                    0.022   \n",
       "pk-12          436           0.033            173724                    0.015   \n",
       "\n",
       "         de_total_enrollment  pct_of_total_de_enrollment  \n",
       "index                                                     \n",
       "05-12                   1261                       0.001  \n",
       "06-12                  24309                       0.021  \n",
       "07-12                  58581                       0.051  \n",
       "08-12                  16287                       0.014  \n",
       "09-11                   1425                       0.001  \n",
       "09-12                 953130                       0.828  \n",
       "10-12                  50881                       0.044  \n",
       "11-12                   9095                       0.008  \n",
       "11-only                   32                       0.000  \n",
       "12-only                  104                       0.000  \n",
       "kg-12                   8217                       0.007  \n",
       "other                  20637                       0.018  \n",
       "pk-12                   7711                       0.007  "
      ]
     },
     "execution_count": 38,
     "metadata": {},
     "output_type": "execute_result"
    }
   ],
   "source": [
    "\"\"\"Grade Ranges for Schools with DE Students\"\"\"\n",
    "deYes_grade_range_list = school_grade_range(crdc_1516_deYes).join(crdc_1516_deYes[['total_enrollment', 'de_total_enrollment']].reset_index(drop = True), how = 'outer')\n",
    "\n",
    "deYes_grade_range_dist = deYes_grade_range_list['grade_range'].value_counts().reset_index().sort_values('index').set_index('index')\n",
    "deYes_grade_range_dist['pct_of_schools'] = round(deYes_grade_range_dist['grade_range'] / len(deYes_grade_range_list), 3)\n",
    "\n",
    "deYes_grade_range_enrollments = pd.DataFrame(deYes_grade_range_list.groupby('grade_range')['total_enrollment'].sum())\n",
    "deYes_grade_range_enrollments['pct_of_total_enrollment'] = round(deYes_grade_range_enrollments['total_enrollment'] / crdc_1516_deYes['total_enrollment'].sum(), 3)\n",
    "\n",
    "deYes_grade_range_de_enrollments = pd.DataFrame(deYes_grade_range_list.groupby('grade_range')['de_total_enrollment'].sum())\n",
    "deYes_grade_range_de_enrollments['pct_of_total_de_enrollment'] = round(deYes_grade_range_de_enrollments['de_total_enrollment'] / crdc_1516_deYes['de_total_enrollment'].sum(), 3)\n",
    "\n",
    "deYes_grade_range_dist.join(deYes_grade_range_enrollments).join(deYes_grade_range_de_enrollments).rename({'grade_range': '# schools'}, axis = 1)"
   ]
  },
  {
   "cell_type": "code",
   "execution_count": 39,
   "metadata": {},
   "outputs": [
    {
     "data": {
      "text/plain": [
       "0.263"
      ]
     },
     "execution_count": 39,
     "metadata": {},
     "output_type": "execute_result"
    }
   ],
   "source": [
    "\"\"\"What portion of schools that offer DE have grades of 8th or younger?  This is important when considering\n",
    "    total enrollment of these schools, as only students in grades 9+ will be taking DE or AP Classes\"\"\"\n",
    "have_gr9_or_younger(crdc_1516_deYes)"
   ]
  },
  {
   "cell_type": "code",
   "execution_count": 40,
   "metadata": {},
   "outputs": [
    {
     "data": {
      "text/plain": [
       "1151670"
      ]
     },
     "metadata": {},
     "output_type": "display_data"
    },
    {
     "data": {
      "text/plain": [
       "1151670"
      ]
     },
     "execution_count": 40,
     "metadata": {},
     "output_type": "execute_result"
    }
   ],
   "source": [
    "de_total_enrollment = crdc_1516_deYes['de_total_enrollment'].sum()\n",
    "display(de_total_enrollment)\n",
    "crdc_1516_cleaned['de_total_enrollment'].sum()"
   ]
  },
  {
   "cell_type": "code",
   "execution_count": 116,
   "metadata": {},
   "outputs": [
    {
     "data": {
      "text/plain": [
       "13238    0\n",
       "6532     0\n",
       "2873     0\n",
       "13368    0\n",
       "13369    0\n",
       "14959    0\n",
       "16187    0\n",
       "16188    0\n",
       "13370    0\n",
       "6531     0\n",
       "16189    0\n",
       "13372    0\n",
       "14908    0\n",
       "9618     0\n",
       "9620     0\n",
       "9622     0\n",
       "13367    0\n",
       "1811     0\n",
       "16186    0\n",
       "16184    0\n",
       "9448     0\n",
       "9451     0\n",
       "2796     0\n",
       "2803     0\n",
       "15067    0\n",
       "7271     0\n",
       "9491     0\n",
       "16169    0\n",
       "16175    0\n",
       "16180    0\n",
       "        ..\n",
       "10268    0\n",
       "10270    0\n",
       "10265    0\n",
       "10264    0\n",
       "10266    0\n",
       "5133     0\n",
       "8180     0\n",
       "1547     0\n",
       "10263    0\n",
       "8212     0\n",
       "1513     0\n",
       "10202    0\n",
       "16764    2\n",
       "6309     2\n",
       "2140     2\n",
       "3796     2\n",
       "1027     2\n",
       "7713     2\n",
       "2113     2\n",
       "1150     2\n",
       "16808    2\n",
       "5792     2\n",
       "13119    2\n",
       "6340     2\n",
       "7742     2\n",
       "2110     2\n",
       "8782     2\n",
       "16730    2\n",
       "16737    2\n",
       "3761     2\n",
       "Name: de_total_enrollment, Length: 275, dtype: int64"
      ]
     },
     "execution_count": 116,
     "metadata": {},
     "output_type": "execute_result"
    }
   ],
   "source": [
    "crdc_1516_deYes.sort_values('de_total_enrollment', ascending=True)['de_total_enrollment'].head(275)"
   ]
  },
  {
   "cell_type": "markdown",
   "metadata": {},
   "source": [
    "** AP **"
   ]
  },
  {
   "cell_type": "code",
   "execution_count": 41,
   "metadata": {},
   "outputs": [],
   "source": [
    "crdc_1516_apYes = crdc_1516_cleaned[crdc_1516_cleaned.SCH_APENR_IND == 'Yes']"
   ]
  },
  {
   "cell_type": "code",
   "execution_count": 42,
   "metadata": {},
   "outputs": [
    {
     "data": {
      "text/plain": [
       "12756"
      ]
     },
     "execution_count": 42,
     "metadata": {},
     "output_type": "execute_result"
    }
   ],
   "source": [
    "\"\"\"Number of schools which responded 'Yes' to the AP_Flag \"\"\"\n",
    "len(crdc_1516_apYes)"
   ]
  },
  {
   "cell_type": "code",
   "execution_count": 43,
   "metadata": {},
   "outputs": [
    {
     "data": {
      "text/html": [
       "<div>\n",
       "<style scoped>\n",
       "    .dataframe tbody tr th:only-of-type {\n",
       "        vertical-align: middle;\n",
       "    }\n",
       "\n",
       "    .dataframe tbody tr th {\n",
       "        vertical-align: top;\n",
       "    }\n",
       "\n",
       "    .dataframe thead th {\n",
       "        text-align: right;\n",
       "    }\n",
       "</style>\n",
       "<table border=\"1\" class=\"dataframe\">\n",
       "  <thead>\n",
       "    <tr style=\"text-align: right;\">\n",
       "      <th></th>\n",
       "      <th># schools</th>\n",
       "      <th>pct_of_schools</th>\n",
       "      <th>total_enrollment</th>\n",
       "      <th>pct_of_total_enrollment</th>\n",
       "      <th>ap_total_enrollment</th>\n",
       "      <th>pct_of_total_ap_enrollment</th>\n",
       "    </tr>\n",
       "    <tr>\n",
       "      <th>index</th>\n",
       "      <th></th>\n",
       "      <th></th>\n",
       "      <th></th>\n",
       "      <th></th>\n",
       "      <th></th>\n",
       "      <th></th>\n",
       "    </tr>\n",
       "  </thead>\n",
       "  <tbody>\n",
       "    <tr>\n",
       "      <th>05-12</th>\n",
       "      <td>41</td>\n",
       "      <td>0.003</td>\n",
       "      <td>28091</td>\n",
       "      <td>0.002</td>\n",
       "      <td>4272</td>\n",
       "      <td>0.002</td>\n",
       "    </tr>\n",
       "    <tr>\n",
       "      <th>06-12</th>\n",
       "      <td>543</td>\n",
       "      <td>0.043</td>\n",
       "      <td>335531</td>\n",
       "      <td>0.025</td>\n",
       "      <td>48501</td>\n",
       "      <td>0.018</td>\n",
       "    </tr>\n",
       "    <tr>\n",
       "      <th>07-12</th>\n",
       "      <td>978</td>\n",
       "      <td>0.077</td>\n",
       "      <td>509683</td>\n",
       "      <td>0.038</td>\n",
       "      <td>67422</td>\n",
       "      <td>0.024</td>\n",
       "    </tr>\n",
       "    <tr>\n",
       "      <th>08-12</th>\n",
       "      <td>198</td>\n",
       "      <td>0.016</td>\n",
       "      <td>190004</td>\n",
       "      <td>0.014</td>\n",
       "      <td>29903</td>\n",
       "      <td>0.011</td>\n",
       "    </tr>\n",
       "    <tr>\n",
       "      <th>09-11</th>\n",
       "      <td>40</td>\n",
       "      <td>0.003</td>\n",
       "      <td>17514</td>\n",
       "      <td>0.001</td>\n",
       "      <td>4402</td>\n",
       "      <td>0.002</td>\n",
       "    </tr>\n",
       "    <tr>\n",
       "      <th>09-12</th>\n",
       "      <td>10088</td>\n",
       "      <td>0.791</td>\n",
       "      <td>11373896</td>\n",
       "      <td>0.851</td>\n",
       "      <td>2451047</td>\n",
       "      <td>0.888</td>\n",
       "    </tr>\n",
       "    <tr>\n",
       "      <th>10-12</th>\n",
       "      <td>230</td>\n",
       "      <td>0.018</td>\n",
       "      <td>297603</td>\n",
       "      <td>0.022</td>\n",
       "      <td>78824</td>\n",
       "      <td>0.029</td>\n",
       "    </tr>\n",
       "    <tr>\n",
       "      <th>11-12</th>\n",
       "      <td>33</td>\n",
       "      <td>0.003</td>\n",
       "      <td>17628</td>\n",
       "      <td>0.001</td>\n",
       "      <td>7692</td>\n",
       "      <td>0.003</td>\n",
       "    </tr>\n",
       "    <tr>\n",
       "      <th>12-only</th>\n",
       "      <td>1</td>\n",
       "      <td>0.000</td>\n",
       "      <td>391</td>\n",
       "      <td>0.000</td>\n",
       "      <td>36</td>\n",
       "      <td>0.000</td>\n",
       "    </tr>\n",
       "    <tr>\n",
       "      <th>kg-12</th>\n",
       "      <td>225</td>\n",
       "      <td>0.018</td>\n",
       "      <td>229713</td>\n",
       "      <td>0.017</td>\n",
       "      <td>14722</td>\n",
       "      <td>0.005</td>\n",
       "    </tr>\n",
       "    <tr>\n",
       "      <th>other</th>\n",
       "      <td>226</td>\n",
       "      <td>0.018</td>\n",
       "      <td>280160</td>\n",
       "      <td>0.021</td>\n",
       "      <td>47807</td>\n",
       "      <td>0.017</td>\n",
       "    </tr>\n",
       "    <tr>\n",
       "      <th>pk-12</th>\n",
       "      <td>153</td>\n",
       "      <td>0.012</td>\n",
       "      <td>80207</td>\n",
       "      <td>0.006</td>\n",
       "      <td>4179</td>\n",
       "      <td>0.002</td>\n",
       "    </tr>\n",
       "  </tbody>\n",
       "</table>\n",
       "</div>"
      ],
      "text/plain": [
       "         # schools  pct_of_schools  total_enrollment  pct_of_total_enrollment  \\\n",
       "index                                                                           \n",
       "05-12           41           0.003             28091                    0.002   \n",
       "06-12          543           0.043            335531                    0.025   \n",
       "07-12          978           0.077            509683                    0.038   \n",
       "08-12          198           0.016            190004                    0.014   \n",
       "09-11           40           0.003             17514                    0.001   \n",
       "09-12        10088           0.791          11373896                    0.851   \n",
       "10-12          230           0.018            297603                    0.022   \n",
       "11-12           33           0.003             17628                    0.001   \n",
       "12-only          1           0.000               391                    0.000   \n",
       "kg-12          225           0.018            229713                    0.017   \n",
       "other          226           0.018            280160                    0.021   \n",
       "pk-12          153           0.012             80207                    0.006   \n",
       "\n",
       "         ap_total_enrollment  pct_of_total_ap_enrollment  \n",
       "index                                                     \n",
       "05-12                   4272                       0.002  \n",
       "06-12                  48501                       0.018  \n",
       "07-12                  67422                       0.024  \n",
       "08-12                  29903                       0.011  \n",
       "09-11                   4402                       0.002  \n",
       "09-12                2451047                       0.888  \n",
       "10-12                  78824                       0.029  \n",
       "11-12                   7692                       0.003  \n",
       "12-only                   36                       0.000  \n",
       "kg-12                  14722                       0.005  \n",
       "other                  47807                       0.017  \n",
       "pk-12                   4179                       0.002  "
      ]
     },
     "execution_count": 43,
     "metadata": {},
     "output_type": "execute_result"
    }
   ],
   "source": [
    "\"\"\"Grade Ranges for Schools with AP Students\"\"\"\n",
    "apYes_grade_range_list = school_grade_range(crdc_1516_apYes).join(crdc_1516_apYes[['total_enrollment', 'ap_total_enrollment']].reset_index(drop = True), how = 'outer')\n",
    "\n",
    "apYes_grade_range_dist = apYes_grade_range_list['grade_range'].value_counts().reset_index().sort_values('index').set_index('index')\n",
    "apYes_grade_range_dist['pct_of_schools'] = round(apYes_grade_range_dist['grade_range'] / len(apYes_grade_range_list), 3)\n",
    "\n",
    "apYes_grade_range_enrollments = pd.DataFrame(apYes_grade_range_list.groupby('grade_range')['total_enrollment'].sum())\n",
    "apYes_grade_range_enrollments['pct_of_total_enrollment'] = round(apYes_grade_range_enrollments['total_enrollment'] / crdc_1516_apYes['total_enrollment'].sum(), 3)\n",
    "\n",
    "apYes_grade_range_ap_enrollments = pd.DataFrame(apYes_grade_range_list.groupby('grade_range')['ap_total_enrollment'].sum())\n",
    "apYes_grade_range_ap_enrollments['pct_of_total_ap_enrollment'] = round(apYes_grade_range_ap_enrollments['ap_total_enrollment'] / crdc_1516_apYes['ap_total_enrollment'].sum(), 3)\n",
    "\n",
    "apYes_grade_range_dist.join(apYes_grade_range_enrollments).join(apYes_grade_range_ap_enrollments).rename({'grade_range': '# schools'}, axis = 1)"
   ]
  },
  {
   "cell_type": "code",
   "execution_count": 44,
   "metadata": {},
   "outputs": [
    {
     "data": {
      "text/plain": [
       "0.185"
      ]
     },
     "execution_count": 44,
     "metadata": {},
     "output_type": "execute_result"
    }
   ],
   "source": [
    "\"\"\"What portion of schools that offer AP have grades of 8th or younger?  This is important when considering\n",
    "    total enrollment of these schools, as only students in grades 9+ will be taking DE or AP Classes\"\"\"\n",
    "have_gr9_or_younger(crdc_1516_apYes)"
   ]
  },
  {
   "cell_type": "code",
   "execution_count": 45,
   "metadata": {},
   "outputs": [
    {
     "data": {
      "text/plain": [
       "2758807"
      ]
     },
     "metadata": {},
     "output_type": "display_data"
    },
    {
     "data": {
      "text/plain": [
       "2758807"
      ]
     },
     "execution_count": 45,
     "metadata": {},
     "output_type": "execute_result"
    }
   ],
   "source": [
    "ap_total_enrollment = crdc_1516_apYes['ap_total_enrollment'].sum()\n",
    "display(ap_total_enrollment)\n",
    "crdc_1516_cleaned['ap_total_enrollment'].sum()"
   ]
  },
  {
   "cell_type": "markdown",
   "metadata": {},
   "source": [
    "# <font color = green> Analysis </font>"
   ]
  },
  {
   "cell_type": "markdown",
   "metadata": {},
   "source": [
    "# I. Overall "
   ]
  },
  {
   "cell_type": "markdown",
   "metadata": {},
   "source": [
    "** Total Enrollment in all schools **"
   ]
  },
  {
   "cell_type": "code",
   "execution_count": 46,
   "metadata": {},
   "outputs": [
    {
     "data": {
      "text/plain": [
       "'15,127,325'"
      ]
     },
     "execution_count": 46,
     "metadata": {},
     "output_type": "execute_result"
    }
   ],
   "source": [
    "format(crdc_1516_cleaned['total_enrollment'].sum(), ',d')"
   ]
  },
  {
   "cell_type": "code",
   "execution_count": 47,
   "metadata": {},
   "outputs": [
    {
     "data": {
      "text/plain": [
       "'14,070,009 total high school students in all schools by averaging Total Enrollments'"
      ]
     },
     "execution_count": 47,
     "metadata": {},
     "output_type": "execute_result"
    }
   ],
   "source": [
    "\"Total High School Enrollment BASED ON AVERAGING THE CRDC GRADE COLUMNS AGAINST ACTUAL TOTAL ENROLLMENT\"\n",
    "crdc_1516_cleaned_hs_enroll = hs_enrollment_averager(crdc_1516_cleaned)\n",
    "format(sum(crdc_1516_cleaned_hs_enroll), ',d') + ' total high school students in all schools by averaging Total Enrollments'"
   ]
  },
  {
   "cell_type": "markdown",
   "metadata": {},
   "source": [
    "**Total Enrollment in DE-offering schools**"
   ]
  },
  {
   "cell_type": "code",
   "execution_count": 48,
   "metadata": {},
   "outputs": [
    {
     "data": {
      "text/plain": [
       "'11,283,303 total students in schools offering DE'"
      ]
     },
     "execution_count": 48,
     "metadata": {},
     "output_type": "execute_result"
    }
   ],
   "source": [
    "deOffering_total_enrollment = crdc_1516_deYes['total_enrollment'].sum()\n",
    "format(deOffering_total_enrollment, ',d') + ' total students in schools offering DE'"
   ]
  },
  {
   "cell_type": "code",
   "execution_count": 49,
   "metadata": {},
   "outputs": [
    {
     "data": {
      "text/plain": [
       "'10,581,037 total students in schools offering DE by averaging Total Enrollments'"
      ]
     },
     "execution_count": 49,
     "metadata": {},
     "output_type": "execute_result"
    }
   ],
   "source": [
    "\"Total High School Enrollment BASED ON AVERAGING THE CRDC GRADE COLUMNS AGAINST ACTUAL TOTAL ENROLLMENT\"\n",
    "crdc_1516_deYes_hs_enroll = hs_enrollment_averager(crdc_1516_deYes)\n",
    "format(sum(crdc_1516_deYes_hs_enroll), ',d') + ' total students in schools offering DE by averaging Total Enrollments'"
   ]
  },
  {
   "cell_type": "markdown",
   "metadata": {},
   "source": [
    "**Total Enrollment in AP-offering schools**"
   ]
  },
  {
   "cell_type": "code",
   "execution_count": 50,
   "metadata": {},
   "outputs": [
    {
     "data": {
      "text/plain": [
       "'13,360,421 total students in schools offering AP'"
      ]
     },
     "execution_count": 50,
     "metadata": {},
     "output_type": "execute_result"
    }
   ],
   "source": [
    "apOffering_total_enrollment = crdc_1516_apYes['total_enrollment'].sum()\n",
    "format(apOffering_total_enrollment, ',d') + ' total students in schools offering AP'"
   ]
  },
  {
   "cell_type": "code",
   "execution_count": 51,
   "metadata": {},
   "outputs": [
    {
     "data": {
      "text/plain": [
       "'12,694,370 total students in schools offering AP by averaging Total Enrollments'"
      ]
     },
     "execution_count": 51,
     "metadata": {},
     "output_type": "execute_result"
    }
   ],
   "source": [
    "\"Total High School Enrollment BASED ON AVERAGING THE CRDC GRADE COLUMNS AGAINST ACTUAL TOTAL ENROLLMENT\"\n",
    "crdc_1516_apYes_hs_enroll = hs_enrollment_averager(crdc_1516_apYes)\n",
    "format(sum(crdc_1516_apYes_hs_enroll), ',d') + ' total students in schools offering AP by averaging Total Enrollments'"
   ]
  },
  {
   "cell_type": "markdown",
   "metadata": {},
   "source": [
    "## II. By Gender"
   ]
  },
  {
   "cell_type": "markdown",
   "metadata": {},
   "source": [
    "** DE-enrolled **"
   ]
  },
  {
   "cell_type": "code",
   "execution_count": 52,
   "metadata": {},
   "outputs": [
    {
     "name": "stdout",
     "output_type": "stream",
     "text": [
      "Male: 523571  ( 0.455 )\n",
      "Female:  628099  ( 0.545 )\n"
     ]
    }
   ],
   "source": [
    "total_dualEnr_m = crdc_1516_deYes['TOT_DUALENR_M'].sum()\n",
    "total_dualEnr_f = crdc_1516_deYes['TOT_DUALENR_F'].sum()\n",
    "de_pct_m = round(total_dualEnr_m / (de_total_enrollment), 3)\n",
    "de_pct_f = round(total_dualEnr_f / (de_total_enrollment), 3)\n",
    "print('Male:', total_dualEnr_m, ' (', de_pct_m, ')')\n",
    "print('Female: ', total_dualEnr_f, ' (', de_pct_f, ')')"
   ]
  },
  {
   "cell_type": "markdown",
   "metadata": {},
   "source": [
    "** AP-enrolled **"
   ]
  },
  {
   "cell_type": "code",
   "execution_count": 53,
   "metadata": {},
   "outputs": [
    {
     "name": "stdout",
     "output_type": "stream",
     "text": [
      "Male: 1207670  ( 0.438 )\n",
      "Female:  1551137  ( 0.562 )\n"
     ]
    }
   ],
   "source": [
    "total_apEnr_m = crdc_1516_apYes['TOT_APENR_M'].sum()\n",
    "total_apEnr_f = crdc_1516_apYes['TOT_APENR_F'].sum()\n",
    "ap_pct_m = round(total_apEnr_m / (ap_total_enrollment), 3)\n",
    "ap_pct_f = round(total_apEnr_f / (ap_total_enrollment), 3)\n",
    "print('Male:', total_apEnr_m, ' (', ap_pct_m, ')')\n",
    "print('Female: ', total_apEnr_f, ' (', ap_pct_f, ')')"
   ]
  },
  {
   "cell_type": "markdown",
   "metadata": {},
   "source": [
    "**Totals in DE-Offering Schools**"
   ]
  },
  {
   "cell_type": "code",
   "execution_count": 54,
   "metadata": {},
   "outputs": [
    {
     "name": "stdout",
     "output_type": "stream",
     "text": [
      "Male: 5753969  ( 0.51 )\n",
      "Female:  5529334  ( 0.49 )\n"
     ]
    }
   ],
   "source": [
    "total_enr_deOffering_m = crdc_1516_deYes['TOT_ENR_M'].sum()\n",
    "total_enr_deOffering_f = crdc_1516_deYes['TOT_ENR_F'].sum()\n",
    "deOffering_pct_m = round(total_enr_deOffering_m / (deOffering_total_enrollment), 3)\n",
    "deOffering_pct_f = round(total_enr_deOffering_f / (deOffering_total_enrollment), 3)\n",
    "print('Male:', total_enr_deOffering_m, ' (', deOffering_pct_m, ')')\n",
    "print('Female: ', total_enr_deOffering_f, ' (', deOffering_pct_f, ')')"
   ]
  },
  {
   "cell_type": "markdown",
   "metadata": {},
   "source": [
    "**Totals in AP-Offering Schools**"
   ]
  },
  {
   "cell_type": "code",
   "execution_count": 55,
   "metadata": {},
   "outputs": [
    {
     "name": "stdout",
     "output_type": "stream",
     "text": [
      "Male: 6804406  ( 0.509 )\n",
      "Female:  6556015  ( 0.491 )\n"
     ]
    }
   ],
   "source": [
    "total_enr_apOffering_m = crdc_1516_apYes['TOT_ENR_M'].sum()\n",
    "total_enr_apOffering_f = crdc_1516_apYes['TOT_ENR_F'].sum()\n",
    "apOffering_pct_m = round(total_enr_apOffering_m / (apOffering_total_enrollment), 3)\n",
    "apOffering_pct_f = round(total_enr_apOffering_f / (apOffering_total_enrollment), 3)\n",
    "print('Male:', total_enr_apOffering_m, ' (', apOffering_pct_m, ')')\n",
    "print('Female: ', total_enr_apOffering_f, ' (', apOffering_pct_f, ')')"
   ]
  },
  {
   "cell_type": "markdown",
   "metadata": {},
   "source": [
    "**Visualizing the differences**"
   ]
  },
  {
   "cell_type": "code",
   "execution_count": 56,
   "metadata": {},
   "outputs": [
    {
     "name": "stdout",
     "output_type": "stream",
     "text": [
      "Females make up 49.0% of the total enrollment of schools that offer DE-courses, but make up 54.5% of the total DE enrollment.\n"
     ]
    }
   ],
   "source": [
    "print('Females make up ' + str(deOffering_pct_f * 100) + '% ' + \n",
    "      'of the total enrollment of schools that offer DE-courses, but make up ' + str(round(de_pct_f * 100,1)) + '% ' +\n",
    "      'of the total DE enrollment.')"
   ]
  },
  {
   "cell_type": "code",
   "execution_count": 57,
   "metadata": {},
   "outputs": [
    {
     "name": "stdout",
     "output_type": "stream",
     "text": [
      "Females make up 49.1% of the total enrollment of schools that offer AP-courses, but make up 56.2% of the total AP enrollment.\n"
     ]
    }
   ],
   "source": [
    "print('Females make up ' + str(apOffering_pct_f * 100) + '% ' + \n",
    "      'of the total enrollment of schools that offer AP-courses, but make up ' + str(ap_pct_f * 100) + '% ' +\n",
    "      'of the total AP enrollment.')"
   ]
  },
  {
   "cell_type": "markdown",
   "metadata": {},
   "source": [
    "## III. By Race"
   ]
  },
  {
   "cell_type": "markdown",
   "metadata": {},
   "source": [
    "** DE **"
   ]
  },
  {
   "cell_type": "code",
   "execution_count": 58,
   "metadata": {},
   "outputs": [
    {
     "name": "stdout",
     "output_type": "stream",
     "text": [
      "Hispanic: 192056  ( 0.167 )\n",
      "American Indian/Alaska Native: 10988  ( 0.01 )\n",
      "Asian: 58500  ( 0.051 )\n",
      "Black: 101717  ( 0.088 )\n",
      "Native Hawaiian/Pacific Islander: 4084  ( 0.004 )\n",
      "Two or More Races: 30881  ( 0.027 )\n",
      "White: 753444  ( 0.654 )\n"
     ]
    }
   ],
   "source": [
    "total_dualEnr_hi = crdc_1516_deYes['de_hi_enrollment'].sum()\n",
    "total_dualEnr_am = crdc_1516_deYes['de_am_enrollment'].sum()\n",
    "total_dualEnr_as = crdc_1516_deYes['de_as_enrollment'].sum()\n",
    "total_dualEnr_bl = crdc_1516_deYes['de_bl_enrollment'].sum()\n",
    "total_dualEnr_hp = crdc_1516_deYes['de_hp_enrollment'].sum()\n",
    "total_dualEnr_tr = crdc_1516_deYes['de_tr_enrollment'].sum()\n",
    "total_dualEnr_wh = crdc_1516_deYes['de_white_enrollment'].sum()\n",
    "\n",
    "de_pct_hi = round(total_dualEnr_hi / (de_total_enrollment), 3)\n",
    "de_pct_am = round(total_dualEnr_am / (de_total_enrollment), 3)\n",
    "de_pct_as = round(total_dualEnr_as / (de_total_enrollment), 3)\n",
    "de_pct_bl = round(total_dualEnr_bl / (de_total_enrollment), 3)\n",
    "de_pct_hp = round(total_dualEnr_hp / (de_total_enrollment), 3)\n",
    "de_pct_tr = round(total_dualEnr_tr / (de_total_enrollment), 3)\n",
    "de_pct_wh = round(total_dualEnr_wh / (de_total_enrollment), 3)\n",
    "\n",
    "\n",
    "print('Hispanic:', total_dualEnr_hi, ' (', de_pct_hi, ')')\n",
    "print('American Indian/Alaska Native:', total_dualEnr_am, ' (', de_pct_am, ')')\n",
    "print('Asian:', total_dualEnr_as, ' (', de_pct_as, ')')\n",
    "print('Black:', total_dualEnr_bl, ' (', de_pct_bl, ')')\n",
    "print('Native Hawaiian/Pacific Islander:', total_dualEnr_hp, ' (', de_pct_hp, ')')\n",
    "print('Two or More Races:', total_dualEnr_tr, ' (', de_pct_tr, ')')\n",
    "print('White:', total_dualEnr_wh, ' (', de_pct_wh, ')')\n"
   ]
  },
  {
   "cell_type": "markdown",
   "metadata": {},
   "source": [
    "** AP **"
   ]
  },
  {
   "cell_type": "code",
   "execution_count": 59,
   "metadata": {},
   "outputs": [
    {
     "name": "stdout",
     "output_type": "stream",
     "text": [
      "Hispanic: 587513  ( 0.213 )\n",
      "American Indian/Alaska Native: 17208  ( 0.006 )\n",
      "Asian: 293848  ( 0.107 )\n",
      "Black: 260041  ( 0.094 )\n",
      "Native Hawaiian/Pacific Islanapr: 9870  ( 0.004 )\n",
      "Two or More Races: 80506  ( 0.029 )\n",
      "White: 1509821  ( 0.547 )\n"
     ]
    }
   ],
   "source": [
    "total_apEnr_hi = crdc_1516_apYes['ap_hi_enrollment'].sum()\n",
    "total_apEnr_am = crdc_1516_apYes['ap_am_enrollment'].sum()\n",
    "total_apEnr_as = crdc_1516_apYes['ap_as_enrollment'].sum()\n",
    "total_apEnr_bl = crdc_1516_apYes['ap_bl_enrollment'].sum()\n",
    "total_apEnr_hp = crdc_1516_apYes['ap_hp_enrollment'].sum()\n",
    "total_apEnr_tr = crdc_1516_apYes['ap_tr_enrollment'].sum()\n",
    "total_apEnr_wh = crdc_1516_apYes['ap_white_enrollment'].sum()\n",
    "\n",
    "ap_pct_hi = round(total_apEnr_hi / (ap_total_enrollment), 3)\n",
    "ap_pct_am = round(total_apEnr_am / (ap_total_enrollment), 3)\n",
    "ap_pct_as = round(total_apEnr_as / (ap_total_enrollment), 3)\n",
    "ap_pct_bl = round(total_apEnr_bl / (ap_total_enrollment), 3)\n",
    "ap_pct_hp = round(total_apEnr_hp / (ap_total_enrollment), 3)\n",
    "ap_pct_tr = round(total_apEnr_tr / (ap_total_enrollment), 3)\n",
    "ap_pct_wh = round(total_apEnr_wh / (ap_total_enrollment), 3)\n",
    "\n",
    "\n",
    "print('Hispanic:', total_apEnr_hi, ' (', ap_pct_hi, ')')\n",
    "print('American Indian/Alaska Native:', total_apEnr_am, ' (', ap_pct_am, ')')\n",
    "print('Asian:', total_apEnr_as, ' (', ap_pct_as, ')')\n",
    "print('Black:', total_apEnr_bl, ' (', ap_pct_bl, ')')\n",
    "print('Native Hawaiian/Pacific Islanapr:', total_apEnr_hp, ' (', ap_pct_hp, ')')\n",
    "print('Two or More Races:', total_apEnr_tr, ' (', ap_pct_tr, ')')\n",
    "print('White:', total_apEnr_wh, ' (', ap_pct_wh, ')')\n"
   ]
  },
  {
   "cell_type": "markdown",
   "metadata": {},
   "source": [
    "**Totals in DE-Offering Schools**"
   ]
  },
  {
   "cell_type": "code",
   "execution_count": 60,
   "metadata": {},
   "outputs": [
    {
     "name": "stdout",
     "output_type": "stream",
     "text": [
      "Hispanic: 2376532  ( 0.211 )\n",
      "American Indian/Alaska Native: 117600  ( 0.01 )\n",
      "Asian: 503374  ( 0.045 )\n",
      "Black: 1717365  ( 0.152 )\n",
      "Native Hawaiian/Pacific Islander: 47412  ( 0.004 )\n",
      "Two or More Races: 316210  ( 0.028 )\n",
      "White: 6204810  ( 0.55 )\n"
     ]
    }
   ],
   "source": [
    "total_enr_deOffering_hi = crdc_1516_deYes['total_hi_enrollment'].sum()\n",
    "total_enr_deOffering_am = crdc_1516_deYes['total_am_enrollment'].sum()\n",
    "total_enr_deOffering_as = crdc_1516_deYes['total_as_enrollment'].sum()\n",
    "total_enr_deOffering_bl = crdc_1516_deYes['total_bl_enrollment'].sum()\n",
    "total_enr_deOffering_hp = crdc_1516_deYes['total_hp_enrollment'].sum()\n",
    "total_enr_deOffering_tr = crdc_1516_deYes['total_tr_enrollment'].sum()\n",
    "total_enr_deOffering_wh = crdc_1516_deYes['total_white_enrollment'].sum()\n",
    "\n",
    "deOffering_pct_hi = round(total_enr_deOffering_hi / (deOffering_total_enrollment), 3)\n",
    "deOffering_pct_am = round(total_enr_deOffering_am / (deOffering_total_enrollment), 3)\n",
    "deOffering_pct_as = round(total_enr_deOffering_as / (deOffering_total_enrollment), 3)\n",
    "deOffering_pct_bl = round(total_enr_deOffering_bl / (deOffering_total_enrollment), 3)\n",
    "deOffering_pct_hp = round(total_enr_deOffering_hp / (deOffering_total_enrollment), 3)\n",
    "deOffering_pct_tr = round(total_enr_deOffering_tr / (deOffering_total_enrollment), 3)\n",
    "deOffering_pct_wh = round(total_enr_deOffering_wh / (deOffering_total_enrollment), 3)\n",
    "\n",
    "print('Hispanic:', total_enr_deOffering_hi, ' (', deOffering_pct_hi, ')')\n",
    "print('American Indian/Alaska Native:', total_enr_deOffering_am, ' (', deOffering_pct_am, ')')\n",
    "print('Asian:', total_enr_deOffering_as, ' (', deOffering_pct_as, ')')\n",
    "print('Black:', total_enr_deOffering_bl, ' (', deOffering_pct_bl, ')')\n",
    "print('Native Hawaiian/Pacific Islander:', total_enr_deOffering_hp, ' (', deOffering_pct_hp, ')')\n",
    "print('Two or More Races:', total_enr_deOffering_tr, ' (', deOffering_pct_tr, ')')\n",
    "print('White:', total_enr_deOffering_wh, ' (', deOffering_pct_wh, ')')"
   ]
  },
  {
   "cell_type": "markdown",
   "metadata": {},
   "source": [
    "**Totals in AP-Offering Schools**"
   ]
  },
  {
   "cell_type": "code",
   "execution_count": 61,
   "metadata": {},
   "outputs": [
    {
     "name": "stdout",
     "output_type": "stream",
     "text": [
      "Hispanic: 3266432  ( 0.244 )\n",
      "American Indian/Alaska Native: 116718  ( 0.009 )\n",
      "Asian: 730044  ( 0.055 )\n",
      "Black: 2046870  ( 0.153 )\n",
      "Native Hawaiian/Pacific Islanapr: 57372  ( 0.004 )\n",
      "Two or More Races: 379804  ( 0.028 )\n",
      "White: 6763181  ( 0.506 )\n"
     ]
    }
   ],
   "source": [
    "total_enr_apOffering_hi = crdc_1516_apYes['total_hi_enrollment'].sum()\n",
    "total_enr_apOffering_am = crdc_1516_apYes['total_am_enrollment'].sum()\n",
    "total_enr_apOffering_as = crdc_1516_apYes['total_as_enrollment'].sum()\n",
    "total_enr_apOffering_bl = crdc_1516_apYes['total_bl_enrollment'].sum()\n",
    "total_enr_apOffering_hp = crdc_1516_apYes['total_hp_enrollment'].sum()\n",
    "total_enr_apOffering_tr = crdc_1516_apYes['total_tr_enrollment'].sum()\n",
    "total_enr_apOffering_wh = crdc_1516_apYes['total_white_enrollment'].sum()\n",
    "\n",
    "apOffering_pct_hi = round(total_enr_apOffering_hi / (apOffering_total_enrollment), 3)\n",
    "apOffering_pct_am = round(total_enr_apOffering_am / (apOffering_total_enrollment), 3)\n",
    "apOffering_pct_as = round(total_enr_apOffering_as / (apOffering_total_enrollment), 3)\n",
    "apOffering_pct_bl = round(total_enr_apOffering_bl / (apOffering_total_enrollment), 3)\n",
    "apOffering_pct_hp = round(total_enr_apOffering_hp / (apOffering_total_enrollment), 3)\n",
    "apOffering_pct_tr = round(total_enr_apOffering_tr / (apOffering_total_enrollment), 3)\n",
    "apOffering_pct_wh = round(total_enr_apOffering_wh / (apOffering_total_enrollment), 3)\n",
    "\n",
    "print('Hispanic:', total_enr_apOffering_hi, ' (', apOffering_pct_hi, ')')\n",
    "print('American Indian/Alaska Native:', total_enr_apOffering_am, ' (', apOffering_pct_am, ')')\n",
    "print('Asian:', total_enr_apOffering_as, ' (', apOffering_pct_as, ')')\n",
    "print('Black:', total_enr_apOffering_bl, ' (', apOffering_pct_bl, ')')\n",
    "print('Native Hawaiian/Pacific Islanapr:', total_enr_apOffering_hp, ' (', apOffering_pct_hp, ')')\n",
    "print('Two or More Races:', total_enr_apOffering_tr, ' (', apOffering_pct_tr, ')')\n",
    "print('White:', total_enr_apOffering_wh, ' (', apOffering_pct_wh, ')')"
   ]
  },
  {
   "cell_type": "markdown",
   "metadata": {},
   "source": [
    "**Visualizing**"
   ]
  },
  {
   "cell_type": "code",
   "execution_count": 62,
   "metadata": {},
   "outputs": [
    {
     "data": {
      "text/html": [
       "<div>\n",
       "<style scoped>\n",
       "    .dataframe tbody tr th:only-of-type {\n",
       "        vertical-align: middle;\n",
       "    }\n",
       "\n",
       "    .dataframe tbody tr th {\n",
       "        vertical-align: top;\n",
       "    }\n",
       "\n",
       "    .dataframe thead th {\n",
       "        text-align: right;\n",
       "    }\n",
       "</style>\n",
       "<table border=\"1\" class=\"dataframe\">\n",
       "  <thead>\n",
       "    <tr style=\"text-align: right;\">\n",
       "      <th></th>\n",
       "      <th>All Students in DE-Yes</th>\n",
       "      <th>DE-Students</th>\n",
       "    </tr>\n",
       "  </thead>\n",
       "  <tbody>\n",
       "    <tr>\n",
       "      <th>Hispanic</th>\n",
       "      <td>0.211</td>\n",
       "      <td>0.167</td>\n",
       "    </tr>\n",
       "    <tr>\n",
       "      <th>Native American</th>\n",
       "      <td>0.010</td>\n",
       "      <td>0.010</td>\n",
       "    </tr>\n",
       "    <tr>\n",
       "      <th>Asian</th>\n",
       "      <td>0.045</td>\n",
       "      <td>0.051</td>\n",
       "    </tr>\n",
       "    <tr>\n",
       "      <th>Black</th>\n",
       "      <td>0.152</td>\n",
       "      <td>0.088</td>\n",
       "    </tr>\n",
       "    <tr>\n",
       "      <th>Native Hawaiian</th>\n",
       "      <td>0.004</td>\n",
       "      <td>0.004</td>\n",
       "    </tr>\n",
       "    <tr>\n",
       "      <th>Two or More Races</th>\n",
       "      <td>0.028</td>\n",
       "      <td>0.027</td>\n",
       "    </tr>\n",
       "    <tr>\n",
       "      <th>White</th>\n",
       "      <td>0.550</td>\n",
       "      <td>0.654</td>\n",
       "    </tr>\n",
       "  </tbody>\n",
       "</table>\n",
       "</div>"
      ],
      "text/plain": [
       "                   All Students in DE-Yes  DE-Students\n",
       "Hispanic                            0.211        0.167\n",
       "Native American                     0.010        0.010\n",
       "Asian                               0.045        0.051\n",
       "Black                               0.152        0.088\n",
       "Native Hawaiian                     0.004        0.004\n",
       "Two or More Races                   0.028        0.027\n",
       "White                               0.550        0.654"
      ]
     },
     "execution_count": 62,
     "metadata": {},
     "output_type": "execute_result"
    }
   ],
   "source": [
    "de_race_stats = pd.DataFrame(data = [[deOffering_pct_hi, de_pct_hi], \n",
    "                                    [deOffering_pct_am, de_pct_am], \n",
    "                                    [deOffering_pct_as, de_pct_as], \n",
    "                                    [deOffering_pct_bl, de_pct_bl], \n",
    "                                    [deOffering_pct_hp, de_pct_hp],\n",
    "                                    [deOffering_pct_tr, de_pct_tr], \n",
    "                                    [deOffering_pct_wh, de_pct_wh]], \n",
    "                            index = ['Hispanic', 'Native American', 'Asian', 'Black', 'Native Hawaiian', \n",
    "                                        'Two or More Races', 'White'],\n",
    "                            columns = ['All Students in DE-Yes', 'DE-Students'])\n",
    "de_race_stats"
   ]
  },
  {
   "cell_type": "code",
   "execution_count": 63,
   "metadata": {},
   "outputs": [
    {
     "name": "stdout",
     "output_type": "stream",
     "text": [
      "Hispanics make up 21.099999999999998% of the total enrollment of schools that offer DE-courses, but make up 16.7% of the total DE enrollment.\n",
      "\n",
      "Native Americans/Native Alaskans make up 1.0% of the total enrollment of schools that offer DE-courses, but make up 1.0% of the total DE enrollment.\n",
      "\n",
      "Asians make up 4.5% of the total enrollment of schools that offer DE-courses, but make up 5.1% of the total DE enrollment.\n",
      "\n",
      "Blacks make up 15.2% of the total enrollment of schools that offer DE-courses, but make up 8.8% of the total DE enrollment.\n",
      "\n",
      "Native Hawaiian/Pacific Islanders make up 0.4% of the total enrollment of schools that offer DE-courses, but make up 0.4% of the total DE enrollment.\n",
      "\n",
      "Individuals of Two or More Races make up 2.8% of the total enrollment of schools that offer DE-courses, but make up 2.7% of the total DE enrollment.\n",
      "\n",
      "Whites make up 55.0% of the total enrollment of schools that offer DE-courses, but make up 65.4% of the total DE enrollment.\n"
     ]
    }
   ],
   "source": [
    "print('Hispanics make up ' + str(deOffering_pct_hi * 100) + '% ' + \n",
    "      'of the total enrollment of schools that offer DE-courses, but make up ' + str(round(de_pct_hi * 100,1)) + '% ' +\n",
    "      'of the total DE enrollment.')\n",
    "print('')\n",
    "print('Native Americans/Native Alaskans make up ' + str(round(deOffering_pct_am * 100,1)) + '% ' + \n",
    "      'of the total enrollment of schools that offer DE-courses, but make up ' + str(round(de_pct_am * 100,1)) + '% ' +\n",
    "      'of the total DE enrollment.')\n",
    "print('')\n",
    "print('Asians make up ' + str(round(deOffering_pct_as * 100,1)) + '% ' + \n",
    "      'of the total enrollment of schools that offer DE-courses, but make up ' + str(round(de_pct_as * 100,1)) + '% ' +\n",
    "      'of the total DE enrollment.')\n",
    "print('')\n",
    "print('Blacks make up ' + str(round(deOffering_pct_bl * 100,1)) + '% ' + \n",
    "      'of the total enrollment of schools that offer DE-courses, but make up ' + str(round(de_pct_bl * 100,1)) + '% ' +\n",
    "      'of the total DE enrollment.')\n",
    "print('')\n",
    "print('Native Hawaiian/Pacific Islanders make up ' + str(round(deOffering_pct_hp * 100,1)) + '% ' + \n",
    "      'of the total enrollment of schools that offer DE-courses, but make up ' + str(round(de_pct_hp * 100,1)) + '% ' +\n",
    "      'of the total DE enrollment.')\n",
    "print('')\n",
    "print('Individuals of Two or More Races make up ' + str(round(deOffering_pct_tr * 100,1)) + '% ' + \n",
    "      'of the total enrollment of schools that offer DE-courses, but make up ' + str(round(de_pct_tr * 100,1)) + '% ' +\n",
    "      'of the total DE enrollment.')\n",
    "print('')\n",
    "print('Whites make up ' + str(round(deOffering_pct_wh * 100,1)) + '% ' + \n",
    "      'of the total enrollment of schools that offer DE-courses, but make up ' + str(round(de_pct_wh * 100,1)) + '% ' +\n",
    "      'of the total DE enrollment.')"
   ]
  },
  {
   "cell_type": "code",
   "execution_count": 64,
   "metadata": {},
   "outputs": [
    {
     "name": "stdout",
     "output_type": "stream",
     "text": [
      "Hispanics make up 24.4% of the total enrollment of schools that offer AP-courses, but make up 21.3% of the total AP enrollment.\n",
      "\n",
      "Native Americans/Native Alaskans make up 0.9% of the total enrollment of schools that offer AP-courses, but make up 0.6% of the total AP enrollment.\n",
      "\n",
      "Asians make up 5.5% of the total enrollment of schools that offer AP-courses, but make up 10.7% of the total AP enrollment.\n",
      "\n",
      "Blacks make up 15.3% of the total enrollment of schools that offer AP-courses, but make up 9.4% of the total AP enrollment.\n",
      "\n",
      "Native Hawaiian/Pacific Islanaprs make up 0.4% of the total enrollment of schools that offer AP-courses, but make up 0.4% of the total AP enrollment.\n",
      "\n",
      "Individuals of Two or More Races make up 2.8% of the total enrollment of schools that offer AP-courses, but make up 2.9% of the total AP enrollment.\n",
      "\n",
      "Whites make up 50.6% of the total enrollment of schools that offer AP-courses, but make up 54.7% of the total AP enrollment.\n"
     ]
    }
   ],
   "source": [
    "print('Hispanics make up ' + str(apOffering_pct_hi * 100) + '% ' + \n",
    "      'of the total enrollment of schools that offer AP-courses, but make up ' + str(round(ap_pct_hi * 100,1)) + '% ' +\n",
    "      'of the total AP enrollment.')\n",
    "print('')\n",
    "print('Native Americans/Native Alaskans make up ' + str(round(apOffering_pct_am * 100,1)) + '% ' + \n",
    "      'of the total enrollment of schools that offer AP-courses, but make up ' + str(round(ap_pct_am * 100,1)) + '% ' +\n",
    "      'of the total AP enrollment.')\n",
    "print('')\n",
    "print('Asians make up ' + str(round(apOffering_pct_as * 100,1)) + '% ' + \n",
    "      'of the total enrollment of schools that offer AP-courses, but make up ' + str(round(ap_pct_as * 100,1)) + '% ' +\n",
    "      'of the total AP enrollment.')\n",
    "print('')\n",
    "print('Blacks make up ' + str(round(apOffering_pct_bl * 100,1)) + '% ' + \n",
    "      'of the total enrollment of schools that offer AP-courses, but make up ' + str(round(ap_pct_bl * 100,1)) + '% ' +\n",
    "      'of the total AP enrollment.')\n",
    "print('')\n",
    "print('Native Hawaiian/Pacific Islanaprs make up ' + str(round(apOffering_pct_hp * 100,1)) + '% ' + \n",
    "      'of the total enrollment of schools that offer AP-courses, but make up ' + str(round(ap_pct_hp * 100,1)) + '% ' +\n",
    "      'of the total AP enrollment.')\n",
    "print('')\n",
    "print('Individuals of Two or More Races make up ' + str(round(apOffering_pct_tr * 100,1)) + '% ' + \n",
    "      'of the total enrollment of schools that offer AP-courses, but make up ' + str(round(ap_pct_tr * 100,1)) + '% ' +\n",
    "      'of the total AP enrollment.')\n",
    "print('')\n",
    "print('Whites make up ' + str(round(apOffering_pct_wh * 100,1)) + '% ' + \n",
    "      'of the total enrollment of schools that offer AP-courses, but make up ' + str(round(ap_pct_wh * 100,1)) + '% ' +\n",
    "      'of the total AP enrollment.')"
   ]
  },
  {
   "cell_type": "markdown",
   "metadata": {},
   "source": [
    "### IV.a Race By State"
   ]
  },
  {
   "cell_type": "code",
   "execution_count": 65,
   "metadata": {},
   "outputs": [
    {
     "data": {
      "text/html": [
       "<div>\n",
       "<style scoped>\n",
       "    .dataframe tbody tr th:only-of-type {\n",
       "        vertical-align: middle;\n",
       "    }\n",
       "\n",
       "    .dataframe tbody tr th {\n",
       "        vertical-align: top;\n",
       "    }\n",
       "\n",
       "    .dataframe thead th {\n",
       "        text-align: right;\n",
       "    }\n",
       "</style>\n",
       "<table border=\"1\" class=\"dataframe\">\n",
       "  <thead>\n",
       "    <tr style=\"text-align: right;\">\n",
       "      <th></th>\n",
       "      <th>Pct White in DE-Yes</th>\n",
       "      <th>Pct Non-White in DE-Yes</th>\n",
       "      <th>Pct White DE-Students</th>\n",
       "      <th>Pct Non-White DE-Students</th>\n",
       "      <th>Non-White Gap</th>\n",
       "    </tr>\n",
       "    <tr>\n",
       "      <th>LEA_STATE</th>\n",
       "      <th></th>\n",
       "      <th></th>\n",
       "      <th></th>\n",
       "      <th></th>\n",
       "      <th></th>\n",
       "    </tr>\n",
       "  </thead>\n",
       "  <tbody>\n",
       "    <tr>\n",
       "      <th>MD</th>\n",
       "      <td>0.437</td>\n",
       "      <td>0.563</td>\n",
       "      <td>0.618</td>\n",
       "      <td>0.382</td>\n",
       "      <td>-0.181</td>\n",
       "    </tr>\n",
       "    <tr>\n",
       "      <th>AZ</th>\n",
       "      <td>0.448</td>\n",
       "      <td>0.552</td>\n",
       "      <td>0.628</td>\n",
       "      <td>0.372</td>\n",
       "      <td>-0.180</td>\n",
       "    </tr>\n",
       "    <tr>\n",
       "      <th>MS</th>\n",
       "      <td>0.509</td>\n",
       "      <td>0.491</td>\n",
       "      <td>0.676</td>\n",
       "      <td>0.324</td>\n",
       "      <td>-0.167</td>\n",
       "    </tr>\n",
       "    <tr>\n",
       "      <th>DE</th>\n",
       "      <td>0.500</td>\n",
       "      <td>0.500</td>\n",
       "      <td>0.662</td>\n",
       "      <td>0.338</td>\n",
       "      <td>-0.162</td>\n",
       "    </tr>\n",
       "    <tr>\n",
       "      <th>VA</th>\n",
       "      <td>0.553</td>\n",
       "      <td>0.447</td>\n",
       "      <td>0.711</td>\n",
       "      <td>0.289</td>\n",
       "      <td>-0.158</td>\n",
       "    </tr>\n",
       "    <tr>\n",
       "      <th>IL</th>\n",
       "      <td>0.508</td>\n",
       "      <td>0.492</td>\n",
       "      <td>0.657</td>\n",
       "      <td>0.343</td>\n",
       "      <td>-0.149</td>\n",
       "    </tr>\n",
       "    <tr>\n",
       "      <th>AL</th>\n",
       "      <td>0.616</td>\n",
       "      <td>0.384</td>\n",
       "      <td>0.748</td>\n",
       "      <td>0.252</td>\n",
       "      <td>-0.132</td>\n",
       "    </tr>\n",
       "    <tr>\n",
       "      <th>GA</th>\n",
       "      <td>0.443</td>\n",
       "      <td>0.557</td>\n",
       "      <td>0.570</td>\n",
       "      <td>0.430</td>\n",
       "      <td>-0.127</td>\n",
       "    </tr>\n",
       "    <tr>\n",
       "      <th>SC</th>\n",
       "      <td>0.543</td>\n",
       "      <td>0.457</td>\n",
       "      <td>0.669</td>\n",
       "      <td>0.331</td>\n",
       "      <td>-0.126</td>\n",
       "    </tr>\n",
       "    <tr>\n",
       "      <th>OK</th>\n",
       "      <td>0.513</td>\n",
       "      <td>0.487</td>\n",
       "      <td>0.632</td>\n",
       "      <td>0.368</td>\n",
       "      <td>-0.119</td>\n",
       "    </tr>\n",
       "    <tr>\n",
       "      <th>TN</th>\n",
       "      <td>0.724</td>\n",
       "      <td>0.276</td>\n",
       "      <td>0.836</td>\n",
       "      <td>0.164</td>\n",
       "      <td>-0.112</td>\n",
       "    </tr>\n",
       "    <tr>\n",
       "      <th>PA</th>\n",
       "      <td>0.760</td>\n",
       "      <td>0.240</td>\n",
       "      <td>0.870</td>\n",
       "      <td>0.130</td>\n",
       "      <td>-0.110</td>\n",
       "    </tr>\n",
       "    <tr>\n",
       "      <th>SD</th>\n",
       "      <td>0.800</td>\n",
       "      <td>0.200</td>\n",
       "      <td>0.908</td>\n",
       "      <td>0.092</td>\n",
       "      <td>-0.108</td>\n",
       "    </tr>\n",
       "    <tr>\n",
       "      <th>MN</th>\n",
       "      <td>0.722</td>\n",
       "      <td>0.278</td>\n",
       "      <td>0.828</td>\n",
       "      <td>0.172</td>\n",
       "      <td>-0.106</td>\n",
       "    </tr>\n",
       "    <tr>\n",
       "      <th>LA</th>\n",
       "      <td>0.536</td>\n",
       "      <td>0.464</td>\n",
       "      <td>0.640</td>\n",
       "      <td>0.360</td>\n",
       "      <td>-0.104</td>\n",
       "    </tr>\n",
       "    <tr>\n",
       "      <th>OH</th>\n",
       "      <td>0.751</td>\n",
       "      <td>0.249</td>\n",
       "      <td>0.844</td>\n",
       "      <td>0.156</td>\n",
       "      <td>-0.093</td>\n",
       "    </tr>\n",
       "    <tr>\n",
       "      <th>NY</th>\n",
       "      <td>0.527</td>\n",
       "      <td>0.473</td>\n",
       "      <td>0.618</td>\n",
       "      <td>0.382</td>\n",
       "      <td>-0.091</td>\n",
       "    </tr>\n",
       "    <tr>\n",
       "      <th>FL</th>\n",
       "      <td>0.426</td>\n",
       "      <td>0.574</td>\n",
       "      <td>0.512</td>\n",
       "      <td>0.488</td>\n",
       "      <td>-0.086</td>\n",
       "    </tr>\n",
       "    <tr>\n",
       "      <th>UT</th>\n",
       "      <td>0.764</td>\n",
       "      <td>0.236</td>\n",
       "      <td>0.848</td>\n",
       "      <td>0.152</td>\n",
       "      <td>-0.084</td>\n",
       "    </tr>\n",
       "    <tr>\n",
       "      <th>KS</th>\n",
       "      <td>0.712</td>\n",
       "      <td>0.288</td>\n",
       "      <td>0.789</td>\n",
       "      <td>0.211</td>\n",
       "      <td>-0.077</td>\n",
       "    </tr>\n",
       "    <tr>\n",
       "      <th>AR</th>\n",
       "      <td>0.680</td>\n",
       "      <td>0.320</td>\n",
       "      <td>0.755</td>\n",
       "      <td>0.245</td>\n",
       "      <td>-0.075</td>\n",
       "    </tr>\n",
       "    <tr>\n",
       "      <th>ND</th>\n",
       "      <td>0.820</td>\n",
       "      <td>0.180</td>\n",
       "      <td>0.893</td>\n",
       "      <td>0.107</td>\n",
       "      <td>-0.073</td>\n",
       "    </tr>\n",
       "    <tr>\n",
       "      <th>TX</th>\n",
       "      <td>0.311</td>\n",
       "      <td>0.689</td>\n",
       "      <td>0.378</td>\n",
       "      <td>0.622</td>\n",
       "      <td>-0.067</td>\n",
       "    </tr>\n",
       "    <tr>\n",
       "      <th>NC</th>\n",
       "      <td>0.536</td>\n",
       "      <td>0.464</td>\n",
       "      <td>0.601</td>\n",
       "      <td>0.399</td>\n",
       "      <td>-0.065</td>\n",
       "    </tr>\n",
       "    <tr>\n",
       "      <th>WI</th>\n",
       "      <td>0.748</td>\n",
       "      <td>0.252</td>\n",
       "      <td>0.813</td>\n",
       "      <td>0.187</td>\n",
       "      <td>-0.065</td>\n",
       "    </tr>\n",
       "    <tr>\n",
       "      <th>CT</th>\n",
       "      <td>0.603</td>\n",
       "      <td>0.397</td>\n",
       "      <td>0.657</td>\n",
       "      <td>0.343</td>\n",
       "      <td>-0.054</td>\n",
       "    </tr>\n",
       "    <tr>\n",
       "      <th>MO</th>\n",
       "      <td>0.779</td>\n",
       "      <td>0.221</td>\n",
       "      <td>0.827</td>\n",
       "      <td>0.173</td>\n",
       "      <td>-0.048</td>\n",
       "    </tr>\n",
       "    <tr>\n",
       "      <th>KY</th>\n",
       "      <td>0.820</td>\n",
       "      <td>0.180</td>\n",
       "      <td>0.868</td>\n",
       "      <td>0.132</td>\n",
       "      <td>-0.048</td>\n",
       "    </tr>\n",
       "    <tr>\n",
       "      <th>CO</th>\n",
       "      <td>0.573</td>\n",
       "      <td>0.427</td>\n",
       "      <td>0.618</td>\n",
       "      <td>0.382</td>\n",
       "      <td>-0.045</td>\n",
       "    </tr>\n",
       "    <tr>\n",
       "      <th>MI</th>\n",
       "      <td>0.740</td>\n",
       "      <td>0.260</td>\n",
       "      <td>0.784</td>\n",
       "      <td>0.216</td>\n",
       "      <td>-0.044</td>\n",
       "    </tr>\n",
       "    <tr>\n",
       "      <th>IA</th>\n",
       "      <td>0.804</td>\n",
       "      <td>0.196</td>\n",
       "      <td>0.847</td>\n",
       "      <td>0.153</td>\n",
       "      <td>-0.043</td>\n",
       "    </tr>\n",
       "    <tr>\n",
       "      <th>MT</th>\n",
       "      <td>0.812</td>\n",
       "      <td>0.188</td>\n",
       "      <td>0.853</td>\n",
       "      <td>0.147</td>\n",
       "      <td>-0.041</td>\n",
       "    </tr>\n",
       "    <tr>\n",
       "      <th>NV</th>\n",
       "      <td>0.493</td>\n",
       "      <td>0.507</td>\n",
       "      <td>0.531</td>\n",
       "      <td>0.469</td>\n",
       "      <td>-0.038</td>\n",
       "    </tr>\n",
       "    <tr>\n",
       "      <th>WY</th>\n",
       "      <td>0.810</td>\n",
       "      <td>0.190</td>\n",
       "      <td>0.842</td>\n",
       "      <td>0.158</td>\n",
       "      <td>-0.032</td>\n",
       "    </tr>\n",
       "    <tr>\n",
       "      <th>IN</th>\n",
       "      <td>0.726</td>\n",
       "      <td>0.274</td>\n",
       "      <td>0.757</td>\n",
       "      <td>0.243</td>\n",
       "      <td>-0.031</td>\n",
       "    </tr>\n",
       "    <tr>\n",
       "      <th>NM</th>\n",
       "      <td>0.254</td>\n",
       "      <td>0.746</td>\n",
       "      <td>0.282</td>\n",
       "      <td>0.718</td>\n",
       "      <td>-0.028</td>\n",
       "    </tr>\n",
       "    <tr>\n",
       "      <th>NJ</th>\n",
       "      <td>0.548</td>\n",
       "      <td>0.452</td>\n",
       "      <td>0.574</td>\n",
       "      <td>0.426</td>\n",
       "      <td>-0.026</td>\n",
       "    </tr>\n",
       "    <tr>\n",
       "      <th>CA</th>\n",
       "      <td>0.262</td>\n",
       "      <td>0.738</td>\n",
       "      <td>0.283</td>\n",
       "      <td>0.717</td>\n",
       "      <td>-0.021</td>\n",
       "    </tr>\n",
       "    <tr>\n",
       "      <th>NH</th>\n",
       "      <td>0.864</td>\n",
       "      <td>0.136</td>\n",
       "      <td>0.882</td>\n",
       "      <td>0.118</td>\n",
       "      <td>-0.018</td>\n",
       "    </tr>\n",
       "    <tr>\n",
       "      <th>AK</th>\n",
       "      <td>0.452</td>\n",
       "      <td>0.548</td>\n",
       "      <td>0.466</td>\n",
       "      <td>0.534</td>\n",
       "      <td>-0.014</td>\n",
       "    </tr>\n",
       "    <tr>\n",
       "      <th>OR</th>\n",
       "      <td>0.648</td>\n",
       "      <td>0.352</td>\n",
       "      <td>0.659</td>\n",
       "      <td>0.341</td>\n",
       "      <td>-0.011</td>\n",
       "    </tr>\n",
       "    <tr>\n",
       "      <th>ID</th>\n",
       "      <td>0.780</td>\n",
       "      <td>0.220</td>\n",
       "      <td>0.790</td>\n",
       "      <td>0.210</td>\n",
       "      <td>-0.010</td>\n",
       "    </tr>\n",
       "    <tr>\n",
       "      <th>WV</th>\n",
       "      <td>0.909</td>\n",
       "      <td>0.091</td>\n",
       "      <td>0.919</td>\n",
       "      <td>0.081</td>\n",
       "      <td>-0.010</td>\n",
       "    </tr>\n",
       "    <tr>\n",
       "      <th>NE</th>\n",
       "      <td>0.706</td>\n",
       "      <td>0.294</td>\n",
       "      <td>0.713</td>\n",
       "      <td>0.287</td>\n",
       "      <td>-0.007</td>\n",
       "    </tr>\n",
       "    <tr>\n",
       "      <th>ME</th>\n",
       "      <td>0.899</td>\n",
       "      <td>0.101</td>\n",
       "      <td>0.905</td>\n",
       "      <td>0.095</td>\n",
       "      <td>-0.006</td>\n",
       "    </tr>\n",
       "    <tr>\n",
       "      <th>HI</th>\n",
       "      <td>0.134</td>\n",
       "      <td>0.866</td>\n",
       "      <td>0.137</td>\n",
       "      <td>0.863</td>\n",
       "      <td>-0.003</td>\n",
       "    </tr>\n",
       "    <tr>\n",
       "      <th>RI</th>\n",
       "      <td>0.627</td>\n",
       "      <td>0.373</td>\n",
       "      <td>0.629</td>\n",
       "      <td>0.371</td>\n",
       "      <td>-0.002</td>\n",
       "    </tr>\n",
       "    <tr>\n",
       "      <th>DC</th>\n",
       "      <td>0.002</td>\n",
       "      <td>0.998</td>\n",
       "      <td>0.000</td>\n",
       "      <td>1.000</td>\n",
       "      <td>0.002</td>\n",
       "    </tr>\n",
       "    <tr>\n",
       "      <th>VT</th>\n",
       "      <td>0.908</td>\n",
       "      <td>0.092</td>\n",
       "      <td>0.906</td>\n",
       "      <td>0.094</td>\n",
       "      <td>0.002</td>\n",
       "    </tr>\n",
       "    <tr>\n",
       "      <th>WA</th>\n",
       "      <td>0.585</td>\n",
       "      <td>0.415</td>\n",
       "      <td>0.548</td>\n",
       "      <td>0.452</td>\n",
       "      <td>0.037</td>\n",
       "    </tr>\n",
       "    <tr>\n",
       "      <th>MA</th>\n",
       "      <td>0.704</td>\n",
       "      <td>0.296</td>\n",
       "      <td>0.641</td>\n",
       "      <td>0.359</td>\n",
       "      <td>0.063</td>\n",
       "    </tr>\n",
       "  </tbody>\n",
       "</table>\n",
       "</div>"
      ],
      "text/plain": [
       "           Pct White in DE-Yes  Pct Non-White in DE-Yes  \\\n",
       "LEA_STATE                                                 \n",
       "MD                       0.437                    0.563   \n",
       "AZ                       0.448                    0.552   \n",
       "MS                       0.509                    0.491   \n",
       "DE                       0.500                    0.500   \n",
       "VA                       0.553                    0.447   \n",
       "IL                       0.508                    0.492   \n",
       "AL                       0.616                    0.384   \n",
       "GA                       0.443                    0.557   \n",
       "SC                       0.543                    0.457   \n",
       "OK                       0.513                    0.487   \n",
       "TN                       0.724                    0.276   \n",
       "PA                       0.760                    0.240   \n",
       "SD                       0.800                    0.200   \n",
       "MN                       0.722                    0.278   \n",
       "LA                       0.536                    0.464   \n",
       "OH                       0.751                    0.249   \n",
       "NY                       0.527                    0.473   \n",
       "FL                       0.426                    0.574   \n",
       "UT                       0.764                    0.236   \n",
       "KS                       0.712                    0.288   \n",
       "AR                       0.680                    0.320   \n",
       "ND                       0.820                    0.180   \n",
       "TX                       0.311                    0.689   \n",
       "NC                       0.536                    0.464   \n",
       "WI                       0.748                    0.252   \n",
       "CT                       0.603                    0.397   \n",
       "MO                       0.779                    0.221   \n",
       "KY                       0.820                    0.180   \n",
       "CO                       0.573                    0.427   \n",
       "MI                       0.740                    0.260   \n",
       "IA                       0.804                    0.196   \n",
       "MT                       0.812                    0.188   \n",
       "NV                       0.493                    0.507   \n",
       "WY                       0.810                    0.190   \n",
       "IN                       0.726                    0.274   \n",
       "NM                       0.254                    0.746   \n",
       "NJ                       0.548                    0.452   \n",
       "CA                       0.262                    0.738   \n",
       "NH                       0.864                    0.136   \n",
       "AK                       0.452                    0.548   \n",
       "OR                       0.648                    0.352   \n",
       "ID                       0.780                    0.220   \n",
       "WV                       0.909                    0.091   \n",
       "NE                       0.706                    0.294   \n",
       "ME                       0.899                    0.101   \n",
       "HI                       0.134                    0.866   \n",
       "RI                       0.627                    0.373   \n",
       "DC                       0.002                    0.998   \n",
       "VT                       0.908                    0.092   \n",
       "WA                       0.585                    0.415   \n",
       "MA                       0.704                    0.296   \n",
       "\n",
       "           Pct White DE-Students  Pct Non-White DE-Students  Non-White Gap  \n",
       "LEA_STATE                                                                   \n",
       "MD                         0.618                      0.382         -0.181  \n",
       "AZ                         0.628                      0.372         -0.180  \n",
       "MS                         0.676                      0.324         -0.167  \n",
       "DE                         0.662                      0.338         -0.162  \n",
       "VA                         0.711                      0.289         -0.158  \n",
       "IL                         0.657                      0.343         -0.149  \n",
       "AL                         0.748                      0.252         -0.132  \n",
       "GA                         0.570                      0.430         -0.127  \n",
       "SC                         0.669                      0.331         -0.126  \n",
       "OK                         0.632                      0.368         -0.119  \n",
       "TN                         0.836                      0.164         -0.112  \n",
       "PA                         0.870                      0.130         -0.110  \n",
       "SD                         0.908                      0.092         -0.108  \n",
       "MN                         0.828                      0.172         -0.106  \n",
       "LA                         0.640                      0.360         -0.104  \n",
       "OH                         0.844                      0.156         -0.093  \n",
       "NY                         0.618                      0.382         -0.091  \n",
       "FL                         0.512                      0.488         -0.086  \n",
       "UT                         0.848                      0.152         -0.084  \n",
       "KS                         0.789                      0.211         -0.077  \n",
       "AR                         0.755                      0.245         -0.075  \n",
       "ND                         0.893                      0.107         -0.073  \n",
       "TX                         0.378                      0.622         -0.067  \n",
       "NC                         0.601                      0.399         -0.065  \n",
       "WI                         0.813                      0.187         -0.065  \n",
       "CT                         0.657                      0.343         -0.054  \n",
       "MO                         0.827                      0.173         -0.048  \n",
       "KY                         0.868                      0.132         -0.048  \n",
       "CO                         0.618                      0.382         -0.045  \n",
       "MI                         0.784                      0.216         -0.044  \n",
       "IA                         0.847                      0.153         -0.043  \n",
       "MT                         0.853                      0.147         -0.041  \n",
       "NV                         0.531                      0.469         -0.038  \n",
       "WY                         0.842                      0.158         -0.032  \n",
       "IN                         0.757                      0.243         -0.031  \n",
       "NM                         0.282                      0.718         -0.028  \n",
       "NJ                         0.574                      0.426         -0.026  \n",
       "CA                         0.283                      0.717         -0.021  \n",
       "NH                         0.882                      0.118         -0.018  \n",
       "AK                         0.466                      0.534         -0.014  \n",
       "OR                         0.659                      0.341         -0.011  \n",
       "ID                         0.790                      0.210         -0.010  \n",
       "WV                         0.919                      0.081         -0.010  \n",
       "NE                         0.713                      0.287         -0.007  \n",
       "ME                         0.905                      0.095         -0.006  \n",
       "HI                         0.137                      0.863         -0.003  \n",
       "RI                         0.629                      0.371         -0.002  \n",
       "DC                         0.000                      1.000          0.002  \n",
       "VT                         0.906                      0.094          0.002  \n",
       "WA                         0.548                      0.452          0.037  \n",
       "MA                         0.641                      0.359          0.063  "
      ]
     },
     "execution_count": 65,
     "metadata": {},
     "output_type": "execute_result"
    }
   ],
   "source": [
    "de_state_nonwhite = crdc_1516_deYes.groupby(['LEA_STATE'])['de_nonwhite_enrollment'].sum()\n",
    "de_state_white = crdc_1516_deYes.groupby(['LEA_STATE'])['de_white_enrollment'].sum()\n",
    "de_state_total = crdc_1516_deYes.groupby(['LEA_STATE'])['de_total_enrollment'].sum()\n",
    "\n",
    "deOffering_state_nonwhite = crdc_1516_deYes.groupby(['LEA_STATE'])['total_nonwhite_enrollment'].sum()\n",
    "deOffering_state_white = crdc_1516_deYes.groupby(['LEA_STATE'])['total_white_enrollment'].sum()\n",
    "deOffering_state_total = crdc_1516_deYes.groupby(['LEA_STATE'])['total_enrollment'].sum()\n",
    "\n",
    "de_state_stats = pd.DataFrame([de_state_white, de_state_nonwhite, de_state_total]).T\n",
    "deOffering_state_stats = pd.DataFrame([deOffering_state_white, deOffering_state_nonwhite, deOffering_state_total]).T\n",
    "\n",
    "de_state_stats['de_white_enrollment'] = round(de_state_stats['de_white_enrollment'] / de_state_stats['de_total_enrollment'],3)\n",
    "de_state_stats['de_nonwhite_enrollment'] = round(de_state_stats['de_nonwhite_enrollment'] / de_state_stats['de_total_enrollment'],3)\n",
    "de_state_stats.drop('de_total_enrollment', axis = 1, inplace = True)\n",
    "\n",
    "deOffering_state_stats['total_white_enrollment'] = round(deOffering_state_stats['total_white_enrollment'] / deOffering_state_stats['total_enrollment'],3)\n",
    "deOffering_state_stats['total_nonwhite_enrollment'] = round(deOffering_state_stats['total_nonwhite_enrollment'] / deOffering_state_stats['total_enrollment'],3)\n",
    "deOffering_state_stats.drop('total_enrollment', axis = 1, inplace = True)\n",
    "\n",
    "deOffering_state_stats = deOffering_state_stats.rename({'total_white_enrollment':'Pct White in DE-Yes', 'total_nonwhite_enrollment':'Pct Non-White in DE-Yes'}, axis = 'columns')\n",
    "de_state_stats = de_state_stats.rename({'de_white_enrollment':'Pct White DE-Students', 'de_nonwhite_enrollment':'Pct Non-White DE-Students'}, axis = 'columns')\n",
    "\n",
    "\"\"\"Join the two DataFrames\"\"\"\n",
    "de_state_stats_final = deOffering_state_stats.join(de_state_stats, how = 'inner')\n",
    "\n",
    "de_state_stats_final['Non-White Gap'] = de_state_stats_final['Pct Non-White DE-Students'] - de_state_stats_final['Pct Non-White in DE-Yes']\n",
    "\n",
    "\"\"\" Which states have the most under-represented Non-White groups? \"\"\"\n",
    "de_state_stats_final.sort_values('Non-White Gap')"
   ]
  },
  {
   "cell_type": "code",
   "execution_count": 66,
   "metadata": {},
   "outputs": [
    {
     "data": {
      "text/html": [
       "<div>\n",
       "<style scoped>\n",
       "    .dataframe tbody tr th:only-of-type {\n",
       "        vertical-align: middle;\n",
       "    }\n",
       "\n",
       "    .dataframe tbody tr th {\n",
       "        vertical-align: top;\n",
       "    }\n",
       "\n",
       "    .dataframe thead th {\n",
       "        text-align: right;\n",
       "    }\n",
       "</style>\n",
       "<table border=\"1\" class=\"dataframe\">\n",
       "  <thead>\n",
       "    <tr style=\"text-align: right;\">\n",
       "      <th></th>\n",
       "      <th>Pct White in ap-Yes</th>\n",
       "      <th>Pct Non-White in ap-Yes</th>\n",
       "      <th>Pct White ap-Stuapnts</th>\n",
       "      <th>Pct Non-White ap-Stuapnts</th>\n",
       "      <th>Non-White Gap</th>\n",
       "    </tr>\n",
       "    <tr>\n",
       "      <th>LEA_STATE</th>\n",
       "      <th></th>\n",
       "      <th></th>\n",
       "      <th></th>\n",
       "      <th></th>\n",
       "      <th></th>\n",
       "    </tr>\n",
       "  </thead>\n",
       "  <tbody>\n",
       "    <tr>\n",
       "      <th>SC</th>\n",
       "      <td>0.548</td>\n",
       "      <td>0.452</td>\n",
       "      <td>0.720</td>\n",
       "      <td>0.280</td>\n",
       "      <td>-0.172</td>\n",
       "    </tr>\n",
       "    <tr>\n",
       "      <th>NC</th>\n",
       "      <td>0.531</td>\n",
       "      <td>0.469</td>\n",
       "      <td>0.668</td>\n",
       "      <td>0.332</td>\n",
       "      <td>-0.137</td>\n",
       "    </tr>\n",
       "    <tr>\n",
       "      <th>MS</th>\n",
       "      <td>0.486</td>\n",
       "      <td>0.514</td>\n",
       "      <td>0.614</td>\n",
       "      <td>0.386</td>\n",
       "      <td>-0.128</td>\n",
       "    </tr>\n",
       "    <tr>\n",
       "      <th>MD</th>\n",
       "      <td>0.415</td>\n",
       "      <td>0.585</td>\n",
       "      <td>0.532</td>\n",
       "      <td>0.468</td>\n",
       "      <td>-0.117</td>\n",
       "    </tr>\n",
       "    <tr>\n",
       "      <th>CT</th>\n",
       "      <td>0.599</td>\n",
       "      <td>0.401</td>\n",
       "      <td>0.712</td>\n",
       "      <td>0.288</td>\n",
       "      <td>-0.113</td>\n",
       "    </tr>\n",
       "    <tr>\n",
       "      <th>AL</th>\n",
       "      <td>0.574</td>\n",
       "      <td>0.426</td>\n",
       "      <td>0.679</td>\n",
       "      <td>0.321</td>\n",
       "      <td>-0.105</td>\n",
       "    </tr>\n",
       "    <tr>\n",
       "      <th>DE</th>\n",
       "      <td>0.510</td>\n",
       "      <td>0.490</td>\n",
       "      <td>0.611</td>\n",
       "      <td>0.389</td>\n",
       "      <td>-0.101</td>\n",
       "    </tr>\n",
       "    <tr>\n",
       "      <th>CO</th>\n",
       "      <td>0.557</td>\n",
       "      <td>0.443</td>\n",
       "      <td>0.650</td>\n",
       "      <td>0.350</td>\n",
       "      <td>-0.093</td>\n",
       "    </tr>\n",
       "    <tr>\n",
       "      <th>TN</th>\n",
       "      <td>0.649</td>\n",
       "      <td>0.351</td>\n",
       "      <td>0.740</td>\n",
       "      <td>0.260</td>\n",
       "      <td>-0.091</td>\n",
       "    </tr>\n",
       "    <tr>\n",
       "      <th>SD</th>\n",
       "      <td>0.789</td>\n",
       "      <td>0.211</td>\n",
       "      <td>0.879</td>\n",
       "      <td>0.121</td>\n",
       "      <td>-0.090</td>\n",
       "    </tr>\n",
       "    <tr>\n",
       "      <th>NE</th>\n",
       "      <td>0.656</td>\n",
       "      <td>0.344</td>\n",
       "      <td>0.745</td>\n",
       "      <td>0.255</td>\n",
       "      <td>-0.089</td>\n",
       "    </tr>\n",
       "    <tr>\n",
       "      <th>AK</th>\n",
       "      <td>0.550</td>\n",
       "      <td>0.450</td>\n",
       "      <td>0.638</td>\n",
       "      <td>0.362</td>\n",
       "      <td>-0.088</td>\n",
       "    </tr>\n",
       "    <tr>\n",
       "      <th>GA</th>\n",
       "      <td>0.426</td>\n",
       "      <td>0.574</td>\n",
       "      <td>0.514</td>\n",
       "      <td>0.486</td>\n",
       "      <td>-0.088</td>\n",
       "    </tr>\n",
       "    <tr>\n",
       "      <th>IL</th>\n",
       "      <td>0.469</td>\n",
       "      <td>0.531</td>\n",
       "      <td>0.547</td>\n",
       "      <td>0.453</td>\n",
       "      <td>-0.078</td>\n",
       "    </tr>\n",
       "    <tr>\n",
       "      <th>KS</th>\n",
       "      <td>0.642</td>\n",
       "      <td>0.358</td>\n",
       "      <td>0.719</td>\n",
       "      <td>0.281</td>\n",
       "      <td>-0.077</td>\n",
       "    </tr>\n",
       "    <tr>\n",
       "      <th>AZ</th>\n",
       "      <td>0.422</td>\n",
       "      <td>0.578</td>\n",
       "      <td>0.498</td>\n",
       "      <td>0.502</td>\n",
       "      <td>-0.076</td>\n",
       "    </tr>\n",
       "    <tr>\n",
       "      <th>NY</th>\n",
       "      <td>0.493</td>\n",
       "      <td>0.507</td>\n",
       "      <td>0.568</td>\n",
       "      <td>0.432</td>\n",
       "      <td>-0.075</td>\n",
       "    </tr>\n",
       "    <tr>\n",
       "      <th>NJ</th>\n",
       "      <td>0.508</td>\n",
       "      <td>0.492</td>\n",
       "      <td>0.581</td>\n",
       "      <td>0.419</td>\n",
       "      <td>-0.073</td>\n",
       "    </tr>\n",
       "    <tr>\n",
       "      <th>LA</th>\n",
       "      <td>0.498</td>\n",
       "      <td>0.502</td>\n",
       "      <td>0.571</td>\n",
       "      <td>0.429</td>\n",
       "      <td>-0.073</td>\n",
       "    </tr>\n",
       "    <tr>\n",
       "      <th>VA</th>\n",
       "      <td>0.529</td>\n",
       "      <td>0.471</td>\n",
       "      <td>0.602</td>\n",
       "      <td>0.398</td>\n",
       "      <td>-0.073</td>\n",
       "    </tr>\n",
       "    <tr>\n",
       "      <th>PA</th>\n",
       "      <td>0.711</td>\n",
       "      <td>0.289</td>\n",
       "      <td>0.780</td>\n",
       "      <td>0.220</td>\n",
       "      <td>-0.069</td>\n",
       "    </tr>\n",
       "    <tr>\n",
       "      <th>NM</th>\n",
       "      <td>0.241</td>\n",
       "      <td>0.759</td>\n",
       "      <td>0.307</td>\n",
       "      <td>0.693</td>\n",
       "      <td>-0.066</td>\n",
       "    </tr>\n",
       "    <tr>\n",
       "      <th>MT</th>\n",
       "      <td>0.826</td>\n",
       "      <td>0.174</td>\n",
       "      <td>0.892</td>\n",
       "      <td>0.108</td>\n",
       "      <td>-0.066</td>\n",
       "    </tr>\n",
       "    <tr>\n",
       "      <th>OK</th>\n",
       "      <td>0.507</td>\n",
       "      <td>0.493</td>\n",
       "      <td>0.572</td>\n",
       "      <td>0.428</td>\n",
       "      <td>-0.065</td>\n",
       "    </tr>\n",
       "    <tr>\n",
       "      <th>DC</th>\n",
       "      <td>0.071</td>\n",
       "      <td>0.929</td>\n",
       "      <td>0.135</td>\n",
       "      <td>0.865</td>\n",
       "      <td>-0.064</td>\n",
       "    </tr>\n",
       "    <tr>\n",
       "      <th>WI</th>\n",
       "      <td>0.745</td>\n",
       "      <td>0.255</td>\n",
       "      <td>0.809</td>\n",
       "      <td>0.191</td>\n",
       "      <td>-0.064</td>\n",
       "    </tr>\n",
       "    <tr>\n",
       "      <th>MI</th>\n",
       "      <td>0.712</td>\n",
       "      <td>0.288</td>\n",
       "      <td>0.776</td>\n",
       "      <td>0.224</td>\n",
       "      <td>-0.064</td>\n",
       "    </tr>\n",
       "    <tr>\n",
       "      <th>MN</th>\n",
       "      <td>0.716</td>\n",
       "      <td>0.284</td>\n",
       "      <td>0.777</td>\n",
       "      <td>0.223</td>\n",
       "      <td>-0.061</td>\n",
       "    </tr>\n",
       "    <tr>\n",
       "      <th>FL</th>\n",
       "      <td>0.418</td>\n",
       "      <td>0.582</td>\n",
       "      <td>0.477</td>\n",
       "      <td>0.523</td>\n",
       "      <td>-0.059</td>\n",
       "    </tr>\n",
       "    <tr>\n",
       "      <th>NV</th>\n",
       "      <td>0.348</td>\n",
       "      <td>0.652</td>\n",
       "      <td>0.401</td>\n",
       "      <td>0.599</td>\n",
       "      <td>-0.053</td>\n",
       "    </tr>\n",
       "    <tr>\n",
       "      <th>MA</th>\n",
       "      <td>0.665</td>\n",
       "      <td>0.335</td>\n",
       "      <td>0.717</td>\n",
       "      <td>0.283</td>\n",
       "      <td>-0.052</td>\n",
       "    </tr>\n",
       "    <tr>\n",
       "      <th>UT</th>\n",
       "      <td>0.755</td>\n",
       "      <td>0.245</td>\n",
       "      <td>0.807</td>\n",
       "      <td>0.193</td>\n",
       "      <td>-0.052</td>\n",
       "    </tr>\n",
       "    <tr>\n",
       "      <th>OH</th>\n",
       "      <td>0.746</td>\n",
       "      <td>0.254</td>\n",
       "      <td>0.797</td>\n",
       "      <td>0.203</td>\n",
       "      <td>-0.051</td>\n",
       "    </tr>\n",
       "    <tr>\n",
       "      <th>RI</th>\n",
       "      <td>0.630</td>\n",
       "      <td>0.370</td>\n",
       "      <td>0.674</td>\n",
       "      <td>0.326</td>\n",
       "      <td>-0.044</td>\n",
       "    </tr>\n",
       "    <tr>\n",
       "      <th>TX</th>\n",
       "      <td>0.297</td>\n",
       "      <td>0.703</td>\n",
       "      <td>0.337</td>\n",
       "      <td>0.663</td>\n",
       "      <td>-0.040</td>\n",
       "    </tr>\n",
       "    <tr>\n",
       "      <th>HI</th>\n",
       "      <td>0.130</td>\n",
       "      <td>0.870</td>\n",
       "      <td>0.168</td>\n",
       "      <td>0.832</td>\n",
       "      <td>-0.038</td>\n",
       "    </tr>\n",
       "    <tr>\n",
       "      <th>MO</th>\n",
       "      <td>0.720</td>\n",
       "      <td>0.280</td>\n",
       "      <td>0.756</td>\n",
       "      <td>0.244</td>\n",
       "      <td>-0.036</td>\n",
       "    </tr>\n",
       "    <tr>\n",
       "      <th>CA</th>\n",
       "      <td>0.256</td>\n",
       "      <td>0.744</td>\n",
       "      <td>0.290</td>\n",
       "      <td>0.710</td>\n",
       "      <td>-0.034</td>\n",
       "    </tr>\n",
       "    <tr>\n",
       "      <th>KY</th>\n",
       "      <td>0.804</td>\n",
       "      <td>0.196</td>\n",
       "      <td>0.836</td>\n",
       "      <td>0.164</td>\n",
       "      <td>-0.032</td>\n",
       "    </tr>\n",
       "    <tr>\n",
       "      <th>ND</th>\n",
       "      <td>0.822</td>\n",
       "      <td>0.178</td>\n",
       "      <td>0.853</td>\n",
       "      <td>0.147</td>\n",
       "      <td>-0.031</td>\n",
       "    </tr>\n",
       "    <tr>\n",
       "      <th>IN</th>\n",
       "      <td>0.741</td>\n",
       "      <td>0.259</td>\n",
       "      <td>0.772</td>\n",
       "      <td>0.228</td>\n",
       "      <td>-0.031</td>\n",
       "    </tr>\n",
       "    <tr>\n",
       "      <th>WY</th>\n",
       "      <td>0.808</td>\n",
       "      <td>0.192</td>\n",
       "      <td>0.834</td>\n",
       "      <td>0.166</td>\n",
       "      <td>-0.026</td>\n",
       "    </tr>\n",
       "    <tr>\n",
       "      <th>AR</th>\n",
       "      <td>0.652</td>\n",
       "      <td>0.348</td>\n",
       "      <td>0.678</td>\n",
       "      <td>0.322</td>\n",
       "      <td>-0.026</td>\n",
       "    </tr>\n",
       "    <tr>\n",
       "      <th>ID</th>\n",
       "      <td>0.774</td>\n",
       "      <td>0.226</td>\n",
       "      <td>0.798</td>\n",
       "      <td>0.202</td>\n",
       "      <td>-0.024</td>\n",
       "    </tr>\n",
       "    <tr>\n",
       "      <th>WA</th>\n",
       "      <td>0.594</td>\n",
       "      <td>0.406</td>\n",
       "      <td>0.607</td>\n",
       "      <td>0.393</td>\n",
       "      <td>-0.013</td>\n",
       "    </tr>\n",
       "    <tr>\n",
       "      <th>OR</th>\n",
       "      <td>0.654</td>\n",
       "      <td>0.346</td>\n",
       "      <td>0.665</td>\n",
       "      <td>0.335</td>\n",
       "      <td>-0.011</td>\n",
       "    </tr>\n",
       "    <tr>\n",
       "      <th>NH</th>\n",
       "      <td>0.871</td>\n",
       "      <td>0.129</td>\n",
       "      <td>0.875</td>\n",
       "      <td>0.125</td>\n",
       "      <td>-0.004</td>\n",
       "    </tr>\n",
       "    <tr>\n",
       "      <th>ME</th>\n",
       "      <td>0.905</td>\n",
       "      <td>0.095</td>\n",
       "      <td>0.908</td>\n",
       "      <td>0.092</td>\n",
       "      <td>-0.003</td>\n",
       "    </tr>\n",
       "    <tr>\n",
       "      <th>VT</th>\n",
       "      <td>0.902</td>\n",
       "      <td>0.098</td>\n",
       "      <td>0.904</td>\n",
       "      <td>0.096</td>\n",
       "      <td>-0.002</td>\n",
       "    </tr>\n",
       "    <tr>\n",
       "      <th>IA</th>\n",
       "      <td>0.771</td>\n",
       "      <td>0.229</td>\n",
       "      <td>0.771</td>\n",
       "      <td>0.229</td>\n",
       "      <td>0.000</td>\n",
       "    </tr>\n",
       "    <tr>\n",
       "      <th>WV</th>\n",
       "      <td>0.912</td>\n",
       "      <td>0.088</td>\n",
       "      <td>0.905</td>\n",
       "      <td>0.095</td>\n",
       "      <td>0.007</td>\n",
       "    </tr>\n",
       "  </tbody>\n",
       "</table>\n",
       "</div>"
      ],
      "text/plain": [
       "           Pct White in ap-Yes  Pct Non-White in ap-Yes  \\\n",
       "LEA_STATE                                                 \n",
       "SC                       0.548                    0.452   \n",
       "NC                       0.531                    0.469   \n",
       "MS                       0.486                    0.514   \n",
       "MD                       0.415                    0.585   \n",
       "CT                       0.599                    0.401   \n",
       "AL                       0.574                    0.426   \n",
       "DE                       0.510                    0.490   \n",
       "CO                       0.557                    0.443   \n",
       "TN                       0.649                    0.351   \n",
       "SD                       0.789                    0.211   \n",
       "NE                       0.656                    0.344   \n",
       "AK                       0.550                    0.450   \n",
       "GA                       0.426                    0.574   \n",
       "IL                       0.469                    0.531   \n",
       "KS                       0.642                    0.358   \n",
       "AZ                       0.422                    0.578   \n",
       "NY                       0.493                    0.507   \n",
       "NJ                       0.508                    0.492   \n",
       "LA                       0.498                    0.502   \n",
       "VA                       0.529                    0.471   \n",
       "PA                       0.711                    0.289   \n",
       "NM                       0.241                    0.759   \n",
       "MT                       0.826                    0.174   \n",
       "OK                       0.507                    0.493   \n",
       "DC                       0.071                    0.929   \n",
       "WI                       0.745                    0.255   \n",
       "MI                       0.712                    0.288   \n",
       "MN                       0.716                    0.284   \n",
       "FL                       0.418                    0.582   \n",
       "NV                       0.348                    0.652   \n",
       "MA                       0.665                    0.335   \n",
       "UT                       0.755                    0.245   \n",
       "OH                       0.746                    0.254   \n",
       "RI                       0.630                    0.370   \n",
       "TX                       0.297                    0.703   \n",
       "HI                       0.130                    0.870   \n",
       "MO                       0.720                    0.280   \n",
       "CA                       0.256                    0.744   \n",
       "KY                       0.804                    0.196   \n",
       "ND                       0.822                    0.178   \n",
       "IN                       0.741                    0.259   \n",
       "WY                       0.808                    0.192   \n",
       "AR                       0.652                    0.348   \n",
       "ID                       0.774                    0.226   \n",
       "WA                       0.594                    0.406   \n",
       "OR                       0.654                    0.346   \n",
       "NH                       0.871                    0.129   \n",
       "ME                       0.905                    0.095   \n",
       "VT                       0.902                    0.098   \n",
       "IA                       0.771                    0.229   \n",
       "WV                       0.912                    0.088   \n",
       "\n",
       "           Pct White ap-Stuapnts  Pct Non-White ap-Stuapnts  Non-White Gap  \n",
       "LEA_STATE                                                                   \n",
       "SC                         0.720                      0.280         -0.172  \n",
       "NC                         0.668                      0.332         -0.137  \n",
       "MS                         0.614                      0.386         -0.128  \n",
       "MD                         0.532                      0.468         -0.117  \n",
       "CT                         0.712                      0.288         -0.113  \n",
       "AL                         0.679                      0.321         -0.105  \n",
       "DE                         0.611                      0.389         -0.101  \n",
       "CO                         0.650                      0.350         -0.093  \n",
       "TN                         0.740                      0.260         -0.091  \n",
       "SD                         0.879                      0.121         -0.090  \n",
       "NE                         0.745                      0.255         -0.089  \n",
       "AK                         0.638                      0.362         -0.088  \n",
       "GA                         0.514                      0.486         -0.088  \n",
       "IL                         0.547                      0.453         -0.078  \n",
       "KS                         0.719                      0.281         -0.077  \n",
       "AZ                         0.498                      0.502         -0.076  \n",
       "NY                         0.568                      0.432         -0.075  \n",
       "NJ                         0.581                      0.419         -0.073  \n",
       "LA                         0.571                      0.429         -0.073  \n",
       "VA                         0.602                      0.398         -0.073  \n",
       "PA                         0.780                      0.220         -0.069  \n",
       "NM                         0.307                      0.693         -0.066  \n",
       "MT                         0.892                      0.108         -0.066  \n",
       "OK                         0.572                      0.428         -0.065  \n",
       "DC                         0.135                      0.865         -0.064  \n",
       "WI                         0.809                      0.191         -0.064  \n",
       "MI                         0.776                      0.224         -0.064  \n",
       "MN                         0.777                      0.223         -0.061  \n",
       "FL                         0.477                      0.523         -0.059  \n",
       "NV                         0.401                      0.599         -0.053  \n",
       "MA                         0.717                      0.283         -0.052  \n",
       "UT                         0.807                      0.193         -0.052  \n",
       "OH                         0.797                      0.203         -0.051  \n",
       "RI                         0.674                      0.326         -0.044  \n",
       "TX                         0.337                      0.663         -0.040  \n",
       "HI                         0.168                      0.832         -0.038  \n",
       "MO                         0.756                      0.244         -0.036  \n",
       "CA                         0.290                      0.710         -0.034  \n",
       "KY                         0.836                      0.164         -0.032  \n",
       "ND                         0.853                      0.147         -0.031  \n",
       "IN                         0.772                      0.228         -0.031  \n",
       "WY                         0.834                      0.166         -0.026  \n",
       "AR                         0.678                      0.322         -0.026  \n",
       "ID                         0.798                      0.202         -0.024  \n",
       "WA                         0.607                      0.393         -0.013  \n",
       "OR                         0.665                      0.335         -0.011  \n",
       "NH                         0.875                      0.125         -0.004  \n",
       "ME                         0.908                      0.092         -0.003  \n",
       "VT                         0.904                      0.096         -0.002  \n",
       "IA                         0.771                      0.229          0.000  \n",
       "WV                         0.905                      0.095          0.007  "
      ]
     },
     "execution_count": 66,
     "metadata": {},
     "output_type": "execute_result"
    }
   ],
   "source": [
    "ap_state_nonwhite = crdc_1516_apYes.groupby(['LEA_STATE'])['ap_nonwhite_enrollment'].sum()\n",
    "ap_state_white = crdc_1516_apYes.groupby(['LEA_STATE'])['ap_white_enrollment'].sum()\n",
    "ap_state_total = crdc_1516_apYes.groupby(['LEA_STATE'])['ap_total_enrollment'].sum()\n",
    "\n",
    "apOffering_state_nonwhite = crdc_1516_apYes.groupby(['LEA_STATE'])['total_nonwhite_enrollment'].sum()\n",
    "apOffering_state_white = crdc_1516_apYes.groupby(['LEA_STATE'])['total_white_enrollment'].sum()\n",
    "apOffering_state_total = crdc_1516_apYes.groupby(['LEA_STATE'])['total_enrollment'].sum()\n",
    "\n",
    "ap_state_stats = pd.DataFrame([ap_state_white, ap_state_nonwhite, ap_state_total]).T\n",
    "apOffering_state_stats = pd.DataFrame([apOffering_state_white, apOffering_state_nonwhite, apOffering_state_total]).T\n",
    "\n",
    "ap_state_stats['ap_white_enrollment'] = round(ap_state_stats['ap_white_enrollment'] / ap_state_stats['ap_total_enrollment'],3)\n",
    "ap_state_stats['ap_nonwhite_enrollment'] = round(ap_state_stats['ap_nonwhite_enrollment'] / ap_state_stats['ap_total_enrollment'],3)\n",
    "ap_state_stats.drop('ap_total_enrollment', axis = 1, inplace = True)\n",
    "\n",
    "apOffering_state_stats['total_white_enrollment'] = round(apOffering_state_stats['total_white_enrollment'] / apOffering_state_stats['total_enrollment'],3)\n",
    "apOffering_state_stats['total_nonwhite_enrollment'] = round(apOffering_state_stats['total_nonwhite_enrollment'] / apOffering_state_stats['total_enrollment'],3)\n",
    "apOffering_state_stats.drop('total_enrollment', axis = 1, inplace = True)\n",
    "\n",
    "apOffering_state_stats = apOffering_state_stats.rename({'total_white_enrollment':'Pct White in ap-Yes', 'total_nonwhite_enrollment':'Pct Non-White in ap-Yes'}, axis = 'columns')\n",
    "ap_state_stats = ap_state_stats.rename({'ap_white_enrollment':'Pct White ap-Stuapnts', 'ap_nonwhite_enrollment':'Pct Non-White ap-Stuapnts'}, axis = 'columns')\n",
    "\n",
    "\"\"\"Join the two DataFrames\"\"\"\n",
    "ap_state_stats_final = apOffering_state_stats.join(ap_state_stats, how = 'inner')\n",
    "\n",
    "ap_state_stats_final['Non-White Gap'] = ap_state_stats_final['Pct Non-White ap-Stuapnts'] - ap_state_stats_final['Pct Non-White in ap-Yes']\n",
    "\n",
    "\"\"\" Which states have the most unapr-represented Non-White groups? \"\"\"\n",
    "ap_state_stats_final.sort_values('Non-White Gap')"
   ]
  },
  {
   "cell_type": "markdown",
   "metadata": {},
   "source": [
    "# IV. By LEP"
   ]
  },
  {
   "cell_type": "markdown",
   "metadata": {},
   "source": [
    "**DE**"
   ]
  },
  {
   "cell_type": "code",
   "execution_count": 67,
   "metadata": {},
   "outputs": [
    {
     "name": "stdout",
     "output_type": "stream",
     "text": [
      "LEP: 21225  ( 0.018 )\n"
     ]
    }
   ],
   "source": [
    "total_dualEnr_lep = crdc_1516_deYes['de_lep_enrollment'].sum()\n",
    "\n",
    "de_pct_lep = round(total_dualEnr_lep / (de_total_enrollment), 3)\n",
    "\n",
    "print('LEP:', total_dualEnr_lep, ' (', de_pct_lep, ')')"
   ]
  },
  {
   "cell_type": "markdown",
   "metadata": {},
   "source": [
    "**AP**"
   ]
  },
  {
   "cell_type": "code",
   "execution_count": 68,
   "metadata": {},
   "outputs": [
    {
     "name": "stdout",
     "output_type": "stream",
     "text": [
      "LEP: 52388  ( 0.019 )\n"
     ]
    }
   ],
   "source": [
    "total_apEnr_lep = crdc_1516_apYes['ap_lep_enrollment'].sum()\n",
    "\n",
    "ap_pct_lep = round(total_apEnr_lep / (ap_total_enrollment), 3)\n",
    "\n",
    "print('LEP:', total_apEnr_lep, ' (', ap_pct_lep, ')')"
   ]
  },
  {
   "cell_type": "markdown",
   "metadata": {},
   "source": [
    "**Totals in DE-Offering Schools**"
   ]
  },
  {
   "cell_type": "code",
   "execution_count": 69,
   "metadata": {},
   "outputs": [
    {
     "name": "stdout",
     "output_type": "stream",
     "text": [
      "LEP: 551215  ( 0.049 )\n"
     ]
    }
   ],
   "source": [
    "total_enr_deOffering_lep = crdc_1516_deYes['total_lep_enrollment'].sum()\n",
    "\n",
    "deOffering_pct_lep = round(total_enr_deOffering_lep / (deOffering_total_enrollment), 3)\n",
    "\n",
    "print('LEP:', total_enr_deOffering_lep, ' (', deOffering_pct_lep, ')')"
   ]
  },
  {
   "cell_type": "markdown",
   "metadata": {},
   "source": [
    "**Totals in AP-Offering Schools**"
   ]
  },
  {
   "cell_type": "code",
   "execution_count": 70,
   "metadata": {},
   "outputs": [
    {
     "name": "stdout",
     "output_type": "stream",
     "text": [
      "LEP: 749990  ( 0.056 )\n"
     ]
    }
   ],
   "source": [
    "total_enr_apOffering_lep = crdc_1516_apYes['total_lep_enrollment'].sum()\n",
    "\n",
    "apOffering_pct_lep = round(total_enr_apOffering_lep / (apOffering_total_enrollment), 3)\n",
    "\n",
    "print('LEP:', total_enr_apOffering_lep, ' (', apOffering_pct_lep, ')')"
   ]
  },
  {
   "cell_type": "markdown",
   "metadata": {},
   "source": [
    "**Visualizing**"
   ]
  },
  {
   "cell_type": "code",
   "execution_count": 71,
   "metadata": {},
   "outputs": [
    {
     "name": "stdout",
     "output_type": "stream",
     "text": [
      "LEP Individuals make up 4.9% of the total enrollment of schools that offer DE-courses, but make up 1.8% of the total DE enrollment.\n"
     ]
    }
   ],
   "source": [
    "print('LEP Individuals make up ' + str(deOffering_pct_lep * 100) + '% ' + \n",
    "      'of the total enrollment of schools that offer DE-courses, but make up ' + str(round(de_pct_lep * 100,1)) + '% ' +\n",
    "      'of the total DE enrollment.')"
   ]
  },
  {
   "cell_type": "code",
   "execution_count": 72,
   "metadata": {},
   "outputs": [
    {
     "name": "stdout",
     "output_type": "stream",
     "text": [
      "LEP Individuals make up 5.6% of the total enrollment of schools that offer AP-courses, but make up 1.9% of the total AP enrollment.\n"
     ]
    }
   ],
   "source": [
    "print('LEP Individuals make up ' + str(round(apOffering_pct_lep * 100,1)) + '% ' + \n",
    "      'of the total enrollment of schools that offer AP-courses, but make up ' + str(round(ap_pct_lep * 100,1)) + '% ' +\n",
    "      'of the total AP enrollment.')"
   ]
  },
  {
   "cell_type": "markdown",
   "metadata": {},
   "source": [
    "# V. By IDEA"
   ]
  },
  {
   "cell_type": "markdown",
   "metadata": {},
   "source": [
    "**DE**"
   ]
  },
  {
   "cell_type": "code",
   "execution_count": 73,
   "metadata": {},
   "outputs": [
    {
     "name": "stdout",
     "output_type": "stream",
     "text": [
      "IDEA: 43103  ( 0.037 )\n"
     ]
    }
   ],
   "source": [
    "total_deEnr_idea = crdc_1516_deYes['de_idea_enrollment'].sum()\n",
    "\n",
    "de_pct_idea = round(total_deEnr_idea / (de_total_enrollment), 3)\n",
    "\n",
    "print('IDEA:', total_deEnr_idea, ' (', de_pct_idea, ')')"
   ]
  },
  {
   "cell_type": "markdown",
   "metadata": {},
   "source": [
    "**AP**"
   ]
  },
  {
   "cell_type": "code",
   "execution_count": 74,
   "metadata": {},
   "outputs": [
    {
     "name": "stdout",
     "output_type": "stream",
     "text": [
      "IDEA: 42562  ( 0.015 )\n"
     ]
    }
   ],
   "source": [
    "total_apEnr_idea = crdc_1516_apYes['ap_idea_enrollment'].sum()\n",
    "\n",
    "ap_pct_idea = round(total_apEnr_idea / (ap_total_enrollment), 3)\n",
    "\n",
    "print('IDEA:', total_apEnr_idea, ' (', ap_pct_idea, ')')"
   ]
  },
  {
   "cell_type": "markdown",
   "metadata": {},
   "source": [
    "**Totals in DE-Offering Schools**"
   ]
  },
  {
   "cell_type": "code",
   "execution_count": 75,
   "metadata": {},
   "outputs": [
    {
     "name": "stdout",
     "output_type": "stream",
     "text": [
      "IDEA: 1293995  ( 0.115 )\n"
     ]
    }
   ],
   "source": [
    "total_enr_deOffering_idea = crdc_1516_deYes['total_idea_enrollment'].sum()\n",
    "\n",
    "deOffering_pct_idea = round(total_enr_deOffering_idea / (deOffering_total_enrollment), 3)\n",
    "\n",
    "print('IDEA:', total_enr_deOffering_idea, ' (', deOffering_pct_idea, ')')"
   ]
  },
  {
   "cell_type": "markdown",
   "metadata": {},
   "source": [
    "**Totals in AP-Offering Schools**"
   ]
  },
  {
   "cell_type": "code",
   "execution_count": 76,
   "metadata": {},
   "outputs": [
    {
     "name": "stdout",
     "output_type": "stream",
     "text": [
      "IDEA: 1539222  ( 0.115 )\n"
     ]
    }
   ],
   "source": [
    "total_enr_apOffering_idea = crdc_1516_apYes['total_idea_enrollment'].sum()\n",
    "\n",
    "apOffering_pct_idea = round(total_enr_apOffering_idea / (apOffering_total_enrollment), 3)\n",
    "\n",
    "print('IDEA:', total_enr_apOffering_idea, ' (', apOffering_pct_idea, ')')"
   ]
  },
  {
   "cell_type": "markdown",
   "metadata": {},
   "source": [
    "**Visualizing**"
   ]
  },
  {
   "cell_type": "code",
   "execution_count": 77,
   "metadata": {},
   "outputs": [
    {
     "name": "stdout",
     "output_type": "stream",
     "text": [
      "IDEA Individuals make up 11.5% of the total enrollment of schools that offer DE-courses, but make up 3.7% of the total DE enrollment.\n"
     ]
    }
   ],
   "source": [
    "print('IDEA Individuals make up ' + str(deOffering_pct_idea * 100) + '% ' + \n",
    "      'of the total enrollment of schools that offer DE-courses, but make up ' + str(round(de_pct_idea * 100,1)) + '% ' +\n",
    "      'of the total DE enrollment.')"
   ]
  },
  {
   "cell_type": "code",
   "execution_count": 78,
   "metadata": {},
   "outputs": [
    {
     "name": "stdout",
     "output_type": "stream",
     "text": [
      "IDEA Individuals make up 11.5% of the total enrollment of schools that offer AP-courses, but make up 1.5% of the total AP enrollment.\n"
     ]
    }
   ],
   "source": [
    "print('IDEA Individuals make up ' + str(apOffering_pct_idea * 100) + '% ' + \n",
    "      'of the total enrollment of schools that offer AP-courses, but make up ' + str(round(ap_pct_idea * 100,1)) + '% ' +\n",
    "      'of the total AP enrollment.')"
   ]
  },
  {
   "cell_type": "markdown",
   "metadata": {},
   "source": [
    "## VI. By State"
   ]
  },
  {
   "cell_type": "markdown",
   "metadata": {},
   "source": [
    "** DE **"
   ]
  },
  {
   "cell_type": "code",
   "execution_count": 79,
   "metadata": {},
   "outputs": [],
   "source": [
    "deOffering_state_total = crdc_1516_deYes.groupby('LEA_STATE')['total_enrollment'].sum().reset_index()\n",
    "de_state_enrollment = crdc_1516_deYes.groupby('LEA_STATE')['de_total_enrollment'].sum().reset_index()\n",
    "de_state = de_state_enrollment.merge(deOffering_state_total, how = 'inner', on = 'LEA_STATE')"
   ]
  },
  {
   "cell_type": "code",
   "execution_count": 80,
   "metadata": {},
   "outputs": [
    {
     "data": {
      "text/html": [
       "<div>\n",
       "<style scoped>\n",
       "    .dataframe tbody tr th:only-of-type {\n",
       "        vertical-align: middle;\n",
       "    }\n",
       "\n",
       "    .dataframe tbody tr th {\n",
       "        vertical-align: top;\n",
       "    }\n",
       "\n",
       "    .dataframe thead th {\n",
       "        text-align: right;\n",
       "    }\n",
       "</style>\n",
       "<table border=\"1\" class=\"dataframe\">\n",
       "  <thead>\n",
       "    <tr style=\"text-align: right;\">\n",
       "      <th></th>\n",
       "      <th>LEA_STATE</th>\n",
       "      <th>de_total_enrollment</th>\n",
       "      <th>total_enrollment</th>\n",
       "      <th>de_pct_enrolled</th>\n",
       "    </tr>\n",
       "  </thead>\n",
       "  <tbody>\n",
       "    <tr>\n",
       "      <th>0</th>\n",
       "      <td>IN</td>\n",
       "      <td>69580</td>\n",
       "      <td>288343</td>\n",
       "      <td>0.241</td>\n",
       "    </tr>\n",
       "    <tr>\n",
       "      <th>1</th>\n",
       "      <td>WA</td>\n",
       "      <td>51780</td>\n",
       "      <td>230999</td>\n",
       "      <td>0.224</td>\n",
       "    </tr>\n",
       "    <tr>\n",
       "      <th>2</th>\n",
       "      <td>IA</td>\n",
       "      <td>31135</td>\n",
       "      <td>147306</td>\n",
       "      <td>0.211</td>\n",
       "    </tr>\n",
       "    <tr>\n",
       "      <th>3</th>\n",
       "      <td>ID</td>\n",
       "      <td>15712</td>\n",
       "      <td>75145</td>\n",
       "      <td>0.209</td>\n",
       "    </tr>\n",
       "    <tr>\n",
       "      <th>4</th>\n",
       "      <td>WI</td>\n",
       "      <td>45113</td>\n",
       "      <td>221865</td>\n",
       "      <td>0.203</td>\n",
       "    </tr>\n",
       "    <tr>\n",
       "      <th>5</th>\n",
       "      <td>WY</td>\n",
       "      <td>4802</td>\n",
       "      <td>24075</td>\n",
       "      <td>0.199</td>\n",
       "    </tr>\n",
       "    <tr>\n",
       "      <th>6</th>\n",
       "      <td>KS</td>\n",
       "      <td>24312</td>\n",
       "      <td>125383</td>\n",
       "      <td>0.194</td>\n",
       "    </tr>\n",
       "    <tr>\n",
       "      <th>7</th>\n",
       "      <td>OR</td>\n",
       "      <td>26742</td>\n",
       "      <td>139166</td>\n",
       "      <td>0.192</td>\n",
       "    </tr>\n",
       "    <tr>\n",
       "      <th>8</th>\n",
       "      <td>NY</td>\n",
       "      <td>79598</td>\n",
       "      <td>470460</td>\n",
       "      <td>0.169</td>\n",
       "    </tr>\n",
       "    <tr>\n",
       "      <th>9</th>\n",
       "      <td>UT</td>\n",
       "      <td>22975</td>\n",
       "      <td>138444</td>\n",
       "      <td>0.166</td>\n",
       "    </tr>\n",
       "    <tr>\n",
       "      <th>10</th>\n",
       "      <td>MO</td>\n",
       "      <td>38345</td>\n",
       "      <td>248197</td>\n",
       "      <td>0.154</td>\n",
       "    </tr>\n",
       "    <tr>\n",
       "      <th>11</th>\n",
       "      <td>NE</td>\n",
       "      <td>12905</td>\n",
       "      <td>91368</td>\n",
       "      <td>0.141</td>\n",
       "    </tr>\n",
       "    <tr>\n",
       "      <th>12</th>\n",
       "      <td>AZ</td>\n",
       "      <td>30977</td>\n",
       "      <td>221549</td>\n",
       "      <td>0.140</td>\n",
       "    </tr>\n",
       "    <tr>\n",
       "      <th>13</th>\n",
       "      <td>CT</td>\n",
       "      <td>15172</td>\n",
       "      <td>109855</td>\n",
       "      <td>0.138</td>\n",
       "    </tr>\n",
       "    <tr>\n",
       "      <th>14</th>\n",
       "      <td>NM</td>\n",
       "      <td>10195</td>\n",
       "      <td>74903</td>\n",
       "      <td>0.136</td>\n",
       "    </tr>\n",
       "    <tr>\n",
       "      <th>15</th>\n",
       "      <td>ND</td>\n",
       "      <td>4298</td>\n",
       "      <td>32151</td>\n",
       "      <td>0.134</td>\n",
       "    </tr>\n",
       "    <tr>\n",
       "      <th>16</th>\n",
       "      <td>NJ</td>\n",
       "      <td>35284</td>\n",
       "      <td>280344</td>\n",
       "      <td>0.126</td>\n",
       "    </tr>\n",
       "    <tr>\n",
       "      <th>17</th>\n",
       "      <td>MN</td>\n",
       "      <td>24455</td>\n",
       "      <td>198336</td>\n",
       "      <td>0.123</td>\n",
       "    </tr>\n",
       "    <tr>\n",
       "      <th>18</th>\n",
       "      <td>AR</td>\n",
       "      <td>13337</td>\n",
       "      <td>108164</td>\n",
       "      <td>0.123</td>\n",
       "    </tr>\n",
       "    <tr>\n",
       "      <th>19</th>\n",
       "      <td>OH</td>\n",
       "      <td>49795</td>\n",
       "      <td>468723</td>\n",
       "      <td>0.106</td>\n",
       "    </tr>\n",
       "    <tr>\n",
       "      <th>20</th>\n",
       "      <td>KY</td>\n",
       "      <td>17809</td>\n",
       "      <td>170824</td>\n",
       "      <td>0.104</td>\n",
       "    </tr>\n",
       "    <tr>\n",
       "      <th>21</th>\n",
       "      <td>IL</td>\n",
       "      <td>49930</td>\n",
       "      <td>500298</td>\n",
       "      <td>0.100</td>\n",
       "    </tr>\n",
       "    <tr>\n",
       "      <th>22</th>\n",
       "      <td>TX</td>\n",
       "      <td>130663</td>\n",
       "      <td>1350035</td>\n",
       "      <td>0.097</td>\n",
       "    </tr>\n",
       "    <tr>\n",
       "      <th>23</th>\n",
       "      <td>VA</td>\n",
       "      <td>31525</td>\n",
       "      <td>334742</td>\n",
       "      <td>0.094</td>\n",
       "    </tr>\n",
       "    <tr>\n",
       "      <th>24</th>\n",
       "      <td>SD</td>\n",
       "      <td>3207</td>\n",
       "      <td>34770</td>\n",
       "      <td>0.092</td>\n",
       "    </tr>\n",
       "    <tr>\n",
       "      <th>25</th>\n",
       "      <td>NC</td>\n",
       "      <td>29755</td>\n",
       "      <td>339083</td>\n",
       "      <td>0.088</td>\n",
       "    </tr>\n",
       "    <tr>\n",
       "      <th>26</th>\n",
       "      <td>NH</td>\n",
       "      <td>3074</td>\n",
       "      <td>35100</td>\n",
       "      <td>0.088</td>\n",
       "    </tr>\n",
       "    <tr>\n",
       "      <th>27</th>\n",
       "      <td>LA</td>\n",
       "      <td>17661</td>\n",
       "      <td>203084</td>\n",
       "      <td>0.087</td>\n",
       "    </tr>\n",
       "    <tr>\n",
       "      <th>28</th>\n",
       "      <td>MT</td>\n",
       "      <td>2925</td>\n",
       "      <td>34541</td>\n",
       "      <td>0.085</td>\n",
       "    </tr>\n",
       "    <tr>\n",
       "      <th>29</th>\n",
       "      <td>TN</td>\n",
       "      <td>21080</td>\n",
       "      <td>269189</td>\n",
       "      <td>0.078</td>\n",
       "    </tr>\n",
       "    <tr>\n",
       "      <th>30</th>\n",
       "      <td>CO</td>\n",
       "      <td>18016</td>\n",
       "      <td>229899</td>\n",
       "      <td>0.078</td>\n",
       "    </tr>\n",
       "    <tr>\n",
       "      <th>31</th>\n",
       "      <td>PA</td>\n",
       "      <td>25135</td>\n",
       "      <td>353893</td>\n",
       "      <td>0.071</td>\n",
       "    </tr>\n",
       "    <tr>\n",
       "      <th>32</th>\n",
       "      <td>WV</td>\n",
       "      <td>4684</td>\n",
       "      <td>66629</td>\n",
       "      <td>0.070</td>\n",
       "    </tr>\n",
       "    <tr>\n",
       "      <th>33</th>\n",
       "      <td>VT</td>\n",
       "      <td>1845</td>\n",
       "      <td>26770</td>\n",
       "      <td>0.069</td>\n",
       "    </tr>\n",
       "    <tr>\n",
       "      <th>34</th>\n",
       "      <td>AK</td>\n",
       "      <td>2029</td>\n",
       "      <td>29265</td>\n",
       "      <td>0.069</td>\n",
       "    </tr>\n",
       "    <tr>\n",
       "      <th>35</th>\n",
       "      <td>FL</td>\n",
       "      <td>54541</td>\n",
       "      <td>789892</td>\n",
       "      <td>0.069</td>\n",
       "    </tr>\n",
       "    <tr>\n",
       "      <th>36</th>\n",
       "      <td>MS</td>\n",
       "      <td>9101</td>\n",
       "      <td>135390</td>\n",
       "      <td>0.067</td>\n",
       "    </tr>\n",
       "    <tr>\n",
       "      <th>37</th>\n",
       "      <td>RI</td>\n",
       "      <td>1394</td>\n",
       "      <td>21512</td>\n",
       "      <td>0.065</td>\n",
       "    </tr>\n",
       "    <tr>\n",
       "      <th>38</th>\n",
       "      <td>SC</td>\n",
       "      <td>13352</td>\n",
       "      <td>210834</td>\n",
       "      <td>0.063</td>\n",
       "    </tr>\n",
       "    <tr>\n",
       "      <th>39</th>\n",
       "      <td>ME</td>\n",
       "      <td>2168</td>\n",
       "      <td>35868</td>\n",
       "      <td>0.060</td>\n",
       "    </tr>\n",
       "    <tr>\n",
       "      <th>40</th>\n",
       "      <td>OK</td>\n",
       "      <td>7891</td>\n",
       "      <td>141995</td>\n",
       "      <td>0.056</td>\n",
       "    </tr>\n",
       "    <tr>\n",
       "      <th>41</th>\n",
       "      <td>NV</td>\n",
       "      <td>2325</td>\n",
       "      <td>43753</td>\n",
       "      <td>0.053</td>\n",
       "    </tr>\n",
       "    <tr>\n",
       "      <th>42</th>\n",
       "      <td>DE</td>\n",
       "      <td>1526</td>\n",
       "      <td>28636</td>\n",
       "      <td>0.053</td>\n",
       "    </tr>\n",
       "    <tr>\n",
       "      <th>43</th>\n",
       "      <td>AL</td>\n",
       "      <td>10801</td>\n",
       "      <td>220038</td>\n",
       "      <td>0.049</td>\n",
       "    </tr>\n",
       "    <tr>\n",
       "      <th>44</th>\n",
       "      <td>MI</td>\n",
       "      <td>19588</td>\n",
       "      <td>403291</td>\n",
       "      <td>0.049</td>\n",
       "    </tr>\n",
       "    <tr>\n",
       "      <th>45</th>\n",
       "      <td>HI</td>\n",
       "      <td>2737</td>\n",
       "      <td>56608</td>\n",
       "      <td>0.048</td>\n",
       "    </tr>\n",
       "    <tr>\n",
       "      <th>46</th>\n",
       "      <td>CA</td>\n",
       "      <td>31127</td>\n",
       "      <td>666446</td>\n",
       "      <td>0.047</td>\n",
       "    </tr>\n",
       "    <tr>\n",
       "      <th>47</th>\n",
       "      <td>GA</td>\n",
       "      <td>19605</td>\n",
       "      <td>480324</td>\n",
       "      <td>0.041</td>\n",
       "    </tr>\n",
       "    <tr>\n",
       "      <th>48</th>\n",
       "      <td>MD</td>\n",
       "      <td>6550</td>\n",
       "      <td>231946</td>\n",
       "      <td>0.028</td>\n",
       "    </tr>\n",
       "    <tr>\n",
       "      <th>49</th>\n",
       "      <td>MA</td>\n",
       "      <td>3077</td>\n",
       "      <td>141449</td>\n",
       "      <td>0.022</td>\n",
       "    </tr>\n",
       "    <tr>\n",
       "      <th>50</th>\n",
       "      <td>DC</td>\n",
       "      <td>37</td>\n",
       "      <td>2423</td>\n",
       "      <td>0.015</td>\n",
       "    </tr>\n",
       "  </tbody>\n",
       "</table>\n",
       "</div>"
      ],
      "text/plain": [
       "   LEA_STATE  de_total_enrollment  total_enrollment  de_pct_enrolled\n",
       "0         IN                69580            288343            0.241\n",
       "1         WA                51780            230999            0.224\n",
       "2         IA                31135            147306            0.211\n",
       "3         ID                15712             75145            0.209\n",
       "4         WI                45113            221865            0.203\n",
       "5         WY                 4802             24075            0.199\n",
       "6         KS                24312            125383            0.194\n",
       "7         OR                26742            139166            0.192\n",
       "8         NY                79598            470460            0.169\n",
       "9         UT                22975            138444            0.166\n",
       "10        MO                38345            248197            0.154\n",
       "11        NE                12905             91368            0.141\n",
       "12        AZ                30977            221549            0.140\n",
       "13        CT                15172            109855            0.138\n",
       "14        NM                10195             74903            0.136\n",
       "15        ND                 4298             32151            0.134\n",
       "16        NJ                35284            280344            0.126\n",
       "17        MN                24455            198336            0.123\n",
       "18        AR                13337            108164            0.123\n",
       "19        OH                49795            468723            0.106\n",
       "20        KY                17809            170824            0.104\n",
       "21        IL                49930            500298            0.100\n",
       "22        TX               130663           1350035            0.097\n",
       "23        VA                31525            334742            0.094\n",
       "24        SD                 3207             34770            0.092\n",
       "25        NC                29755            339083            0.088\n",
       "26        NH                 3074             35100            0.088\n",
       "27        LA                17661            203084            0.087\n",
       "28        MT                 2925             34541            0.085\n",
       "29        TN                21080            269189            0.078\n",
       "30        CO                18016            229899            0.078\n",
       "31        PA                25135            353893            0.071\n",
       "32        WV                 4684             66629            0.070\n",
       "33        VT                 1845             26770            0.069\n",
       "34        AK                 2029             29265            0.069\n",
       "35        FL                54541            789892            0.069\n",
       "36        MS                 9101            135390            0.067\n",
       "37        RI                 1394             21512            0.065\n",
       "38        SC                13352            210834            0.063\n",
       "39        ME                 2168             35868            0.060\n",
       "40        OK                 7891            141995            0.056\n",
       "41        NV                 2325             43753            0.053\n",
       "42        DE                 1526             28636            0.053\n",
       "43        AL                10801            220038            0.049\n",
       "44        MI                19588            403291            0.049\n",
       "45        HI                 2737             56608            0.048\n",
       "46        CA                31127            666446            0.047\n",
       "47        GA                19605            480324            0.041\n",
       "48        MD                 6550            231946            0.028\n",
       "49        MA                 3077            141449            0.022\n",
       "50        DC                   37              2423            0.015"
      ]
     },
     "execution_count": 80,
     "metadata": {},
     "output_type": "execute_result"
    }
   ],
   "source": [
    "de_state['de_pct_enrolled'] = round(de_state['de_total_enrollment'] / de_state['total_enrollment'], 3)\n",
    "de_state.sort_values('de_pct_enrolled', ascending = False).reset_index().drop('index', axis = 1)"
   ]
  },
  {
   "cell_type": "code",
   "execution_count": 81,
   "metadata": {},
   "outputs": [],
   "source": [
    "de_data = dict(type = 'choropleth',\n",
    "            locations = de_state['LEA_STATE'],\n",
    "            locationmode = 'USA-states',\n",
    "            z = de_state['de_pct_enrolled'])\n",
    "\n",
    "de_layout = dict(title = 'Percentage of Total Enrollment in DE',\n",
    "    geo = {'scope':'usa'})\n",
    "\n",
    "de_choromap = go.Figure(data = [de_data], layout = de_layout)"
   ]
  },
  {
   "cell_type": "code",
   "execution_count": 82,
   "metadata": {},
   "outputs": [
    {
     "data": {
      "application/vnd.plotly.v1+json": {
       "data": [
        {
         "locationmode": "USA-states",
         "locations": [
          "AK",
          "AL",
          "AR",
          "AZ",
          "CA",
          "CO",
          "CT",
          "DC",
          "DE",
          "FL",
          "GA",
          "HI",
          "IA",
          "ID",
          "IL",
          "IN",
          "KS",
          "KY",
          "LA",
          "MA",
          "MD",
          "ME",
          "MI",
          "MN",
          "MO",
          "MS",
          "MT",
          "NC",
          "ND",
          "NE",
          "NH",
          "NJ",
          "NM",
          "NV",
          "NY",
          "OH",
          "OK",
          "OR",
          "PA",
          "RI",
          "SC",
          "SD",
          "TN",
          "TX",
          "UT",
          "VA",
          "VT",
          "WA",
          "WI",
          "WV",
          "WY"
         ],
         "type": "choropleth",
         "z": [
          0.069,
          0.049,
          0.123,
          0.14,
          0.047,
          0.078,
          0.138,
          0.015,
          0.053,
          0.069,
          0.041,
          0.048,
          0.211,
          0.209,
          0.1,
          0.241,
          0.194,
          0.104,
          0.087,
          0.022,
          0.028,
          0.06,
          0.049,
          0.123,
          0.154,
          0.067,
          0.085,
          0.088,
          0.134,
          0.141,
          0.088,
          0.126,
          0.136,
          0.053,
          0.169,
          0.106,
          0.056,
          0.192,
          0.071,
          0.065,
          0.063,
          0.092,
          0.078,
          0.097,
          0.166,
          0.094,
          0.069,
          0.224,
          0.203,
          0.07,
          0.199
         ]
        }
       ],
       "layout": {
        "geo": {
         "scope": "usa"
        },
        "title": "Percentage of Total Enrollment in DE"
       }
      },
      "text/html": [
       "<div id=\"259e519c-61f4-43ae-a25e-78c7f526d757\" style=\"height: 525px; width: 100%;\" class=\"plotly-graph-div\"></div><script type=\"text/javascript\">require([\"plotly\"], function(Plotly) { window.PLOTLYENV=window.PLOTLYENV || {};window.PLOTLYENV.BASE_URL=\"https://plot.ly\";Plotly.newPlot(\"259e519c-61f4-43ae-a25e-78c7f526d757\", [{\"type\": \"choropleth\", \"locations\": [\"AK\", \"AL\", \"AR\", \"AZ\", \"CA\", \"CO\", \"CT\", \"DC\", \"DE\", \"FL\", \"GA\", \"HI\", \"IA\", \"ID\", \"IL\", \"IN\", \"KS\", \"KY\", \"LA\", \"MA\", \"MD\", \"ME\", \"MI\", \"MN\", \"MO\", \"MS\", \"MT\", \"NC\", \"ND\", \"NE\", \"NH\", \"NJ\", \"NM\", \"NV\", \"NY\", \"OH\", \"OK\", \"OR\", \"PA\", \"RI\", \"SC\", \"SD\", \"TN\", \"TX\", \"UT\", \"VA\", \"VT\", \"WA\", \"WI\", \"WV\", \"WY\"], \"locationmode\": \"USA-states\", \"z\": [0.069, 0.049, 0.123, 0.14, 0.047, 0.078, 0.138, 0.015, 0.053, 0.069, 0.041, 0.048, 0.211, 0.209, 0.1, 0.241, 0.194, 0.104, 0.087, 0.022, 0.028, 0.06, 0.049, 0.123, 0.154, 0.067, 0.085, 0.088, 0.134, 0.141, 0.088, 0.126, 0.136, 0.053, 0.169, 0.106, 0.056, 0.192, 0.071, 0.065, 0.063, 0.092, 0.078, 0.097, 0.166, 0.094, 0.069, 0.224, 0.203, 0.07, 0.199]}], {\"title\": \"Percentage of Total Enrollment in DE\", \"geo\": {\"scope\": \"usa\"}}, {\"showLink\": true, \"linkText\": \"Export to plot.ly\"})});</script>"
      ],
      "text/vnd.plotly.v1+html": [
       "<div id=\"259e519c-61f4-43ae-a25e-78c7f526d757\" style=\"height: 525px; width: 100%;\" class=\"plotly-graph-div\"></div><script type=\"text/javascript\">require([\"plotly\"], function(Plotly) { window.PLOTLYENV=window.PLOTLYENV || {};window.PLOTLYENV.BASE_URL=\"https://plot.ly\";Plotly.newPlot(\"259e519c-61f4-43ae-a25e-78c7f526d757\", [{\"type\": \"choropleth\", \"locations\": [\"AK\", \"AL\", \"AR\", \"AZ\", \"CA\", \"CO\", \"CT\", \"DC\", \"DE\", \"FL\", \"GA\", \"HI\", \"IA\", \"ID\", \"IL\", \"IN\", \"KS\", \"KY\", \"LA\", \"MA\", \"MD\", \"ME\", \"MI\", \"MN\", \"MO\", \"MS\", \"MT\", \"NC\", \"ND\", \"NE\", \"NH\", \"NJ\", \"NM\", \"NV\", \"NY\", \"OH\", \"OK\", \"OR\", \"PA\", \"RI\", \"SC\", \"SD\", \"TN\", \"TX\", \"UT\", \"VA\", \"VT\", \"WA\", \"WI\", \"WV\", \"WY\"], \"locationmode\": \"USA-states\", \"z\": [0.069, 0.049, 0.123, 0.14, 0.047, 0.078, 0.138, 0.015, 0.053, 0.069, 0.041, 0.048, 0.211, 0.209, 0.1, 0.241, 0.194, 0.104, 0.087, 0.022, 0.028, 0.06, 0.049, 0.123, 0.154, 0.067, 0.085, 0.088, 0.134, 0.141, 0.088, 0.126, 0.136, 0.053, 0.169, 0.106, 0.056, 0.192, 0.071, 0.065, 0.063, 0.092, 0.078, 0.097, 0.166, 0.094, 0.069, 0.224, 0.203, 0.07, 0.199]}], {\"title\": \"Percentage of Total Enrollment in DE\", \"geo\": {\"scope\": \"usa\"}}, {\"showLink\": true, \"linkText\": \"Export to plot.ly\"})});</script>"
      ]
     },
     "metadata": {},
     "output_type": "display_data"
    }
   ],
   "source": [
    "iplot(de_choromap)\n",
    "# iplot(de_choromap, image = 'png', filename='./Visualizations/by_state_de_choropleth')"
   ]
  },
  {
   "cell_type": "markdown",
   "metadata": {},
   "source": [
    "** AP **"
   ]
  },
  {
   "cell_type": "code",
   "execution_count": 83,
   "metadata": {},
   "outputs": [],
   "source": [
    "apOffering_state_total = crdc_1516_apYes.groupby('LEA_STATE')['total_enrollment'].sum().reset_index()\n",
    "ap_state_enrollment = crdc_1516_apYes.groupby('LEA_STATE')['ap_total_enrollment'].sum().reset_index()\n",
    "ap_state = ap_state_enrollment.merge(apOffering_state_total, how = 'inner', on = 'LEA_STATE')"
   ]
  },
  {
   "cell_type": "code",
   "execution_count": 84,
   "metadata": {},
   "outputs": [
    {
     "data": {
      "text/html": [
       "<div>\n",
       "<style scoped>\n",
       "    .dataframe tbody tr th:only-of-type {\n",
       "        vertical-align: middle;\n",
       "    }\n",
       "\n",
       "    .dataframe tbody tr th {\n",
       "        vertical-align: top;\n",
       "    }\n",
       "\n",
       "    .dataframe thead th {\n",
       "        text-align: right;\n",
       "    }\n",
       "</style>\n",
       "<table border=\"1\" class=\"dataframe\">\n",
       "  <thead>\n",
       "    <tr style=\"text-align: right;\">\n",
       "      <th></th>\n",
       "      <th>LEA_STATE</th>\n",
       "      <th>ap_total_enrollment</th>\n",
       "      <th>total_enrollment</th>\n",
       "      <th>ap_pct_enrolled</th>\n",
       "    </tr>\n",
       "  </thead>\n",
       "  <tbody>\n",
       "    <tr>\n",
       "      <th>0</th>\n",
       "      <td>MD</td>\n",
       "      <td>71071</td>\n",
       "      <td>248922</td>\n",
       "      <td>0.286</td>\n",
       "    </tr>\n",
       "    <tr>\n",
       "      <th>1</th>\n",
       "      <td>TX</td>\n",
       "      <td>340351</td>\n",
       "      <td>1372856</td>\n",
       "      <td>0.248</td>\n",
       "    </tr>\n",
       "    <tr>\n",
       "      <th>2</th>\n",
       "      <td>DC</td>\n",
       "      <td>4107</td>\n",
       "      <td>16530</td>\n",
       "      <td>0.248</td>\n",
       "    </tr>\n",
       "    <tr>\n",
       "      <th>3</th>\n",
       "      <td>FL</td>\n",
       "      <td>193899</td>\n",
       "      <td>791978</td>\n",
       "      <td>0.245</td>\n",
       "    </tr>\n",
       "    <tr>\n",
       "      <th>4</th>\n",
       "      <td>MN</td>\n",
       "      <td>46014</td>\n",
       "      <td>191597</td>\n",
       "      <td>0.240</td>\n",
       "    </tr>\n",
       "    <tr>\n",
       "      <th>5</th>\n",
       "      <td>CA</td>\n",
       "      <td>414824</td>\n",
       "      <td>1740796</td>\n",
       "      <td>0.238</td>\n",
       "    </tr>\n",
       "    <tr>\n",
       "      <th>6</th>\n",
       "      <td>KY</td>\n",
       "      <td>44403</td>\n",
       "      <td>189603</td>\n",
       "      <td>0.234</td>\n",
       "    </tr>\n",
       "    <tr>\n",
       "      <th>7</th>\n",
       "      <td>VA</td>\n",
       "      <td>88228</td>\n",
       "      <td>377468</td>\n",
       "      <td>0.234</td>\n",
       "    </tr>\n",
       "    <tr>\n",
       "      <th>8</th>\n",
       "      <td>GA</td>\n",
       "      <td>114383</td>\n",
       "      <td>488056</td>\n",
       "      <td>0.234</td>\n",
       "    </tr>\n",
       "    <tr>\n",
       "      <th>9</th>\n",
       "      <td>CO</td>\n",
       "      <td>53358</td>\n",
       "      <td>234848</td>\n",
       "      <td>0.227</td>\n",
       "    </tr>\n",
       "    <tr>\n",
       "      <th>10</th>\n",
       "      <td>WA</td>\n",
       "      <td>61535</td>\n",
       "      <td>273112</td>\n",
       "      <td>0.225</td>\n",
       "    </tr>\n",
       "    <tr>\n",
       "      <th>11</th>\n",
       "      <td>NM</td>\n",
       "      <td>17051</td>\n",
       "      <td>76242</td>\n",
       "      <td>0.224</td>\n",
       "    </tr>\n",
       "    <tr>\n",
       "      <th>12</th>\n",
       "      <td>IL</td>\n",
       "      <td>124664</td>\n",
       "      <td>556198</td>\n",
       "      <td>0.224</td>\n",
       "    </tr>\n",
       "    <tr>\n",
       "      <th>13</th>\n",
       "      <td>WI</td>\n",
       "      <td>53847</td>\n",
       "      <td>243774</td>\n",
       "      <td>0.221</td>\n",
       "    </tr>\n",
       "    <tr>\n",
       "      <th>14</th>\n",
       "      <td>AR</td>\n",
       "      <td>29796</td>\n",
       "      <td>135581</td>\n",
       "      <td>0.220</td>\n",
       "    </tr>\n",
       "    <tr>\n",
       "      <th>15</th>\n",
       "      <td>UT</td>\n",
       "      <td>32401</td>\n",
       "      <td>150437</td>\n",
       "      <td>0.215</td>\n",
       "    </tr>\n",
       "    <tr>\n",
       "      <th>16</th>\n",
       "      <td>CT</td>\n",
       "      <td>32900</td>\n",
       "      <td>155331</td>\n",
       "      <td>0.212</td>\n",
       "    </tr>\n",
       "    <tr>\n",
       "      <th>17</th>\n",
       "      <td>OR</td>\n",
       "      <td>26304</td>\n",
       "      <td>131175</td>\n",
       "      <td>0.201</td>\n",
       "    </tr>\n",
       "    <tr>\n",
       "      <th>18</th>\n",
       "      <td>NE</td>\n",
       "      <td>12897</td>\n",
       "      <td>65194</td>\n",
       "      <td>0.198</td>\n",
       "    </tr>\n",
       "    <tr>\n",
       "      <th>19</th>\n",
       "      <td>MA</td>\n",
       "      <td>54670</td>\n",
       "      <td>277417</td>\n",
       "      <td>0.197</td>\n",
       "    </tr>\n",
       "    <tr>\n",
       "      <th>20</th>\n",
       "      <td>NY</td>\n",
       "      <td>150860</td>\n",
       "      <td>782740</td>\n",
       "      <td>0.193</td>\n",
       "    </tr>\n",
       "    <tr>\n",
       "      <th>21</th>\n",
       "      <td>NJ</td>\n",
       "      <td>75589</td>\n",
       "      <td>404135</td>\n",
       "      <td>0.187</td>\n",
       "    </tr>\n",
       "    <tr>\n",
       "      <th>22</th>\n",
       "      <td>ID</td>\n",
       "      <td>10204</td>\n",
       "      <td>54669</td>\n",
       "      <td>0.187</td>\n",
       "    </tr>\n",
       "    <tr>\n",
       "      <th>23</th>\n",
       "      <td>MI</td>\n",
       "      <td>71143</td>\n",
       "      <td>380762</td>\n",
       "      <td>0.187</td>\n",
       "    </tr>\n",
       "    <tr>\n",
       "      <th>24</th>\n",
       "      <td>KS</td>\n",
       "      <td>17425</td>\n",
       "      <td>95006</td>\n",
       "      <td>0.183</td>\n",
       "    </tr>\n",
       "    <tr>\n",
       "      <th>25</th>\n",
       "      <td>OK</td>\n",
       "      <td>26871</td>\n",
       "      <td>148045</td>\n",
       "      <td>0.182</td>\n",
       "    </tr>\n",
       "    <tr>\n",
       "      <th>26</th>\n",
       "      <td>DE</td>\n",
       "      <td>6370</td>\n",
       "      <td>35319</td>\n",
       "      <td>0.180</td>\n",
       "    </tr>\n",
       "    <tr>\n",
       "      <th>27</th>\n",
       "      <td>AZ</td>\n",
       "      <td>51077</td>\n",
       "      <td>284511</td>\n",
       "      <td>0.180</td>\n",
       "    </tr>\n",
       "    <tr>\n",
       "      <th>28</th>\n",
       "      <td>IN</td>\n",
       "      <td>53667</td>\n",
       "      <td>300050</td>\n",
       "      <td>0.179</td>\n",
       "    </tr>\n",
       "    <tr>\n",
       "      <th>29</th>\n",
       "      <td>NV</td>\n",
       "      <td>24043</td>\n",
       "      <td>136822</td>\n",
       "      <td>0.176</td>\n",
       "    </tr>\n",
       "    <tr>\n",
       "      <th>30</th>\n",
       "      <td>MO</td>\n",
       "      <td>33269</td>\n",
       "      <td>197596</td>\n",
       "      <td>0.168</td>\n",
       "    </tr>\n",
       "    <tr>\n",
       "      <th>31</th>\n",
       "      <td>ME</td>\n",
       "      <td>8415</td>\n",
       "      <td>51211</td>\n",
       "      <td>0.164</td>\n",
       "    </tr>\n",
       "    <tr>\n",
       "      <th>32</th>\n",
       "      <td>NC</td>\n",
       "      <td>73641</td>\n",
       "      <td>448558</td>\n",
       "      <td>0.164</td>\n",
       "    </tr>\n",
       "    <tr>\n",
       "      <th>33</th>\n",
       "      <td>PA</td>\n",
       "      <td>83452</td>\n",
       "      <td>515308</td>\n",
       "      <td>0.162</td>\n",
       "    </tr>\n",
       "    <tr>\n",
       "      <th>34</th>\n",
       "      <td>AL</td>\n",
       "      <td>29280</td>\n",
       "      <td>184178</td>\n",
       "      <td>0.159</td>\n",
       "    </tr>\n",
       "    <tr>\n",
       "      <th>35</th>\n",
       "      <td>RI</td>\n",
       "      <td>5808</td>\n",
       "      <td>38363</td>\n",
       "      <td>0.151</td>\n",
       "    </tr>\n",
       "    <tr>\n",
       "      <th>36</th>\n",
       "      <td>TN</td>\n",
       "      <td>33889</td>\n",
       "      <td>229673</td>\n",
       "      <td>0.148</td>\n",
       "    </tr>\n",
       "    <tr>\n",
       "      <th>37</th>\n",
       "      <td>VT</td>\n",
       "      <td>3816</td>\n",
       "      <td>25989</td>\n",
       "      <td>0.147</td>\n",
       "    </tr>\n",
       "    <tr>\n",
       "      <th>38</th>\n",
       "      <td>SC</td>\n",
       "      <td>29180</td>\n",
       "      <td>200547</td>\n",
       "      <td>0.146</td>\n",
       "    </tr>\n",
       "    <tr>\n",
       "      <th>39</th>\n",
       "      <td>WY</td>\n",
       "      <td>2743</td>\n",
       "      <td>18787</td>\n",
       "      <td>0.146</td>\n",
       "    </tr>\n",
       "    <tr>\n",
       "      <th>40</th>\n",
       "      <td>OH</td>\n",
       "      <td>59095</td>\n",
       "      <td>408835</td>\n",
       "      <td>0.145</td>\n",
       "    </tr>\n",
       "    <tr>\n",
       "      <th>41</th>\n",
       "      <td>IA</td>\n",
       "      <td>15546</td>\n",
       "      <td>108163</td>\n",
       "      <td>0.144</td>\n",
       "    </tr>\n",
       "    <tr>\n",
       "      <th>42</th>\n",
       "      <td>AK</td>\n",
       "      <td>4302</td>\n",
       "      <td>30053</td>\n",
       "      <td>0.143</td>\n",
       "    </tr>\n",
       "    <tr>\n",
       "      <th>43</th>\n",
       "      <td>MT</td>\n",
       "      <td>4662</td>\n",
       "      <td>32805</td>\n",
       "      <td>0.142</td>\n",
       "    </tr>\n",
       "    <tr>\n",
       "      <th>44</th>\n",
       "      <td>NH</td>\n",
       "      <td>7736</td>\n",
       "      <td>56101</td>\n",
       "      <td>0.138</td>\n",
       "    </tr>\n",
       "    <tr>\n",
       "      <th>45</th>\n",
       "      <td>ND</td>\n",
       "      <td>2734</td>\n",
       "      <td>20278</td>\n",
       "      <td>0.135</td>\n",
       "    </tr>\n",
       "    <tr>\n",
       "      <th>46</th>\n",
       "      <td>LA</td>\n",
       "      <td>22894</td>\n",
       "      <td>173272</td>\n",
       "      <td>0.132</td>\n",
       "    </tr>\n",
       "    <tr>\n",
       "      <th>47</th>\n",
       "      <td>WV</td>\n",
       "      <td>10655</td>\n",
       "      <td>80950</td>\n",
       "      <td>0.132</td>\n",
       "    </tr>\n",
       "    <tr>\n",
       "      <th>48</th>\n",
       "      <td>HI</td>\n",
       "      <td>6682</td>\n",
       "      <td>51481</td>\n",
       "      <td>0.130</td>\n",
       "    </tr>\n",
       "    <tr>\n",
       "      <th>49</th>\n",
       "      <td>SD</td>\n",
       "      <td>3545</td>\n",
       "      <td>28921</td>\n",
       "      <td>0.123</td>\n",
       "    </tr>\n",
       "    <tr>\n",
       "      <th>50</th>\n",
       "      <td>MS</td>\n",
       "      <td>13511</td>\n",
       "      <td>120178</td>\n",
       "      <td>0.112</td>\n",
       "    </tr>\n",
       "  </tbody>\n",
       "</table>\n",
       "</div>"
      ],
      "text/plain": [
       "   LEA_STATE  ap_total_enrollment  total_enrollment  ap_pct_enrolled\n",
       "0         MD                71071            248922            0.286\n",
       "1         TX               340351           1372856            0.248\n",
       "2         DC                 4107             16530            0.248\n",
       "3         FL               193899            791978            0.245\n",
       "4         MN                46014            191597            0.240\n",
       "5         CA               414824           1740796            0.238\n",
       "6         KY                44403            189603            0.234\n",
       "7         VA                88228            377468            0.234\n",
       "8         GA               114383            488056            0.234\n",
       "9         CO                53358            234848            0.227\n",
       "10        WA                61535            273112            0.225\n",
       "11        NM                17051             76242            0.224\n",
       "12        IL               124664            556198            0.224\n",
       "13        WI                53847            243774            0.221\n",
       "14        AR                29796            135581            0.220\n",
       "15        UT                32401            150437            0.215\n",
       "16        CT                32900            155331            0.212\n",
       "17        OR                26304            131175            0.201\n",
       "18        NE                12897             65194            0.198\n",
       "19        MA                54670            277417            0.197\n",
       "20        NY               150860            782740            0.193\n",
       "21        NJ                75589            404135            0.187\n",
       "22        ID                10204             54669            0.187\n",
       "23        MI                71143            380762            0.187\n",
       "24        KS                17425             95006            0.183\n",
       "25        OK                26871            148045            0.182\n",
       "26        DE                 6370             35319            0.180\n",
       "27        AZ                51077            284511            0.180\n",
       "28        IN                53667            300050            0.179\n",
       "29        NV                24043            136822            0.176\n",
       "30        MO                33269            197596            0.168\n",
       "31        ME                 8415             51211            0.164\n",
       "32        NC                73641            448558            0.164\n",
       "33        PA                83452            515308            0.162\n",
       "34        AL                29280            184178            0.159\n",
       "35        RI                 5808             38363            0.151\n",
       "36        TN                33889            229673            0.148\n",
       "37        VT                 3816             25989            0.147\n",
       "38        SC                29180            200547            0.146\n",
       "39        WY                 2743             18787            0.146\n",
       "40        OH                59095            408835            0.145\n",
       "41        IA                15546            108163            0.144\n",
       "42        AK                 4302             30053            0.143\n",
       "43        MT                 4662             32805            0.142\n",
       "44        NH                 7736             56101            0.138\n",
       "45        ND                 2734             20278            0.135\n",
       "46        LA                22894            173272            0.132\n",
       "47        WV                10655             80950            0.132\n",
       "48        HI                 6682             51481            0.130\n",
       "49        SD                 3545             28921            0.123\n",
       "50        MS                13511            120178            0.112"
      ]
     },
     "execution_count": 84,
     "metadata": {},
     "output_type": "execute_result"
    }
   ],
   "source": [
    "ap_state['ap_pct_enrolled'] = round(ap_state['ap_total_enrollment'] / ap_state['total_enrollment'], 3)\n",
    "ap_state.sort_values('ap_pct_enrolled', ascending = False).reset_index().drop('index', axis = 1)"
   ]
  },
  {
   "cell_type": "code",
   "execution_count": 85,
   "metadata": {},
   "outputs": [],
   "source": [
    "ap_data = dict(type = 'choropleth',\n",
    "            locations = ap_state['LEA_STATE'],\n",
    "            locationmode = 'USA-states',\n",
    "            z = ap_state['ap_pct_enrolled'])\n",
    "\n",
    "ap_layout = dict(title = 'Percentage of Total Enrollment in AP',\n",
    "    geo = {'scope':'usa'})\n",
    "\n",
    "ap_choromap = go.Figure(data = [ap_data], layout = ap_layout)"
   ]
  },
  {
   "cell_type": "code",
   "execution_count": 86,
   "metadata": {},
   "outputs": [
    {
     "data": {
      "application/vnd.plotly.v1+json": {
       "data": [
        {
         "locationmode": "USA-states",
         "locations": [
          "AK",
          "AL",
          "AR",
          "AZ",
          "CA",
          "CO",
          "CT",
          "DC",
          "DE",
          "FL",
          "GA",
          "HI",
          "IA",
          "ID",
          "IL",
          "IN",
          "KS",
          "KY",
          "LA",
          "MA",
          "MD",
          "ME",
          "MI",
          "MN",
          "MO",
          "MS",
          "MT",
          "NC",
          "ND",
          "NE",
          "NH",
          "NJ",
          "NM",
          "NV",
          "NY",
          "OH",
          "OK",
          "OR",
          "PA",
          "RI",
          "SC",
          "SD",
          "TN",
          "TX",
          "UT",
          "VA",
          "VT",
          "WA",
          "WI",
          "WV",
          "WY"
         ],
         "type": "choropleth",
         "z": [
          0.143,
          0.159,
          0.22,
          0.18,
          0.238,
          0.227,
          0.212,
          0.248,
          0.18,
          0.245,
          0.234,
          0.13,
          0.144,
          0.187,
          0.224,
          0.179,
          0.183,
          0.234,
          0.132,
          0.197,
          0.286,
          0.164,
          0.187,
          0.24,
          0.168,
          0.112,
          0.142,
          0.164,
          0.135,
          0.198,
          0.138,
          0.187,
          0.224,
          0.176,
          0.193,
          0.145,
          0.182,
          0.201,
          0.162,
          0.151,
          0.146,
          0.123,
          0.148,
          0.248,
          0.215,
          0.234,
          0.147,
          0.225,
          0.221,
          0.132,
          0.146
         ]
        }
       ],
       "layout": {
        "geo": {
         "scope": "usa"
        },
        "title": "Percentage of Total Enrollment in AP"
       }
      },
      "text/html": [
       "<div id=\"b38838c2-e895-4b9f-a089-98e14559b9f5\" style=\"height: 525px; width: 100%;\" class=\"plotly-graph-div\"></div><script type=\"text/javascript\">require([\"plotly\"], function(Plotly) { window.PLOTLYENV=window.PLOTLYENV || {};window.PLOTLYENV.BASE_URL=\"https://plot.ly\";Plotly.newPlot(\"b38838c2-e895-4b9f-a089-98e14559b9f5\", [{\"type\": \"choropleth\", \"locations\": [\"AK\", \"AL\", \"AR\", \"AZ\", \"CA\", \"CO\", \"CT\", \"DC\", \"DE\", \"FL\", \"GA\", \"HI\", \"IA\", \"ID\", \"IL\", \"IN\", \"KS\", \"KY\", \"LA\", \"MA\", \"MD\", \"ME\", \"MI\", \"MN\", \"MO\", \"MS\", \"MT\", \"NC\", \"ND\", \"NE\", \"NH\", \"NJ\", \"NM\", \"NV\", \"NY\", \"OH\", \"OK\", \"OR\", \"PA\", \"RI\", \"SC\", \"SD\", \"TN\", \"TX\", \"UT\", \"VA\", \"VT\", \"WA\", \"WI\", \"WV\", \"WY\"], \"locationmode\": \"USA-states\", \"z\": [0.143, 0.159, 0.22, 0.18, 0.238, 0.227, 0.212, 0.248, 0.18, 0.245, 0.234, 0.13, 0.144, 0.187, 0.224, 0.179, 0.183, 0.234, 0.132, 0.197, 0.286, 0.164, 0.187, 0.24, 0.168, 0.112, 0.142, 0.164, 0.135, 0.198, 0.138, 0.187, 0.224, 0.176, 0.193, 0.145, 0.182, 0.201, 0.162, 0.151, 0.146, 0.123, 0.148, 0.248, 0.215, 0.234, 0.147, 0.225, 0.221, 0.132, 0.146]}], {\"title\": \"Percentage of Total Enrollment in AP\", \"geo\": {\"scope\": \"usa\"}}, {\"showLink\": true, \"linkText\": \"Export to plot.ly\"})});</script>"
      ],
      "text/vnd.plotly.v1+html": [
       "<div id=\"b38838c2-e895-4b9f-a089-98e14559b9f5\" style=\"height: 525px; width: 100%;\" class=\"plotly-graph-div\"></div><script type=\"text/javascript\">require([\"plotly\"], function(Plotly) { window.PLOTLYENV=window.PLOTLYENV || {};window.PLOTLYENV.BASE_URL=\"https://plot.ly\";Plotly.newPlot(\"b38838c2-e895-4b9f-a089-98e14559b9f5\", [{\"type\": \"choropleth\", \"locations\": [\"AK\", \"AL\", \"AR\", \"AZ\", \"CA\", \"CO\", \"CT\", \"DC\", \"DE\", \"FL\", \"GA\", \"HI\", \"IA\", \"ID\", \"IL\", \"IN\", \"KS\", \"KY\", \"LA\", \"MA\", \"MD\", \"ME\", \"MI\", \"MN\", \"MO\", \"MS\", \"MT\", \"NC\", \"ND\", \"NE\", \"NH\", \"NJ\", \"NM\", \"NV\", \"NY\", \"OH\", \"OK\", \"OR\", \"PA\", \"RI\", \"SC\", \"SD\", \"TN\", \"TX\", \"UT\", \"VA\", \"VT\", \"WA\", \"WI\", \"WV\", \"WY\"], \"locationmode\": \"USA-states\", \"z\": [0.143, 0.159, 0.22, 0.18, 0.238, 0.227, 0.212, 0.248, 0.18, 0.245, 0.234, 0.13, 0.144, 0.187, 0.224, 0.179, 0.183, 0.234, 0.132, 0.197, 0.286, 0.164, 0.187, 0.24, 0.168, 0.112, 0.142, 0.164, 0.135, 0.198, 0.138, 0.187, 0.224, 0.176, 0.193, 0.145, 0.182, 0.201, 0.162, 0.151, 0.146, 0.123, 0.148, 0.248, 0.215, 0.234, 0.147, 0.225, 0.221, 0.132, 0.146]}], {\"title\": \"Percentage of Total Enrollment in AP\", \"geo\": {\"scope\": \"usa\"}}, {\"showLink\": true, \"linkText\": \"Export to plot.ly\"})});</script>"
      ]
     },
     "metadata": {},
     "output_type": "display_data"
    }
   ],
   "source": [
    "iplot(ap_choromap)\n",
    "# iplot(de_choromap, image = 'png', filename='./Visualizations/by_state_de_choropleth')"
   ]
  },
  {
   "cell_type": "markdown",
   "metadata": {},
   "source": [
    "# VII. By Region"
   ]
  },
  {
   "cell_type": "markdown",
   "metadata": {},
   "source": [
    "**DE**"
   ]
  },
  {
   "cell_type": "code",
   "execution_count": 87,
   "metadata": {},
   "outputs": [],
   "source": [
    "deOffering_region_total = crdc_1516_deYes.groupby('region_accred')['total_enrollment'].sum().reset_index()\n",
    "de_region_enrollment = crdc_1516_deYes.groupby('region_accred')['de_total_enrollment'].sum().reset_index()\n",
    "de_region = de_region_enrollment.merge(deOffering_region_total, how = 'inner', on = 'region_accred')"
   ]
  },
  {
   "cell_type": "code",
   "execution_count": 88,
   "metadata": {},
   "outputs": [
    {
     "data": {
      "text/html": [
       "<div>\n",
       "<style scoped>\n",
       "    .dataframe tbody tr th:only-of-type {\n",
       "        vertical-align: middle;\n",
       "    }\n",
       "\n",
       "    .dataframe tbody tr th {\n",
       "        vertical-align: top;\n",
       "    }\n",
       "\n",
       "    .dataframe thead th {\n",
       "        text-align: right;\n",
       "    }\n",
       "</style>\n",
       "<table border=\"1\" class=\"dataframe\">\n",
       "  <thead>\n",
       "    <tr style=\"text-align: right;\">\n",
       "      <th></th>\n",
       "      <th>region_accred</th>\n",
       "      <th>de_total_enrollment</th>\n",
       "      <th>total_enrollment</th>\n",
       "      <th>de_pct_enrolled</th>\n",
       "    </tr>\n",
       "  </thead>\n",
       "  <tbody>\n",
       "    <tr>\n",
       "      <th>0</th>\n",
       "      <td>NWCCU</td>\n",
       "      <td>124488</td>\n",
       "      <td>691313</td>\n",
       "      <td>0.180</td>\n",
       "    </tr>\n",
       "    <tr>\n",
       "      <th>1</th>\n",
       "      <td>HLC</td>\n",
       "      <td>462565</td>\n",
       "      <td>3627245</td>\n",
       "      <td>0.128</td>\n",
       "    </tr>\n",
       "    <tr>\n",
       "      <th>2</th>\n",
       "      <td>MSCHE</td>\n",
       "      <td>148130</td>\n",
       "      <td>1367702</td>\n",
       "      <td>0.108</td>\n",
       "    </tr>\n",
       "    <tr>\n",
       "      <th>3</th>\n",
       "      <td>SACS</td>\n",
       "      <td>355893</td>\n",
       "      <td>4503435</td>\n",
       "      <td>0.079</td>\n",
       "    </tr>\n",
       "    <tr>\n",
       "      <th>4</th>\n",
       "      <td>NEASC</td>\n",
       "      <td>26730</td>\n",
       "      <td>370554</td>\n",
       "      <td>0.072</td>\n",
       "    </tr>\n",
       "    <tr>\n",
       "      <th>5</th>\n",
       "      <td>WASC</td>\n",
       "      <td>33864</td>\n",
       "      <td>723054</td>\n",
       "      <td>0.047</td>\n",
       "    </tr>\n",
       "  </tbody>\n",
       "</table>\n",
       "</div>"
      ],
      "text/plain": [
       "  region_accred  de_total_enrollment  total_enrollment  de_pct_enrolled\n",
       "0         NWCCU               124488            691313            0.180\n",
       "1           HLC               462565           3627245            0.128\n",
       "2         MSCHE               148130           1367702            0.108\n",
       "3          SACS               355893           4503435            0.079\n",
       "4         NEASC                26730            370554            0.072\n",
       "5          WASC                33864            723054            0.047"
      ]
     },
     "execution_count": 88,
     "metadata": {},
     "output_type": "execute_result"
    }
   ],
   "source": [
    "de_region['de_pct_enrolled'] = round(de_region['de_total_enrollment'] / de_region['total_enrollment'], 3)\n",
    "de_region.sort_values('de_pct_enrolled', ascending = False).reset_index().drop('index', axis = 1)"
   ]
  },
  {
   "cell_type": "markdown",
   "metadata": {},
   "source": [
    "**AP**"
   ]
  },
  {
   "cell_type": "code",
   "execution_count": 89,
   "metadata": {},
   "outputs": [],
   "source": [
    "apOffering_region_total = crdc_1516_apYes.groupby('region_accred')['total_enrollment'].sum().reset_index()\n",
    "ap_region_enrollment = crdc_1516_apYes.groupby('region_accred')['ap_total_enrollment'].sum().reset_index()\n",
    "ap_region = ap_region_enrollment.merge(apOffering_region_total, how = 'inner', on = 'region_accred')"
   ]
  },
  {
   "cell_type": "code",
   "execution_count": 90,
   "metadata": {},
   "outputs": [
    {
     "data": {
      "text/html": [
       "<div>\n",
       "<style scoped>\n",
       "    .dataframe tbody tr th:only-of-type {\n",
       "        vertical-align: middle;\n",
       "    }\n",
       "\n",
       "    .dataframe tbody tr th {\n",
       "        vertical-align: top;\n",
       "    }\n",
       "\n",
       "    .dataframe thead th {\n",
       "        text-align: right;\n",
       "    }\n",
       "</style>\n",
       "<table border=\"1\" class=\"dataframe\">\n",
       "  <thead>\n",
       "    <tr style=\"text-align: right;\">\n",
       "      <th></th>\n",
       "      <th>region_accred</th>\n",
       "      <th>ap_total_enrollment</th>\n",
       "      <th>total_enrollment</th>\n",
       "      <th>ap_pct_enrolled</th>\n",
       "    </tr>\n",
       "  </thead>\n",
       "  <tbody>\n",
       "    <tr>\n",
       "      <th>0</th>\n",
       "      <td>WASC</td>\n",
       "      <td>421506</td>\n",
       "      <td>1792277</td>\n",
       "      <td>0.235</td>\n",
       "    </tr>\n",
       "    <tr>\n",
       "      <th>1</th>\n",
       "      <td>SACS</td>\n",
       "      <td>983659</td>\n",
       "      <td>4576367</td>\n",
       "      <td>0.215</td>\n",
       "    </tr>\n",
       "    <tr>\n",
       "      <th>2</th>\n",
       "      <td>NWCCU</td>\n",
       "      <td>163451</td>\n",
       "      <td>809073</td>\n",
       "      <td>0.202</td>\n",
       "    </tr>\n",
       "    <tr>\n",
       "      <th>3</th>\n",
       "      <td>MSCHE</td>\n",
       "      <td>391449</td>\n",
       "      <td>2002954</td>\n",
       "      <td>0.195</td>\n",
       "    </tr>\n",
       "    <tr>\n",
       "      <th>4</th>\n",
       "      <td>HLC</td>\n",
       "      <td>685397</td>\n",
       "      <td>3575338</td>\n",
       "      <td>0.192</td>\n",
       "    </tr>\n",
       "    <tr>\n",
       "      <th>5</th>\n",
       "      <td>NEASC</td>\n",
       "      <td>113345</td>\n",
       "      <td>604412</td>\n",
       "      <td>0.188</td>\n",
       "    </tr>\n",
       "  </tbody>\n",
       "</table>\n",
       "</div>"
      ],
      "text/plain": [
       "  region_accred  ap_total_enrollment  total_enrollment  ap_pct_enrolled\n",
       "0          WASC               421506           1792277            0.235\n",
       "1          SACS               983659           4576367            0.215\n",
       "2         NWCCU               163451            809073            0.202\n",
       "3         MSCHE               391449           2002954            0.195\n",
       "4           HLC               685397           3575338            0.192\n",
       "5         NEASC               113345            604412            0.188"
      ]
     },
     "execution_count": 90,
     "metadata": {},
     "output_type": "execute_result"
    }
   ],
   "source": [
    "ap_region['ap_pct_enrolled'] = round(ap_region['ap_total_enrollment'] / ap_region['total_enrollment'], 3)\n",
    "ap_region.sort_values('ap_pct_enrolled', ascending = False).reset_index().drop('index', axis = 1)"
   ]
  },
  {
   "cell_type": "markdown",
   "metadata": {},
   "source": [
    "**Visualizations**"
   ]
  },
  {
   "cell_type": "code",
   "execution_count": 91,
   "metadata": {},
   "outputs": [
    {
     "data": {
      "text/plain": [
       "Text(0,0.5,'Percent Enrolled in AP')"
      ]
     },
     "execution_count": 91,
     "metadata": {},
     "output_type": "execute_result"
    },
    {
     "data": {
      "image/png": "[encoded data removed]",
      "text/plain": [
       "<Figure size 792x288 with 2 Axes>"
      ]
     },
     "metadata": {},
     "output_type": "display_data"
    }
   ],
   "source": [
    "fig, (ax1,ax2) = plt.subplots(1,2, figsize = (11,4))\n",
    "\n",
    "plt.sca(ax1)\n",
    "de_region.plot.bar(x='region_accred', y='de_pct_enrolled', ax=ax1)\n",
    "plt.title('DE Participation in DE-Offering Schools\\n by Region')\n",
    "plt.xticks(rotation = 0)\n",
    "plt.legend([])\n",
    "plt.yticks(np.arange(0,.3,.05))\n",
    "plt.xlabel('')\n",
    "plt.ylabel('Percent Enrolled in DE')\n",
    "\n",
    "plt.sca(ax2)\n",
    "ap_region.plot.bar(x='region_accred', y='ap_pct_enrolled', ax=ax2)\n",
    "plt.title('AP Participation in AP-Offering Schools\\n by Region')\n",
    "plt.xticks(rotation = 0)\n",
    "plt.legend([])\n",
    "plt.yticks(np.arange(0,.3,.05))\n",
    "plt.xlabel('')\n",
    "plt.ylabel('Percent Enrolled in AP')"
   ]
  },
  {
   "cell_type": "code",
   "execution_count": 92,
   "metadata": {},
   "outputs": [
    {
     "data": {
      "text/plain": [
       "(-1.1573768880240003,\n",
       " 1.1660178822934766,\n",
       " -1.1706491969438924,\n",
       " 1.1771964904978716)"
      ]
     },
     "execution_count": 92,
     "metadata": {},
     "output_type": "execute_result"
    },
    {
     "data": {
      "image/png": "[encoded data removed]",
      "text/plain": [
       "<Figure size 720x720 with 2 Axes>"
      ]
     },
     "metadata": {},
     "output_type": "display_data"
    }
   ],
   "source": [
    "f, (ax1,ax2) = plt.subplots(2,1, figsize = (10,10))\n",
    "\n",
    "plt.sca(ax1)\n",
    "a1 = de_region.plot.pie(y = 'de_total_enrollment',\n",
    "                        autopct='%1.1f%%', explode = [.05 for i in range(len(de_region))],\n",
    "                        startangle = -30, pctdistance=1.25, labels = None, fontsize = 13, ax=ax1)\n",
    "plt.legend(labels = de_region.region_accred,\n",
    "           bbox_to_anchor = (1,0.71), title = 'Region',\n",
    "          frameon=True)\n",
    "plt.ylabel('')\n",
    "plt.title('Percentage of Total DE Enrollment by Region')\n",
    "centre_circle = plt.Circle((0,0),0.6,fc='white')\n",
    "a1.add_artist(centre_circle)\n",
    "a1.axis('equal')\n",
    "\n",
    "plt.sca(ax2)\n",
    "a2 = ap_region.plot.pie(y = 'ap_total_enrollment',\n",
    "                        autopct='%1.1f%%', explode = [.05 for i in range(len(ap_region))],\n",
    "                        startangle = 10, pctdistance=1.25, labels = None, fontsize = 13, ax=ax2)\n",
    "plt.legend(labels = ap_region.region_accred,\n",
    "           bbox_to_anchor = (1,0.71), title = 'Region',\n",
    "          frameon=True)\n",
    "plt.ylabel('')\n",
    "plt.title('Percentage of Total AP Enrollment by Region')\n",
    "centre_circle = plt.Circle((0,0),0.6,fc='white')\n",
    "a2.add_artist(centre_circle)\n",
    "a2.axis('equal')"
   ]
  },
  {
   "cell_type": "markdown",
   "metadata": {},
   "source": [
    "# VIII. By Ethnicity Percentage of School (Quintiles)"
   ]
  },
  {
   "cell_type": "markdown",
   "metadata": {},
   "source": [
    "**DE**"
   ]
  },
  {
   "cell_type": "code",
   "execution_count": 93,
   "metadata": {},
   "outputs": [],
   "source": [
    "deOffering_eth_total = crdc_1516_deYes.groupby('eth_quintile')['total_enrollment'].sum().reset_index()\n",
    "de_eth_enrollment = crdc_1516_deYes.groupby('eth_quintile')['de_total_enrollment'].sum().reset_index()\n",
    "de_eth = de_eth_enrollment.merge(deOffering_eth_total, how = 'inner', on = 'eth_quintile')"
   ]
  },
  {
   "cell_type": "code",
   "execution_count": 94,
   "metadata": {},
   "outputs": [
    {
     "data": {
      "text/html": [
       "<div>\n",
       "<style scoped>\n",
       "    .dataframe tbody tr th:only-of-type {\n",
       "        vertical-align: middle;\n",
       "    }\n",
       "\n",
       "    .dataframe tbody tr th {\n",
       "        vertical-align: top;\n",
       "    }\n",
       "\n",
       "    .dataframe thead th {\n",
       "        text-align: right;\n",
       "    }\n",
       "</style>\n",
       "<table border=\"1\" class=\"dataframe\">\n",
       "  <thead>\n",
       "    <tr style=\"text-align: right;\">\n",
       "      <th></th>\n",
       "      <th>de_total_enrollment</th>\n",
       "      <th>total_enrollment</th>\n",
       "      <th>de_pct_enrolled</th>\n",
       "    </tr>\n",
       "    <tr>\n",
       "      <th>eth_quintile</th>\n",
       "      <th></th>\n",
       "      <th></th>\n",
       "      <th></th>\n",
       "    </tr>\n",
       "  </thead>\n",
       "  <tbody>\n",
       "    <tr>\n",
       "      <th>0-20%</th>\n",
       "      <td>409635</td>\n",
       "      <td>3146596</td>\n",
       "      <td>0.130</td>\n",
       "    </tr>\n",
       "    <tr>\n",
       "      <th>21-40%</th>\n",
       "      <td>283484</td>\n",
       "      <td>2547702</td>\n",
       "      <td>0.111</td>\n",
       "    </tr>\n",
       "    <tr>\n",
       "      <th>41-60%</th>\n",
       "      <td>175052</td>\n",
       "      <td>1981987</td>\n",
       "      <td>0.088</td>\n",
       "    </tr>\n",
       "    <tr>\n",
       "      <th>61-80%</th>\n",
       "      <td>127096</td>\n",
       "      <td>1400835</td>\n",
       "      <td>0.091</td>\n",
       "    </tr>\n",
       "    <tr>\n",
       "      <th>81-100%</th>\n",
       "      <td>156403</td>\n",
       "      <td>2206183</td>\n",
       "      <td>0.071</td>\n",
       "    </tr>\n",
       "  </tbody>\n",
       "</table>\n",
       "</div>"
      ],
      "text/plain": [
       "              de_total_enrollment  total_enrollment  de_pct_enrolled\n",
       "eth_quintile                                                        \n",
       "0-20%                      409635           3146596            0.130\n",
       "21-40%                     283484           2547702            0.111\n",
       "41-60%                     175052           1981987            0.088\n",
       "61-80%                     127096           1400835            0.091\n",
       "81-100%                    156403           2206183            0.071"
      ]
     },
     "execution_count": 94,
     "metadata": {},
     "output_type": "execute_result"
    }
   ],
   "source": [
    "de_eth['de_pct_enrolled'] = round(de_eth['de_total_enrollment'] / de_eth['total_enrollment'], 3)\n",
    "de_eth.set_index('eth_quintile').rename({1:'0-20%',2:'21-40%',3:'41-60%',4:'61-80%',5:'81-100%'})"
   ]
  },
  {
   "cell_type": "markdown",
   "metadata": {},
   "source": [
    "**AP**"
   ]
  },
  {
   "cell_type": "code",
   "execution_count": 95,
   "metadata": {},
   "outputs": [],
   "source": [
    "apOffering_eth_total = crdc_1516_apYes.groupby('eth_quintile')['total_enrollment'].sum().reset_index()\n",
    "ap_eth_enrollment = crdc_1516_apYes.groupby('eth_quintile')['ap_total_enrollment'].sum().reset_index()\n",
    "ap_eth = ap_eth_enrollment.merge(apOffering_eth_total, how = 'inner', on = 'eth_quintile')"
   ]
  },
  {
   "cell_type": "code",
   "execution_count": 96,
   "metadata": {},
   "outputs": [
    {
     "data": {
      "text/html": [
       "<div>\n",
       "<style scoped>\n",
       "    .dataframe tbody tr th:only-of-type {\n",
       "        vertical-align: middle;\n",
       "    }\n",
       "\n",
       "    .dataframe tbody tr th {\n",
       "        vertical-align: top;\n",
       "    }\n",
       "\n",
       "    .dataframe thead th {\n",
       "        text-align: right;\n",
       "    }\n",
       "</style>\n",
       "<table border=\"1\" class=\"dataframe\">\n",
       "  <thead>\n",
       "    <tr style=\"text-align: right;\">\n",
       "      <th></th>\n",
       "      <th>ap_total_enrollment</th>\n",
       "      <th>total_enrollment</th>\n",
       "      <th>ap_pct_enrolled</th>\n",
       "    </tr>\n",
       "    <tr>\n",
       "      <th>eth_quintile</th>\n",
       "      <th></th>\n",
       "      <th></th>\n",
       "      <th></th>\n",
       "    </tr>\n",
       "  </thead>\n",
       "  <tbody>\n",
       "    <tr>\n",
       "      <th>0-20%</th>\n",
       "      <td>561506</td>\n",
       "      <td>3118681</td>\n",
       "      <td>0.180</td>\n",
       "    </tr>\n",
       "    <tr>\n",
       "      <th>21-40%</th>\n",
       "      <td>645440</td>\n",
       "      <td>2834761</td>\n",
       "      <td>0.228</td>\n",
       "    </tr>\n",
       "    <tr>\n",
       "      <th>41-60%</th>\n",
       "      <td>558645</td>\n",
       "      <td>2403544</td>\n",
       "      <td>0.232</td>\n",
       "    </tr>\n",
       "    <tr>\n",
       "      <th>61-80%</th>\n",
       "      <td>407209</td>\n",
       "      <td>1857335</td>\n",
       "      <td>0.219</td>\n",
       "    </tr>\n",
       "    <tr>\n",
       "      <th>81-100%</th>\n",
       "      <td>586007</td>\n",
       "      <td>3146100</td>\n",
       "      <td>0.186</td>\n",
       "    </tr>\n",
       "  </tbody>\n",
       "</table>\n",
       "</div>"
      ],
      "text/plain": [
       "              ap_total_enrollment  total_enrollment  ap_pct_enrolled\n",
       "eth_quintile                                                        \n",
       "0-20%                      561506           3118681            0.180\n",
       "21-40%                     645440           2834761            0.228\n",
       "41-60%                     558645           2403544            0.232\n",
       "61-80%                     407209           1857335            0.219\n",
       "81-100%                    586007           3146100            0.186"
      ]
     },
     "execution_count": 96,
     "metadata": {},
     "output_type": "execute_result"
    }
   ],
   "source": [
    "ap_eth['ap_pct_enrolled'] = round(ap_eth['ap_total_enrollment'] / ap_eth['total_enrollment'], 3)\n",
    "ap_eth.set_index('eth_quintile').rename({1:'0-20%',2:'21-40%',3:'41-60%',4:'61-80%',5:'81-100%'})"
   ]
  },
  {
   "cell_type": "markdown",
   "metadata": {},
   "source": [
    "**Visualizations**"
   ]
  },
  {
   "cell_type": "code",
   "execution_count": 97,
   "metadata": {},
   "outputs": [
    {
     "data": {
      "text/plain": [
       "Text(0,0.5,'Percent Enrolled in AP')"
      ]
     },
     "execution_count": 97,
     "metadata": {},
     "output_type": "execute_result"
    },
    {
     "data": {
      "image/png": "[encoded data removed]",
      "text/plain": [
       "<Figure size 792x288 with 2 Axes>"
      ]
     },
     "metadata": {},
     "output_type": "display_data"
    }
   ],
   "source": [
    "fig, (ax1,ax2) = plt.subplots(1,2, figsize = (11,4))\n",
    "\n",
    "plt.sca(ax1)\n",
    "de_eth.plot.bar(x='eth_quintile', y='de_pct_enrolled', ax = ax1)\n",
    "plt.legend([])\n",
    "plt.title('DE Participation in DE-Offering Schools\\nBy Ethnicity Percentage Quintiles')\n",
    "plt.xticks(rotation = 0)\n",
    "plt.xticks([0,1,2,3,4], ['0-20%', '21-40%', '41-60%', '61-80%', '81-100%'])\n",
    "plt.yticks(np.arange(0,.3,.05))\n",
    "plt.xlabel('(Percentage non-white)')\n",
    "plt.ylabel('Percent Enrolled in DE')\n",
    "\n",
    "plt.sca(ax2)\n",
    "ap_eth.plot.bar(x='eth_quintile', y='ap_pct_enrolled', ax=ax2)\n",
    "plt.legend([])\n",
    "plt.title('AP Participation in AP-Offering Schools\\nBy Ethnicity Percentage Quintiles')\n",
    "plt.xticks(rotation = 0)\n",
    "plt.xticks([0,1,2,3,4], ['0-20%', '21-40%', '41-60%', '61-80%', '81-100%'])\n",
    "plt.yticks(np.arange(0,.3,.05))\n",
    "plt.xlabel('(Percentage non-white)')\n",
    "plt.ylabel('Percent Enrolled in AP')"
   ]
  },
  {
   "cell_type": "code",
   "execution_count": 98,
   "metadata": {},
   "outputs": [
    {
     "data": {
      "text/plain": [
       "(-1.174731089103371,\n",
       " 1.1757576648259846,\n",
       " -1.1605978926344418,\n",
       " 1.1657271925554116)"
      ]
     },
     "execution_count": 98,
     "metadata": {},
     "output_type": "execute_result"
    },
    {
     "data": {
      "image/png": "[encoded data removed]",
      "text/plain": [
       "<Figure size 720x720 with 2 Axes>"
      ]
     },
     "metadata": {},
     "output_type": "display_data"
    }
   ],
   "source": [
    "f, (ax1,ax2) = plt.subplots(2,1, figsize = (10,10))\n",
    "\n",
    "plt.sca(ax1)\n",
    "a1 = de_eth.plot.pie(y = 'de_total_enrollment',\n",
    "                        autopct='%1.1f%%', explode = [.05 for i in range(5)],\n",
    "                        startangle = -29, pctdistance=1.25, labels = None, fontsize = 13, ax=ax1)\n",
    "plt.legend(labels = ['0-20%', '21-40%', '41-60%', '61-80%', '81-100%'],\n",
    "           bbox_to_anchor = (1,0.71), title = 'Percentage Non-White',\n",
    "          frameon=True)\n",
    "plt.ylabel('')\n",
    "plt.title('Percentage of Total DE Enrollment by School Ethnicity Groups')\n",
    "centre_circle = plt.Circle((0,0),0.6,fc='white')\n",
    "a1.add_artist(centre_circle)\n",
    "a1.axis('equal')\n",
    "\n",
    "plt.sca(ax2)\n",
    "a2 = ap_eth.plot.pie(y = 'ap_total_enrollment',\n",
    "                        autopct='%1.1f%%', explode = [.05 for i in range(5)],\n",
    "                        startangle = 11, pctdistance=1.25, labels = None, fontsize = 13, ax=ax2)\n",
    "plt.legend(labels = ['0-20%', '21-40%', '41-60%', '61-80%', '81-100%'],\n",
    "           bbox_to_anchor = (1,0.71), title = 'Percentage Non-White',\n",
    "          frameon=True)\n",
    "plt.ylabel('')\n",
    "plt.title('Percentage of Total AP Enrollment by School Ethnicity Groups')\n",
    "centre_circle = plt.Circle((0,0),0.6,fc='white')\n",
    "a2.add_artist(centre_circle)\n",
    "a2.axis('equal')"
   ]
  },
  {
   "cell_type": "markdown",
   "metadata": {},
   "source": [
    "# IX. By Size"
   ]
  },
  {
   "cell_type": "markdown",
   "metadata": {},
   "source": [
    "**DE**"
   ]
  },
  {
   "cell_type": "code",
   "execution_count": 99,
   "metadata": {},
   "outputs": [],
   "source": [
    "deOffering_size_total = crdc_1516_deYes.groupby('size_group')['total_enrollment'].sum().reset_index()\n",
    "de_size_enrollment = crdc_1516_deYes.groupby('size_group')['de_total_enrollment'].sum().reset_index()\n",
    "de_size = de_size_enrollment.merge(deOffering_size_total, how = 'inner', on = 'size_group')"
   ]
  },
  {
   "cell_type": "code",
   "execution_count": 100,
   "metadata": {},
   "outputs": [
    {
     "data": {
      "text/html": [
       "<div>\n",
       "<style scoped>\n",
       "    .dataframe tbody tr th:only-of-type {\n",
       "        vertical-align: middle;\n",
       "    }\n",
       "\n",
       "    .dataframe tbody tr th {\n",
       "        vertical-align: top;\n",
       "    }\n",
       "\n",
       "    .dataframe thead th {\n",
       "        text-align: right;\n",
       "    }\n",
       "</style>\n",
       "<table border=\"1\" class=\"dataframe\">\n",
       "  <thead>\n",
       "    <tr style=\"text-align: right;\">\n",
       "      <th></th>\n",
       "      <th>size_group</th>\n",
       "      <th>de_total_enrollment</th>\n",
       "      <th>total_enrollment</th>\n",
       "      <th>de_pct_enrolled</th>\n",
       "    </tr>\n",
       "  </thead>\n",
       "  <tbody>\n",
       "    <tr>\n",
       "      <th>0</th>\n",
       "      <td>1</td>\n",
       "      <td>7614</td>\n",
       "      <td>46869</td>\n",
       "      <td>0.162</td>\n",
       "    </tr>\n",
       "    <tr>\n",
       "      <th>1</th>\n",
       "      <td>2</td>\n",
       "      <td>227480</td>\n",
       "      <td>1515111</td>\n",
       "      <td>0.150</td>\n",
       "    </tr>\n",
       "    <tr>\n",
       "      <th>2</th>\n",
       "      <td>3</td>\n",
       "      <td>339561</td>\n",
       "      <td>3123364</td>\n",
       "      <td>0.109</td>\n",
       "    </tr>\n",
       "    <tr>\n",
       "      <th>3</th>\n",
       "      <td>4</td>\n",
       "      <td>577015</td>\n",
       "      <td>6597959</td>\n",
       "      <td>0.087</td>\n",
       "    </tr>\n",
       "  </tbody>\n",
       "</table>\n",
       "</div>"
      ],
      "text/plain": [
       "   size_group  de_total_enrollment  total_enrollment  de_pct_enrolled\n",
       "0           1                 7614             46869            0.162\n",
       "1           2               227480           1515111            0.150\n",
       "2           3               339561           3123364            0.109\n",
       "3           4               577015           6597959            0.087"
      ]
     },
     "execution_count": 100,
     "metadata": {},
     "output_type": "execute_result"
    }
   ],
   "source": [
    "de_size['de_pct_enrolled'] = round(de_size['de_total_enrollment'] / de_size['total_enrollment'], 3)\n",
    "de_size"
   ]
  },
  {
   "cell_type": "markdown",
   "metadata": {},
   "source": [
    "**AP**"
   ]
  },
  {
   "cell_type": "code",
   "execution_count": 101,
   "metadata": {},
   "outputs": [],
   "source": [
    "apOffering_size_total = crdc_1516_apYes.groupby('size_group')['total_enrollment'].sum().reset_index()\n",
    "ap_size_enrollment = crdc_1516_apYes.groupby('size_group')['ap_total_enrollment'].sum().reset_index()\n",
    "ap_size = ap_size_enrollment.merge(apOffering_size_total, how = 'inner', on = 'size_group')"
   ]
  },
  {
   "cell_type": "code",
   "execution_count": 102,
   "metadata": {},
   "outputs": [
    {
     "data": {
      "text/html": [
       "<div>\n",
       "<style scoped>\n",
       "    .dataframe tbody tr th:only-of-type {\n",
       "        vertical-align: middle;\n",
       "    }\n",
       "\n",
       "    .dataframe tbody tr th {\n",
       "        vertical-align: top;\n",
       "    }\n",
       "\n",
       "    .dataframe thead th {\n",
       "        text-align: right;\n",
       "    }\n",
       "</style>\n",
       "<table border=\"1\" class=\"dataframe\">\n",
       "  <thead>\n",
       "    <tr style=\"text-align: right;\">\n",
       "      <th></th>\n",
       "      <th>size_group</th>\n",
       "      <th>ap_total_enrollment</th>\n",
       "      <th>total_enrollment</th>\n",
       "      <th>ap_pct_enrolled</th>\n",
       "    </tr>\n",
       "  </thead>\n",
       "  <tbody>\n",
       "    <tr>\n",
       "      <th>0</th>\n",
       "      <td>1</td>\n",
       "      <td>1609</td>\n",
       "      <td>12219</td>\n",
       "      <td>0.132</td>\n",
       "    </tr>\n",
       "    <tr>\n",
       "      <th>1</th>\n",
       "      <td>2</td>\n",
       "      <td>160508</td>\n",
       "      <td>1174642</td>\n",
       "      <td>0.137</td>\n",
       "    </tr>\n",
       "    <tr>\n",
       "      <th>2</th>\n",
       "      <td>3</td>\n",
       "      <td>618461</td>\n",
       "      <td>3651850</td>\n",
       "      <td>0.169</td>\n",
       "    </tr>\n",
       "    <tr>\n",
       "      <th>3</th>\n",
       "      <td>4</td>\n",
       "      <td>1978229</td>\n",
       "      <td>8521710</td>\n",
       "      <td>0.232</td>\n",
       "    </tr>\n",
       "  </tbody>\n",
       "</table>\n",
       "</div>"
      ],
      "text/plain": [
       "   size_group  ap_total_enrollment  total_enrollment  ap_pct_enrolled\n",
       "0           1                 1609             12219            0.132\n",
       "1           2               160508           1174642            0.137\n",
       "2           3               618461           3651850            0.169\n",
       "3           4              1978229           8521710            0.232"
      ]
     },
     "execution_count": 102,
     "metadata": {},
     "output_type": "execute_result"
    }
   ],
   "source": [
    "ap_size['ap_pct_enrolled'] = round(ap_size['ap_total_enrollment'] / ap_size['total_enrollment'], 3)\n",
    "ap_size"
   ]
  },
  {
   "cell_type": "markdown",
   "metadata": {},
   "source": [
    "**Visualizations**"
   ]
  },
  {
   "cell_type": "code",
   "execution_count": 103,
   "metadata": {},
   "outputs": [
    {
     "data": {
      "text/plain": [
       "Text(0,0.5,'Percent Enrolled in AP')"
      ]
     },
     "execution_count": 103,
     "metadata": {},
     "output_type": "execute_result"
    },
    {
     "data": {
      "image/png": "[encoded data removed]",
      "text/plain": [
       "<Figure size 792x288 with 2 Axes>"
      ]
     },
     "metadata": {},
     "output_type": "display_data"
    }
   ],
   "source": [
    "fig, (ax1,ax2) = plt.subplots(1,2, figsize=(11,4))\n",
    "\n",
    "plt.sca(ax1)\n",
    "de_size.plot.bar(x = 'size_group', y = 'de_pct_enrolled', ax=ax1)\n",
    "plt.xticks(rotation = 0)\n",
    "plt.legend([])\n",
    "plt.xlabel('')\n",
    "plt.title('DE Participation in DE-Offering Schools\\nBy Size ')\n",
    "plt.yticks(np.arange(0,0.3,.05))\n",
    "plt.xticks([0,1,2,3], ['<100', '100-499', '500-1199', '>1200'])\n",
    "plt.ylabel('Percent Enrolled in DE')\n",
    "\n",
    "plt.sca(ax2)\n",
    "ap_size.plot.bar(x = 'size_group', y = 'ap_pct_enrolled', ax=ax2)\n",
    "plt.xticks(rotation = 0)\n",
    "plt.legend([])\n",
    "plt.xlabel('')\n",
    "plt.title('AP Participation in AP-Offering Schools\\nBy Size ')\n",
    "plt.yticks(np.arange(0,0.3,.05))\n",
    "plt.xticks([0,1,2,3], ['<100', '100-499', '500-1199', '>1200'])\n",
    "plt.ylabel('Percent Enrolled in AP')"
   ]
  },
  {
   "cell_type": "code",
   "execution_count": 104,
   "metadata": {},
   "outputs": [
    {
     "data": {
      "text/plain": [
       "(-1.104399048825147,\n",
       " 1.1012839833927506,\n",
       " -1.1149563833189322,\n",
       " 1.118187648787524)"
      ]
     },
     "execution_count": 104,
     "metadata": {},
     "output_type": "execute_result"
    },
    {
     "data": {
      "image/png": "[encoded data removed]",
      "text/plain": [
       "<Figure size 720x720 with 2 Axes>"
      ]
     },
     "metadata": {},
     "output_type": "display_data"
    }
   ],
   "source": [
    "fig, (ax1,ax2) = plt.subplots(2,1, figsize=(10,10))\n",
    "\n",
    "plt.sca(ax1)\n",
    "a1 = de_size.plot.pie(y = 'de_total_enrollment',\n",
    "                        autopct='%1.1f%%', \n",
    "                        startangle = 0, pctdistance=1.25, labels = None, fontsize = 13, ax=ax1)\n",
    "plt.legend(labels = ['<100', '100-499', '500-1199', '>1200'], bbox_to_anchor = (1,0.71), title = 'Size of School',\n",
    "          frameon=True)\n",
    "plt.ylabel('')\n",
    "plt.title('Percentage of Total DE Enrollment by School Size Groups')\n",
    "centre_circle = plt.Circle((0,0),0.6,fc='white')\n",
    "a1.add_artist(centre_circle)\n",
    "a1.axis('equal')\n",
    "\n",
    "plt.sca(ax2)\n",
    "a2 = ap_size.plot.pie(y = 'ap_total_enrollment',\n",
    "                        autopct='%1.1f%%',\n",
    "                        startangle = -20, pctdistance=1.25, labels = None, fontsize = 13, ax=ax2)\n",
    "plt.legend(labels = ['<100', '100-499', '500-1199', '>1200'], bbox_to_anchor = (1,0.71), title = 'Size of School',\n",
    "          frameon=True)\n",
    "plt.ylabel('')\n",
    "plt.title('Percentage of Total AP Enrollment by School Size Groups')\n",
    "centre_circle = plt.Circle((0,0),0.6,fc='white')\n",
    "a2.add_artist(centre_circle)\n",
    "a2.axis('equal')"
   ]
  },
  {
   "cell_type": "code",
   "execution_count": null,
   "metadata": {},
   "outputs": [],
   "source": []
  }
 ],
 "metadata": {
  "kernelspec": {
   "display_name": "nacep_venv",
   "language": "python",
   "name": "nacep_venv"
  },
  "language_info": {
   "codemirror_mode": {
    "name": "ipython",
    "version": 3
   },
   "file_extension": ".py",
   "mimetype": "text/x-python",
   "name": "python",
   "nbconvert_exporter": "python",
   "pygments_lexer": "ipython3",
   "version": "3.6.5"
  }
 },
 "nbformat": 4,
 "nbformat_minor": 2
}
