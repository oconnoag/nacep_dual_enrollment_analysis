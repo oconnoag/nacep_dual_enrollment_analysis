{
 "cells": [
  {
   "cell_type": "markdown",
   "metadata": {},
   "source": [
    "# <u> NACEP </u>\n",
    "## 2015-16 CRDC\n",
    "## AP v. DE Flag Analysis\n",
    "#### Alijah O'Connor - 2018\n",
    "------------------------------------------------------------------------------------\n",
    "---"
   ]
  },
  {
   "cell_type": "code",
   "execution_count": 1,
   "metadata": {},
   "outputs": [
    {
     "data": {
      "text/html": [
       "<script>requirejs.config({paths: { 'plotly': ['https://cdn.plot.ly/plotly-latest.min']},});if(!window.Plotly) {{require(['plotly'],function(plotly) {window.Plotly=plotly;});}}</script>"
      ],
      "text/vnd.plotly.v1+html": [
       "<script>requirejs.config({paths: { 'plotly': ['https://cdn.plot.ly/plotly-latest.min']},});if(!window.Plotly) {{require(['plotly'],function(plotly) {window.Plotly=plotly;});}}</script>"
      ]
     },
     "metadata": {},
     "output_type": "display_data"
    }
   ],
   "source": [
    "import pandas as pd\n",
    "import numpy as np\n",
    "import seaborn as sns\n",
    "import matplotlib.pyplot as plt\n",
    "\n",
    "import plotly.plotly as py\n",
    "import plotly.graph_objs as go\n",
    "from plotly.offline import init_notebook_mode,iplot\n",
    "init_notebook_mode(connected = True)\n",
    "\n",
    "from my_functions.extra_functions import flag_grouper\n",
    "\n",
    "%matplotlib inline\n",
    "sns.set_style('whitegrid')\n",
    "plt.rc('axes', titlesize = 14, titleweight = 'bold', labelweight = 'bold')"
   ]
  },
  {
   "cell_type": "code",
   "execution_count": 2,
   "metadata": {},
   "outputs": [],
   "source": [
    "hs = pd.read_csv('../filtered_data/04_filter_final.csv', dtype = {'LEAID':np.object})"
   ]
  },
  {
   "cell_type": "code",
   "execution_count": 3,
   "metadata": {},
   "outputs": [
    {
     "data": {
      "text/plain": [
       "array(['COMBOKEY', 'SCH_NAME', 'GSHI', 'GSLO', 'JJ', 'LAT1516', 'LEAID',\n",
       "       'LEA_NAME', 'LEA_STATE', 'LEA_STATE_NAME', 'LEVEL', 'LOCALE15',\n",
       "       'LON1516', 'NMCNTY15', 'SCHID', 'SCH_APENR_AM_F', 'SCH_APENR_AM_M',\n",
       "       'SCH_APENR_AS_F', 'SCH_APENR_AS_M', 'SCH_APENR_BL_F',\n",
       "       'SCH_APENR_BL_M', 'SCH_APENR_HI_F', 'SCH_APENR_HI_M',\n",
       "       'SCH_APENR_HP_F', 'SCH_APENR_HP_M', 'SCH_APENR_IDEA_F',\n",
       "       'SCH_APENR_IDEA_M', 'SCH_APENR_IND', 'SCH_APENR_LEP_F',\n",
       "       'SCH_APENR_LEP_M', 'SCH_APENR_TR_F', 'SCH_APENR_TR_M',\n",
       "       'SCH_APENR_WH_F', 'SCH_APENR_WH_M', 'SCH_DUALENR_AM_F',\n",
       "       'SCH_DUALENR_AM_M', 'SCH_DUALENR_AS_F', 'SCH_DUALENR_AS_M',\n",
       "       'SCH_DUALENR_BL_F', 'SCH_DUALENR_BL_M', 'SCH_DUALENR_HI_F',\n",
       "       'SCH_DUALENR_HI_M', 'SCH_DUALENR_HP_F', 'SCH_DUALENR_HP_M',\n",
       "       'SCH_DUALENR_IDEA_F', 'SCH_DUALENR_IDEA_M', 'SCH_DUALENR_LEP_F',\n",
       "       'SCH_DUALENR_LEP_M', 'SCH_DUALENR_TR_F', 'SCH_DUALENR_TR_M',\n",
       "       'SCH_DUALENR_WH_F', 'SCH_DUALENR_WH_M', 'SCH_DUAL_IND',\n",
       "       'SCH_ENR_AM_F', 'SCH_ENR_AM_M', 'SCH_ENR_AS_F', 'SCH_ENR_AS_M',\n",
       "       'SCH_ENR_BL_F', 'SCH_ENR_BL_M', 'SCH_ENR_HI_F', 'SCH_ENR_HI_M',\n",
       "       'SCH_ENR_HP_F', 'SCH_ENR_HP_M', 'SCH_ENR_IDEA_F', 'SCH_ENR_IDEA_M',\n",
       "       'SCH_ENR_LEP_F', 'SCH_ENR_LEP_M', 'SCH_ENR_TR_F', 'SCH_ENR_TR_M',\n",
       "       'SCH_ENR_WH_F', 'SCH_ENR_WH_M', 'SCH_GRADE_G01', 'SCH_GRADE_G02',\n",
       "       'SCH_GRADE_G03', 'SCH_GRADE_G04', 'SCH_GRADE_G05', 'SCH_GRADE_G06',\n",
       "       'SCH_GRADE_G07', 'SCH_GRADE_G08', 'SCH_GRADE_G09', 'SCH_GRADE_G10',\n",
       "       'SCH_GRADE_G11', 'SCH_GRADE_G12', 'SCH_GRADE_KG', 'SCH_GRADE_PS',\n",
       "       'SCH_GRADE_UG', 'SCH_IBENR_AM_F', 'SCH_IBENR_AM_M',\n",
       "       'SCH_IBENR_AS_F', 'SCH_IBENR_AS_M', 'SCH_IBENR_BL_F',\n",
       "       'SCH_IBENR_BL_M', 'SCH_IBENR_HI_F', 'SCH_IBENR_HI_M',\n",
       "       'SCH_IBENR_HP_F', 'SCH_IBENR_HP_M', 'SCH_IBENR_IDEA_F',\n",
       "       'SCH_IBENR_IDEA_M', 'SCH_IBENR_IND', 'SCH_IBENR_LEP_F',\n",
       "       'SCH_IBENR_LEP_M', 'SCH_IBENR_TR_F', 'SCH_IBENR_TR_M',\n",
       "       'SCH_IBENR_WH_F', 'SCH_IBENR_WH_M', 'SCH_STATUS_ALT',\n",
       "       'SCH_STATUS_CHARTER', 'SCH_STATUS_MAGNET', 'SCH_STATUS_SPED',\n",
       "       'SCH_TYPE', 'SCH_TYPE_TEXT', 'SCH_UGDETAIL_HS', 'STABR',\n",
       "       'Students_in_11_12', 'TITLEI', 'TOT_APENR_F', 'TOT_APENR_M',\n",
       "       'TOT_DUALENR_F', 'TOT_DUALENR_M', 'TOT_ENR_F', 'TOT_ENR_M',\n",
       "       'TOT_IBENR_F', 'TOT_IBENR_M', 'VIRTUAL'], dtype=object)"
      ]
     },
     "execution_count": 3,
     "metadata": {},
     "output_type": "execute_result"
    }
   ],
   "source": [
    "hs.columns.values"
   ]
  },
  {
   "cell_type": "markdown",
   "metadata": {},
   "source": [
    "# National"
   ]
  },
  {
   "cell_type": "markdown",
   "metadata": {},
   "source": [
    "### -- Overall Breakdowns"
   ]
  },
  {
   "cell_type": "markdown",
   "metadata": {},
   "source": [
    "<div class = 'alert alert-cell alert-info'>**All DE**</div>"
   ]
  },
  {
   "cell_type": "code",
   "execution_count": 4,
   "metadata": {},
   "outputs": [
    {
     "name": "stdout",
     "output_type": "stream",
     "text": [
      "SCH_DUAL_IND\n",
      "No      5337\n",
      "Yes    13330\n",
      "Name: LEAID, dtype: int64\n",
      "\n",
      "0.714 percent of schools in this dataset reported that they offered dual enrollment in 2013-2014.\n"
     ]
    }
   ],
   "source": [
    "de_breakdown = hs.groupby(['SCH_DUAL_IND'])['LEAID'].count()\n",
    "print(de_breakdown)\n",
    "print(\"\")\n",
    "de_pct = round(de_breakdown.iloc[1] / (de_breakdown.iloc[0] + de_breakdown.iloc[1]), 3)\n",
    "print(str(de_pct) + \" percent of schools in this dataset reported that they offered dual enrollment in 2013-2014.\")"
   ]
  },
  {
   "cell_type": "markdown",
   "metadata": {},
   "source": [
    "<div class = 'alert alert-cell alert-info'>**All AP**</div>"
   ]
  },
  {
   "cell_type": "code",
   "execution_count": 5,
   "metadata": {},
   "outputs": [
    {
     "name": "stdout",
     "output_type": "stream",
     "text": [
      "SCH_APENR_IND\n",
      "No      5911\n",
      "Yes    12756\n",
      "Name: LEAID, dtype: int64\n",
      "\n",
      "0.683 percent of schools in this dataset reported that they offered AP in 2013-2014.\n"
     ]
    }
   ],
   "source": [
    "ap_breakdown = hs.groupby(['SCH_APENR_IND'])['LEAID'].count()\n",
    "print(ap_breakdown)\n",
    "print(\"\")\n",
    "ap_pct = round(ap_breakdown.iloc[1] / (ap_breakdown.iloc[0] + ap_breakdown.iloc[1]), 3)\n",
    "print(str(ap_pct) + \" percent of schools in this dataset reported that they offered AP in 2013-2014.\")"
   ]
  },
  {
   "cell_type": "markdown",
   "metadata": {},
   "source": [
    "## - By Size\n",
    "(Based on Total Enrollment of School)"
   ]
  },
  {
   "cell_type": "markdown",
   "metadata": {},
   "source": [
    "<div class = 'alert alert-cell alert-danger'>**Create a Size-of-School Classifier**</div>"
   ]
  },
  {
   "cell_type": "code",
   "execution_count": 6,
   "metadata": {},
   "outputs": [],
   "source": [
    "hs['total_enrollment'] = hs['TOT_ENR_M'] + hs['TOT_ENR_F']\n",
    "from my_functions.extra_functions import hs_enrollment_averager\n",
    "hs['hs_total_enrollment'] = hs_enrollment_averager(hs) # Calculating HS Students from the Total_Enrollments in Schools"
   ]
  },
  {
   "cell_type": "code",
   "execution_count": 7,
   "metadata": {},
   "outputs": [],
   "source": [
    "\"\"\"Assigning Size Groups based on HS Enrollments\"\"\"\n",
    "from my_functions.extra_functions import school_sizer\n",
    "hs['size_group'] = hs['hs_total_enrollment'].apply(lambda x: school_sizer(x))"
   ]
  },
  {
   "cell_type": "code",
   "execution_count": 8,
   "metadata": {},
   "outputs": [
    {
     "data": {
      "text/html": [
       "<div>\n",
       "<style scoped>\n",
       "    .dataframe tbody tr th:only-of-type {\n",
       "        vertical-align: middle;\n",
       "    }\n",
       "\n",
       "    .dataframe tbody tr th {\n",
       "        vertical-align: top;\n",
       "    }\n",
       "\n",
       "    .dataframe thead th {\n",
       "        text-align: right;\n",
       "    }\n",
       "</style>\n",
       "<table border=\"1\" class=\"dataframe\">\n",
       "  <thead>\n",
       "    <tr style=\"text-align: right;\">\n",
       "      <th></th>\n",
       "      <th># of HS Schools</th>\n",
       "      <th># of DE Schools</th>\n",
       "      <th>DE Offering Rate</th>\n",
       "      <th># of AP Schools</th>\n",
       "      <th>AP Offering Rate</th>\n",
       "    </tr>\n",
       "    <tr>\n",
       "      <th>Student Enrollment</th>\n",
       "      <th></th>\n",
       "      <th></th>\n",
       "      <th></th>\n",
       "      <th></th>\n",
       "      <th></th>\n",
       "    </tr>\n",
       "  </thead>\n",
       "  <tbody>\n",
       "    <tr>\n",
       "      <th>&lt;100</th>\n",
       "      <td>2358</td>\n",
       "      <td>1331</td>\n",
       "      <td>56.4</td>\n",
       "      <td>333</td>\n",
       "      <td>14.1</td>\n",
       "    </tr>\n",
       "    <tr>\n",
       "      <th>100-499</th>\n",
       "      <td>7390</td>\n",
       "      <td>5225</td>\n",
       "      <td>70.7</td>\n",
       "      <td>4100</td>\n",
       "      <td>55.5</td>\n",
       "    </tr>\n",
       "    <tr>\n",
       "      <th>500-1199</th>\n",
       "      <td>4543</td>\n",
       "      <td>3409</td>\n",
       "      <td>75.0</td>\n",
       "      <td>4035</td>\n",
       "      <td>88.8</td>\n",
       "    </tr>\n",
       "    <tr>\n",
       "      <th>1200+</th>\n",
       "      <td>4376</td>\n",
       "      <td>3365</td>\n",
       "      <td>76.9</td>\n",
       "      <td>4288</td>\n",
       "      <td>98.0</td>\n",
       "    </tr>\n",
       "  </tbody>\n",
       "</table>\n",
       "</div>"
      ],
      "text/plain": [
       "                    # of HS Schools  # of DE Schools  DE Offering Rate  \\\n",
       "Student Enrollment                                                       \n",
       "<100                           2358             1331              56.4   \n",
       "100-499                        7390             5225              70.7   \n",
       "500-1199                       4543             3409              75.0   \n",
       "1200+                          4376             3365              76.9   \n",
       "\n",
       "                    # of AP Schools  AP Offering Rate  \n",
       "Student Enrollment                                     \n",
       "<100                            333              14.1  \n",
       "100-499                        4100              55.5  \n",
       "500-1199                       4035              88.8  \n",
       "1200+                          4288              98.0  "
      ]
     },
     "execution_count": 8,
     "metadata": {},
     "output_type": "execute_result"
    }
   ],
   "source": [
    "de_by_size = flag_grouper(hs, 'size_group', 'DE')\n",
    "ap_by_size = flag_grouper(hs, 'size_group', 'AP')\n",
    "\n",
    "hs_by_size = pd.merge(de_by_size, ap_by_size, on = '# of HS Schools')\n",
    "hs_by_size = hs_by_size.rename({0: '<100', 1: '100-499', 2:'500-1199', 3:'1200+'})\n",
    "hs_by_size.index.names = ['Student Enrollment']\n",
    "hs_by_size"
   ]
  },
  {
   "cell_type": "markdown",
   "metadata": {},
   "source": [
    "<div class = 'alert alert-cell alert-danger'>**Visualizations**</div>"
   ]
  },
  {
   "cell_type": "code",
   "execution_count": 9,
   "metadata": {},
   "outputs": [
    {
     "data": {
      "text/plain": [
       "(0, 100)"
      ]
     },
     "execution_count": 9,
     "metadata": {},
     "output_type": "execute_result"
    },
    {
     "data": {
      "image/png": "[encoded data removed]",
      "text/plain": [
       "<Figure size 720x288 with 2 Axes>"
      ]
     },
     "metadata": {},
     "output_type": "display_data"
    }
   ],
   "source": [
    "fig, (ax1,ax2) = plt.subplots(1,2, figsize = (10,4))\n",
    "\n",
    "plt.sca(ax1)\n",
    "hs_by_size.plot.bar(y = 'DE Offering Rate', ax = ax1)\n",
    "plt.xticks(rotation = 0)\n",
    "plt.legend([])\n",
    "plt.xlabel('')\n",
    "plt.title('Percentage of Schools Offering DE\\nBy Size ')\n",
    "plt.yticks(np.arange(0,110,10))\n",
    "plt.xticks([0,1,2,3], ['<100', '100-499', '500-1199', '>1200'])\n",
    "plt.ylim([0,100])\n",
    "\n",
    "plt.sca(ax2)\n",
    "hs_by_size.plot.bar(y = 'AP Offering Rate', ax=ax2)\n",
    "plt.xticks(rotation = 0)\n",
    "plt.legend([])\n",
    "plt.xlabel('')\n",
    "plt.title('Percentage of Schools Offering AP\\nBy Size ')\n",
    "plt.yticks(np.arange(0,110, 10))\n",
    "plt.xticks([0,1,2,3], ['<100', '100-499', '500-1199', '>1200'])\n",
    "plt.ylim([0,100])"
   ]
  },
  {
   "cell_type": "markdown",
   "metadata": {},
   "source": [
    "## - By Locale"
   ]
  },
  {
   "cell_type": "markdown",
   "metadata": {},
   "source": [
    "<div class = 'alert alert-cell alert-danger'>**Creating a Locale Classifer**</div>"
   ]
  },
  {
   "cell_type": "code",
   "execution_count": 10,
   "metadata": {},
   "outputs": [
    {
     "data": {
      "text/plain": [
       "Rural       7438\n",
       "Suburban    4481\n",
       "City        4109\n",
       "Town        2639\n",
       "Name: locale_group, dtype: int64"
      ]
     },
     "execution_count": 10,
     "metadata": {},
     "output_type": "execute_result"
    }
   ],
   "source": [
    "from my_functions.extra_functions import locale_map\n",
    "hs['locale_group'] = hs['LOCALE15'].map(locale_map)\n",
    "hs.locale_group.value_counts()"
   ]
  },
  {
   "cell_type": "code",
   "execution_count": 11,
   "metadata": {},
   "outputs": [
    {
     "data": {
      "text/html": [
       "<div>\n",
       "<style scoped>\n",
       "    .dataframe tbody tr th:only-of-type {\n",
       "        vertical-align: middle;\n",
       "    }\n",
       "\n",
       "    .dataframe tbody tr th {\n",
       "        vertical-align: top;\n",
       "    }\n",
       "\n",
       "    .dataframe thead th {\n",
       "        text-align: right;\n",
       "    }\n",
       "</style>\n",
       "<table border=\"1\" class=\"dataframe\">\n",
       "  <thead>\n",
       "    <tr style=\"text-align: right;\">\n",
       "      <th></th>\n",
       "      <th># of HS Schools</th>\n",
       "      <th># of DE Schools</th>\n",
       "      <th>DE Offering Rate</th>\n",
       "      <th># of AP Schools</th>\n",
       "      <th>AP Offering Rate</th>\n",
       "    </tr>\n",
       "    <tr>\n",
       "      <th>Locale</th>\n",
       "      <th></th>\n",
       "      <th></th>\n",
       "      <th></th>\n",
       "      <th></th>\n",
       "      <th></th>\n",
       "    </tr>\n",
       "  </thead>\n",
       "  <tbody>\n",
       "    <tr>\n",
       "      <th>City</th>\n",
       "      <td>4109</td>\n",
       "      <td>2301</td>\n",
       "      <td>56.0</td>\n",
       "      <td>3152</td>\n",
       "      <td>76.7</td>\n",
       "    </tr>\n",
       "    <tr>\n",
       "      <th>Rural</th>\n",
       "      <td>7438</td>\n",
       "      <td>5853</td>\n",
       "      <td>78.7</td>\n",
       "      <td>3827</td>\n",
       "      <td>51.5</td>\n",
       "    </tr>\n",
       "    <tr>\n",
       "      <th>Suburban</th>\n",
       "      <td>4481</td>\n",
       "      <td>3126</td>\n",
       "      <td>69.8</td>\n",
       "      <td>3925</td>\n",
       "      <td>87.6</td>\n",
       "    </tr>\n",
       "    <tr>\n",
       "      <th>Town</th>\n",
       "      <td>2639</td>\n",
       "      <td>2050</td>\n",
       "      <td>77.7</td>\n",
       "      <td>1852</td>\n",
       "      <td>70.2</td>\n",
       "    </tr>\n",
       "  </tbody>\n",
       "</table>\n",
       "</div>"
      ],
      "text/plain": [
       "          # of HS Schools  # of DE Schools  DE Offering Rate  # of AP Schools  \\\n",
       "Locale                                                                          \n",
       "City                 4109             2301              56.0             3152   \n",
       "Rural                7438             5853              78.7             3827   \n",
       "Suburban             4481             3126              69.8             3925   \n",
       "Town                 2639             2050              77.7             1852   \n",
       "\n",
       "          AP Offering Rate  \n",
       "Locale                      \n",
       "City                  76.7  \n",
       "Rural                 51.5  \n",
       "Suburban              87.6  \n",
       "Town                  70.2  "
      ]
     },
     "execution_count": 11,
     "metadata": {},
     "output_type": "execute_result"
    }
   ],
   "source": [
    "de_by_locale = flag_grouper(hs, 'locale_group', 'DE')\n",
    "ap_by_locale = flag_grouper(hs, 'locale_group', 'AP')\n",
    "\n",
    "hs_by_locale = pd.merge(de_by_locale, ap_by_locale, on = '# of HS Schools')\n",
    "hs_by_locale = hs_by_locale.rename({0: 'City', 1: 'Rural', 2: 'Suburban', 3: 'Town'})\n",
    "hs_by_locale.index.names = ['Locale']\n",
    "hs_by_locale"
   ]
  },
  {
   "cell_type": "markdown",
   "metadata": {},
   "source": [
    "<div class = 'alert alert-cell alert-danger'>**Visualizations**</div>"
   ]
  },
  {
   "cell_type": "code",
   "execution_count": 12,
   "metadata": {},
   "outputs": [
    {
     "data": {
      "text/plain": [
       "(0, 100)"
      ]
     },
     "execution_count": 12,
     "metadata": {},
     "output_type": "execute_result"
    },
    {
     "data": {
      "image/png": "[encoded data removed]",
      "text/plain": [
       "<Figure size 720x288 with 2 Axes>"
      ]
     },
     "metadata": {},
     "output_type": "display_data"
    }
   ],
   "source": [
    "fig, (ax1,ax2) = plt.subplots(1,2, figsize = (10,4))\n",
    "\n",
    "plt.sca(ax1)\n",
    "hs_by_locale.plot.bar(y = 'DE Offering Rate', ax = ax1)\n",
    "plt.xticks(rotation = 0)\n",
    "plt.legend([])\n",
    "plt.xlabel('')\n",
    "plt.title('Percentage of Schools Offering DE\\nBy Locale ')\n",
    "plt.yticks(np.arange(0,110,10))\n",
    "# plt.xticks([0,1,2,3], [''])\n",
    "plt.ylim([0,100])\n",
    "\n",
    "plt.sca(ax2)\n",
    "hs_by_locale.plot.bar(y = 'AP Offering Rate', ax=ax2)\n",
    "plt.xticks(rotation = 0)\n",
    "plt.legend([])\n",
    "plt.xlabel('')\n",
    "plt.title('Percentage of Schools Offering AP\\nBy Locale ')\n",
    "plt.yticks(np.arange(0,110, 10))\n",
    "# plt.xticks([0,1,2,3], ['<100', '100-499', '500-1199', '>1200'])\n",
    "plt.ylim([0,100])"
   ]
  },
  {
   "cell_type": "markdown",
   "metadata": {},
   "source": [
    "# - By Ethnicity Quintiles"
   ]
  },
  {
   "cell_type": "markdown",
   "metadata": {},
   "source": [
    "<div class = 'alert alert-cell alert-danger'>**Calculate the percent ethnicity of all schools in the set and group schools into quintiles**</div>"
   ]
  },
  {
   "cell_type": "code",
   "execution_count": 13,
   "metadata": {},
   "outputs": [],
   "source": [
    "hs['pct_eth'] = (hs['total_enrollment'] - hs['SCH_ENR_WH_F'] - hs['SCH_ENR_WH_M']) / hs['total_enrollment']\n",
    "from my_functions.extra_functions import eth_grouper\n",
    "hs['eth_quintile'] = hs['pct_eth'].apply(lambda pct: eth_grouper(pct))"
   ]
  },
  {
   "cell_type": "code",
   "execution_count": 14,
   "metadata": {},
   "outputs": [
    {
     "data": {
      "text/plain": [
       "Text(0.5,0,'Ethnicity Percentage')"
      ]
     },
     "execution_count": 14,
     "metadata": {},
     "output_type": "execute_result"
    },
    {
     "data": {
      "image/png": "[encoded data removed]",
      "text/plain": [
       "<Figure size 432x288 with 1 Axes>"
      ]
     },
     "metadata": {},
     "output_type": "display_data"
    }
   ],
   "source": [
    "\"\"\"What does the distribution of the schools in the dataset look based on ethncitiy?\"\"\"\n",
    "hs.pct_eth.plot.hist(bins=100, xlim = [0,1], edgecolor = 'k')\n",
    "plt.title('Distribution of Schools by Ethnicity Percentages')\n",
    "plt.xlabel('Ethnicity Percentage')\n",
    "# plt.savefig(fname = './Visualizations/By_ethnicity_dist_200.png', dpi = 200)"
   ]
  },
  {
   "cell_type": "code",
   "execution_count": 15,
   "metadata": {},
   "outputs": [
    {
     "data": {
      "text/html": [
       "<div>\n",
       "<style scoped>\n",
       "    .dataframe tbody tr th:only-of-type {\n",
       "        vertical-align: middle;\n",
       "    }\n",
       "\n",
       "    .dataframe tbody tr th {\n",
       "        vertical-align: top;\n",
       "    }\n",
       "\n",
       "    .dataframe thead th {\n",
       "        text-align: right;\n",
       "    }\n",
       "</style>\n",
       "<table border=\"1\" class=\"dataframe\">\n",
       "  <thead>\n",
       "    <tr style=\"text-align: right;\">\n",
       "      <th></th>\n",
       "      <th># of HS Schools</th>\n",
       "      <th># of DE Schools</th>\n",
       "      <th>DE Offering Rate</th>\n",
       "      <th># of AP Schools</th>\n",
       "      <th>AP Offering Rate</th>\n",
       "    </tr>\n",
       "    <tr>\n",
       "      <th>Non-White %</th>\n",
       "      <th></th>\n",
       "      <th></th>\n",
       "      <th></th>\n",
       "      <th></th>\n",
       "      <th></th>\n",
       "    </tr>\n",
       "  </thead>\n",
       "  <tbody>\n",
       "    <tr>\n",
       "      <th>0-20%</th>\n",
       "      <td>7122</td>\n",
       "      <td>5677</td>\n",
       "      <td>79.7</td>\n",
       "      <td>4385</td>\n",
       "      <td>61.6</td>\n",
       "    </tr>\n",
       "    <tr>\n",
       "      <th>21-40%</th>\n",
       "      <td>3502</td>\n",
       "      <td>2684</td>\n",
       "      <td>76.6</td>\n",
       "      <td>2493</td>\n",
       "      <td>71.2</td>\n",
       "    </tr>\n",
       "    <tr>\n",
       "      <th>41-60%</th>\n",
       "      <td>2414</td>\n",
       "      <td>1755</td>\n",
       "      <td>72.7</td>\n",
       "      <td>1828</td>\n",
       "      <td>75.7</td>\n",
       "    </tr>\n",
       "    <tr>\n",
       "      <th>61-80%</th>\n",
       "      <td>1824</td>\n",
       "      <td>1193</td>\n",
       "      <td>65.4</td>\n",
       "      <td>1367</td>\n",
       "      <td>74.9</td>\n",
       "    </tr>\n",
       "    <tr>\n",
       "      <th>81-100%</th>\n",
       "      <td>3805</td>\n",
       "      <td>2021</td>\n",
       "      <td>53.1</td>\n",
       "      <td>2683</td>\n",
       "      <td>70.5</td>\n",
       "    </tr>\n",
       "  </tbody>\n",
       "</table>\n",
       "</div>"
      ],
      "text/plain": [
       "             # of HS Schools  # of DE Schools  DE Offering Rate  \\\n",
       "Non-White %                                                       \n",
       "0-20%                   7122             5677              79.7   \n",
       "21-40%                  3502             2684              76.6   \n",
       "41-60%                  2414             1755              72.7   \n",
       "61-80%                  1824             1193              65.4   \n",
       "81-100%                 3805             2021              53.1   \n",
       "\n",
       "             # of AP Schools  AP Offering Rate  \n",
       "Non-White %                                     \n",
       "0-20%                   4385              61.6  \n",
       "21-40%                  2493              71.2  \n",
       "41-60%                  1828              75.7  \n",
       "61-80%                  1367              74.9  \n",
       "81-100%                 2683              70.5  "
      ]
     },
     "execution_count": 15,
     "metadata": {},
     "output_type": "execute_result"
    }
   ],
   "source": [
    "de_by_eth = flag_grouper(hs, 'eth_quintile', 'DE')\n",
    "ap_by_eth = flag_grouper(hs, 'eth_quintile', 'AP')\n",
    "\n",
    "hs_by_eth = pd.merge(de_by_eth, ap_by_eth, on = '# of HS Schools')\n",
    "hs_by_eth = hs_by_eth.rename({0: '0-20%', 1: '21-40%', 2: '41-60%', 3: '61-80%', 4: '81-100%'})\n",
    "hs_by_eth.index.names = ['Non-White %']\n",
    "hs_by_eth"
   ]
  },
  {
   "cell_type": "markdown",
   "metadata": {},
   "source": [
    "<div class = 'alert alert-cell alert-danger'>**Visualization**</div>"
   ]
  },
  {
   "cell_type": "code",
   "execution_count": 16,
   "metadata": {},
   "outputs": [
    {
     "data": {
      "text/plain": [
       "Text(0.5,0,'')"
      ]
     },
     "execution_count": 16,
     "metadata": {},
     "output_type": "execute_result"
    },
    {
     "data": {
      "image/png": "[encoded data removed]",
      "text/plain": [
       "<Figure size 720x288 with 2 Axes>"
      ]
     },
     "metadata": {},
     "output_type": "display_data"
    }
   ],
   "source": [
    "fig, (ax1, ax2) = plt.subplots(1,2, figsize = (10,4))\n",
    "plt.sca(ax1)\n",
    "hs_by_eth.plot.bar(y = 'AP Offering Rate', ax = ax1)\n",
    "plt.legend([])\n",
    "plt.title('Percentage of Schools with AP\\nBy Ethnicity Percentage Quintiles')\n",
    "plt.xticks(rotation = 0)\n",
    "plt.yticks(np.arange(0,110,10))\n",
    "plt.ylim([0,100])\n",
    "plt.xlabel('')\n",
    "\n",
    "plt.sca(ax2)\n",
    "hs_by_eth.plot.bar(y = 'DE Offering Rate', ax = ax2)\n",
    "plt.legend([])\n",
    "plt.title('Percentage of Schools with DE\\nBy Ethnicity Percentage Quintiles')\n",
    "plt.xticks(rotation = 0)\n",
    "plt.yticks(np.arange(0,110,10))\n",
    "plt.ylim([0,100])\n",
    "plt.xlabel('')"
   ]
  },
  {
   "cell_type": "markdown",
   "metadata": {},
   "source": [
    "<div class = 'alert alert-cell alert-info'>**Ethnicity Exploration**</div>"
   ]
  },
  {
   "cell_type": "code",
   "execution_count": 17,
   "metadata": {},
   "outputs": [
    {
     "data": {
      "image/png": "[encoded data removed]",
      "text/plain": [
       "<Figure size 360x360 with 1 Axes>"
      ]
     },
     "metadata": {},
     "output_type": "display_data"
    }
   ],
   "source": [
    "\"\"\"Very high percentage non-minority schools by Locale\"\"\"\n",
    "eth_group1_locales = hs[hs.eth_quintile == 1].groupby('locale_group')['LEAID'].count().reset_index()\n",
    "eth_group1_locales['pct'] = round(eth_group1_locales['LEAID'] / eth_group1_locales['LEAID'].sum() * 100, 1)\n",
    "eth_group1_locales = eth_group1_locales.set_index('locale_group')\n",
    "\n",
    "with plt.rc_context({'lines.linewidth': 5, 'font.weight':'bold', 'font.size':11}):\n",
    "    eth_group1_locales.plot.pie(y='LEAID',autopct='%1.1f%%', \n",
    "                            startangle = 55, shadow = True, explode = [.05 for i in range(4)],\n",
    "                            colormap='Pastel2', figsize = (5,5))\n",
    "    plt.title('Schools with <20% non-white students by AP/DE Offering Status')\n",
    "    plt.legend([])\n",
    "    plt.ylabel('')\n",
    "    plt.xticks(fontdict={'fontweight':'bold'})\n",
    "    plt.axis('equal')"
   ]
  },
  {
   "cell_type": "markdown",
   "metadata": {},
   "source": [
    "# - By Vocational Status"
   ]
  },
  {
   "cell_type": "code",
   "execution_count": 18,
   "metadata": {},
   "outputs": [
    {
     "data": {
      "text/html": [
       "<div>\n",
       "<style scoped>\n",
       "    .dataframe tbody tr th:only-of-type {\n",
       "        vertical-align: middle;\n",
       "    }\n",
       "\n",
       "    .dataframe tbody tr th {\n",
       "        vertical-align: top;\n",
       "    }\n",
       "\n",
       "    .dataframe thead th {\n",
       "        text-align: right;\n",
       "    }\n",
       "</style>\n",
       "<table border=\"1\" class=\"dataframe\">\n",
       "  <thead>\n",
       "    <tr style=\"text-align: right;\">\n",
       "      <th></th>\n",
       "      <th># of HS Schools</th>\n",
       "      <th># of DE Schools</th>\n",
       "      <th>DE Offering Rate</th>\n",
       "      <th># of AP Schools</th>\n",
       "      <th>AP Offering Rate</th>\n",
       "    </tr>\n",
       "    <tr>\n",
       "      <th>School Type</th>\n",
       "      <th></th>\n",
       "      <th></th>\n",
       "      <th></th>\n",
       "      <th></th>\n",
       "      <th></th>\n",
       "    </tr>\n",
       "  </thead>\n",
       "  <tbody>\n",
       "    <tr>\n",
       "      <th>Regular</th>\n",
       "      <td>18308</td>\n",
       "      <td>13124</td>\n",
       "      <td>71.7</td>\n",
       "      <td>12639</td>\n",
       "      <td>69.0</td>\n",
       "    </tr>\n",
       "    <tr>\n",
       "      <th>Vocational</th>\n",
       "      <td>359</td>\n",
       "      <td>206</td>\n",
       "      <td>57.4</td>\n",
       "      <td>117</td>\n",
       "      <td>32.6</td>\n",
       "    </tr>\n",
       "  </tbody>\n",
       "</table>\n",
       "</div>"
      ],
      "text/plain": [
       "             # of HS Schools  # of DE Schools  DE Offering Rate  \\\n",
       "School Type                                                       \n",
       "Regular                18308            13124              71.7   \n",
       "Vocational               359              206              57.4   \n",
       "\n",
       "             # of AP Schools  AP Offering Rate  \n",
       "School Type                                     \n",
       "Regular                12639              69.0  \n",
       "Vocational               117              32.6  "
      ]
     },
     "execution_count": 18,
     "metadata": {},
     "output_type": "execute_result"
    }
   ],
   "source": [
    "de_by_voc = flag_grouper(hs, 'SCH_TYPE', 'DE')\n",
    "ap_by_voc = flag_grouper(hs, 'SCH_TYPE', 'AP')\n",
    "\n",
    "hs_by_voc = pd.merge(de_by_voc, ap_by_voc, on = '# of HS Schools')\n",
    "hs_by_voc = hs_by_voc.rename({0: 'Regular', 1: 'Vocational'})\n",
    "hs_by_voc.index.names = ['School Type']\n",
    "hs_by_voc"
   ]
  },
  {
   "cell_type": "markdown",
   "metadata": {},
   "source": [
    "<div class = 'alert alert-cell alert-danger'>**Visualizations**</div>"
   ]
  },
  {
   "cell_type": "code",
   "execution_count": 19,
   "metadata": {},
   "outputs": [
    {
     "data": {
      "text/plain": [
       "Text(0.5,0,'')"
      ]
     },
     "execution_count": 19,
     "metadata": {},
     "output_type": "execute_result"
    },
    {
     "data": {
      "image/png": "[encoded data removed]",
      "text/plain": [
       "<Figure size 720x288 with 2 Axes>"
      ]
     },
     "metadata": {},
     "output_type": "display_data"
    }
   ],
   "source": [
    "fig, (ax1, ax2) = plt.subplots(1,2, figsize = (10,4))\n",
    "plt.sca(ax1)\n",
    "hs_by_voc.plot.bar(y = 'DE Offering Rate', ax = ax1)\n",
    "plt.legend([])\n",
    "plt.title('Percentage of Schools with DE\\nBy Vocational Status')\n",
    "plt.xticks(rotation = 0)\n",
    "plt.yticks(np.arange(0,110,10))\n",
    "plt.ylim([0,100])\n",
    "plt.xlabel('')\n",
    "\n",
    "plt.sca(ax2)\n",
    "hs_by_voc.plot.bar(y = 'AP Offering Rate', ax = ax2)\n",
    "plt.legend([])\n",
    "plt.title('Percentage of Schools with AP\\nBy Vocational Status')\n",
    "plt.xticks(rotation = 0)\n",
    "plt.yticks(np.arange(0,110,10))\n",
    "plt.ylim([0,100])\n",
    "plt.xlabel('')"
   ]
  },
  {
   "cell_type": "markdown",
   "metadata": {},
   "source": [
    "# - ScatterGeo"
   ]
  },
  {
   "cell_type": "code",
   "execution_count": 20,
   "metadata": {},
   "outputs": [],
   "source": [
    "de_map = {'Yes':1, 'No':0}\n",
    "dual_enroll_bin = hs.SCH_DUAL_IND.map(de_map)"
   ]
  },
  {
   "cell_type": "code",
   "execution_count": 21,
   "metadata": {},
   "outputs": [
    {
     "name": "stdout",
     "output_type": "stream",
     "text": [
      "To see the scattergeo, uncomment code and change the size of the markers (to 3-5) -- Very cumbersome Graph\n"
     ]
    }
   ],
   "source": [
    "# scl = [ [0,\"rgb(5, 10, 172)\"], [1,\"rgb(0, 200, 100)\"] ]\n",
    "\n",
    "\n",
    "# data = [ dict(\n",
    "#         type = 'scattergeo',\n",
    "#         locationmode = 'USA-states',\n",
    "#         lon = hs['LON1516'],\n",
    "#         lat = hs['LAT1516'],\n",
    "#         mode = 'markers',\n",
    "#         marker = dict(\n",
    "#             size = 5,\n",
    "#             opacity = 0.8,\n",
    "#             autocolorscale = False,\n",
    "#             line = dict(\n",
    "#                 width=1,\n",
    "#                 color='rgba(255,255,255,1)'\n",
    "#             ),\n",
    "#             colorscale = scl,\n",
    "#             cmin = 0,\n",
    "#             color = dual_enroll_bin,\n",
    "#             cmax = 1,\n",
    "#         ))]\n",
    "\n",
    "# layout = dict(\n",
    "#         geo = dict(\n",
    "#             scope='usa',\n",
    "#             projection=dict( type='albers usa' ),\n",
    "            \n",
    "#         ),\n",
    "#     )\n",
    "\n",
    "# fig = dict( data=data, layout=layout )\n",
    "# # fig = go.Figure(data = [data], layout = layout)\n",
    "# iplot(fig, image = 'png', filename = '02_ScatterGeo_DE_1516', image_width = 2750, image_height=2500)\n",
    "\n",
    "print(\"To see the scattergeo, uncomment code and change the size of the markers (to 3-5) -- Very cumbersome Graph\")"
   ]
  },
  {
   "cell_type": "markdown",
   "metadata": {},
   "source": [
    "# By State"
   ]
  },
  {
   "cell_type": "markdown",
   "metadata": {},
   "source": [
    "<div class = 'alert alert-cell alert-info'>**DE**</div>"
   ]
  },
  {
   "cell_type": "code",
   "execution_count": 39,
   "metadata": {},
   "outputs": [
    {
     "data": {
      "text/html": [
       "<div>\n",
       "<style scoped>\n",
       "    .dataframe tbody tr th:only-of-type {\n",
       "        vertical-align: middle;\n",
       "    }\n",
       "\n",
       "    .dataframe tbody tr th {\n",
       "        vertical-align: top;\n",
       "    }\n",
       "\n",
       "    .dataframe thead th {\n",
       "        text-align: right;\n",
       "    }\n",
       "</style>\n",
       "<table border=\"1\" class=\"dataframe\">\n",
       "  <thead>\n",
       "    <tr style=\"text-align: right;\">\n",
       "      <th></th>\n",
       "      <th># of HS Schools</th>\n",
       "      <th># of DE Schools</th>\n",
       "      <th>DE Offering Rate</th>\n",
       "      <th># of AP Schools</th>\n",
       "      <th>AP Offering Rate</th>\n",
       "    </tr>\n",
       "    <tr>\n",
       "      <th>State</th>\n",
       "      <th></th>\n",
       "      <th></th>\n",
       "      <th></th>\n",
       "      <th></th>\n",
       "      <th></th>\n",
       "    </tr>\n",
       "  </thead>\n",
       "  <tbody>\n",
       "    <tr>\n",
       "      <th>AK</th>\n",
       "      <td>243</td>\n",
       "      <td>97</td>\n",
       "      <td>39.9</td>\n",
       "      <td>42</td>\n",
       "      <td>17.3</td>\n",
       "    </tr>\n",
       "    <tr>\n",
       "      <th>AL</th>\n",
       "      <td>353</td>\n",
       "      <td>298</td>\n",
       "      <td>84.4</td>\n",
       "      <td>226</td>\n",
       "      <td>64.0</td>\n",
       "    </tr>\n",
       "    <tr>\n",
       "      <th>AR</th>\n",
       "      <td>273</td>\n",
       "      <td>210</td>\n",
       "      <td>76.9</td>\n",
       "      <td>255</td>\n",
       "      <td>93.4</td>\n",
       "    </tr>\n",
       "    <tr>\n",
       "      <th>AZ</th>\n",
       "      <td>402</td>\n",
       "      <td>180</td>\n",
       "      <td>44.8</td>\n",
       "      <td>191</td>\n",
       "      <td>47.5</td>\n",
       "    </tr>\n",
       "    <tr>\n",
       "      <th>CA</th>\n",
       "      <td>1432</td>\n",
       "      <td>488</td>\n",
       "      <td>34.1</td>\n",
       "      <td>1163</td>\n",
       "      <td>81.2</td>\n",
       "    </tr>\n",
       "    <tr>\n",
       "      <th>CO</th>\n",
       "      <td>360</td>\n",
       "      <td>288</td>\n",
       "      <td>80.0</td>\n",
       "      <td>230</td>\n",
       "      <td>63.9</td>\n",
       "    </tr>\n",
       "    <tr>\n",
       "      <th>CT</th>\n",
       "      <td>206</td>\n",
       "      <td>132</td>\n",
       "      <td>64.1</td>\n",
       "      <td>171</td>\n",
       "      <td>83.0</td>\n",
       "    </tr>\n",
       "    <tr>\n",
       "      <th>DC</th>\n",
       "      <td>29</td>\n",
       "      <td>6</td>\n",
       "      <td>20.7</td>\n",
       "      <td>28</td>\n",
       "      <td>96.6</td>\n",
       "    </tr>\n",
       "    <tr>\n",
       "      <th>DE</th>\n",
       "      <td>36</td>\n",
       "      <td>25</td>\n",
       "      <td>69.4</td>\n",
       "      <td>30</td>\n",
       "      <td>83.3</td>\n",
       "    </tr>\n",
       "    <tr>\n",
       "      <th>FL</th>\n",
       "      <td>566</td>\n",
       "      <td>504</td>\n",
       "      <td>89.0</td>\n",
       "      <td>482</td>\n",
       "      <td>85.2</td>\n",
       "    </tr>\n",
       "    <tr>\n",
       "      <th>GA</th>\n",
       "      <td>421</td>\n",
       "      <td>379</td>\n",
       "      <td>90.0</td>\n",
       "      <td>376</td>\n",
       "      <td>89.3</td>\n",
       "    </tr>\n",
       "    <tr>\n",
       "      <th>HI</th>\n",
       "      <td>63</td>\n",
       "      <td>57</td>\n",
       "      <td>90.5</td>\n",
       "      <td>42</td>\n",
       "      <td>66.7</td>\n",
       "    </tr>\n",
       "    <tr>\n",
       "      <th>IA</th>\n",
       "      <td>330</td>\n",
       "      <td>321</td>\n",
       "      <td>97.3</td>\n",
       "      <td>168</td>\n",
       "      <td>50.9</td>\n",
       "    </tr>\n",
       "    <tr>\n",
       "      <th>ID</th>\n",
       "      <td>152</td>\n",
       "      <td>133</td>\n",
       "      <td>87.5</td>\n",
       "      <td>60</td>\n",
       "      <td>39.5</td>\n",
       "    </tr>\n",
       "    <tr>\n",
       "      <th>IL</th>\n",
       "      <td>671</td>\n",
       "      <td>518</td>\n",
       "      <td>77.2</td>\n",
       "      <td>441</td>\n",
       "      <td>65.7</td>\n",
       "    </tr>\n",
       "    <tr>\n",
       "      <th>IN</th>\n",
       "      <td>378</td>\n",
       "      <td>317</td>\n",
       "      <td>83.9</td>\n",
       "      <td>328</td>\n",
       "      <td>86.8</td>\n",
       "    </tr>\n",
       "    <tr>\n",
       "      <th>KS</th>\n",
       "      <td>331</td>\n",
       "      <td>280</td>\n",
       "      <td>84.6</td>\n",
       "      <td>94</td>\n",
       "      <td>28.4</td>\n",
       "    </tr>\n",
       "    <tr>\n",
       "      <th>KY</th>\n",
       "      <td>232</td>\n",
       "      <td>191</td>\n",
       "      <td>82.3</td>\n",
       "      <td>202</td>\n",
       "      <td>87.1</td>\n",
       "    </tr>\n",
       "    <tr>\n",
       "      <th>LA</th>\n",
       "      <td>313</td>\n",
       "      <td>273</td>\n",
       "      <td>87.2</td>\n",
       "      <td>196</td>\n",
       "      <td>62.6</td>\n",
       "    </tr>\n",
       "    <tr>\n",
       "      <th>MA</th>\n",
       "      <td>349</td>\n",
       "      <td>159</td>\n",
       "      <td>45.6</td>\n",
       "      <td>295</td>\n",
       "      <td>84.5</td>\n",
       "    </tr>\n",
       "    <tr>\n",
       "      <th>MD</th>\n",
       "      <td>218</td>\n",
       "      <td>177</td>\n",
       "      <td>81.2</td>\n",
       "      <td>200</td>\n",
       "      <td>91.7</td>\n",
       "    </tr>\n",
       "    <tr>\n",
       "      <th>ME</th>\n",
       "      <td>120</td>\n",
       "      <td>73</td>\n",
       "      <td>60.8</td>\n",
       "      <td>100</td>\n",
       "      <td>83.3</td>\n",
       "    </tr>\n",
       "    <tr>\n",
       "      <th>MI</th>\n",
       "      <td>675</td>\n",
       "      <td>562</td>\n",
       "      <td>83.3</td>\n",
       "      <td>448</td>\n",
       "      <td>66.4</td>\n",
       "    </tr>\n",
       "    <tr>\n",
       "      <th>MN</th>\n",
       "      <td>432</td>\n",
       "      <td>298</td>\n",
       "      <td>69.0</td>\n",
       "      <td>191</td>\n",
       "      <td>44.2</td>\n",
       "    </tr>\n",
       "    <tr>\n",
       "      <th>MO</th>\n",
       "      <td>549</td>\n",
       "      <td>481</td>\n",
       "      <td>87.6</td>\n",
       "      <td>223</td>\n",
       "      <td>40.6</td>\n",
       "    </tr>\n",
       "    <tr>\n",
       "      <th>MS</th>\n",
       "      <td>263</td>\n",
       "      <td>194</td>\n",
       "      <td>73.8</td>\n",
       "      <td>161</td>\n",
       "      <td>61.2</td>\n",
       "    </tr>\n",
       "    <tr>\n",
       "      <th>MT</th>\n",
       "      <td>167</td>\n",
       "      <td>99</td>\n",
       "      <td>59.3</td>\n",
       "      <td>77</td>\n",
       "      <td>46.1</td>\n",
       "    </tr>\n",
       "    <tr>\n",
       "      <th>NC</th>\n",
       "      <td>537</td>\n",
       "      <td>386</td>\n",
       "      <td>71.9</td>\n",
       "      <td>424</td>\n",
       "      <td>79.0</td>\n",
       "    </tr>\n",
       "    <tr>\n",
       "      <th>ND</th>\n",
       "      <td>157</td>\n",
       "      <td>136</td>\n",
       "      <td>86.6</td>\n",
       "      <td>35</td>\n",
       "      <td>22.3</td>\n",
       "    </tr>\n",
       "    <tr>\n",
       "      <th>NE</th>\n",
       "      <td>259</td>\n",
       "      <td>219</td>\n",
       "      <td>84.6</td>\n",
       "      <td>67</td>\n",
       "      <td>25.9</td>\n",
       "    </tr>\n",
       "    <tr>\n",
       "      <th>NH</th>\n",
       "      <td>90</td>\n",
       "      <td>54</td>\n",
       "      <td>60.0</td>\n",
       "      <td>73</td>\n",
       "      <td>81.1</td>\n",
       "    </tr>\n",
       "    <tr>\n",
       "      <th>NJ</th>\n",
       "      <td>410</td>\n",
       "      <td>264</td>\n",
       "      <td>64.4</td>\n",
       "      <td>377</td>\n",
       "      <td>92.0</td>\n",
       "    </tr>\n",
       "    <tr>\n",
       "      <th>NM</th>\n",
       "      <td>166</td>\n",
       "      <td>148</td>\n",
       "      <td>89.2</td>\n",
       "      <td>79</td>\n",
       "      <td>47.6</td>\n",
       "    </tr>\n",
       "    <tr>\n",
       "      <th>NV</th>\n",
       "      <td>115</td>\n",
       "      <td>52</td>\n",
       "      <td>45.2</td>\n",
       "      <td>79</td>\n",
       "      <td>68.7</td>\n",
       "    </tr>\n",
       "    <tr>\n",
       "      <th>NY</th>\n",
       "      <td>1220</td>\n",
       "      <td>546</td>\n",
       "      <td>44.8</td>\n",
       "      <td>932</td>\n",
       "      <td>76.4</td>\n",
       "    </tr>\n",
       "    <tr>\n",
       "      <th>OH</th>\n",
       "      <td>895</td>\n",
       "      <td>682</td>\n",
       "      <td>76.2</td>\n",
       "      <td>501</td>\n",
       "      <td>56.0</td>\n",
       "    </tr>\n",
       "    <tr>\n",
       "      <th>OK</th>\n",
       "      <td>445</td>\n",
       "      <td>309</td>\n",
       "      <td>69.4</td>\n",
       "      <td>240</td>\n",
       "      <td>53.9</td>\n",
       "    </tr>\n",
       "    <tr>\n",
       "      <th>OR</th>\n",
       "      <td>270</td>\n",
       "      <td>185</td>\n",
       "      <td>68.5</td>\n",
       "      <td>139</td>\n",
       "      <td>51.5</td>\n",
       "    </tr>\n",
       "    <tr>\n",
       "      <th>PA</th>\n",
       "      <td>677</td>\n",
       "      <td>434</td>\n",
       "      <td>64.1</td>\n",
       "      <td>566</td>\n",
       "      <td>83.6</td>\n",
       "    </tr>\n",
       "    <tr>\n",
       "      <th>RI</th>\n",
       "      <td>55</td>\n",
       "      <td>31</td>\n",
       "      <td>56.4</td>\n",
       "      <td>44</td>\n",
       "      <td>80.0</td>\n",
       "    </tr>\n",
       "    <tr>\n",
       "      <th>SC</th>\n",
       "      <td>229</td>\n",
       "      <td>212</td>\n",
       "      <td>92.6</td>\n",
       "      <td>186</td>\n",
       "      <td>81.2</td>\n",
       "    </tr>\n",
       "    <tr>\n",
       "      <th>SD</th>\n",
       "      <td>155</td>\n",
       "      <td>130</td>\n",
       "      <td>83.9</td>\n",
       "      <td>62</td>\n",
       "      <td>40.0</td>\n",
       "    </tr>\n",
       "    <tr>\n",
       "      <th>TN</th>\n",
       "      <td>352</td>\n",
       "      <td>292</td>\n",
       "      <td>83.0</td>\n",
       "      <td>202</td>\n",
       "      <td>57.4</td>\n",
       "    </tr>\n",
       "    <tr>\n",
       "      <th>TX</th>\n",
       "      <td>1487</td>\n",
       "      <td>1291</td>\n",
       "      <td>86.8</td>\n",
       "      <td>1078</td>\n",
       "      <td>72.5</td>\n",
       "    </tr>\n",
       "    <tr>\n",
       "      <th>UT</th>\n",
       "      <td>156</td>\n",
       "      <td>123</td>\n",
       "      <td>78.8</td>\n",
       "      <td>106</td>\n",
       "      <td>67.9</td>\n",
       "    </tr>\n",
       "    <tr>\n",
       "      <th>VA</th>\n",
       "      <td>321</td>\n",
       "      <td>287</td>\n",
       "      <td>89.4</td>\n",
       "      <td>299</td>\n",
       "      <td>93.1</td>\n",
       "    </tr>\n",
       "    <tr>\n",
       "      <th>VT</th>\n",
       "      <td>64</td>\n",
       "      <td>57</td>\n",
       "      <td>89.1</td>\n",
       "      <td>53</td>\n",
       "      <td>82.8</td>\n",
       "    </tr>\n",
       "    <tr>\n",
       "      <th>WA</th>\n",
       "      <td>365</td>\n",
       "      <td>235</td>\n",
       "      <td>64.4</td>\n",
       "      <td>262</td>\n",
       "      <td>71.8</td>\n",
       "    </tr>\n",
       "    <tr>\n",
       "      <th>WI</th>\n",
       "      <td>481</td>\n",
       "      <td>373</td>\n",
       "      <td>77.5</td>\n",
       "      <td>394</td>\n",
       "      <td>81.9</td>\n",
       "    </tr>\n",
       "    <tr>\n",
       "      <th>WV</th>\n",
       "      <td>121</td>\n",
       "      <td>86</td>\n",
       "      <td>71.1</td>\n",
       "      <td>109</td>\n",
       "      <td>90.1</td>\n",
       "    </tr>\n",
       "    <tr>\n",
       "      <th>WY</th>\n",
       "      <td>76</td>\n",
       "      <td>58</td>\n",
       "      <td>76.3</td>\n",
       "      <td>29</td>\n",
       "      <td>38.2</td>\n",
       "    </tr>\n",
       "  </tbody>\n",
       "</table>\n",
       "</div>"
      ],
      "text/plain": [
       "       # of HS Schools  # of DE Schools  DE Offering Rate  # of AP Schools  \\\n",
       "State                                                                        \n",
       "AK                 243               97              39.9               42   \n",
       "AL                 353              298              84.4              226   \n",
       "AR                 273              210              76.9              255   \n",
       "AZ                 402              180              44.8              191   \n",
       "CA                1432              488              34.1             1163   \n",
       "CO                 360              288              80.0              230   \n",
       "CT                 206              132              64.1              171   \n",
       "DC                  29                6              20.7               28   \n",
       "DE                  36               25              69.4               30   \n",
       "FL                 566              504              89.0              482   \n",
       "GA                 421              379              90.0              376   \n",
       "HI                  63               57              90.5               42   \n",
       "IA                 330              321              97.3              168   \n",
       "ID                 152              133              87.5               60   \n",
       "IL                 671              518              77.2              441   \n",
       "IN                 378              317              83.9              328   \n",
       "KS                 331              280              84.6               94   \n",
       "KY                 232              191              82.3              202   \n",
       "LA                 313              273              87.2              196   \n",
       "MA                 349              159              45.6              295   \n",
       "MD                 218              177              81.2              200   \n",
       "ME                 120               73              60.8              100   \n",
       "MI                 675              562              83.3              448   \n",
       "MN                 432              298              69.0              191   \n",
       "MO                 549              481              87.6              223   \n",
       "MS                 263              194              73.8              161   \n",
       "MT                 167               99              59.3               77   \n",
       "NC                 537              386              71.9              424   \n",
       "ND                 157              136              86.6               35   \n",
       "NE                 259              219              84.6               67   \n",
       "NH                  90               54              60.0               73   \n",
       "NJ                 410              264              64.4              377   \n",
       "NM                 166              148              89.2               79   \n",
       "NV                 115               52              45.2               79   \n",
       "NY                1220              546              44.8              932   \n",
       "OH                 895              682              76.2              501   \n",
       "OK                 445              309              69.4              240   \n",
       "OR                 270              185              68.5              139   \n",
       "PA                 677              434              64.1              566   \n",
       "RI                  55               31              56.4               44   \n",
       "SC                 229              212              92.6              186   \n",
       "SD                 155              130              83.9               62   \n",
       "TN                 352              292              83.0              202   \n",
       "TX                1487             1291              86.8             1078   \n",
       "UT                 156              123              78.8              106   \n",
       "VA                 321              287              89.4              299   \n",
       "VT                  64               57              89.1               53   \n",
       "WA                 365              235              64.4              262   \n",
       "WI                 481              373              77.5              394   \n",
       "WV                 121               86              71.1              109   \n",
       "WY                  76               58              76.3               29   \n",
       "\n",
       "       AP Offering Rate  \n",
       "State                    \n",
       "AK                 17.3  \n",
       "AL                 64.0  \n",
       "AR                 93.4  \n",
       "AZ                 47.5  \n",
       "CA                 81.2  \n",
       "CO                 63.9  \n",
       "CT                 83.0  \n",
       "DC                 96.6  \n",
       "DE                 83.3  \n",
       "FL                 85.2  \n",
       "GA                 89.3  \n",
       "HI                 66.7  \n",
       "IA                 50.9  \n",
       "ID                 39.5  \n",
       "IL                 65.7  \n",
       "IN                 86.8  \n",
       "KS                 28.4  \n",
       "KY                 87.1  \n",
       "LA                 62.6  \n",
       "MA                 84.5  \n",
       "MD                 91.7  \n",
       "ME                 83.3  \n",
       "MI                 66.4  \n",
       "MN                 44.2  \n",
       "MO                 40.6  \n",
       "MS                 61.2  \n",
       "MT                 46.1  \n",
       "NC                 79.0  \n",
       "ND                 22.3  \n",
       "NE                 25.9  \n",
       "NH                 81.1  \n",
       "NJ                 92.0  \n",
       "NM                 47.6  \n",
       "NV                 68.7  \n",
       "NY                 76.4  \n",
       "OH                 56.0  \n",
       "OK                 53.9  \n",
       "OR                 51.5  \n",
       "PA                 83.6  \n",
       "RI                 80.0  \n",
       "SC                 81.2  \n",
       "SD                 40.0  \n",
       "TN                 57.4  \n",
       "TX                 72.5  \n",
       "UT                 67.9  \n",
       "VA                 93.1  \n",
       "VT                 82.8  \n",
       "WA                 71.8  \n",
       "WI                 81.9  \n",
       "WV                 90.1  \n",
       "WY                 38.2  "
      ]
     },
     "execution_count": 39,
     "metadata": {},
     "output_type": "execute_result"
    }
   ],
   "source": [
    "de_by_state = flag_grouper(hs, 'LEA_STATE', 'DE', True)\n",
    "ap_by_state = flag_grouper(hs, 'LEA_STATE', 'AP')\n",
    "\n",
    "hs_by_state = pd.merge(de_by_state, ap_by_state, on = '# of HS Schools')\n",
    "hs_by_state = hs_by_state.set_index('LEA_STATE')\n",
    "hs_by_state.index.names = ['State']\n",
    "hs_by_state"
   ]
  },
  {
   "cell_type": "code",
   "execution_count": 25,
   "metadata": {},
   "outputs": [
    {
     "data": {
      "application/vnd.plotly.v1+json": {
       "data": [
        {
         "colorscale": [
          [
           0,
           "rgb(255,255,255)"
          ],
          [
           0.2,
           "rgb(255,221,221)"
          ],
          [
           0.4,
           "rgb(255, 200, 200)"
          ],
          [
           0.8,
           "rgb(255, 50, 50)"
          ],
          [
           1,
           "rgb(180,0,0)"
          ]
         ],
         "locationmode": "USA-states",
         "locations": [
          "AK",
          "AL",
          "AR",
          "AZ",
          "CA",
          "CO",
          "CT",
          "DC",
          "DE",
          "FL",
          "GA",
          "HI",
          "IA",
          "ID",
          "IL",
          "IN",
          "KS",
          "KY",
          "LA",
          "MA",
          "MD",
          "ME",
          "MI",
          "MN",
          "MO",
          "MS",
          "MT",
          "NC",
          "ND",
          "NE",
          "NH",
          "NJ",
          "NM",
          "NV",
          "NY",
          "OH",
          "OK",
          "OR",
          "PA",
          "RI",
          "SC",
          "SD",
          "TN",
          "TX",
          "UT",
          "VA",
          "VT",
          "WA",
          "WI",
          "WV",
          "WY"
         ],
         "reversescale": false,
         "type": "choropleth",
         "z": [
          0.4,
          0.84,
          0.77,
          0.45,
          0.34,
          0.8,
          0.64,
          0.21,
          0.69,
          0.89,
          0.9,
          0.9,
          0.97,
          0.88,
          0.77,
          0.84,
          0.85,
          0.82,
          0.87,
          0.46,
          0.81,
          0.61,
          0.83,
          0.69,
          0.88,
          0.74,
          0.59,
          0.72,
          0.87,
          0.85,
          0.6,
          0.64,
          0.89,
          0.45,
          0.45,
          0.76,
          0.69,
          0.69,
          0.64,
          0.56,
          0.93,
          0.84,
          0.83,
          0.87,
          0.79,
          0.89,
          0.89,
          0.64,
          0.78,
          0.71,
          0.76
         ]
        }
       ],
       "layout": {
        "geo": {
         "scope": "usa"
        },
        "title": "2015-2016 DE-Offered Percentages"
       }
      },
      "text/html": [
       "<div id=\"90568f19-9792-4906-8d7d-b97051768393\" style=\"height: 525px; width: 100%;\" class=\"plotly-graph-div\"></div><script type=\"text/javascript\">require([\"plotly\"], function(Plotly) { window.PLOTLYENV=window.PLOTLYENV || {};window.PLOTLYENV.BASE_URL=\"https://plot.ly\";Plotly.newPlot(\"90568f19-9792-4906-8d7d-b97051768393\", [{\"type\": \"choropleth\", \"locations\": [\"AK\", \"AL\", \"AR\", \"AZ\", \"CA\", \"CO\", \"CT\", \"DC\", \"DE\", \"FL\", \"GA\", \"HI\", \"IA\", \"ID\", \"IL\", \"IN\", \"KS\", \"KY\", \"LA\", \"MA\", \"MD\", \"ME\", \"MI\", \"MN\", \"MO\", \"MS\", \"MT\", \"NC\", \"ND\", \"NE\", \"NH\", \"NJ\", \"NM\", \"NV\", \"NY\", \"OH\", \"OK\", \"OR\", \"PA\", \"RI\", \"SC\", \"SD\", \"TN\", \"TX\", \"UT\", \"VA\", \"VT\", \"WA\", \"WI\", \"WV\", \"WY\"], \"locationmode\": \"USA-states\", \"colorscale\": [[0.0, \"rgb(255,255,255)\"], [0.2, \"rgb(255,221,221)\"], [0.4, \"rgb(255, 200, 200)\"], [0.8, \"rgb(255, 50, 50)\"], [1.0, \"rgb(180,0,0)\"]], \"reversescale\": false, \"z\": [0.4, 0.84, 0.77, 0.45, 0.34, 0.8, 0.64, 0.21, 0.69, 0.89, 0.9, 0.9, 0.97, 0.88, 0.77, 0.84, 0.85, 0.82, 0.87, 0.46, 0.81, 0.61, 0.83, 0.69, 0.88, 0.74, 0.59, 0.72, 0.87, 0.85, 0.6, 0.64, 0.89, 0.45, 0.45, 0.76, 0.69, 0.69, 0.64, 0.56, 0.93, 0.84, 0.83, 0.87, 0.79, 0.89, 0.89, 0.64, 0.78, 0.71, 0.76]}], {\"title\": \"2015-2016 DE-Offered Percentages\", \"geo\": {\"scope\": \"usa\"}}, {\"showLink\": true, \"linkText\": \"Export to plot.ly\"})});</script>"
      ],
      "text/vnd.plotly.v1+html": [
       "<div id=\"90568f19-9792-4906-8d7d-b97051768393\" style=\"height: 525px; width: 100%;\" class=\"plotly-graph-div\"></div><script type=\"text/javascript\">require([\"plotly\"], function(Plotly) { window.PLOTLYENV=window.PLOTLYENV || {};window.PLOTLYENV.BASE_URL=\"https://plot.ly\";Plotly.newPlot(\"90568f19-9792-4906-8d7d-b97051768393\", [{\"type\": \"choropleth\", \"locations\": [\"AK\", \"AL\", \"AR\", \"AZ\", \"CA\", \"CO\", \"CT\", \"DC\", \"DE\", \"FL\", \"GA\", \"HI\", \"IA\", \"ID\", \"IL\", \"IN\", \"KS\", \"KY\", \"LA\", \"MA\", \"MD\", \"ME\", \"MI\", \"MN\", \"MO\", \"MS\", \"MT\", \"NC\", \"ND\", \"NE\", \"NH\", \"NJ\", \"NM\", \"NV\", \"NY\", \"OH\", \"OK\", \"OR\", \"PA\", \"RI\", \"SC\", \"SD\", \"TN\", \"TX\", \"UT\", \"VA\", \"VT\", \"WA\", \"WI\", \"WV\", \"WY\"], \"locationmode\": \"USA-states\", \"colorscale\": [[0.0, \"rgb(255,255,255)\"], [0.2, \"rgb(255,221,221)\"], [0.4, \"rgb(255, 200, 200)\"], [0.8, \"rgb(255, 50, 50)\"], [1.0, \"rgb(180,0,0)\"]], \"reversescale\": false, \"z\": [0.4, 0.84, 0.77, 0.45, 0.34, 0.8, 0.64, 0.21, 0.69, 0.89, 0.9, 0.9, 0.97, 0.88, 0.77, 0.84, 0.85, 0.82, 0.87, 0.46, 0.81, 0.61, 0.83, 0.69, 0.88, 0.74, 0.59, 0.72, 0.87, 0.85, 0.6, 0.64, 0.89, 0.45, 0.45, 0.76, 0.69, 0.69, 0.64, 0.56, 0.93, 0.84, 0.83, 0.87, 0.79, 0.89, 0.89, 0.64, 0.78, 0.71, 0.76]}], {\"title\": \"2015-2016 DE-Offered Percentages\", \"geo\": {\"scope\": \"usa\"}}, {\"showLink\": true, \"linkText\": \"Export to plot.ly\"})});</script>"
      ]
     },
     "metadata": {},
     "output_type": "display_data"
    }
   ],
   "source": [
    "de_data = dict(type = 'choropleth',\n",
    "            locations = de_by_state['LEA_STATE'],\n",
    "            locationmode = 'USA-states',\n",
    "            colorscale = [[0.0, 'rgb(255,255,255)'], [.2, 'rgb(255,221,221)'], [.4, 'rgb(255, 200, 200)'], [0.8, 'rgb(255, 50, 50)'], [1.0, 'rgb(180,0,0)']],\n",
    "            reversescale = False,\n",
    "            z = de_by_state['pct'])\n",
    "de_layout = dict(title = '2015-2016 DE-Offered Percentages',\n",
    "              geo = {'scope':'usa'})\n",
    "de_choromap = go.Figure(data = [de_data], layout = de_layout)\n",
    "\n",
    "iplot(de_choromap)\n",
    "# iplot(de_choromap, image = 'png', filename='./Visualizations/by_state_de_choropleth')"
   ]
  },
  {
   "cell_type": "code",
   "execution_count": 28,
   "metadata": {},
   "outputs": [
    {
     "data": {
      "application/vnd.plotly.v1+json": {
       "data": [
        {
         "colorscale": [
          [
           0,
           "rgb(255,255,255)"
          ],
          [
           0.2,
           "rgb(255,221,221)"
          ],
          [
           0.4,
           "rgb(255, 200, 200)"
          ],
          [
           0.8,
           "rgb(255, 50, 50)"
          ],
          [
           1,
           "rgb(180,0,0)"
          ]
         ],
         "locationmode": "USA-states",
         "locations": [
          "AK",
          "AL",
          "AR",
          "AZ",
          "CA",
          "CO",
          "CT",
          "DC",
          "DE",
          "FL",
          "GA",
          "HI",
          "IA",
          "ID",
          "IL",
          "IN",
          "KS",
          "KY",
          "LA",
          "MA",
          "MD",
          "ME",
          "MI",
          "MN",
          "MO",
          "MS",
          "MT",
          "NC",
          "ND",
          "NE",
          "NH",
          "NJ",
          "NM",
          "NV",
          "NY",
          "OH",
          "OK",
          "OR",
          "PA",
          "RI",
          "SC",
          "SD",
          "TN",
          "TX",
          "UT",
          "VA",
          "VT",
          "WA",
          "WI",
          "WV",
          "WY"
         ],
         "reversescale": false,
         "type": "choropleth",
         "z": [
          0.17,
          0.64,
          0.93,
          0.48,
          0.81,
          0.64,
          0.83,
          0.97,
          0.83,
          0.85,
          0.89,
          0.67,
          0.51,
          0.39,
          0.66,
          0.87,
          0.28,
          0.87,
          0.63,
          0.85,
          0.92,
          0.83,
          0.66,
          0.44,
          0.41,
          0.61,
          0.46,
          0.79,
          0.22,
          0.26,
          0.81,
          0.92,
          0.48,
          0.69,
          0.76,
          0.56,
          0.54,
          0.51,
          0.84,
          0.8,
          0.81,
          0.4,
          0.57,
          0.72,
          0.68,
          0.93,
          0.83,
          0.72,
          0.82,
          0.9,
          0.38
         ]
        }
       ],
       "layout": {
        "geo": {
         "scope": "usa"
        },
        "title": "2015-2016 AP-Offered Percentages"
       }
      },
      "text/html": [
       "<div id=\"f309b261-5b7d-4c47-9979-a60cefe4e482\" style=\"height: 525px; width: 100%;\" class=\"plotly-graph-div\"></div><script type=\"text/javascript\">require([\"plotly\"], function(Plotly) { window.PLOTLYENV=window.PLOTLYENV || {};window.PLOTLYENV.BASE_URL=\"https://plot.ly\";Plotly.newPlot(\"f309b261-5b7d-4c47-9979-a60cefe4e482\", [{\"type\": \"choropleth\", \"locations\": [\"AK\", \"AL\", \"AR\", \"AZ\", \"CA\", \"CO\", \"CT\", \"DC\", \"DE\", \"FL\", \"GA\", \"HI\", \"IA\", \"ID\", \"IL\", \"IN\", \"KS\", \"KY\", \"LA\", \"MA\", \"MD\", \"ME\", \"MI\", \"MN\", \"MO\", \"MS\", \"MT\", \"NC\", \"ND\", \"NE\", \"NH\", \"NJ\", \"NM\", \"NV\", \"NY\", \"OH\", \"OK\", \"OR\", \"PA\", \"RI\", \"SC\", \"SD\", \"TN\", \"TX\", \"UT\", \"VA\", \"VT\", \"WA\", \"WI\", \"WV\", \"WY\"], \"locationmode\": \"USA-states\", \"colorscale\": [[0.0, \"rgb(255,255,255)\"], [0.2, \"rgb(255,221,221)\"], [0.4, \"rgb(255, 200, 200)\"], [0.8, \"rgb(255, 50, 50)\"], [1.0, \"rgb(180,0,0)\"]], \"reversescale\": false, \"z\": [0.17, 0.64, 0.93, 0.48, 0.81, 0.64, 0.83, 0.97, 0.83, 0.85, 0.89, 0.67, 0.51, 0.39, 0.66, 0.87, 0.28, 0.87, 0.63, 0.85, 0.92, 0.83, 0.66, 0.44, 0.41, 0.61, 0.46, 0.79, 0.22, 0.26, 0.81, 0.92, 0.48, 0.69, 0.76, 0.56, 0.54, 0.51, 0.84, 0.8, 0.81, 0.4, 0.57, 0.72, 0.68, 0.93, 0.83, 0.72, 0.82, 0.9, 0.38]}], {\"title\": \"2015-2016 AP-Offered Percentages\", \"geo\": {\"scope\": \"usa\"}}, {\"showLink\": true, \"linkText\": \"Export to plot.ly\"})});</script>"
      ],
      "text/vnd.plotly.v1+html": [
       "<div id=\"f309b261-5b7d-4c47-9979-a60cefe4e482\" style=\"height: 525px; width: 100%;\" class=\"plotly-graph-div\"></div><script type=\"text/javascript\">require([\"plotly\"], function(Plotly) { window.PLOTLYENV=window.PLOTLYENV || {};window.PLOTLYENV.BASE_URL=\"https://plot.ly\";Plotly.newPlot(\"f309b261-5b7d-4c47-9979-a60cefe4e482\", [{\"type\": \"choropleth\", \"locations\": [\"AK\", \"AL\", \"AR\", \"AZ\", \"CA\", \"CO\", \"CT\", \"DC\", \"DE\", \"FL\", \"GA\", \"HI\", \"IA\", \"ID\", \"IL\", \"IN\", \"KS\", \"KY\", \"LA\", \"MA\", \"MD\", \"ME\", \"MI\", \"MN\", \"MO\", \"MS\", \"MT\", \"NC\", \"ND\", \"NE\", \"NH\", \"NJ\", \"NM\", \"NV\", \"NY\", \"OH\", \"OK\", \"OR\", \"PA\", \"RI\", \"SC\", \"SD\", \"TN\", \"TX\", \"UT\", \"VA\", \"VT\", \"WA\", \"WI\", \"WV\", \"WY\"], \"locationmode\": \"USA-states\", \"colorscale\": [[0.0, \"rgb(255,255,255)\"], [0.2, \"rgb(255,221,221)\"], [0.4, \"rgb(255, 200, 200)\"], [0.8, \"rgb(255, 50, 50)\"], [1.0, \"rgb(180,0,0)\"]], \"reversescale\": false, \"z\": [0.17, 0.64, 0.93, 0.48, 0.81, 0.64, 0.83, 0.97, 0.83, 0.85, 0.89, 0.67, 0.51, 0.39, 0.66, 0.87, 0.28, 0.87, 0.63, 0.85, 0.92, 0.83, 0.66, 0.44, 0.41, 0.61, 0.46, 0.79, 0.22, 0.26, 0.81, 0.92, 0.48, 0.69, 0.76, 0.56, 0.54, 0.51, 0.84, 0.8, 0.81, 0.4, 0.57, 0.72, 0.68, 0.93, 0.83, 0.72, 0.82, 0.9, 0.38]}], {\"title\": \"2015-2016 AP-Offered Percentages\", \"geo\": {\"scope\": \"usa\"}}, {\"showLink\": true, \"linkText\": \"Export to plot.ly\"})});</script>"
      ]
     },
     "metadata": {},
     "output_type": "display_data"
    }
   ],
   "source": [
    "ap_data = dict(type = 'choropleth',\n",
    "            locations = ap_by_state['LEA_STATE'],\n",
    "            locationmode = 'USA-states',\n",
    "            colorscale = [[0.0, 'rgb(255,255,255)'], [.2, 'rgb(255,221,221)'], [.4, 'rgb(255, 200, 200)'], [0.8, 'rgb(255, 50, 50)'], [1.0, 'rgb(180,0,0)']],\n",
    "            reversescale = False,\n",
    "            z = ap_by_state['pct'])\n",
    "ap_layout = dict(title = '2015-2016 AP-Offered Percentages',\n",
    "              geo = {'scope':'usa'})\n",
    "ap_choromap = go.Figure(data = [ap_data], layout = ap_layout)\n",
    "\n",
    "iplot(ap_choromap)\n",
    "# iplot(ap_choromap, image = 'png', filename='./Visualizations/by_state_ap_choropleth')"
   ]
  },
  {
   "cell_type": "markdown",
   "metadata": {},
   "source": [
    "# By Region"
   ]
  },
  {
   "cell_type": "markdown",
   "metadata": {},
   "source": [
    "<div class = 'alert alert-cell alert-danger'>**Create a Region Classifer based on Region Accreditation**</div>"
   ]
  },
  {
   "cell_type": "code",
   "execution_count": 29,
   "metadata": {},
   "outputs": [],
   "source": [
    "\"\"\"\n",
    "1:  Middle States Commission on Higher Education - New York, New Jersey, Pennsylvania, Delaware, Maryland, the District of Columbia\n",
    "\n",
    "2:  New England Association of Schools and Colleges - Connecticut, Maine, Massachusetts, New Hampshire, Rhode Island, and Vermont\n",
    "\n",
    "3:  Higher Learning Commission - Arkansas, Arizona, Colorado, Iowa, Illinois, Indiana, Kansas, Michigan, Minnesota, Missouri, \n",
    "    North Dakota, Nebraska, New Mexico, Ohio, Oklahoma, South Dakota, Wisconsin, West Virginia, and Wyoming\n",
    "\n",
    "4:  Northwest Commission on Colleges and Universities - Alaska, Idaho, Montana, Nevada, Oregon, Utah, and Washington\n",
    "\n",
    "5:  Southern Association of Colleges and Schools - Alabama, Florida, Georgia, Kentucky, Louisiana, Mississippi, \n",
    "    North Carolina, South Carolina, Tennessee, Texas and Virginia\n",
    "\n",
    "6:  Western Association of Schools and Colleges - California, Hawaii\n",
    "\"\"\"\n",
    "\n",
    "from my_functions.extra_functions import region_mapper\n",
    "hs['region_accred'] = hs['LEA_STATE'].apply(lambda x: region_mapper(x))"
   ]
  },
  {
   "cell_type": "code",
   "execution_count": null,
   "metadata": {},
   "outputs": [],
   "source": []
  },
  {
   "cell_type": "code",
   "execution_count": 30,
   "metadata": {},
   "outputs": [
    {
     "data": {
      "text/html": [
       "<div>\n",
       "<style scoped>\n",
       "    .dataframe tbody tr th:only-of-type {\n",
       "        vertical-align: middle;\n",
       "    }\n",
       "\n",
       "    .dataframe tbody tr th {\n",
       "        vertical-align: top;\n",
       "    }\n",
       "\n",
       "    .dataframe thead th {\n",
       "        text-align: right;\n",
       "    }\n",
       "</style>\n",
       "<table border=\"1\" class=\"dataframe\">\n",
       "  <thead>\n",
       "    <tr style=\"text-align: right;\">\n",
       "      <th>SCH_DUAL_IND</th>\n",
       "      <th>region_accred</th>\n",
       "      <th>Yes</th>\n",
       "      <th>Total Schools</th>\n",
       "      <th>pct_de</th>\n",
       "    </tr>\n",
       "  </thead>\n",
       "  <tbody>\n",
       "    <tr>\n",
       "      <th>0</th>\n",
       "      <td>HLC</td>\n",
       "      <td>5596</td>\n",
       "      <td>7156</td>\n",
       "      <td>0.78</td>\n",
       "    </tr>\n",
       "    <tr>\n",
       "      <th>1</th>\n",
       "      <td>MSCHE</td>\n",
       "      <td>1452</td>\n",
       "      <td>2590</td>\n",
       "      <td>0.56</td>\n",
       "    </tr>\n",
       "    <tr>\n",
       "      <th>2</th>\n",
       "      <td>NEASC</td>\n",
       "      <td>506</td>\n",
       "      <td>884</td>\n",
       "      <td>0.57</td>\n",
       "    </tr>\n",
       "    <tr>\n",
       "      <th>3</th>\n",
       "      <td>NWCCU</td>\n",
       "      <td>924</td>\n",
       "      <td>1468</td>\n",
       "      <td>0.63</td>\n",
       "    </tr>\n",
       "    <tr>\n",
       "      <th>4</th>\n",
       "      <td>SACS</td>\n",
       "      <td>4307</td>\n",
       "      <td>5074</td>\n",
       "      <td>0.85</td>\n",
       "    </tr>\n",
       "    <tr>\n",
       "      <th>5</th>\n",
       "      <td>WASC</td>\n",
       "      <td>545</td>\n",
       "      <td>1495</td>\n",
       "      <td>0.36</td>\n",
       "    </tr>\n",
       "  </tbody>\n",
       "</table>\n",
       "</div>"
      ],
      "text/plain": [
       "SCH_DUAL_IND region_accred   Yes  Total Schools  pct_de\n",
       "0                      HLC  5596           7156    0.78\n",
       "1                    MSCHE  1452           2590    0.56\n",
       "2                    NEASC   506            884    0.57\n",
       "3                    NWCCU   924           1468    0.63\n",
       "4                     SACS  4307           5074    0.85\n",
       "5                     WASC   545           1495    0.36"
      ]
     },
     "metadata": {},
     "output_type": "display_data"
    },
    {
     "name": "stdout",
     "output_type": "stream",
     "text": [
      "Stored 'de_by_region_accred' (DataFrame)\n"
     ]
    }
   ],
   "source": [
    "de_by_region_accred = hs.groupby(['region_accred', 'SCH_DUAL_IND'])['LEA_STATE'].count().unstack('SCH_DUAL_IND').reset_index()\n",
    "de_by_region_accred['Total Schools'] = (de_by_region_accred['Yes'] + de_by_region_accred['No'])\n",
    "de_by_region_accred['pct_de'] = round(de_by_region_accred['Yes'] / (de_by_region_accred['Yes'] + de_by_region_accred['No']), 2)\n",
    "display(de_by_region_accred.drop(['No'], axis = 1))\n",
    "\n",
    "%store de_by_region_accred"
   ]
  },
  {
   "cell_type": "markdown",
   "metadata": {},
   "source": [
    "<div class = 'alert alert-cell alert-warning'>**AP**</div>"
   ]
  },
  {
   "cell_type": "code",
   "execution_count": 31,
   "metadata": {},
   "outputs": [
    {
     "data": {
      "text/html": [
       "<div>\n",
       "<style scoped>\n",
       "    .dataframe tbody tr th:only-of-type {\n",
       "        vertical-align: middle;\n",
       "    }\n",
       "\n",
       "    .dataframe tbody tr th {\n",
       "        vertical-align: top;\n",
       "    }\n",
       "\n",
       "    .dataframe thead th {\n",
       "        text-align: right;\n",
       "    }\n",
       "</style>\n",
       "<table border=\"1\" class=\"dataframe\">\n",
       "  <thead>\n",
       "    <tr style=\"text-align: right;\">\n",
       "      <th>SCH_APENR_IND</th>\n",
       "      <th>region_accred</th>\n",
       "      <th>Yes</th>\n",
       "      <th>Total Schools</th>\n",
       "      <th>pct_ap</th>\n",
       "    </tr>\n",
       "  </thead>\n",
       "  <tbody>\n",
       "    <tr>\n",
       "      <th>0</th>\n",
       "      <td>HLC</td>\n",
       "      <td>4085</td>\n",
       "      <td>7156</td>\n",
       "      <td>0.57</td>\n",
       "    </tr>\n",
       "    <tr>\n",
       "      <th>1</th>\n",
       "      <td>MSCHE</td>\n",
       "      <td>2133</td>\n",
       "      <td>2590</td>\n",
       "      <td>0.82</td>\n",
       "    </tr>\n",
       "    <tr>\n",
       "      <th>2</th>\n",
       "      <td>NEASC</td>\n",
       "      <td>736</td>\n",
       "      <td>884</td>\n",
       "      <td>0.83</td>\n",
       "    </tr>\n",
       "    <tr>\n",
       "      <th>3</th>\n",
       "      <td>NWCCU</td>\n",
       "      <td>765</td>\n",
       "      <td>1468</td>\n",
       "      <td>0.52</td>\n",
       "    </tr>\n",
       "    <tr>\n",
       "      <th>4</th>\n",
       "      <td>SACS</td>\n",
       "      <td>3832</td>\n",
       "      <td>5074</td>\n",
       "      <td>0.76</td>\n",
       "    </tr>\n",
       "    <tr>\n",
       "      <th>5</th>\n",
       "      <td>WASC</td>\n",
       "      <td>1205</td>\n",
       "      <td>1495</td>\n",
       "      <td>0.81</td>\n",
       "    </tr>\n",
       "  </tbody>\n",
       "</table>\n",
       "</div>"
      ],
      "text/plain": [
       "SCH_APENR_IND region_accred   Yes  Total Schools  pct_ap\n",
       "0                       HLC  4085           7156    0.57\n",
       "1                     MSCHE  2133           2590    0.82\n",
       "2                     NEASC   736            884    0.83\n",
       "3                     NWCCU   765           1468    0.52\n",
       "4                      SACS  3832           5074    0.76\n",
       "5                      WASC  1205           1495    0.81"
      ]
     },
     "metadata": {},
     "output_type": "display_data"
    },
    {
     "name": "stdout",
     "output_type": "stream",
     "text": [
      "Stored 'ap_by_region_accred' (DataFrame)\n"
     ]
    }
   ],
   "source": [
    "ap_by_region_accred = hs.groupby(['region_accred', 'SCH_APENR_IND'])['LEA_STATE'].count().unstack().reset_index()\n",
    "ap_by_region_accred['Total Schools'] = (ap_by_region_accred['Yes'] + ap_by_region_accred['No'])\n",
    "ap_by_region_accred['pct_ap'] = round(ap_by_region_accred['Yes'] / (ap_by_region_accred['Yes'] + ap_by_region_accred['No']), 2)\n",
    "display(ap_by_region_accred.drop(['No'], axis = 1))\n",
    "\n",
    "%store ap_by_region_accred"
   ]
  },
  {
   "cell_type": "markdown",
   "metadata": {},
   "source": [
    "<div class = 'alert alert-cell alert-danger'>**Visualizations**</div>\n"
   ]
  },
  {
   "cell_type": "code",
   "execution_count": 32,
   "metadata": {
    "scrolled": true
   },
   "outputs": [
    {
     "data": {
      "text/plain": [
       "Text(0.5,0,'')"
      ]
     },
     "execution_count": 32,
     "metadata": {},
     "output_type": "execute_result"
    },
    {
     "data": {
      "image/png": "[encoded data removed]",
      "text/plain": [
       "<Figure size 720x288 with 2 Axes>"
      ]
     },
     "metadata": {},
     "output_type": "display_data"
    }
   ],
   "source": [
    "fig, (ax1,ax2) = plt.subplots(1,2, figsize = (10,4))\n",
    "\n",
    "plt.sca(ax1)\n",
    "de_by_region_accred.plot.bar(x = 'region_accred', y = 'pct_de', ax=ax1)\n",
    "plt.title('Percentage of Schools Offering DE\\n by Region')\n",
    "plt.xticks(rotation = 0)\n",
    "plt.legend([])\n",
    "plt.yticks(np.arange(0,1.1,0.1))\n",
    "plt.ylim([0,1])\n",
    "plt.xlabel('')\n",
    "\n",
    "plt.sca(ax2)\n",
    "ap_by_region_accred.plot.bar(x = 'region_accred', y = 'pct_ap', ax=ax2)\n",
    "plt.title('Percentage of Schools Offering AP\\n by Region')\n",
    "plt.xticks(rotation = 0)\n",
    "plt.legend([])\n",
    "plt.yticks(np.arange(0,1.1,0.1))\n",
    "plt.ylim([0,1])\n",
    "plt.xlabel('')"
   ]
  }
 ],
 "metadata": {
  "kernelspec": {
   "display_name": "nacep_venv",
   "language": "python",
   "name": "nacep_venv"
  },
  "language_info": {
   "codemirror_mode": {
    "name": "ipython",
    "version": 3
   },
   "file_extension": ".py",
   "mimetype": "text/x-python",
   "name": "python",
   "nbconvert_exporter": "python",
   "pygments_lexer": "ipython3",
   "version": "3.6.5"
  }
 },
 "nbformat": 4,
 "nbformat_minor": 2
}
