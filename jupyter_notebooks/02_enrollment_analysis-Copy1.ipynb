{
 "cells": [
  {
   "cell_type": "markdown",
   "metadata": {},
   "source": [
    "# <u> NACEP </u>\n",
    "## 2015-16 CRDC\n",
    "## AP v. DE Enrollment Analysis"
   ]
  },
  {
   "cell_type": "code",
   "execution_count": 1,
   "metadata": {},
   "outputs": [
    {
     "data": {
      "text/html": [
       "<script>requirejs.config({paths: { 'plotly': ['https://cdn.plot.ly/plotly-latest.min']},});if(!window.Plotly) {{require(['plotly'],function(plotly) {window.Plotly=plotly;});}}</script>"
      ],
      "text/vnd.plotly.v1+html": [
       "<script>requirejs.config({paths: { 'plotly': ['https://cdn.plot.ly/plotly-latest.min']},});if(!window.Plotly) {{require(['plotly'],function(plotly) {window.Plotly=plotly;});}}</script>"
      ]
     },
     "metadata": {},
     "output_type": "display_data"
    }
   ],
   "source": [
    "import pandas as pd\n",
    "import numpy as np\n",
    "import seaborn as sns\n",
    "import matplotlib.pyplot as plt\n",
    "\n",
    "import plotly.plotly as py\n",
    "import plotly.graph_objs as go\n",
    "from plotly.offline import init_notebook_mode,iplot\n",
    "init_notebook_mode(connected = True)\n",
    "\n",
    "%matplotlib inline\n",
    "sns.set_style('whitegrid')\n",
    "plt.rc('axes', titlesize = 14, titleweight = 'bold', labelweight = 'bold')"
   ]
  },
  {
   "cell_type": "code",
   "execution_count": 2,
   "metadata": {},
   "outputs": [],
   "source": [
    "crdc_1516 = pd.read_csv('../filtered_data/04_filter_final.csv', dtype = {'LEAID':np.object})"
   ]
  },
  {
   "cell_type": "code",
   "execution_count": 3,
   "metadata": {},
   "outputs": [
    {
     "data": {
      "text/plain": [
       "15725"
      ]
     },
     "execution_count": 3,
     "metadata": {},
     "output_type": "execute_result"
    }
   ],
   "source": [
    "len(crdc_1516.index)"
   ]
  },
  {
   "cell_type": "code",
   "execution_count": 4,
   "metadata": {},
   "outputs": [
    {
     "data": {
      "text/plain": [
       "array(['COMBOKEY', 'SCH_NAME', 'GSHI', 'GSLO', 'High_Grade_12', 'JJ',\n",
       "       'LAT1516', 'LEAID', 'LEA_NAME', 'LEA_STATE', 'LEA_STATE_NAME',\n",
       "       'LEVEL', 'LOCALE15', 'LON1516', 'Low_Grade_Above9', 'NMCNTY15',\n",
       "       'SCHID', 'SCH_APENR_AM_F', 'SCH_APENR_AM_M', 'SCH_APENR_AS_F',\n",
       "       'SCH_APENR_AS_M', 'SCH_APENR_BL_F', 'SCH_APENR_BL_M',\n",
       "       'SCH_APENR_HI_F', 'SCH_APENR_HI_M', 'SCH_APENR_HP_F',\n",
       "       'SCH_APENR_HP_M', 'SCH_APENR_IDEA_F', 'SCH_APENR_IDEA_M',\n",
       "       'SCH_APENR_IND', 'SCH_APENR_LEP_F', 'SCH_APENR_LEP_M',\n",
       "       'SCH_APENR_TR_F', 'SCH_APENR_TR_M', 'SCH_APENR_WH_F',\n",
       "       'SCH_APENR_WH_M', 'SCH_DUALENR_AM_F', 'SCH_DUALENR_AM_M',\n",
       "       'SCH_DUALENR_AS_F', 'SCH_DUALENR_AS_M', 'SCH_DUALENR_BL_F',\n",
       "       'SCH_DUALENR_BL_M', 'SCH_DUALENR_HI_F', 'SCH_DUALENR_HI_M',\n",
       "       'SCH_DUALENR_HP_F', 'SCH_DUALENR_HP_M', 'SCH_DUALENR_IDEA_F',\n",
       "       'SCH_DUALENR_IDEA_M', 'SCH_DUALENR_LEP_F', 'SCH_DUALENR_LEP_M',\n",
       "       'SCH_DUALENR_TR_F', 'SCH_DUALENR_TR_M', 'SCH_DUALENR_WH_F',\n",
       "       'SCH_DUALENR_WH_M', 'SCH_DUAL_IND', 'SCH_ENR_AM_F', 'SCH_ENR_AM_M',\n",
       "       'SCH_ENR_AS_F', 'SCH_ENR_AS_M', 'SCH_ENR_BL_F', 'SCH_ENR_BL_M',\n",
       "       'SCH_ENR_HI_F', 'SCH_ENR_HI_M', 'SCH_ENR_HP_F', 'SCH_ENR_HP_M',\n",
       "       'SCH_ENR_IDEA_F', 'SCH_ENR_IDEA_M', 'SCH_ENR_LEP_F',\n",
       "       'SCH_ENR_LEP_M', 'SCH_ENR_TR_F', 'SCH_ENR_TR_M', 'SCH_ENR_WH_F',\n",
       "       'SCH_ENR_WH_M', 'SCH_GRADE_G01', 'SCH_GRADE_G02', 'SCH_GRADE_G03',\n",
       "       'SCH_GRADE_G04', 'SCH_GRADE_G05', 'SCH_GRADE_G06', 'SCH_GRADE_G07',\n",
       "       'SCH_GRADE_G08', 'SCH_GRADE_G09', 'SCH_GRADE_G10', 'SCH_GRADE_G11',\n",
       "       'SCH_GRADE_G12', 'SCH_GRADE_KG', 'SCH_GRADE_PS', 'SCH_GRADE_UG',\n",
       "       'SCH_IBENR_AM_F', 'SCH_IBENR_AM_M', 'SCH_IBENR_AS_F',\n",
       "       'SCH_IBENR_AS_M', 'SCH_IBENR_BL_F', 'SCH_IBENR_BL_M',\n",
       "       'SCH_IBENR_HI_F', 'SCH_IBENR_HI_M', 'SCH_IBENR_HP_F',\n",
       "       'SCH_IBENR_HP_M', 'SCH_IBENR_IDEA_F', 'SCH_IBENR_IDEA_M',\n",
       "       'SCH_IBENR_IND', 'SCH_IBENR_LEP_F', 'SCH_IBENR_LEP_M',\n",
       "       'SCH_IBENR_TR_F', 'SCH_IBENR_TR_M', 'SCH_IBENR_WH_F',\n",
       "       'SCH_IBENR_WH_M', 'SCH_STATUS_ALT', 'SCH_STATUS_CHARTER',\n",
       "       'SCH_STATUS_MAGNET', 'SCH_STATUS_SPED', 'SCH_TYPE',\n",
       "       'SCH_TYPE_TEXT', 'SCH_UGDETAIL_HS', 'STABR', 'TITLEI',\n",
       "       'TOT_APENR_F', 'TOT_APENR_M', 'TOT_DUALENR_F', 'TOT_DUALENR_M',\n",
       "       'TOT_ENR_F', 'TOT_ENR_M', 'TOT_IBENR_F', 'TOT_IBENR_M', 'VIRTUAL',\n",
       "       'total_enrollment'], dtype=object)"
      ]
     },
     "execution_count": 4,
     "metadata": {},
     "output_type": "execute_result"
    }
   ],
   "source": [
    "crdc_1516.columns.values"
   ]
  },
  {
   "cell_type": "markdown",
   "metadata": {},
   "source": [
    "# <font color = green> Clean Missing Values / Add Enrollment columns </font>\n",
    "Cleaning Specificially those for int-columns -- these are recorded as negative numbers that interfere with the enrollment calculations.<br>\n",
    "\n",
    "**This section sets up most of the calculations needed for the analyses in the report.**"
   ]
  },
  {
   "cell_type": "code",
   "execution_count": 5,
   "metadata": {},
   "outputs": [],
   "source": [
    "crdc_1516_cleaned = crdc_1516.copy()"
   ]
  },
  {
   "cell_type": "code",
   "execution_count": 6,
   "metadata": {},
   "outputs": [],
   "source": [
    "def missing_value_mapper(value):\n",
    "    \"\"\"Converts any negative number into 0, as these negative numbers represent missing/null values\"\"\"\n",
    "    if isinstance(value, int):\n",
    "        if value < 0:\n",
    "            return 0\n",
    "    return value\n",
    "\n",
    "crdc_1516_cleaned = crdc_1516_cleaned.applymap(missing_value_mapper)"
   ]
  },
  {
   "cell_type": "markdown",
   "metadata": {},
   "source": [
    "<font color = blue>** -- Totals Columns -- **</font>"
   ]
  },
  {
   "cell_type": "markdown",
   "metadata": {},
   "source": [
    "** Total enrollments **"
   ]
  },
  {
   "cell_type": "code",
   "execution_count": 7,
   "metadata": {},
   "outputs": [],
   "source": [
    "crdc_1516_cleaned['total_enrollment'] = crdc_1516_cleaned['TOT_ENR_M'] + crdc_1516_cleaned['TOT_ENR_F']"
   ]
  },
  {
   "cell_type": "markdown",
   "metadata": {},
   "source": [
    "** Total white enrollments **"
   ]
  },
  {
   "cell_type": "code",
   "execution_count": 8,
   "metadata": {},
   "outputs": [],
   "source": [
    "crdc_1516_cleaned['total_white_enrollment'] = crdc_1516_cleaned['SCH_ENR_WH_M'] + crdc_1516_cleaned['SCH_ENR_WH_F']"
   ]
  },
  {
   "cell_type": "markdown",
   "metadata": {},
   "source": [
    "** Total non-white enrollments **"
   ]
  },
  {
   "cell_type": "code",
   "execution_count": 9,
   "metadata": {},
   "outputs": [],
   "source": [
    "crdc_1516_cleaned['total_nonwhite_enrollment'] = crdc_1516_cleaned['total_enrollment'] - crdc_1516_cleaned['total_white_enrollment']"
   ]
  },
  {
   "cell_type": "markdown",
   "metadata": {},
   "source": [
    "**Total Racial Breakdowns**"
   ]
  },
  {
   "cell_type": "code",
   "execution_count": 10,
   "metadata": {},
   "outputs": [],
   "source": [
    "crdc_1516_cleaned['total_hi_enrollment'] = crdc_1516_cleaned['SCH_ENR_HI_M'] + crdc_1516_cleaned['SCH_ENR_HI_F']\n",
    "crdc_1516_cleaned['total_am_enrollment'] = crdc_1516_cleaned['SCH_ENR_AM_M'] + crdc_1516_cleaned['SCH_ENR_AM_F']\n",
    "crdc_1516_cleaned['total_as_enrollment'] = crdc_1516_cleaned['SCH_ENR_AS_M'] + crdc_1516_cleaned['SCH_ENR_AS_F']\n",
    "crdc_1516_cleaned['total_bl_enrollment'] = crdc_1516_cleaned['SCH_ENR_BL_M'] + crdc_1516_cleaned['SCH_ENR_BL_F']\n",
    "crdc_1516_cleaned['total_hp_enrollment'] = crdc_1516_cleaned['SCH_ENR_HP_M'] + crdc_1516_cleaned['SCH_ENR_HP_F']\n",
    "crdc_1516_cleaned['total_tr_enrollment'] = crdc_1516_cleaned['SCH_ENR_TR_M'] + crdc_1516_cleaned['SCH_ENR_TR_F']"
   ]
  },
  {
   "cell_type": "markdown",
   "metadata": {},
   "source": [
    "** Total LEP enrollment **"
   ]
  },
  {
   "cell_type": "code",
   "execution_count": 11,
   "metadata": {},
   "outputs": [],
   "source": [
    "crdc_1516_cleaned['total_lep_enrollment'] = crdc_1516_cleaned['SCH_ENR_LEP_M'] + crdc_1516_cleaned['SCH_ENR_LEP_F']"
   ]
  },
  {
   "cell_type": "markdown",
   "metadata": {},
   "source": [
    "** Total IDEA enrollment **"
   ]
  },
  {
   "cell_type": "code",
   "execution_count": 12,
   "metadata": {},
   "outputs": [],
   "source": [
    "crdc_1516_cleaned['total_idea_enrollment'] = crdc_1516_cleaned['SCH_ENR_IDEA_M'] + crdc_1516_cleaned['SCH_ENR_IDEA_F']"
   ]
  },
  {
   "cell_type": "markdown",
   "metadata": {},
   "source": [
    "<font color = blue>** -- DE Columns -- **</font>"
   ]
  },
  {
   "cell_type": "markdown",
   "metadata": {},
   "source": [
    "** Total DE Enrollment **"
   ]
  },
  {
   "cell_type": "code",
   "execution_count": 13,
   "metadata": {},
   "outputs": [],
   "source": [
    "crdc_1516_cleaned['de_total_enrollment'] = crdc_1516_cleaned['TOT_DUALENR_M'] + crdc_1516_cleaned['TOT_DUALENR_F']"
   ]
  },
  {
   "cell_type": "markdown",
   "metadata": {},
   "source": [
    "** Total DE white enrollment **"
   ]
  },
  {
   "cell_type": "code",
   "execution_count": 14,
   "metadata": {},
   "outputs": [],
   "source": [
    "crdc_1516_cleaned['de_white_enrollment'] = crdc_1516_cleaned['SCH_DUALENR_WH_F'] +  crdc_1516_cleaned['SCH_DUALENR_WH_M']"
   ]
  },
  {
   "cell_type": "markdown",
   "metadata": {},
   "source": [
    "** Total DE non-white enrollment **"
   ]
  },
  {
   "cell_type": "code",
   "execution_count": 15,
   "metadata": {},
   "outputs": [],
   "source": [
    "crdc_1516_cleaned['de_nonwhite_enrollment'] = crdc_1516_cleaned['de_total_enrollment'] - crdc_1516_cleaned['de_white_enrollment']"
   ]
  },
  {
   "cell_type": "markdown",
   "metadata": {},
   "source": [
    "** DE Racial Breakdowns **"
   ]
  },
  {
   "cell_type": "code",
   "execution_count": 16,
   "metadata": {},
   "outputs": [],
   "source": [
    "crdc_1516_cleaned['de_hi_enrollment'] = crdc_1516_cleaned['SCH_DUALENR_HI_M'] + crdc_1516_cleaned['SCH_DUALENR_HI_F']\n",
    "crdc_1516_cleaned['de_am_enrollment'] = crdc_1516_cleaned['SCH_DUALENR_AM_M'] + crdc_1516_cleaned['SCH_DUALENR_AM_F']\n",
    "crdc_1516_cleaned['de_as_enrollment'] = crdc_1516_cleaned['SCH_DUALENR_AS_M'] + crdc_1516_cleaned['SCH_DUALENR_AS_F']\n",
    "crdc_1516_cleaned['de_bl_enrollment'] = crdc_1516_cleaned['SCH_DUALENR_BL_M'] + crdc_1516_cleaned['SCH_DUALENR_BL_F']\n",
    "crdc_1516_cleaned['de_hp_enrollment'] = crdc_1516_cleaned['SCH_DUALENR_HP_M'] + crdc_1516_cleaned['SCH_DUALENR_HP_F']\n",
    "crdc_1516_cleaned['de_tr_enrollment'] = crdc_1516_cleaned['SCH_DUALENR_TR_M'] + crdc_1516_cleaned['SCH_DUALENR_TR_F']"
   ]
  },
  {
   "cell_type": "markdown",
   "metadata": {},
   "source": [
    "** Total DE LEA-enrollment **"
   ]
  },
  {
   "cell_type": "code",
   "execution_count": 17,
   "metadata": {},
   "outputs": [],
   "source": [
    "crdc_1516_cleaned['de_lep_enrollment'] = crdc_1516_cleaned['SCH_DUALENR_LEP_M'] + crdc_1516_cleaned['SCH_DUALENR_LEP_F']"
   ]
  },
  {
   "cell_type": "markdown",
   "metadata": {},
   "source": [
    "** Total DE IDEA-enrollment **"
   ]
  },
  {
   "cell_type": "code",
   "execution_count": 18,
   "metadata": {},
   "outputs": [],
   "source": [
    "crdc_1516_cleaned['de_idea_enrollment'] = crdc_1516_cleaned['SCH_DUALENR_IDEA_M'] + crdc_1516_cleaned['SCH_DUALENR_IDEA_F']"
   ]
  },
  {
   "cell_type": "markdown",
   "metadata": {},
   "source": [
    "<font color = blue>** -- AP Columns -- **</font>"
   ]
  },
  {
   "cell_type": "markdown",
   "metadata": {},
   "source": [
    "** Total AP enrollment **"
   ]
  },
  {
   "cell_type": "code",
   "execution_count": 19,
   "metadata": {},
   "outputs": [],
   "source": [
    "crdc_1516_cleaned['ap_total_enrollment'] = crdc_1516_cleaned['TOT_APENR_M'] + crdc_1516_cleaned['TOT_APENR_F']"
   ]
  },
  {
   "cell_type": "markdown",
   "metadata": {},
   "source": [
    "**Total AP white enrollment**"
   ]
  },
  {
   "cell_type": "code",
   "execution_count": 20,
   "metadata": {},
   "outputs": [],
   "source": [
    "crdc_1516_cleaned['ap_white_enrollment'] = crdc_1516_cleaned['SCH_APENR_WH_F'] +  crdc_1516_cleaned['SCH_APENR_WH_M']"
   ]
  },
  {
   "cell_type": "markdown",
   "metadata": {},
   "source": [
    "**Total AP non-white enrollment**"
   ]
  },
  {
   "cell_type": "code",
   "execution_count": 21,
   "metadata": {},
   "outputs": [],
   "source": [
    "crdc_1516_cleaned['ap_nonwhite_enrollment'] = crdc_1516_cleaned['ap_total_enrollment'] - crdc_1516_cleaned['ap_white_enrollment']"
   ]
  },
  {
   "cell_type": "markdown",
   "metadata": {},
   "source": [
    "**AP Racial Breakdowns**"
   ]
  },
  {
   "cell_type": "code",
   "execution_count": 22,
   "metadata": {},
   "outputs": [],
   "source": [
    "crdc_1516_cleaned['ap_hi_enrollment'] = crdc_1516_cleaned['SCH_APENR_HI_M'] + crdc_1516_cleaned['SCH_APENR_HI_F']\n",
    "crdc_1516_cleaned['ap_am_enrollment'] = crdc_1516_cleaned['SCH_APENR_AM_M'] + crdc_1516_cleaned['SCH_APENR_AM_F']\n",
    "crdc_1516_cleaned['ap_as_enrollment'] = crdc_1516_cleaned['SCH_APENR_AS_M'] + crdc_1516_cleaned['SCH_APENR_AS_F']\n",
    "crdc_1516_cleaned['ap_bl_enrollment'] = crdc_1516_cleaned['SCH_APENR_BL_M'] + crdc_1516_cleaned['SCH_APENR_BL_F']\n",
    "crdc_1516_cleaned['ap_hp_enrollment'] = crdc_1516_cleaned['SCH_APENR_HP_M'] + crdc_1516_cleaned['SCH_APENR_HP_F']\n",
    "crdc_1516_cleaned['ap_tr_enrollment'] = crdc_1516_cleaned['SCH_APENR_TR_M'] + crdc_1516_cleaned['SCH_APENR_TR_F']"
   ]
  },
  {
   "cell_type": "markdown",
   "metadata": {},
   "source": [
    "**Total AP LEA-enrollment**"
   ]
  },
  {
   "cell_type": "code",
   "execution_count": 23,
   "metadata": {},
   "outputs": [],
   "source": [
    "crdc_1516_cleaned['ap_lep_enrollment'] = crdc_1516_cleaned['SCH_APENR_LEP_M'] + crdc_1516_cleaned['SCH_APENR_LEP_F']"
   ]
  },
  {
   "cell_type": "markdown",
   "metadata": {},
   "source": [
    "**Total AP IDEA-enrollment**"
   ]
  },
  {
   "cell_type": "code",
   "execution_count": 24,
   "metadata": {},
   "outputs": [],
   "source": [
    "crdc_1516_cleaned['ap_idea_enrollment'] = crdc_1516_cleaned['SCH_APENR_IDEA_M'] + crdc_1516_cleaned['SCH_APENR_IDEA_F']"
   ]
  },
  {
   "cell_type": "markdown",
   "metadata": {},
   "source": [
    "# <font color = green> Manipulate DataFrame </font>"
   ]
  },
  {
   "cell_type": "markdown",
   "metadata": {},
   "source": [
    "** Add Size Column **"
   ]
  },
  {
   "cell_type": "code",
   "execution_count": 25,
   "metadata": {},
   "outputs": [],
   "source": [
    "def school_sizer(enroll):\n",
    "    if enroll < 100:\n",
    "        return 1\n",
    "    elif 100 <= enroll < 500:\n",
    "        return 2\n",
    "    elif 500 <= enroll < 1200:\n",
    "        return 3\n",
    "    return 4"
   ]
  },
  {
   "cell_type": "code",
   "execution_count": 26,
   "metadata": {},
   "outputs": [],
   "source": [
    "crdc_1516_cleaned['size_group'] = crdc_1516_cleaned['total_enrollment'].apply(lambda x: school_sizer(x))"
   ]
  },
  {
   "cell_type": "markdown",
   "metadata": {},
   "source": [
    "** Add Region Column **"
   ]
  },
  {
   "cell_type": "code",
   "execution_count": 27,
   "metadata": {},
   "outputs": [],
   "source": [
    "\"\"\"\n",
    "1:  Middle States Commission on Higher Education - New York, New Jersey, Pennsylvania, Delaware, Maryland, the District of Columbia\n",
    "\n",
    "2:  New England Association of Schools and Colleges - Connecticut, Maine, Massachusetts, New Hampshire, Rhode Island, and Vermont\n",
    "\n",
    "3:  Higher Learning Commission - Arkansas, Arizona, Colorado, Iowa, Illinois, Indiana, Kansas, Michigan, Minnesota, Missouri, \n",
    "    North Dakota, Nebraska, New Mexico, Ohio, Oklahoma, South Dakota, Wisconsin, West Virginia, and Wyoming\n",
    "\n",
    "4:  Northwest Commission on Colleges and Universities - Alaska, Idaho, Montana, Nevada, Oregon, Utah, and Washington\n",
    "\n",
    "5:  Southern Association of Colleges and Schools - Alabama, Florida, Georgia, Kentucky, Louisiana, Mississippi, \n",
    "    North Carolina, South Carolina, Tennessee, Texas and Virginia\n",
    "\n",
    "6:  Western Association of Schools and Colleges - California, Hawaii\n",
    "\"\"\"\n",
    "\n",
    "middle_states = \"NY,NJ,PA,DE,MD,DC\".split(',')\n",
    "new_england = \"CT,ME,MA,NH,RI,VT\".split(',')\n",
    "higher_learning_commission = \"AR,AZ,CO,IA,IL,IN,KS,MI,MN,MO,ND,NE,NM,OH,OK,SD,WI,WV,WY\".split(',')\n",
    "northwest_commission = \"AK,ID,MT,NV,OR,UT,WA\".split(',')\n",
    "southern_association = \"AL,FL,GA,KY,LA,MS,NC,SC,TN,TX,VA\".split(',')\n",
    "western_association = \"CA,HI\".split(',')"
   ]
  },
  {
   "cell_type": "code",
   "execution_count": 28,
   "metadata": {},
   "outputs": [],
   "source": [
    "def region_mapper(state):\n",
    "    if state in middle_states:\n",
    "        return \"MSCHE\"\n",
    "    elif state in new_england:\n",
    "        return \"NEASC\"\n",
    "    elif state in higher_learning_commission:\n",
    "        return \"HLC\"\n",
    "    elif state in northwest_commission:\n",
    "        return \"NWCCU\"\n",
    "    elif state in southern_association:\n",
    "        return \"SACS\"\n",
    "    elif state in western_association:\n",
    "        return \"WASC\"\n",
    "    else:\n",
    "        return \"Messed Up\"\n",
    "    \n",
    "crdc_1516_cleaned['region_accred'] = crdc_1516_cleaned['LEA_STATE'].apply(lambda x: region_mapper(x))"
   ]
  },
  {
   "cell_type": "markdown",
   "metadata": {},
   "source": [
    "** Add Ethnicity Percentage **"
   ]
  },
  {
   "cell_type": "code",
   "execution_count": 29,
   "metadata": {},
   "outputs": [],
   "source": [
    "crdc_1516_cleaned['pct_eth'] = crdc_1516_cleaned['total_nonwhite_enrollment'] / crdc_1516_cleaned['total_enrollment']"
   ]
  },
  {
   "cell_type": "code",
   "execution_count": 30,
   "metadata": {
    "scrolled": true
   },
   "outputs": [
    {
     "data": {
      "text/plain": [
       "Text(0.5,0,'Ethnicity Percentage')"
      ]
     },
     "execution_count": 30,
     "metadata": {},
     "output_type": "execute_result"
    },
    {
     "data": {
      "image/png": "[encoded data removed]",
      "text/plain": [
       "<Figure size 432x288 with 1 Axes>"
      ]
     },
     "metadata": {},
     "output_type": "display_data"
    }
   ],
   "source": [
    "crdc_1516_cleaned.pct_eth.plot.hist(bins=100, xlim = [0,1], edgecolor = 'k')\n",
    "plt.title('Distribution of Schools by Ethnicity Percentages')\n",
    "plt.xlabel('Ethnicity Percentage')\n",
    "# plt.savefig(fname = './Visualizations/By_ethnicity_dist_200.png', dpi = 200)"
   ]
  },
  {
   "cell_type": "markdown",
   "metadata": {},
   "source": [
    "** Add Ethnicity Percentage Quintile **"
   ]
  },
  {
   "cell_type": "code",
   "execution_count": 31,
   "metadata": {},
   "outputs": [],
   "source": [
    "def eth_grouper(pct):\n",
    "    if pct <= .20:\n",
    "        return 1\n",
    "    elif .20 < pct <= .4:\n",
    "        return 2\n",
    "    elif .4 < pct <= 0.6:\n",
    "        return 3\n",
    "    elif .6 < pct <= .8:\n",
    "        return 4\n",
    "    return 5\n",
    "    \n",
    "crdc_1516_cleaned['eth_quintile'] = crdc_1516_cleaned['pct_eth'].apply(lambda pct: eth_grouper(pct))"
   ]
  },
  {
   "cell_type": "markdown",
   "metadata": {},
   "source": [
    "# <font color = green> Filter non-Yes Schools and Examine Characteristics </font>"
   ]
  },
  {
   "cell_type": "code",
   "execution_count": 32,
   "metadata": {},
   "outputs": [],
   "source": [
    "def school_grade_range(df):\n",
    "    \"\"\"Calculates the number of schools in a given DataFrame (df) of a particular distribution of grades:\n",
    "        Example:  If a school (in df) offers grades 9,10,11,12 exclusively, they are placed in the '9-12' \n",
    "                    category. \"\"\"\n",
    "    df_grade_range = []\n",
    "    for index, row in df.iterrows():\n",
    "        grade_range = []\n",
    "\n",
    "        if row.SCH_GRADE_G12 == 'Yes':\n",
    "            grade_range.append(12)\n",
    "        if row.SCH_GRADE_G11 == 'Yes':\n",
    "            grade_range.append(11)\n",
    "        if row.SCH_GRADE_G10 == 'Yes':\n",
    "            grade_range.append(10)\n",
    "        if row.SCH_GRADE_G09 == 'Yes':\n",
    "            grade_range.append(9)\n",
    "        if row.SCH_GRADE_G08 == 'Yes':\n",
    "            grade_range.append(8)\n",
    "        if row.SCH_GRADE_G07 == 'Yes':\n",
    "            grade_range.append(7)\n",
    "        if row.SCH_GRADE_G06 == 'Yes':\n",
    "            grade_range.append(6)\n",
    "        if row.SCH_GRADE_G05 == 'Yes':\n",
    "            grade_range.append(5)\n",
    "        if row.SCH_GRADE_G04 == 'Yes':\n",
    "            grade_range.append(4)\n",
    "        if row.SCH_GRADE_G03 == 'Yes':\n",
    "            grade_range.append(3)\n",
    "        if row.SCH_GRADE_G02 == 'Yes':\n",
    "            grade_range.append(2)\n",
    "        if row.SCH_GRADE_G01 == 'Yes':\n",
    "            grade_range.append(1)\n",
    "        if row.SCH_GRADE_KG == 'Yes':\n",
    "            grade_range.append('kg')\n",
    "        if row.SCH_GRADE_PS == 'Yes':\n",
    "            grade_range.append('pk')\n",
    "        \n",
    "        if grade_range == [12,11,10,9,8,7,6,5,4,3,2,1,'kg','pk']:\n",
    "            df_grade_range.append('pk-12')\n",
    "        elif grade_range == [12,11,10,9,8,7,6,5,4,3,2,1,'kg']:\n",
    "            df_grade_range.append('kg-12')\n",
    "        elif grade_range == [12,11,10,9,8,7,6,5]:\n",
    "            df_grade_range.append('05-12')\n",
    "        elif grade_range == [12,11,10,9,8,7,6]:\n",
    "            df_grade_range.append('06-12')\n",
    "        elif grade_range == [12,11,10,9,8,7]:\n",
    "            df_grade_range.append('07-12')\n",
    "        elif grade_range == [12,11,10,9,8]:\n",
    "            df_grade_range.append('08-12')\n",
    "        elif grade_range == [12,11,10,9]:\n",
    "            df_grade_range.append('09-12')\n",
    "        elif grade_range == [11,10,9]:\n",
    "            df_grade_range.append('09-11')\n",
    "        elif grade_range == [10,9]:\n",
    "            df_grade_range.append('09-10')\n",
    "        elif grade_range == [12,11,10]:\n",
    "            df_grade_range.append('10-12')\n",
    "        elif grade_range == [12,11]:\n",
    "            df_grade_range.append('11-12')\n",
    "        elif grade_range == [9]:\n",
    "            df_grade_range.append('9-only')\n",
    "        elif grade_range == [10]:\n",
    "            df_grade_range.append('10-only')\n",
    "        elif grade_range == [11]:\n",
    "            df_grade_range.append('11-only')\n",
    "        elif grade_range == [12]:\n",
    "            df_grade_range.append('12-only')\n",
    "        else:\n",
    "            df_grade_range.append('other')\n",
    "    return pd.DataFrame(df_grade_range, columns=['grade_range'])"
   ]
  },
  {
   "cell_type": "code",
   "execution_count": 33,
   "metadata": {},
   "outputs": [],
   "source": [
    "def have_gr9_or_younger(df):\n",
    "    \"\"\"Calculates the number of schools in a given DataFrame (df) offer grades of 8th or younger (i.e. non-high school grades)\"\"\"\n",
    "    count = 0\n",
    "    for index, row in df.iterrows():\n",
    "        if row.SCH_GRADE_G08 == 'Yes':\n",
    "            count += 1\n",
    "        elif row.SCH_GRADE_G07 == 'Yes':\n",
    "            count += 1\n",
    "        elif row.SCH_GRADE_G06 == 'Yes':\n",
    "            count += 1\n",
    "        elif row.SCH_GRADE_G05 == 'Yes':\n",
    "            count += 1\n",
    "        elif row.SCH_GRADE_G04 == 'Yes':\n",
    "            count += 1\n",
    "        elif row.SCH_GRADE_G03 == 'Yes':\n",
    "            count += 1\n",
    "        elif row.SCH_GRADE_G02 == 'Yes':\n",
    "            count += 1\n",
    "        elif row.SCH_GRADE_G01 == 'Yes':\n",
    "            count += 1\n",
    "        elif row.SCH_GRADE_KG == 'Yes':\n",
    "            count += 1\n",
    "        elif row.SCH_GRADE_PS == 'Yes':\n",
    "            count += 1\n",
    "    return round(count / len(df),3)"
   ]
  },
  {
   "cell_type": "code",
   "execution_count": 34,
   "metadata": {},
   "outputs": [],
   "source": [
    "def hs_enrollment_averager(df):\n",
    "    hs_enrollment_list = []\n",
    "    for index, row in df.iterrows():\n",
    "        all_count = 0\n",
    "        hs_count = 0\n",
    "        if row.SCH_GRADE_G12 == 'Yes':\n",
    "            hs_count += 1\n",
    "            all_count += 1\n",
    "        if row.SCH_GRADE_G11 == 'Yes':\n",
    "            hs_count += 1\n",
    "            all_count += 1\n",
    "        if row.SCH_GRADE_G10 == 'Yes':\n",
    "            hs_count += 1\n",
    "            all_count += 1\n",
    "        if row.SCH_GRADE_G09 == 'Yes':\n",
    "            hs_count += 1\n",
    "            all_count += 1\n",
    "            \n",
    "        if row.SCH_GRADE_G08 == 'Yes':\n",
    "            all_count += 1\n",
    "        if row.SCH_GRADE_G07 == 'Yes':\n",
    "            all_count += 1\n",
    "        if row.SCH_GRADE_G06 == 'Yes':\n",
    "            all_count += 1\n",
    "        if row.SCH_GRADE_G05 == 'Yes':\n",
    "            all_count += 1\n",
    "        if row.SCH_GRADE_G04 == 'Yes':\n",
    "            all_count += 1\n",
    "        if row.SCH_GRADE_G03 == 'Yes':\n",
    "            all_count += 1\n",
    "        if row.SCH_GRADE_G02 == 'Yes':\n",
    "            all_count += 1\n",
    "        if row.SCH_GRADE_G01 == 'Yes':\n",
    "            all_count += 1\n",
    "        if row.SCH_GRADE_KG == 'Yes':\n",
    "            all_count += 1\n",
    "        if row.SCH_GRADE_PS == 'Yes':\n",
    "            all_count += 1\n",
    "        \n",
    "        if all_count > 0:\n",
    "            hs_ratio = hs_count / all_count\n",
    "            hs_enrollment = int(round(row['total_enrollment'] * hs_ratio, 0))\n",
    "        else:\n",
    "            hs_enrollment = row['total_enrollment']\n",
    "        \n",
    "        hs_enrollment_list.append(hs_enrollment)\n",
    "    return hs_enrollment_list"
   ]
  },
  {
   "cell_type": "markdown",
   "metadata": {},
   "source": [
    "**DE**"
   ]
  },
  {
   "cell_type": "code",
   "execution_count": 35,
   "metadata": {},
   "outputs": [],
   "source": [
    "crdc_1516_deYes = crdc_1516_cleaned[crdc_1516_cleaned.SCH_DUAL_IND == 'Yes']"
   ]
  },
  {
   "cell_type": "code",
   "execution_count": 36,
   "metadata": {},
   "outputs": [
    {
     "data": {
      "text/plain": [
       "11563"
      ]
     },
     "execution_count": 36,
     "metadata": {},
     "output_type": "execute_result"
    }
   ],
   "source": [
    "\"\"\"Number of schools which responded 'Yes' to the DE_Flag \"\"\"\n",
    "len(crdc_1516_deYes)"
   ]
  },
  {
   "cell_type": "code",
   "execution_count": 37,
   "metadata": {},
   "outputs": [],
   "source": [
    "\"\"\"Distribution of Grade Ranges for the De-Yes set (Part 1)\"\"\"\n",
    "deYes_grade_range_list = school_grade_range(crdc_1516_deYes).join(crdc_1516_deYes[['total_enrollment', 'de_total_enrollment']].reset_index(drop = True), how = 'outer')"
   ]
  },
  {
   "cell_type": "code",
   "execution_count": 38,
   "metadata": {},
   "outputs": [
    {
     "data": {
      "text/html": [
       "<div>\n",
       "<style scoped>\n",
       "    .dataframe tbody tr th:only-of-type {\n",
       "        vertical-align: middle;\n",
       "    }\n",
       "\n",
       "    .dataframe tbody tr th {\n",
       "        vertical-align: top;\n",
       "    }\n",
       "\n",
       "    .dataframe thead th {\n",
       "        text-align: right;\n",
       "    }\n",
       "</style>\n",
       "<table border=\"1\" class=\"dataframe\">\n",
       "  <thead>\n",
       "    <tr style=\"text-align: right;\">\n",
       "      <th></th>\n",
       "      <th># schools</th>\n",
       "      <th>pct_of_schools</th>\n",
       "      <th>total_enrollment</th>\n",
       "      <th>pct_of_total_enrollment</th>\n",
       "      <th>de_total_enrollment</th>\n",
       "      <th>pct_of_total_de_enrollment</th>\n",
       "    </tr>\n",
       "    <tr>\n",
       "      <th>index</th>\n",
       "      <th></th>\n",
       "      <th></th>\n",
       "      <th></th>\n",
       "      <th></th>\n",
       "      <th></th>\n",
       "      <th></th>\n",
       "    </tr>\n",
       "  </thead>\n",
       "  <tbody>\n",
       "    <tr>\n",
       "      <th>05-12</th>\n",
       "      <td>1</td>\n",
       "      <td>0.000</td>\n",
       "      <td>79</td>\n",
       "      <td>0.000</td>\n",
       "      <td>7</td>\n",
       "      <td>0.000</td>\n",
       "    </tr>\n",
       "    <tr>\n",
       "      <th>06-12</th>\n",
       "      <td>12</td>\n",
       "      <td>0.001</td>\n",
       "      <td>3701</td>\n",
       "      <td>0.000</td>\n",
       "      <td>207</td>\n",
       "      <td>0.000</td>\n",
       "    </tr>\n",
       "    <tr>\n",
       "      <th>07-12</th>\n",
       "      <td>1615</td>\n",
       "      <td>0.140</td>\n",
       "      <td>551841</td>\n",
       "      <td>0.053</td>\n",
       "      <td>57449</td>\n",
       "      <td>0.053</td>\n",
       "    </tr>\n",
       "    <tr>\n",
       "      <th>08-12</th>\n",
       "      <td>193</td>\n",
       "      <td>0.017</td>\n",
       "      <td>155456</td>\n",
       "      <td>0.015</td>\n",
       "      <td>15950</td>\n",
       "      <td>0.015</td>\n",
       "    </tr>\n",
       "    <tr>\n",
       "      <th>09-10</th>\n",
       "      <td>5</td>\n",
       "      <td>0.000</td>\n",
       "      <td>1191</td>\n",
       "      <td>0.000</td>\n",
       "      <td>444</td>\n",
       "      <td>0.000</td>\n",
       "    </tr>\n",
       "    <tr>\n",
       "      <th>09-11</th>\n",
       "      <td>6</td>\n",
       "      <td>0.001</td>\n",
       "      <td>2404</td>\n",
       "      <td>0.000</td>\n",
       "      <td>284</td>\n",
       "      <td>0.000</td>\n",
       "    </tr>\n",
       "    <tr>\n",
       "      <th>09-12</th>\n",
       "      <td>9322</td>\n",
       "      <td>0.806</td>\n",
       "      <td>9155511</td>\n",
       "      <td>0.887</td>\n",
       "      <td>930109</td>\n",
       "      <td>0.865</td>\n",
       "    </tr>\n",
       "    <tr>\n",
       "      <th>10-12</th>\n",
       "      <td>207</td>\n",
       "      <td>0.018</td>\n",
       "      <td>249864</td>\n",
       "      <td>0.024</td>\n",
       "      <td>47764</td>\n",
       "      <td>0.044</td>\n",
       "    </tr>\n",
       "    <tr>\n",
       "      <th>11-12</th>\n",
       "      <td>47</td>\n",
       "      <td>0.004</td>\n",
       "      <td>17828</td>\n",
       "      <td>0.002</td>\n",
       "      <td>6633</td>\n",
       "      <td>0.006</td>\n",
       "    </tr>\n",
       "    <tr>\n",
       "      <th>12-only</th>\n",
       "      <td>2</td>\n",
       "      <td>0.000</td>\n",
       "      <td>438</td>\n",
       "      <td>0.000</td>\n",
       "      <td>98</td>\n",
       "      <td>0.000</td>\n",
       "    </tr>\n",
       "    <tr>\n",
       "      <th>9-only</th>\n",
       "      <td>1</td>\n",
       "      <td>0.000</td>\n",
       "      <td>120</td>\n",
       "      <td>0.000</td>\n",
       "      <td>0</td>\n",
       "      <td>0.000</td>\n",
       "    </tr>\n",
       "    <tr>\n",
       "      <th>kg-12</th>\n",
       "      <td>11</td>\n",
       "      <td>0.001</td>\n",
       "      <td>2129</td>\n",
       "      <td>0.000</td>\n",
       "      <td>211</td>\n",
       "      <td>0.000</td>\n",
       "    </tr>\n",
       "    <tr>\n",
       "      <th>other</th>\n",
       "      <td>123</td>\n",
       "      <td>0.011</td>\n",
       "      <td>179383</td>\n",
       "      <td>0.017</td>\n",
       "      <td>16286</td>\n",
       "      <td>0.015</td>\n",
       "    </tr>\n",
       "    <tr>\n",
       "      <th>pk-12</th>\n",
       "      <td>18</td>\n",
       "      <td>0.002</td>\n",
       "      <td>3440</td>\n",
       "      <td>0.000</td>\n",
       "      <td>383</td>\n",
       "      <td>0.000</td>\n",
       "    </tr>\n",
       "  </tbody>\n",
       "</table>\n",
       "</div>"
      ],
      "text/plain": [
       "         # schools  pct_of_schools  total_enrollment  pct_of_total_enrollment  \\\n",
       "index                                                                           \n",
       "05-12            1           0.000                79                    0.000   \n",
       "06-12           12           0.001              3701                    0.000   \n",
       "07-12         1615           0.140            551841                    0.053   \n",
       "08-12          193           0.017            155456                    0.015   \n",
       "09-10            5           0.000              1191                    0.000   \n",
       "09-11            6           0.001              2404                    0.000   \n",
       "09-12         9322           0.806           9155511                    0.887   \n",
       "10-12          207           0.018            249864                    0.024   \n",
       "11-12           47           0.004             17828                    0.002   \n",
       "12-only          2           0.000               438                    0.000   \n",
       "9-only           1           0.000               120                    0.000   \n",
       "kg-12           11           0.001              2129                    0.000   \n",
       "other          123           0.011            179383                    0.017   \n",
       "pk-12           18           0.002              3440                    0.000   \n",
       "\n",
       "         de_total_enrollment  pct_of_total_de_enrollment  \n",
       "index                                                     \n",
       "05-12                      7                       0.000  \n",
       "06-12                    207                       0.000  \n",
       "07-12                  57449                       0.053  \n",
       "08-12                  15950                       0.015  \n",
       "09-10                    444                       0.000  \n",
       "09-11                    284                       0.000  \n",
       "09-12                 930109                       0.865  \n",
       "10-12                  47764                       0.044  \n",
       "11-12                   6633                       0.006  \n",
       "12-only                   98                       0.000  \n",
       "9-only                     0                       0.000  \n",
       "kg-12                    211                       0.000  \n",
       "other                  16286                       0.015  \n",
       "pk-12                    383                       0.000  "
      ]
     },
     "execution_count": 38,
     "metadata": {},
     "output_type": "execute_result"
    }
   ],
   "source": [
    "\"\"\"Distribution of Grade Ranges for the De-Yes set (Part 2)\"\"\"\n",
    "deYes_grade_range_dist = deYes_grade_range_list['grade_range'].value_counts().reset_index().sort_values('index').set_index('index')\n",
    "deYes_grade_range_dist['pct_of_schools'] = round(deYes_grade_range_dist['grade_range'] / len(deYes_grade_range_list), 3)\n",
    "\n",
    "deYes_grade_range_enrollments = pd.DataFrame(deYes_grade_range_list.groupby('grade_range')['total_enrollment'].sum())\n",
    "deYes_grade_range_enrollments['pct_of_total_enrollment'] = round(deYes_grade_range_enrollments['total_enrollment'] / crdc_1516_deYes['total_enrollment'].sum(), 3)\n",
    "\n",
    "deYes_grade_range_de_enrollments = pd.DataFrame(deYes_grade_range_list.groupby('grade_range')['de_total_enrollment'].sum())\n",
    "deYes_grade_range_de_enrollments['pct_of_total_de_enrollment'] = round(deYes_grade_range_de_enrollments['de_total_enrollment'] / crdc_1516_deYes['de_total_enrollment'].sum(), 3)\n",
    "\n",
    "deYes_grade_range_dist.join(deYes_grade_range_enrollments).join(deYes_grade_range_de_enrollments).rename({'grade_range': '# schools'}, axis = 1)"
   ]
  },
  {
   "cell_type": "code",
   "execution_count": 39,
   "metadata": {},
   "outputs": [
    {
     "data": {
      "text/plain": [
       "0.17"
      ]
     },
     "execution_count": 39,
     "metadata": {},
     "output_type": "execute_result"
    }
   ],
   "source": [
    "\"\"\"What portion of schools that offer DE have grades of 8th or younger?  This is important when considering\n",
    "    total enrollment of these schools, as only students in grades 9+ will be taking DE or AP Classes\"\"\"\n",
    "have_gr9_or_younger(crdc_1516_deYes)"
   ]
  },
  {
   "cell_type": "code",
   "execution_count": 40,
   "metadata": {},
   "outputs": [
    {
     "data": {
      "text/plain": [
       "1075825"
      ]
     },
     "metadata": {},
     "output_type": "display_data"
    },
    {
     "data": {
      "text/plain": [
       "1075825"
      ]
     },
     "execution_count": 40,
     "metadata": {},
     "output_type": "execute_result"
    }
   ],
   "source": [
    "de_total_enrollment = crdc_1516_deYes['de_total_enrollment'].sum()\n",
    "display(de_total_enrollment)\n",
    "crdc_1516_cleaned['de_total_enrollment'].sum()"
   ]
  },
  {
   "cell_type": "markdown",
   "metadata": {},
   "source": [
    "** AP **"
   ]
  },
  {
   "cell_type": "code",
   "execution_count": 41,
   "metadata": {},
   "outputs": [],
   "source": [
    "crdc_1516_apYes = crdc_1516_cleaned[crdc_1516_cleaned.SCH_APENR_IND == 'Yes']"
   ]
  },
  {
   "cell_type": "code",
   "execution_count": 42,
   "metadata": {},
   "outputs": [
    {
     "data": {
      "text/plain": [
       "11530"
      ]
     },
     "execution_count": 42,
     "metadata": {},
     "output_type": "execute_result"
    }
   ],
   "source": [
    "\"\"\"Number of schools which responded 'Yes' to the AP_Flag \"\"\"\n",
    "len(crdc_1516_apYes)"
   ]
  },
  {
   "cell_type": "code",
   "execution_count": 43,
   "metadata": {},
   "outputs": [],
   "source": [
    "\"\"\"Distribution of Grade Ranges for the Ap-Yes set (Part 1)\"\"\"\n",
    "apYes_grade_range_list = school_grade_range(crdc_1516_apYes).join(crdc_1516_apYes['total_enrollment'].reset_index(drop = True), how = 'outer')"
   ]
  },
  {
   "cell_type": "code",
   "execution_count": 44,
   "metadata": {},
   "outputs": [
    {
     "data": {
      "text/html": [
       "<div>\n",
       "<style scoped>\n",
       "    .dataframe tbody tr th:only-of-type {\n",
       "        vertical-align: middle;\n",
       "    }\n",
       "\n",
       "    .dataframe tbody tr th {\n",
       "        vertical-align: top;\n",
       "    }\n",
       "\n",
       "    .dataframe thead th {\n",
       "        text-align: right;\n",
       "    }\n",
       "</style>\n",
       "<table border=\"1\" class=\"dataframe\">\n",
       "  <thead>\n",
       "    <tr style=\"text-align: right;\">\n",
       "      <th></th>\n",
       "      <th># schools</th>\n",
       "      <th>pct_of_schools</th>\n",
       "      <th>total_enrollment</th>\n",
       "      <th>pct_of_total_enrollment</th>\n",
       "    </tr>\n",
       "    <tr>\n",
       "      <th>index</th>\n",
       "      <th></th>\n",
       "      <th></th>\n",
       "      <th></th>\n",
       "      <th></th>\n",
       "    </tr>\n",
       "  </thead>\n",
       "  <tbody>\n",
       "    <tr>\n",
       "      <th>06-12</th>\n",
       "      <td>10</td>\n",
       "      <td>0.001</td>\n",
       "      <td>6849</td>\n",
       "      <td>0.001</td>\n",
       "    </tr>\n",
       "    <tr>\n",
       "      <th>07-12</th>\n",
       "      <td>949</td>\n",
       "      <td>0.082</td>\n",
       "      <td>490604</td>\n",
       "      <td>0.039</td>\n",
       "    </tr>\n",
       "    <tr>\n",
       "      <th>08-12</th>\n",
       "      <td>197</td>\n",
       "      <td>0.017</td>\n",
       "      <td>188906</td>\n",
       "      <td>0.015</td>\n",
       "    </tr>\n",
       "    <tr>\n",
       "      <th>09-10</th>\n",
       "      <td>5</td>\n",
       "      <td>0.000</td>\n",
       "      <td>1334</td>\n",
       "      <td>0.000</td>\n",
       "    </tr>\n",
       "    <tr>\n",
       "      <th>09-11</th>\n",
       "      <td>18</td>\n",
       "      <td>0.002</td>\n",
       "      <td>6952</td>\n",
       "      <td>0.001</td>\n",
       "    </tr>\n",
       "    <tr>\n",
       "      <th>09-12</th>\n",
       "      <td>9956</td>\n",
       "      <td>0.863</td>\n",
       "      <td>11243659</td>\n",
       "      <td>0.903</td>\n",
       "    </tr>\n",
       "    <tr>\n",
       "      <th>10-12</th>\n",
       "      <td>224</td>\n",
       "      <td>0.019</td>\n",
       "      <td>293327</td>\n",
       "      <td>0.024</td>\n",
       "    </tr>\n",
       "    <tr>\n",
       "      <th>10-only</th>\n",
       "      <td>1</td>\n",
       "      <td>0.000</td>\n",
       "      <td>248</td>\n",
       "      <td>0.000</td>\n",
       "    </tr>\n",
       "    <tr>\n",
       "      <th>11-12</th>\n",
       "      <td>25</td>\n",
       "      <td>0.002</td>\n",
       "      <td>14761</td>\n",
       "      <td>0.001</td>\n",
       "    </tr>\n",
       "    <tr>\n",
       "      <th>12-only</th>\n",
       "      <td>1</td>\n",
       "      <td>0.000</td>\n",
       "      <td>391</td>\n",
       "      <td>0.000</td>\n",
       "    </tr>\n",
       "    <tr>\n",
       "      <th>9-only</th>\n",
       "      <td>2</td>\n",
       "      <td>0.000</td>\n",
       "      <td>670</td>\n",
       "      <td>0.000</td>\n",
       "    </tr>\n",
       "    <tr>\n",
       "      <th>kg-12</th>\n",
       "      <td>4</td>\n",
       "      <td>0.000</td>\n",
       "      <td>980</td>\n",
       "      <td>0.000</td>\n",
       "    </tr>\n",
       "    <tr>\n",
       "      <th>other</th>\n",
       "      <td>131</td>\n",
       "      <td>0.011</td>\n",
       "      <td>199286</td>\n",
       "      <td>0.016</td>\n",
       "    </tr>\n",
       "    <tr>\n",
       "      <th>pk-12</th>\n",
       "      <td>7</td>\n",
       "      <td>0.001</td>\n",
       "      <td>2896</td>\n",
       "      <td>0.000</td>\n",
       "    </tr>\n",
       "  </tbody>\n",
       "</table>\n",
       "</div>"
      ],
      "text/plain": [
       "         # schools  pct_of_schools  total_enrollment  pct_of_total_enrollment\n",
       "index                                                                        \n",
       "06-12           10           0.001              6849                    0.001\n",
       "07-12          949           0.082            490604                    0.039\n",
       "08-12          197           0.017            188906                    0.015\n",
       "09-10            5           0.000              1334                    0.000\n",
       "09-11           18           0.002              6952                    0.001\n",
       "09-12         9956           0.863          11243659                    0.903\n",
       "10-12          224           0.019            293327                    0.024\n",
       "10-only          1           0.000               248                    0.000\n",
       "11-12           25           0.002             14761                    0.001\n",
       "12-only          1           0.000               391                    0.000\n",
       "9-only           2           0.000               670                    0.000\n",
       "kg-12            4           0.000               980                    0.000\n",
       "other          131           0.011            199286                    0.016\n",
       "pk-12            7           0.001              2896                    0.000"
      ]
     },
     "execution_count": 44,
     "metadata": {},
     "output_type": "execute_result"
    }
   ],
   "source": [
    "\"\"\"Distribution of Grade Ranges for the AP-Yes set (Part 2)\"\"\"\n",
    "apYes_grade_range_dist = apYes_grade_range_list['grade_range'].value_counts().reset_index().sort_values('index').set_index('index')\n",
    "apYes_grade_range_dist['pct_of_schools'] = round(apYes_grade_range_dist['grade_range'] / len(apYes_grade_range_list), 3)\n",
    "\n",
    "apYes_grade_range_enrollments = pd.DataFrame(apYes_grade_range_list.groupby('grade_range')['total_enrollment'].sum())\n",
    "apYes_grade_range_enrollments['pct_of_total_enrollment'] = round(apYes_grade_range_enrollments['total_enrollment'] / crdc_1516_apYes['total_enrollment'].sum(), 3)\n",
    "\n",
    "apYes_grade_range_dist.join(apYes_grade_range_enrollments).rename({'grade_range': '# schools'}, axis = 1)"
   ]
  },
  {
   "cell_type": "code",
   "execution_count": 45,
   "metadata": {},
   "outputs": [
    {
     "data": {
      "text/plain": [
       "0.112"
      ]
     },
     "execution_count": 45,
     "metadata": {},
     "output_type": "execute_result"
    }
   ],
   "source": [
    "\"\"\"What portion of schools that offer AP have grades of 8th or younger?  This is important when considering\n",
    "    total enrollment of these schools, as only students in grades 9+ will be taking DE or AP Classes\"\"\"\n",
    "have_gr9_or_younger(crdc_1516_apYes)"
   ]
  },
  {
   "cell_type": "code",
   "execution_count": 46,
   "metadata": {},
   "outputs": [
    {
     "data": {
      "text/plain": [
       "2651611"
      ]
     },
     "metadata": {},
     "output_type": "display_data"
    },
    {
     "data": {
      "text/plain": [
       "2651611"
      ]
     },
     "execution_count": 46,
     "metadata": {},
     "output_type": "execute_result"
    }
   ],
   "source": [
    "ap_total_enrollment = crdc_1516_apYes['ap_total_enrollment'].sum()\n",
    "display(ap_total_enrollment)\n",
    "crdc_1516_cleaned['ap_total_enrollment'].sum()"
   ]
  },
  {
   "cell_type": "markdown",
   "metadata": {},
   "source": [
    "# <font color = green> Analysis </font>"
   ]
  },
  {
   "cell_type": "markdown",
   "metadata": {},
   "source": [
    "# I. Overall "
   ]
  },
  {
   "cell_type": "markdown",
   "metadata": {},
   "source": [
    "** Total Enrollment in all schools **"
   ]
  },
  {
   "cell_type": "code",
   "execution_count": 105,
   "metadata": {},
   "outputs": [
    {
     "data": {
      "text/plain": [
       "'13,627,606'"
      ]
     },
     "execution_count": 105,
     "metadata": {},
     "output_type": "execute_result"
    }
   ],
   "source": [
    "format(crdc_1516_cleaned['total_enrollment'].sum(), ',d')"
   ]
  },
  {
   "cell_type": "code",
   "execution_count": 106,
   "metadata": {},
   "outputs": [
    {
     "data": {
      "text/plain": [
       "'13,281,856 total students in all filtered schools by averaging Total Enrollments'"
      ]
     },
     "execution_count": 106,
     "metadata": {},
     "output_type": "execute_result"
    }
   ],
   "source": [
    "\"Total High School Enrollment BASED ON AVERAGING THE CRDC GRADE COLUMNS AGAINST ACTUAL TOTAL ENROLLMENT\"\n",
    "crdc_1516_cleaned_hs_enroll = hs_enrollment_averager(crdc_1516_cleaned)\n",
    "format(sum(crdc_1516_cleaned_hs_enroll), ',d') + ' total students in all filtered schools by averaging Total Enrollments'"
   ]
  },
  {
   "cell_type": "markdown",
   "metadata": {},
   "source": [
    "**Total Enrollment in DE-offering schools**"
   ]
  },
  {
   "cell_type": "code",
   "execution_count": 48,
   "metadata": {},
   "outputs": [
    {
     "data": {
      "text/plain": [
       "'10,323,385 total students in schools offering DE'"
      ]
     },
     "execution_count": 48,
     "metadata": {},
     "output_type": "execute_result"
    }
   ],
   "source": [
    "deOffering_total_enrollment = crdc_1516_deYes['total_enrollment'].sum()\n",
    "format(deOffering_total_enrollment, ',d') + ' total students in schools offering DE'"
   ]
  },
  {
   "cell_type": "code",
   "execution_count": 49,
   "metadata": {},
   "outputs": [
    {
     "data": {
      "text/plain": [
       "'10,064,930 total students in schools offering DE by averaging Total Enrollments'"
      ]
     },
     "execution_count": 49,
     "metadata": {},
     "output_type": "execute_result"
    }
   ],
   "source": [
    "\"Total High School Enrollment BASED ON AVERAGING THE CRDC GRADE COLUMNS AGAINST ACTUAL TOTAL ENROLLMENT\"\n",
    "crdc_1516_deYes_hs_enroll = hs_enrollment_averager(crdc_1516_deYes)\n",
    "format(sum(crdc_1516_deYes_hs_enroll), ',d') + ' total students in schools offering DE by averaging Total Enrollments'"
   ]
  },
  {
   "cell_type": "markdown",
   "metadata": {},
   "source": [
    "**Total Enrollment in AP-offering schools**"
   ]
  },
  {
   "cell_type": "code",
   "execution_count": 50,
   "metadata": {},
   "outputs": [
    {
     "data": {
      "text/plain": [
       "'12,450,863 total students in schools offering AP'"
      ]
     },
     "execution_count": 50,
     "metadata": {},
     "output_type": "execute_result"
    }
   ],
   "source": [
    "apOffering_total_enrollment = crdc_1516_apYes['total_enrollment'].sum()\n",
    "format(apOffering_total_enrollment, ',d') + ' total students in schools offering AP'"
   ]
  },
  {
   "cell_type": "code",
   "execution_count": 51,
   "metadata": {},
   "outputs": [
    {
     "data": {
      "text/plain": [
       "'12,202,226 total students in schools offering AP by averaging Total Enrollments'"
      ]
     },
     "execution_count": 51,
     "metadata": {},
     "output_type": "execute_result"
    }
   ],
   "source": [
    "\"Total High School Enrollment BASED ON AVERAGING THE CRDC GRADE COLUMNS AGAINST ACTUAL TOTAL ENROLLMENT\"\n",
    "crdc_1516_apYes_hs_enroll = hs_enrollment_averager(crdc_1516_apYes)\n",
    "format(sum(crdc_1516_apYes_hs_enroll), ',d') + ' total students in schools offering AP by averaging Total Enrollments'"
   ]
  },
  {
   "cell_type": "markdown",
   "metadata": {},
   "source": [
    "## II. By Gender"
   ]
  },
  {
   "cell_type": "markdown",
   "metadata": {},
   "source": [
    "** DE-enrolled **"
   ]
  },
  {
   "cell_type": "code",
   "execution_count": 52,
   "metadata": {},
   "outputs": [
    {
     "name": "stdout",
     "output_type": "stream",
     "text": [
      "Male: 488505  ( 0.454 )\n",
      "Female:  587320  ( 0.546 )\n"
     ]
    }
   ],
   "source": [
    "total_dualEnr_m = crdc_1516_deYes['TOT_DUALENR_M'].sum()\n",
    "total_dualEnr_f = crdc_1516_deYes['TOT_DUALENR_F'].sum()\n",
    "de_pct_m = round(total_dualEnr_m / (de_total_enrollment), 3)\n",
    "de_pct_f = round(total_dualEnr_f / (de_total_enrollment), 3)\n",
    "print('Male:', total_dualEnr_m, ' (', de_pct_m, ')')\n",
    "print('Female: ', total_dualEnr_f, ' (', de_pct_f, ')')"
   ]
  },
  {
   "cell_type": "markdown",
   "metadata": {},
   "source": [
    "** AP-enrolled **"
   ]
  },
  {
   "cell_type": "code",
   "execution_count": 53,
   "metadata": {},
   "outputs": [
    {
     "name": "stdout",
     "output_type": "stream",
     "text": [
      "Male: 1160832  ( 0.438 )\n",
      "Female:  1490779  ( 0.562 )\n"
     ]
    }
   ],
   "source": [
    "total_apEnr_m = crdc_1516_apYes['TOT_APENR_M'].sum()\n",
    "total_apEnr_f = crdc_1516_apYes['TOT_APENR_F'].sum()\n",
    "ap_pct_m = round(total_apEnr_m / (ap_total_enrollment), 3)\n",
    "ap_pct_f = round(total_apEnr_f / (ap_total_enrollment), 3)\n",
    "print('Male:', total_apEnr_m, ' (', ap_pct_m, ')')\n",
    "print('Female: ', total_apEnr_f, ' (', ap_pct_f, ')')"
   ]
  },
  {
   "cell_type": "markdown",
   "metadata": {},
   "source": [
    "**Totals in DE-Offering Schools**"
   ]
  },
  {
   "cell_type": "code",
   "execution_count": 54,
   "metadata": {},
   "outputs": [
    {
     "name": "stdout",
     "output_type": "stream",
     "text": [
      "Male: 5268245  ( 0.51 )\n",
      "Female:  5055140  ( 0.49 )\n"
     ]
    }
   ],
   "source": [
    "total_enr_deOffering_m = crdc_1516_deYes['TOT_ENR_M'].sum()\n",
    "total_enr_deOffering_f = crdc_1516_deYes['TOT_ENR_F'].sum()\n",
    "deOffering_pct_m = round(total_enr_deOffering_m / (deOffering_total_enrollment), 3)\n",
    "deOffering_pct_f = round(total_enr_deOffering_f / (deOffering_total_enrollment), 3)\n",
    "print('Male:', total_enr_deOffering_m, ' (', deOffering_pct_m, ')')\n",
    "print('Female: ', total_enr_deOffering_f, ' (', deOffering_pct_f, ')')"
   ]
  },
  {
   "cell_type": "markdown",
   "metadata": {},
   "source": [
    "**Totals in AP-Offering Schools**"
   ]
  },
  {
   "cell_type": "code",
   "execution_count": 55,
   "metadata": {},
   "outputs": [
    {
     "name": "stdout",
     "output_type": "stream",
     "text": [
      "Male: 6352148  ( 0.51 )\n",
      "Female:  6098715  ( 0.49 )\n"
     ]
    }
   ],
   "source": [
    "total_enr_apOffering_m = crdc_1516_apYes['TOT_ENR_M'].sum()\n",
    "total_enr_apOffering_f = crdc_1516_apYes['TOT_ENR_F'].sum()\n",
    "apOffering_pct_m = round(total_enr_apOffering_m / (apOffering_total_enrollment), 3)\n",
    "apOffering_pct_f = round(total_enr_apOffering_f / (apOffering_total_enrollment), 3)\n",
    "print('Male:', total_enr_apOffering_m, ' (', apOffering_pct_m, ')')\n",
    "print('Female: ', total_enr_apOffering_f, ' (', apOffering_pct_f, ')')"
   ]
  },
  {
   "cell_type": "markdown",
   "metadata": {},
   "source": [
    "**Visualizing the differences**"
   ]
  },
  {
   "cell_type": "code",
   "execution_count": 56,
   "metadata": {},
   "outputs": [
    {
     "name": "stdout",
     "output_type": "stream",
     "text": [
      "Females make up 49.0% of the total enrollment of schools that offer DE-courses, but make up 54.6% of the total DE enrollment.\n"
     ]
    }
   ],
   "source": [
    "print('Females make up ' + str(deOffering_pct_f * 100) + '% ' + \n",
    "      'of the total enrollment of schools that offer DE-courses, but make up ' + str(round(de_pct_f * 100,1)) + '% ' +\n",
    "      'of the total DE enrollment.')"
   ]
  },
  {
   "cell_type": "code",
   "execution_count": 57,
   "metadata": {},
   "outputs": [
    {
     "name": "stdout",
     "output_type": "stream",
     "text": [
      "Females make up 49.0% of the total enrollment of schools that offer AP-courses, but make up 56.2% of the total AP enrollment.\n"
     ]
    }
   ],
   "source": [
    "print('Females make up ' + str(apOffering_pct_f * 100) + '% ' + \n",
    "      'of the total enrollment of schools that offer AP-courses, but make up ' + str(ap_pct_f * 100) + '% ' +\n",
    "      'of the total AP enrollment.')"
   ]
  },
  {
   "cell_type": "markdown",
   "metadata": {},
   "source": [
    "## III. By Race"
   ]
  },
  {
   "cell_type": "markdown",
   "metadata": {},
   "source": [
    "** DE **"
   ]
  },
  {
   "cell_type": "code",
   "execution_count": 58,
   "metadata": {},
   "outputs": [
    {
     "name": "stdout",
     "output_type": "stream",
     "text": [
      "Hispanic: 178849  ( 0.166 )\n",
      "American Indian/Alaska Native: 9937  ( 0.009 )\n",
      "Asian: 52206  ( 0.049 )\n",
      "Black: 93159  ( 0.087 )\n",
      "Native Hawaiian/Pacific Islander: 3742  ( 0.003 )\n",
      "Two or More Races: 28768  ( 0.027 )\n",
      "White: 709164  ( 0.659 )\n"
     ]
    }
   ],
   "source": [
    "total_dualEnr_hi = crdc_1516_deYes['de_hi_enrollment'].sum()\n",
    "total_dualEnr_am = crdc_1516_deYes['de_am_enrollment'].sum()\n",
    "total_dualEnr_as = crdc_1516_deYes['de_as_enrollment'].sum()\n",
    "total_dualEnr_bl = crdc_1516_deYes['de_bl_enrollment'].sum()\n",
    "total_dualEnr_hp = crdc_1516_deYes['de_hp_enrollment'].sum()\n",
    "total_dualEnr_tr = crdc_1516_deYes['de_tr_enrollment'].sum()\n",
    "total_dualEnr_wh = crdc_1516_deYes['de_white_enrollment'].sum()\n",
    "\n",
    "de_pct_hi = round(total_dualEnr_hi / (de_total_enrollment), 3)\n",
    "de_pct_am = round(total_dualEnr_am / (de_total_enrollment), 3)\n",
    "de_pct_as = round(total_dualEnr_as / (de_total_enrollment), 3)\n",
    "de_pct_bl = round(total_dualEnr_bl / (de_total_enrollment), 3)\n",
    "de_pct_hp = round(total_dualEnr_hp / (de_total_enrollment), 3)\n",
    "de_pct_tr = round(total_dualEnr_tr / (de_total_enrollment), 3)\n",
    "de_pct_wh = round(total_dualEnr_wh / (de_total_enrollment), 3)\n",
    "\n",
    "\n",
    "print('Hispanic:', total_dualEnr_hi, ' (', de_pct_hi, ')')\n",
    "print('American Indian/Alaska Native:', total_dualEnr_am, ' (', de_pct_am, ')')\n",
    "print('Asian:', total_dualEnr_as, ' (', de_pct_as, ')')\n",
    "print('Black:', total_dualEnr_bl, ' (', de_pct_bl, ')')\n",
    "print('Native Hawaiian/Pacific Islander:', total_dualEnr_hp, ' (', de_pct_hp, ')')\n",
    "print('Two or More Races:', total_dualEnr_tr, ' (', de_pct_tr, ')')\n",
    "print('White:', total_dualEnr_wh, ' (', de_pct_wh, ')')\n"
   ]
  },
  {
   "cell_type": "markdown",
   "metadata": {},
   "source": [
    "** AP **"
   ]
  },
  {
   "cell_type": "code",
   "execution_count": 59,
   "metadata": {},
   "outputs": [
    {
     "name": "stdout",
     "output_type": "stream",
     "text": [
      "Hispanic: 557068  ( 0.21 )\n",
      "American Indian/Alaska Native: 16399  ( 0.006 )\n",
      "Asian: 282696  ( 0.107 )\n",
      "Black: 241694  ( 0.091 )\n",
      "Native Hawaiian/Pacific Islanapr: 9567  ( 0.004 )\n",
      "Two or More Races: 77762  ( 0.029 )\n",
      "White: 1466425  ( 0.553 )\n"
     ]
    }
   ],
   "source": [
    "total_apEnr_hi = crdc_1516_apYes['ap_hi_enrollment'].sum()\n",
    "total_apEnr_am = crdc_1516_apYes['ap_am_enrollment'].sum()\n",
    "total_apEnr_as = crdc_1516_apYes['ap_as_enrollment'].sum()\n",
    "total_apEnr_bl = crdc_1516_apYes['ap_bl_enrollment'].sum()\n",
    "total_apEnr_hp = crdc_1516_apYes['ap_hp_enrollment'].sum()\n",
    "total_apEnr_tr = crdc_1516_apYes['ap_tr_enrollment'].sum()\n",
    "total_apEnr_wh = crdc_1516_apYes['ap_white_enrollment'].sum()\n",
    "\n",
    "ap_pct_hi = round(total_apEnr_hi / (ap_total_enrollment), 3)\n",
    "ap_pct_am = round(total_apEnr_am / (ap_total_enrollment), 3)\n",
    "ap_pct_as = round(total_apEnr_as / (ap_total_enrollment), 3)\n",
    "ap_pct_bl = round(total_apEnr_bl / (ap_total_enrollment), 3)\n",
    "ap_pct_hp = round(total_apEnr_hp / (ap_total_enrollment), 3)\n",
    "ap_pct_tr = round(total_apEnr_tr / (ap_total_enrollment), 3)\n",
    "ap_pct_wh = round(total_apEnr_wh / (ap_total_enrollment), 3)\n",
    "\n",
    "\n",
    "print('Hispanic:', total_apEnr_hi, ' (', ap_pct_hi, ')')\n",
    "print('American Indian/Alaska Native:', total_apEnr_am, ' (', ap_pct_am, ')')\n",
    "print('Asian:', total_apEnr_as, ' (', ap_pct_as, ')')\n",
    "print('Black:', total_apEnr_bl, ' (', ap_pct_bl, ')')\n",
    "print('Native Hawaiian/Pacific Islanapr:', total_apEnr_hp, ' (', ap_pct_hp, ')')\n",
    "print('Two or More Races:', total_apEnr_tr, ' (', ap_pct_tr, ')')\n",
    "print('White:', total_apEnr_wh, ' (', ap_pct_wh, ')')\n"
   ]
  },
  {
   "cell_type": "markdown",
   "metadata": {},
   "source": [
    "**Totals in DE-Offering Schools**"
   ]
  },
  {
   "cell_type": "code",
   "execution_count": 60,
   "metadata": {},
   "outputs": [
    {
     "name": "stdout",
     "output_type": "stream",
     "text": [
      "Hispanic: 2191491  ( 0.212 )\n",
      "American Indian/Alaska Native: 100807  ( 0.01 )\n",
      "Asian: 470331  ( 0.046 )\n",
      "Black: 1558033  ( 0.151 )\n",
      "Native Hawaiian/Pacific Islander: 42810  ( 0.004 )\n",
      "Two or More Races: 290697  ( 0.028 )\n",
      "White: 5669216  ( 0.549 )\n"
     ]
    }
   ],
   "source": [
    "total_enr_deOffering_hi = crdc_1516_deYes['total_hi_enrollment'].sum()\n",
    "total_enr_deOffering_am = crdc_1516_deYes['total_am_enrollment'].sum()\n",
    "total_enr_deOffering_as = crdc_1516_deYes['total_as_enrollment'].sum()\n",
    "total_enr_deOffering_bl = crdc_1516_deYes['total_bl_enrollment'].sum()\n",
    "total_enr_deOffering_hp = crdc_1516_deYes['total_hp_enrollment'].sum()\n",
    "total_enr_deOffering_tr = crdc_1516_deYes['total_tr_enrollment'].sum()\n",
    "total_enr_deOffering_wh = crdc_1516_deYes['total_white_enrollment'].sum()\n",
    "\n",
    "deOffering_pct_hi = round(total_enr_deOffering_hi / (deOffering_total_enrollment), 3)\n",
    "deOffering_pct_am = round(total_enr_deOffering_am / (deOffering_total_enrollment), 3)\n",
    "deOffering_pct_as = round(total_enr_deOffering_as / (deOffering_total_enrollment), 3)\n",
    "deOffering_pct_bl = round(total_enr_deOffering_bl / (deOffering_total_enrollment), 3)\n",
    "deOffering_pct_hp = round(total_enr_deOffering_hp / (deOffering_total_enrollment), 3)\n",
    "deOffering_pct_tr = round(total_enr_deOffering_tr / (deOffering_total_enrollment), 3)\n",
    "deOffering_pct_wh = round(total_enr_deOffering_wh / (deOffering_total_enrollment), 3)\n",
    "\n",
    "print('Hispanic:', total_enr_deOffering_hi, ' (', deOffering_pct_hi, ')')\n",
    "print('American Indian/Alaska Native:', total_enr_deOffering_am, ' (', deOffering_pct_am, ')')\n",
    "print('Asian:', total_enr_deOffering_as, ' (', deOffering_pct_as, ')')\n",
    "print('Black:', total_enr_deOffering_bl, ' (', deOffering_pct_bl, ')')\n",
    "print('Native Hawaiian/Pacific Islander:', total_enr_deOffering_hp, ' (', deOffering_pct_hp, ')')\n",
    "print('Two or More Races:', total_enr_deOffering_tr, ' (', deOffering_pct_tr, ')')\n",
    "print('White:', total_enr_deOffering_wh, ' (', deOffering_pct_wh, ')')"
   ]
  },
  {
   "cell_type": "markdown",
   "metadata": {},
   "source": [
    "**Totals in AP-Offering Schools**"
   ]
  },
  {
   "cell_type": "code",
   "execution_count": 61,
   "metadata": {},
   "outputs": [
    {
     "name": "stdout",
     "output_type": "stream",
     "text": [
      "Hispanic: 3027732  ( 0.243 )\n",
      "American Indian/Alaska Native: 109569  ( 0.009 )\n",
      "Asian: 685607  ( 0.055 )\n",
      "Black: 1846926  ( 0.148 )\n",
      "Native Hawaiian/Pacific Islanapr: 54574  ( 0.004 )\n",
      "Two or More Races: 355314  ( 0.029 )\n",
      "White: 6371141  ( 0.512 )\n"
     ]
    }
   ],
   "source": [
    "total_enr_apOffering_hi = crdc_1516_apYes['total_hi_enrollment'].sum()\n",
    "total_enr_apOffering_am = crdc_1516_apYes['total_am_enrollment'].sum()\n",
    "total_enr_apOffering_as = crdc_1516_apYes['total_as_enrollment'].sum()\n",
    "total_enr_apOffering_bl = crdc_1516_apYes['total_bl_enrollment'].sum()\n",
    "total_enr_apOffering_hp = crdc_1516_apYes['total_hp_enrollment'].sum()\n",
    "total_enr_apOffering_tr = crdc_1516_apYes['total_tr_enrollment'].sum()\n",
    "total_enr_apOffering_wh = crdc_1516_apYes['total_white_enrollment'].sum()\n",
    "\n",
    "apOffering_pct_hi = round(total_enr_apOffering_hi / (apOffering_total_enrollment), 3)\n",
    "apOffering_pct_am = round(total_enr_apOffering_am / (apOffering_total_enrollment), 3)\n",
    "apOffering_pct_as = round(total_enr_apOffering_as / (apOffering_total_enrollment), 3)\n",
    "apOffering_pct_bl = round(total_enr_apOffering_bl / (apOffering_total_enrollment), 3)\n",
    "apOffering_pct_hp = round(total_enr_apOffering_hp / (apOffering_total_enrollment), 3)\n",
    "apOffering_pct_tr = round(total_enr_apOffering_tr / (apOffering_total_enrollment), 3)\n",
    "apOffering_pct_wh = round(total_enr_apOffering_wh / (apOffering_total_enrollment), 3)\n",
    "\n",
    "print('Hispanic:', total_enr_apOffering_hi, ' (', apOffering_pct_hi, ')')\n",
    "print('American Indian/Alaska Native:', total_enr_apOffering_am, ' (', apOffering_pct_am, ')')\n",
    "print('Asian:', total_enr_apOffering_as, ' (', apOffering_pct_as, ')')\n",
    "print('Black:', total_enr_apOffering_bl, ' (', apOffering_pct_bl, ')')\n",
    "print('Native Hawaiian/Pacific Islanapr:', total_enr_apOffering_hp, ' (', apOffering_pct_hp, ')')\n",
    "print('Two or More Races:', total_enr_apOffering_tr, ' (', apOffering_pct_tr, ')')\n",
    "print('White:', total_enr_apOffering_wh, ' (', apOffering_pct_wh, ')')"
   ]
  },
  {
   "cell_type": "markdown",
   "metadata": {},
   "source": [
    "**Visualizing**"
   ]
  },
  {
   "cell_type": "code",
   "execution_count": 62,
   "metadata": {},
   "outputs": [
    {
     "data": {
      "text/html": [
       "<div>\n",
       "<style scoped>\n",
       "    .dataframe tbody tr th:only-of-type {\n",
       "        vertical-align: middle;\n",
       "    }\n",
       "\n",
       "    .dataframe tbody tr th {\n",
       "        vertical-align: top;\n",
       "    }\n",
       "\n",
       "    .dataframe thead th {\n",
       "        text-align: right;\n",
       "    }\n",
       "</style>\n",
       "<table border=\"1\" class=\"dataframe\">\n",
       "  <thead>\n",
       "    <tr style=\"text-align: right;\">\n",
       "      <th></th>\n",
       "      <th>All Students in DE-Yes</th>\n",
       "      <th>DE-Students</th>\n",
       "    </tr>\n",
       "  </thead>\n",
       "  <tbody>\n",
       "    <tr>\n",
       "      <th>Hispanic</th>\n",
       "      <td>0.212</td>\n",
       "      <td>0.166</td>\n",
       "    </tr>\n",
       "    <tr>\n",
       "      <th>Native American</th>\n",
       "      <td>0.010</td>\n",
       "      <td>0.009</td>\n",
       "    </tr>\n",
       "    <tr>\n",
       "      <th>Asian</th>\n",
       "      <td>0.046</td>\n",
       "      <td>0.049</td>\n",
       "    </tr>\n",
       "    <tr>\n",
       "      <th>Black</th>\n",
       "      <td>0.151</td>\n",
       "      <td>0.087</td>\n",
       "    </tr>\n",
       "    <tr>\n",
       "      <th>Native Hawaiian</th>\n",
       "      <td>0.004</td>\n",
       "      <td>0.003</td>\n",
       "    </tr>\n",
       "    <tr>\n",
       "      <th>Two or More Races</th>\n",
       "      <td>0.028</td>\n",
       "      <td>0.027</td>\n",
       "    </tr>\n",
       "    <tr>\n",
       "      <th>White</th>\n",
       "      <td>0.549</td>\n",
       "      <td>0.659</td>\n",
       "    </tr>\n",
       "  </tbody>\n",
       "</table>\n",
       "</div>"
      ],
      "text/plain": [
       "                   All Students in DE-Yes  DE-Students\n",
       "Hispanic                            0.212        0.166\n",
       "Native American                     0.010        0.009\n",
       "Asian                               0.046        0.049\n",
       "Black                               0.151        0.087\n",
       "Native Hawaiian                     0.004        0.003\n",
       "Two or More Races                   0.028        0.027\n",
       "White                               0.549        0.659"
      ]
     },
     "execution_count": 62,
     "metadata": {},
     "output_type": "execute_result"
    }
   ],
   "source": [
    "de_race_stats = pd.DataFrame(data = [[deOffering_pct_hi, de_pct_hi], \n",
    "                                    [deOffering_pct_am, de_pct_am], \n",
    "                                    [deOffering_pct_as, de_pct_as], \n",
    "                                    [deOffering_pct_bl, de_pct_bl], \n",
    "                                    [deOffering_pct_hp, de_pct_hp],\n",
    "                                    [deOffering_pct_tr, de_pct_tr], \n",
    "                                    [deOffering_pct_wh, de_pct_wh]], \n",
    "                            index = ['Hispanic', 'Native American', 'Asian', 'Black', 'Native Hawaiian', \n",
    "                                        'Two or More Races', 'White'],\n",
    "                            columns = ['All Students in DE-Yes', 'DE-Students'])\n",
    "de_race_stats"
   ]
  },
  {
   "cell_type": "code",
   "execution_count": 63,
   "metadata": {},
   "outputs": [
    {
     "name": "stdout",
     "output_type": "stream",
     "text": [
      "Hispanics make up 21.2% of the total enrollment of schools that offer DE-courses, but make up 16.6% of the total DE enrollment.\n",
      "\n",
      "Native Americans/Native Alaskans make up 1.0% of the total enrollment of schools that offer DE-courses, but make up 0.9% of the total DE enrollment.\n",
      "\n",
      "Asians make up 4.6% of the total enrollment of schools that offer DE-courses, but make up 4.9% of the total DE enrollment.\n",
      "\n",
      "Blacks make up 15.1% of the total enrollment of schools that offer DE-courses, but make up 8.7% of the total DE enrollment.\n",
      "\n",
      "Native Hawaiian/Pacific Islanders make up 0.4% of the total enrollment of schools that offer DE-courses, but make up 0.3% of the total DE enrollment.\n",
      "\n",
      "Individuals of Two or More Races make up 2.8% of the total enrollment of schools that offer DE-courses, but make up 2.7% of the total DE enrollment.\n",
      "\n",
      "Whites make up 54.9% of the total enrollment of schools that offer DE-courses, but make up 65.9% of the total DE enrollment.\n"
     ]
    }
   ],
   "source": [
    "print('Hispanics make up ' + str(deOffering_pct_hi * 100) + '% ' + \n",
    "      'of the total enrollment of schools that offer DE-courses, but make up ' + str(round(de_pct_hi * 100,1)) + '% ' +\n",
    "      'of the total DE enrollment.')\n",
    "print('')\n",
    "print('Native Americans/Native Alaskans make up ' + str(round(deOffering_pct_am * 100,1)) + '% ' + \n",
    "      'of the total enrollment of schools that offer DE-courses, but make up ' + str(round(de_pct_am * 100,1)) + '% ' +\n",
    "      'of the total DE enrollment.')\n",
    "print('')\n",
    "print('Asians make up ' + str(round(deOffering_pct_as * 100,1)) + '% ' + \n",
    "      'of the total enrollment of schools that offer DE-courses, but make up ' + str(round(de_pct_as * 100,1)) + '% ' +\n",
    "      'of the total DE enrollment.')\n",
    "print('')\n",
    "print('Blacks make up ' + str(round(deOffering_pct_bl * 100,1)) + '% ' + \n",
    "      'of the total enrollment of schools that offer DE-courses, but make up ' + str(round(de_pct_bl * 100,1)) + '% ' +\n",
    "      'of the total DE enrollment.')\n",
    "print('')\n",
    "print('Native Hawaiian/Pacific Islanders make up ' + str(round(deOffering_pct_hp * 100,1)) + '% ' + \n",
    "      'of the total enrollment of schools that offer DE-courses, but make up ' + str(round(de_pct_hp * 100,1)) + '% ' +\n",
    "      'of the total DE enrollment.')\n",
    "print('')\n",
    "print('Individuals of Two or More Races make up ' + str(round(deOffering_pct_tr * 100,1)) + '% ' + \n",
    "      'of the total enrollment of schools that offer DE-courses, but make up ' + str(round(de_pct_tr * 100,1)) + '% ' +\n",
    "      'of the total DE enrollment.')\n",
    "print('')\n",
    "print('Whites make up ' + str(round(deOffering_pct_wh * 100,1)) + '% ' + \n",
    "      'of the total enrollment of schools that offer DE-courses, but make up ' + str(round(de_pct_wh * 100,1)) + '% ' +\n",
    "      'of the total DE enrollment.')"
   ]
  },
  {
   "cell_type": "code",
   "execution_count": 64,
   "metadata": {},
   "outputs": [
    {
     "name": "stdout",
     "output_type": "stream",
     "text": [
      "Hispanics make up 24.3% of the total enrollment of schools that offer AP-courses, but make up 21.0% of the total AP enrollment.\n",
      "\n",
      "Native Americans/Native Alaskans make up 0.9% of the total enrollment of schools that offer AP-courses, but make up 0.6% of the total AP enrollment.\n",
      "\n",
      "Asians make up 5.5% of the total enrollment of schools that offer AP-courses, but make up 10.7% of the total AP enrollment.\n",
      "\n",
      "Blacks make up 14.8% of the total enrollment of schools that offer AP-courses, but make up 9.1% of the total AP enrollment.\n",
      "\n",
      "Native Hawaiian/Pacific Islanaprs make up 0.4% of the total enrollment of schools that offer AP-courses, but make up 0.4% of the total AP enrollment.\n",
      "\n",
      "Individuals of Two or More Races make up 2.9% of the total enrollment of schools that offer AP-courses, but make up 2.9% of the total AP enrollment.\n",
      "\n",
      "Whites make up 51.2% of the total enrollment of schools that offer AP-courses, but make up 55.3% of the total AP enrollment.\n"
     ]
    }
   ],
   "source": [
    "print('Hispanics make up ' + str(apOffering_pct_hi * 100) + '% ' + \n",
    "      'of the total enrollment of schools that offer AP-courses, but make up ' + str(round(ap_pct_hi * 100,1)) + '% ' +\n",
    "      'of the total AP enrollment.')\n",
    "print('')\n",
    "print('Native Americans/Native Alaskans make up ' + str(round(apOffering_pct_am * 100,1)) + '% ' + \n",
    "      'of the total enrollment of schools that offer AP-courses, but make up ' + str(round(ap_pct_am * 100,1)) + '% ' +\n",
    "      'of the total AP enrollment.')\n",
    "print('')\n",
    "print('Asians make up ' + str(round(apOffering_pct_as * 100,1)) + '% ' + \n",
    "      'of the total enrollment of schools that offer AP-courses, but make up ' + str(round(ap_pct_as * 100,1)) + '% ' +\n",
    "      'of the total AP enrollment.')\n",
    "print('')\n",
    "print('Blacks make up ' + str(round(apOffering_pct_bl * 100,1)) + '% ' + \n",
    "      'of the total enrollment of schools that offer AP-courses, but make up ' + str(round(ap_pct_bl * 100,1)) + '% ' +\n",
    "      'of the total AP enrollment.')\n",
    "print('')\n",
    "print('Native Hawaiian/Pacific Islanaprs make up ' + str(round(apOffering_pct_hp * 100,1)) + '% ' + \n",
    "      'of the total enrollment of schools that offer AP-courses, but make up ' + str(round(ap_pct_hp * 100,1)) + '% ' +\n",
    "      'of the total AP enrollment.')\n",
    "print('')\n",
    "print('Individuals of Two or More Races make up ' + str(round(apOffering_pct_tr * 100,1)) + '% ' + \n",
    "      'of the total enrollment of schools that offer AP-courses, but make up ' + str(round(ap_pct_tr * 100,1)) + '% ' +\n",
    "      'of the total AP enrollment.')\n",
    "print('')\n",
    "print('Whites make up ' + str(round(apOffering_pct_wh * 100,1)) + '% ' + \n",
    "      'of the total enrollment of schools that offer AP-courses, but make up ' + str(round(ap_pct_wh * 100,1)) + '% ' +\n",
    "      'of the total AP enrollment.')"
   ]
  },
  {
   "cell_type": "markdown",
   "metadata": {},
   "source": [
    "### IV.a Race By State"
   ]
  },
  {
   "cell_type": "code",
   "execution_count": 65,
   "metadata": {},
   "outputs": [
    {
     "data": {
      "text/html": [
       "<div>\n",
       "<style scoped>\n",
       "    .dataframe tbody tr th:only-of-type {\n",
       "        vertical-align: middle;\n",
       "    }\n",
       "\n",
       "    .dataframe tbody tr th {\n",
       "        vertical-align: top;\n",
       "    }\n",
       "\n",
       "    .dataframe thead th {\n",
       "        text-align: right;\n",
       "    }\n",
       "</style>\n",
       "<table border=\"1\" class=\"dataframe\">\n",
       "  <thead>\n",
       "    <tr style=\"text-align: right;\">\n",
       "      <th></th>\n",
       "      <th>Pct White in DE-Yes</th>\n",
       "      <th>Pct Non-White in DE-Yes</th>\n",
       "      <th>Pct White DE-Students</th>\n",
       "      <th>Pct Non-White DE-Students</th>\n",
       "      <th>Non-White Gap</th>\n",
       "    </tr>\n",
       "    <tr>\n",
       "      <th>LEA_STATE</th>\n",
       "      <th></th>\n",
       "      <th></th>\n",
       "      <th></th>\n",
       "      <th></th>\n",
       "      <th></th>\n",
       "    </tr>\n",
       "  </thead>\n",
       "  <tbody>\n",
       "    <tr>\n",
       "      <th>MS</th>\n",
       "      <td>0.464</td>\n",
       "      <td>0.536</td>\n",
       "      <td>0.670</td>\n",
       "      <td>0.330</td>\n",
       "      <td>-0.206</td>\n",
       "    </tr>\n",
       "    <tr>\n",
       "      <th>MD</th>\n",
       "      <td>0.436</td>\n",
       "      <td>0.564</td>\n",
       "      <td>0.630</td>\n",
       "      <td>0.370</td>\n",
       "      <td>-0.194</td>\n",
       "    </tr>\n",
       "    <tr>\n",
       "      <th>AZ</th>\n",
       "      <td>0.441</td>\n",
       "      <td>0.559</td>\n",
       "      <td>0.625</td>\n",
       "      <td>0.375</td>\n",
       "      <td>-0.184</td>\n",
       "    </tr>\n",
       "    <tr>\n",
       "      <th>AL</th>\n",
       "      <td>0.574</td>\n",
       "      <td>0.426</td>\n",
       "      <td>0.735</td>\n",
       "      <td>0.265</td>\n",
       "      <td>-0.161</td>\n",
       "    </tr>\n",
       "    <tr>\n",
       "      <th>VA</th>\n",
       "      <td>0.553</td>\n",
       "      <td>0.447</td>\n",
       "      <td>0.713</td>\n",
       "      <td>0.287</td>\n",
       "      <td>-0.160</td>\n",
       "    </tr>\n",
       "    <tr>\n",
       "      <th>LA</th>\n",
       "      <td>0.492</td>\n",
       "      <td>0.508</td>\n",
       "      <td>0.629</td>\n",
       "      <td>0.371</td>\n",
       "      <td>-0.137</td>\n",
       "    </tr>\n",
       "    <tr>\n",
       "      <th>GA</th>\n",
       "      <td>0.442</td>\n",
       "      <td>0.558</td>\n",
       "      <td>0.570</td>\n",
       "      <td>0.430</td>\n",
       "      <td>-0.128</td>\n",
       "    </tr>\n",
       "    <tr>\n",
       "      <th>SC</th>\n",
       "      <td>0.542</td>\n",
       "      <td>0.458</td>\n",
       "      <td>0.670</td>\n",
       "      <td>0.330</td>\n",
       "      <td>-0.128</td>\n",
       "    </tr>\n",
       "    <tr>\n",
       "      <th>IL</th>\n",
       "      <td>0.533</td>\n",
       "      <td>0.467</td>\n",
       "      <td>0.658</td>\n",
       "      <td>0.342</td>\n",
       "      <td>-0.125</td>\n",
       "    </tr>\n",
       "    <tr>\n",
       "      <th>TN</th>\n",
       "      <td>0.709</td>\n",
       "      <td>0.291</td>\n",
       "      <td>0.834</td>\n",
       "      <td>0.166</td>\n",
       "      <td>-0.125</td>\n",
       "    </tr>\n",
       "    <tr>\n",
       "      <th>OK</th>\n",
       "      <td>0.518</td>\n",
       "      <td>0.482</td>\n",
       "      <td>0.635</td>\n",
       "      <td>0.365</td>\n",
       "      <td>-0.117</td>\n",
       "    </tr>\n",
       "    <tr>\n",
       "      <th>NY</th>\n",
       "      <td>0.540</td>\n",
       "      <td>0.460</td>\n",
       "      <td>0.650</td>\n",
       "      <td>0.350</td>\n",
       "      <td>-0.110</td>\n",
       "    </tr>\n",
       "    <tr>\n",
       "      <th>SD</th>\n",
       "      <td>0.800</td>\n",
       "      <td>0.200</td>\n",
       "      <td>0.908</td>\n",
       "      <td>0.092</td>\n",
       "      <td>-0.108</td>\n",
       "    </tr>\n",
       "    <tr>\n",
       "      <th>MN</th>\n",
       "      <td>0.737</td>\n",
       "      <td>0.263</td>\n",
       "      <td>0.839</td>\n",
       "      <td>0.161</td>\n",
       "      <td>-0.102</td>\n",
       "    </tr>\n",
       "    <tr>\n",
       "      <th>FL</th>\n",
       "      <td>0.417</td>\n",
       "      <td>0.583</td>\n",
       "      <td>0.511</td>\n",
       "      <td>0.489</td>\n",
       "      <td>-0.094</td>\n",
       "    </tr>\n",
       "    <tr>\n",
       "      <th>OH</th>\n",
       "      <td>0.751</td>\n",
       "      <td>0.249</td>\n",
       "      <td>0.843</td>\n",
       "      <td>0.157</td>\n",
       "      <td>-0.092</td>\n",
       "    </tr>\n",
       "    <tr>\n",
       "      <th>PA</th>\n",
       "      <td>0.787</td>\n",
       "      <td>0.213</td>\n",
       "      <td>0.874</td>\n",
       "      <td>0.126</td>\n",
       "      <td>-0.087</td>\n",
       "    </tr>\n",
       "    <tr>\n",
       "      <th>UT</th>\n",
       "      <td>0.764</td>\n",
       "      <td>0.236</td>\n",
       "      <td>0.849</td>\n",
       "      <td>0.151</td>\n",
       "      <td>-0.085</td>\n",
       "    </tr>\n",
       "    <tr>\n",
       "      <th>KS</th>\n",
       "      <td>0.710</td>\n",
       "      <td>0.290</td>\n",
       "      <td>0.787</td>\n",
       "      <td>0.213</td>\n",
       "      <td>-0.077</td>\n",
       "    </tr>\n",
       "    <tr>\n",
       "      <th>AR</th>\n",
       "      <td>0.681</td>\n",
       "      <td>0.319</td>\n",
       "      <td>0.754</td>\n",
       "      <td>0.246</td>\n",
       "      <td>-0.073</td>\n",
       "    </tr>\n",
       "    <tr>\n",
       "      <th>ND</th>\n",
       "      <td>0.819</td>\n",
       "      <td>0.181</td>\n",
       "      <td>0.892</td>\n",
       "      <td>0.108</td>\n",
       "      <td>-0.073</td>\n",
       "    </tr>\n",
       "    <tr>\n",
       "      <th>NC</th>\n",
       "      <td>0.526</td>\n",
       "      <td>0.474</td>\n",
       "      <td>0.599</td>\n",
       "      <td>0.401</td>\n",
       "      <td>-0.073</td>\n",
       "    </tr>\n",
       "    <tr>\n",
       "      <th>DE</th>\n",
       "      <td>0.499</td>\n",
       "      <td>0.501</td>\n",
       "      <td>0.569</td>\n",
       "      <td>0.431</td>\n",
       "      <td>-0.070</td>\n",
       "    </tr>\n",
       "    <tr>\n",
       "      <th>TX</th>\n",
       "      <td>0.305</td>\n",
       "      <td>0.695</td>\n",
       "      <td>0.374</td>\n",
       "      <td>0.626</td>\n",
       "      <td>-0.069</td>\n",
       "    </tr>\n",
       "    <tr>\n",
       "      <th>CO</th>\n",
       "      <td>0.583</td>\n",
       "      <td>0.417</td>\n",
       "      <td>0.640</td>\n",
       "      <td>0.360</td>\n",
       "      <td>-0.057</td>\n",
       "    </tr>\n",
       "    <tr>\n",
       "      <th>WI</th>\n",
       "      <td>0.758</td>\n",
       "      <td>0.242</td>\n",
       "      <td>0.812</td>\n",
       "      <td>0.188</td>\n",
       "      <td>-0.054</td>\n",
       "    </tr>\n",
       "    <tr>\n",
       "      <th>NJ</th>\n",
       "      <td>0.567</td>\n",
       "      <td>0.433</td>\n",
       "      <td>0.619</td>\n",
       "      <td>0.381</td>\n",
       "      <td>-0.052</td>\n",
       "    </tr>\n",
       "    <tr>\n",
       "      <th>MO</th>\n",
       "      <td>0.782</td>\n",
       "      <td>0.218</td>\n",
       "      <td>0.833</td>\n",
       "      <td>0.167</td>\n",
       "      <td>-0.051</td>\n",
       "    </tr>\n",
       "    <tr>\n",
       "      <th>KY</th>\n",
       "      <td>0.818</td>\n",
       "      <td>0.182</td>\n",
       "      <td>0.867</td>\n",
       "      <td>0.133</td>\n",
       "      <td>-0.049</td>\n",
       "    </tr>\n",
       "    <tr>\n",
       "      <th>CT</th>\n",
       "      <td>0.631</td>\n",
       "      <td>0.369</td>\n",
       "      <td>0.679</td>\n",
       "      <td>0.321</td>\n",
       "      <td>-0.048</td>\n",
       "    </tr>\n",
       "    <tr>\n",
       "      <th>IA</th>\n",
       "      <td>0.798</td>\n",
       "      <td>0.202</td>\n",
       "      <td>0.844</td>\n",
       "      <td>0.156</td>\n",
       "      <td>-0.046</td>\n",
       "    </tr>\n",
       "    <tr>\n",
       "      <th>MT</th>\n",
       "      <td>0.812</td>\n",
       "      <td>0.188</td>\n",
       "      <td>0.853</td>\n",
       "      <td>0.147</td>\n",
       "      <td>-0.041</td>\n",
       "    </tr>\n",
       "    <tr>\n",
       "      <th>NM</th>\n",
       "      <td>0.243</td>\n",
       "      <td>0.757</td>\n",
       "      <td>0.282</td>\n",
       "      <td>0.718</td>\n",
       "      <td>-0.039</td>\n",
       "    </tr>\n",
       "    <tr>\n",
       "      <th>NV</th>\n",
       "      <td>0.498</td>\n",
       "      <td>0.502</td>\n",
       "      <td>0.535</td>\n",
       "      <td>0.465</td>\n",
       "      <td>-0.037</td>\n",
       "    </tr>\n",
       "    <tr>\n",
       "      <th>MI</th>\n",
       "      <td>0.747</td>\n",
       "      <td>0.253</td>\n",
       "      <td>0.782</td>\n",
       "      <td>0.218</td>\n",
       "      <td>-0.035</td>\n",
       "    </tr>\n",
       "    <tr>\n",
       "      <th>WY</th>\n",
       "      <td>0.808</td>\n",
       "      <td>0.192</td>\n",
       "      <td>0.841</td>\n",
       "      <td>0.159</td>\n",
       "      <td>-0.033</td>\n",
       "    </tr>\n",
       "    <tr>\n",
       "      <th>CA</th>\n",
       "      <td>0.258</td>\n",
       "      <td>0.742</td>\n",
       "      <td>0.287</td>\n",
       "      <td>0.713</td>\n",
       "      <td>-0.029</td>\n",
       "    </tr>\n",
       "    <tr>\n",
       "      <th>IN</th>\n",
       "      <td>0.745</td>\n",
       "      <td>0.255</td>\n",
       "      <td>0.769</td>\n",
       "      <td>0.231</td>\n",
       "      <td>-0.024</td>\n",
       "    </tr>\n",
       "    <tr>\n",
       "      <th>OR</th>\n",
       "      <td>0.637</td>\n",
       "      <td>0.363</td>\n",
       "      <td>0.655</td>\n",
       "      <td>0.345</td>\n",
       "      <td>-0.018</td>\n",
       "    </tr>\n",
       "    <tr>\n",
       "      <th>NH</th>\n",
       "      <td>0.864</td>\n",
       "      <td>0.136</td>\n",
       "      <td>0.882</td>\n",
       "      <td>0.118</td>\n",
       "      <td>-0.018</td>\n",
       "    </tr>\n",
       "    <tr>\n",
       "      <th>ID</th>\n",
       "      <td>0.777</td>\n",
       "      <td>0.223</td>\n",
       "      <td>0.789</td>\n",
       "      <td>0.211</td>\n",
       "      <td>-0.012</td>\n",
       "    </tr>\n",
       "    <tr>\n",
       "      <th>WV</th>\n",
       "      <td>0.907</td>\n",
       "      <td>0.093</td>\n",
       "      <td>0.918</td>\n",
       "      <td>0.082</td>\n",
       "      <td>-0.011</td>\n",
       "    </tr>\n",
       "    <tr>\n",
       "      <th>NE</th>\n",
       "      <td>0.706</td>\n",
       "      <td>0.294</td>\n",
       "      <td>0.713</td>\n",
       "      <td>0.287</td>\n",
       "      <td>-0.007</td>\n",
       "    </tr>\n",
       "    <tr>\n",
       "      <th>ME</th>\n",
       "      <td>0.897</td>\n",
       "      <td>0.103</td>\n",
       "      <td>0.903</td>\n",
       "      <td>0.097</td>\n",
       "      <td>-0.006</td>\n",
       "    </tr>\n",
       "    <tr>\n",
       "      <th>DC</th>\n",
       "      <td>0.002</td>\n",
       "      <td>0.998</td>\n",
       "      <td>0.000</td>\n",
       "      <td>1.000</td>\n",
       "      <td>0.002</td>\n",
       "    </tr>\n",
       "    <tr>\n",
       "      <th>VT</th>\n",
       "      <td>0.903</td>\n",
       "      <td>0.097</td>\n",
       "      <td>0.901</td>\n",
       "      <td>0.099</td>\n",
       "      <td>0.002</td>\n",
       "    </tr>\n",
       "    <tr>\n",
       "      <th>HI</th>\n",
       "      <td>0.113</td>\n",
       "      <td>0.887</td>\n",
       "      <td>0.103</td>\n",
       "      <td>0.897</td>\n",
       "      <td>0.010</td>\n",
       "    </tr>\n",
       "    <tr>\n",
       "      <th>AK</th>\n",
       "      <td>0.526</td>\n",
       "      <td>0.474</td>\n",
       "      <td>0.515</td>\n",
       "      <td>0.485</td>\n",
       "      <td>0.011</td>\n",
       "    </tr>\n",
       "    <tr>\n",
       "      <th>RI</th>\n",
       "      <td>0.686</td>\n",
       "      <td>0.314</td>\n",
       "      <td>0.664</td>\n",
       "      <td>0.336</td>\n",
       "      <td>0.022</td>\n",
       "    </tr>\n",
       "    <tr>\n",
       "      <th>WA</th>\n",
       "      <td>0.582</td>\n",
       "      <td>0.418</td>\n",
       "      <td>0.546</td>\n",
       "      <td>0.454</td>\n",
       "      <td>0.036</td>\n",
       "    </tr>\n",
       "    <tr>\n",
       "      <th>MA</th>\n",
       "      <td>0.720</td>\n",
       "      <td>0.280</td>\n",
       "      <td>0.667</td>\n",
       "      <td>0.333</td>\n",
       "      <td>0.053</td>\n",
       "    </tr>\n",
       "  </tbody>\n",
       "</table>\n",
       "</div>"
      ],
      "text/plain": [
       "           Pct White in DE-Yes  Pct Non-White in DE-Yes  \\\n",
       "LEA_STATE                                                 \n",
       "MS                       0.464                    0.536   \n",
       "MD                       0.436                    0.564   \n",
       "AZ                       0.441                    0.559   \n",
       "AL                       0.574                    0.426   \n",
       "VA                       0.553                    0.447   \n",
       "LA                       0.492                    0.508   \n",
       "GA                       0.442                    0.558   \n",
       "SC                       0.542                    0.458   \n",
       "IL                       0.533                    0.467   \n",
       "TN                       0.709                    0.291   \n",
       "OK                       0.518                    0.482   \n",
       "NY                       0.540                    0.460   \n",
       "SD                       0.800                    0.200   \n",
       "MN                       0.737                    0.263   \n",
       "FL                       0.417                    0.583   \n",
       "OH                       0.751                    0.249   \n",
       "PA                       0.787                    0.213   \n",
       "UT                       0.764                    0.236   \n",
       "KS                       0.710                    0.290   \n",
       "AR                       0.681                    0.319   \n",
       "ND                       0.819                    0.181   \n",
       "NC                       0.526                    0.474   \n",
       "DE                       0.499                    0.501   \n",
       "TX                       0.305                    0.695   \n",
       "CO                       0.583                    0.417   \n",
       "WI                       0.758                    0.242   \n",
       "NJ                       0.567                    0.433   \n",
       "MO                       0.782                    0.218   \n",
       "KY                       0.818                    0.182   \n",
       "CT                       0.631                    0.369   \n",
       "IA                       0.798                    0.202   \n",
       "MT                       0.812                    0.188   \n",
       "NM                       0.243                    0.757   \n",
       "NV                       0.498                    0.502   \n",
       "MI                       0.747                    0.253   \n",
       "WY                       0.808                    0.192   \n",
       "CA                       0.258                    0.742   \n",
       "IN                       0.745                    0.255   \n",
       "OR                       0.637                    0.363   \n",
       "NH                       0.864                    0.136   \n",
       "ID                       0.777                    0.223   \n",
       "WV                       0.907                    0.093   \n",
       "NE                       0.706                    0.294   \n",
       "ME                       0.897                    0.103   \n",
       "DC                       0.002                    0.998   \n",
       "VT                       0.903                    0.097   \n",
       "HI                       0.113                    0.887   \n",
       "AK                       0.526                    0.474   \n",
       "RI                       0.686                    0.314   \n",
       "WA                       0.582                    0.418   \n",
       "MA                       0.720                    0.280   \n",
       "\n",
       "           Pct White DE-Students  Pct Non-White DE-Students  Non-White Gap  \n",
       "LEA_STATE                                                                   \n",
       "MS                         0.670                      0.330         -0.206  \n",
       "MD                         0.630                      0.370         -0.194  \n",
       "AZ                         0.625                      0.375         -0.184  \n",
       "AL                         0.735                      0.265         -0.161  \n",
       "VA                         0.713                      0.287         -0.160  \n",
       "LA                         0.629                      0.371         -0.137  \n",
       "GA                         0.570                      0.430         -0.128  \n",
       "SC                         0.670                      0.330         -0.128  \n",
       "IL                         0.658                      0.342         -0.125  \n",
       "TN                         0.834                      0.166         -0.125  \n",
       "OK                         0.635                      0.365         -0.117  \n",
       "NY                         0.650                      0.350         -0.110  \n",
       "SD                         0.908                      0.092         -0.108  \n",
       "MN                         0.839                      0.161         -0.102  \n",
       "FL                         0.511                      0.489         -0.094  \n",
       "OH                         0.843                      0.157         -0.092  \n",
       "PA                         0.874                      0.126         -0.087  \n",
       "UT                         0.849                      0.151         -0.085  \n",
       "KS                         0.787                      0.213         -0.077  \n",
       "AR                         0.754                      0.246         -0.073  \n",
       "ND                         0.892                      0.108         -0.073  \n",
       "NC                         0.599                      0.401         -0.073  \n",
       "DE                         0.569                      0.431         -0.070  \n",
       "TX                         0.374                      0.626         -0.069  \n",
       "CO                         0.640                      0.360         -0.057  \n",
       "WI                         0.812                      0.188         -0.054  \n",
       "NJ                         0.619                      0.381         -0.052  \n",
       "MO                         0.833                      0.167         -0.051  \n",
       "KY                         0.867                      0.133         -0.049  \n",
       "CT                         0.679                      0.321         -0.048  \n",
       "IA                         0.844                      0.156         -0.046  \n",
       "MT                         0.853                      0.147         -0.041  \n",
       "NM                         0.282                      0.718         -0.039  \n",
       "NV                         0.535                      0.465         -0.037  \n",
       "MI                         0.782                      0.218         -0.035  \n",
       "WY                         0.841                      0.159         -0.033  \n",
       "CA                         0.287                      0.713         -0.029  \n",
       "IN                         0.769                      0.231         -0.024  \n",
       "OR                         0.655                      0.345         -0.018  \n",
       "NH                         0.882                      0.118         -0.018  \n",
       "ID                         0.789                      0.211         -0.012  \n",
       "WV                         0.918                      0.082         -0.011  \n",
       "NE                         0.713                      0.287         -0.007  \n",
       "ME                         0.903                      0.097         -0.006  \n",
       "DC                         0.000                      1.000          0.002  \n",
       "VT                         0.901                      0.099          0.002  \n",
       "HI                         0.103                      0.897          0.010  \n",
       "AK                         0.515                      0.485          0.011  \n",
       "RI                         0.664                      0.336          0.022  \n",
       "WA                         0.546                      0.454          0.036  \n",
       "MA                         0.667                      0.333          0.053  "
      ]
     },
     "execution_count": 65,
     "metadata": {},
     "output_type": "execute_result"
    }
   ],
   "source": [
    "de_state_nonwhite = crdc_1516_deYes.groupby(['LEA_STATE'])['de_nonwhite_enrollment'].sum()\n",
    "de_state_white = crdc_1516_deYes.groupby(['LEA_STATE'])['de_white_enrollment'].sum()\n",
    "de_state_total = crdc_1516_deYes.groupby(['LEA_STATE'])['de_total_enrollment'].sum()\n",
    "\n",
    "deOffering_state_nonwhite = crdc_1516_deYes.groupby(['LEA_STATE'])['total_nonwhite_enrollment'].sum()\n",
    "deOffering_state_white = crdc_1516_deYes.groupby(['LEA_STATE'])['total_white_enrollment'].sum()\n",
    "deOffering_state_total = crdc_1516_deYes.groupby(['LEA_STATE'])['total_enrollment'].sum()\n",
    "\n",
    "de_state_stats = pd.DataFrame([de_state_white, de_state_nonwhite, de_state_total]).T\n",
    "deOffering_state_stats = pd.DataFrame([deOffering_state_white, deOffering_state_nonwhite, deOffering_state_total]).T\n",
    "\n",
    "de_state_stats['de_white_enrollment'] = round(de_state_stats['de_white_enrollment'] / de_state_stats['de_total_enrollment'],3)\n",
    "de_state_stats['de_nonwhite_enrollment'] = round(de_state_stats['de_nonwhite_enrollment'] / de_state_stats['de_total_enrollment'],3)\n",
    "de_state_stats.drop('de_total_enrollment', axis = 1, inplace = True)\n",
    "\n",
    "deOffering_state_stats['total_white_enrollment'] = round(deOffering_state_stats['total_white_enrollment'] / deOffering_state_stats['total_enrollment'],3)\n",
    "deOffering_state_stats['total_nonwhite_enrollment'] = round(deOffering_state_stats['total_nonwhite_enrollment'] / deOffering_state_stats['total_enrollment'],3)\n",
    "deOffering_state_stats.drop('total_enrollment', axis = 1, inplace = True)\n",
    "\n",
    "deOffering_state_stats = deOffering_state_stats.rename({'total_white_enrollment':'Pct White in DE-Yes', 'total_nonwhite_enrollment':'Pct Non-White in DE-Yes'}, axis = 'columns')\n",
    "de_state_stats = de_state_stats.rename({'de_white_enrollment':'Pct White DE-Students', 'de_nonwhite_enrollment':'Pct Non-White DE-Students'}, axis = 'columns')\n",
    "\n",
    "\"\"\"Join the two DataFrames\"\"\"\n",
    "de_state_stats_final = deOffering_state_stats.join(de_state_stats, how = 'inner')\n",
    "\n",
    "de_state_stats_final['Non-White Gap'] = de_state_stats_final['Pct Non-White DE-Students'] - de_state_stats_final['Pct Non-White in DE-Yes']\n",
    "\n",
    "\"\"\" Which states have the most under-represented Non-White groups? \"\"\"\n",
    "de_state_stats_final.sort_values('Non-White Gap')"
   ]
  },
  {
   "cell_type": "code",
   "execution_count": 66,
   "metadata": {},
   "outputs": [
    {
     "data": {
      "text/html": [
       "<div>\n",
       "<style scoped>\n",
       "    .dataframe tbody tr th:only-of-type {\n",
       "        vertical-align: middle;\n",
       "    }\n",
       "\n",
       "    .dataframe tbody tr th {\n",
       "        vertical-align: top;\n",
       "    }\n",
       "\n",
       "    .dataframe thead th {\n",
       "        text-align: right;\n",
       "    }\n",
       "</style>\n",
       "<table border=\"1\" class=\"dataframe\">\n",
       "  <thead>\n",
       "    <tr style=\"text-align: right;\">\n",
       "      <th></th>\n",
       "      <th>Pct White in ap-Yes</th>\n",
       "      <th>Pct Non-White in ap-Yes</th>\n",
       "      <th>Pct White ap-Stuapnts</th>\n",
       "      <th>Pct Non-White ap-Stuapnts</th>\n",
       "      <th>Non-White Gap</th>\n",
       "    </tr>\n",
       "    <tr>\n",
       "      <th>LEA_STATE</th>\n",
       "      <th></th>\n",
       "      <th></th>\n",
       "      <th></th>\n",
       "      <th></th>\n",
       "      <th></th>\n",
       "    </tr>\n",
       "  </thead>\n",
       "  <tbody>\n",
       "    <tr>\n",
       "      <th>SC</th>\n",
       "      <td>0.547</td>\n",
       "      <td>0.453</td>\n",
       "      <td>0.719</td>\n",
       "      <td>0.281</td>\n",
       "      <td>-0.172</td>\n",
       "    </tr>\n",
       "    <tr>\n",
       "      <th>NC</th>\n",
       "      <td>0.524</td>\n",
       "      <td>0.476</td>\n",
       "      <td>0.668</td>\n",
       "      <td>0.332</td>\n",
       "      <td>-0.144</td>\n",
       "    </tr>\n",
       "    <tr>\n",
       "      <th>MS</th>\n",
       "      <td>0.469</td>\n",
       "      <td>0.531</td>\n",
       "      <td>0.610</td>\n",
       "      <td>0.390</td>\n",
       "      <td>-0.141</td>\n",
       "    </tr>\n",
       "    <tr>\n",
       "      <th>AL</th>\n",
       "      <td>0.558</td>\n",
       "      <td>0.442</td>\n",
       "      <td>0.681</td>\n",
       "      <td>0.319</td>\n",
       "      <td>-0.123</td>\n",
       "    </tr>\n",
       "    <tr>\n",
       "      <th>DE</th>\n",
       "      <td>0.480</td>\n",
       "      <td>0.520</td>\n",
       "      <td>0.600</td>\n",
       "      <td>0.400</td>\n",
       "      <td>-0.120</td>\n",
       "    </tr>\n",
       "    <tr>\n",
       "      <th>AK</th>\n",
       "      <td>0.518</td>\n",
       "      <td>0.482</td>\n",
       "      <td>0.638</td>\n",
       "      <td>0.362</td>\n",
       "      <td>-0.120</td>\n",
       "    </tr>\n",
       "    <tr>\n",
       "      <th>MD</th>\n",
       "      <td>0.427</td>\n",
       "      <td>0.573</td>\n",
       "      <td>0.535</td>\n",
       "      <td>0.465</td>\n",
       "      <td>-0.108</td>\n",
       "    </tr>\n",
       "    <tr>\n",
       "      <th>LA</th>\n",
       "      <td>0.465</td>\n",
       "      <td>0.535</td>\n",
       "      <td>0.565</td>\n",
       "      <td>0.435</td>\n",
       "      <td>-0.100</td>\n",
       "    </tr>\n",
       "    <tr>\n",
       "      <th>TN</th>\n",
       "      <td>0.649</td>\n",
       "      <td>0.351</td>\n",
       "      <td>0.743</td>\n",
       "      <td>0.257</td>\n",
       "      <td>-0.094</td>\n",
       "    </tr>\n",
       "    <tr>\n",
       "      <th>CO</th>\n",
       "      <td>0.566</td>\n",
       "      <td>0.434</td>\n",
       "      <td>0.658</td>\n",
       "      <td>0.342</td>\n",
       "      <td>-0.092</td>\n",
       "    </tr>\n",
       "    <tr>\n",
       "      <th>CT</th>\n",
       "      <td>0.636</td>\n",
       "      <td>0.364</td>\n",
       "      <td>0.727</td>\n",
       "      <td>0.273</td>\n",
       "      <td>-0.091</td>\n",
       "    </tr>\n",
       "    <tr>\n",
       "      <th>SD</th>\n",
       "      <td>0.789</td>\n",
       "      <td>0.211</td>\n",
       "      <td>0.879</td>\n",
       "      <td>0.121</td>\n",
       "      <td>-0.090</td>\n",
       "    </tr>\n",
       "    <tr>\n",
       "      <th>GA</th>\n",
       "      <td>0.425</td>\n",
       "      <td>0.575</td>\n",
       "      <td>0.515</td>\n",
       "      <td>0.485</td>\n",
       "      <td>-0.090</td>\n",
       "    </tr>\n",
       "    <tr>\n",
       "      <th>NE</th>\n",
       "      <td>0.656</td>\n",
       "      <td>0.344</td>\n",
       "      <td>0.745</td>\n",
       "      <td>0.255</td>\n",
       "      <td>-0.089</td>\n",
       "    </tr>\n",
       "    <tr>\n",
       "      <th>DC</th>\n",
       "      <td>0.067</td>\n",
       "      <td>0.933</td>\n",
       "      <td>0.152</td>\n",
       "      <td>0.848</td>\n",
       "      <td>-0.085</td>\n",
       "    </tr>\n",
       "    <tr>\n",
       "      <th>AZ</th>\n",
       "      <td>0.412</td>\n",
       "      <td>0.588</td>\n",
       "      <td>0.490</td>\n",
       "      <td>0.510</td>\n",
       "      <td>-0.078</td>\n",
       "    </tr>\n",
       "    <tr>\n",
       "      <th>KS</th>\n",
       "      <td>0.643</td>\n",
       "      <td>0.357</td>\n",
       "      <td>0.718</td>\n",
       "      <td>0.282</td>\n",
       "      <td>-0.075</td>\n",
       "    </tr>\n",
       "    <tr>\n",
       "      <th>NY</th>\n",
       "      <td>0.526</td>\n",
       "      <td>0.474</td>\n",
       "      <td>0.601</td>\n",
       "      <td>0.399</td>\n",
       "      <td>-0.075</td>\n",
       "    </tr>\n",
       "    <tr>\n",
       "      <th>NM</th>\n",
       "      <td>0.246</td>\n",
       "      <td>0.754</td>\n",
       "      <td>0.320</td>\n",
       "      <td>0.680</td>\n",
       "      <td>-0.074</td>\n",
       "    </tr>\n",
       "    <tr>\n",
       "      <th>VA</th>\n",
       "      <td>0.529</td>\n",
       "      <td>0.471</td>\n",
       "      <td>0.601</td>\n",
       "      <td>0.399</td>\n",
       "      <td>-0.072</td>\n",
       "    </tr>\n",
       "    <tr>\n",
       "      <th>MT</th>\n",
       "      <td>0.826</td>\n",
       "      <td>0.174</td>\n",
       "      <td>0.892</td>\n",
       "      <td>0.108</td>\n",
       "      <td>-0.066</td>\n",
       "    </tr>\n",
       "    <tr>\n",
       "      <th>NJ</th>\n",
       "      <td>0.533</td>\n",
       "      <td>0.467</td>\n",
       "      <td>0.598</td>\n",
       "      <td>0.402</td>\n",
       "      <td>-0.065</td>\n",
       "    </tr>\n",
       "    <tr>\n",
       "      <th>IL</th>\n",
       "      <td>0.499</td>\n",
       "      <td>0.501</td>\n",
       "      <td>0.564</td>\n",
       "      <td>0.436</td>\n",
       "      <td>-0.065</td>\n",
       "    </tr>\n",
       "    <tr>\n",
       "      <th>FL</th>\n",
       "      <td>0.412</td>\n",
       "      <td>0.588</td>\n",
       "      <td>0.477</td>\n",
       "      <td>0.523</td>\n",
       "      <td>-0.065</td>\n",
       "    </tr>\n",
       "    <tr>\n",
       "      <th>OK</th>\n",
       "      <td>0.510</td>\n",
       "      <td>0.490</td>\n",
       "      <td>0.573</td>\n",
       "      <td>0.427</td>\n",
       "      <td>-0.063</td>\n",
       "    </tr>\n",
       "    <tr>\n",
       "      <th>MI</th>\n",
       "      <td>0.718</td>\n",
       "      <td>0.282</td>\n",
       "      <td>0.781</td>\n",
       "      <td>0.219</td>\n",
       "      <td>-0.063</td>\n",
       "    </tr>\n",
       "    <tr>\n",
       "      <th>WI</th>\n",
       "      <td>0.756</td>\n",
       "      <td>0.244</td>\n",
       "      <td>0.814</td>\n",
       "      <td>0.186</td>\n",
       "      <td>-0.058</td>\n",
       "    </tr>\n",
       "    <tr>\n",
       "      <th>NV</th>\n",
       "      <td>0.343</td>\n",
       "      <td>0.657</td>\n",
       "      <td>0.400</td>\n",
       "      <td>0.600</td>\n",
       "      <td>-0.057</td>\n",
       "    </tr>\n",
       "    <tr>\n",
       "      <th>PA</th>\n",
       "      <td>0.739</td>\n",
       "      <td>0.261</td>\n",
       "      <td>0.793</td>\n",
       "      <td>0.207</td>\n",
       "      <td>-0.054</td>\n",
       "    </tr>\n",
       "    <tr>\n",
       "      <th>MN</th>\n",
       "      <td>0.728</td>\n",
       "      <td>0.272</td>\n",
       "      <td>0.781</td>\n",
       "      <td>0.219</td>\n",
       "      <td>-0.053</td>\n",
       "    </tr>\n",
       "    <tr>\n",
       "      <th>HI</th>\n",
       "      <td>0.114</td>\n",
       "      <td>0.886</td>\n",
       "      <td>0.164</td>\n",
       "      <td>0.836</td>\n",
       "      <td>-0.050</td>\n",
       "    </tr>\n",
       "    <tr>\n",
       "      <th>MA</th>\n",
       "      <td>0.683</td>\n",
       "      <td>0.317</td>\n",
       "      <td>0.733</td>\n",
       "      <td>0.267</td>\n",
       "      <td>-0.050</td>\n",
       "    </tr>\n",
       "    <tr>\n",
       "      <th>UT</th>\n",
       "      <td>0.762</td>\n",
       "      <td>0.238</td>\n",
       "      <td>0.810</td>\n",
       "      <td>0.190</td>\n",
       "      <td>-0.048</td>\n",
       "    </tr>\n",
       "    <tr>\n",
       "      <th>OH</th>\n",
       "      <td>0.751</td>\n",
       "      <td>0.249</td>\n",
       "      <td>0.798</td>\n",
       "      <td>0.202</td>\n",
       "      <td>-0.047</td>\n",
       "    </tr>\n",
       "    <tr>\n",
       "      <th>TX</th>\n",
       "      <td>0.300</td>\n",
       "      <td>0.700</td>\n",
       "      <td>0.344</td>\n",
       "      <td>0.656</td>\n",
       "      <td>-0.044</td>\n",
       "    </tr>\n",
       "    <tr>\n",
       "      <th>CA</th>\n",
       "      <td>0.257</td>\n",
       "      <td>0.743</td>\n",
       "      <td>0.292</td>\n",
       "      <td>0.708</td>\n",
       "      <td>-0.035</td>\n",
       "    </tr>\n",
       "    <tr>\n",
       "      <th>MO</th>\n",
       "      <td>0.725</td>\n",
       "      <td>0.275</td>\n",
       "      <td>0.760</td>\n",
       "      <td>0.240</td>\n",
       "      <td>-0.035</td>\n",
       "    </tr>\n",
       "    <tr>\n",
       "      <th>ND</th>\n",
       "      <td>0.820</td>\n",
       "      <td>0.180</td>\n",
       "      <td>0.851</td>\n",
       "      <td>0.149</td>\n",
       "      <td>-0.031</td>\n",
       "    </tr>\n",
       "    <tr>\n",
       "      <th>ID</th>\n",
       "      <td>0.766</td>\n",
       "      <td>0.234</td>\n",
       "      <td>0.796</td>\n",
       "      <td>0.204</td>\n",
       "      <td>-0.030</td>\n",
       "    </tr>\n",
       "    <tr>\n",
       "      <th>KY</th>\n",
       "      <td>0.808</td>\n",
       "      <td>0.192</td>\n",
       "      <td>0.838</td>\n",
       "      <td>0.162</td>\n",
       "      <td>-0.030</td>\n",
       "    </tr>\n",
       "    <tr>\n",
       "      <th>RI</th>\n",
       "      <td>0.659</td>\n",
       "      <td>0.341</td>\n",
       "      <td>0.688</td>\n",
       "      <td>0.312</td>\n",
       "      <td>-0.029</td>\n",
       "    </tr>\n",
       "    <tr>\n",
       "      <th>AR</th>\n",
       "      <td>0.649</td>\n",
       "      <td>0.351</td>\n",
       "      <td>0.678</td>\n",
       "      <td>0.322</td>\n",
       "      <td>-0.029</td>\n",
       "    </tr>\n",
       "    <tr>\n",
       "      <th>WY</th>\n",
       "      <td>0.807</td>\n",
       "      <td>0.193</td>\n",
       "      <td>0.834</td>\n",
       "      <td>0.166</td>\n",
       "      <td>-0.027</td>\n",
       "    </tr>\n",
       "    <tr>\n",
       "      <th>IN</th>\n",
       "      <td>0.757</td>\n",
       "      <td>0.243</td>\n",
       "      <td>0.781</td>\n",
       "      <td>0.219</td>\n",
       "      <td>-0.024</td>\n",
       "    </tr>\n",
       "    <tr>\n",
       "      <th>WA</th>\n",
       "      <td>0.593</td>\n",
       "      <td>0.407</td>\n",
       "      <td>0.607</td>\n",
       "      <td>0.393</td>\n",
       "      <td>-0.014</td>\n",
       "    </tr>\n",
       "    <tr>\n",
       "      <th>OR</th>\n",
       "      <td>0.649</td>\n",
       "      <td>0.351</td>\n",
       "      <td>0.661</td>\n",
       "      <td>0.339</td>\n",
       "      <td>-0.012</td>\n",
       "    </tr>\n",
       "    <tr>\n",
       "      <th>VT</th>\n",
       "      <td>0.896</td>\n",
       "      <td>0.104</td>\n",
       "      <td>0.905</td>\n",
       "      <td>0.095</td>\n",
       "      <td>-0.009</td>\n",
       "    </tr>\n",
       "    <tr>\n",
       "      <th>NH</th>\n",
       "      <td>0.871</td>\n",
       "      <td>0.129</td>\n",
       "      <td>0.875</td>\n",
       "      <td>0.125</td>\n",
       "      <td>-0.004</td>\n",
       "    </tr>\n",
       "    <tr>\n",
       "      <th>ME</th>\n",
       "      <td>0.904</td>\n",
       "      <td>0.096</td>\n",
       "      <td>0.906</td>\n",
       "      <td>0.094</td>\n",
       "      <td>-0.002</td>\n",
       "    </tr>\n",
       "    <tr>\n",
       "      <th>IA</th>\n",
       "      <td>0.768</td>\n",
       "      <td>0.232</td>\n",
       "      <td>0.770</td>\n",
       "      <td>0.230</td>\n",
       "      <td>-0.002</td>\n",
       "    </tr>\n",
       "    <tr>\n",
       "      <th>WV</th>\n",
       "      <td>0.911</td>\n",
       "      <td>0.089</td>\n",
       "      <td>0.904</td>\n",
       "      <td>0.096</td>\n",
       "      <td>0.007</td>\n",
       "    </tr>\n",
       "  </tbody>\n",
       "</table>\n",
       "</div>"
      ],
      "text/plain": [
       "           Pct White in ap-Yes  Pct Non-White in ap-Yes  \\\n",
       "LEA_STATE                                                 \n",
       "SC                       0.547                    0.453   \n",
       "NC                       0.524                    0.476   \n",
       "MS                       0.469                    0.531   \n",
       "AL                       0.558                    0.442   \n",
       "DE                       0.480                    0.520   \n",
       "AK                       0.518                    0.482   \n",
       "MD                       0.427                    0.573   \n",
       "LA                       0.465                    0.535   \n",
       "TN                       0.649                    0.351   \n",
       "CO                       0.566                    0.434   \n",
       "CT                       0.636                    0.364   \n",
       "SD                       0.789                    0.211   \n",
       "GA                       0.425                    0.575   \n",
       "NE                       0.656                    0.344   \n",
       "DC                       0.067                    0.933   \n",
       "AZ                       0.412                    0.588   \n",
       "KS                       0.643                    0.357   \n",
       "NY                       0.526                    0.474   \n",
       "NM                       0.246                    0.754   \n",
       "VA                       0.529                    0.471   \n",
       "MT                       0.826                    0.174   \n",
       "NJ                       0.533                    0.467   \n",
       "IL                       0.499                    0.501   \n",
       "FL                       0.412                    0.588   \n",
       "OK                       0.510                    0.490   \n",
       "MI                       0.718                    0.282   \n",
       "WI                       0.756                    0.244   \n",
       "NV                       0.343                    0.657   \n",
       "PA                       0.739                    0.261   \n",
       "MN                       0.728                    0.272   \n",
       "HI                       0.114                    0.886   \n",
       "MA                       0.683                    0.317   \n",
       "UT                       0.762                    0.238   \n",
       "OH                       0.751                    0.249   \n",
       "TX                       0.300                    0.700   \n",
       "CA                       0.257                    0.743   \n",
       "MO                       0.725                    0.275   \n",
       "ND                       0.820                    0.180   \n",
       "ID                       0.766                    0.234   \n",
       "KY                       0.808                    0.192   \n",
       "RI                       0.659                    0.341   \n",
       "AR                       0.649                    0.351   \n",
       "WY                       0.807                    0.193   \n",
       "IN                       0.757                    0.243   \n",
       "WA                       0.593                    0.407   \n",
       "OR                       0.649                    0.351   \n",
       "VT                       0.896                    0.104   \n",
       "NH                       0.871                    0.129   \n",
       "ME                       0.904                    0.096   \n",
       "IA                       0.768                    0.232   \n",
       "WV                       0.911                    0.089   \n",
       "\n",
       "           Pct White ap-Stuapnts  Pct Non-White ap-Stuapnts  Non-White Gap  \n",
       "LEA_STATE                                                                   \n",
       "SC                         0.719                      0.281         -0.172  \n",
       "NC                         0.668                      0.332         -0.144  \n",
       "MS                         0.610                      0.390         -0.141  \n",
       "AL                         0.681                      0.319         -0.123  \n",
       "DE                         0.600                      0.400         -0.120  \n",
       "AK                         0.638                      0.362         -0.120  \n",
       "MD                         0.535                      0.465         -0.108  \n",
       "LA                         0.565                      0.435         -0.100  \n",
       "TN                         0.743                      0.257         -0.094  \n",
       "CO                         0.658                      0.342         -0.092  \n",
       "CT                         0.727                      0.273         -0.091  \n",
       "SD                         0.879                      0.121         -0.090  \n",
       "GA                         0.515                      0.485         -0.090  \n",
       "NE                         0.745                      0.255         -0.089  \n",
       "DC                         0.152                      0.848         -0.085  \n",
       "AZ                         0.490                      0.510         -0.078  \n",
       "KS                         0.718                      0.282         -0.075  \n",
       "NY                         0.601                      0.399         -0.075  \n",
       "NM                         0.320                      0.680         -0.074  \n",
       "VA                         0.601                      0.399         -0.072  \n",
       "MT                         0.892                      0.108         -0.066  \n",
       "NJ                         0.598                      0.402         -0.065  \n",
       "IL                         0.564                      0.436         -0.065  \n",
       "FL                         0.477                      0.523         -0.065  \n",
       "OK                         0.573                      0.427         -0.063  \n",
       "MI                         0.781                      0.219         -0.063  \n",
       "WI                         0.814                      0.186         -0.058  \n",
       "NV                         0.400                      0.600         -0.057  \n",
       "PA                         0.793                      0.207         -0.054  \n",
       "MN                         0.781                      0.219         -0.053  \n",
       "HI                         0.164                      0.836         -0.050  \n",
       "MA                         0.733                      0.267         -0.050  \n",
       "UT                         0.810                      0.190         -0.048  \n",
       "OH                         0.798                      0.202         -0.047  \n",
       "TX                         0.344                      0.656         -0.044  \n",
       "CA                         0.292                      0.708         -0.035  \n",
       "MO                         0.760                      0.240         -0.035  \n",
       "ND                         0.851                      0.149         -0.031  \n",
       "ID                         0.796                      0.204         -0.030  \n",
       "KY                         0.838                      0.162         -0.030  \n",
       "RI                         0.688                      0.312         -0.029  \n",
       "AR                         0.678                      0.322         -0.029  \n",
       "WY                         0.834                      0.166         -0.027  \n",
       "IN                         0.781                      0.219         -0.024  \n",
       "WA                         0.607                      0.393         -0.014  \n",
       "OR                         0.661                      0.339         -0.012  \n",
       "VT                         0.905                      0.095         -0.009  \n",
       "NH                         0.875                      0.125         -0.004  \n",
       "ME                         0.906                      0.094         -0.002  \n",
       "IA                         0.770                      0.230         -0.002  \n",
       "WV                         0.904                      0.096          0.007  "
      ]
     },
     "execution_count": 66,
     "metadata": {},
     "output_type": "execute_result"
    }
   ],
   "source": [
    "ap_state_nonwhite = crdc_1516_apYes.groupby(['LEA_STATE'])['ap_nonwhite_enrollment'].sum()\n",
    "ap_state_white = crdc_1516_apYes.groupby(['LEA_STATE'])['ap_white_enrollment'].sum()\n",
    "ap_state_total = crdc_1516_apYes.groupby(['LEA_STATE'])['ap_total_enrollment'].sum()\n",
    "\n",
    "apOffering_state_nonwhite = crdc_1516_apYes.groupby(['LEA_STATE'])['total_nonwhite_enrollment'].sum()\n",
    "apOffering_state_white = crdc_1516_apYes.groupby(['LEA_STATE'])['total_white_enrollment'].sum()\n",
    "apOffering_state_total = crdc_1516_apYes.groupby(['LEA_STATE'])['total_enrollment'].sum()\n",
    "\n",
    "ap_state_stats = pd.DataFrame([ap_state_white, ap_state_nonwhite, ap_state_total]).T\n",
    "apOffering_state_stats = pd.DataFrame([apOffering_state_white, apOffering_state_nonwhite, apOffering_state_total]).T\n",
    "\n",
    "ap_state_stats['ap_white_enrollment'] = round(ap_state_stats['ap_white_enrollment'] / ap_state_stats['ap_total_enrollment'],3)\n",
    "ap_state_stats['ap_nonwhite_enrollment'] = round(ap_state_stats['ap_nonwhite_enrollment'] / ap_state_stats['ap_total_enrollment'],3)\n",
    "ap_state_stats.drop('ap_total_enrollment', axis = 1, inplace = True)\n",
    "\n",
    "apOffering_state_stats['total_white_enrollment'] = round(apOffering_state_stats['total_white_enrollment'] / apOffering_state_stats['total_enrollment'],3)\n",
    "apOffering_state_stats['total_nonwhite_enrollment'] = round(apOffering_state_stats['total_nonwhite_enrollment'] / apOffering_state_stats['total_enrollment'],3)\n",
    "apOffering_state_stats.drop('total_enrollment', axis = 1, inplace = True)\n",
    "\n",
    "apOffering_state_stats = apOffering_state_stats.rename({'total_white_enrollment':'Pct White in ap-Yes', 'total_nonwhite_enrollment':'Pct Non-White in ap-Yes'}, axis = 'columns')\n",
    "ap_state_stats = ap_state_stats.rename({'ap_white_enrollment':'Pct White ap-Stuapnts', 'ap_nonwhite_enrollment':'Pct Non-White ap-Stuapnts'}, axis = 'columns')\n",
    "\n",
    "\"\"\"Join the two DataFrames\"\"\"\n",
    "ap_state_stats_final = apOffering_state_stats.join(ap_state_stats, how = 'inner')\n",
    "\n",
    "ap_state_stats_final['Non-White Gap'] = ap_state_stats_final['Pct Non-White ap-Stuapnts'] - ap_state_stats_final['Pct Non-White in ap-Yes']\n",
    "\n",
    "\"\"\" Which states have the most unapr-represented Non-White groups? \"\"\"\n",
    "ap_state_stats_final.sort_values('Non-White Gap')"
   ]
  },
  {
   "cell_type": "markdown",
   "metadata": {},
   "source": [
    "# IV. By LEP"
   ]
  },
  {
   "cell_type": "markdown",
   "metadata": {},
   "source": [
    "**DE**"
   ]
  },
  {
   "cell_type": "code",
   "execution_count": 67,
   "metadata": {},
   "outputs": [
    {
     "name": "stdout",
     "output_type": "stream",
     "text": [
      "LEP: 19757  ( 0.018 )\n"
     ]
    }
   ],
   "source": [
    "total_dualEnr_lep = crdc_1516_deYes['de_lep_enrollment'].sum()\n",
    "\n",
    "de_pct_lep = round(total_dualEnr_lep / (de_total_enrollment), 3)\n",
    "\n",
    "print('LEP:', total_dualEnr_lep, ' (', de_pct_lep, ')')"
   ]
  },
  {
   "cell_type": "markdown",
   "metadata": {},
   "source": [
    "**AP**"
   ]
  },
  {
   "cell_type": "code",
   "execution_count": 68,
   "metadata": {},
   "outputs": [
    {
     "name": "stdout",
     "output_type": "stream",
     "text": [
      "LEP: 49388  ( 0.019 )\n"
     ]
    }
   ],
   "source": [
    "total_apEnr_lep = crdc_1516_apYes['ap_lep_enrollment'].sum()\n",
    "\n",
    "ap_pct_lep = round(total_apEnr_lep / (ap_total_enrollment), 3)\n",
    "\n",
    "print('LEP:', total_apEnr_lep, ' (', ap_pct_lep, ')')"
   ]
  },
  {
   "cell_type": "markdown",
   "metadata": {},
   "source": [
    "**Totals in DE-Offering Schools**"
   ]
  },
  {
   "cell_type": "code",
   "execution_count": 69,
   "metadata": {},
   "outputs": [
    {
     "name": "stdout",
     "output_type": "stream",
     "text": [
      "LEP: 501341  ( 0.049 )\n"
     ]
    }
   ],
   "source": [
    "total_enr_deOffering_lep = crdc_1516_deYes['total_lep_enrollment'].sum()\n",
    "\n",
    "deOffering_pct_lep = round(total_enr_deOffering_lep / (deOffering_total_enrollment), 3)\n",
    "\n",
    "print('LEP:', total_enr_deOffering_lep, ' (', deOffering_pct_lep, ')')"
   ]
  },
  {
   "cell_type": "markdown",
   "metadata": {},
   "source": [
    "**Totals in AP-Offering Schools**"
   ]
  },
  {
   "cell_type": "code",
   "execution_count": 70,
   "metadata": {},
   "outputs": [
    {
     "name": "stdout",
     "output_type": "stream",
     "text": [
      "LEP: 691209  ( 0.056 )\n"
     ]
    }
   ],
   "source": [
    "total_enr_apOffering_lep = crdc_1516_apYes['total_lep_enrollment'].sum()\n",
    "\n",
    "apOffering_pct_lep = round(total_enr_apOffering_lep / (apOffering_total_enrollment), 3)\n",
    "\n",
    "print('LEP:', total_enr_apOffering_lep, ' (', apOffering_pct_lep, ')')"
   ]
  },
  {
   "cell_type": "markdown",
   "metadata": {},
   "source": [
    "**Visualizing**"
   ]
  },
  {
   "cell_type": "code",
   "execution_count": 71,
   "metadata": {},
   "outputs": [
    {
     "name": "stdout",
     "output_type": "stream",
     "text": [
      "LEP Individuals make up 4.9% of the total enrollment of schools that offer DE-courses, but make up 1.8% of the total DE enrollment.\n"
     ]
    }
   ],
   "source": [
    "print('LEP Individuals make up ' + str(deOffering_pct_lep * 100) + '% ' + \n",
    "      'of the total enrollment of schools that offer DE-courses, but make up ' + str(round(de_pct_lep * 100,1)) + '% ' +\n",
    "      'of the total DE enrollment.')"
   ]
  },
  {
   "cell_type": "code",
   "execution_count": 72,
   "metadata": {},
   "outputs": [
    {
     "name": "stdout",
     "output_type": "stream",
     "text": [
      "LEP Individuals make up 5.6% of the total enrollment of schools that offer AP-courses, but make up 1.9% of the total AP enrollment.\n"
     ]
    }
   ],
   "source": [
    "print('LEP Individuals make up ' + str(round(apOffering_pct_lep * 100,1)) + '% ' + \n",
    "      'of the total enrollment of schools that offer AP-courses, but make up ' + str(round(ap_pct_lep * 100,1)) + '% ' +\n",
    "      'of the total AP enrollment.')"
   ]
  },
  {
   "cell_type": "markdown",
   "metadata": {},
   "source": [
    "# V. By IDEA"
   ]
  },
  {
   "cell_type": "markdown",
   "metadata": {},
   "source": [
    "**DE**"
   ]
  },
  {
   "cell_type": "code",
   "execution_count": 73,
   "metadata": {},
   "outputs": [
    {
     "name": "stdout",
     "output_type": "stream",
     "text": [
      "IDEA: 39333  ( 0.037 )\n"
     ]
    }
   ],
   "source": [
    "total_deEnr_idea = crdc_1516_deYes['de_idea_enrollment'].sum()\n",
    "\n",
    "de_pct_idea = round(total_deEnr_idea / (de_total_enrollment), 3)\n",
    "\n",
    "print('IDEA:', total_deEnr_idea, ' (', de_pct_idea, ')')"
   ]
  },
  {
   "cell_type": "markdown",
   "metadata": {},
   "source": [
    "**AP**"
   ]
  },
  {
   "cell_type": "code",
   "execution_count": 74,
   "metadata": {},
   "outputs": [
    {
     "name": "stdout",
     "output_type": "stream",
     "text": [
      "IDEA: 39539  ( 0.015 )\n"
     ]
    }
   ],
   "source": [
    "total_apEnr_idea = crdc_1516_apYes['ap_idea_enrollment'].sum()\n",
    "\n",
    "ap_pct_idea = round(total_apEnr_idea / (ap_total_enrollment), 3)\n",
    "\n",
    "print('IDEA:', total_apEnr_idea, ' (', ap_pct_idea, ')')"
   ]
  },
  {
   "cell_type": "markdown",
   "metadata": {},
   "source": [
    "**Totals in DE-Offering Schools**"
   ]
  },
  {
   "cell_type": "code",
   "execution_count": 75,
   "metadata": {},
   "outputs": [
    {
     "name": "stdout",
     "output_type": "stream",
     "text": [
      "IDEA: 1178031  ( 0.114 )\n"
     ]
    }
   ],
   "source": [
    "total_enr_deOffering_idea = crdc_1516_deYes['total_idea_enrollment'].sum()\n",
    "\n",
    "deOffering_pct_idea = round(total_enr_deOffering_idea / (deOffering_total_enrollment), 3)\n",
    "\n",
    "print('IDEA:', total_enr_deOffering_idea, ' (', deOffering_pct_idea, ')')"
   ]
  },
  {
   "cell_type": "markdown",
   "metadata": {},
   "source": [
    "**Totals in AP-Offering Schools**"
   ]
  },
  {
   "cell_type": "code",
   "execution_count": 76,
   "metadata": {},
   "outputs": [
    {
     "name": "stdout",
     "output_type": "stream",
     "text": [
      "IDEA: 1432516  ( 0.115 )\n"
     ]
    }
   ],
   "source": [
    "total_enr_apOffering_idea = crdc_1516_apYes['total_idea_enrollment'].sum()\n",
    "\n",
    "apOffering_pct_idea = round(total_enr_apOffering_idea / (apOffering_total_enrollment), 3)\n",
    "\n",
    "print('IDEA:', total_enr_apOffering_idea, ' (', apOffering_pct_idea, ')')"
   ]
  },
  {
   "cell_type": "markdown",
   "metadata": {},
   "source": [
    "**Visualizing**"
   ]
  },
  {
   "cell_type": "code",
   "execution_count": 77,
   "metadata": {},
   "outputs": [
    {
     "name": "stdout",
     "output_type": "stream",
     "text": [
      "IDEA Individuals make up 11.4% of the total enrollment of schools that offer DE-courses, but make up 3.7% of the total DE enrollment.\n"
     ]
    }
   ],
   "source": [
    "print('IDEA Individuals make up ' + str(deOffering_pct_idea * 100) + '% ' + \n",
    "      'of the total enrollment of schools that offer DE-courses, but make up ' + str(round(de_pct_idea * 100,1)) + '% ' +\n",
    "      'of the total DE enrollment.')"
   ]
  },
  {
   "cell_type": "code",
   "execution_count": 78,
   "metadata": {},
   "outputs": [
    {
     "name": "stdout",
     "output_type": "stream",
     "text": [
      "IDEA Individuals make up 11.5% of the total enrollment of schools that offer AP-courses, but make up 1.5% of the total AP enrollment.\n"
     ]
    }
   ],
   "source": [
    "print('IDEA Individuals make up ' + str(apOffering_pct_idea * 100) + '% ' + \n",
    "      'of the total enrollment of schools that offer AP-courses, but make up ' + str(round(ap_pct_idea * 100,1)) + '% ' +\n",
    "      'of the total AP enrollment.')"
   ]
  },
  {
   "cell_type": "markdown",
   "metadata": {},
   "source": [
    "## VI. By State"
   ]
  },
  {
   "cell_type": "markdown",
   "metadata": {},
   "source": [
    "** DE **"
   ]
  },
  {
   "cell_type": "code",
   "execution_count": 79,
   "metadata": {},
   "outputs": [],
   "source": [
    "deOffering_state_total = crdc_1516_deYes.groupby('LEA_STATE')['total_enrollment'].sum().reset_index()\n",
    "de_state_enrollment = crdc_1516_deYes.groupby('LEA_STATE')['de_total_enrollment'].sum().reset_index()\n",
    "de_state = de_state_enrollment.merge(deOffering_state_total, how = 'inner', on = 'LEA_STATE')"
   ]
  },
  {
   "cell_type": "code",
   "execution_count": 80,
   "metadata": {},
   "outputs": [
    {
     "data": {
      "text/html": [
       "<div>\n",
       "<style scoped>\n",
       "    .dataframe tbody tr th:only-of-type {\n",
       "        vertical-align: middle;\n",
       "    }\n",
       "\n",
       "    .dataframe tbody tr th {\n",
       "        vertical-align: top;\n",
       "    }\n",
       "\n",
       "    .dataframe thead th {\n",
       "        text-align: right;\n",
       "    }\n",
       "</style>\n",
       "<table border=\"1\" class=\"dataframe\">\n",
       "  <thead>\n",
       "    <tr style=\"text-align: right;\">\n",
       "      <th></th>\n",
       "      <th>LEA_STATE</th>\n",
       "      <th>de_total_enrollment</th>\n",
       "      <th>total_enrollment</th>\n",
       "      <th>de_pct_enrolled</th>\n",
       "    </tr>\n",
       "  </thead>\n",
       "  <tbody>\n",
       "    <tr>\n",
       "      <th>0</th>\n",
       "      <td>IN</td>\n",
       "      <td>66629</td>\n",
       "      <td>268730</td>\n",
       "      <td>0.248</td>\n",
       "    </tr>\n",
       "    <tr>\n",
       "      <th>1</th>\n",
       "      <td>ID</td>\n",
       "      <td>14737</td>\n",
       "      <td>65153</td>\n",
       "      <td>0.226</td>\n",
       "    </tr>\n",
       "    <tr>\n",
       "      <th>2</th>\n",
       "      <td>WA</td>\n",
       "      <td>49621</td>\n",
       "      <td>222774</td>\n",
       "      <td>0.223</td>\n",
       "    </tr>\n",
       "    <tr>\n",
       "      <th>3</th>\n",
       "      <td>IA</td>\n",
       "      <td>29874</td>\n",
       "      <td>139235</td>\n",
       "      <td>0.215</td>\n",
       "    </tr>\n",
       "    <tr>\n",
       "      <th>4</th>\n",
       "      <td>WI</td>\n",
       "      <td>44335</td>\n",
       "      <td>209143</td>\n",
       "      <td>0.212</td>\n",
       "    </tr>\n",
       "    <tr>\n",
       "      <th>5</th>\n",
       "      <td>KS</td>\n",
       "      <td>23678</td>\n",
       "      <td>117394</td>\n",
       "      <td>0.202</td>\n",
       "    </tr>\n",
       "    <tr>\n",
       "      <th>6</th>\n",
       "      <td>WY</td>\n",
       "      <td>4749</td>\n",
       "      <td>23465</td>\n",
       "      <td>0.202</td>\n",
       "    </tr>\n",
       "    <tr>\n",
       "      <th>7</th>\n",
       "      <td>OR</td>\n",
       "      <td>26100</td>\n",
       "      <td>131346</td>\n",
       "      <td>0.199</td>\n",
       "    </tr>\n",
       "    <tr>\n",
       "      <th>8</th>\n",
       "      <td>UT</td>\n",
       "      <td>22785</td>\n",
       "      <td>131428</td>\n",
       "      <td>0.173</td>\n",
       "    </tr>\n",
       "    <tr>\n",
       "      <th>9</th>\n",
       "      <td>NY</td>\n",
       "      <td>69360</td>\n",
       "      <td>406870</td>\n",
       "      <td>0.170</td>\n",
       "    </tr>\n",
       "    <tr>\n",
       "      <th>10</th>\n",
       "      <td>MO</td>\n",
       "      <td>35798</td>\n",
       "      <td>234203</td>\n",
       "      <td>0.153</td>\n",
       "    </tr>\n",
       "    <tr>\n",
       "      <th>11</th>\n",
       "      <td>CT</td>\n",
       "      <td>13691</td>\n",
       "      <td>95363</td>\n",
       "      <td>0.144</td>\n",
       "    </tr>\n",
       "    <tr>\n",
       "      <th>12</th>\n",
       "      <td>NM</td>\n",
       "      <td>9758</td>\n",
       "      <td>68366</td>\n",
       "      <td>0.143</td>\n",
       "    </tr>\n",
       "    <tr>\n",
       "      <th>13</th>\n",
       "      <td>NE</td>\n",
       "      <td>12905</td>\n",
       "      <td>91368</td>\n",
       "      <td>0.141</td>\n",
       "    </tr>\n",
       "    <tr>\n",
       "      <th>14</th>\n",
       "      <td>AZ</td>\n",
       "      <td>29295</td>\n",
       "      <td>208106</td>\n",
       "      <td>0.141</td>\n",
       "    </tr>\n",
       "    <tr>\n",
       "      <th>15</th>\n",
       "      <td>ND</td>\n",
       "      <td>4250</td>\n",
       "      <td>31336</td>\n",
       "      <td>0.136</td>\n",
       "    </tr>\n",
       "    <tr>\n",
       "      <th>16</th>\n",
       "      <td>MN</td>\n",
       "      <td>23433</td>\n",
       "      <td>185566</td>\n",
       "      <td>0.126</td>\n",
       "    </tr>\n",
       "    <tr>\n",
       "      <th>17</th>\n",
       "      <td>AR</td>\n",
       "      <td>13086</td>\n",
       "      <td>104492</td>\n",
       "      <td>0.125</td>\n",
       "    </tr>\n",
       "    <tr>\n",
       "      <th>18</th>\n",
       "      <td>NJ</td>\n",
       "      <td>28724</td>\n",
       "      <td>254864</td>\n",
       "      <td>0.113</td>\n",
       "    </tr>\n",
       "    <tr>\n",
       "      <th>19</th>\n",
       "      <td>KY</td>\n",
       "      <td>17440</td>\n",
       "      <td>163418</td>\n",
       "      <td>0.107</td>\n",
       "    </tr>\n",
       "    <tr>\n",
       "      <th>20</th>\n",
       "      <td>IL</td>\n",
       "      <td>49123</td>\n",
       "      <td>469813</td>\n",
       "      <td>0.105</td>\n",
       "    </tr>\n",
       "    <tr>\n",
       "      <th>21</th>\n",
       "      <td>OH</td>\n",
       "      <td>43295</td>\n",
       "      <td>418599</td>\n",
       "      <td>0.103</td>\n",
       "    </tr>\n",
       "    <tr>\n",
       "      <th>22</th>\n",
       "      <td>TX</td>\n",
       "      <td>123910</td>\n",
       "      <td>1257751</td>\n",
       "      <td>0.099</td>\n",
       "    </tr>\n",
       "    <tr>\n",
       "      <th>23</th>\n",
       "      <td>LA</td>\n",
       "      <td>14924</td>\n",
       "      <td>157778</td>\n",
       "      <td>0.095</td>\n",
       "    </tr>\n",
       "    <tr>\n",
       "      <th>24</th>\n",
       "      <td>VA</td>\n",
       "      <td>30343</td>\n",
       "      <td>324051</td>\n",
       "      <td>0.094</td>\n",
       "    </tr>\n",
       "    <tr>\n",
       "      <th>25</th>\n",
       "      <td>SD</td>\n",
       "      <td>3207</td>\n",
       "      <td>34770</td>\n",
       "      <td>0.092</td>\n",
       "    </tr>\n",
       "    <tr>\n",
       "      <th>26</th>\n",
       "      <td>NC</td>\n",
       "      <td>28573</td>\n",
       "      <td>310145</td>\n",
       "      <td>0.092</td>\n",
       "    </tr>\n",
       "    <tr>\n",
       "      <th>27</th>\n",
       "      <td>NH</td>\n",
       "      <td>3074</td>\n",
       "      <td>35100</td>\n",
       "      <td>0.088</td>\n",
       "    </tr>\n",
       "    <tr>\n",
       "      <th>28</th>\n",
       "      <td>MT</td>\n",
       "      <td>2925</td>\n",
       "      <td>34541</td>\n",
       "      <td>0.085</td>\n",
       "    </tr>\n",
       "    <tr>\n",
       "      <th>29</th>\n",
       "      <td>TN</td>\n",
       "      <td>19568</td>\n",
       "      <td>246139</td>\n",
       "      <td>0.079</td>\n",
       "    </tr>\n",
       "    <tr>\n",
       "      <th>30</th>\n",
       "      <td>AK</td>\n",
       "      <td>1479</td>\n",
       "      <td>18739</td>\n",
       "      <td>0.079</td>\n",
       "    </tr>\n",
       "    <tr>\n",
       "      <th>31</th>\n",
       "      <td>CO</td>\n",
       "      <td>15150</td>\n",
       "      <td>197755</td>\n",
       "      <td>0.077</td>\n",
       "    </tr>\n",
       "    <tr>\n",
       "      <th>32</th>\n",
       "      <td>PA</td>\n",
       "      <td>23268</td>\n",
       "      <td>312143</td>\n",
       "      <td>0.075</td>\n",
       "    </tr>\n",
       "    <tr>\n",
       "      <th>33</th>\n",
       "      <td>WV</td>\n",
       "      <td>4474</td>\n",
       "      <td>60892</td>\n",
       "      <td>0.073</td>\n",
       "    </tr>\n",
       "    <tr>\n",
       "      <th>34</th>\n",
       "      <td>MS</td>\n",
       "      <td>8071</td>\n",
       "      <td>113862</td>\n",
       "      <td>0.071</td>\n",
       "    </tr>\n",
       "    <tr>\n",
       "      <th>35</th>\n",
       "      <td>VT</td>\n",
       "      <td>1602</td>\n",
       "      <td>22585</td>\n",
       "      <td>0.071</td>\n",
       "    </tr>\n",
       "    <tr>\n",
       "      <th>36</th>\n",
       "      <td>FL</td>\n",
       "      <td>49813</td>\n",
       "      <td>727661</td>\n",
       "      <td>0.068</td>\n",
       "    </tr>\n",
       "    <tr>\n",
       "      <th>37</th>\n",
       "      <td>RI</td>\n",
       "      <td>1231</td>\n",
       "      <td>18618</td>\n",
       "      <td>0.066</td>\n",
       "    </tr>\n",
       "    <tr>\n",
       "      <th>38</th>\n",
       "      <td>SC</td>\n",
       "      <td>12916</td>\n",
       "      <td>201401</td>\n",
       "      <td>0.064</td>\n",
       "    </tr>\n",
       "    <tr>\n",
       "      <th>39</th>\n",
       "      <td>ME</td>\n",
       "      <td>2118</td>\n",
       "      <td>34786</td>\n",
       "      <td>0.061</td>\n",
       "    </tr>\n",
       "    <tr>\n",
       "      <th>40</th>\n",
       "      <td>OK</td>\n",
       "      <td>7856</td>\n",
       "      <td>140465</td>\n",
       "      <td>0.056</td>\n",
       "    </tr>\n",
       "    <tr>\n",
       "      <th>41</th>\n",
       "      <td>AL</td>\n",
       "      <td>9015</td>\n",
       "      <td>164946</td>\n",
       "      <td>0.055</td>\n",
       "    </tr>\n",
       "    <tr>\n",
       "      <th>42</th>\n",
       "      <td>NV</td>\n",
       "      <td>2172</td>\n",
       "      <td>39924</td>\n",
       "      <td>0.054</td>\n",
       "    </tr>\n",
       "    <tr>\n",
       "      <th>43</th>\n",
       "      <td>MI</td>\n",
       "      <td>17546</td>\n",
       "      <td>343364</td>\n",
       "      <td>0.051</td>\n",
       "    </tr>\n",
       "    <tr>\n",
       "      <th>44</th>\n",
       "      <td>DE</td>\n",
       "      <td>1010</td>\n",
       "      <td>20288</td>\n",
       "      <td>0.050</td>\n",
       "    </tr>\n",
       "    <tr>\n",
       "      <th>45</th>\n",
       "      <td>HI</td>\n",
       "      <td>2354</td>\n",
       "      <td>49196</td>\n",
       "      <td>0.048</td>\n",
       "    </tr>\n",
       "    <tr>\n",
       "      <th>46</th>\n",
       "      <td>CA</td>\n",
       "      <td>29093</td>\n",
       "      <td>613226</td>\n",
       "      <td>0.047</td>\n",
       "    </tr>\n",
       "    <tr>\n",
       "      <th>47</th>\n",
       "      <td>GA</td>\n",
       "      <td>19031</td>\n",
       "      <td>463314</td>\n",
       "      <td>0.041</td>\n",
       "    </tr>\n",
       "    <tr>\n",
       "      <th>48</th>\n",
       "      <td>MD</td>\n",
       "      <td>6208</td>\n",
       "      <td>224512</td>\n",
       "      <td>0.028</td>\n",
       "    </tr>\n",
       "    <tr>\n",
       "      <th>49</th>\n",
       "      <td>MA</td>\n",
       "      <td>2191</td>\n",
       "      <td>111978</td>\n",
       "      <td>0.020</td>\n",
       "    </tr>\n",
       "    <tr>\n",
       "      <th>50</th>\n",
       "      <td>DC</td>\n",
       "      <td>37</td>\n",
       "      <td>2423</td>\n",
       "      <td>0.015</td>\n",
       "    </tr>\n",
       "  </tbody>\n",
       "</table>\n",
       "</div>"
      ],
      "text/plain": [
       "   LEA_STATE  de_total_enrollment  total_enrollment  de_pct_enrolled\n",
       "0         IN                66629            268730            0.248\n",
       "1         ID                14737             65153            0.226\n",
       "2         WA                49621            222774            0.223\n",
       "3         IA                29874            139235            0.215\n",
       "4         WI                44335            209143            0.212\n",
       "5         KS                23678            117394            0.202\n",
       "6         WY                 4749             23465            0.202\n",
       "7         OR                26100            131346            0.199\n",
       "8         UT                22785            131428            0.173\n",
       "9         NY                69360            406870            0.170\n",
       "10        MO                35798            234203            0.153\n",
       "11        CT                13691             95363            0.144\n",
       "12        NM                 9758             68366            0.143\n",
       "13        NE                12905             91368            0.141\n",
       "14        AZ                29295            208106            0.141\n",
       "15        ND                 4250             31336            0.136\n",
       "16        MN                23433            185566            0.126\n",
       "17        AR                13086            104492            0.125\n",
       "18        NJ                28724            254864            0.113\n",
       "19        KY                17440            163418            0.107\n",
       "20        IL                49123            469813            0.105\n",
       "21        OH                43295            418599            0.103\n",
       "22        TX               123910           1257751            0.099\n",
       "23        LA                14924            157778            0.095\n",
       "24        VA                30343            324051            0.094\n",
       "25        SD                 3207             34770            0.092\n",
       "26        NC                28573            310145            0.092\n",
       "27        NH                 3074             35100            0.088\n",
       "28        MT                 2925             34541            0.085\n",
       "29        TN                19568            246139            0.079\n",
       "30        AK                 1479             18739            0.079\n",
       "31        CO                15150            197755            0.077\n",
       "32        PA                23268            312143            0.075\n",
       "33        WV                 4474             60892            0.073\n",
       "34        MS                 8071            113862            0.071\n",
       "35        VT                 1602             22585            0.071\n",
       "36        FL                49813            727661            0.068\n",
       "37        RI                 1231             18618            0.066\n",
       "38        SC                12916            201401            0.064\n",
       "39        ME                 2118             34786            0.061\n",
       "40        OK                 7856            140465            0.056\n",
       "41        AL                 9015            164946            0.055\n",
       "42        NV                 2172             39924            0.054\n",
       "43        MI                17546            343364            0.051\n",
       "44        DE                 1010             20288            0.050\n",
       "45        HI                 2354             49196            0.048\n",
       "46        CA                29093            613226            0.047\n",
       "47        GA                19031            463314            0.041\n",
       "48        MD                 6208            224512            0.028\n",
       "49        MA                 2191            111978            0.020\n",
       "50        DC                   37              2423            0.015"
      ]
     },
     "execution_count": 80,
     "metadata": {},
     "output_type": "execute_result"
    }
   ],
   "source": [
    "de_state['de_pct_enrolled'] = round(de_state['de_total_enrollment'] / de_state['total_enrollment'], 3)\n",
    "de_state.sort_values('de_pct_enrolled', ascending = False).reset_index().drop('index', axis = 1)"
   ]
  },
  {
   "cell_type": "code",
   "execution_count": 81,
   "metadata": {},
   "outputs": [],
   "source": [
    "de_data = dict(type = 'choropleth',\n",
    "            locations = de_state['LEA_STATE'],\n",
    "            locationmode = 'USA-states',\n",
    "            z = de_state['de_pct_enrolled'])\n",
    "\n",
    "de_layout = dict(title = 'Percentage of Total Enrollment in DE',\n",
    "    geo = {'scope':'usa'})\n",
    "\n",
    "de_choromap = go.Figure(data = [de_data], layout = de_layout)"
   ]
  },
  {
   "cell_type": "code",
   "execution_count": 82,
   "metadata": {},
   "outputs": [
    {
     "data": {
      "application/vnd.plotly.v1+json": {
       "data": [
        {
         "locationmode": "USA-states",
         "locations": [
          "AK",
          "AL",
          "AR",
          "AZ",
          "CA",
          "CO",
          "CT",
          "DC",
          "DE",
          "FL",
          "GA",
          "HI",
          "IA",
          "ID",
          "IL",
          "IN",
          "KS",
          "KY",
          "LA",
          "MA",
          "MD",
          "ME",
          "MI",
          "MN",
          "MO",
          "MS",
          "MT",
          "NC",
          "ND",
          "NE",
          "NH",
          "NJ",
          "NM",
          "NV",
          "NY",
          "OH",
          "OK",
          "OR",
          "PA",
          "RI",
          "SC",
          "SD",
          "TN",
          "TX",
          "UT",
          "VA",
          "VT",
          "WA",
          "WI",
          "WV",
          "WY"
         ],
         "type": "choropleth",
         "z": [
          0.079,
          0.055,
          0.125,
          0.141,
          0.047,
          0.077,
          0.144,
          0.015,
          0.05,
          0.068,
          0.041,
          0.048,
          0.215,
          0.226,
          0.105,
          0.248,
          0.202,
          0.107,
          0.095,
          0.02,
          0.028,
          0.061,
          0.051,
          0.126,
          0.153,
          0.071,
          0.085,
          0.092,
          0.136,
          0.141,
          0.088,
          0.113,
          0.143,
          0.054,
          0.17,
          0.103,
          0.056,
          0.199,
          0.075,
          0.066,
          0.064,
          0.092,
          0.079,
          0.099,
          0.173,
          0.094,
          0.071,
          0.223,
          0.212,
          0.073,
          0.202
         ]
        }
       ],
       "layout": {
        "geo": {
         "scope": "usa"
        },
        "title": "Percentage of Total Enrollment in DE"
       }
      },
      "text/html": [
       "<div id=\"5c8253fb-0fd7-4629-a77e-c5125552d3f0\" style=\"height: 525px; width: 100%;\" class=\"plotly-graph-div\"></div><script type=\"text/javascript\">require([\"plotly\"], function(Plotly) { window.PLOTLYENV=window.PLOTLYENV || {};window.PLOTLYENV.BASE_URL=\"https://plot.ly\";Plotly.newPlot(\"5c8253fb-0fd7-4629-a77e-c5125552d3f0\", [{\"type\": \"choropleth\", \"locations\": [\"AK\", \"AL\", \"AR\", \"AZ\", \"CA\", \"CO\", \"CT\", \"DC\", \"DE\", \"FL\", \"GA\", \"HI\", \"IA\", \"ID\", \"IL\", \"IN\", \"KS\", \"KY\", \"LA\", \"MA\", \"MD\", \"ME\", \"MI\", \"MN\", \"MO\", \"MS\", \"MT\", \"NC\", \"ND\", \"NE\", \"NH\", \"NJ\", \"NM\", \"NV\", \"NY\", \"OH\", \"OK\", \"OR\", \"PA\", \"RI\", \"SC\", \"SD\", \"TN\", \"TX\", \"UT\", \"VA\", \"VT\", \"WA\", \"WI\", \"WV\", \"WY\"], \"locationmode\": \"USA-states\", \"z\": [0.079, 0.055, 0.125, 0.141, 0.047, 0.077, 0.144, 0.015, 0.05, 0.068, 0.041, 0.048, 0.215, 0.226, 0.105, 0.248, 0.202, 0.107, 0.095, 0.02, 0.028, 0.061, 0.051, 0.126, 0.153, 0.071, 0.085, 0.092, 0.136, 0.141, 0.088, 0.113, 0.143, 0.054, 0.17, 0.103, 0.056, 0.199, 0.075, 0.066, 0.064, 0.092, 0.079, 0.099, 0.173, 0.094, 0.071, 0.223, 0.212, 0.073, 0.202]}], {\"title\": \"Percentage of Total Enrollment in DE\", \"geo\": {\"scope\": \"usa\"}}, {\"showLink\": true, \"linkText\": \"Export to plot.ly\"})});</script>"
      ],
      "text/vnd.plotly.v1+html": [
       "<div id=\"5c8253fb-0fd7-4629-a77e-c5125552d3f0\" style=\"height: 525px; width: 100%;\" class=\"plotly-graph-div\"></div><script type=\"text/javascript\">require([\"plotly\"], function(Plotly) { window.PLOTLYENV=window.PLOTLYENV || {};window.PLOTLYENV.BASE_URL=\"https://plot.ly\";Plotly.newPlot(\"5c8253fb-0fd7-4629-a77e-c5125552d3f0\", [{\"type\": \"choropleth\", \"locations\": [\"AK\", \"AL\", \"AR\", \"AZ\", \"CA\", \"CO\", \"CT\", \"DC\", \"DE\", \"FL\", \"GA\", \"HI\", \"IA\", \"ID\", \"IL\", \"IN\", \"KS\", \"KY\", \"LA\", \"MA\", \"MD\", \"ME\", \"MI\", \"MN\", \"MO\", \"MS\", \"MT\", \"NC\", \"ND\", \"NE\", \"NH\", \"NJ\", \"NM\", \"NV\", \"NY\", \"OH\", \"OK\", \"OR\", \"PA\", \"RI\", \"SC\", \"SD\", \"TN\", \"TX\", \"UT\", \"VA\", \"VT\", \"WA\", \"WI\", \"WV\", \"WY\"], \"locationmode\": \"USA-states\", \"z\": [0.079, 0.055, 0.125, 0.141, 0.047, 0.077, 0.144, 0.015, 0.05, 0.068, 0.041, 0.048, 0.215, 0.226, 0.105, 0.248, 0.202, 0.107, 0.095, 0.02, 0.028, 0.061, 0.051, 0.126, 0.153, 0.071, 0.085, 0.092, 0.136, 0.141, 0.088, 0.113, 0.143, 0.054, 0.17, 0.103, 0.056, 0.199, 0.075, 0.066, 0.064, 0.092, 0.079, 0.099, 0.173, 0.094, 0.071, 0.223, 0.212, 0.073, 0.202]}], {\"title\": \"Percentage of Total Enrollment in DE\", \"geo\": {\"scope\": \"usa\"}}, {\"showLink\": true, \"linkText\": \"Export to plot.ly\"})});</script>"
      ]
     },
     "metadata": {},
     "output_type": "display_data"
    }
   ],
   "source": [
    "iplot(de_choromap)\n",
    "# iplot(de_choromap, image = 'png', filename='./Visualizations/by_state_de_choropleth')"
   ]
  },
  {
   "cell_type": "markdown",
   "metadata": {},
   "source": [
    "** AP **"
   ]
  },
  {
   "cell_type": "code",
   "execution_count": 83,
   "metadata": {},
   "outputs": [],
   "source": [
    "apOffering_state_total = crdc_1516_apYes.groupby('LEA_STATE')['total_enrollment'].sum().reset_index()\n",
    "ap_state_enrollment = crdc_1516_apYes.groupby('LEA_STATE')['ap_total_enrollment'].sum().reset_index()\n",
    "ap_state = ap_state_enrollment.merge(apOffering_state_total, how = 'inner', on = 'LEA_STATE')"
   ]
  },
  {
   "cell_type": "code",
   "execution_count": 84,
   "metadata": {},
   "outputs": [
    {
     "data": {
      "text/html": [
       "<div>\n",
       "<style scoped>\n",
       "    .dataframe tbody tr th:only-of-type {\n",
       "        vertical-align: middle;\n",
       "    }\n",
       "\n",
       "    .dataframe tbody tr th {\n",
       "        vertical-align: top;\n",
       "    }\n",
       "\n",
       "    .dataframe thead th {\n",
       "        text-align: right;\n",
       "    }\n",
       "</style>\n",
       "<table border=\"1\" class=\"dataframe\">\n",
       "  <thead>\n",
       "    <tr style=\"text-align: right;\">\n",
       "      <th></th>\n",
       "      <th>LEA_STATE</th>\n",
       "      <th>ap_total_enrollment</th>\n",
       "      <th>total_enrollment</th>\n",
       "      <th>ap_pct_enrolled</th>\n",
       "    </tr>\n",
       "  </thead>\n",
       "  <tbody>\n",
       "    <tr>\n",
       "      <th>0</th>\n",
       "      <td>MD</td>\n",
       "      <td>68539</td>\n",
       "      <td>231747</td>\n",
       "      <td>0.296</td>\n",
       "    </tr>\n",
       "    <tr>\n",
       "      <th>1</th>\n",
       "      <td>TX</td>\n",
       "      <td>325439</td>\n",
       "      <td>1291926</td>\n",
       "      <td>0.252</td>\n",
       "    </tr>\n",
       "    <tr>\n",
       "      <th>2</th>\n",
       "      <td>FL</td>\n",
       "      <td>186613</td>\n",
       "      <td>741462</td>\n",
       "      <td>0.252</td>\n",
       "    </tr>\n",
       "    <tr>\n",
       "      <th>3</th>\n",
       "      <td>DC</td>\n",
       "      <td>3359</td>\n",
       "      <td>13400</td>\n",
       "      <td>0.251</td>\n",
       "    </tr>\n",
       "    <tr>\n",
       "      <th>4</th>\n",
       "      <td>MN</td>\n",
       "      <td>45232</td>\n",
       "      <td>184803</td>\n",
       "      <td>0.245</td>\n",
       "    </tr>\n",
       "    <tr>\n",
       "      <th>5</th>\n",
       "      <td>CA</td>\n",
       "      <td>406208</td>\n",
       "      <td>1659517</td>\n",
       "      <td>0.245</td>\n",
       "    </tr>\n",
       "    <tr>\n",
       "      <th>6</th>\n",
       "      <td>CO</td>\n",
       "      <td>50244</td>\n",
       "      <td>206956</td>\n",
       "      <td>0.243</td>\n",
       "    </tr>\n",
       "    <tr>\n",
       "      <th>7</th>\n",
       "      <td>KY</td>\n",
       "      <td>43518</td>\n",
       "      <td>179773</td>\n",
       "      <td>0.242</td>\n",
       "    </tr>\n",
       "    <tr>\n",
       "      <th>8</th>\n",
       "      <td>GA</td>\n",
       "      <td>113201</td>\n",
       "      <td>473538</td>\n",
       "      <td>0.239</td>\n",
       "    </tr>\n",
       "    <tr>\n",
       "      <th>9</th>\n",
       "      <td>IL</td>\n",
       "      <td>120684</td>\n",
       "      <td>518673</td>\n",
       "      <td>0.233</td>\n",
       "    </tr>\n",
       "    <tr>\n",
       "      <th>10</th>\n",
       "      <td>VA</td>\n",
       "      <td>84563</td>\n",
       "      <td>366372</td>\n",
       "      <td>0.231</td>\n",
       "    </tr>\n",
       "    <tr>\n",
       "      <th>11</th>\n",
       "      <td>WI</td>\n",
       "      <td>52600</td>\n",
       "      <td>230352</td>\n",
       "      <td>0.228</td>\n",
       "    </tr>\n",
       "    <tr>\n",
       "      <th>12</th>\n",
       "      <td>WA</td>\n",
       "      <td>60291</td>\n",
       "      <td>265927</td>\n",
       "      <td>0.227</td>\n",
       "    </tr>\n",
       "    <tr>\n",
       "      <th>13</th>\n",
       "      <td>NM</td>\n",
       "      <td>15865</td>\n",
       "      <td>69899</td>\n",
       "      <td>0.227</td>\n",
       "    </tr>\n",
       "    <tr>\n",
       "      <th>14</th>\n",
       "      <td>UT</td>\n",
       "      <td>31763</td>\n",
       "      <td>140221</td>\n",
       "      <td>0.227</td>\n",
       "    </tr>\n",
       "    <tr>\n",
       "      <th>15</th>\n",
       "      <td>AR</td>\n",
       "      <td>29623</td>\n",
       "      <td>132791</td>\n",
       "      <td>0.223</td>\n",
       "    </tr>\n",
       "    <tr>\n",
       "      <th>16</th>\n",
       "      <td>CT</td>\n",
       "      <td>31801</td>\n",
       "      <td>142924</td>\n",
       "      <td>0.223</td>\n",
       "    </tr>\n",
       "    <tr>\n",
       "      <th>17</th>\n",
       "      <td>MA</td>\n",
       "      <td>50482</td>\n",
       "      <td>236750</td>\n",
       "      <td>0.213</td>\n",
       "    </tr>\n",
       "    <tr>\n",
       "      <th>18</th>\n",
       "      <td>NY</td>\n",
       "      <td>135054</td>\n",
       "      <td>660645</td>\n",
       "      <td>0.204</td>\n",
       "    </tr>\n",
       "    <tr>\n",
       "      <th>19</th>\n",
       "      <td>OR</td>\n",
       "      <td>25590</td>\n",
       "      <td>127035</td>\n",
       "      <td>0.201</td>\n",
       "    </tr>\n",
       "    <tr>\n",
       "      <th>20</th>\n",
       "      <td>NE</td>\n",
       "      <td>12897</td>\n",
       "      <td>65194</td>\n",
       "      <td>0.198</td>\n",
       "    </tr>\n",
       "    <tr>\n",
       "      <th>21</th>\n",
       "      <td>MI</td>\n",
       "      <td>67107</td>\n",
       "      <td>344894</td>\n",
       "      <td>0.195</td>\n",
       "    </tr>\n",
       "    <tr>\n",
       "      <th>22</th>\n",
       "      <td>ID</td>\n",
       "      <td>9849</td>\n",
       "      <td>51007</td>\n",
       "      <td>0.193</td>\n",
       "    </tr>\n",
       "    <tr>\n",
       "      <th>23</th>\n",
       "      <td>NJ</td>\n",
       "      <td>71410</td>\n",
       "      <td>371317</td>\n",
       "      <td>0.192</td>\n",
       "    </tr>\n",
       "    <tr>\n",
       "      <th>24</th>\n",
       "      <td>NV</td>\n",
       "      <td>23470</td>\n",
       "      <td>125236</td>\n",
       "      <td>0.187</td>\n",
       "    </tr>\n",
       "    <tr>\n",
       "      <th>25</th>\n",
       "      <td>IN</td>\n",
       "      <td>51772</td>\n",
       "      <td>280471</td>\n",
       "      <td>0.185</td>\n",
       "    </tr>\n",
       "    <tr>\n",
       "      <th>26</th>\n",
       "      <td>KS</td>\n",
       "      <td>16964</td>\n",
       "      <td>92643</td>\n",
       "      <td>0.183</td>\n",
       "    </tr>\n",
       "    <tr>\n",
       "      <th>27</th>\n",
       "      <td>OK</td>\n",
       "      <td>26606</td>\n",
       "      <td>146959</td>\n",
       "      <td>0.181</td>\n",
       "    </tr>\n",
       "    <tr>\n",
       "      <th>28</th>\n",
       "      <td>DE</td>\n",
       "      <td>5278</td>\n",
       "      <td>29330</td>\n",
       "      <td>0.180</td>\n",
       "    </tr>\n",
       "    <tr>\n",
       "      <th>29</th>\n",
       "      <td>AZ</td>\n",
       "      <td>46611</td>\n",
       "      <td>261683</td>\n",
       "      <td>0.178</td>\n",
       "    </tr>\n",
       "    <tr>\n",
       "      <th>30</th>\n",
       "      <td>AL</td>\n",
       "      <td>28137</td>\n",
       "      <td>161695</td>\n",
       "      <td>0.174</td>\n",
       "    </tr>\n",
       "    <tr>\n",
       "      <th>31</th>\n",
       "      <td>NC</td>\n",
       "      <td>70011</td>\n",
       "      <td>407493</td>\n",
       "      <td>0.172</td>\n",
       "    </tr>\n",
       "    <tr>\n",
       "      <th>32</th>\n",
       "      <td>PA</td>\n",
       "      <td>80469</td>\n",
       "      <td>468192</td>\n",
       "      <td>0.172</td>\n",
       "    </tr>\n",
       "    <tr>\n",
       "      <th>33</th>\n",
       "      <td>MO</td>\n",
       "      <td>32632</td>\n",
       "      <td>191517</td>\n",
       "      <td>0.170</td>\n",
       "    </tr>\n",
       "    <tr>\n",
       "      <th>34</th>\n",
       "      <td>ME</td>\n",
       "      <td>8296</td>\n",
       "      <td>49657</td>\n",
       "      <td>0.167</td>\n",
       "    </tr>\n",
       "    <tr>\n",
       "      <th>35</th>\n",
       "      <td>AK</td>\n",
       "      <td>4068</td>\n",
       "      <td>24644</td>\n",
       "      <td>0.165</td>\n",
       "    </tr>\n",
       "    <tr>\n",
       "      <th>36</th>\n",
       "      <td>VT</td>\n",
       "      <td>3561</td>\n",
       "      <td>22204</td>\n",
       "      <td>0.160</td>\n",
       "    </tr>\n",
       "    <tr>\n",
       "      <th>37</th>\n",
       "      <td>RI</td>\n",
       "      <td>5671</td>\n",
       "      <td>36071</td>\n",
       "      <td>0.157</td>\n",
       "    </tr>\n",
       "    <tr>\n",
       "      <th>38</th>\n",
       "      <td>OH</td>\n",
       "      <td>58416</td>\n",
       "      <td>392484</td>\n",
       "      <td>0.149</td>\n",
       "    </tr>\n",
       "    <tr>\n",
       "      <th>39</th>\n",
       "      <td>TN</td>\n",
       "      <td>31739</td>\n",
       "      <td>216093</td>\n",
       "      <td>0.147</td>\n",
       "    </tr>\n",
       "    <tr>\n",
       "      <th>40</th>\n",
       "      <td>WY</td>\n",
       "      <td>2739</td>\n",
       "      <td>18677</td>\n",
       "      <td>0.147</td>\n",
       "    </tr>\n",
       "    <tr>\n",
       "      <th>41</th>\n",
       "      <td>SC</td>\n",
       "      <td>28351</td>\n",
       "      <td>192582</td>\n",
       "      <td>0.147</td>\n",
       "    </tr>\n",
       "    <tr>\n",
       "      <th>42</th>\n",
       "      <td>IA</td>\n",
       "      <td>15469</td>\n",
       "      <td>106014</td>\n",
       "      <td>0.146</td>\n",
       "    </tr>\n",
       "    <tr>\n",
       "      <th>43</th>\n",
       "      <td>LA</td>\n",
       "      <td>21144</td>\n",
       "      <td>148194</td>\n",
       "      <td>0.143</td>\n",
       "    </tr>\n",
       "    <tr>\n",
       "      <th>44</th>\n",
       "      <td>MT</td>\n",
       "      <td>4662</td>\n",
       "      <td>32805</td>\n",
       "      <td>0.142</td>\n",
       "    </tr>\n",
       "    <tr>\n",
       "      <th>45</th>\n",
       "      <td>NH</td>\n",
       "      <td>7736</td>\n",
       "      <td>56101</td>\n",
       "      <td>0.138</td>\n",
       "    </tr>\n",
       "    <tr>\n",
       "      <th>46</th>\n",
       "      <td>ND</td>\n",
       "      <td>2669</td>\n",
       "      <td>19463</td>\n",
       "      <td>0.137</td>\n",
       "    </tr>\n",
       "    <tr>\n",
       "      <th>47</th>\n",
       "      <td>HI</td>\n",
       "      <td>6594</td>\n",
       "      <td>48451</td>\n",
       "      <td>0.136</td>\n",
       "    </tr>\n",
       "    <tr>\n",
       "      <th>48</th>\n",
       "      <td>WV</td>\n",
       "      <td>10058</td>\n",
       "      <td>74908</td>\n",
       "      <td>0.134</td>\n",
       "    </tr>\n",
       "    <tr>\n",
       "      <th>49</th>\n",
       "      <td>SD</td>\n",
       "      <td>3545</td>\n",
       "      <td>28921</td>\n",
       "      <td>0.123</td>\n",
       "    </tr>\n",
       "    <tr>\n",
       "      <th>50</th>\n",
       "      <td>MS</td>\n",
       "      <td>13011</td>\n",
       "      <td>111252</td>\n",
       "      <td>0.117</td>\n",
       "    </tr>\n",
       "  </tbody>\n",
       "</table>\n",
       "</div>"
      ],
      "text/plain": [
       "   LEA_STATE  ap_total_enrollment  total_enrollment  ap_pct_enrolled\n",
       "0         MD                68539            231747            0.296\n",
       "1         TX               325439           1291926            0.252\n",
       "2         FL               186613            741462            0.252\n",
       "3         DC                 3359             13400            0.251\n",
       "4         MN                45232            184803            0.245\n",
       "5         CA               406208           1659517            0.245\n",
       "6         CO                50244            206956            0.243\n",
       "7         KY                43518            179773            0.242\n",
       "8         GA               113201            473538            0.239\n",
       "9         IL               120684            518673            0.233\n",
       "10        VA                84563            366372            0.231\n",
       "11        WI                52600            230352            0.228\n",
       "12        WA                60291            265927            0.227\n",
       "13        NM                15865             69899            0.227\n",
       "14        UT                31763            140221            0.227\n",
       "15        AR                29623            132791            0.223\n",
       "16        CT                31801            142924            0.223\n",
       "17        MA                50482            236750            0.213\n",
       "18        NY               135054            660645            0.204\n",
       "19        OR                25590            127035            0.201\n",
       "20        NE                12897             65194            0.198\n",
       "21        MI                67107            344894            0.195\n",
       "22        ID                 9849             51007            0.193\n",
       "23        NJ                71410            371317            0.192\n",
       "24        NV                23470            125236            0.187\n",
       "25        IN                51772            280471            0.185\n",
       "26        KS                16964             92643            0.183\n",
       "27        OK                26606            146959            0.181\n",
       "28        DE                 5278             29330            0.180\n",
       "29        AZ                46611            261683            0.178\n",
       "30        AL                28137            161695            0.174\n",
       "31        NC                70011            407493            0.172\n",
       "32        PA                80469            468192            0.172\n",
       "33        MO                32632            191517            0.170\n",
       "34        ME                 8296             49657            0.167\n",
       "35        AK                 4068             24644            0.165\n",
       "36        VT                 3561             22204            0.160\n",
       "37        RI                 5671             36071            0.157\n",
       "38        OH                58416            392484            0.149\n",
       "39        TN                31739            216093            0.147\n",
       "40        WY                 2739             18677            0.147\n",
       "41        SC                28351            192582            0.147\n",
       "42        IA                15469            106014            0.146\n",
       "43        LA                21144            148194            0.143\n",
       "44        MT                 4662             32805            0.142\n",
       "45        NH                 7736             56101            0.138\n",
       "46        ND                 2669             19463            0.137\n",
       "47        HI                 6594             48451            0.136\n",
       "48        WV                10058             74908            0.134\n",
       "49        SD                 3545             28921            0.123\n",
       "50        MS                13011            111252            0.117"
      ]
     },
     "execution_count": 84,
     "metadata": {},
     "output_type": "execute_result"
    }
   ],
   "source": [
    "ap_state['ap_pct_enrolled'] = round(ap_state['ap_total_enrollment'] / ap_state['total_enrollment'], 3)\n",
    "ap_state.sort_values('ap_pct_enrolled', ascending = False).reset_index().drop('index', axis = 1)"
   ]
  },
  {
   "cell_type": "code",
   "execution_count": 85,
   "metadata": {},
   "outputs": [],
   "source": [
    "ap_data = dict(type = 'choropleth',\n",
    "            locations = ap_state['LEA_STATE'],\n",
    "            locationmode = 'USA-states',\n",
    "            z = ap_state['ap_pct_enrolled'])\n",
    "\n",
    "ap_layout = dict(title = 'Percentage of Total Enrollment in AP',\n",
    "    geo = {'scope':'usa'})\n",
    "\n",
    "ap_choromap = go.Figure(data = [ap_data], layout = ap_layout)"
   ]
  },
  {
   "cell_type": "code",
   "execution_count": 86,
   "metadata": {},
   "outputs": [
    {
     "data": {
      "application/vnd.plotly.v1+json": {
       "data": [
        {
         "locationmode": "USA-states",
         "locations": [
          "AK",
          "AL",
          "AR",
          "AZ",
          "CA",
          "CO",
          "CT",
          "DC",
          "DE",
          "FL",
          "GA",
          "HI",
          "IA",
          "ID",
          "IL",
          "IN",
          "KS",
          "KY",
          "LA",
          "MA",
          "MD",
          "ME",
          "MI",
          "MN",
          "MO",
          "MS",
          "MT",
          "NC",
          "ND",
          "NE",
          "NH",
          "NJ",
          "NM",
          "NV",
          "NY",
          "OH",
          "OK",
          "OR",
          "PA",
          "RI",
          "SC",
          "SD",
          "TN",
          "TX",
          "UT",
          "VA",
          "VT",
          "WA",
          "WI",
          "WV",
          "WY"
         ],
         "type": "choropleth",
         "z": [
          0.165,
          0.174,
          0.223,
          0.178,
          0.245,
          0.243,
          0.223,
          0.251,
          0.18,
          0.252,
          0.239,
          0.136,
          0.146,
          0.193,
          0.233,
          0.185,
          0.183,
          0.242,
          0.143,
          0.213,
          0.296,
          0.167,
          0.195,
          0.245,
          0.17,
          0.117,
          0.142,
          0.172,
          0.137,
          0.198,
          0.138,
          0.192,
          0.227,
          0.187,
          0.204,
          0.149,
          0.181,
          0.201,
          0.172,
          0.157,
          0.147,
          0.123,
          0.147,
          0.252,
          0.227,
          0.231,
          0.16,
          0.227,
          0.228,
          0.134,
          0.147
         ]
        }
       ],
       "layout": {
        "geo": {
         "scope": "usa"
        },
        "title": "Percentage of Total Enrollment in AP"
       }
      },
      "text/html": [
       "<div id=\"335ff8d2-8b4c-44fd-92b3-f3d5477826a5\" style=\"height: 525px; width: 100%;\" class=\"plotly-graph-div\"></div><script type=\"text/javascript\">require([\"plotly\"], function(Plotly) { window.PLOTLYENV=window.PLOTLYENV || {};window.PLOTLYENV.BASE_URL=\"https://plot.ly\";Plotly.newPlot(\"335ff8d2-8b4c-44fd-92b3-f3d5477826a5\", [{\"type\": \"choropleth\", \"locations\": [\"AK\", \"AL\", \"AR\", \"AZ\", \"CA\", \"CO\", \"CT\", \"DC\", \"DE\", \"FL\", \"GA\", \"HI\", \"IA\", \"ID\", \"IL\", \"IN\", \"KS\", \"KY\", \"LA\", \"MA\", \"MD\", \"ME\", \"MI\", \"MN\", \"MO\", \"MS\", \"MT\", \"NC\", \"ND\", \"NE\", \"NH\", \"NJ\", \"NM\", \"NV\", \"NY\", \"OH\", \"OK\", \"OR\", \"PA\", \"RI\", \"SC\", \"SD\", \"TN\", \"TX\", \"UT\", \"VA\", \"VT\", \"WA\", \"WI\", \"WV\", \"WY\"], \"locationmode\": \"USA-states\", \"z\": [0.165, 0.174, 0.223, 0.178, 0.245, 0.243, 0.223, 0.251, 0.18, 0.252, 0.239, 0.136, 0.146, 0.193, 0.233, 0.185, 0.183, 0.242, 0.143, 0.213, 0.296, 0.167, 0.195, 0.245, 0.17, 0.117, 0.142, 0.172, 0.137, 0.198, 0.138, 0.192, 0.227, 0.187, 0.204, 0.149, 0.181, 0.201, 0.172, 0.157, 0.147, 0.123, 0.147, 0.252, 0.227, 0.231, 0.16, 0.227, 0.228, 0.134, 0.147]}], {\"title\": \"Percentage of Total Enrollment in AP\", \"geo\": {\"scope\": \"usa\"}}, {\"showLink\": true, \"linkText\": \"Export to plot.ly\"})});</script>"
      ],
      "text/vnd.plotly.v1+html": [
       "<div id=\"335ff8d2-8b4c-44fd-92b3-f3d5477826a5\" style=\"height: 525px; width: 100%;\" class=\"plotly-graph-div\"></div><script type=\"text/javascript\">require([\"plotly\"], function(Plotly) { window.PLOTLYENV=window.PLOTLYENV || {};window.PLOTLYENV.BASE_URL=\"https://plot.ly\";Plotly.newPlot(\"335ff8d2-8b4c-44fd-92b3-f3d5477826a5\", [{\"type\": \"choropleth\", \"locations\": [\"AK\", \"AL\", \"AR\", \"AZ\", \"CA\", \"CO\", \"CT\", \"DC\", \"DE\", \"FL\", \"GA\", \"HI\", \"IA\", \"ID\", \"IL\", \"IN\", \"KS\", \"KY\", \"LA\", \"MA\", \"MD\", \"ME\", \"MI\", \"MN\", \"MO\", \"MS\", \"MT\", \"NC\", \"ND\", \"NE\", \"NH\", \"NJ\", \"NM\", \"NV\", \"NY\", \"OH\", \"OK\", \"OR\", \"PA\", \"RI\", \"SC\", \"SD\", \"TN\", \"TX\", \"UT\", \"VA\", \"VT\", \"WA\", \"WI\", \"WV\", \"WY\"], \"locationmode\": \"USA-states\", \"z\": [0.165, 0.174, 0.223, 0.178, 0.245, 0.243, 0.223, 0.251, 0.18, 0.252, 0.239, 0.136, 0.146, 0.193, 0.233, 0.185, 0.183, 0.242, 0.143, 0.213, 0.296, 0.167, 0.195, 0.245, 0.17, 0.117, 0.142, 0.172, 0.137, 0.198, 0.138, 0.192, 0.227, 0.187, 0.204, 0.149, 0.181, 0.201, 0.172, 0.157, 0.147, 0.123, 0.147, 0.252, 0.227, 0.231, 0.16, 0.227, 0.228, 0.134, 0.147]}], {\"title\": \"Percentage of Total Enrollment in AP\", \"geo\": {\"scope\": \"usa\"}}, {\"showLink\": true, \"linkText\": \"Export to plot.ly\"})});</script>"
      ]
     },
     "metadata": {},
     "output_type": "display_data"
    }
   ],
   "source": [
    "iplot(ap_choromap)\n",
    "# iplot(de_choromap, image = 'png', filename='./Visualizations/by_state_de_choropleth')"
   ]
  },
  {
   "cell_type": "markdown",
   "metadata": {},
   "source": [
    "# VII. By Region"
   ]
  },
  {
   "cell_type": "markdown",
   "metadata": {},
   "source": [
    "**DE**"
   ]
  },
  {
   "cell_type": "code",
   "execution_count": 87,
   "metadata": {},
   "outputs": [],
   "source": [
    "deOffering_region_total = crdc_1516_deYes.groupby('region_accred')['total_enrollment'].sum().reset_index()\n",
    "de_region_enrollment = crdc_1516_deYes.groupby('region_accred')['de_total_enrollment'].sum().reset_index()\n",
    "de_region = de_region_enrollment.merge(deOffering_region_total, how = 'inner', on = 'region_accred')"
   ]
  },
  {
   "cell_type": "code",
   "execution_count": 88,
   "metadata": {},
   "outputs": [
    {
     "data": {
      "text/html": [
       "<div>\n",
       "<style scoped>\n",
       "    .dataframe tbody tr th:only-of-type {\n",
       "        vertical-align: middle;\n",
       "    }\n",
       "\n",
       "    .dataframe tbody tr th {\n",
       "        vertical-align: top;\n",
       "    }\n",
       "\n",
       "    .dataframe thead th {\n",
       "        text-align: right;\n",
       "    }\n",
       "</style>\n",
       "<table border=\"1\" class=\"dataframe\">\n",
       "  <thead>\n",
       "    <tr style=\"text-align: right;\">\n",
       "      <th></th>\n",
       "      <th>region_accred</th>\n",
       "      <th>de_total_enrollment</th>\n",
       "      <th>total_enrollment</th>\n",
       "      <th>de_pct_enrolled</th>\n",
       "    </tr>\n",
       "  </thead>\n",
       "  <tbody>\n",
       "    <tr>\n",
       "      <th>0</th>\n",
       "      <td>NWCCU</td>\n",
       "      <td>119819</td>\n",
       "      <td>643905</td>\n",
       "      <td>0.186</td>\n",
       "    </tr>\n",
       "    <tr>\n",
       "      <th>1</th>\n",
       "      <td>HLC</td>\n",
       "      <td>438441</td>\n",
       "      <td>3347062</td>\n",
       "      <td>0.131</td>\n",
       "    </tr>\n",
       "    <tr>\n",
       "      <th>2</th>\n",
       "      <td>MSCHE</td>\n",
       "      <td>128607</td>\n",
       "      <td>1221100</td>\n",
       "      <td>0.105</td>\n",
       "    </tr>\n",
       "    <tr>\n",
       "      <th>3</th>\n",
       "      <td>SACS</td>\n",
       "      <td>333604</td>\n",
       "      <td>4130466</td>\n",
       "      <td>0.081</td>\n",
       "    </tr>\n",
       "    <tr>\n",
       "      <th>4</th>\n",
       "      <td>NEASC</td>\n",
       "      <td>23907</td>\n",
       "      <td>318430</td>\n",
       "      <td>0.075</td>\n",
       "    </tr>\n",
       "    <tr>\n",
       "      <th>5</th>\n",
       "      <td>WASC</td>\n",
       "      <td>31447</td>\n",
       "      <td>662422</td>\n",
       "      <td>0.047</td>\n",
       "    </tr>\n",
       "  </tbody>\n",
       "</table>\n",
       "</div>"
      ],
      "text/plain": [
       "  region_accred  de_total_enrollment  total_enrollment  de_pct_enrolled\n",
       "0         NWCCU               119819            643905            0.186\n",
       "1           HLC               438441           3347062            0.131\n",
       "2         MSCHE               128607           1221100            0.105\n",
       "3          SACS               333604           4130466            0.081\n",
       "4         NEASC                23907            318430            0.075\n",
       "5          WASC                31447            662422            0.047"
      ]
     },
     "execution_count": 88,
     "metadata": {},
     "output_type": "execute_result"
    }
   ],
   "source": [
    "de_region['de_pct_enrolled'] = round(de_region['de_total_enrollment'] / de_region['total_enrollment'], 3)\n",
    "de_region.sort_values('de_pct_enrolled', ascending = False).reset_index().drop('index', axis = 1)"
   ]
  },
  {
   "cell_type": "markdown",
   "metadata": {},
   "source": [
    "**AP**"
   ]
  },
  {
   "cell_type": "code",
   "execution_count": 89,
   "metadata": {},
   "outputs": [],
   "source": [
    "apOffering_region_total = crdc_1516_apYes.groupby('region_accred')['total_enrollment'].sum().reset_index()\n",
    "ap_region_enrollment = crdc_1516_apYes.groupby('region_accred')['ap_total_enrollment'].sum().reset_index()\n",
    "ap_region = ap_region_enrollment.merge(apOffering_region_total, how = 'inner', on = 'region_accred')"
   ]
  },
  {
   "cell_type": "code",
   "execution_count": 90,
   "metadata": {},
   "outputs": [
    {
     "data": {
      "text/html": [
       "<div>\n",
       "<style scoped>\n",
       "    .dataframe tbody tr th:only-of-type {\n",
       "        vertical-align: middle;\n",
       "    }\n",
       "\n",
       "    .dataframe tbody tr th {\n",
       "        vertical-align: top;\n",
       "    }\n",
       "\n",
       "    .dataframe thead th {\n",
       "        text-align: right;\n",
       "    }\n",
       "</style>\n",
       "<table border=\"1\" class=\"dataframe\">\n",
       "  <thead>\n",
       "    <tr style=\"text-align: right;\">\n",
       "      <th></th>\n",
       "      <th>region_accred</th>\n",
       "      <th>ap_total_enrollment</th>\n",
       "      <th>total_enrollment</th>\n",
       "      <th>ap_pct_enrolled</th>\n",
       "    </tr>\n",
       "  </thead>\n",
       "  <tbody>\n",
       "    <tr>\n",
       "      <th>0</th>\n",
       "      <td>WASC</td>\n",
       "      <td>412802</td>\n",
       "      <td>1707968</td>\n",
       "      <td>0.242</td>\n",
       "    </tr>\n",
       "    <tr>\n",
       "      <th>1</th>\n",
       "      <td>SACS</td>\n",
       "      <td>945727</td>\n",
       "      <td>4290380</td>\n",
       "      <td>0.220</td>\n",
       "    </tr>\n",
       "    <tr>\n",
       "      <th>2</th>\n",
       "      <td>NWCCU</td>\n",
       "      <td>159693</td>\n",
       "      <td>766875</td>\n",
       "      <td>0.208</td>\n",
       "    </tr>\n",
       "    <tr>\n",
       "      <th>3</th>\n",
       "      <td>MSCHE</td>\n",
       "      <td>364109</td>\n",
       "      <td>1774631</td>\n",
       "      <td>0.205</td>\n",
       "    </tr>\n",
       "    <tr>\n",
       "      <th>4</th>\n",
       "      <td>NEASC</td>\n",
       "      <td>107547</td>\n",
       "      <td>543707</td>\n",
       "      <td>0.198</td>\n",
       "    </tr>\n",
       "    <tr>\n",
       "      <th>5</th>\n",
       "      <td>HLC</td>\n",
       "      <td>661733</td>\n",
       "      <td>3367302</td>\n",
       "      <td>0.197</td>\n",
       "    </tr>\n",
       "  </tbody>\n",
       "</table>\n",
       "</div>"
      ],
      "text/plain": [
       "  region_accred  ap_total_enrollment  total_enrollment  ap_pct_enrolled\n",
       "0          WASC               412802           1707968            0.242\n",
       "1          SACS               945727           4290380            0.220\n",
       "2         NWCCU               159693            766875            0.208\n",
       "3         MSCHE               364109           1774631            0.205\n",
       "4         NEASC               107547            543707            0.198\n",
       "5           HLC               661733           3367302            0.197"
      ]
     },
     "execution_count": 90,
     "metadata": {},
     "output_type": "execute_result"
    }
   ],
   "source": [
    "ap_region['ap_pct_enrolled'] = round(ap_region['ap_total_enrollment'] / ap_region['total_enrollment'], 3)\n",
    "ap_region.sort_values('ap_pct_enrolled', ascending = False).reset_index().drop('index', axis = 1)"
   ]
  },
  {
   "cell_type": "markdown",
   "metadata": {},
   "source": [
    "**Visualizations**"
   ]
  },
  {
   "cell_type": "code",
   "execution_count": 91,
   "metadata": {},
   "outputs": [
    {
     "data": {
      "text/plain": [
       "Text(0,0.5,'Percent Enrolled in AP')"
      ]
     },
     "execution_count": 91,
     "metadata": {},
     "output_type": "execute_result"
    },
    {
     "data": {
      "image/png": "[encoded data removed]",
      "text/plain": [
       "<Figure size 792x288 with 2 Axes>"
      ]
     },
     "metadata": {},
     "output_type": "display_data"
    }
   ],
   "source": [
    "fig, (ax1,ax2) = plt.subplots(1,2, figsize = (11,4))\n",
    "\n",
    "plt.sca(ax1)\n",
    "de_region.plot.bar(x='region_accred', y='de_pct_enrolled', ax=ax1)\n",
    "plt.title('DE Participation in DE-Offering Schools\\n by Region')\n",
    "plt.xticks(rotation = 0)\n",
    "plt.legend([])\n",
    "plt.yticks(np.arange(0,.3,.05))\n",
    "plt.xlabel('')\n",
    "plt.ylabel('Percent Enrolled in DE')\n",
    "\n",
    "plt.sca(ax2)\n",
    "ap_region.plot.bar(x='region_accred', y='ap_pct_enrolled', ax=ax2)\n",
    "plt.title('AP Participation in AP-Offering Schools\\n by Region')\n",
    "plt.xticks(rotation = 0)\n",
    "plt.legend([])\n",
    "plt.yticks(np.arange(0,.3,.05))\n",
    "plt.xlabel('')\n",
    "plt.ylabel('Percent Enrolled in AP')"
   ]
  },
  {
   "cell_type": "code",
   "execution_count": 92,
   "metadata": {},
   "outputs": [
    {
     "data": {
      "text/plain": [
       "(-1.1569585396974942,\n",
       " 1.166412028921311,\n",
       " -1.170976915393207,\n",
       " 1.1782154936581961)"
      ]
     },
     "execution_count": 92,
     "metadata": {},
     "output_type": "execute_result"
    },
    {
     "data": {
      "image/png": "[encoded data removed]",
      "text/plain": [
       "<Figure size 720x720 with 2 Axes>"
      ]
     },
     "metadata": {},
     "output_type": "display_data"
    }
   ],
   "source": [
    "f, (ax1,ax2) = plt.subplots(2,1, figsize = (10,10))\n",
    "\n",
    "plt.sca(ax1)\n",
    "a1 = de_region.plot.pie(y = 'de_total_enrollment',\n",
    "                        autopct='%1.1f%%', explode = [.05 for i in range(len(de_region))],\n",
    "                        startangle = -30, pctdistance=1.25, labels = None, fontsize = 13, ax=ax1)\n",
    "plt.legend(labels = de_region.region_accred,\n",
    "           bbox_to_anchor = (1,0.71), title = 'Region',\n",
    "          frameon=True)\n",
    "plt.ylabel('')\n",
    "plt.title('Percentage of Total DE Enrollment by Region')\n",
    "centre_circle = plt.Circle((0,0),0.6,fc='white')\n",
    "a1.add_artist(centre_circle)\n",
    "a1.axis('equal')\n",
    "\n",
    "plt.sca(ax2)\n",
    "a2 = ap_region.plot.pie(y = 'ap_total_enrollment',\n",
    "                        autopct='%1.1f%%', explode = [.05 for i in range(len(ap_region))],\n",
    "                        startangle = 10, pctdistance=1.25, labels = None, fontsize = 13, ax=ax2)\n",
    "plt.legend(labels = ap_region.region_accred,\n",
    "           bbox_to_anchor = (1,0.71), title = 'Region',\n",
    "          frameon=True)\n",
    "plt.ylabel('')\n",
    "plt.title('Percentage of Total AP Enrollment by Region')\n",
    "centre_circle = plt.Circle((0,0),0.6,fc='white')\n",
    "a2.add_artist(centre_circle)\n",
    "a2.axis('equal')"
   ]
  },
  {
   "cell_type": "markdown",
   "metadata": {},
   "source": [
    "# VIII. By Ethnicity Percentage of School (Quintiles)"
   ]
  },
  {
   "cell_type": "markdown",
   "metadata": {},
   "source": [
    "**DE**"
   ]
  },
  {
   "cell_type": "code",
   "execution_count": 93,
   "metadata": {},
   "outputs": [],
   "source": [
    "deOffering_eth_total = crdc_1516_deYes.groupby('eth_quintile')['total_enrollment'].sum().reset_index()\n",
    "de_eth_enrollment = crdc_1516_deYes.groupby('eth_quintile')['de_total_enrollment'].sum().reset_index()\n",
    "de_eth = de_eth_enrollment.merge(deOffering_eth_total, how = 'inner', on = 'eth_quintile')"
   ]
  },
  {
   "cell_type": "code",
   "execution_count": 94,
   "metadata": {},
   "outputs": [
    {
     "data": {
      "text/html": [
       "<div>\n",
       "<style scoped>\n",
       "    .dataframe tbody tr th:only-of-type {\n",
       "        vertical-align: middle;\n",
       "    }\n",
       "\n",
       "    .dataframe tbody tr th {\n",
       "        vertical-align: top;\n",
       "    }\n",
       "\n",
       "    .dataframe thead th {\n",
       "        text-align: right;\n",
       "    }\n",
       "</style>\n",
       "<table border=\"1\" class=\"dataframe\">\n",
       "  <thead>\n",
       "    <tr style=\"text-align: right;\">\n",
       "      <th></th>\n",
       "      <th>de_total_enrollment</th>\n",
       "      <th>total_enrollment</th>\n",
       "      <th>de_pct_enrolled</th>\n",
       "    </tr>\n",
       "    <tr>\n",
       "      <th>eth_quintile</th>\n",
       "      <th></th>\n",
       "      <th></th>\n",
       "      <th></th>\n",
       "    </tr>\n",
       "  </thead>\n",
       "  <tbody>\n",
       "    <tr>\n",
       "      <th>0-20%</th>\n",
       "      <td>383763</td>\n",
       "      <td>2832657</td>\n",
       "      <td>0.135</td>\n",
       "    </tr>\n",
       "    <tr>\n",
       "      <th>21-40%</th>\n",
       "      <td>269314</td>\n",
       "      <td>2347801</td>\n",
       "      <td>0.115</td>\n",
       "    </tr>\n",
       "    <tr>\n",
       "      <th>41-60%</th>\n",
       "      <td>166238</td>\n",
       "      <td>1848800</td>\n",
       "      <td>0.090</td>\n",
       "    </tr>\n",
       "    <tr>\n",
       "      <th>61-80%</th>\n",
       "      <td>113906</td>\n",
       "      <td>1306518</td>\n",
       "      <td>0.087</td>\n",
       "    </tr>\n",
       "    <tr>\n",
       "      <th>81-100%</th>\n",
       "      <td>142604</td>\n",
       "      <td>1987609</td>\n",
       "      <td>0.072</td>\n",
       "    </tr>\n",
       "  </tbody>\n",
       "</table>\n",
       "</div>"
      ],
      "text/plain": [
       "              de_total_enrollment  total_enrollment  de_pct_enrolled\n",
       "eth_quintile                                                        \n",
       "0-20%                      383763           2832657            0.135\n",
       "21-40%                     269314           2347801            0.115\n",
       "41-60%                     166238           1848800            0.090\n",
       "61-80%                     113906           1306518            0.087\n",
       "81-100%                    142604           1987609            0.072"
      ]
     },
     "execution_count": 94,
     "metadata": {},
     "output_type": "execute_result"
    }
   ],
   "source": [
    "de_eth['de_pct_enrolled'] = round(de_eth['de_total_enrollment'] / de_eth['total_enrollment'], 3)\n",
    "de_eth.set_index('eth_quintile').rename({1:'0-20%',2:'21-40%',3:'41-60%',4:'61-80%',5:'81-100%'})"
   ]
  },
  {
   "cell_type": "markdown",
   "metadata": {},
   "source": [
    "**AP**"
   ]
  },
  {
   "cell_type": "code",
   "execution_count": 95,
   "metadata": {},
   "outputs": [],
   "source": [
    "apOffering_eth_total = crdc_1516_apYes.groupby('eth_quintile')['total_enrollment'].sum().reset_index()\n",
    "ap_eth_enrollment = crdc_1516_apYes.groupby('eth_quintile')['ap_total_enrollment'].sum().reset_index()\n",
    "ap_eth = ap_eth_enrollment.merge(apOffering_eth_total, how = 'inner', on = 'eth_quintile')"
   ]
  },
  {
   "cell_type": "code",
   "execution_count": 96,
   "metadata": {},
   "outputs": [
    {
     "data": {
      "text/html": [
       "<div>\n",
       "<style scoped>\n",
       "    .dataframe tbody tr th:only-of-type {\n",
       "        vertical-align: middle;\n",
       "    }\n",
       "\n",
       "    .dataframe tbody tr th {\n",
       "        vertical-align: top;\n",
       "    }\n",
       "\n",
       "    .dataframe thead th {\n",
       "        text-align: right;\n",
       "    }\n",
       "</style>\n",
       "<table border=\"1\" class=\"dataframe\">\n",
       "  <thead>\n",
       "    <tr style=\"text-align: right;\">\n",
       "      <th></th>\n",
       "      <th>ap_total_enrollment</th>\n",
       "      <th>total_enrollment</th>\n",
       "      <th>ap_pct_enrolled</th>\n",
       "    </tr>\n",
       "    <tr>\n",
       "      <th>eth_quintile</th>\n",
       "      <th></th>\n",
       "      <th></th>\n",
       "      <th></th>\n",
       "    </tr>\n",
       "  </thead>\n",
       "  <tbody>\n",
       "    <tr>\n",
       "      <th>0-20%</th>\n",
       "      <td>546206</td>\n",
       "      <td>2929208</td>\n",
       "      <td>0.186</td>\n",
       "    </tr>\n",
       "    <tr>\n",
       "      <th>21-40%</th>\n",
       "      <td>626998</td>\n",
       "      <td>2685912</td>\n",
       "      <td>0.233</td>\n",
       "    </tr>\n",
       "    <tr>\n",
       "      <th>41-60%</th>\n",
       "      <td>541728</td>\n",
       "      <td>2265330</td>\n",
       "      <td>0.239</td>\n",
       "    </tr>\n",
       "    <tr>\n",
       "      <th>61-80%</th>\n",
       "      <td>390599</td>\n",
       "      <td>1749929</td>\n",
       "      <td>0.223</td>\n",
       "    </tr>\n",
       "    <tr>\n",
       "      <th>81-100%</th>\n",
       "      <td>546080</td>\n",
       "      <td>2820484</td>\n",
       "      <td>0.194</td>\n",
       "    </tr>\n",
       "  </tbody>\n",
       "</table>\n",
       "</div>"
      ],
      "text/plain": [
       "              ap_total_enrollment  total_enrollment  ap_pct_enrolled\n",
       "eth_quintile                                                        \n",
       "0-20%                      546206           2929208            0.186\n",
       "21-40%                     626998           2685912            0.233\n",
       "41-60%                     541728           2265330            0.239\n",
       "61-80%                     390599           1749929            0.223\n",
       "81-100%                    546080           2820484            0.194"
      ]
     },
     "execution_count": 96,
     "metadata": {},
     "output_type": "execute_result"
    }
   ],
   "source": [
    "ap_eth['ap_pct_enrolled'] = round(ap_eth['ap_total_enrollment'] / ap_eth['total_enrollment'], 3)\n",
    "ap_eth.set_index('eth_quintile').rename({1:'0-20%',2:'21-40%',3:'41-60%',4:'61-80%',5:'81-100%'})"
   ]
  },
  {
   "cell_type": "markdown",
   "metadata": {},
   "source": [
    "**Visualizations**"
   ]
  },
  {
   "cell_type": "code",
   "execution_count": 97,
   "metadata": {},
   "outputs": [
    {
     "data": {
      "text/plain": [
       "Text(0,0.5,'Percent Enrolled in AP')"
      ]
     },
     "execution_count": 97,
     "metadata": {},
     "output_type": "execute_result"
    },
    {
     "data": {
      "image/png": "[encoded data removed]",
      "text/plain": [
       "<Figure size 792x288 with 2 Axes>"
      ]
     },
     "metadata": {},
     "output_type": "display_data"
    }
   ],
   "source": [
    "fig, (ax1,ax2) = plt.subplots(1,2, figsize = (11,4))\n",
    "\n",
    "plt.sca(ax1)\n",
    "de_eth.plot.bar(x='eth_quintile', y='de_pct_enrolled', ax = ax1)\n",
    "plt.legend([])\n",
    "plt.title('DE Participation in DE-Offering Schools\\nBy Ethnicity Percentage Quintiles')\n",
    "plt.xticks(rotation = 0)\n",
    "plt.xticks([0,1,2,3,4], ['0-20%', '21-40%', '41-60%', '61-80%', '81-100%'])\n",
    "plt.yticks(np.arange(0,.3,.05))\n",
    "plt.xlabel('(Percentage non-white)')\n",
    "plt.ylabel('Percent Enrolled in DE')\n",
    "\n",
    "plt.sca(ax2)\n",
    "ap_eth.plot.bar(x='eth_quintile', y='ap_pct_enrolled', ax=ax2)\n",
    "plt.legend([])\n",
    "plt.title('AP Participation in AP-Offering Schools\\nBy Ethnicity Percentage Quintiles')\n",
    "plt.xticks(rotation = 0)\n",
    "plt.xticks([0,1,2,3,4], ['0-20%', '21-40%', '41-60%', '61-80%', '81-100%'])\n",
    "plt.yticks(np.arange(0,.3,.05))\n",
    "plt.xlabel('(Percentage non-white)')\n",
    "plt.ylabel('Percent Enrolled in AP')"
   ]
  },
  {
   "cell_type": "code",
   "execution_count": 98,
   "metadata": {},
   "outputs": [
    {
     "data": {
      "text/plain": [
       "(-1.173331502872161,\n",
       " 1.1747782321377842,\n",
       " -1.1563171913996253,\n",
       " 1.1625269008111812)"
      ]
     },
     "execution_count": 98,
     "metadata": {},
     "output_type": "execute_result"
    },
    {
     "data": {
      "image/png": "[encoded data removed]",
      "text/plain": [
       "<Figure size 720x720 with 2 Axes>"
      ]
     },
     "metadata": {},
     "output_type": "display_data"
    }
   ],
   "source": [
    "f, (ax1,ax2) = plt.subplots(2,1, figsize = (10,10))\n",
    "\n",
    "plt.sca(ax1)\n",
    "a1 = de_eth.plot.pie(y = 'de_total_enrollment',\n",
    "                        autopct='%1.1f%%', explode = [.05 for i in range(5)],\n",
    "                        startangle = -29, pctdistance=1.25, labels = None, fontsize = 13, ax=ax1)\n",
    "plt.legend(labels = ['0-20%', '21-40%', '41-60%', '61-80%', '81-100%'],\n",
    "           bbox_to_anchor = (1,0.71), title = 'Percentage Non-White',\n",
    "          frameon=True)\n",
    "plt.ylabel('')\n",
    "plt.title('Percentage of Total DE Enrollment by School Ethnicity Groups')\n",
    "centre_circle = plt.Circle((0,0),0.6,fc='white')\n",
    "a1.add_artist(centre_circle)\n",
    "a1.axis('equal')\n",
    "\n",
    "plt.sca(ax2)\n",
    "a2 = ap_eth.plot.pie(y = 'ap_total_enrollment',\n",
    "                        autopct='%1.1f%%', explode = [.05 for i in range(5)],\n",
    "                        startangle = 11, pctdistance=1.25, labels = None, fontsize = 13, ax=ax2)\n",
    "plt.legend(labels = ['0-20%', '21-40%', '41-60%', '61-80%', '81-100%'],\n",
    "           bbox_to_anchor = (1,0.71), title = 'Percentage Non-White',\n",
    "          frameon=True)\n",
    "plt.ylabel('')\n",
    "plt.title('Percentage of Total AP Enrollment by School Ethnicity Groups')\n",
    "centre_circle = plt.Circle((0,0),0.6,fc='white')\n",
    "a2.add_artist(centre_circle)\n",
    "a2.axis('equal')"
   ]
  },
  {
   "cell_type": "markdown",
   "metadata": {},
   "source": [
    "# IX. By Size"
   ]
  },
  {
   "cell_type": "markdown",
   "metadata": {},
   "source": [
    "**DE**"
   ]
  },
  {
   "cell_type": "code",
   "execution_count": 99,
   "metadata": {},
   "outputs": [],
   "source": [
    "deOffering_size_total = crdc_1516_deYes.groupby('size_group')['total_enrollment'].sum().reset_index()\n",
    "de_size_enrollment = crdc_1516_deYes.groupby('size_group')['de_total_enrollment'].sum().reset_index()\n",
    "de_size = de_size_enrollment.merge(deOffering_size_total, how = 'inner', on = 'size_group')"
   ]
  },
  {
   "cell_type": "code",
   "execution_count": 100,
   "metadata": {},
   "outputs": [
    {
     "data": {
      "text/html": [
       "<div>\n",
       "<style scoped>\n",
       "    .dataframe tbody tr th:only-of-type {\n",
       "        vertical-align: middle;\n",
       "    }\n",
       "\n",
       "    .dataframe tbody tr th {\n",
       "        vertical-align: top;\n",
       "    }\n",
       "\n",
       "    .dataframe thead th {\n",
       "        text-align: right;\n",
       "    }\n",
       "</style>\n",
       "<table border=\"1\" class=\"dataframe\">\n",
       "  <thead>\n",
       "    <tr style=\"text-align: right;\">\n",
       "      <th></th>\n",
       "      <th>size_group</th>\n",
       "      <th>de_total_enrollment</th>\n",
       "      <th>total_enrollment</th>\n",
       "      <th>de_pct_enrolled</th>\n",
       "    </tr>\n",
       "  </thead>\n",
       "  <tbody>\n",
       "    <tr>\n",
       "      <th>0</th>\n",
       "      <td>1</td>\n",
       "      <td>6660</td>\n",
       "      <td>40583</td>\n",
       "      <td>0.164</td>\n",
       "    </tr>\n",
       "    <tr>\n",
       "      <th>1</th>\n",
       "      <td>2</td>\n",
       "      <td>202442</td>\n",
       "      <td>1236363</td>\n",
       "      <td>0.164</td>\n",
       "    </tr>\n",
       "    <tr>\n",
       "      <th>2</th>\n",
       "      <td>3</td>\n",
       "      <td>308977</td>\n",
       "      <td>2702597</td>\n",
       "      <td>0.114</td>\n",
       "    </tr>\n",
       "    <tr>\n",
       "      <th>3</th>\n",
       "      <td>4</td>\n",
       "      <td>557746</td>\n",
       "      <td>6343842</td>\n",
       "      <td>0.088</td>\n",
       "    </tr>\n",
       "  </tbody>\n",
       "</table>\n",
       "</div>"
      ],
      "text/plain": [
       "   size_group  de_total_enrollment  total_enrollment  de_pct_enrolled\n",
       "0           1                 6660             40583            0.164\n",
       "1           2               202442           1236363            0.164\n",
       "2           3               308977           2702597            0.114\n",
       "3           4               557746           6343842            0.088"
      ]
     },
     "execution_count": 100,
     "metadata": {},
     "output_type": "execute_result"
    }
   ],
   "source": [
    "de_size['de_pct_enrolled'] = round(de_size['de_total_enrollment'] / de_size['total_enrollment'], 3)\n",
    "de_size"
   ]
  },
  {
   "cell_type": "markdown",
   "metadata": {},
   "source": [
    "**AP**"
   ]
  },
  {
   "cell_type": "code",
   "execution_count": 101,
   "metadata": {},
   "outputs": [],
   "source": [
    "apOffering_size_total = crdc_1516_apYes.groupby('size_group')['total_enrollment'].sum().reset_index()\n",
    "ap_size_enrollment = crdc_1516_apYes.groupby('size_group')['ap_total_enrollment'].sum().reset_index()\n",
    "ap_size = ap_size_enrollment.merge(apOffering_size_total, how = 'inner', on = 'size_group')"
   ]
  },
  {
   "cell_type": "code",
   "execution_count": 102,
   "metadata": {},
   "outputs": [
    {
     "data": {
      "text/html": [
       "<div>\n",
       "<style scoped>\n",
       "    .dataframe tbody tr th:only-of-type {\n",
       "        vertical-align: middle;\n",
       "    }\n",
       "\n",
       "    .dataframe tbody tr th {\n",
       "        vertical-align: top;\n",
       "    }\n",
       "\n",
       "    .dataframe thead th {\n",
       "        text-align: right;\n",
       "    }\n",
       "</style>\n",
       "<table border=\"1\" class=\"dataframe\">\n",
       "  <thead>\n",
       "    <tr style=\"text-align: right;\">\n",
       "      <th></th>\n",
       "      <th>size_group</th>\n",
       "      <th>ap_total_enrollment</th>\n",
       "      <th>total_enrollment</th>\n",
       "      <th>ap_pct_enrolled</th>\n",
       "    </tr>\n",
       "  </thead>\n",
       "  <tbody>\n",
       "    <tr>\n",
       "      <th>0</th>\n",
       "      <td>1</td>\n",
       "      <td>1338</td>\n",
       "      <td>10471</td>\n",
       "      <td>0.128</td>\n",
       "    </tr>\n",
       "    <tr>\n",
       "      <th>1</th>\n",
       "      <td>2</td>\n",
       "      <td>145701</td>\n",
       "      <td>1016408</td>\n",
       "      <td>0.143</td>\n",
       "    </tr>\n",
       "    <tr>\n",
       "      <th>2</th>\n",
       "      <td>3</td>\n",
       "      <td>566696</td>\n",
       "      <td>3224230</td>\n",
       "      <td>0.176</td>\n",
       "    </tr>\n",
       "    <tr>\n",
       "      <th>3</th>\n",
       "      <td>4</td>\n",
       "      <td>1937876</td>\n",
       "      <td>8199754</td>\n",
       "      <td>0.236</td>\n",
       "    </tr>\n",
       "  </tbody>\n",
       "</table>\n",
       "</div>"
      ],
      "text/plain": [
       "   size_group  ap_total_enrollment  total_enrollment  ap_pct_enrolled\n",
       "0           1                 1338             10471            0.128\n",
       "1           2               145701           1016408            0.143\n",
       "2           3               566696           3224230            0.176\n",
       "3           4              1937876           8199754            0.236"
      ]
     },
     "execution_count": 102,
     "metadata": {},
     "output_type": "execute_result"
    }
   ],
   "source": [
    "ap_size['ap_pct_enrolled'] = round(ap_size['ap_total_enrollment'] / ap_size['total_enrollment'], 3)\n",
    "ap_size"
   ]
  },
  {
   "cell_type": "markdown",
   "metadata": {},
   "source": [
    "**Visualizations**"
   ]
  },
  {
   "cell_type": "code",
   "execution_count": 103,
   "metadata": {},
   "outputs": [
    {
     "data": {
      "text/plain": [
       "Text(0,0.5,'Percent Enrolled in AP')"
      ]
     },
     "execution_count": 103,
     "metadata": {},
     "output_type": "execute_result"
    },
    {
     "data": {
      "image/png": "[encoded data removed]",
      "text/plain": [
       "<Figure size 792x288 with 2 Axes>"
      ]
     },
     "metadata": {},
     "output_type": "display_data"
    }
   ],
   "source": [
    "fig, (ax1,ax2) = plt.subplots(1,2, figsize=(11,4))\n",
    "\n",
    "plt.sca(ax1)\n",
    "de_size.plot.bar(x = 'size_group', y = 'de_pct_enrolled', ax=ax1)\n",
    "plt.xticks(rotation = 0)\n",
    "plt.legend([])\n",
    "plt.xlabel('')\n",
    "plt.title('DE Participation in DE-Offering Schools\\nBy Size ')\n",
    "plt.yticks(np.arange(0,0.3,.05))\n",
    "plt.xticks([0,1,2,3], ['<100', '100-499', '500-1199', '>1200'])\n",
    "plt.ylabel('Percent Enrolled in DE')\n",
    "\n",
    "plt.sca(ax2)\n",
    "ap_size.plot.bar(x = 'size_group', y = 'ap_pct_enrolled', ax=ax2)\n",
    "plt.xticks(rotation = 0)\n",
    "plt.legend([])\n",
    "plt.xlabel('')\n",
    "plt.title('AP Participation in AP-Offering Schools\\nBy Size ')\n",
    "plt.yticks(np.arange(0,0.3,.05))\n",
    "plt.xticks([0,1,2,3], ['<100', '100-499', '500-1199', '>1200'])\n",
    "plt.ylabel('Percent Enrolled in AP')"
   ]
  },
  {
   "cell_type": "code",
   "execution_count": 104,
   "metadata": {},
   "outputs": [
    {
     "data": {
      "text/plain": [
       "(-1.1125076328579717,\n",
       " 1.1007483066122628,\n",
       " -1.1129307420280175,\n",
       " 1.1190932888357266)"
      ]
     },
     "execution_count": 104,
     "metadata": {},
     "output_type": "execute_result"
    },
    {
     "data": {
      "image/png": "[encoded data removed]",
      "text/plain": [
       "<Figure size 720x720 with 2 Axes>"
      ]
     },
     "metadata": {},
     "output_type": "display_data"
    }
   ],
   "source": [
    "fig, (ax1,ax2) = plt.subplots(2,1, figsize=(10,10))\n",
    "\n",
    "plt.sca(ax1)\n",
    "a1 = de_size.plot.pie(y = 'de_total_enrollment',\n",
    "                        autopct='%1.1f%%', \n",
    "                        startangle = 0, pctdistance=1.25, labels = None, fontsize = 13, ax=ax1)\n",
    "plt.legend(labels = ['<100', '100-499', '500-1199', '>1200'], bbox_to_anchor = (1,0.71), title = 'Size of School',\n",
    "          frameon=True)\n",
    "plt.ylabel('')\n",
    "plt.title('Percentage of Total DE Enrollment by School Size Groups')\n",
    "centre_circle = plt.Circle((0,0),0.6,fc='white')\n",
    "a1.add_artist(centre_circle)\n",
    "a1.axis('equal')\n",
    "\n",
    "plt.sca(ax2)\n",
    "a2 = ap_size.plot.pie(y = 'ap_total_enrollment',\n",
    "                        autopct='%1.1f%%',\n",
    "                        startangle = -20, pctdistance=1.25, labels = None, fontsize = 13, ax=ax2)\n",
    "plt.legend(labels = ['<100', '100-499', '500-1199', '>1200'], bbox_to_anchor = (1,0.71), title = 'Size of School',\n",
    "          frameon=True)\n",
    "plt.ylabel('')\n",
    "plt.title('Percentage of Total AP Enrollment by School Size Groups')\n",
    "centre_circle = plt.Circle((0,0),0.6,fc='white')\n",
    "a2.add_artist(centre_circle)\n",
    "a2.axis('equal')"
   ]
  },
  {
   "cell_type": "code",
   "execution_count": null,
   "metadata": {},
   "outputs": [],
   "source": []
  }
 ],
 "metadata": {
  "kernelspec": {
   "display_name": "nacep_venv",
   "language": "python",
   "name": "nacep_venv"
  },
  "language_info": {
   "codemirror_mode": {
    "name": "ipython",
    "version": 3
   },
   "file_extension": ".py",
   "mimetype": "text/x-python",
   "name": "python",
   "nbconvert_exporter": "python",
   "pygments_lexer": "ipython3",
   "version": "3.6.5"
  }
 },
 "nbformat": 4,
 "nbformat_minor": 2
}
