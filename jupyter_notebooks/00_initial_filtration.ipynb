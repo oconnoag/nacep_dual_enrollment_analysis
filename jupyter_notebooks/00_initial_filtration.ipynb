{
 "cells": [
  {
   "cell_type": "markdown",
   "metadata": {},
   "source": [
    "# <u> The National Alliance of Concurrent Enrollment Partnerships </u>\n",
    "## 2015-16 Civil Rights Data Collection (CRDC)\n",
    "## Advanced Placement (AP) v. Dual Enrollment (DE)\n",
    "### Initial Filtration\n",
    "#### Alijah O'Connor - 2018\n",
    "------------------------------------------------------------------------------------\n",
    "---\n",
    "The basis for this entire project relies on the accuracy of establishing a dataset that includes only 'Traditional High Schools.' The definition we have chosen to use centers around schools that contain 11th or 12th grades, non-special education, non-juvenile justice, non-alternative schools; however, other filters include removing virtual schools, adult schools, schools without a matching National Center for Education Statistics (NCES) identifier (some excepetions).  Note that the dataset used herein inlcudes both the 2015-2016 CRDC school information, but also information gathered in the 2015-2016 NCES National Survey.  Below is the official filtration procedure:\n",
    "    - Join the uncompiled 2015-2016 NCES dataset into one dataset\n",
    "    - Join the compiled NCES dataset with the 2015-2016 CRDC dataset\n",
    "    \n",
    "    - Filter Out (Dataset Attribute in Parentheses)\n",
    "        - Special Education, Alternative, Juvenile Justice Schools (CRDC)\n",
    "        - Schools without 11th or 12 Grade (CRDC)\n",
    "        - Virtual Schools (NCES)\n",
    "        - Schools reported as 'Elementary', 'Middle', or 'Other' (NCES)\n",
    "        - Special Education and Alternative/Other (NCES)\n",
    "        - Schools with 'Adult' in the name\n",
    "    - Recover Some Schools that did not have matching NCES identifiers\n",
    "        - Join recovered schools with dataset\n",
    "        - Remove any remaining schools that did not match\n",
    "------------------------------------------------------------------------------------\n",
    "---"
   ]
  },
  {
   "cell_type": "code",
   "execution_count": 1,
   "metadata": {},
   "outputs": [],
   "source": [
    "import pandas as pd\n",
    "import numpy as np\n",
    "import seaborn as sns\n",
    "import matplotlib.pyplot as plt\n",
    "\n",
    "from my_functions import combokey_converter\n",
    "\n",
    "%matplotlib inline\n",
    "sns.set_style('whitegrid')\n",
    "plt.rc('axes', titlesize = 14, titleweight = 'bold', labelweight = 'bold')"
   ]
  },
  {
   "cell_type": "markdown",
   "metadata": {},
   "source": [
    "# <font color = green> II. Data Cleaning/Joining </font>"
   ]
  },
  {
   "cell_type": "markdown",
   "metadata": {},
   "source": [
    "# crdc_1516 Data\n",
    "<div class=\"alert alert-block alert-info\"><b> 96,360 Schools before any filtering <br>\n",
    "111 Fields (Matches the crdc_cols)</b></div>\n",
    "<br><br>\n",
    "Used combokey_convert.converter to create a csv-compatible \"COMBOKEY\""
   ]
  },
  {
   "cell_type": "code",
   "execution_count": 2,
   "metadata": {},
   "outputs": [],
   "source": [
    "crdc_1516 = pd.read_csv('../filtered_data/00_crdc_1516_initial.csv', \n",
    "                        dtype = {'LEAID':np.object})"
   ]
  },
  {
   "cell_type": "code",
   "execution_count": 3,
   "metadata": {},
   "outputs": [],
   "source": [
    "crdc_1516['COMBOKEY'] = combokey_converter.convert(crdc_1516, 'LEAID', 'SCHID')"
   ]
  },
  {
   "cell_type": "code",
   "execution_count": 4,
   "metadata": {},
   "outputs": [
    {
     "data": {
      "text/html": [
       "<div>\n",
       "<style scoped>\n",
       "    .dataframe tbody tr th:only-of-type {\n",
       "        vertical-align: middle;\n",
       "    }\n",
       "\n",
       "    .dataframe tbody tr th {\n",
       "        vertical-align: top;\n",
       "    }\n",
       "\n",
       "    .dataframe thead th {\n",
       "        text-align: right;\n",
       "    }\n",
       "</style>\n",
       "<table border=\"1\" class=\"dataframe\">\n",
       "  <thead>\n",
       "    <tr style=\"text-align: right;\">\n",
       "      <th></th>\n",
       "      <th>LEA_STATE</th>\n",
       "      <th>LEA_STATE_NAME</th>\n",
       "      <th>LEAID</th>\n",
       "      <th>LEA_NAME</th>\n",
       "      <th>SCHID</th>\n",
       "      <th>SCH_NAME</th>\n",
       "      <th>COMBOKEY</th>\n",
       "      <th>JJ</th>\n",
       "      <th>SCH_GRADE_PS</th>\n",
       "      <th>SCH_GRADE_KG</th>\n",
       "      <th>...</th>\n",
       "      <th>SCH_IBENR_WH_M</th>\n",
       "      <th>SCH_IBENR_WH_F</th>\n",
       "      <th>SCH_IBENR_TR_M</th>\n",
       "      <th>SCH_IBENR_TR_F</th>\n",
       "      <th>TOT_IBENR_M</th>\n",
       "      <th>TOT_IBENR_F</th>\n",
       "      <th>SCH_IBENR_LEP_M</th>\n",
       "      <th>SCH_IBENR_LEP_F</th>\n",
       "      <th>SCH_IBENR_IDEA_M</th>\n",
       "      <th>SCH_IBENR_IDEA_F</th>\n",
       "    </tr>\n",
       "  </thead>\n",
       "  <tbody>\n",
       "    <tr>\n",
       "      <th>0</th>\n",
       "      <td>AL</td>\n",
       "      <td>ALABAMA</td>\n",
       "      <td>100002</td>\n",
       "      <td>Alabama Youth Services</td>\n",
       "      <td>1705</td>\n",
       "      <td>Wallace Sch - Mt Meigs Campus</td>\n",
       "      <td>='010000201705'</td>\n",
       "      <td>Yes</td>\n",
       "      <td>No</td>\n",
       "      <td>No</td>\n",
       "      <td>...</td>\n",
       "      <td>-9</td>\n",
       "      <td>-9</td>\n",
       "      <td>-9</td>\n",
       "      <td>-9</td>\n",
       "      <td>-9</td>\n",
       "      <td>-9</td>\n",
       "      <td>-9</td>\n",
       "      <td>-9</td>\n",
       "      <td>-9</td>\n",
       "      <td>-9</td>\n",
       "    </tr>\n",
       "    <tr>\n",
       "      <th>1</th>\n",
       "      <td>AL</td>\n",
       "      <td>ALABAMA</td>\n",
       "      <td>100002</td>\n",
       "      <td>Alabama Youth Services</td>\n",
       "      <td>1706</td>\n",
       "      <td>McNeel Sch - Vacca Campus</td>\n",
       "      <td>='010000201706'</td>\n",
       "      <td>Yes</td>\n",
       "      <td>No</td>\n",
       "      <td>No</td>\n",
       "      <td>...</td>\n",
       "      <td>-9</td>\n",
       "      <td>-9</td>\n",
       "      <td>-9</td>\n",
       "      <td>-9</td>\n",
       "      <td>-9</td>\n",
       "      <td>-9</td>\n",
       "      <td>-9</td>\n",
       "      <td>-9</td>\n",
       "      <td>-9</td>\n",
       "      <td>-9</td>\n",
       "    </tr>\n",
       "    <tr>\n",
       "      <th>2</th>\n",
       "      <td>AL</td>\n",
       "      <td>ALABAMA</td>\n",
       "      <td>100002</td>\n",
       "      <td>Alabama Youth Services</td>\n",
       "      <td>1876</td>\n",
       "      <td>Alabama Youth Services</td>\n",
       "      <td>='010000201876'</td>\n",
       "      <td>No</td>\n",
       "      <td>No</td>\n",
       "      <td>No</td>\n",
       "      <td>...</td>\n",
       "      <td>-9</td>\n",
       "      <td>-9</td>\n",
       "      <td>-9</td>\n",
       "      <td>-9</td>\n",
       "      <td>-9</td>\n",
       "      <td>-9</td>\n",
       "      <td>-9</td>\n",
       "      <td>-9</td>\n",
       "      <td>-9</td>\n",
       "      <td>-9</td>\n",
       "    </tr>\n",
       "    <tr>\n",
       "      <th>3</th>\n",
       "      <td>AL</td>\n",
       "      <td>ALABAMA</td>\n",
       "      <td>100002</td>\n",
       "      <td>Alabama Youth Services</td>\n",
       "      <td>99995</td>\n",
       "      <td>AUTAUGA CAMPUS</td>\n",
       "      <td>='010000299995'</td>\n",
       "      <td>Yes</td>\n",
       "      <td>No</td>\n",
       "      <td>No</td>\n",
       "      <td>...</td>\n",
       "      <td>-9</td>\n",
       "      <td>-9</td>\n",
       "      <td>-9</td>\n",
       "      <td>-9</td>\n",
       "      <td>-9</td>\n",
       "      <td>-9</td>\n",
       "      <td>-9</td>\n",
       "      <td>-9</td>\n",
       "      <td>-9</td>\n",
       "      <td>-9</td>\n",
       "    </tr>\n",
       "    <tr>\n",
       "      <th>4</th>\n",
       "      <td>AL</td>\n",
       "      <td>ALABAMA</td>\n",
       "      <td>100005</td>\n",
       "      <td>Albertville City</td>\n",
       "      <td>870</td>\n",
       "      <td>Albertville Middle School</td>\n",
       "      <td>='010000500870'</td>\n",
       "      <td>No</td>\n",
       "      <td>No</td>\n",
       "      <td>No</td>\n",
       "      <td>...</td>\n",
       "      <td>-9</td>\n",
       "      <td>-9</td>\n",
       "      <td>-9</td>\n",
       "      <td>-9</td>\n",
       "      <td>-9</td>\n",
       "      <td>-9</td>\n",
       "      <td>-9</td>\n",
       "      <td>-9</td>\n",
       "      <td>-9</td>\n",
       "      <td>-9</td>\n",
       "    </tr>\n",
       "  </tbody>\n",
       "</table>\n",
       "<p>5 rows × 111 columns</p>\n",
       "</div>"
      ],
      "text/plain": [
       "  LEA_STATE LEA_STATE_NAME   LEAID                LEA_NAME  SCHID  \\\n",
       "0        AL        ALABAMA  100002  Alabama Youth Services   1705   \n",
       "1        AL        ALABAMA  100002  Alabama Youth Services   1706   \n",
       "2        AL        ALABAMA  100002  Alabama Youth Services   1876   \n",
       "3        AL        ALABAMA  100002  Alabama Youth Services  99995   \n",
       "4        AL        ALABAMA  100005        Albertville City    870   \n",
       "\n",
       "                        SCH_NAME         COMBOKEY   JJ SCH_GRADE_PS  \\\n",
       "0  Wallace Sch - Mt Meigs Campus  ='010000201705'  Yes           No   \n",
       "1      McNeel Sch - Vacca Campus  ='010000201706'  Yes           No   \n",
       "2         Alabama Youth Services  ='010000201876'   No           No   \n",
       "3                 AUTAUGA CAMPUS  ='010000299995'  Yes           No   \n",
       "4      Albertville Middle School  ='010000500870'   No           No   \n",
       "\n",
       "  SCH_GRADE_KG       ...        SCH_IBENR_WH_M SCH_IBENR_WH_F SCH_IBENR_TR_M  \\\n",
       "0           No       ...                    -9             -9             -9   \n",
       "1           No       ...                    -9             -9             -9   \n",
       "2           No       ...                    -9             -9             -9   \n",
       "3           No       ...                    -9             -9             -9   \n",
       "4           No       ...                    -9             -9             -9   \n",
       "\n",
       "  SCH_IBENR_TR_F TOT_IBENR_M TOT_IBENR_F SCH_IBENR_LEP_M SCH_IBENR_LEP_F  \\\n",
       "0             -9          -9          -9              -9              -9   \n",
       "1             -9          -9          -9              -9              -9   \n",
       "2             -9          -9          -9              -9              -9   \n",
       "3             -9          -9          -9              -9              -9   \n",
       "4             -9          -9          -9              -9              -9   \n",
       "\n",
       "  SCH_IBENR_IDEA_M SCH_IBENR_IDEA_F  \n",
       "0               -9               -9  \n",
       "1               -9               -9  \n",
       "2               -9               -9  \n",
       "3               -9               -9  \n",
       "4               -9               -9  \n",
       "\n",
       "[5 rows x 111 columns]"
      ]
     },
     "execution_count": 4,
     "metadata": {},
     "output_type": "execute_result"
    }
   ],
   "source": [
    "crdc_1516.head()"
   ]
  },
  {
   "cell_type": "code",
   "execution_count": 28,
   "metadata": {},
   "outputs": [
    {
     "data": {
      "text/plain": [
       "'96360 Total Schools in the 2015-2016 CRDC Survey'"
      ]
     },
     "execution_count": 28,
     "metadata": {},
     "output_type": "execute_result"
    }
   ],
   "source": [
    "str(len(crdc_1516.index)) + ' Total Schools in the 2015-2016 CRDC Survey'"
   ]
  },
  {
   "cell_type": "markdown",
   "metadata": {},
   "source": [
    "# nces_1516 Data\n",
    "<div class=\"alert alert-block alert-info\"><b> The nces_1516 Data was recorded in separate files (each with different numbers of schools), so I will have to join the separate files to avoid corruption/loss of data. </b><br>\n",
    "    <u>Files</u><br>\n",
    "    1. Characteristics <br>\n",
    "    2. Directory <br>\n",
    "    3. Geographic <br>\n",
    "</div><div class = 'alert alert-block alert-info'>\n",
    "Like the crdc data, the combokey field was generated using my combokey_converter.convert function.<br></div>\n",
    "\n",
    "<div class=\"alert alert-block alert-warning\">\n",
    "1. **100232 Initial Schools**<br><br>\n",
    "2. **After first inner join (Directory and Characteristics) --> 100232 schools**<br>\n",
    "Note: I ran a check to ensure that all of the matching combokeys have matching school names -- 100% identical.<br><br>\n",
    "3. **After second inner join (above_combined and Geographic) --> 100087**<br> Note:  I ran the same check to ensure that all of the schools matched and nearly 9000 came back as non-matching.  I then compared the first word of each of the two name fields, and only 9 schools came back as non-matching.  After close examination, I decided to cull these 9 schools.<br></div><div class = 'alert alert-block alert-warning'>\n",
    "**CSV saved to '../filtered_data/01_nces_1516_initial_ccd.csv'**"
   ]
  },
  {
   "cell_type": "code",
   "execution_count": 6,
   "metadata": {},
   "outputs": [],
   "source": [
    "nces_1516_characteristics = pd.read_csv('../filtered_data/01_nces_1516_initial_school_characteristics.csv')"
   ]
  },
  {
   "cell_type": "code",
   "execution_count": 7,
   "metadata": {},
   "outputs": [],
   "source": [
    "nces_1516_characteristics['combokey'] = combokey_converter.convert(nces_1516_characteristics, 'LEAID', 'SCHID')"
   ]
  },
  {
   "cell_type": "code",
   "execution_count": 8,
   "metadata": {},
   "outputs": [
    {
     "data": {
      "text/plain": [
       "'100232 NCES Schools'"
      ]
     },
     "execution_count": 8,
     "metadata": {},
     "output_type": "execute_result"
    }
   ],
   "source": [
    "str(len(nces_1516_characteristics.index)) + ' NCES Schools'"
   ]
  },
  {
   "cell_type": "code",
   "execution_count": 9,
   "metadata": {},
   "outputs": [],
   "source": [
    "nces_1516_directory = pd.read_csv('../filtered_data/01_nces_1516_initial_school_directory.csv')"
   ]
  },
  {
   "cell_type": "code",
   "execution_count": 10,
   "metadata": {},
   "outputs": [],
   "source": [
    "nces_1516_directory['combokey'] = combokey_converter.convert(nces_1516_directory, 'LEAID', 'SCHID')"
   ]
  },
  {
   "cell_type": "markdown",
   "metadata": {},
   "source": [
    "**First Join:  Directory + Characteristics**"
   ]
  },
  {
   "cell_type": "code",
   "execution_count": 11,
   "metadata": {},
   "outputs": [],
   "source": [
    "nces_1516 = nces_1516_characteristics.set_index('combokey').join(nces_1516_directory.set_index('combokey'), how = 'inner', lsuffix = 'dir_')"
   ]
  },
  {
   "cell_type": "code",
   "execution_count": 12,
   "metadata": {},
   "outputs": [
    {
     "data": {
      "text/plain": [
       "100232"
      ]
     },
     "execution_count": 12,
     "metadata": {},
     "output_type": "execute_result"
    }
   ],
   "source": [
    "len(nces_1516.index)"
   ]
  },
  {
   "cell_type": "code",
   "execution_count": 13,
   "metadata": {},
   "outputs": [
    {
     "data": {
      "text/plain": [
       "100232"
      ]
     },
     "execution_count": 13,
     "metadata": {},
     "output_type": "execute_result"
    }
   ],
   "source": [
    "len(nces_1516[nces_1516.SCH_NAME == nces_1516.SCH_NAMEdir_].index)"
   ]
  },
  {
   "cell_type": "code",
   "execution_count": 14,
   "metadata": {},
   "outputs": [],
   "source": [
    "nces_1516 = nces_1516.drop(['LEAIDdir_', 'SCHIDdir_', 'SCH_NAMEdir_'], axis = 1)"
   ]
  },
  {
   "cell_type": "markdown",
   "metadata": {},
   "source": [
    "**Second Join: combined + geo**"
   ]
  },
  {
   "cell_type": "code",
   "execution_count": 15,
   "metadata": {},
   "outputs": [],
   "source": [
    "nces_1516_geo = pd.read_csv('../filtered_data/01_nces_1516_initial_geographic.csv',  dtype = {'LOCALE15': np.object})"
   ]
  },
  {
   "cell_type": "code",
   "execution_count": 16,
   "metadata": {},
   "outputs": [],
   "source": [
    "nces_1516_geo['combokey'] = combokey_converter.convert(nces_1516_geo, 'LEAID', 'SCHID')"
   ]
  },
  {
   "cell_type": "code",
   "execution_count": 17,
   "metadata": {},
   "outputs": [],
   "source": [
    "nces_1516_test = nces_1516.join(nces_1516_geo.set_index('combokey'), how = 'inner', rsuffix = 'dir_')"
   ]
  },
  {
   "cell_type": "code",
   "execution_count": 18,
   "metadata": {},
   "outputs": [
    {
     "data": {
      "text/plain": [
       "100096"
      ]
     },
     "execution_count": 18,
     "metadata": {},
     "output_type": "execute_result"
    }
   ],
   "source": [
    "len(nces_1516_test.index)"
   ]
  },
  {
   "cell_type": "code",
   "execution_count": 19,
   "metadata": {},
   "outputs": [
    {
     "data": {
      "text/plain": [
       "91091"
      ]
     },
     "execution_count": 19,
     "metadata": {},
     "output_type": "execute_result"
    }
   ],
   "source": [
    "\"\"\"How many schools have matching School Names between CRDC and NCES?\"\"\"\n",
    "len(nces_1516_test[nces_1516_test.SCH_NAME == nces_1516_test.NAME].index)"
   ]
  },
  {
   "cell_type": "code",
   "execution_count": 20,
   "metadata": {},
   "outputs": [
    {
     "data": {
      "text/html": [
       "<div>\n",
       "<style scoped>\n",
       "    .dataframe tbody tr th:only-of-type {\n",
       "        vertical-align: middle;\n",
       "    }\n",
       "\n",
       "    .dataframe tbody tr th {\n",
       "        vertical-align: top;\n",
       "    }\n",
       "\n",
       "    .dataframe thead th {\n",
       "        text-align: right;\n",
       "    }\n",
       "</style>\n",
       "<table border=\"1\" class=\"dataframe\">\n",
       "  <thead>\n",
       "    <tr style=\"text-align: right;\">\n",
       "      <th></th>\n",
       "      <th>NAME</th>\n",
       "      <th>SCH_NAME</th>\n",
       "    </tr>\n",
       "    <tr>\n",
       "      <th>combokey</th>\n",
       "      <th></th>\n",
       "      <th></th>\n",
       "    </tr>\n",
       "  </thead>\n",
       "  <tbody>\n",
       "    <tr>\n",
       "      <th>='051266001562'</th>\n",
       "      <td>HYLTON JUNIOR HIGH SCHOOL</td>\n",
       "      <td>LAKESIDE JUNIOR HIGH SCHOOL</td>\n",
       "    </tr>\n",
       "    <tr>\n",
       "      <th>='090147001810'</th>\n",
       "      <td>Stowe - Early Learning Center (S</td>\n",
       "      <td>EPS PK STEAM Academy</td>\n",
       "    </tr>\n",
       "    <tr>\n",
       "      <th>='090171001700'</th>\n",
       "      <td>Alternative High School Programs</td>\n",
       "      <td>Greenwich Alternative High School</td>\n",
       "    </tr>\n",
       "    <tr>\n",
       "      <th>='090192001616'</th>\n",
       "      <td>STEM Magnet School at Dwight</td>\n",
       "      <td>Betances STEM Magnet School</td>\n",
       "    </tr>\n",
       "    <tr>\n",
       "      <th>='090279000148'</th>\n",
       "      <td>Hyde School of Health Science an</td>\n",
       "      <td>Cortlandt V.R. Creed Health and Sport Sciences...</td>\n",
       "    </tr>\n",
       "    <tr>\n",
       "      <th>='090279001543'</th>\n",
       "      <td>Helene Grant Headstart</td>\n",
       "      <td>Dr. Mayo Early Childhood School</td>\n",
       "    </tr>\n",
       "    <tr>\n",
       "      <th>='090279001585'</th>\n",
       "      <td>Katherine Brennan/Clarence Roger</td>\n",
       "      <td>Brennan Rogers School</td>\n",
       "    </tr>\n",
       "    <tr>\n",
       "      <th>='090351201476'</th>\n",
       "      <td>Education Connection Special Edu</td>\n",
       "      <td>GFLC/ACCESS School</td>\n",
       "    </tr>\n",
       "    <tr>\n",
       "      <th>='090423001808'</th>\n",
       "      <td>Hatton Preschool Program</td>\n",
       "      <td>Southington Public Schools Preschool Program a...</td>\n",
       "    </tr>\n",
       "  </tbody>\n",
       "</table>\n",
       "</div>"
      ],
      "text/plain": [
       "                                             NAME  \\\n",
       "combokey                                            \n",
       "='051266001562'         HYLTON JUNIOR HIGH SCHOOL   \n",
       "='090147001810'  Stowe - Early Learning Center (S   \n",
       "='090171001700'  Alternative High School Programs   \n",
       "='090192001616'      STEM Magnet School at Dwight   \n",
       "='090279000148'  Hyde School of Health Science an   \n",
       "='090279001543'            Helene Grant Headstart   \n",
       "='090279001585'  Katherine Brennan/Clarence Roger   \n",
       "='090351201476'  Education Connection Special Edu   \n",
       "='090423001808'          Hatton Preschool Program   \n",
       "\n",
       "                                                          SCH_NAME  \n",
       "combokey                                                            \n",
       "='051266001562'                        LAKESIDE JUNIOR HIGH SCHOOL  \n",
       "='090147001810'                               EPS PK STEAM Academy  \n",
       "='090171001700'                  Greenwich Alternative High School  \n",
       "='090192001616'                        Betances STEM Magnet School  \n",
       "='090279000148'  Cortlandt V.R. Creed Health and Sport Sciences...  \n",
       "='090279001543'                    Dr. Mayo Early Childhood School  \n",
       "='090279001585'                              Brennan Rogers School  \n",
       "='090351201476'                                 GFLC/ACCESS School  \n",
       "='090423001808'  Southington Public Schools Preschool Program a...  "
      ]
     },
     "execution_count": 20,
     "metadata": {},
     "output_type": "execute_result"
    }
   ],
   "source": [
    "def name_checker(sch1, sch2):\n",
    "    sch1 = sch1.lower()\n",
    "    sch2 = sch2.lower()\n",
    "    \n",
    "    if sch1[0] == sch2[0]:\n",
    "        return 0\n",
    "    return 1\n",
    "\n",
    "nces_1516_test['no_match_name'] = nces_1516_test.apply(lambda row: name_checker(row['SCH_NAME'], row['NAME']), axis = 1)\n",
    "nces_1516_test[nces_1516_test.no_match_name == 1][['NAME', 'SCH_NAME']]"
   ]
  },
  {
   "cell_type": "code",
   "execution_count": 21,
   "metadata": {},
   "outputs": [],
   "source": [
    "nces_1516_full = nces_1516_test[nces_1516_test.no_match_name == 0].drop(['LEAIDdir_', 'SCHIDdir_', 'no_match_name', 'NAME'], axis = 1)"
   ]
  },
  {
   "cell_type": "code",
   "execution_count": 22,
   "metadata": {},
   "outputs": [
    {
     "data": {
      "text/html": [
       "<div>\n",
       "<style scoped>\n",
       "    .dataframe tbody tr th:only-of-type {\n",
       "        vertical-align: middle;\n",
       "    }\n",
       "\n",
       "    .dataframe tbody tr th {\n",
       "        vertical-align: top;\n",
       "    }\n",
       "\n",
       "    .dataframe thead th {\n",
       "        text-align: right;\n",
       "    }\n",
       "</style>\n",
       "<table border=\"1\" class=\"dataframe\">\n",
       "  <thead>\n",
       "    <tr style=\"text-align: right;\">\n",
       "      <th></th>\n",
       "      <th>TITLEI</th>\n",
       "      <th>LEAID</th>\n",
       "      <th>LEA_NAME</th>\n",
       "      <th>STABR</th>\n",
       "      <th>SCHID</th>\n",
       "      <th>SCH_NAME</th>\n",
       "      <th>SCH_TYPE_TEXT</th>\n",
       "      <th>SCH_TYPE</th>\n",
       "      <th>LEVEL</th>\n",
       "      <th>VIRTUAL</th>\n",
       "      <th>GSLO</th>\n",
       "      <th>GSHI</th>\n",
       "      <th>NMCNTY15</th>\n",
       "      <th>LOCALE15</th>\n",
       "      <th>LAT1516</th>\n",
       "      <th>LON1516</th>\n",
       "    </tr>\n",
       "    <tr>\n",
       "      <th>combokey</th>\n",
       "      <th></th>\n",
       "      <th></th>\n",
       "      <th></th>\n",
       "      <th></th>\n",
       "      <th></th>\n",
       "      <th></th>\n",
       "      <th></th>\n",
       "      <th></th>\n",
       "      <th></th>\n",
       "      <th></th>\n",
       "      <th></th>\n",
       "      <th></th>\n",
       "      <th></th>\n",
       "      <th></th>\n",
       "      <th></th>\n",
       "      <th></th>\n",
       "    </tr>\n",
       "  </thead>\n",
       "  <tbody>\n",
       "    <tr>\n",
       "      <th>='010000200277'</th>\n",
       "      <td>-9</td>\n",
       "      <td>100002</td>\n",
       "      <td>Alabama Youth Services</td>\n",
       "      <td>AL</td>\n",
       "      <td>277</td>\n",
       "      <td>Sequoyah Sch - Chalkville Campus</td>\n",
       "      <td>Alternative Education School</td>\n",
       "      <td>4</td>\n",
       "      <td>3</td>\n",
       "      <td>No</td>\n",
       "      <td>7</td>\n",
       "      <td>12</td>\n",
       "      <td>Jefferson County</td>\n",
       "      <td>21</td>\n",
       "      <td>33.673661</td>\n",
       "      <td>-86.628755</td>\n",
       "    </tr>\n",
       "    <tr>\n",
       "      <th>='010000201667'</th>\n",
       "      <td>-9</td>\n",
       "      <td>100002</td>\n",
       "      <td>Alabama Youth Services</td>\n",
       "      <td>AL</td>\n",
       "      <td>1667</td>\n",
       "      <td>Camps</td>\n",
       "      <td>Alternative Education School</td>\n",
       "      <td>4</td>\n",
       "      <td>3</td>\n",
       "      <td>No</td>\n",
       "      <td>7</td>\n",
       "      <td>12</td>\n",
       "      <td>Autauga County</td>\n",
       "      <td>41</td>\n",
       "      <td>32.521681</td>\n",
       "      <td>-86.530132</td>\n",
       "    </tr>\n",
       "    <tr>\n",
       "      <th>='010000201670'</th>\n",
       "      <td>-9</td>\n",
       "      <td>100002</td>\n",
       "      <td>Alabama Youth Services</td>\n",
       "      <td>AL</td>\n",
       "      <td>1670</td>\n",
       "      <td>Det Ctr</td>\n",
       "      <td>Alternative Education School</td>\n",
       "      <td>4</td>\n",
       "      <td>3</td>\n",
       "      <td>No</td>\n",
       "      <td>7</td>\n",
       "      <td>12</td>\n",
       "      <td>Clarke County</td>\n",
       "      <td>41</td>\n",
       "      <td>31.938444</td>\n",
       "      <td>-87.750529</td>\n",
       "    </tr>\n",
       "    <tr>\n",
       "      <th>='010000201705'</th>\n",
       "      <td>-9</td>\n",
       "      <td>100002</td>\n",
       "      <td>Alabama Youth Services</td>\n",
       "      <td>AL</td>\n",
       "      <td>1705</td>\n",
       "      <td>Wallace Sch - Mt Meigs Campus</td>\n",
       "      <td>Alternative Education School</td>\n",
       "      <td>4</td>\n",
       "      <td>3</td>\n",
       "      <td>No</td>\n",
       "      <td>7</td>\n",
       "      <td>12</td>\n",
       "      <td>Montgomery County</td>\n",
       "      <td>41</td>\n",
       "      <td>32.374812</td>\n",
       "      <td>-86.082360</td>\n",
       "    </tr>\n",
       "    <tr>\n",
       "      <th>='010000201706'</th>\n",
       "      <td>-9</td>\n",
       "      <td>100002</td>\n",
       "      <td>Alabama Youth Services</td>\n",
       "      <td>AL</td>\n",
       "      <td>1706</td>\n",
       "      <td>McNeel Sch - Vacca Campus</td>\n",
       "      <td>Alternative Education School</td>\n",
       "      <td>4</td>\n",
       "      <td>3</td>\n",
       "      <td>No</td>\n",
       "      <td>7</td>\n",
       "      <td>12</td>\n",
       "      <td>Jefferson County</td>\n",
       "      <td>12</td>\n",
       "      <td>33.583385</td>\n",
       "      <td>-86.710058</td>\n",
       "    </tr>\n",
       "  </tbody>\n",
       "</table>\n",
       "</div>"
      ],
      "text/plain": [
       "                TITLEI   LEAID                LEA_NAME STABR  SCHID  \\\n",
       "combokey                                                              \n",
       "='010000200277'     -9  100002  Alabama Youth Services    AL    277   \n",
       "='010000201667'     -9  100002  Alabama Youth Services    AL   1667   \n",
       "='010000201670'     -9  100002  Alabama Youth Services    AL   1670   \n",
       "='010000201705'     -9  100002  Alabama Youth Services    AL   1705   \n",
       "='010000201706'     -9  100002  Alabama Youth Services    AL   1706   \n",
       "\n",
       "                                         SCH_NAME  \\\n",
       "combokey                                            \n",
       "='010000200277'  Sequoyah Sch - Chalkville Campus   \n",
       "='010000201667'                             Camps   \n",
       "='010000201670'                           Det Ctr   \n",
       "='010000201705'     Wallace Sch - Mt Meigs Campus   \n",
       "='010000201706'         McNeel Sch - Vacca Campus   \n",
       "\n",
       "                                SCH_TYPE_TEXT  SCH_TYPE LEVEL VIRTUAL GSLO  \\\n",
       "combokey                                                                     \n",
       "='010000200277'  Alternative Education School         4     3      No    7   \n",
       "='010000201667'  Alternative Education School         4     3      No    7   \n",
       "='010000201670'  Alternative Education School         4     3      No    7   \n",
       "='010000201705'  Alternative Education School         4     3      No    7   \n",
       "='010000201706'  Alternative Education School         4     3      No    7   \n",
       "\n",
       "                GSHI           NMCNTY15 LOCALE15    LAT1516    LON1516  \n",
       "combokey                                                                \n",
       "='010000200277'   12   Jefferson County       21  33.673661 -86.628755  \n",
       "='010000201667'   12     Autauga County       41  32.521681 -86.530132  \n",
       "='010000201670'   12      Clarke County       41  31.938444 -87.750529  \n",
       "='010000201705'   12  Montgomery County       41  32.374812 -86.082360  \n",
       "='010000201706'   12   Jefferson County       12  33.583385 -86.710058  "
      ]
     },
     "execution_count": 22,
     "metadata": {},
     "output_type": "execute_result"
    }
   ],
   "source": [
    "nces_1516_full.head()"
   ]
  },
  {
   "cell_type": "code",
   "execution_count": 23,
   "metadata": {},
   "outputs": [
    {
     "data": {
      "text/plain": [
       "100087"
      ]
     },
     "execution_count": 23,
     "metadata": {},
     "output_type": "execute_result"
    }
   ],
   "source": [
    "len(nces_1516_full.index)"
   ]
  },
  {
   "cell_type": "code",
   "execution_count": 24,
   "metadata": {},
   "outputs": [],
   "source": [
    "# nces_1516_full.to_csv('../filtered_data/01_nces_1516_initial_combined_ccd.csv')"
   ]
  },
  {
   "cell_type": "markdown",
   "metadata": {},
   "source": [
    "# NCES (combined) and CRDC join\n",
    "<div class=\"alert alert-block alert-warning\">Out of the 96360 schools in the crdc1516 dataset, <b>3861</b> schools did not have a matching Combokey. These non-matching schools were kept in the dataset.<br><br>\n",
    "\n",
    "Using the name checker function from above, another <b>182</b> schools were found to have School Names whose first words did not match between the NCES and CRDC sets.  Airing on the side of caution, these schools were indiscriminately culled.<br><br>\n",
    "\n",
    "**Final school count in the combined dataset:  96178**</div>\n",
    "<div class = 'alert alert_block alert-info'>Dataset saved to '03_crdc_nces_1516_raw_combined.csv'"
   ]
  },
  {
   "cell_type": "code",
   "execution_count": 25,
   "metadata": {},
   "outputs": [],
   "source": [
    "crdc_nces1516_test = crdc_1516.set_index('COMBOKEY').join(nces_1516_full, how = 'left', rsuffix=('_'))"
   ]
  },
  {
   "cell_type": "code",
   "execution_count": 26,
   "metadata": {},
   "outputs": [
    {
     "data": {
      "text/plain": [
       "3861"
      ]
     },
     "execution_count": 26,
     "metadata": {},
     "output_type": "execute_result"
    }
   ],
   "source": [
    "crdc_nces1516_test[crdc_nces1516_test.SCH_NAME_.isnull()].LEAID.count()"
   ]
  },
  {
   "cell_type": "code",
   "execution_count": 29,
   "metadata": {},
   "outputs": [],
   "source": [
    "crdc_nces_1516 = crdc_nces1516_test.drop(['LEA_NAME_', 'LEAID_', 'SCHID_', 'SCH_NAME_'], axis = 1)"
   ]
  },
  {
   "cell_type": "code",
   "execution_count": 30,
   "metadata": {},
   "outputs": [
    {
     "data": {
      "text/plain": [
       "96360"
      ]
     },
     "execution_count": 30,
     "metadata": {},
     "output_type": "execute_result"
    }
   ],
   "source": [
    "len(crdc_nces_1516.index)"
   ]
  },
  {
   "cell_type": "code",
   "execution_count": 31,
   "metadata": {},
   "outputs": [],
   "source": [
    "crdc_nces_1516 = crdc_nces_1516.fillna('Missing')"
   ]
  },
  {
   "cell_type": "code",
   "execution_count": 32,
   "metadata": {},
   "outputs": [],
   "source": [
    "# crdc_nces_1516.to_csv('../filtered_data/03_crdc_nces_1516_raw_combined.csv')"
   ]
  },
  {
   "cell_type": "markdown",
   "metadata": {},
   "source": [
    "# <font color = green> IV. Filtration </font>"
   ]
  },
  {
   "cell_type": "markdown",
   "metadata": {},
   "source": [
    "# Remove Schools without 11th or 12th Grade (CRDC)"
   ]
  },
  {
   "cell_type": "code",
   "execution_count": 134,
   "metadata": {},
   "outputs": [],
   "source": [
    "filter1_crdc_nces_1516 = crdc_nces_1516.copy()"
   ]
  },
  {
   "cell_type": "code",
   "execution_count": 135,
   "metadata": {},
   "outputs": [],
   "source": [
    "from my_functions.extra_functions import students_in_11_or_12\n",
    "filter1_crdc_nces_1516['Students_in_11_12'] = filter1_crdc_nces_1516.apply(lambda row: students_in_11_or_12(row['SCH_GRADE_G11'], row['SCH_GRADE_G12']), axis = 1)"
   ]
  },
  {
   "cell_type": "code",
   "execution_count": 136,
   "metadata": {},
   "outputs": [],
   "source": [
    "filtered_out_1 = filter1_crdc_nces_1516[(filter1_crdc_nces_1516.Students_in_11_12 == 'No')]\n",
    "filter1_crdc_nces_1516 = filter1_crdc_nces_1516[(filter1_crdc_nces_1516.Students_in_11_12 == 'Yes')]"
   ]
  },
  {
   "cell_type": "code",
   "execution_count": 138,
   "metadata": {},
   "outputs": [
    {
     "data": {
      "text/plain": [
       "25051"
      ]
     },
     "metadata": {},
     "output_type": "display_data"
    },
    {
     "data": {
      "text/plain": [
       "71309"
      ]
     },
     "execution_count": 138,
     "metadata": {},
     "output_type": "execute_result"
    }
   ],
   "source": [
    "display(len(filter1_crdc_nces_1516.index))\n",
    "len(filtered_out_1)"
   ]
  },
  {
   "cell_type": "markdown",
   "metadata": {},
   "source": [
    "# Select Non-[Junvile Justice, Special Education, and Alternative Schools] (CRDC)\n",
    "<div class = 'alert alert-block alert-info'>Schools that answered 'No' to each of those three questions on the CRDC Sruvey.<br><br> \n",
    "I also used a keyword filter to remove any remaining \"Juvenile Justice\"-eque Institutions.</div>"
   ]
  },
  {
   "cell_type": "code",
   "execution_count": 140,
   "metadata": {},
   "outputs": [],
   "source": [
    "filter2_crdc_nces_1516 = filter1_crdc_nces_1516.copy()\n",
    "filtered_out_2 = filter2_crdc_nces_1516[(filter2_crdc_nces_1516.JJ == 'Yes') | (filter2_crdc_nces_1516.SCH_STATUS_ALT == 'Yes') | (filter2_crdc_nces_1516.SCH_STATUS_SPED == 'Yes')]\n",
    "filter2_crdc_nces_1516 = filter2_crdc_nces_1516[(filter2_crdc_nces_1516.JJ == 'No') & (filter2_crdc_nces_1516.SCH_STATUS_ALT == 'No') & (filter2_crdc_nces_1516.SCH_STATUS_SPED == 'No')]"
   ]
  },
  {
   "cell_type": "code",
   "execution_count": 141,
   "metadata": {},
   "outputs": [],
   "source": [
    "def jj_keyword_remove(name):\n",
    "    kws = ['behavioral', 'juvenile', 'correction']\n",
    "    for kw in kws:\n",
    "        if kw in name.strip().lower():\n",
    "            return False\n",
    "    return True\n",
    "\n",
    "filter2_crdc_nces_1516 = filter2_crdc_nces_1516[filter2_crdc_nces_1516.SCH_NAME.apply(lambda x: jj_keyword_remove(x))]\n",
    "filter2_crdc_nces_1516 = filter2_crdc_nces_1516[filter2_crdc_nces_1516.LEA_NAME.apply(lambda x: jj_keyword_remove(x))]"
   ]
  },
  {
   "cell_type": "code",
   "execution_count": 143,
   "metadata": {},
   "outputs": [
    {
     "data": {
      "text/plain": [
       "20646"
      ]
     },
     "metadata": {},
     "output_type": "display_data"
    },
    {
     "data": {
      "text/plain": [
       "4356"
      ]
     },
     "execution_count": 143,
     "metadata": {},
     "output_type": "execute_result"
    }
   ],
   "source": [
    "display(len(filter2_crdc_nces_1516.index))\n",
    "len(filtered_out_2)"
   ]
  },
  {
   "cell_type": "markdown",
   "metadata": {},
   "source": [
    "# Remove Virtual Schools (NCES)\n",
    "<div class = 'alert alert-block alert-info'>\n",
    "1. Remove any Schools that reported 'Yes' to the Virtual Schools Question<br>\n",
    "2. Remove Schools that have certain keyword that likely indicate an online school\n",
    "</div>"
   ]
  },
  {
   "cell_type": "code",
   "execution_count": 149,
   "metadata": {},
   "outputs": [],
   "source": [
    "filter3_crdc_nces_1516 = filter2_crdc_nces_1516.copy()\n",
    "filtered_out_3 = filter3_crdc_nces_1516[filter3_crdc_nces_1516.VIRTUAL == 'Yes']\n",
    "filter3_crdc_nces_1516 = filter3_crdc_nces_1516[filter3_crdc_nces_1516.VIRTUAL != 'Yes']"
   ]
  },
  {
   "cell_type": "code",
   "execution_count": 150,
   "metadata": {},
   "outputs": [
    {
     "data": {
      "text/plain": [
       "20334"
      ]
     },
     "execution_count": 150,
     "metadata": {},
     "output_type": "execute_result"
    }
   ],
   "source": [
    "len(filter3_crdc_nces_1516.index)"
   ]
  },
  {
   "cell_type": "code",
   "execution_count": 151,
   "metadata": {},
   "outputs": [],
   "source": [
    "def any_missed_virtuals(name):\n",
    "    kws = ['virtual', 'cyber', 'electronic', 'internet', 'online', 'distance']\n",
    "    for kw in kws:\n",
    "        if kw in name.strip().lower():\n",
    "            return False\n",
    "    return True\n",
    "filtered_out_3 = filtered_out_3.append(filter3_crdc_nces_1516[~filter3_crdc_nces_1516.SCH_NAME.apply(lambda x: any_missed_virtuals(x))])\n",
    "filter3_crdc_nces_1516 = filter3_crdc_nces_1516[filter3_crdc_nces_1516.SCH_NAME.apply(lambda x: any_missed_virtuals(x))]"
   ]
  },
  {
   "cell_type": "code",
   "execution_count": 152,
   "metadata": {},
   "outputs": [
    {
     "data": {
      "text/plain": [
       "20269"
      ]
     },
     "metadata": {},
     "output_type": "display_data"
    },
    {
     "data": {
      "text/plain": [
       "377"
      ]
     },
     "execution_count": 152,
     "metadata": {},
     "output_type": "execute_result"
    }
   ],
   "source": [
    "display(len(filter3_crdc_nces_1516.index))\n",
    "len(filtered_out_3)"
   ]
  },
  {
   "cell_type": "markdown",
   "metadata": {},
   "source": [
    "# Remove schools reported as elementary, middle, or 'N' (NCES)\n",
    "<div class = 'alert alert-block alert-info'>Even with the Lowest/Highest Grade filter, I wanted to ensure that no non-typical high schools (as reported by the NCES's LEVEL Field) are retained.  The Other category is perhaps the most important to cull here, as many of the very, very large charter-type schools are listed in this category.\n",
    "<br><br>\n",
    "Schools with Missing Values were retained.\n",
    "</div>"
   ]
  },
  {
   "cell_type": "code",
   "execution_count": 156,
   "metadata": {},
   "outputs": [],
   "source": [
    "filter4_crdc_nces_1516 = filter3_crdc_nces_1516.copy()"
   ]
  },
  {
   "cell_type": "code",
   "execution_count": 157,
   "metadata": {},
   "outputs": [
    {
     "data": {
      "text/plain": [
       "3          16311\n",
       "4           2798\n",
       "Missing     1004\n",
       "1             66\n",
       "N             65\n",
       "2             25\n",
       "Name: LEVEL, dtype: int64"
      ]
     },
     "execution_count": 157,
     "metadata": {},
     "output_type": "execute_result"
    }
   ],
   "source": [
    "filter4_crdc_nces_1516.LEVEL.value_counts()"
   ]
  },
  {
   "cell_type": "code",
   "execution_count": 158,
   "metadata": {},
   "outputs": [],
   "source": [
    "filtered_out_4 = filter4_crdc_nces_1516[(filter4_crdc_nces_1516.LEVEL == 'N') | (filter4_crdc_nces_1516.LEVEL == '1') | (filter4_crdc_nces_1516.LEVEL == '2')]\n",
    "filter4_crdc_nces_1516 = filter4_crdc_nces_1516[(filter4_crdc_nces_1516.LEVEL == 'Missing') | (filter4_crdc_nces_1516.LEVEL == '3') | (filter4_crdc_nces_1516.LEVEL == '4')]"
   ]
  },
  {
   "cell_type": "code",
   "execution_count": 159,
   "metadata": {},
   "outputs": [
    {
     "data": {
      "text/plain": [
       "20113"
      ]
     },
     "metadata": {},
     "output_type": "display_data"
    },
    {
     "data": {
      "text/plain": [
       "156"
      ]
     },
     "execution_count": 159,
     "metadata": {},
     "output_type": "execute_result"
    }
   ],
   "source": [
    "display(len(filter4_crdc_nces_1516.index))\n",
    "len(filtered_out_4)"
   ]
  },
  {
   "cell_type": "markdown",
   "metadata": {},
   "source": [
    "# Remove Special Education and Alternative/Other Schools (NCES)\n",
    "<div class = 'alert alert-block alert-info'>Removed Schools with a SCH_TYPE that was not 1 (Regular) or 3 (Vocational).  Culls additional \"Special Education\", and \"Alternative/Other\" schools.\n",
    "<br><br>\n",
    "Schools with Missing Values were retained.\n",
    "</div>"
   ]
  },
  {
   "cell_type": "code",
   "execution_count": 49,
   "metadata": {},
   "outputs": [],
   "source": [
    "filter5_crdc_nces_1516 = filter4_crdc_nces_1516.copy()"
   ]
  },
  {
   "cell_type": "code",
   "execution_count": 50,
   "metadata": {},
   "outputs": [
    {
     "data": {
      "text/plain": [
       "1.0        17692\n",
       "4.0         1040\n",
       "Missing     1004\n",
       "3.0          342\n",
       "2.0           35\n",
       "Name: SCH_TYPE, dtype: int64"
      ]
     },
     "execution_count": 50,
     "metadata": {},
     "output_type": "execute_result"
    }
   ],
   "source": [
    "filter5_crdc_nces_1516.SCH_TYPE.value_counts()"
   ]
  },
  {
   "cell_type": "code",
   "execution_count": 51,
   "metadata": {},
   "outputs": [],
   "source": [
    "filter5_crdc_nces_1516 = filter5_crdc_nces_1516[(filter5_crdc_nces_1516.SCH_TYPE == 'Missing') | (filter5_crdc_nces_1516.SCH_TYPE == 1) | (filter5_crdc_nces_1516.SCH_TYPE == 3)]"
   ]
  },
  {
   "cell_type": "code",
   "execution_count": 52,
   "metadata": {},
   "outputs": [
    {
     "data": {
      "text/plain": [
       "19038"
      ]
     },
     "execution_count": 52,
     "metadata": {},
     "output_type": "execute_result"
    }
   ],
   "source": [
    "len(filter5_crdc_nces_1516.index)"
   ]
  },
  {
   "cell_type": "markdown",
   "metadata": {},
   "source": [
    "**Mini-Filter:  Remove schools with 'adult' in the Name (CRDC) **"
   ]
  },
  {
   "cell_type": "code",
   "execution_count": 53,
   "metadata": {},
   "outputs": [],
   "source": [
    "filter5_crdc_nces_1516 = filter5_crdc_nces_1516[~filter5_crdc_nces_1516.SCH_NAME.str.contains('adult', case=False)]"
   ]
  },
  {
   "cell_type": "code",
   "execution_count": 54,
   "metadata": {},
   "outputs": [
    {
     "data": {
      "text/plain": [
       "19012"
      ]
     },
     "execution_count": 54,
     "metadata": {},
     "output_type": "execute_result"
    }
   ],
   "source": [
    "len(filter5_crdc_nces_1516)"
   ]
  },
  {
   "cell_type": "markdown",
   "metadata": {},
   "source": [
    "# <font color = green> V. Dealing with Missing Values </font>\n",
    "<div class = 'alert alert-cell alert-info'> With nearly 1200 schools missing NCES data, including schools from prominent districts like \"NEW YORK CITY PUBLIC SCHOOLS\" and \"Green Dot Public Schools,\" it is important to try to recover as much of these schools as possible.\n",
    "<br><br>\n",
    "The problem that I found was that the CRDC lumped a number of school districts together; therefore, the combokeys of schools in these districts do not match those of the NCES.\n",
    "</div>\n",
    "\n",
    "<div class = 'alert alert-cell alert-info'>\n",
    "**I tried a number of methods to try to properly join these missing schools:**<br>\n",
    "- Using only the school name:  This had difficulties because there are many schools that share the same name, so when a join is implemented, these schools are given all of the values of the other schools (i.e. it creates a lot of duplicate values).\n",
    "- Using the NCES data from 2013:  This was also problematic, as most of the same schools that were missing in this dataset were also constrained to the same problem in the 2013-2014 dataset.<br>\n",
    "- Using the District and the name together:  This also suffered from the fact that the CRDC data combines some school districts; therefore, the names of the districts still did not match up.<br>\n",
    "- **Finally, I used a combination of the name of the school and the state:  There were only a handfull in the dataset containing the missing values.**<br><br>\n",
    "</div>\n",
    "\n",
    "<div class = 'alert alert-cell alert-warning'>\n",
    "**821 (out of 1194)** Missing Schools were recovered using this method </div>\n",
    "\n",
    "<div class = 'alert alert-cell alert-info'>\n",
    "Next, I recovered the remaining schools in the 'New York City Public Schools District', because it was clear that they were simply missing due to a LEA reporting error in the CRDC data.  This process was two-parted:<br>\n",
    "- First, Because it seemed as though most of these remaining New York schools had the incorrect LEAID, I used the the school id and state abreviation to create a unique identifier.<br>\n",
    "- Second, I used the NCES database to manually search for the remaining schools correct their combokey\n",
    "</div>\n",
    "\n",
    "<div class = 'alert alert-cell alert-warning'>\n",
    "**36** More High Schools Recovered  </div>\n",
    "\n",
    "<div class = 'alert alert-cell alert-info'>\n",
    "I performed the same (nces-provided field)-filtration steps on the recovered data.  Then, I hand-removed duplicate values by checking the original filtered data for matching records. </div>\n",
    "\n",
    "<div class = 'alert alert-cell alert-warning'>\n",
    "**468** Recovered High Schools Total  </div>"
   ]
  },
  {
   "cell_type": "code",
   "execution_count": 55,
   "metadata": {},
   "outputs": [
    {
     "data": {
      "text/plain": [
       "LEA_NAME\n",
       "NEW YORK CITY PUBLIC SCHOOLS                                                               477\n",
       "Green Dot Public Schools                                                                    11\n",
       "NORMAN                                                                                       7\n",
       "Dept. of Svs. for Children Youth & Their Families                                            5\n",
       "OFFICE OF EDUCATION DEPARTMENT OF CHILDREN AND FAMILIES                                      4\n",
       "Ombudsman Educational Services Ltd. a subsidiary of Educ 2                                   4\n",
       "TULSA                                                                                        3\n",
       "Boston                                                                                       3\n",
       "Cherokee County                                                                              3\n",
       "Clayton County                                                                               3\n",
       "Coweta County                                                                                3\n",
       "Peters Township SD                                                                           3\n",
       "ERIE 2-CHAUTAUQUA-CATTARAUGUS BOCES                                                          3\n",
       "WINDSOR SCHOOL DISTRICT                                                                      3\n",
       "Ombudsman Educational Services Ltd. a subsidiary of Educ 1                                   3\n",
       "Geauga County Educational Service Center                                                     3\n",
       "NASSAU BOCES                                                                                 3\n",
       "Cobb County                                                                                  2\n",
       "Linn Benton Lincoln ESD                                                                      2\n",
       "TRINITY CHARTER SCHOOL                                                                       2\n",
       "Horry 01                                                                                     2\n",
       "Brownsburg Community Sch Corp                                                                2\n",
       "Burlington School District                                                                   2\n",
       "Horizon Charter                                                                              2\n",
       "Cincinnati City                                                                              2\n",
       "Harris County                                                                                2\n",
       "Cleveland Metropolitan School District                                                       2\n",
       "Mesa Unified District                                                                        2\n",
       "ONONDAGA-CORTLAND-MADISON BOCES                                                              2\n",
       "HARRIS COUNTY DEPT OF ED                                                                     2\n",
       "PRIORITY CHARTER SCHOOLS                                                                     2\n",
       "PACIFIC CHARTER INSTITUTE                                                                    2\n",
       "NEW HAVEN SCHOOL DISTRICT                                                                    2\n",
       "New Brunswick School District                                                                2\n",
       "BLaST IU 17                                                                                  2\n",
       "ORLEANS-NIAGARA BOCES                                                                        2\n",
       "Forsyth County Schools                                                                       2\n",
       "BOLIVAR R-I                                                                                  2\n",
       "LAS CRUCES PUBLIC SCHOOLS                                                                    2\n",
       "Academy School District 20                                                                   2\n",
       "Atlanta Public Schools                                                                       1\n",
       "ASPIRE LIONEL WILSON COLLEGE PREPARATORY ACADEMY                                             1\n",
       "Gateway Public Schools                                                                       1\n",
       "Gertz-Ressler/Richard Merkin 6-12 Complex                                                    1\n",
       "Gilmer County                                                                                1\n",
       "Glenwood Mental Health Services                                                              1\n",
       "Abraxis Charter                                                                              1\n",
       "Glynn County                                                                                 1\n",
       "Gold Rush Charter                                                                            1\n",
       "Gompers Preparatory Academy                                                                  1\n",
       "ASPIRE GOLDEN STATE COLLEGE PREPARATORY ACADEMY                                              1\n",
       "GROTON SCHOOL DISTRICT                                                                       1\n",
       "Greater Randolph Interlocal Coop                                                             1\n",
       "Green County                                                                                 1\n",
       "ASPIRE EAST PALO ALTO PHOENIX ACADEMY                                                        1\n",
       "ASPIRE BENJAMIN HOLT COLLEGE PREPARATORY ACADEMY                                             1\n",
       "Greene County ESC                                                                            1\n",
       "Greenfield-Central Com Schools                                                               1\n",
       "Guajome Park Academy Charter                                                                 1\n",
       "Gull Lake Community Schools                                                                  1\n",
       "ARISE High School                                                                            1\n",
       "Gateway College And Career Academy                                                           1\n",
       "GREEN COUNTRY TECHNOLOGY CTR                                                                 1\n",
       "HARLEM VILLAGE ACADEMY CHARTER SCHOOL EHVACS                                                 1\n",
       "FAIRFAX CO PBLC SCHS                                                                         1\n",
       "Early County                                                                                 1\n",
       "East Orange School District                                                                  1\n",
       "El Camino Real Academy                                                                       1\n",
       "Eldora State Training School for Boys                                                        1\n",
       "Empire Springs Charter                                                                       1\n",
       "Academy of Arts and Sciences Sonoma                                                          1\n",
       "Academy of Arts and  Sciences Thousand Oaks and Simi                                         1\n",
       "Everest Public High School                                                                   1\n",
       "Executive Preparatory Academy of Finance                                                     1\n",
       "Academy of Arts and  Sciences Oxnard & Ventura                                               1\n",
       "Academy for Academic Excellence                                                              1\n",
       "FARMINGTON MUNICIPAL SCHOOLS                                                                 1\n",
       "FUTURES HIGH                                                                                 1\n",
       "Academy of Arts and  Sciences El Cajon Middle and High 6-12                                  1\n",
       "Friendship PCS                                                                               1\n",
       "GENESEE VALLEY BOCES                                                                         1\n",
       "GOLDEN EAGLE CHARTER                                                                         1\n",
       "GRANADA HILLS CHARTER HIGH                                                                   1\n",
       "GRAPEVINE-COLLEYVILLE ISD                                                                    1\n",
       "Academy of Arts and  Sciences Del Mar Middle & High 6-12                                     1\n",
       "HAMILTON-FULTON-MONTGOMERY BOCES                                                             1\n",
       "HARLEM VILLAGE ACADEMY LEADERSHIP CHARTER SCHOOL                                             1\n",
       "Academy of Arts and Sciences: Los Angeles (9-12)                                             1\n",
       "Jefferson Union High                                                                         1\n",
       "International Academy of Macomb                                                              1\n",
       "Iola                                                                                         1\n",
       "IvyTech Charter                                                                              1\n",
       "JUAN BAUTISTA DE ANZA                                                                        1\n",
       "JUBILEE ACADEMIC CENTER                                                                      1\n",
       "JULIAN CHARTER                                                                               1\n",
       "ACE Charter High                                                                             1\n",
       "Jackson ISD                                                                                  1\n",
       "Jackson Preparatory & Early College                                                          1\n",
       "John Adams Academy                                                                           1\n",
       "Inspire Charter School - South                                                               1\n",
       "KIPP KING COLLEGIATE HIGH                                                                    1\n",
       "KIPP SAN JOSE COLLEGIATE                                                                     1\n",
       "KIPP San Francisco College Prep                                                              1\n",
       "KIRKSVILLE R-III                                                                             1\n",
       "KREMLIN-HILLSDALE                                                                            1\n",
       "Kestrel Schools  Inc.                                                                        1\n",
       "L'Anse Creuse Public Schools                                                                 1\n",
       "LA FERIA ISD                                                                                 1\n",
       "LARCHMONT CHARTER                                                                            1\n",
       "Institute for Transformative Education  Inc.                                                 1\n",
       "Inspire Charter School                                                                       1\n",
       "APEX Academy                                                                                 1\n",
       "Henry County                                                                                 1\n",
       "HART ISD                                                                                     1\n",
       "HEALTH SERVICES ACADEMY HIGH SCHOOL                                                          1\n",
       "HENRY CO PBLC SCHS                                                                           1\n",
       "HERON LAKE-OKABENA SCHOOL DISTRICT                                                           1\n",
       "HIGH TECH LA                                                                                 1\n",
       "HUME LAKE CHARTER                                                                            1\n",
       "ANAHUAC ISD                                                                                  1\n",
       "Harbor Springs Charter School                                                                1\n",
       "ALTA VISTA PUBLIC                                                                            1\n",
       "Higdon Hill School                                                                           1\n",
       "Insight @ San Joaquin                                                                        1\n",
       "Holland City School District                                                                 1\n",
       "HomeTech Charter                                                                             1\n",
       "Hood River County SD                                                                         1\n",
       "ALAMEDA COMMUNITY LEARNING CENTER                                                            1\n",
       "ACLD TILLOTSON SCHOOL                                                                        1\n",
       "Humphreys College Academy Of Business Law And Education                                      1\n",
       "IMPACT ACADEMY OF ARTS & TECHNOLOGY                                                          1\n",
       "INSTITUTIONAL EDUCATIONAL PROGRAMS                                                           1\n",
       "IVY ACADEMIA                                                                                 1\n",
       "EXCELLENCE GIRLS CHARTER SCHOOL                                                              1\n",
       "ESCUELA POPULAR/CENTER FOR TRAINING AND CAREERS, F                                           1\n",
       "B. Roberto Cruz Leadership Academy                                                           1\n",
       "CRENSHAW ARTS/TECH CHARTER HIGH SCHOOL                                                       1\n",
       "CASS LAKE-BENA PUBLIC SCHOOLS                                                                1\n",
       "CENTRAL CITY VALUE                                                                           1\n",
       "CHAMPS - Charter HS of Arts-Multimedia & Performing                                          1\n",
       "CLASSICAL ACADEMY HIGH                                                                       1\n",
       "COLLEGE-READY ACADEMY HIGH SCHOOL No. 16                                                     1\n",
       "COLLINSVILLE                                                                                 1\n",
       "COMMUNITY COLLABORATIVE CHARTER (Twin Rivers)                                                1\n",
       "CORE Butte Charter School                                                                    1\n",
       "CORE Placer Charter                                                                          1\n",
       "CRESCENT VIEW WEST CHARTER                                                                   1\n",
       "CAMDENTON R-III                                                                              1\n",
       "California Connections Academy @ North Bay                                                   1\n",
       "California Connections Academy @ Ripon                                                       1\n",
       "California Connections Academy @Central                                                      1\n",
       "Camden County                                                                                1\n",
       "Camino Nuevo High NO. 2                                                                      1\n",
       "Capistrano Connections Academy                                                               1\n",
       "Carter G. Woodson Public Charter                                                             1\n",
       "Catoosa County                                                                               1\n",
       "Center Line Public Schools                                                                   1\n",
       "CAMINO NUEVO CHARTER HIGH                                                                    1\n",
       "Butler Area SD                                                                               1\n",
       "American Indian Public High School                                                           1\n",
       "BRIGHT STAR SECONDARY CHARTER ACADEMY                                                        1\n",
       "BAY AREA TECHNOLOGY                                                                          1\n",
       "BELCOURT 7                                                                                   1\n",
       "BIG PICTURE HS - FRESNO                                                                      1\n",
       "BIRMINGHAM COMMUNITY CHARTER HIGH                                                            1\n",
       "Assurance Learning Academy                                                                   1\n",
       "Aspire Vanguard College Preparatory Academy                                                  1\n",
       "Aspire Richmond Ca. College Preparatory Academy                                              1\n",
       "Aspire Ollin University Preparatory Academy                                                  1\n",
       "BOONE CENTRAL SCHOOLS                                                                        1\n",
       "BURNS FLAT-DILL CITY                                                                         1\n",
       "Burton Technology Academy High School                                                        1\n",
       "Benton Area SD                                                                               1\n",
       "Berea City                                                                                   1\n",
       "Bergen Arts and Sciences Charter School                                                      1\n",
       "Bibb County                                                                                  1\n",
       "Bloomfield Hills Schools                                                                     1\n",
       "Aspire Langston Hughes Academy                                                               1\n",
       "Aspire Alexander Twilight Secondary Academy                                                  1\n",
       "Burlington Area School District                                                              1\n",
       "Anahuacalmecac International University Preparatory                                          1\n",
       "Cherokee Central Schools                                                                     1\n",
       "Alternatives in Action                                                                       1\n",
       "ESCUELA POPULAR ACCELERATED FAMILY LRN                                                       1\n",
       "Dysart Unified School District                                                               1\n",
       "DUNSEITH 1                                                                                   1\n",
       "Da Vinci Communications High                                                                 1\n",
       "LATINO COLLEGE PREPARATORY ACADEMY                                                           1\n",
       "Diego Hills Charter School                                                                   1\n",
       "Diego Valley Public Charter                                                                  1\n",
       "Digital Arts and Technology Academy Charter School                                           1\n",
       "Alliance Alice M. Baxter College-Ready High                                                  1\n",
       "Dillingham City School District                                                              1\n",
       "Dodge County                                                                                 1\n",
       "EAST MTN HIGH SCHOOL                                                                         1\n",
       "DOWNTOWN COLLEGE PREPARATORY                                                                 1\n",
       "EAST WINDSOR SCHOOL DISTRICT                                                                 1\n",
       "EL CAMINO REAL CHARTER HIGH SCHOOL                                                           1\n",
       "ENID                                                                                         1\n",
       "ENVIRONMENTAL SCIENCE AND TECHNOLOGY HIGH SCHOOL                                             1\n",
       "ENVISION ACADEMY FOR ARTS & TECHNOLOGY                                                       1\n",
       "EPIC de Cesar Chavez                                                                         1\n",
       "Albert Einstein Academy for Letters Arts and Sciences                                        1\n",
       "ESCONDIDO CHARTER HIGH                                                                       1\n",
       "Accelerated Achievement Academy (Ukiah)                                                      1\n",
       "DR. OLGA MOHAN HIGH SCHOOL                                                                   1\n",
       "DIVISION OF YOUTH SERVICES                                                                   1\n",
       "Cincinnati College Preparatory Academy                                                       1\n",
       "Community Collaborative Charter (Acton)                                                      1\n",
       "City Arts and Technology High School                                                         1\n",
       "Civicorps Corpsmember Academy                                                                1\n",
       "Alta Vista South Public Charter                                                              1\n",
       "Clayton Valley Charter High                                                                  1\n",
       "Alliance Susan and Eric Smidt Technology High School                                         1\n",
       "Alliance Renee and Meyer Luskin High School                                                  1\n",
       "Collins Family College-Ready High School                                                     1\n",
       "Colonial IU 20                                                                               1\n",
       "Colonial School District                                                                     1\n",
       "Connecticut Technical High School System                                                     1\n",
       "DISCOVERY CHARTER PREPARATORY #2                                                             1\n",
       "Conservatory of Vocal/Instrumental Arts High                                                 1\n",
       "Constellation Schools: Parma Community                                                       1\n",
       "Corrales International School Charter School                                                 1\n",
       "Alliance Margaret M. Bloomfield Technology Academy High                                      1\n",
       "Creekside Charter Management                                                                 1\n",
       "DA VINCI DESIGN                                                                              1\n",
       "DA VINCI SCIENCE                                                                             1\n",
       "DAMON ISD                                                                                    1\n",
       "DERBY SCHOOL DISTRICT                                                                        1\n",
       "iLEAD Hybrid                                                                                 1\n",
       "La Vida Charter                                                                              1\n",
       "LEADERSHIP PREPARATORY BEDFORD STUYVESANT CHARTER SCHOOL                                     1\n",
       "Stockton Collegiate International Secondary                                                  1\n",
       "STONE CO SCHOOL DIST                                                                         1\n",
       "SYNERGY QUANTUM ACADEMY                                                                      1\n",
       "Samueli Academy                                                                              1\n",
       "Sanilac ISD                                                                                  1\n",
       "Santa Clara County Office of Education                                                       1\n",
       "Santa Clarita Valley International                                                           1\n",
       "Santa Rosa Academy                                                                           1\n",
       "Sequel Madison TSI                                                                           1\n",
       "Sequel TSI Courtland                                                                         1\n",
       "Sequel TSI School of Montgomery                                                              1\n",
       "Sequel TSI Tuskegee                                                                          1\n",
       "Sequel TSI- New Beginnings School/ Owens Crossroads                                          1\n",
       "Shasta County Office of Education                                                            1\n",
       "Sierra Academy of Expeditionary Learning                                                     1\n",
       "Sierra Charter                                                                               1\n",
       "Simon Technology Academy High School                                                         1\n",
       "Sizer School: A North Central Charter Essential (District)                                   1\n",
       "Sky Mountain Charter School                                                                  1\n",
       "Smethport Area SD                                                                            1\n",
       "Sonoran Desert School                                                                        1\n",
       "South Valley Academy                                                                         1\n",
       "South Whidbey School District                                                                1\n",
       "South-Western City                                                                           1\n",
       "STEM Preparatory Schools, Inc.                                                               1\n",
       "ST. CHARLES R-VI                                                                             1\n",
       "SOUTH SUTTER CHARTER                                                                         1\n",
       "Rockdale County                                                                              1\n",
       "Public Academy for Performing Arts Charter School                                            1\n",
       "RAYMORE-PECULIAR R-II                                                                        1\n",
       "REALM HIGH                                                                                   1\n",
       "RENAISSANCE ARTS ACADEMY                                                                     1\n",
       "RIO VALLEY CHARTER                                                                           1\n",
       "RIVER BEND EDUCATION DISTRICT                                                                1\n",
       "RIVER SPRINGS CHARTER                                                                        1\n",
       "RSD Charter School  Inc.                                                                     1\n",
       "Redwood Academy of Ukiah                                                                     1\n",
       "Robert F. Kennedy Charter                                                                    1\n",
       "Rome City                                                                                    1\n",
       "SOMERVILLE PUBLIC SCHOOL DISTRICT                                                            1\n",
       "SACRAMENTO CHARTER HIGH                                                                      1\n",
       "SAND SPRINGS                                                                                 1\n",
       "SAVA: SACRAMENTO ACADEMIC AND VOCATIONAL ACADEMY                                             1\n",
       "SCALE Leadership Academy                                                                     1\n",
       "SCCPSS                                                                                       1\n",
       "SEVIER DISTRICT                                                                              1\n",
       "SIATech                                                                                      1\n",
       "SIATech Academy South                                                                        1\n",
       "SILVER CONSOLIDATED SCHOOLS                                                                  1\n",
       "SOMERS SCHOOL DISTRICT                                                                       1\n",
       "St. Mary's County Public Schools                                                             1\n",
       "Stoughton Area School District                                                               1\n",
       "Propel CS-Braddock Hills                                                                     1\n",
       "Summit Leadership Academy-High Desert                                                        1\n",
       "WEST LAS VEGAS PUBLIC SCHOOLS                                                                1\n",
       "WESTERN SIERRA COLLEGIATE ACADEMY                                                            1\n",
       "WESTWOOD CHARTER                                                                             1\n",
       "WILLITS CHARTER                                                                              1\n",
       "Warren Consolidated Schools                                                                  1\n",
       "Washingtion County Public Schools                                                            1\n",
       "Wauzeka-Steuben School District                                                              1\n",
       "Wayne-Westland Community School District                                                     1\n",
       "West Sacramento Early College Prep Charter                                                   1\n",
       "Westby Area School District                                                                  1\n",
       "Westchester Secondary Charter                                                                1\n",
       "Westerville City                                                                             1\n",
       "Westport Community Schools                                                                   1\n",
       "Whitmore Lake Public School District                                                         1\n",
       "Wichita                                                                                      1\n",
       "Willard City                                                                                 1\n",
       "Williams Academy (aka Crossnore)                                                             1\n",
       "Wonderful College Prep Academy                                                               1\n",
       "Woodbridge School District                                                                   1\n",
       "YONKERS CITY SCHOOL DISTRICT                                                                 1\n",
       "YORK ADAMS ACADEMY                                                                           1\n",
       "Yellowstone Boys & Girls Ranch                                                               1\n",
       "Yuba City Charter                                                                            1\n",
       "WALLIS ANNENBERG HIGH                                                                        1\n",
       "W. E. B. DuBois Public Charter                                                               1\n",
       "Valor Academy High School                                                                    1\n",
       "The Palmdale Aerospace Academy                                                               1\n",
       "Summit Preparatory Charter High School                                                       1\n",
       "Summit Public School: Rainier                                                                1\n",
       "TEACH Tech Charter High                                                                      1\n",
       "TEXAS COLLEGE PREPARATORY ACADEMIES                                                          1\n",
       "THE MARYLAND SCHOOL F/T BLIND                                                                1\n",
       "Taylor School District                                                                       1\n",
       "Tekonsha Community Schools                                                                   1\n",
       "Temecula Preperatory                                                                         1\n",
       "Tennenbaum Family Technology High School                                                     1\n",
       "The Alb Talent Development Charter                                                           1\n",
       "Toledo City                                                                                  1\n",
       "Valiant Academy of Los Angeles                                                               1\n",
       "Traverse Bay Area ISD                                                                        1\n",
       "Tulare Joint Union High                                                                      1\n",
       "UNITY SCHOOLS                                                                                1\n",
       "UNIVERSAL ACADEMY                                                                            1\n",
       "USC Hybrid High School                                                                       1\n",
       "University High School                                                                       1\n",
       "Utica Community Schools                                                                      1\n",
       "VAUGHN NEXT CENTURY LRN CENTER                                                               1\n",
       "VIEW PARK PREPARATORY ACCELERATED HIGH                                                       1\n",
       "Valiant Academy DESD Southern                                                                1\n",
       "Propel CS-Homestead                                                                          1\n",
       "Prince George's County Public Schools                                                        1\n",
       "LIGHTHOUSE COMMUNITY CHARTER HIGH                                                            1\n",
       "NEW MILLENNIUM SECONDARY                                                                     1\n",
       "MIT Academy                                                                                  1\n",
       "MUIR CHARTER                                                                                 1\n",
       "Madison-Champaign ESC                                                                        1\n",
       "Magnolia Science Academy Santa Clara                                                         1\n",
       "Making Waves Academy                                                                         1\n",
       "Marcellus Community Schools                                                                  1\n",
       "Maury County                                                                                 1\n",
       "McNairy County                                                                               1\n",
       "Medina County ESC                                                                            1\n",
       "Method Schools High                                                                          1\n",
       "Millcreek Township SD                                                                        1\n",
       "Miller County                                                                                1\n",
       "Mirus Secondary                                                                              1\n",
       "Mission View Charter                                                                         1\n",
       "Morgan County                                                                                1\n",
       "Morrow SD 1                                                                                  1\n",
       "Mountainview Hospital                                                                        1\n",
       "N. LITTLE ROCK SCHOOL DISTRICT                                                               1\n",
       "NAMPA SCHOOL DISTRICT                                                                        1\n",
       "NC Health and Human Services                                                                 1\n",
       "NC School of Science and Math                                                                1\n",
       "NEA COMMUNITY LEARNING CENTER                                                                1\n",
       "NEW DESIGNS CHARTER                                                                          1\n",
       "MINNEAPOLIS PUBLIC SCHOOL DIST.                                                              1\n",
       "MILLENNIUM CHARTER                                                                           1\n",
       "MERIDEN SCHOOL DISTRICT                                                                      1\n",
       "Lennox Mathematics Science and Technology Academy                                            1\n",
       "LITERACY FIRST CHARTER Schools                                                               1\n",
       "LOGAN VIEW PUBLIC SCHOOLS                                                                    1\n",
       "LOS ANGELES ACADEMY OF ARTS & ENTERPRISE CHARTER                                             1\n",
       "LOS ANGELES LEADERSHIP ACADEMY                                                               1\n",
       "LPS Oakland R & D Campus                                                                     1\n",
       "La Academia de Esperanza Charter School                                                      1\n",
       "Zachary Community School District                                                            1\n",
       "Laurel Tree Charter                                                                          1\n",
       "Leadership Public Schools: Richmond                                                          1\n",
       "Lee County                                                                                   1\n",
       "Lincoln Unified                                                                              1\n",
       "MEHLVILLE R-IX                                                                               1\n",
       "Los Puentes Charter                                                                          1\n",
       "Luis Valdez Leadership Academy                                                               1\n",
       "M S D Wayne Township                                                                         1\n",
       "MAGNOLIA SCIENCE ACADEMY                                                                     1\n",
       "MAGNOLIA SCIENCE ACADEMY 2                                                                   1\n",
       "MAGNOLIA SCIENCE ACADEMY 3                                                                   1\n",
       "MAGNOLIA SCIENCE ACADEMY 4                                                                   1\n",
       "MARC & EVA STERN MATH AND SCIENCE                                                            1\n",
       "MATH ENGINEERING AND SCIENCE ACADEMY CHARTER HIGH SCHOOL                                     1\n",
       "MEDIA ARTS AND ENTERTAINMENT DESIGN HIGH SCHOOL                                              1\n",
       "NEW DESIGNS CHARTER SCH-WATTS                                                                1\n",
       "NEW VILLAGE GIRLS ACADEMY                                                                    1\n",
       "Presbyterian Home For Children                                                               1\n",
       "NORTH VALLEY MILITARY INSTITUTE COLLEGE PREPARATORY ACADEMY                                  1\n",
       "Orchard View Schools                                                                         1\n",
       "PALISADES CHARTER HIGH                                                                       1\n",
       "PORT OF LOS ANGELES HIGH                                                                     1\n",
       "PUC CALS Middle and Early College High School                                                1\n",
       "PUC COMMUNITY CHARTER MIDDLE SCHOOL and PUC COMMUNITY CHARTER EARLY COLLEGE HIGH SCHOOL      1\n",
       "PUC EARLY COLLEGE ACADEMY FOR LEADERS AND SCHOLARS                                           1\n",
       "PUC LAKEVIEW CHARTER HIGH SCHOOL                                                             1\n",
       "PUC Triumph Charter Academy and PUC Triumph Charter High School                              1\n",
       "PUTNAM SCHOOL DISTRICT                                                                       1\n",
       "Pacific Collegiate Charter                                                                   1\n",
       "Paradise Valley Unified District                                                             1\n",
       "Paterson Public School District                                                              1\n",
       "Pathways Charter School                                                                      1\n",
       "Pelham City                                                                                  1\n",
       "Perry County                                                                                 1\n",
       "Philadelphia Academy CS                                                                      1\n",
       "Pima County                                                                                  1\n",
       "Pinnacle Education-WMCB  Inc.                                                                1\n",
       "Pivot Charter School - San Diego                                                             1\n",
       "Pivot Charter School North Valley                                                            1\n",
       "Pivot Charter School Riverside County                                                        1\n",
       "Pleasant Valley SD                                                                           1\n",
       "Pocono Mountain SD                                                                           1\n",
       "Options for Youth ñ San Bernardino                                                           1\n",
       "Optimist Charter                                                                             1\n",
       "Opportunities for Learning ñ Fresno                                                          1\n",
       "OPPORTUNITIES FOR LEARNING - CAPISTRANO                                                      1\n",
       "Native American Comm Academy                                                                 1\n",
       "Neuwirth Leadership Academy (CRAHS5)                                                         1\n",
       "Newberg SD 29J                                                                               1\n",
       "North Bend SD 13                                                                             1\n",
       "North Fayette Comm School District                                                           1\n",
       "North Penn SD                                                                                1\n",
       "Northwest Regional ESD                                                                       1\n",
       "OAKLAND MILITARY INSTITUTE, COLLEGE PREPARATORY AC                                           1\n",
       "OAKLAND SCH FOR THE ARTS                                                                     1\n",
       "OCEAN GROVE CHARTER                                                                          1\n",
       "OPPORTUNITIES FOR LEARNING - SANTA CLARITA                                                   1\n",
       "Opportunities for Learning ñ Duarte                                                          1\n",
       "OPPORTUNITIES FOR LRN - BALDWIN PARK                                                         1\n",
       "OPPORTUNITIES FOR LRN - BALDWIN PARK II                                                      1\n",
       "OPTIONS FOR YOUTH - VICTORVILLE                                                              1\n",
       "OPTIONS FOR YOUTH SAN GABRIEL                                                                1\n",
       "OPTIONS FOR YOUTH-BURBANK CHARTER                                                            1\n",
       "OPTIONS FOR YOUTH-SAN JUAN                                                                   1\n",
       "OUCHI HIGH SCHOOL                                                                            1\n",
       "OXFORD SCHOOL DISTRICT                                                                       1\n",
       "Oakland Charter High                                                                         1\n",
       "Onekama Consolidated Schools                                                                 1\n",
       "ABQ Charter Academy                                                                          1\n",
       "Name: LEAID, dtype: int64"
      ]
     },
     "metadata": {},
     "output_type": "display_data"
    }
   ],
   "source": [
    "\"\"\"Which districts had the most missing schools?\"\"\"\n",
    "with pd.option_context('display.max_rows', 1200):\n",
    "    display(filter5_crdc_nces_1516[filter5_crdc_nces_1516.LEVEL == 'Missing'].groupby('LEA_NAME')['LEAID'].count().sort_values(ascending = False))"
   ]
  },
  {
   "cell_type": "code",
   "execution_count": 56,
   "metadata": {},
   "outputs": [],
   "source": [
    "filter5_missing_leas = filter5_crdc_nces_1516[filter5_crdc_nces_1516.LEVEL == 'Missing'].groupby('LEA_NAME')['LEAID'].count().sort_values(ascending = False)"
   ]
  },
  {
   "cell_type": "code",
   "execution_count": 57,
   "metadata": {},
   "outputs": [],
   "source": [
    "# filter5_missing_leas.to_csv('../filtered_data/04_inital_filter_missing_LEAs.csv')"
   ]
  },
  {
   "cell_type": "code",
   "execution_count": 58,
   "metadata": {},
   "outputs": [
    {
     "data": {
      "text/plain": [
       "989"
      ]
     },
     "execution_count": 58,
     "metadata": {},
     "output_type": "execute_result"
    }
   ],
   "source": [
    "\"\"\"How many missing schools?\"\"\"\n",
    "filter5_missing_schools = filter5_crdc_nces_1516[filter5_crdc_nces_1516.LEVEL == 'Missing']\n",
    "len(filter5_missing_schools.index)"
   ]
  },
  {
   "cell_type": "code",
   "execution_count": 59,
   "metadata": {},
   "outputs": [],
   "source": [
    "# filter5_missing_schools.to_csv('../filtered_data/04_intital_filter_missing_schools.csv')"
   ]
  },
  {
   "cell_type": "markdown",
   "metadata": {},
   "source": [
    "** Manipulate missing schools and original nces data --> join **"
   ]
  },
  {
   "cell_type": "code",
   "execution_count": 60,
   "metadata": {},
   "outputs": [],
   "source": [
    "filter5_schname_state = filter5_missing_schools.copy()"
   ]
  },
  {
   "cell_type": "code",
   "execution_count": 61,
   "metadata": {},
   "outputs": [],
   "source": [
    "filter5_schname_state = filter5_schname_state.reset_index()"
   ]
  },
  {
   "cell_type": "code",
   "execution_count": 62,
   "metadata": {},
   "outputs": [],
   "source": [
    "filter5_schname_state['SCH_NAME'] = filter5_schname_state['SCH_NAME'].apply(lambda x: x.lower())\n",
    "filter5_schname_state['SCH_NAME_ST_NUM'] = filter5_schname_state.SCH_NAME + filter5_schname_state.LEA_STATE"
   ]
  },
  {
   "cell_type": "code",
   "execution_count": 63,
   "metadata": {},
   "outputs": [
    {
     "data": {
      "text/plain": [
       "SCH_NAME_ST_NUM\n",
       "community collaborative charterCA                                 2\n",
       "harlem village academies highNY                                   2\n",
       "performance learning centerGA                                     2\n",
       "yuba city charterCA                                               1\n",
       "emma lazarus high schoolNY                                        1\n",
       "esperanza prepatory academyNY                                     1\n",
       "escuela popular/center for training and careers, family lrngCA    1\n",
       "escuela popular accelerated family learning center (k-8)CA        1\n",
       "escondido charter highCA                                          1\n",
       "erie 2-chautauqua-cattaraugus boces @ iroquoisNY                  1\n",
       "Name: SCH_NAME_ST_NUM, dtype: int64"
      ]
     },
     "execution_count": 63,
     "metadata": {},
     "output_type": "execute_result"
    }
   ],
   "source": [
    "\"\"\"How many duplicate schools in the filter5 dataset?\"\"\"\n",
    "filter5_schname_state.groupby('SCH_NAME_ST_NUM')['SCH_NAME_ST_NUM'].count().sort_values(ascending = False).head(10)"
   ]
  },
  {
   "cell_type": "code",
   "execution_count": 64,
   "metadata": {
    "scrolled": true
   },
   "outputs": [
    {
     "data": {
      "text/html": [
       "<div>\n",
       "<style scoped>\n",
       "    .dataframe tbody tr th:only-of-type {\n",
       "        vertical-align: middle;\n",
       "    }\n",
       "\n",
       "    .dataframe tbody tr th {\n",
       "        vertical-align: top;\n",
       "    }\n",
       "\n",
       "    .dataframe thead th {\n",
       "        text-align: right;\n",
       "    }\n",
       "</style>\n",
       "<table border=\"1\" class=\"dataframe\">\n",
       "  <thead>\n",
       "    <tr style=\"text-align: right;\">\n",
       "      <th></th>\n",
       "      <th>COMBOKEY</th>\n",
       "      <th>LEA_STATE</th>\n",
       "      <th>LEA_STATE_NAME</th>\n",
       "      <th>LEAID</th>\n",
       "      <th>LEA_NAME</th>\n",
       "      <th>SCHID</th>\n",
       "      <th>SCH_NAME</th>\n",
       "      <th>JJ</th>\n",
       "      <th>SCH_GRADE_PS</th>\n",
       "      <th>SCH_GRADE_KG</th>\n",
       "      <th>...</th>\n",
       "      <th>LEVEL</th>\n",
       "      <th>VIRTUAL</th>\n",
       "      <th>GSLO</th>\n",
       "      <th>GSHI</th>\n",
       "      <th>NMCNTY15</th>\n",
       "      <th>LOCALE15</th>\n",
       "      <th>LAT1516</th>\n",
       "      <th>LON1516</th>\n",
       "      <th>Students_in_11_12</th>\n",
       "      <th>SCH_NAME_ST_NUM</th>\n",
       "    </tr>\n",
       "  </thead>\n",
       "  <tbody>\n",
       "    <tr>\n",
       "      <th>301</th>\n",
       "      <td>='130129003727'</td>\n",
       "      <td>GA</td>\n",
       "      <td>GEORGIA</td>\n",
       "      <td>1301290</td>\n",
       "      <td>Cobb County</td>\n",
       "      <td>3727</td>\n",
       "      <td>performance learning center</td>\n",
       "      <td>No</td>\n",
       "      <td>No</td>\n",
       "      <td>No</td>\n",
       "      <td>...</td>\n",
       "      <td>Missing</td>\n",
       "      <td>Missing</td>\n",
       "      <td>Missing</td>\n",
       "      <td>Missing</td>\n",
       "      <td>Missing</td>\n",
       "      <td>Missing</td>\n",
       "      <td>Missing</td>\n",
       "      <td>Missing</td>\n",
       "      <td>Yes</td>\n",
       "      <td>performance learning centerGA</td>\n",
       "    </tr>\n",
       "    <tr>\n",
       "      <th>313</th>\n",
       "      <td>='130270003728'</td>\n",
       "      <td>GA</td>\n",
       "      <td>GEORGIA</td>\n",
       "      <td>1302700</td>\n",
       "      <td>Harris County</td>\n",
       "      <td>3728</td>\n",
       "      <td>performance learning center</td>\n",
       "      <td>No</td>\n",
       "      <td>No</td>\n",
       "      <td>No</td>\n",
       "      <td>...</td>\n",
       "      <td>Missing</td>\n",
       "      <td>Missing</td>\n",
       "      <td>Missing</td>\n",
       "      <td>Missing</td>\n",
       "      <td>Missing</td>\n",
       "      <td>Missing</td>\n",
       "      <td>Missing</td>\n",
       "      <td>Missing</td>\n",
       "      <td>Yes</td>\n",
       "      <td>performance learning centerGA</td>\n",
       "    </tr>\n",
       "  </tbody>\n",
       "</table>\n",
       "<p>2 rows × 125 columns</p>\n",
       "</div>"
      ],
      "text/plain": [
       "            COMBOKEY LEA_STATE LEA_STATE_NAME    LEAID       LEA_NAME  SCHID  \\\n",
       "301  ='130129003727'        GA        GEORGIA  1301290    Cobb County   3727   \n",
       "313  ='130270003728'        GA        GEORGIA  1302700  Harris County   3728   \n",
       "\n",
       "                        SCH_NAME  JJ SCH_GRADE_PS SCH_GRADE_KG  \\\n",
       "301  performance learning center  No           No           No   \n",
       "313  performance learning center  No           No           No   \n",
       "\n",
       "                 ...                  LEVEL  VIRTUAL     GSLO     GSHI  \\\n",
       "301              ...                Missing  Missing  Missing  Missing   \n",
       "313              ...                Missing  Missing  Missing  Missing   \n",
       "\n",
       "    NMCNTY15 LOCALE15  LAT1516  LON1516 Students_in_11_12  \\\n",
       "301  Missing  Missing  Missing  Missing               Yes   \n",
       "313  Missing  Missing  Missing  Missing               Yes   \n",
       "\n",
       "                   SCH_NAME_ST_NUM  \n",
       "301  performance learning centerGA  \n",
       "313  performance learning centerGA  \n",
       "\n",
       "[2 rows x 125 columns]"
      ]
     },
     "execution_count": 64,
     "metadata": {},
     "output_type": "execute_result"
    }
   ],
   "source": [
    "filter5_schname_state[filter5_schname_state.SCH_NAME_ST_NUM == 'performance learning centerGA']"
   ]
  },
  {
   "cell_type": "code",
   "execution_count": 65,
   "metadata": {},
   "outputs": [],
   "source": [
    "nces_1516_schname_state = nces_1516_full.copy()"
   ]
  },
  {
   "cell_type": "code",
   "execution_count": 66,
   "metadata": {},
   "outputs": [],
   "source": [
    "nces_1516_schname_state = nces_1516_schname_state.reset_index()"
   ]
  },
  {
   "cell_type": "code",
   "execution_count": 67,
   "metadata": {},
   "outputs": [],
   "source": [
    "nces_1516_schname_state['SCH_NAME'] = nces_1516_schname_state['SCH_NAME'].apply(lambda x: x.lower())\n",
    "nces_1516_schname_state['SCH_NAME_ST_NUM'] = nces_1516_schname_state.SCH_NAME + nces_1516_schname_state.STABR"
   ]
  },
  {
   "cell_type": "code",
   "execution_count": 68,
   "metadata": {},
   "outputs": [],
   "source": [
    "\"\"\"Join the NCES and filter5 datasets on the SCH_NAME_ST_NUM column\"\"\"\n",
    "schname_combined = filter5_schname_state.set_index('SCH_NAME_ST_NUM').join(nces_1516_schname_state.set_index('SCH_NAME_ST_NUM'), how = 'left', rsuffix = '_')"
   ]
  },
  {
   "cell_type": "code",
   "execution_count": 69,
   "metadata": {},
   "outputs": [
    {
     "data": {
      "text/plain": [
       "tarrant co j j a e p               6\n",
       "community collaborative charter    4\n",
       "hart el                            2\n",
       "accelerated achievement academy    2\n",
       "university high                    2\n",
       "beacon high school                 2\n",
       "performance learning center        2\n",
       "dewitt clinton high school         1\n",
       "brooklyn latin school (the)        1\n",
       "julian charter                     1\n",
       "Name: SCH_NAME_, dtype: int64"
      ]
     },
     "execution_count": 69,
     "metadata": {},
     "output_type": "execute_result"
    }
   ],
   "source": [
    "\"\"\"How many schools have duplicated values?\"\"\"\n",
    "schname_combined.SCH_NAME_.value_counts().sort_values(ascending = False).head(10)"
   ]
  },
  {
   "cell_type": "code",
   "execution_count": 70,
   "metadata": {},
   "outputs": [
    {
     "data": {
      "text/plain": [
       "688"
      ]
     },
     "execution_count": 70,
     "metadata": {},
     "output_type": "execute_result"
    }
   ],
   "source": [
    "\"\"\"How may more schools were matched?\"\"\"\n",
    "len(schname_combined[schname_combined.SCH_NAME_.notnull()].index)"
   ]
  },
  {
   "cell_type": "code",
   "execution_count": 71,
   "metadata": {},
   "outputs": [
    {
     "data": {
      "text/plain": [
       "312"
      ]
     },
     "execution_count": 71,
     "metadata": {},
     "output_type": "execute_result"
    }
   ],
   "source": [
    "\"\"\"How many schools still did not have a match?\"\"\"\n",
    "len(schname_combined[schname_combined.SCH_NAME_.isnull()].index)"
   ]
  },
  {
   "cell_type": "markdown",
   "metadata": {},
   "source": [
    "## Recover the NY Schools"
   ]
  },
  {
   "cell_type": "code",
   "execution_count": 72,
   "metadata": {},
   "outputs": [],
   "source": [
    "schname_combined_missing = schname_combined.copy()\n",
    "schname_combined_missing = schname_combined_missing[schname_combined_missing.SCH_NAME_.isnull()]\n",
    "\n",
    "schname_combined_missing_ny = schname_combined_missing.copy()\n",
    "schname_combined_missing_ny = schname_combined_missing_ny[schname_combined_missing_ny['LEA_NAME'] == 'NEW YORK CITY PUBLIC SCHOOLS']"
   ]
  },
  {
   "cell_type": "code",
   "execution_count": 73,
   "metadata": {},
   "outputs": [
    {
     "name": "stdout",
     "output_type": "stream",
     "text": [
      "22\n",
      "22\n"
     ]
    }
   ],
   "source": [
    "print(len(schname_combined_missing_ny.index))\n",
    "print(schname_combined_missing_ny.SCHID.nunique())"
   ]
  },
  {
   "cell_type": "code",
   "execution_count": 74,
   "metadata": {},
   "outputs": [],
   "source": [
    "schname_combined_missing_ny = schname_combined_missing_ny.drop(['TITLEI_', 'STABR_', 'SCH_TYPE_TEXT_', 'SCH_TYPE_',\n",
    "                                                                'LEVEL_', 'VIRTUAL_', 'GSLO_', 'GSHI_', \n",
    "                                            'NMCNTY15_', 'LOCALE15_', 'LAT1516_', 'LON1516_', 'combokey',\n",
    "                                            'LEAID_', 'LEA_NAME_', 'SCH_NAME_', 'SCHID_'], axis = 1)"
   ]
  },
  {
   "cell_type": "code",
   "execution_count": 75,
   "metadata": {},
   "outputs": [],
   "source": [
    "def schid_state_maker(schid, state):\n",
    "    schid = str(schid).zfill(5)\n",
    "    return schid + state"
   ]
  },
  {
   "cell_type": "code",
   "execution_count": 76,
   "metadata": {},
   "outputs": [],
   "source": [
    "schname_combined_missing_ny['schid_state'] = schname_combined_missing_ny.apply(lambda row: schid_state_maker(row['SCHID'], row['LEA_STATE']), axis = 1)"
   ]
  },
  {
   "cell_type": "code",
   "execution_count": 77,
   "metadata": {},
   "outputs": [],
   "source": [
    "nces_for_missing_ny = nces_1516_full.copy()\n",
    "\n",
    "nces_for_missing_ny['schid_state'] = nces_for_missing_ny.apply(lambda row: schid_state_maker(row['SCHID'], row['STABR']), axis = 1)"
   ]
  },
  {
   "cell_type": "code",
   "execution_count": 78,
   "metadata": {},
   "outputs": [],
   "source": [
    "missing_ny_joined = schname_combined_missing_ny.set_index('schid_state').join(nces_for_missing_ny.reset_index().set_index('schid_state'), how = 'left', rsuffix = \"_\")"
   ]
  },
  {
   "cell_type": "code",
   "execution_count": 79,
   "metadata": {},
   "outputs": [
    {
     "data": {
      "text/html": [
       "<div>\n",
       "<style scoped>\n",
       "    .dataframe tbody tr th:only-of-type {\n",
       "        vertical-align: middle;\n",
       "    }\n",
       "\n",
       "    .dataframe tbody tr th {\n",
       "        vertical-align: top;\n",
       "    }\n",
       "\n",
       "    .dataframe thead th {\n",
       "        text-align: right;\n",
       "    }\n",
       "</style>\n",
       "<table border=\"1\" class=\"dataframe\">\n",
       "  <thead>\n",
       "    <tr style=\"text-align: right;\">\n",
       "      <th></th>\n",
       "      <th>SCH_NAME</th>\n",
       "      <th>SCH_NAME_</th>\n",
       "    </tr>\n",
       "    <tr>\n",
       "      <th>schid_state</th>\n",
       "      <th></th>\n",
       "      <th></th>\n",
       "    </tr>\n",
       "  </thead>\n",
       "  <tbody>\n",
       "    <tr>\n",
       "      <th>01409NY</th>\n",
       "      <td>law, government and community service high school</td>\n",
       "      <td>LAW GOVERNMENT AND COMMUNITY SERVICE HIGH SCHOOL</td>\n",
       "    </tr>\n",
       "    <tr>\n",
       "      <th>02961NY</th>\n",
       "      <td>bronx school for law, government and justice</td>\n",
       "      <td>BRONX SCHOOL FOR LAW GOVERNMENT AND JUSTICE</td>\n",
       "    </tr>\n",
       "    <tr>\n",
       "      <th>03091NY</th>\n",
       "      <td>high school of enterprise, business &amp; technology</td>\n",
       "      <td>HIGH SCHOOL OF ENTERPRISE BUSINESS &amp; TECHNOLOGY</td>\n",
       "    </tr>\n",
       "    <tr>\n",
       "      <th>04873NY</th>\n",
       "      <td>new explorations into science,tech and math hi...</td>\n",
       "      <td>NEW EXPLORATIONS INTO SCIENCETECH AND MATH HIG...</td>\n",
       "    </tr>\n",
       "    <tr>\n",
       "      <th>05113NY</th>\n",
       "      <td>high school for law, advocacy and community ju...</td>\n",
       "      <td>HIGH SCHOOL FOR LAW ADVOCACY AND COMMUNITY JUS...</td>\n",
       "    </tr>\n",
       "    <tr>\n",
       "      <th>05516NY</th>\n",
       "      <td>science, tech &amp; research high school at erasmus</td>\n",
       "      <td>SCIENCE TECH &amp; RESEARCH HIGH SCHOOL AT ERASMUS</td>\n",
       "    </tr>\n",
       "    <tr>\n",
       "      <th>05521NY</th>\n",
       "      <td>ms 223 laboratory school of finance and techno...</td>\n",
       "      <td>MS 223 LABORATORY SCHOOL OF FINANCE AND TECHNO...</td>\n",
       "    </tr>\n",
       "    <tr>\n",
       "      <th>05536NY</th>\n",
       "      <td>queens high school of teaching, liberal arts a...</td>\n",
       "      <td>QUEENS HIGH SCHOOL OF TEACHING LIBERAL ARTS AN...</td>\n",
       "    </tr>\n",
       "    <tr>\n",
       "      <th>05677NY</th>\n",
       "      <td>marie curie high sch-nursing, medicine &amp; appli...</td>\n",
       "      <td>MARIE CURIE HIGH SCH-NURSING MEDICINE &amp; APPLIE...</td>\n",
       "    </tr>\n",
       "    <tr>\n",
       "      <th>05774NY</th>\n",
       "      <td>high school for arts, imagination and inquiry</td>\n",
       "      <td>HIGH SCHOOL FOR ARTS IMAGINATION AND INQUIRY</td>\n",
       "    </tr>\n",
       "    <tr>\n",
       "      <th>05899NY</th>\n",
       "      <td>high sch-construction, trades, engineering &amp; a...</td>\n",
       "      <td>HIGH SCH-CONSTRUCTION TRADES ENGINEERING &amp; ARC...</td>\n",
       "    </tr>\n",
       "    <tr>\n",
       "      <th>05962NY</th>\n",
       "      <td>brooklyn community high sch-communication, art...</td>\n",
       "      <td>BROOKLYN COMMUNITY HIGH SCH-COMMUNICATION ARTS...</td>\n",
       "    </tr>\n",
       "    <tr>\n",
       "      <th>05985NY</th>\n",
       "      <td>archimedes acad-math, sci, tech</td>\n",
       "      <td>ARCHIMEDES ACAD-MATH SCI TECH</td>\n",
       "    </tr>\n",
       "    <tr>\n",
       "      <th>05999NY</th>\n",
       "      <td>queens high school for information, research a...</td>\n",
       "      <td>QUEENS HIGH SCHOOL FOR INFORMATION RESEARCH AN...</td>\n",
       "    </tr>\n",
       "    <tr>\n",
       "      <th>06105NY</th>\n",
       "      <td>high school for language and diplomacy</td>\n",
       "      <td>HIGH SCHOOL FOR LANGUAGE AND DIPLOMACY (THE)</td>\n",
       "    </tr>\n",
       "    <tr>\n",
       "      <th>06122NY</th>\n",
       "      <td>the brooklyn academy of global finance</td>\n",
       "      <td>BROOKLYN ACADEMY OF GLOBAL FINANCE (THE)</td>\n",
       "    </tr>\n",
       "    <tr>\n",
       "      <th>06148NY</th>\n",
       "      <td>urban assembly school for green careers</td>\n",
       "      <td>URBAN ASSEMBLY SCHOOL FOR GREEN CAREERS (THE)</td>\n",
       "    </tr>\n",
       "  </tbody>\n",
       "</table>\n",
       "</div>"
      ],
      "text/plain": [
       "                                                      SCH_NAME  \\\n",
       "schid_state                                                      \n",
       "01409NY      law, government and community service high school   \n",
       "02961NY           bronx school for law, government and justice   \n",
       "03091NY       high school of enterprise, business & technology   \n",
       "04873NY      new explorations into science,tech and math hi...   \n",
       "05113NY      high school for law, advocacy and community ju...   \n",
       "05516NY        science, tech & research high school at erasmus   \n",
       "05521NY      ms 223 laboratory school of finance and techno...   \n",
       "05536NY      queens high school of teaching, liberal arts a...   \n",
       "05677NY      marie curie high sch-nursing, medicine & appli...   \n",
       "05774NY          high school for arts, imagination and inquiry   \n",
       "05899NY      high sch-construction, trades, engineering & a...   \n",
       "05962NY      brooklyn community high sch-communication, art...   \n",
       "05985NY                        archimedes acad-math, sci, tech   \n",
       "05999NY      queens high school for information, research a...   \n",
       "06105NY                 high school for language and diplomacy   \n",
       "06122NY                 the brooklyn academy of global finance   \n",
       "06148NY                urban assembly school for green careers   \n",
       "\n",
       "                                                     SCH_NAME_  \n",
       "schid_state                                                     \n",
       "01409NY       LAW GOVERNMENT AND COMMUNITY SERVICE HIGH SCHOOL  \n",
       "02961NY            BRONX SCHOOL FOR LAW GOVERNMENT AND JUSTICE  \n",
       "03091NY        HIGH SCHOOL OF ENTERPRISE BUSINESS & TECHNOLOGY  \n",
       "04873NY      NEW EXPLORATIONS INTO SCIENCETECH AND MATH HIG...  \n",
       "05113NY      HIGH SCHOOL FOR LAW ADVOCACY AND COMMUNITY JUS...  \n",
       "05516NY         SCIENCE TECH & RESEARCH HIGH SCHOOL AT ERASMUS  \n",
       "05521NY      MS 223 LABORATORY SCHOOL OF FINANCE AND TECHNO...  \n",
       "05536NY      QUEENS HIGH SCHOOL OF TEACHING LIBERAL ARTS AN...  \n",
       "05677NY      MARIE CURIE HIGH SCH-NURSING MEDICINE & APPLIE...  \n",
       "05774NY           HIGH SCHOOL FOR ARTS IMAGINATION AND INQUIRY  \n",
       "05899NY      HIGH SCH-CONSTRUCTION TRADES ENGINEERING & ARC...  \n",
       "05962NY      BROOKLYN COMMUNITY HIGH SCH-COMMUNICATION ARTS...  \n",
       "05985NY                          ARCHIMEDES ACAD-MATH SCI TECH  \n",
       "05999NY      QUEENS HIGH SCHOOL FOR INFORMATION RESEARCH AN...  \n",
       "06105NY           HIGH SCHOOL FOR LANGUAGE AND DIPLOMACY (THE)  \n",
       "06122NY               BROOKLYN ACADEMY OF GLOBAL FINANCE (THE)  \n",
       "06148NY          URBAN ASSEMBLY SCHOOL FOR GREEN CAREERS (THE)  "
      ]
     },
     "execution_count": 79,
     "metadata": {},
     "output_type": "execute_result"
    }
   ],
   "source": [
    "\"\"\" Join the missing NY schools with NCES \"\"\"\n",
    "missing_ny_joined[missing_ny_joined.LEVEL_.notnull()][['SCH_NAME','SCH_NAME_']]"
   ]
  },
  {
   "cell_type": "code",
   "execution_count": 80,
   "metadata": {},
   "outputs": [
    {
     "data": {
      "text/plain": [
       "5"
      ]
     },
     "execution_count": 80,
     "metadata": {},
     "output_type": "execute_result"
    }
   ],
   "source": [
    "\"\"\" Dealing with remaining missing NY Schools \"\"\"\n",
    "missing_ny_2 = missing_ny_joined.copy()\n",
    "missing_ny_2 = missing_ny_2[missing_ny_2.LEVEL_.isnull()]\n",
    "\n",
    "len(missing_ny_2.index)"
   ]
  },
  {
   "cell_type": "code",
   "execution_count": 81,
   "metadata": {},
   "outputs": [],
   "source": [
    "missing_ny_2 = missing_ny_2.drop(['TITLEI_', 'STABR_', 'SCH_TYPE_TEXT_', 'SCH_TYPE_',\n",
    "                   'LEVEL_', 'VIRTUAL_', 'GSLO_', 'GSHI_', \n",
    "                   'NMCNTY15_', 'LOCALE15_', 'LAT1516_', 'LON1516_', 'combokey',\n",
    "                   'LEAID_', 'LEA_NAME_', 'SCH_NAME_', 'SCHID_'], axis = 1)"
   ]
  },
  {
   "cell_type": "code",
   "execution_count": 82,
   "metadata": {},
   "outputs": [],
   "source": [
    "missing_ny_2['actual_combokey'] = pd.Series(np.resize(0, len(missing_ny_2.index)), dtype = np.object)\n",
    "\n",
    "# missing_ny_2.at[\"99780NY\", 'actual_combokey'] = \"='360012306528'\"\n",
    "# missing_ny_2.at[\"99796NY\", 'actual_combokey'] = \"='360012306535'\"\n",
    "# missing_ny_2.at[\"99775NY\", 'actual_combokey'] = \"='360012006484'\"\n",
    "# missing_ny_2.at[\"99776NY\", 'actual_combokey'] = \"='360010106508'\"\n",
    "# missing_ny_2.at[\"99805NY\", 'actual_combokey'] = \"='360008306490'\"\n",
    "missing_ny_2.at[\"99874NY\", 'actual_combokey'] = \"='360007706372'\"\n",
    "missing_ny_2.at[\"99933NY\", 'actual_combokey'] = \"='360008106380'\"\n",
    "missing_ny_2.at[\"99968NY\", 'actual_combokey'] = \"='360007606296'\"\n",
    "missing_ny_2.at[\"99992NY\", 'actual_combokey'] = \"='360009706274'\"\n",
    "missing_ny_2.at[\"99995NY\", 'actual_combokey'] = \"='360009506273'\""
   ]
  },
  {
   "cell_type": "code",
   "execution_count": 83,
   "metadata": {},
   "outputs": [],
   "source": [
    "\"\"\" Join again on the NCES \"\"\"\n",
    "missing_ny_2_joined = missing_ny_2.set_index('actual_combokey').join(nces_1516_full, how = 'left', rsuffix = '_')"
   ]
  },
  {
   "cell_type": "code",
   "execution_count": 84,
   "metadata": {},
   "outputs": [
    {
     "data": {
      "text/plain": [
       "5"
      ]
     },
     "execution_count": 84,
     "metadata": {},
     "output_type": "execute_result"
    }
   ],
   "source": [
    "\"\"\"How many matched?\"\"\"\n",
    "len(missing_ny_2_joined[missing_ny_2_joined.LEVEL_.notnull()].index)"
   ]
  },
  {
   "cell_type": "markdown",
   "metadata": {},
   "source": [
    "## Combine recovered schools and performing filters "
   ]
  },
  {
   "cell_type": "markdown",
   "metadata": {},
   "source": [
    "** Concatenate the two recovered Missing NY Schools sets **"
   ]
  },
  {
   "cell_type": "code",
   "execution_count": 85,
   "metadata": {},
   "outputs": [],
   "source": [
    "missing_ny_joined_matching = missing_ny_joined[missing_ny_joined.LEVEL_.notnull()]"
   ]
  },
  {
   "cell_type": "code",
   "execution_count": 86,
   "metadata": {},
   "outputs": [],
   "source": [
    "all_missing_ny_recovered = missing_ny_2_joined.append(missing_ny_joined_matching)"
   ]
  },
  {
   "cell_type": "markdown",
   "metadata": {},
   "source": [
    "**Join the original recovered schools (using schname_st identifier) with the recovered NY schools**"
   ]
  },
  {
   "cell_type": "code",
   "execution_count": 87,
   "metadata": {},
   "outputs": [],
   "source": [
    "recovered_schools = schname_combined.copy()\n",
    "recovered_schools = recovered_schools.fillna(\"Missing\")"
   ]
  },
  {
   "cell_type": "code",
   "execution_count": 88,
   "metadata": {},
   "outputs": [],
   "source": [
    "recovered_schools = recovered_schools[recovered_schools['SCH_NAME_'] != \"Missing\"]"
   ]
  },
  {
   "cell_type": "code",
   "execution_count": 89,
   "metadata": {},
   "outputs": [],
   "source": [
    "recovered_schools_all = recovered_schools.append(all_missing_ny_recovered)"
   ]
  },
  {
   "cell_type": "markdown",
   "metadata": {},
   "source": [
    "** Reformat the Columns ** -- Need to make sure that the recovered schools dataset's columns match the original filtered dataset's columns (required for concatenating the two sets properly)"
   ]
  },
  {
   "cell_type": "code",
   "execution_count": 90,
   "metadata": {},
   "outputs": [],
   "source": [
    "\"\"\"Drop original nces columns (the ones with missing values)\"\"\"    \n",
    "recovered_schools_all = recovered_schools_all.drop(['TITLEI', 'STABR', 'SCH_TYPE_TEXT', 'SCH_TYPE', 'LEVEL', 'VIRTUAL', 'GSLO', 'GSHI', \n",
    "                                            'NMCNTY15', 'LOCALE15', 'LAT1516', 'LON1516', 'combokey',\n",
    "                                            'LEAID_', 'LEA_NAME_', 'SCH_NAME_', 'SCHID_'], axis = 1)\n",
    "\"\"\"Rename new matching columns to replace the columns above (necessary for a proper concatenation later)\"\"\"\n",
    "recovered_schools_all = recovered_schools_all.rename(lambda x: x.strip('_'), axis = 'columns')\n",
    "recovered_schools_all = recovered_schools_all.set_index('COMBOKEY')"
   ]
  },
  {
   "cell_type": "code",
   "execution_count": 91,
   "metadata": {},
   "outputs": [
    {
     "name": "stdout",
     "output_type": "stream",
     "text": [
      "123\n",
      "123\n"
     ]
    }
   ],
   "source": [
    "\"\"\"Do the columns between the original filtered set and recovered missing values set match\"\"\"\n",
    "print(len(recovered_schools_all.columns.values))\n",
    "print(len(filter5_crdc_nces_1516.columns.values))"
   ]
  },
  {
   "cell_type": "code",
   "execution_count": 92,
   "metadata": {},
   "outputs": [
    {
     "data": {
      "text/plain": [
       "710"
      ]
     },
     "execution_count": 92,
     "metadata": {},
     "output_type": "execute_result"
    }
   ],
   "source": [
    "\"\"\" How many schools recovered? \"\"\"\n",
    "len(recovered_schools_all.index)"
   ]
  },
  {
   "cell_type": "code",
   "execution_count": 93,
   "metadata": {},
   "outputs": [
    {
     "name": "stdout",
     "output_type": "stream",
     "text": [
      "Stored 'recovered_schools_all' (DataFrame)\n"
     ]
    }
   ],
   "source": [
    "\"\"\"Store the recovered schools for use in other jupyter notebooks (like 04_Filtered_School_Analysis.csv)\"\"\"\n",
    "%store recovered_schools_all"
   ]
  },
  {
   "cell_type": "markdown",
   "metadata": {},
   "source": [
    "** Non-Virtual Schools **"
   ]
  },
  {
   "cell_type": "code",
   "execution_count": 94,
   "metadata": {},
   "outputs": [],
   "source": [
    "recovered_schools_filter1 = recovered_schools_all.copy()"
   ]
  },
  {
   "cell_type": "code",
   "execution_count": 95,
   "metadata": {},
   "outputs": [],
   "source": [
    "filtered_out_recovered = recovered_schools_filter1[recovered_schools_filter1.VIRTUAL == 'Yes']\n",
    "recovered_schools_filter1 = recovered_schools_filter1[recovered_schools_filter1.VIRTUAL != 'Yes']"
   ]
  },
  {
   "cell_type": "code",
   "execution_count": 96,
   "metadata": {},
   "outputs": [
    {
     "data": {
      "text/plain": [
       "697"
      ]
     },
     "execution_count": 96,
     "metadata": {},
     "output_type": "execute_result"
    }
   ],
   "source": [
    "\"\"\"How many schools remain?\"\"\"\n",
    "len(recovered_schools_filter1.index)"
   ]
  },
  {
   "cell_type": "markdown",
   "metadata": {},
   "source": [
    "** NCES-Reported High Schools **"
   ]
  },
  {
   "cell_type": "code",
   "execution_count": 97,
   "metadata": {},
   "outputs": [],
   "source": [
    "recovered_schools_filter2 = recovered_schools_filter1.copy()"
   ]
  },
  {
   "cell_type": "code",
   "execution_count": 98,
   "metadata": {},
   "outputs": [],
   "source": [
    "filtered_out_recovered = filtered_out_recovered.append(recovered_schools_filter2[(recovered_schools_filter2.LEVEL=='1') |\n",
    "                                                        (recovered_schools_filter2.LEVEL=='2') |\n",
    "                                                        (recovered_schools_filter2.LEVEL=='N')])\n",
    "recovered_schools_filter2 = recovered_schools_filter2[(recovered_schools_filter2.LEVEL == '3') |\n",
    "                                                      (recovered_schools_filter2.LEVEL == '4')]"
   ]
  },
  {
   "cell_type": "code",
   "execution_count": 99,
   "metadata": {},
   "outputs": [
    {
     "data": {
      "text/plain": [
       "692"
      ]
     },
     "execution_count": 99,
     "metadata": {},
     "output_type": "execute_result"
    }
   ],
   "source": [
    "\"\"\"How many schools remain?\"\"\"\n",
    "len(recovered_schools_filter2.index)"
   ]
  },
  {
   "cell_type": "markdown",
   "metadata": {},
   "source": [
    "** NCES-Reported Regular / Vocational **"
   ]
  },
  {
   "cell_type": "code",
   "execution_count": 100,
   "metadata": {},
   "outputs": [],
   "source": [
    "recovered_schools_filter3 = recovered_schools_filter2.copy()"
   ]
  },
  {
   "cell_type": "code",
   "execution_count": 101,
   "metadata": {},
   "outputs": [
    {
     "data": {
      "text/plain": [
       "1.0    648\n",
       "4.0     27\n",
       "3.0     17\n",
       "Name: SCH_TYPE, dtype: int64"
      ]
     },
     "execution_count": 101,
     "metadata": {},
     "output_type": "execute_result"
    }
   ],
   "source": [
    "recovered_schools_filter3.SCH_TYPE.value_counts()"
   ]
  },
  {
   "cell_type": "code",
   "execution_count": 102,
   "metadata": {},
   "outputs": [],
   "source": [
    "filtered_out_recovered = filtered_out_recovered.append(recovered_schools_filter3[(recovered_schools_filter3.SCH_TYPE == 2) | \n",
    "                                                                                 (recovered_schools_filter3.SCH_TYPE == 4)])\n",
    "recovered_schools_filter3 = recovered_schools_filter3[(recovered_schools_filter3.SCH_TYPE == 1) |\\\n",
    "                                                      (recovered_schools_filter3.SCH_TYPE == 3)]"
   ]
  },
  {
   "cell_type": "code",
   "execution_count": 103,
   "metadata": {},
   "outputs": [
    {
     "data": {
      "text/plain": [
       "665"
      ]
     },
     "execution_count": 103,
     "metadata": {},
     "output_type": "execute_result"
    }
   ],
   "source": [
    "\"\"\"How many schools remain?\"\"\"\n",
    "len(recovered_schools_filter3.index)"
   ]
  },
  {
   "cell_type": "markdown",
   "metadata": {},
   "source": [
    "**Remove Schools with 'Adult' in the Name**"
   ]
  },
  {
   "cell_type": "code",
   "execution_count": 104,
   "metadata": {},
   "outputs": [],
   "source": [
    "filtered_out_recovered = filtered_out_recovered.append(recovered_schools_filter3[recovered_schools_filter3.SCH_NAME.str.contains('Adult', case=False)])\n",
    "recovered_schools_filter3 = recovered_schools_filter3[~recovered_schools_filter3.SCH_NAME.str.contains('Adult', case=False)]"
   ]
  },
  {
   "cell_type": "code",
   "execution_count": 105,
   "metadata": {},
   "outputs": [
    {
     "data": {
      "text/plain": [
       "45"
      ]
     },
     "execution_count": 105,
     "metadata": {},
     "output_type": "execute_result"
    }
   ],
   "source": [
    "len(filtered_out_recovered)"
   ]
  },
  {
   "cell_type": "markdown",
   "metadata": {},
   "source": [
    "**Clean Duplicate Values **"
   ]
  },
  {
   "cell_type": "code",
   "execution_count": 106,
   "metadata": {},
   "outputs": [
    {
     "data": {
      "text/plain": [
       "'NOTE: the community collaborative charter duplication appears to be legit (two campuses of the same school?)'"
      ]
     },
     "execution_count": 106,
     "metadata": {},
     "output_type": "execute_result"
    }
   ],
   "source": [
    "recovered_schools_filter3.groupby('SCH_NAME')['SCH_NAME'].count().sort_values(ascending = False).head(5)\n",
    "\"\"\"NOTE: the community collaborative charter duplication appears to be legit (two campuses of the same school?)\"\"\""
   ]
  },
  {
   "cell_type": "code",
   "execution_count": 107,
   "metadata": {},
   "outputs": [],
   "source": [
    "\"\"\"Beacon High School in Dutchess County is already in the filter5 dataset -- Remove\"\"\"\n",
    "recovered_schools_filter4 = recovered_schools_filter3.copy()\n",
    "recovered_schools_filter4 = recovered_schools_filter4[(recovered_schools_filter4.SCH_NAME != 'beacon high school') | (recovered_schools_filter4.NMCNTY15 != 'Dutchess County')]"
   ]
  },
  {
   "cell_type": "code",
   "execution_count": 108,
   "metadata": {},
   "outputs": [],
   "source": [
    "\"\"\"Both of the performance learning centers here actually matched to a different 'performance learning center' record;\n",
    "therefore, they should both be removed\"\"\"\n",
    "recovered_schools_filter4 = recovered_schools_filter4[recovered_schools_filter4.SCH_NAME != 'performance learning center']"
   ]
  },
  {
   "cell_type": "code",
   "execution_count": 109,
   "metadata": {},
   "outputs": [],
   "source": [
    "\"\"\"The University High in Irvine was already accounted for; therefore, needs to be removed from the recovered\"\"\"\n",
    "recovered_schools_filter4 = recovered_schools_filter4[(recovered_schools_filter4.SCH_NAME != 'university high') | (recovered_schools_filter4.NMCNTY15 != 'Orange County')]"
   ]
  },
  {
   "cell_type": "code",
   "execution_count": 110,
   "metadata": {},
   "outputs": [
    {
     "data": {
      "text/plain": [
       "661"
      ]
     },
     "execution_count": 110,
     "metadata": {},
     "output_type": "execute_result"
    }
   ],
   "source": [
    "\"\"\"'How many final recovered values?'\"\"\"\n",
    "len(recovered_schools_filter4.index)"
   ]
  },
  {
   "cell_type": "code",
   "execution_count": 111,
   "metadata": {},
   "outputs": [
    {
     "name": "stdout",
     "output_type": "stream",
     "text": [
      "Stored 'recovered_schools_filter4' (DataFrame)\n",
      "Stored 'filtered_out_recovered' (DataFrame)\n"
     ]
    }
   ],
   "source": [
    "\"\"\"Store the final recovered_schools to be filtered-in/out\"\"\"\n",
    "%store recovered_schools_filter4\n",
    "%store filtered_out_recovered"
   ]
  },
  {
   "cell_type": "markdown",
   "metadata": {},
   "source": [
    "# <font color = green> VI. Concatenating Recovered Missing Values with the original Filtered Dataset </font>\n",
    "<div class = 'alert alert-cell alert-info'> Finally, I concatenated the recovered high schools with the original filtered set.<br><br>\n",
    "\n",
    "I ensured that no duplicate values were added in the process.\n",
    "\n",
    "Then saved the file to \"../filtered_data/04_filter_final.csv\" </div>\n",
    "<div class = 'alert alert-cell alert-warning'>\n",
    "Final Total:  **15725 High Schools**"
   ]
  },
  {
   "cell_type": "code",
   "execution_count": 112,
   "metadata": {},
   "outputs": [],
   "source": [
    "\"\"\"Remove the missing values\"\"\"\n",
    "filter6_crdc_nces_1516 = filter5_crdc_nces_1516.copy()\n",
    "filter6_crdc_nces_1516 = filter6_crdc_nces_1516[filter6_crdc_nces_1516.LEVEL != \"Missing\"]"
   ]
  },
  {
   "cell_type": "code",
   "execution_count": 113,
   "metadata": {},
   "outputs": [
    {
     "data": {
      "text/plain": [
       "STABR  SCH_NAME           NMCNTY15        \n",
       "TX     TAYLOR H S         Harris County       2\n",
       "       LEE H S            Harris County       2\n",
       "       STERLING H S       Harris County       2\n",
       "MO     ADAIR CO. HIGH     Adair County        2\n",
       "KS     Smoky Valley High  McPherson County    1\n",
       "Name: SCH_NAME, dtype: int64"
      ]
     },
     "execution_count": 113,
     "metadata": {},
     "output_type": "execute_result"
    }
   ],
   "source": [
    "\"\"\"How many initial Duplicates?\n",
    "Interesting enough, these duplicates appear to legitimate; the problem seems to be that the schools actually have \n",
    "different names (e.g. \"The ADAIR Co. High\"'s are actually supposed to be labeled ADAIR Co. R-I High and ADAIR Co. R-II BRASHEAR)\"\"\"\n",
    "filter6_crdc_nces_1516.groupby(['STABR','SCH_NAME','NMCNTY15'])['SCH_NAME'].count().sort_values(ascending=False).head()"
   ]
  },
  {
   "cell_type": "code",
   "execution_count": 114,
   "metadata": {},
   "outputs": [
    {
     "data": {
      "text/plain": [
       "STABR  SCH_NAME                                   NMCNTY15         \n",
       "CA     community collaborative charter            Sacramento County    2\n",
       "TX     ischool high of hickory creek              Denton County        1\n",
       "NY     arts and media preparatory academy         Kings County         1\n",
       "       baccalaureate school for global education  Queens County        1\n",
       "       aviation career and technical high school  Queens County        1\n",
       "Name: SCH_NAME, dtype: int64"
      ]
     },
     "execution_count": 114,
     "metadata": {},
     "output_type": "execute_result"
    }
   ],
   "source": [
    "\"\"\"Any dulications in the recovered schools?\n",
    "    The community collaborative charter schools are two different schools.\"\"\"\n",
    "recovered_schools_filter4.groupby(['STABR','SCH_NAME','NMCNTY15'])['SCH_NAME'].count().sort_values(ascending=False).head()"
   ]
  },
  {
   "cell_type": "code",
   "execution_count": 115,
   "metadata": {},
   "outputs": [],
   "source": [
    "# filtered_and_recovered = pd.concat([filter6_crdc_nces_1516, recovered_schools_filter4])\n",
    "filtered_and_recovered = filter6_crdc_nces_1516.append(recovered_schools_filter4)"
   ]
  },
  {
   "cell_type": "code",
   "execution_count": 116,
   "metadata": {},
   "outputs": [
    {
     "name": "stdout",
     "output_type": "stream",
     "text": [
      "123\n"
     ]
    },
    {
     "data": {
      "text/plain": [
       "123"
      ]
     },
     "execution_count": 116,
     "metadata": {},
     "output_type": "execute_result"
    }
   ],
   "source": [
    "\"\"\"Do the numbers of columns match?\"\"\"\n",
    "print(len(filter6_crdc_nces_1516.columns.values))\n",
    "len(filtered_and_recovered.columns.values)"
   ]
  },
  {
   "cell_type": "code",
   "execution_count": 117,
   "metadata": {},
   "outputs": [],
   "source": [
    "\"\"\"Because Columns are stored as dictionaries, there is no inherent order to the columns -- Pandas automatically \n",
    "uses an alphabetical sort on an append/concatenation.  I reorded the columns to show the SCH Name first\"\"\"\n",
    "schName = ['SCH_NAME']\n",
    "reorder = schName + [c for c in filtered_and_recovered.columns if c not in schName]\n",
    "filtered_and_recovered = filtered_and_recovered[reorder]"
   ]
  },
  {
   "cell_type": "code",
   "execution_count": 118,
   "metadata": {},
   "outputs": [
    {
     "data": {
      "text/plain": [
       "STABR  SCH_NAME                            NMCNTY15         \n",
       "CA     community collaborative charter     Sacramento County    2\n",
       "TX     STERLING H S                        Harris County        2\n",
       "       TAYLOR H S                          Harris County        2\n",
       "MO     ADAIR CO. HIGH                      Adair County         2\n",
       "TX     LEE H S                             Harris County        2\n",
       "KS     Victoria Junior-Senior High School  Ellis County         1\n",
       "Name: SCH_NAME, dtype: int64"
      ]
     },
     "execution_count": 118,
     "metadata": {},
     "output_type": "execute_result"
    }
   ],
   "source": [
    "\"\"\"No added duplicate records\"\"\"\n",
    "filtered_and_recovered.groupby(['STABR','SCH_NAME','NMCNTY15'])['SCH_NAME'].count().sort_values(ascending=False).head(6)"
   ]
  },
  {
   "cell_type": "code",
   "execution_count": 119,
   "metadata": {},
   "outputs": [
    {
     "data": {
      "text/plain": [
       "18684"
      ]
     },
     "execution_count": 119,
     "metadata": {},
     "output_type": "execute_result"
    }
   ],
   "source": [
    "\"How many total high schools in the set?\"\n",
    "len(filtered_and_recovered.index)"
   ]
  },
  {
   "cell_type": "code",
   "execution_count": 120,
   "metadata": {},
   "outputs": [],
   "source": [
    "# filtered_and_recovered.to_csv('../filtered_data/04_filter_final.csv')"
   ]
  },
  {
   "cell_type": "markdown",
   "metadata": {},
   "source": [
    "# Final Missing Schools\n",
    "<div class = 'alert alert-cell alert-info'>**348 Schools**<br> Saved to '04_final_missing.csv'"
   ]
  },
  {
   "cell_type": "code",
   "execution_count": 121,
   "metadata": {},
   "outputs": [],
   "source": [
    "final_missing = schname_combined[(schname_combined.SCH_NAME_.isnull()) & (schname_combined.LEA_NAME != 'NEW YORK CITY PUBLIC SCHOOLS')]"
   ]
  },
  {
   "cell_type": "code",
   "execution_count": 122,
   "metadata": {},
   "outputs": [
    {
     "data": {
      "text/plain": [
       "290"
      ]
     },
     "execution_count": 122,
     "metadata": {},
     "output_type": "execute_result"
    }
   ],
   "source": [
    "\"\"\" How many final missing schools? \"\"\"\n",
    "len(final_missing.index)"
   ]
  },
  {
   "cell_type": "code",
   "execution_count": 123,
   "metadata": {},
   "outputs": [],
   "source": [
    "# final_missing.to_csv('../filtered_data/04_final_missing.csv')"
   ]
  },
  {
   "cell_type": "code",
   "execution_count": 124,
   "metadata": {},
   "outputs": [
    {
     "data": {
      "text/plain": [
       "LEA_NAME\n",
       "NORMAN                                                     7\n",
       "Dept. of Svs. for Children Youth & Their Families          5\n",
       "OFFICE OF EDUCATION DEPARTMENT OF CHILDREN AND FAMILIES    4\n",
       "ERIE 2-CHAUTAUQUA-CATTARAUGUS BOCES                        3\n",
       "Clayton County                                             3\n",
       "NASSAU BOCES                                               3\n",
       "Cherokee County                                            3\n",
       "WINDSOR SCHOOL DISTRICT                                    3\n",
       "Boston                                                     3\n",
       "TULSA                                                      3\n",
       "Name: LEAID, dtype: int64"
      ]
     },
     "execution_count": 124,
     "metadata": {},
     "output_type": "execute_result"
    }
   ],
   "source": [
    "\"\"\" Top remaining unaccounted districts \"\"\"\n",
    "final_missing.groupby('LEA_NAME')['LEAID'].count().sort_values(ascending = False).head(10)"
   ]
  },
  {
   "cell_type": "code",
   "execution_count": null,
   "metadata": {},
   "outputs": [],
   "source": []
  }
 ],
 "metadata": {
  "kernelspec": {
   "display_name": "nacep_venv",
   "language": "python",
   "name": "nacep_venv"
  },
  "language_info": {
   "codemirror_mode": {
    "name": "ipython",
    "version": 3
   },
   "file_extension": ".py",
   "mimetype": "text/x-python",
   "name": "python",
   "nbconvert_exporter": "python",
   "pygments_lexer": "ipython3",
   "version": "3.6.5"
  }
 },
 "nbformat": 4,
 "nbformat_minor": 2
}
