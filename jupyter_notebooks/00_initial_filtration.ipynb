{
 "cells": [
  {
   "cell_type": "markdown",
   "metadata": {},
   "source": [
    "# <u> The National Alliance of Concurrent Enrollment Partnerships </u>\n",
    "## 2015-16 Civil Rights Data Collection (CRDC)\n",
    "## Advanced Placement (AP) v. Dual Enrollment (DE)\n",
    "### Initial Filtration\n",
    "#### Alijah O'Connor - 2018\n",
    "------------------------------------------------------------------------------------\n",
    "---\n",
    "The basis for this entire project relies on the accuracy of establishing a dataset that includes only 'Traditional High Schools.' The definition we have chosen to use centers around schools that contain 11th or 12th grades, non-special education, non-juvenile justice, non-alternative schools; however, other filters include removing virtual schools, adult schools, schools without a matching National Center for Education Statistics (NCES) identifier (some excepetions).  Note that the dataset used herein inlcudes both the 2015-2016 CRDC school information, but also information gathered in the 2015-2016 NCES National Survey.  Below is the official filtration procedure:\n",
    "    - Join the uncompiled 2015-2016 NCES dataset into one dataset\n",
    "    - Join the compiled NCES dataset with the 2015-2016 CRDC dataset\n",
    "    \n",
    "    - Filter Out (Dataset Attribute in Parentheses)\n",
    "        - Special Education, Alternative, Juvenile Justice Schools (CRDC)\n",
    "        - Schools without 11th or 12 Grade (CRDC)\n",
    "        - Virtual Schools (NCES)\n",
    "        - Schools reported as 'Elementary', 'Middle', or 'Other' (NCES)\n",
    "        - Special Education, Alternative/Other, and \"Adult\" Schools (NCES)\n",
    "    - Recover Some Schools that did not have matching NCES identifiers\n",
    "        - Join recovered schools with dataset\n",
    "        - Remove any remaining schools that did not match\n",
    "------------------------------------------------------------------------------------\n",
    "---"
   ]
  },
  {
   "cell_type": "code",
   "execution_count": 1,
   "metadata": {},
   "outputs": [],
   "source": [
    "from IPython.display import HTML\n",
    "\n",
    "HTML('''<script>\n",
    "code_show=true; \n",
    "function code_toggle() {\n",
    " if (code_show){\n",
    " $('div.input').hide();\n",
    " } else {\n",
    " $('div.input').show();\n",
    " }\n",
    " code_show = !code_show\n",
    "} \n",
    "$( document ).ready(code_toggle);\n",
    "</script>\n",
    "<form action=\"javascript:code_toggle()\"><input type=\"submit\" value=\"Click here to toggle on/off the raw code.\"></form>''')"
   ]
  },
  {
   "cell_type": "code",
   "execution_count": 2,
   "metadata": {},
   "outputs": [],
   "source": [
    "import pandas as pd\n",
    "import numpy as np\n",
    "import seaborn as sns\n",
    "import matplotlib.pyplot as plt\n",
    "\n",
    "from my_functions import combokey_converter\n",
    "\n",
    "%matplotlib inline\n",
    "sns.set_style('whitegrid')\n",
    "plt.rc('axes', titlesize = 14, titleweight = 'bold', labelweight = 'bold')"
   ]
  },
  {
   "cell_type": "markdown",
   "metadata": {},
   "source": [
    "#  Data Cleaning/Joining "
   ]
  },
  {
   "cell_type": "markdown",
   "metadata": {},
   "source": [
    "## crdc_1516 Data\n",
    "Used combokey_convert.converter to create a csv-compatible \"COMBOKEY\""
   ]
  },
  {
   "cell_type": "code",
   "execution_count": 3,
   "metadata": {},
   "outputs": [],
   "source": [
    "crdc_1516 = pd.read_csv('../filtered_data/00_crdc_1516_initial.csv', \n",
    "                        dtype = {'LEAID':np.object})"
   ]
  },
  {
   "cell_type": "code",
   "execution_count": 4,
   "metadata": {},
   "outputs": [],
   "source": [
    "crdc_1516['COMBOKEY'] = combokey_converter.convert(crdc_1516, 'LEAID', 'SCHID')"
   ]
  },
  {
   "cell_type": "markdown",
   "metadata": {},
   "source": [
    "## Compiling NCES 1516 Data\n",
    "<b> The nces_1516 Data was recorded in separate files (each with different numbers of schools), so they are joined to avoid corruption/loss of data. </b><br>\n",
    "    <u>Files</u><br>\n",
    "    1. Characteristics \n",
    "    2. Directory \n",
    "    3. Geographic \n",
    "    \n",
    "Like the crdc data, the combokey field was generated using my combokey_converter.convert function.<br>"
   ]
  },
  {
   "cell_type": "code",
   "execution_count": 5,
   "metadata": {},
   "outputs": [],
   "source": [
    "nces_1516_characteristics = pd.read_csv('../filtered_data/01_nces_1516_initial_school_characteristics.csv')"
   ]
  },
  {
   "cell_type": "code",
   "execution_count": 6,
   "metadata": {},
   "outputs": [],
   "source": [
    "nces_1516_characteristics['combokey'] = combokey_converter.convert(nces_1516_characteristics, 'LEAID', 'SCHID')"
   ]
  },
  {
   "cell_type": "code",
   "execution_count": 7,
   "metadata": {},
   "outputs": [],
   "source": [
    "nces_1516_directory = pd.read_csv('../filtered_data/01_nces_1516_initial_school_directory.csv')"
   ]
  },
  {
   "cell_type": "code",
   "execution_count": 8,
   "metadata": {},
   "outputs": [],
   "source": [
    "nces_1516_directory['combokey'] = combokey_converter.convert(nces_1516_directory, 'LEAID', 'SCHID')"
   ]
  },
  {
   "cell_type": "markdown",
   "metadata": {},
   "source": [
    "**First Join:  Directory + Characteristics**"
   ]
  },
  {
   "cell_type": "code",
   "execution_count": 9,
   "metadata": {},
   "outputs": [],
   "source": [
    "nces_1516 = nces_1516_characteristics.set_index('combokey').join(nces_1516_directory.set_index('combokey'),\n",
    "                                                                 how = 'inner', lsuffix = 'dir_')"
   ]
  },
  {
   "cell_type": "code",
   "execution_count": 10,
   "metadata": {},
   "outputs": [
    {
     "data": {
      "text/plain": [
       "'100232 Schools Matched.'"
      ]
     },
     "execution_count": 10,
     "metadata": {},
     "output_type": "execute_result"
    }
   ],
   "source": [
    "str(len(nces_1516.index)) + ' Schools Matched.'"
   ]
  },
  {
   "cell_type": "code",
   "execution_count": 11,
   "metadata": {},
   "outputs": [],
   "source": [
    "nces_1516 = nces_1516.drop(['LEAIDdir_', 'SCHIDdir_', 'SCH_NAMEdir_'], axis = 1)"
   ]
  },
  {
   "cell_type": "markdown",
   "metadata": {},
   "source": [
    "**Second Join: combined + geo**"
   ]
  },
  {
   "cell_type": "code",
   "execution_count": 12,
   "metadata": {},
   "outputs": [],
   "source": [
    "nces_1516_geo = pd.read_csv('../filtered_data/01_nces_1516_initial_geographic.csv',  dtype = {'LOCALE15': np.object})"
   ]
  },
  {
   "cell_type": "code",
   "execution_count": 13,
   "metadata": {},
   "outputs": [],
   "source": [
    "nces_1516_geo['combokey'] = combokey_converter.convert(nces_1516_geo, 'LEAID', 'SCHID')"
   ]
  },
  {
   "cell_type": "code",
   "execution_count": 14,
   "metadata": {},
   "outputs": [],
   "source": [
    "nces_1516_test = nces_1516.join(nces_1516_geo.set_index('combokey'), how = 'inner', rsuffix = 'dir_')"
   ]
  },
  {
   "cell_type": "code",
   "execution_count": 15,
   "metadata": {},
   "outputs": [],
   "source": [
    "nces_1516_full = nces_1516_test.drop(['LEAIDdir_', 'SCHIDdir_', 'NAME'], axis = 1)"
   ]
  },
  {
   "cell_type": "code",
   "execution_count": 16,
   "metadata": {},
   "outputs": [
    {
     "data": {
      "text/plain": [
       "'100096 Schools Matched'"
      ]
     },
     "execution_count": 16,
     "metadata": {},
     "output_type": "execute_result"
    }
   ],
   "source": [
    "str(len(nces_1516_full.index)) + ' Schools Matched'"
   ]
  },
  {
   "cell_type": "code",
   "execution_count": 17,
   "metadata": {},
   "outputs": [],
   "source": [
    "# nces_1516_full.to_csv('../filtered_data/01_nces_1516_initial_combined_ccd.csv')"
   ]
  },
  {
   "cell_type": "markdown",
   "metadata": {},
   "source": [
    "## NCES (combined) and 2015-2016 CRDC join"
   ]
  },
  {
   "cell_type": "code",
   "execution_count": 18,
   "metadata": {},
   "outputs": [],
   "source": [
    "crdc_nces1516_test = crdc_1516.set_index('COMBOKEY').join(nces_1516_full, how = 'left', rsuffix=('_'))"
   ]
  },
  {
   "cell_type": "code",
   "execution_count": 19,
   "metadata": {},
   "outputs": [
    {
     "data": {
      "text/plain": [
       "'3854 Schools Did Not Have Matching NCES Identifiers'"
      ]
     },
     "execution_count": 19,
     "metadata": {},
     "output_type": "execute_result"
    }
   ],
   "source": [
    "str(crdc_nces1516_test[crdc_nces1516_test.SCH_NAME_.isnull()].LEAID.count()) + ' Schools Did Not Have Matching NCES Identifiers'"
   ]
  },
  {
   "cell_type": "code",
   "execution_count": 20,
   "metadata": {},
   "outputs": [],
   "source": [
    "crdc_nces_1516 = crdc_nces1516_test.drop(['LEA_NAME_', 'LEAID_', 'SCHID_', 'SCH_NAME_'], axis = 1)"
   ]
  },
  {
   "cell_type": "code",
   "execution_count": 21,
   "metadata": {},
   "outputs": [
    {
     "data": {
      "text/plain": [
       "'96360 Total Schools in the Combined DataFrame'"
      ]
     },
     "execution_count": 21,
     "metadata": {},
     "output_type": "execute_result"
    }
   ],
   "source": [
    "str(len(crdc_nces_1516.index)) + ' Total Schools in the Combined DataFrame'"
   ]
  },
  {
   "cell_type": "code",
   "execution_count": 22,
   "metadata": {},
   "outputs": [],
   "source": [
    "crdc_nces_1516 = crdc_nces_1516.fillna('Missing')"
   ]
  },
  {
   "cell_type": "code",
   "execution_count": 23,
   "metadata": {},
   "outputs": [],
   "source": [
    "# crdc_nces_1516.to_csv('../filtered_data/03_crdc_nces_1516_raw_combined.csv')"
   ]
  },
  {
   "cell_type": "markdown",
   "metadata": {},
   "source": [
    "------------------------------"
   ]
  },
  {
   "cell_type": "markdown",
   "metadata": {},
   "source": [
    "# Filtration"
   ]
  },
  {
   "cell_type": "markdown",
   "metadata": {},
   "source": [
    "## Remove Schools without 11th or 12th Grade (CRDC)"
   ]
  },
  {
   "cell_type": "code",
   "execution_count": 24,
   "metadata": {},
   "outputs": [],
   "source": [
    "filter1_crdc_nces_1516 = crdc_nces_1516.copy()"
   ]
  },
  {
   "cell_type": "code",
   "execution_count": 25,
   "metadata": {},
   "outputs": [],
   "source": [
    "from my_functions.extra_functions import students_in_11_or_12\n",
    "filter1_crdc_nces_1516['Students_in_11_12'] = filter1_crdc_nces_1516.apply(lambda row: students_in_11_or_12(row['SCH_GRADE_G11'], row['SCH_GRADE_G12']), axis = 1)"
   ]
  },
  {
   "cell_type": "code",
   "execution_count": 26,
   "metadata": {},
   "outputs": [],
   "source": [
    "filtered_out = filter1_crdc_nces_1516[(filter1_crdc_nces_1516.Students_in_11_12 == 'No')]\n",
    "filter1_crdc_nces_1516 = filter1_crdc_nces_1516[(filter1_crdc_nces_1516.Students_in_11_12 == 'Yes')]"
   ]
  },
  {
   "cell_type": "markdown",
   "metadata": {},
   "source": [
    "## Select Non-[Junvile Justice, Special Education, and Alternative Schools] (CRDC)\n",
    "    - Schools that answered 'No' to each of those three questions on the CRDC Survey.\n",
    "    - I also used a keyword filter to remove any remaining \"Juvenile Justice\"-eque Institutions."
   ]
  },
  {
   "cell_type": "code",
   "execution_count": 27,
   "metadata": {},
   "outputs": [],
   "source": [
    "filter2_crdc_nces_1516 = filter1_crdc_nces_1516.copy()\n",
    "filtered_out = filtered_out.append(filter2_crdc_nces_1516[(filter2_crdc_nces_1516.JJ == 'Yes') |\n",
    "                                      (filter2_crdc_nces_1516.SCH_STATUS_ALT == 'Yes') |\n",
    "                                      (filter2_crdc_nces_1516.SCH_STATUS_SPED == 'Yes')])\n",
    "filter2_crdc_nces_1516 = filter2_crdc_nces_1516[(filter2_crdc_nces_1516.JJ == 'No') &\n",
    "                                                (filter2_crdc_nces_1516.SCH_STATUS_ALT == 'No') &\n",
    "                                                (filter2_crdc_nces_1516.SCH_STATUS_SPED == 'No')]"
   ]
  },
  {
   "cell_type": "code",
   "execution_count": 28,
   "metadata": {},
   "outputs": [],
   "source": [
    "def jj_keyword_remove(name):\n",
    "    kws = ['behavioral', 'juvenile', 'correction']\n",
    "    for kw in kws:\n",
    "        if kw in name.strip().lower():\n",
    "            return False\n",
    "    return True\n",
    "\n",
    "filter2_crdc_nces_1516 = filter2_crdc_nces_1516[filter2_crdc_nces_1516.SCH_NAME.apply(lambda x: jj_keyword_remove(x))]\n",
    "filter2_crdc_nces_1516 = filter2_crdc_nces_1516[filter2_crdc_nces_1516.LEA_NAME.apply(lambda x: jj_keyword_remove(x))]"
   ]
  },
  {
   "cell_type": "markdown",
   "metadata": {},
   "source": [
    "## Remove Virtual Schools (NCES)\n",
    "     - Remove any Schools that reported 'Yes' to the Virtual Schools Question<br>\n",
    "     - Remove Schools that have certain keyword that likely indicate an online school"
   ]
  },
  {
   "cell_type": "code",
   "execution_count": 29,
   "metadata": {},
   "outputs": [],
   "source": [
    "filter3_crdc_nces_1516 = filter2_crdc_nces_1516.copy()\n",
    "filtered_out = filtered_out.append(filter3_crdc_nces_1516[filter3_crdc_nces_1516.VIRTUAL == 'Yes'])\n",
    "filter3_crdc_nces_1516 = filter3_crdc_nces_1516[filter3_crdc_nces_1516.VIRTUAL != 'Yes']"
   ]
  },
  {
   "cell_type": "code",
   "execution_count": 30,
   "metadata": {},
   "outputs": [],
   "source": [
    "def any_missed_virtuals(name):\n",
    "    kws = ['virtual', 'cyber', 'electronic', 'internet', 'online', 'distance']\n",
    "    for kw in kws:\n",
    "        if kw in name.strip().lower():\n",
    "            return False\n",
    "    return True\n",
    "filtered_out = filtered_out.append(filter3_crdc_nces_1516[~filter3_crdc_nces_1516.SCH_NAME.apply(lambda x: any_missed_virtuals(x))])\n",
    "filter3_crdc_nces_1516 = filter3_crdc_nces_1516[filter3_crdc_nces_1516.SCH_NAME.apply(lambda x: any_missed_virtuals(x))]"
   ]
  },
  {
   "cell_type": "markdown",
   "metadata": {},
   "source": [
    "## Remove schools reported as elementary, middle, or 'N' (NCES)\n",
    "Even with the Lowest/Highest Grade filter, I wanted to ensure that no non-typical high schools (as reported by the NCES's LEVEL Field) are retained. "
   ]
  },
  {
   "cell_type": "code",
   "execution_count": 31,
   "metadata": {},
   "outputs": [],
   "source": [
    "filter4_crdc_nces_1516 = filter3_crdc_nces_1516.copy()"
   ]
  },
  {
   "cell_type": "code",
   "execution_count": 32,
   "metadata": {},
   "outputs": [],
   "source": [
    "filtered_out = filtered_out.append(filter4_crdc_nces_1516[(filter4_crdc_nces_1516.LEVEL == 'N') |\n",
    "                                                          (filter4_crdc_nces_1516.LEVEL == '1') |\n",
    "                                                          (filter4_crdc_nces_1516.LEVEL == '2')])\n",
    "filter4_crdc_nces_1516 = filter4_crdc_nces_1516[(filter4_crdc_nces_1516.LEVEL == 'Missing') |\n",
    "                                                (filter4_crdc_nces_1516.LEVEL == '3') |\n",
    "                                                (filter4_crdc_nces_1516.LEVEL == '4')]"
   ]
  },
  {
   "cell_type": "markdown",
   "metadata": {},
   "source": [
    "## Remove Special Education, Alternative/Other, and \"Adult\" Schools (NCES)\n",
    "Removed Schools with a SCH_TYPE that was not 1 (Regular) or 3 (Vocational).  Culls additional \"Special Education\", and \"Alternative/Other\" schools.\n"
   ]
  },
  {
   "cell_type": "code",
   "execution_count": 33,
   "metadata": {},
   "outputs": [],
   "source": [
    "filter5_crdc_nces_1516 = filter4_crdc_nces_1516.copy()"
   ]
  },
  {
   "cell_type": "code",
   "execution_count": 34,
   "metadata": {},
   "outputs": [],
   "source": [
    "filtered_out = filtered_out.append(filter5_crdc_nces_1516[(filter5_crdc_nces_1516.SCH_TYPE == 2) |\n",
    "                                                          (filter5_crdc_nces_1516.SCH_TYPE == 4)])\n",
    "filter5_crdc_nces_1516 = filter5_crdc_nces_1516[(filter5_crdc_nces_1516.SCH_TYPE == 'Missing') |\n",
    "                                                (filter5_crdc_nces_1516.SCH_TYPE == 1) |\n",
    "                                                (filter5_crdc_nces_1516.SCH_TYPE == 3)]"
   ]
  },
  {
   "cell_type": "markdown",
   "metadata": {},
   "source": [
    "**Mini-Filter:  Remove schools with 'adult' in the Name (CRDC) **"
   ]
  },
  {
   "cell_type": "code",
   "execution_count": 35,
   "metadata": {},
   "outputs": [],
   "source": [
    "filtered_out = filtered_out.append(filter5_crdc_nces_1516[filter5_crdc_nces_1516.SCH_NAME.str.contains('adult', case=False)])\n",
    "filter5_crdc_nces_1516 = filter5_crdc_nces_1516[~filter5_crdc_nces_1516.SCH_NAME.str.contains('adult', case=False)]"
   ]
  },
  {
   "cell_type": "markdown",
   "metadata": {},
   "source": [
    "# V. Dealing with Missing Values \n",
    "With nearly 1200 schools missing NCES data, including schools from prominent districts like \"NEW YORK CITY PUBLIC SCHOOLS\" and \"Green Dot Public Schools,\" it is important to try to recover as much of these schools as possible.\n",
    "<br><br>\n",
    "The problem that I found was that the CRDC lumped a number of school districts together; therefore, the combokeys of schools in these districts do not match those of the NCES.\n",
    "\n",
    "**I tried a number of methods to try to properly join these missing schools:**<br>\n",
    "    - Using only the school name:  This had difficulties because there are many schools that share the same name, so\n",
    "    when a join is implemented, these schools are given all of the values of the other schools (i.e. it creates a \n",
    "    lot of duplicate values).\n",
    "    - Using the NCES data from 2013:  This was also problematic, as most of the same schools that were missing in \n",
    "    this dataset were also constrained to the same problem in the 2013-2014 dataset.\n",
    "    - Using the District and the name together:  This also suffered from the fact that the CRDC data combines some\n",
    "    school districts; therefore, the names of the districts still did not match up.\n",
    "    - **Finally, I used a combination of the name of the school and the state:  There were only a handfull in the \n",
    "    dataset containing duplicate names (which were removed from the Dataset).**<br><br>\n",
    "\n",
    "\n",
    "**Next, I recovered the remaining schools in the 'New York City Public Schools District', because it was clear that they were simply missing due to a LEA reporting error in the CRDC data.  This process was two-parted:**<br>\n",
    "    - First, Because it seemed as though most of these remaining New York schools had the incorrect LEAID, \n",
    "    I used the the school id and state abreviation to create a unique identifier.\n",
    "    - Second, I used the NCES database to manually search for the remaining schools correct their combokey\n",
    "\n",
    "**Finally, I performed the same (nces-provided field)-filtration steps on the recovered data.  Then, I hand-removed duplicate values by checking the original filtered data for matching records.**"
   ]
  },
  {
   "cell_type": "code",
   "execution_count": 36,
   "metadata": {},
   "outputs": [],
   "source": [
    "filter5_missing_leas = filter5_crdc_nces_1516[filter5_crdc_nces_1516.LEVEL == 'Missing'].groupby('LEA_NAME')['LEAID'].count().sort_values(ascending = False)"
   ]
  },
  {
   "cell_type": "code",
   "execution_count": 37,
   "metadata": {},
   "outputs": [],
   "source": [
    "# filter5_missing_leas.to_csv('../filtered_data/04_inital_filter_missing_LEAs.csv')"
   ]
  },
  {
   "cell_type": "code",
   "execution_count": 38,
   "metadata": {},
   "outputs": [],
   "source": [
    "\"\"\"How many missing schools?\"\"\"\n",
    "filter5_missing_schools = filter5_crdc_nces_1516[filter5_crdc_nces_1516.LEVEL == 'Missing']\n",
    "len(filter5_missing_schools.index);"
   ]
  },
  {
   "cell_type": "code",
   "execution_count": 39,
   "metadata": {},
   "outputs": [],
   "source": [
    "# filter5_missing_schools.to_csv('../filtered_data/04_intital_filter_missing_schools.csv')"
   ]
  },
  {
   "cell_type": "markdown",
   "metadata": {},
   "source": [
    "** Manipulate missing schools and original nces data --> join **"
   ]
  },
  {
   "cell_type": "code",
   "execution_count": 40,
   "metadata": {},
   "outputs": [],
   "source": [
    "filter5_schname_state = filter5_missing_schools.copy()"
   ]
  },
  {
   "cell_type": "code",
   "execution_count": 41,
   "metadata": {},
   "outputs": [],
   "source": [
    "filter5_schname_state = filter5_schname_state.reset_index()"
   ]
  },
  {
   "cell_type": "code",
   "execution_count": 42,
   "metadata": {},
   "outputs": [],
   "source": [
    "filter5_schname_state['SCH_NAME'] = filter5_schname_state['SCH_NAME'].apply(lambda x: x.lower())\n",
    "filter5_schname_state['SCH_NAME_ST_NUM'] = filter5_schname_state.SCH_NAME + filter5_schname_state.LEA_STATE"
   ]
  },
  {
   "cell_type": "code",
   "execution_count": 43,
   "metadata": {},
   "outputs": [],
   "source": [
    "\"\"\"How many duplicate schools in the filter5 dataset?\"\"\"\n",
    "filter5_schname_state.groupby('SCH_NAME_ST_NUM')['SCH_NAME_ST_NUM'].count().sort_values(ascending = False).head(10);"
   ]
  },
  {
   "cell_type": "code",
   "execution_count": 44,
   "metadata": {
    "scrolled": true
   },
   "outputs": [
    {
     "data": {
      "text/html": [
       "<div>\n",
       "<style scoped>\n",
       "    .dataframe tbody tr th:only-of-type {\n",
       "        vertical-align: middle;\n",
       "    }\n",
       "\n",
       "    .dataframe tbody tr th {\n",
       "        vertical-align: top;\n",
       "    }\n",
       "\n",
       "    .dataframe thead th {\n",
       "        text-align: right;\n",
       "    }\n",
       "</style>\n",
       "<table border=\"1\" class=\"dataframe\">\n",
       "  <thead>\n",
       "    <tr style=\"text-align: right;\">\n",
       "      <th></th>\n",
       "      <th>COMBOKEY</th>\n",
       "      <th>LEA_STATE</th>\n",
       "      <th>LEA_STATE_NAME</th>\n",
       "      <th>LEAID</th>\n",
       "      <th>LEA_NAME</th>\n",
       "      <th>SCHID</th>\n",
       "      <th>SCH_NAME</th>\n",
       "      <th>JJ</th>\n",
       "      <th>SCH_GRADE_PS</th>\n",
       "      <th>SCH_GRADE_KG</th>\n",
       "      <th>...</th>\n",
       "      <th>LEVEL</th>\n",
       "      <th>VIRTUAL</th>\n",
       "      <th>GSLO</th>\n",
       "      <th>GSHI</th>\n",
       "      <th>NMCNTY15</th>\n",
       "      <th>LOCALE15</th>\n",
       "      <th>LAT1516</th>\n",
       "      <th>LON1516</th>\n",
       "      <th>Students_in_11_12</th>\n",
       "      <th>SCH_NAME_ST_NUM</th>\n",
       "    </tr>\n",
       "  </thead>\n",
       "  <tbody>\n",
       "    <tr>\n",
       "      <th>301</th>\n",
       "      <td>='130129003727'</td>\n",
       "      <td>GA</td>\n",
       "      <td>GEORGIA</td>\n",
       "      <td>1301290</td>\n",
       "      <td>Cobb County</td>\n",
       "      <td>3727</td>\n",
       "      <td>performance learning center</td>\n",
       "      <td>No</td>\n",
       "      <td>No</td>\n",
       "      <td>No</td>\n",
       "      <td>...</td>\n",
       "      <td>Missing</td>\n",
       "      <td>Missing</td>\n",
       "      <td>Missing</td>\n",
       "      <td>Missing</td>\n",
       "      <td>Missing</td>\n",
       "      <td>Missing</td>\n",
       "      <td>Missing</td>\n",
       "      <td>Missing</td>\n",
       "      <td>Yes</td>\n",
       "      <td>performance learning centerGA</td>\n",
       "    </tr>\n",
       "    <tr>\n",
       "      <th>313</th>\n",
       "      <td>='130270003728'</td>\n",
       "      <td>GA</td>\n",
       "      <td>GEORGIA</td>\n",
       "      <td>1302700</td>\n",
       "      <td>Harris County</td>\n",
       "      <td>3728</td>\n",
       "      <td>performance learning center</td>\n",
       "      <td>No</td>\n",
       "      <td>No</td>\n",
       "      <td>No</td>\n",
       "      <td>...</td>\n",
       "      <td>Missing</td>\n",
       "      <td>Missing</td>\n",
       "      <td>Missing</td>\n",
       "      <td>Missing</td>\n",
       "      <td>Missing</td>\n",
       "      <td>Missing</td>\n",
       "      <td>Missing</td>\n",
       "      <td>Missing</td>\n",
       "      <td>Yes</td>\n",
       "      <td>performance learning centerGA</td>\n",
       "    </tr>\n",
       "  </tbody>\n",
       "</table>\n",
       "<p>2 rows × 125 columns</p>\n",
       "</div>"
      ],
      "text/plain": [
       "            COMBOKEY LEA_STATE LEA_STATE_NAME    LEAID       LEA_NAME  SCHID  \\\n",
       "301  ='130129003727'        GA        GEORGIA  1301290    Cobb County   3727   \n",
       "313  ='130270003728'        GA        GEORGIA  1302700  Harris County   3728   \n",
       "\n",
       "                        SCH_NAME  JJ SCH_GRADE_PS SCH_GRADE_KG  \\\n",
       "301  performance learning center  No           No           No   \n",
       "313  performance learning center  No           No           No   \n",
       "\n",
       "                 ...                  LEVEL  VIRTUAL     GSLO     GSHI  \\\n",
       "301              ...                Missing  Missing  Missing  Missing   \n",
       "313              ...                Missing  Missing  Missing  Missing   \n",
       "\n",
       "    NMCNTY15 LOCALE15  LAT1516  LON1516 Students_in_11_12  \\\n",
       "301  Missing  Missing  Missing  Missing               Yes   \n",
       "313  Missing  Missing  Missing  Missing               Yes   \n",
       "\n",
       "                   SCH_NAME_ST_NUM  \n",
       "301  performance learning centerGA  \n",
       "313  performance learning centerGA  \n",
       "\n",
       "[2 rows x 125 columns]"
      ]
     },
     "execution_count": 44,
     "metadata": {},
     "output_type": "execute_result"
    }
   ],
   "source": [
    "filter5_schname_state[filter5_schname_state.SCH_NAME_ST_NUM == 'performance learning centerGA']"
   ]
  },
  {
   "cell_type": "code",
   "execution_count": 45,
   "metadata": {},
   "outputs": [],
   "source": [
    "nces_1516_schname_state = nces_1516_full.copy()"
   ]
  },
  {
   "cell_type": "code",
   "execution_count": 46,
   "metadata": {},
   "outputs": [],
   "source": [
    "nces_1516_schname_state = nces_1516_schname_state.reset_index()"
   ]
  },
  {
   "cell_type": "code",
   "execution_count": 47,
   "metadata": {},
   "outputs": [],
   "source": [
    "nces_1516_schname_state['SCH_NAME'] = nces_1516_schname_state['SCH_NAME'].apply(lambda x: x.lower())\n",
    "nces_1516_schname_state['SCH_NAME_ST_NUM'] = nces_1516_schname_state.SCH_NAME + nces_1516_schname_state.STABR"
   ]
  },
  {
   "cell_type": "code",
   "execution_count": 48,
   "metadata": {},
   "outputs": [],
   "source": [
    "\"\"\"Join the NCES and filter5 datasets on the SCH_NAME_ST_NUM column\"\"\"\n",
    "schname_combined = filter5_schname_state.set_index('SCH_NAME_ST_NUM').join(nces_1516_schname_state.set_index('SCH_NAME_ST_NUM'), how = 'left', rsuffix = '_')"
   ]
  },
  {
   "cell_type": "code",
   "execution_count": 49,
   "metadata": {},
   "outputs": [],
   "source": [
    "\"\"\"How many schools have duplicated values?\"\"\"\n",
    "schname_combined.SCH_NAME_.value_counts().sort_values(ascending = False).head(10);"
   ]
  },
  {
   "cell_type": "code",
   "execution_count": 50,
   "metadata": {},
   "outputs": [
    {
     "data": {
      "text/plain": [
       "688"
      ]
     },
     "execution_count": 50,
     "metadata": {},
     "output_type": "execute_result"
    }
   ],
   "source": [
    "\"\"\"How may more schools were matched?\"\"\"\n",
    "len(schname_combined[schname_combined.SCH_NAME_.notnull()].index)"
   ]
  },
  {
   "cell_type": "code",
   "execution_count": 51,
   "metadata": {},
   "outputs": [
    {
     "data": {
      "text/plain": [
       "312"
      ]
     },
     "execution_count": 51,
     "metadata": {},
     "output_type": "execute_result"
    }
   ],
   "source": [
    "\"\"\"How many schools still did not have a match?\"\"\"\n",
    "len(schname_combined[schname_combined.SCH_NAME_.isnull()].index)"
   ]
  },
  {
   "cell_type": "markdown",
   "metadata": {},
   "source": [
    "### Recover the NY Schools"
   ]
  },
  {
   "cell_type": "code",
   "execution_count": 52,
   "metadata": {},
   "outputs": [],
   "source": [
    "schname_combined_missing = schname_combined.copy()\n",
    "schname_combined_missing = schname_combined_missing[schname_combined_missing.SCH_NAME_.isnull()]\n",
    "\n",
    "schname_combined_missing_ny = schname_combined_missing.copy()\n",
    "schname_combined_missing_ny = schname_combined_missing_ny[schname_combined_missing_ny['LEA_NAME'] == 'NEW YORK CITY PUBLIC SCHOOLS']"
   ]
  },
  {
   "cell_type": "code",
   "execution_count": 53,
   "metadata": {},
   "outputs": [
    {
     "name": "stdout",
     "output_type": "stream",
     "text": [
      "22\n",
      "22\n"
     ]
    }
   ],
   "source": [
    "print(len(schname_combined_missing_ny.index))\n",
    "print(schname_combined_missing_ny.SCHID.nunique())"
   ]
  },
  {
   "cell_type": "code",
   "execution_count": 54,
   "metadata": {},
   "outputs": [],
   "source": [
    "schname_combined_missing_ny = schname_combined_missing_ny.drop(['TITLEI_', 'STABR_', 'SCH_TYPE_TEXT_', 'SCH_TYPE_',\n",
    "                                                                'LEVEL_', 'VIRTUAL_', 'GSLO_', 'GSHI_', \n",
    "                                            'NMCNTY15_', 'LOCALE15_', 'LAT1516_', 'LON1516_', 'combokey',\n",
    "                                            'LEAID_', 'LEA_NAME_', 'SCH_NAME_', 'SCHID_'], axis = 1)"
   ]
  },
  {
   "cell_type": "code",
   "execution_count": 55,
   "metadata": {},
   "outputs": [],
   "source": [
    "def schid_state_maker(schid, state):\n",
    "    schid = str(schid).zfill(5)\n",
    "    return schid + state"
   ]
  },
  {
   "cell_type": "code",
   "execution_count": 56,
   "metadata": {},
   "outputs": [],
   "source": [
    "schname_combined_missing_ny['schid_state'] = schname_combined_missing_ny.apply(lambda row: schid_state_maker(row['SCHID'], row['LEA_STATE']), axis = 1)"
   ]
  },
  {
   "cell_type": "code",
   "execution_count": 57,
   "metadata": {},
   "outputs": [],
   "source": [
    "nces_for_missing_ny = nces_1516_full.copy()\n",
    "\n",
    "nces_for_missing_ny['schid_state'] = nces_for_missing_ny.apply(lambda row: schid_state_maker(row['SCHID'], row['STABR']), axis = 1)"
   ]
  },
  {
   "cell_type": "code",
   "execution_count": 58,
   "metadata": {},
   "outputs": [],
   "source": [
    "missing_ny_joined = schname_combined_missing_ny.set_index('schid_state').join(nces_for_missing_ny.reset_index().set_index('schid_state'), how = 'left', rsuffix = \"_\")"
   ]
  },
  {
   "cell_type": "code",
   "execution_count": 59,
   "metadata": {},
   "outputs": [
    {
     "data": {
      "text/html": [
       "<div>\n",
       "<style scoped>\n",
       "    .dataframe tbody tr th:only-of-type {\n",
       "        vertical-align: middle;\n",
       "    }\n",
       "\n",
       "    .dataframe tbody tr th {\n",
       "        vertical-align: top;\n",
       "    }\n",
       "\n",
       "    .dataframe thead th {\n",
       "        text-align: right;\n",
       "    }\n",
       "</style>\n",
       "<table border=\"1\" class=\"dataframe\">\n",
       "  <thead>\n",
       "    <tr style=\"text-align: right;\">\n",
       "      <th></th>\n",
       "      <th>SCH_NAME</th>\n",
       "      <th>SCH_NAME_</th>\n",
       "    </tr>\n",
       "    <tr>\n",
       "      <th>schid_state</th>\n",
       "      <th></th>\n",
       "      <th></th>\n",
       "    </tr>\n",
       "  </thead>\n",
       "  <tbody>\n",
       "    <tr>\n",
       "      <th>01409NY</th>\n",
       "      <td>law, government and community service high school</td>\n",
       "      <td>LAW GOVERNMENT AND COMMUNITY SERVICE HIGH SCHOOL</td>\n",
       "    </tr>\n",
       "    <tr>\n",
       "      <th>02961NY</th>\n",
       "      <td>bronx school for law, government and justice</td>\n",
       "      <td>BRONX SCHOOL FOR LAW GOVERNMENT AND JUSTICE</td>\n",
       "    </tr>\n",
       "    <tr>\n",
       "      <th>03091NY</th>\n",
       "      <td>high school of enterprise, business &amp; technology</td>\n",
       "      <td>HIGH SCHOOL OF ENTERPRISE BUSINESS &amp; TECHNOLOGY</td>\n",
       "    </tr>\n",
       "    <tr>\n",
       "      <th>04873NY</th>\n",
       "      <td>new explorations into science,tech and math hi...</td>\n",
       "      <td>NEW EXPLORATIONS INTO SCIENCETECH AND MATH HIG...</td>\n",
       "    </tr>\n",
       "    <tr>\n",
       "      <th>05113NY</th>\n",
       "      <td>high school for law, advocacy and community ju...</td>\n",
       "      <td>HIGH SCHOOL FOR LAW ADVOCACY AND COMMUNITY JUS...</td>\n",
       "    </tr>\n",
       "    <tr>\n",
       "      <th>05516NY</th>\n",
       "      <td>science, tech &amp; research high school at erasmus</td>\n",
       "      <td>SCIENCE TECH &amp; RESEARCH HIGH SCHOOL AT ERASMUS</td>\n",
       "    </tr>\n",
       "    <tr>\n",
       "      <th>05521NY</th>\n",
       "      <td>ms 223 laboratory school of finance and techno...</td>\n",
       "      <td>MS 223 LABORATORY SCHOOL OF FINANCE AND TECHNO...</td>\n",
       "    </tr>\n",
       "    <tr>\n",
       "      <th>05536NY</th>\n",
       "      <td>queens high school of teaching, liberal arts a...</td>\n",
       "      <td>QUEENS HIGH SCHOOL OF TEACHING LIBERAL ARTS AN...</td>\n",
       "    </tr>\n",
       "    <tr>\n",
       "      <th>05677NY</th>\n",
       "      <td>marie curie high sch-nursing, medicine &amp; appli...</td>\n",
       "      <td>MARIE CURIE HIGH SCH-NURSING MEDICINE &amp; APPLIE...</td>\n",
       "    </tr>\n",
       "    <tr>\n",
       "      <th>05774NY</th>\n",
       "      <td>high school for arts, imagination and inquiry</td>\n",
       "      <td>HIGH SCHOOL FOR ARTS IMAGINATION AND INQUIRY</td>\n",
       "    </tr>\n",
       "    <tr>\n",
       "      <th>05899NY</th>\n",
       "      <td>high sch-construction, trades, engineering &amp; a...</td>\n",
       "      <td>HIGH SCH-CONSTRUCTION TRADES ENGINEERING &amp; ARC...</td>\n",
       "    </tr>\n",
       "    <tr>\n",
       "      <th>05962NY</th>\n",
       "      <td>brooklyn community high sch-communication, art...</td>\n",
       "      <td>BROOKLYN COMMUNITY HIGH SCH-COMMUNICATION ARTS...</td>\n",
       "    </tr>\n",
       "    <tr>\n",
       "      <th>05985NY</th>\n",
       "      <td>archimedes acad-math, sci, tech</td>\n",
       "      <td>ARCHIMEDES ACAD-MATH SCI TECH</td>\n",
       "    </tr>\n",
       "    <tr>\n",
       "      <th>05999NY</th>\n",
       "      <td>queens high school for information, research a...</td>\n",
       "      <td>QUEENS HIGH SCHOOL FOR INFORMATION RESEARCH AN...</td>\n",
       "    </tr>\n",
       "    <tr>\n",
       "      <th>06105NY</th>\n",
       "      <td>high school for language and diplomacy</td>\n",
       "      <td>HIGH SCHOOL FOR LANGUAGE AND DIPLOMACY (THE)</td>\n",
       "    </tr>\n",
       "    <tr>\n",
       "      <th>06122NY</th>\n",
       "      <td>the brooklyn academy of global finance</td>\n",
       "      <td>BROOKLYN ACADEMY OF GLOBAL FINANCE (THE)</td>\n",
       "    </tr>\n",
       "    <tr>\n",
       "      <th>06148NY</th>\n",
       "      <td>urban assembly school for green careers</td>\n",
       "      <td>URBAN ASSEMBLY SCHOOL FOR GREEN CAREERS (THE)</td>\n",
       "    </tr>\n",
       "  </tbody>\n",
       "</table>\n",
       "</div>"
      ],
      "text/plain": [
       "                                                      SCH_NAME  \\\n",
       "schid_state                                                      \n",
       "01409NY      law, government and community service high school   \n",
       "02961NY           bronx school for law, government and justice   \n",
       "03091NY       high school of enterprise, business & technology   \n",
       "04873NY      new explorations into science,tech and math hi...   \n",
       "05113NY      high school for law, advocacy and community ju...   \n",
       "05516NY        science, tech & research high school at erasmus   \n",
       "05521NY      ms 223 laboratory school of finance and techno...   \n",
       "05536NY      queens high school of teaching, liberal arts a...   \n",
       "05677NY      marie curie high sch-nursing, medicine & appli...   \n",
       "05774NY          high school for arts, imagination and inquiry   \n",
       "05899NY      high sch-construction, trades, engineering & a...   \n",
       "05962NY      brooklyn community high sch-communication, art...   \n",
       "05985NY                        archimedes acad-math, sci, tech   \n",
       "05999NY      queens high school for information, research a...   \n",
       "06105NY                 high school for language and diplomacy   \n",
       "06122NY                 the brooklyn academy of global finance   \n",
       "06148NY                urban assembly school for green careers   \n",
       "\n",
       "                                                     SCH_NAME_  \n",
       "schid_state                                                     \n",
       "01409NY       LAW GOVERNMENT AND COMMUNITY SERVICE HIGH SCHOOL  \n",
       "02961NY            BRONX SCHOOL FOR LAW GOVERNMENT AND JUSTICE  \n",
       "03091NY        HIGH SCHOOL OF ENTERPRISE BUSINESS & TECHNOLOGY  \n",
       "04873NY      NEW EXPLORATIONS INTO SCIENCETECH AND MATH HIG...  \n",
       "05113NY      HIGH SCHOOL FOR LAW ADVOCACY AND COMMUNITY JUS...  \n",
       "05516NY         SCIENCE TECH & RESEARCH HIGH SCHOOL AT ERASMUS  \n",
       "05521NY      MS 223 LABORATORY SCHOOL OF FINANCE AND TECHNO...  \n",
       "05536NY      QUEENS HIGH SCHOOL OF TEACHING LIBERAL ARTS AN...  \n",
       "05677NY      MARIE CURIE HIGH SCH-NURSING MEDICINE & APPLIE...  \n",
       "05774NY           HIGH SCHOOL FOR ARTS IMAGINATION AND INQUIRY  \n",
       "05899NY      HIGH SCH-CONSTRUCTION TRADES ENGINEERING & ARC...  \n",
       "05962NY      BROOKLYN COMMUNITY HIGH SCH-COMMUNICATION ARTS...  \n",
       "05985NY                          ARCHIMEDES ACAD-MATH SCI TECH  \n",
       "05999NY      QUEENS HIGH SCHOOL FOR INFORMATION RESEARCH AN...  \n",
       "06105NY           HIGH SCHOOL FOR LANGUAGE AND DIPLOMACY (THE)  \n",
       "06122NY               BROOKLYN ACADEMY OF GLOBAL FINANCE (THE)  \n",
       "06148NY          URBAN ASSEMBLY SCHOOL FOR GREEN CAREERS (THE)  "
      ]
     },
     "execution_count": 59,
     "metadata": {},
     "output_type": "execute_result"
    }
   ],
   "source": [
    "\"\"\" Join the missing NY schools with NCES \"\"\"\n",
    "missing_ny_joined[missing_ny_joined.LEVEL_.notnull()][['SCH_NAME','SCH_NAME_']]"
   ]
  },
  {
   "cell_type": "code",
   "execution_count": 60,
   "metadata": {},
   "outputs": [],
   "source": [
    "\"\"\" Dealing with remaining missing NY Schools \"\"\"\n",
    "missing_ny_2 = missing_ny_joined.copy()\n",
    "missing_ny_2 = missing_ny_2[missing_ny_2.LEVEL_.isnull()]"
   ]
  },
  {
   "cell_type": "code",
   "execution_count": 61,
   "metadata": {},
   "outputs": [],
   "source": [
    "missing_ny_2 = missing_ny_2.drop(['TITLEI_', 'STABR_', 'SCH_TYPE_TEXT_', 'SCH_TYPE_',\n",
    "                   'LEVEL_', 'VIRTUAL_', 'GSLO_', 'GSHI_', \n",
    "                   'NMCNTY15_', 'LOCALE15_', 'LAT1516_', 'LON1516_', 'combokey',\n",
    "                   'LEAID_', 'LEA_NAME_', 'SCH_NAME_', 'SCHID_'], axis = 1)"
   ]
  },
  {
   "cell_type": "code",
   "execution_count": 62,
   "metadata": {},
   "outputs": [],
   "source": [
    "\"\"\"Recovering the missing Combokeys using the NCES website and manually filling the values in\"\"\"\n",
    "missing_ny_2['actual_combokey'] = pd.Series(np.resize(0, len(missing_ny_2.index)), dtype = np.object)\n",
    "\n",
    "missing_ny_2.at[\"99874NY\", 'actual_combokey'] = \"='360007706372'\"\n",
    "missing_ny_2.at[\"99933NY\", 'actual_combokey'] = \"='360008106380'\"\n",
    "missing_ny_2.at[\"99968NY\", 'actual_combokey'] = \"='360007606296'\"\n",
    "missing_ny_2.at[\"99992NY\", 'actual_combokey'] = \"='360009706274'\"\n",
    "missing_ny_2.at[\"99995NY\", 'actual_combokey'] = \"='360009506273'\""
   ]
  },
  {
   "cell_type": "code",
   "execution_count": 63,
   "metadata": {},
   "outputs": [],
   "source": [
    "\"\"\" Join again on the NCES \"\"\"\n",
    "missing_ny_2_joined = missing_ny_2.set_index('actual_combokey').join(nces_1516_full, how = 'left', rsuffix = '_')"
   ]
  },
  {
   "cell_type": "code",
   "execution_count": 64,
   "metadata": {},
   "outputs": [
    {
     "data": {
      "text/plain": [
       "5"
      ]
     },
     "execution_count": 64,
     "metadata": {},
     "output_type": "execute_result"
    }
   ],
   "source": [
    "\"\"\"How many matched?\"\"\"\n",
    "len(missing_ny_2_joined[missing_ny_2_joined.LEVEL_.notnull()].index)"
   ]
  },
  {
   "cell_type": "markdown",
   "metadata": {},
   "source": [
    "## Combine recovered schools and performing filters "
   ]
  },
  {
   "cell_type": "markdown",
   "metadata": {},
   "source": [
    "** Concatenate the two recovered Missing NY Schools sets **"
   ]
  },
  {
   "cell_type": "code",
   "execution_count": 65,
   "metadata": {},
   "outputs": [],
   "source": [
    "missing_ny_joined_matching = missing_ny_joined[missing_ny_joined.LEVEL_.notnull()]"
   ]
  },
  {
   "cell_type": "code",
   "execution_count": 66,
   "metadata": {},
   "outputs": [],
   "source": [
    "all_missing_ny_recovered = missing_ny_2_joined.append(missing_ny_joined_matching)"
   ]
  },
  {
   "cell_type": "markdown",
   "metadata": {},
   "source": [
    "**Join the original recovered schools (using schname_st identifier) with the recovered NY schools**"
   ]
  },
  {
   "cell_type": "code",
   "execution_count": 67,
   "metadata": {},
   "outputs": [],
   "source": [
    "recovered_schools = schname_combined.copy()\n",
    "recovered_schools = recovered_schools.fillna(\"Missing\")"
   ]
  },
  {
   "cell_type": "code",
   "execution_count": 68,
   "metadata": {},
   "outputs": [],
   "source": [
    "recovered_schools = recovered_schools[recovered_schools['SCH_NAME_'] != \"Missing\"]"
   ]
  },
  {
   "cell_type": "code",
   "execution_count": 69,
   "metadata": {},
   "outputs": [],
   "source": [
    "recovered_schools_all = recovered_schools.append(all_missing_ny_recovered)"
   ]
  },
  {
   "cell_type": "markdown",
   "metadata": {},
   "source": [
    "** Reformat the Columns ** -- Need to make sure that the recovered schools dataset's columns match the original filtered dataset's columns (required for concatenating the two sets properly)"
   ]
  },
  {
   "cell_type": "code",
   "execution_count": 70,
   "metadata": {},
   "outputs": [],
   "source": [
    "\"\"\"Drop original nces columns (the ones with missing values)\"\"\"    \n",
    "recovered_schools_all = recovered_schools_all.drop(['TITLEI', 'STABR', 'SCH_TYPE_TEXT', 'SCH_TYPE', 'LEVEL', 'VIRTUAL', 'GSLO', 'GSHI', \n",
    "                                            'NMCNTY15', 'LOCALE15', 'LAT1516', 'LON1516', 'combokey',\n",
    "                                            'LEAID_', 'LEA_NAME_', 'SCH_NAME_', 'SCHID_'], axis = 1)\n",
    "\"\"\"Rename new matching columns to replace the columns above (necessary for a proper concatenation later)\"\"\"\n",
    "recovered_schools_all = recovered_schools_all.rename(lambda x: x.strip('_'), axis = 'columns')\n",
    "recovered_schools_all = recovered_schools_all.set_index('COMBOKEY')"
   ]
  },
  {
   "cell_type": "code",
   "execution_count": 71,
   "metadata": {},
   "outputs": [
    {
     "name": "stdout",
     "output_type": "stream",
     "text": [
      "123\n",
      "123\n"
     ]
    }
   ],
   "source": [
    "\"\"\"Do the columns between the original filtered set and recovered missing values set match\"\"\"\n",
    "print(len(recovered_schools_all.columns.values))\n",
    "print(len(filter5_crdc_nces_1516.columns.values))"
   ]
  },
  {
   "cell_type": "code",
   "execution_count": 72,
   "metadata": {},
   "outputs": [
    {
     "data": {
      "text/plain": [
       "710"
      ]
     },
     "execution_count": 72,
     "metadata": {},
     "output_type": "execute_result"
    }
   ],
   "source": [
    "\"\"\" How many schools recovered? \"\"\"\n",
    "len(recovered_schools_all.index)"
   ]
  },
  {
   "cell_type": "markdown",
   "metadata": {},
   "source": [
    "** NCES-Reported High Schools **"
   ]
  },
  {
   "cell_type": "code",
   "execution_count": 73,
   "metadata": {},
   "outputs": [],
   "source": [
    "recovered_schools_filter1 = recovered_schools_all.copy()"
   ]
  },
  {
   "cell_type": "code",
   "execution_count": 74,
   "metadata": {},
   "outputs": [],
   "source": [
    "filtered_out = filtered_out.append(recovered_schools_filter1[(recovered_schools_filter1.LEVEL == '1') | \n",
    "                                           (recovered_schools_filter1.LEVEL == '2') |\n",
    "                                           (recovered_schools_filter1.LEVEL == 'N')])\n",
    "recovered_schools_filter1 = recovered_schools_filter1[(recovered_schools_filter1.LEVEL == '3') |\n",
    "                                                      (recovered_schools_filter1.LEVEL == '4')]"
   ]
  },
  {
   "cell_type": "markdown",
   "metadata": {},
   "source": [
    "** Non-Virtual Schools **"
   ]
  },
  {
   "cell_type": "code",
   "execution_count": 75,
   "metadata": {},
   "outputs": [],
   "source": [
    "recovered_schools_filter2 = recovered_schools_filter1.copy()"
   ]
  },
  {
   "cell_type": "code",
   "execution_count": 76,
   "metadata": {},
   "outputs": [],
   "source": [
    "filtered_out = filtered_out.append(recovered_schools_filter2[recovered_schools_filter1.VIRTUAL == 'Yes'])\n",
    "recovered_schools_filter2 = recovered_schools_filter2[recovered_schools_filter2.VIRTUAL != 'Yes']"
   ]
  },
  {
   "cell_type": "markdown",
   "metadata": {},
   "source": [
    "** NCES-Reported Regular / Vocational **"
   ]
  },
  {
   "cell_type": "code",
   "execution_count": 77,
   "metadata": {},
   "outputs": [],
   "source": [
    "recovered_schools_filter3 = recovered_schools_filter2.copy()"
   ]
  },
  {
   "cell_type": "code",
   "execution_count": 78,
   "metadata": {},
   "outputs": [],
   "source": [
    "filtered_out = filtered_out.append(recovered_schools_filter3[(recovered_schools_filter3.SCH_TYPE == 2) | \n",
    "                                                                                 (recovered_schools_filter3.SCH_TYPE == 4)])\n",
    "recovered_schools_filter3 = recovered_schools_filter3[(recovered_schools_filter3.SCH_TYPE == 1) |\\\n",
    "                                                      (recovered_schools_filter3.SCH_TYPE == 3)]"
   ]
  },
  {
   "cell_type": "markdown",
   "metadata": {},
   "source": [
    "**Remove Schools with 'Adult' in the Name**"
   ]
  },
  {
   "cell_type": "code",
   "execution_count": 79,
   "metadata": {},
   "outputs": [],
   "source": [
    "filtered_out = filtered_out.append(recovered_schools_filter3[recovered_schools_filter3.SCH_NAME.str.contains('Adult', case=False)])\n",
    "recovered_schools_filter3 = recovered_schools_filter3[~recovered_schools_filter3.SCH_NAME.str.contains('Adult', case=False)]"
   ]
  },
  {
   "cell_type": "markdown",
   "metadata": {},
   "source": [
    "**Clean Duplicate Values **"
   ]
  },
  {
   "cell_type": "code",
   "execution_count": 80,
   "metadata": {},
   "outputs": [
    {
     "data": {
      "text/plain": [
       "'NOTE: the community collaborative charter duplication appears to be legit (two campuses of the same school?)'"
      ]
     },
     "execution_count": 80,
     "metadata": {},
     "output_type": "execute_result"
    }
   ],
   "source": [
    "recovered_schools_filter3.groupby('SCH_NAME')['SCH_NAME'].count().sort_values(ascending = False).head(5)\n",
    "\"\"\"NOTE: the community collaborative charter duplication appears to be legit (two campuses of the same school?)\"\"\""
   ]
  },
  {
   "cell_type": "code",
   "execution_count": 81,
   "metadata": {},
   "outputs": [],
   "source": [
    "\"\"\"Beacon High School in Dutchess County is already in the filter5 dataset -- Remove\"\"\"\n",
    "recovered_schools_filter4 = recovered_schools_filter3.copy()\n",
    "recovered_schools_filter4 = recovered_schools_filter4[(recovered_schools_filter4.SCH_NAME != 'beacon high school') | (recovered_schools_filter4.NMCNTY15 != 'Dutchess County')]"
   ]
  },
  {
   "cell_type": "code",
   "execution_count": 82,
   "metadata": {},
   "outputs": [],
   "source": [
    "\"\"\"Both of the performance learning centers here actually matched to a different 'performance learning center' record;\n",
    "therefore, they should both be removed\"\"\"\n",
    "recovered_schools_filter4 = recovered_schools_filter4[recovered_schools_filter4.SCH_NAME != 'performance learning center']"
   ]
  },
  {
   "cell_type": "code",
   "execution_count": 83,
   "metadata": {},
   "outputs": [],
   "source": [
    "\"\"\"The University High in Irvine was already accounted for; therefore, needs to be removed from the recovered\"\"\"\n",
    "recovered_schools_filter4 = recovered_schools_filter4[(recovered_schools_filter4.SCH_NAME != 'university high') | (recovered_schools_filter4.NMCNTY15 != 'Orange County')]"
   ]
  },
  {
   "cell_type": "code",
   "execution_count": 84,
   "metadata": {},
   "outputs": [
    {
     "data": {
      "text/plain": [
       "'661 Recovered High Schools'"
      ]
     },
     "execution_count": 84,
     "metadata": {},
     "output_type": "execute_result"
    }
   ],
   "source": [
    "\"\"\"'How many final recovered values?'\"\"\"\n",
    "str(len(recovered_schools_filter4.index)) + ' Recovered High Schools'"
   ]
  },
  {
   "cell_type": "markdown",
   "metadata": {},
   "source": [
    "# Concatenating Recovered Missing Values with the original Filtered Dataset \n",
    "Finally, I concatenated the recovered high schools with the original filtered set.\n",
    "\n",
    "I ensured that no duplicate values were added in the process."
   ]
  },
  {
   "cell_type": "code",
   "execution_count": 85,
   "metadata": {},
   "outputs": [],
   "source": [
    "\"\"\"Remove the missing values\"\"\"\n",
    "filter6_crdc_nces_1516 = filter5_crdc_nces_1516.copy()\n",
    "filter6_crdc_nces_1516 = filter6_crdc_nces_1516[filter6_crdc_nces_1516.LEVEL != \"Missing\"]"
   ]
  },
  {
   "cell_type": "code",
   "execution_count": 86,
   "metadata": {},
   "outputs": [
    {
     "data": {
      "text/plain": [
       "STABR  SCH_NAME           NMCNTY15        \n",
       "TX     TAYLOR H S         Harris County       2\n",
       "       LEE H S            Harris County       2\n",
       "       STERLING H S       Harris County       2\n",
       "MO     ADAIR CO. HIGH     Adair County        2\n",
       "KS     Smoky Valley High  McPherson County    1\n",
       "Name: SCH_NAME, dtype: int64"
      ]
     },
     "execution_count": 86,
     "metadata": {},
     "output_type": "execute_result"
    }
   ],
   "source": [
    "\"\"\"How many initial Duplicates?\n",
    "Interesting enough, these duplicates appear to legitimate; the problem seems to be that the schools actually have \n",
    "different names (e.g. \"The ADAIR Co. High\"'s are actually supposed to be labeled ADAIR Co. R-I High and ADAIR Co. R-II BRASHEAR)\"\"\"\n",
    "filter6_crdc_nces_1516.groupby(['STABR','SCH_NAME','NMCNTY15'])['SCH_NAME'].count().sort_values(ascending=False).head()"
   ]
  },
  {
   "cell_type": "code",
   "execution_count": 87,
   "metadata": {},
   "outputs": [
    {
     "data": {
      "text/plain": [
       "STABR  SCH_NAME                                   NMCNTY15         \n",
       "CA     community collaborative charter            Sacramento County    2\n",
       "TX     ischool high of hickory creek              Denton County        1\n",
       "NY     arts and media preparatory academy         Kings County         1\n",
       "       baccalaureate school for global education  Queens County        1\n",
       "       aviation career and technical high school  Queens County        1\n",
       "Name: SCH_NAME, dtype: int64"
      ]
     },
     "execution_count": 87,
     "metadata": {},
     "output_type": "execute_result"
    }
   ],
   "source": [
    "\"\"\"Any dulications in the recovered schools?\n",
    "    The community collaborative charter schools are two different schools.\"\"\"\n",
    "recovered_schools_filter4.groupby(['STABR','SCH_NAME','NMCNTY15'])['SCH_NAME'].count().sort_values(ascending=False).head()"
   ]
  },
  {
   "cell_type": "code",
   "execution_count": 88,
   "metadata": {},
   "outputs": [],
   "source": [
    "# filtered_and_recovered = pd.concat([filter6_crdc_nces_1516, recovered_schools_filter4])\n",
    "filtered_and_recovered = filter6_crdc_nces_1516.append(recovered_schools_filter4)"
   ]
  },
  {
   "cell_type": "code",
   "execution_count": 89,
   "metadata": {},
   "outputs": [
    {
     "name": "stdout",
     "output_type": "stream",
     "text": [
      "123\n"
     ]
    },
    {
     "data": {
      "text/plain": [
       "123"
      ]
     },
     "execution_count": 89,
     "metadata": {},
     "output_type": "execute_result"
    }
   ],
   "source": [
    "\"\"\"Do the numbers of columns match?\"\"\"\n",
    "print(len(filter6_crdc_nces_1516.columns.values))\n",
    "len(filtered_and_recovered.columns.values)"
   ]
  },
  {
   "cell_type": "code",
   "execution_count": 90,
   "metadata": {},
   "outputs": [],
   "source": [
    "\"\"\"Because Columns are stored as dictionaries, there is no inherent order to the columns -- Pandas automatically \n",
    "uses an alphabetical sort on an append/concatenation.  I reorded the columns to show the SCH Name first\"\"\"\n",
    "schName = ['SCH_NAME']\n",
    "reorder = schName + [c for c in filtered_and_recovered.columns if c not in schName]\n",
    "filtered_and_recovered = filtered_and_recovered[reorder]"
   ]
  },
  {
   "cell_type": "code",
   "execution_count": 91,
   "metadata": {},
   "outputs": [
    {
     "data": {
      "text/plain": [
       "STABR  SCH_NAME                            NMCNTY15         \n",
       "CA     community collaborative charter     Sacramento County    2\n",
       "TX     STERLING H S                        Harris County        2\n",
       "       TAYLOR H S                          Harris County        2\n",
       "MO     ADAIR CO. HIGH                      Adair County         2\n",
       "TX     LEE H S                             Harris County        2\n",
       "KS     Victoria Junior-Senior High School  Ellis County         1\n",
       "Name: SCH_NAME, dtype: int64"
      ]
     },
     "execution_count": 91,
     "metadata": {},
     "output_type": "execute_result"
    }
   ],
   "source": [
    "\"\"\"No added duplicate records\"\"\"\n",
    "filtered_and_recovered.groupby(['STABR','SCH_NAME','NMCNTY15'])['SCH_NAME'].count().sort_values(ascending=False).head(6)"
   ]
  },
  {
   "cell_type": "code",
   "execution_count": 92,
   "metadata": {},
   "outputs": [
    {
     "data": {
      "text/plain": [
       "18684"
      ]
     },
     "execution_count": 92,
     "metadata": {},
     "output_type": "execute_result"
    }
   ],
   "source": [
    "len(filtered_and_recovered)"
   ]
  },
  {
   "cell_type": "code",
   "execution_count": 93,
   "metadata": {},
   "outputs": [],
   "source": [
    "# filtered_and_recovered.to_csv('../filtered_data/04_filter_final.csv')"
   ]
  },
  {
   "cell_type": "markdown",
   "metadata": {},
   "source": [
    "# Final Missing Schools"
   ]
  },
  {
   "cell_type": "code",
   "execution_count": 94,
   "metadata": {},
   "outputs": [],
   "source": [
    "final_missing = schname_combined[(schname_combined.SCH_NAME_.isnull()) & (schname_combined.LEA_NAME != 'NEW YORK CITY PUBLIC SCHOOLS')]"
   ]
  },
  {
   "cell_type": "code",
   "execution_count": 95,
   "metadata": {},
   "outputs": [
    {
     "data": {
      "text/plain": [
       "290"
      ]
     },
     "execution_count": 95,
     "metadata": {},
     "output_type": "execute_result"
    }
   ],
   "source": [
    "\"\"\" How many final missing schools? \"\"\"\n",
    "len(final_missing.index)"
   ]
  },
  {
   "cell_type": "code",
   "execution_count": 96,
   "metadata": {},
   "outputs": [],
   "source": [
    "# final_missing.to_csv('../filtered_data/04_final_missing_NCES.csv')"
   ]
  },
  {
   "cell_type": "code",
   "execution_count": 97,
   "metadata": {},
   "outputs": [
    {
     "data": {
      "text/plain": [
       "LEA_NAME\n",
       "NORMAN                                                     7\n",
       "Dept. of Svs. for Children Youth & Their Families          5\n",
       "OFFICE OF EDUCATION DEPARTMENT OF CHILDREN AND FAMILIES    4\n",
       "ERIE 2-CHAUTAUQUA-CATTARAUGUS BOCES                        3\n",
       "Clayton County                                             3\n",
       "NASSAU BOCES                                               3\n",
       "Cherokee County                                            3\n",
       "WINDSOR SCHOOL DISTRICT                                    3\n",
       "Boston                                                     3\n",
       "TULSA                                                      3\n",
       "Name: LEAID, dtype: int64"
      ]
     },
     "execution_count": 97,
     "metadata": {},
     "output_type": "execute_result"
    }
   ],
   "source": [
    "\"\"\" Top remaining unaccounted districts \"\"\"\n",
    "final_missing.groupby('LEA_NAME')['LEAID'].count().sort_values(ascending = False).head(10)"
   ]
  },
  {
   "cell_type": "markdown",
   "metadata": {},
   "source": [
    "# Final Filtered Out Schools From the Dataset"
   ]
  },
  {
   "cell_type": "code",
   "execution_count": 98,
   "metadata": {},
   "outputs": [],
   "source": [
    "filtered_out = filtered_out.append(final_missing)\n",
    "# filtered_out.to_csv('../filtered_data/04_filtered_out_schools.csv')"
   ]
  },
  {
   "cell_type": "markdown",
   "metadata": {},
   "source": [
    "# Filtration Process Details"
   ]
  },
  {
   "cell_type": "code",
   "execution_count": 99,
   "metadata": {},
   "outputs": [],
   "source": [
    "from my_functions.extra_functions import (hs_enrollment_averager, missing_value_mapper, \n",
    "                                          add_enrollment_columns, enrollment_summary)"
   ]
  },
  {
   "cell_type": "code",
   "execution_count": 100,
   "metadata": {},
   "outputs": [],
   "source": [
    "\"\"\"Adding Enrollment Columns to the Filtered Datasets\"\"\"\n",
    "crdc_1516_enroll = add_enrollment_columns(crdc_1516)\n",
    "filter_1_enroll = add_enrollment_columns(filter1_crdc_nces_1516)\n",
    "filter_2_enroll = add_enrollment_columns(filter2_crdc_nces_1516)\n",
    "filter_3_enroll = add_enrollment_columns(filter3_crdc_nces_1516)\n",
    "filter_4_enroll = add_enrollment_columns(filter4_crdc_nces_1516)\n",
    "filter_5_enroll = add_enrollment_columns(filter5_crdc_nces_1516)\n",
    "filtered_and_recovered_enroll = add_enrollment_columns(filtered_and_recovered)"
   ]
  },
  {
   "cell_type": "code",
   "execution_count": 101,
   "metadata": {},
   "outputs": [],
   "source": [
    "\"\"\"Set up the enrollment summary DataFrames\"\"\"\n",
    "tot_enr = enrollment_summary(crdc_1516_enroll, 'Total CRDC Schools')\n",
    "filter1_enr = enrollment_summary(filter_1_enroll, 'Remove Schools without 11th or 12th Grade (CRDC)')\n",
    "filter2_enr = enrollment_summary(filter_2_enroll, 'Remove Special-Education, Alternative, and Juvenile Justice Schools (CRDC)')\n",
    "filter3_enr = enrollment_summary(filter_3_enroll, 'Remove Virtual Schools (NCES)')\n",
    "filter4_enr = enrollment_summary(filter_4_enroll, 'Remove Elementary, Middle, and \"N\" Schools (NCES)')\n",
    "filter5_enr = enrollment_summary(filter_5_enroll, 'Remove Special Education, Alternative/Other, and \"Adult\" Schools (NCES)')\n",
    "filter_final_enr = enrollment_summary(filtered_and_recovered_enroll, 'Remove the Non-Matching NCES Schools (Final Total)')"
   ]
  },
  {
   "cell_type": "code",
   "execution_count": 102,
   "metadata": {},
   "outputs": [
    {
     "data": {
      "text/html": [
       "<div>\n",
       "<style scoped>\n",
       "    .dataframe tbody tr th:only-of-type {\n",
       "        vertical-align: middle;\n",
       "    }\n",
       "\n",
       "    .dataframe tbody tr th {\n",
       "        vertical-align: top;\n",
       "    }\n",
       "\n",
       "    .dataframe thead th {\n",
       "        text-align: right;\n",
       "    }\n",
       "</style>\n",
       "<table border=\"1\" class=\"dataframe\">\n",
       "  <thead>\n",
       "    <tr style=\"text-align: right;\">\n",
       "      <th></th>\n",
       "      <th>Number of Schools</th>\n",
       "      <th>High Students</th>\n",
       "      <th>DE Students</th>\n",
       "      <th>AP Students</th>\n",
       "    </tr>\n",
       "  </thead>\n",
       "  <tbody>\n",
       "    <tr>\n",
       "      <th>Total CRDC Schools</th>\n",
       "      <td>96360</td>\n",
       "      <td>15040262</td>\n",
       "      <td>1180054</td>\n",
       "      <td>2808786</td>\n",
       "    </tr>\n",
       "    <tr>\n",
       "      <th>Remove Schools without 11th or 12th Grade (CRDC)</th>\n",
       "      <td>25051</td>\n",
       "      <td>14774212</td>\n",
       "      <td>1175384</td>\n",
       "      <td>2793376</td>\n",
       "    </tr>\n",
       "    <tr>\n",
       "      <th>Remove Special-Education, Alternative, and Juvenile Justice Schools (CRDC)</th>\n",
       "      <td>20646</td>\n",
       "      <td>14403965</td>\n",
       "      <td>1164638</td>\n",
       "      <td>2784404</td>\n",
       "    </tr>\n",
       "    <tr>\n",
       "      <th>Remove Virtual Schools (NCES)</th>\n",
       "      <td>20269</td>\n",
       "      <td>14296572</td>\n",
       "      <td>1161385</td>\n",
       "      <td>2779722</td>\n",
       "    </tr>\n",
       "    <tr>\n",
       "      <th>Remove Elementary, Middle, and \"N\" Schools (NCES)</th>\n",
       "      <td>20113</td>\n",
       "      <td>14278284</td>\n",
       "      <td>1160178</td>\n",
       "      <td>2777305</td>\n",
       "    </tr>\n",
       "    <tr>\n",
       "      <th>Remove Special Education, Alternative/Other, and \"Adult\" Schools (NCES)</th>\n",
       "      <td>19012</td>\n",
       "      <td>14132585</td>\n",
       "      <td>1154017</td>\n",
       "      <td>2766557</td>\n",
       "    </tr>\n",
       "    <tr>\n",
       "      <th>Remove the Non-Matching NCES Schools (Final Total)</th>\n",
       "      <td>18684</td>\n",
       "      <td>14076669</td>\n",
       "      <td>1151835</td>\n",
       "      <td>2759810</td>\n",
       "    </tr>\n",
       "  </tbody>\n",
       "</table>\n",
       "</div>"
      ],
      "text/plain": [
       "                                                    Number of Schools  \\\n",
       "Total CRDC Schools                                              96360   \n",
       "Remove Schools without 11th or 12th Grade (CRDC)                25051   \n",
       "Remove Special-Education, Alternative, and Juve...              20646   \n",
       "Remove Virtual Schools (NCES)                                   20269   \n",
       "Remove Elementary, Middle, and \"N\" Schools (NCES)               20113   \n",
       "Remove Special Education, Alternative/Other, an...              19012   \n",
       "Remove the Non-Matching NCES Schools (Final Total)              18684   \n",
       "\n",
       "                                                    High Students  \\\n",
       "Total CRDC Schools                                       15040262   \n",
       "Remove Schools without 11th or 12th Grade (CRDC)         14774212   \n",
       "Remove Special-Education, Alternative, and Juve...       14403965   \n",
       "Remove Virtual Schools (NCES)                            14296572   \n",
       "Remove Elementary, Middle, and \"N\" Schools (NCES)        14278284   \n",
       "Remove Special Education, Alternative/Other, an...       14132585   \n",
       "Remove the Non-Matching NCES Schools (Final Total)       14076669   \n",
       "\n",
       "                                                    DE Students  AP Students  \n",
       "Total CRDC Schools                                      1180054      2808786  \n",
       "Remove Schools without 11th or 12th Grade (CRDC)        1175384      2793376  \n",
       "Remove Special-Education, Alternative, and Juve...      1164638      2784404  \n",
       "Remove Virtual Schools (NCES)                           1161385      2779722  \n",
       "Remove Elementary, Middle, and \"N\" Schools (NCES)       1160178      2777305  \n",
       "Remove Special Education, Alternative/Other, an...      1154017      2766557  \n",
       "Remove the Non-Matching NCES Schools (Final Total)      1151835      2759810  "
      ]
     },
     "execution_count": 102,
     "metadata": {},
     "output_type": "execute_result"
    }
   ],
   "source": [
    "\"\"\"Compile enrollment summary DataFrames\"\"\"\n",
    "pd.concat([tot_enr, filter1_enr, filter2_enr, filter3_enr, filter4_enr, filter5_enr, filter_final_enr])"
   ]
  },
  {
   "cell_type": "code",
   "execution_count": null,
   "metadata": {},
   "outputs": [],
   "source": []
  }
 ],
 "metadata": {
  "kernelspec": {
   "display_name": "nacep_venv",
   "language": "python",
   "name": "nacep_venv"
  },
  "language_info": {
   "codemirror_mode": {
    "name": "ipython",
    "version": 3
   },
   "file_extension": ".py",
   "mimetype": "text/x-python",
   "name": "python",
   "nbconvert_exporter": "python",
   "pygments_lexer": "ipython3",
   "version": "3.6.5"
  }
 },
 "nbformat": 4,
 "nbformat_minor": 2
}
