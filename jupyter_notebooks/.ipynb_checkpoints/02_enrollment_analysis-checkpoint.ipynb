{
 "cells": [
  {
   "cell_type": "code",
   "execution_count": 71,
   "metadata": {},
   "outputs": [
    {
     "data": {
      "text/html": [
       "<script>requirejs.config({paths: { 'plotly': ['https://cdn.plot.ly/plotly-latest.min']},});if(!window.Plotly) {{require(['plotly'],function(plotly) {window.Plotly=plotly;});}}</script>"
      ],
      "text/vnd.plotly.v1+html": [
       "<script>requirejs.config({paths: { 'plotly': ['https://cdn.plot.ly/plotly-latest.min']},});if(!window.Plotly) {{require(['plotly'],function(plotly) {window.Plotly=plotly;});}}</script>"
      ]
     },
     "metadata": {},
     "output_type": "display_data"
    }
   ],
   "source": [
    "import pandas as pd\n",
    "import numpy as np\n",
    "import seaborn as sns\n",
    "import matplotlib.pyplot as plt\n",
    "\n",
    "import plotly.plotly as py\n",
    "import plotly.graph_objs as go\n",
    "from plotly.offline import init_notebook_mode,iplot\n",
    "init_notebook_mode(connected = True)\n",
    "\n",
    "%matplotlib inline\n",
    "sns.set_style('whitegrid')\n",
    "plt.rc('axes', titlesize = 14, titleweight = 'bold', labelweight = 'bold')"
   ]
  },
  {
   "cell_type": "code",
   "execution_count": 2,
   "metadata": {},
   "outputs": [],
   "source": [
    "crdc_1516 = pd.read_csv('../filtered_data/00_crdc_1516_initial.csv', \n",
    "                        dtype = {'LEAID':np.object})"
   ]
  },
  {
   "cell_type": "code",
   "execution_count": 3,
   "metadata": {},
   "outputs": [
    {
     "data": {
      "text/plain": [
       "96360"
      ]
     },
     "execution_count": 3,
     "metadata": {},
     "output_type": "execute_result"
    }
   ],
   "source": [
    "len(crdc_1516.index)"
   ]
  },
  {
   "cell_type": "code",
   "execution_count": 4,
   "metadata": {},
   "outputs": [
    {
     "data": {
      "text/plain": [
       "array(['LEA_STATE', 'LEA_STATE_NAME', 'LEAID', 'LEA_NAME', 'SCHID',\n",
       "       'SCH_NAME', 'COMBOKEY', 'JJ', 'SCH_GRADE_PS', 'SCH_GRADE_KG',\n",
       "       'SCH_GRADE_G01', 'SCH_GRADE_G02', 'SCH_GRADE_G03', 'SCH_GRADE_G04',\n",
       "       'SCH_GRADE_G05', 'SCH_GRADE_G06', 'SCH_GRADE_G07', 'SCH_GRADE_G08',\n",
       "       'SCH_GRADE_G09', 'SCH_GRADE_G10', 'SCH_GRADE_G11', 'SCH_GRADE_G12',\n",
       "       'SCH_GRADE_UG', 'SCH_UGDETAIL_HS', 'SCH_STATUS_SPED',\n",
       "       'SCH_STATUS_MAGNET', 'SCH_STATUS_CHARTER', 'SCH_STATUS_ALT',\n",
       "       'SCH_ENR_HI_M', 'SCH_ENR_HI_F', 'SCH_ENR_AM_M', 'SCH_ENR_AM_F',\n",
       "       'SCH_ENR_AS_M', 'SCH_ENR_AS_F', 'SCH_ENR_HP_M', 'SCH_ENR_HP_F',\n",
       "       'SCH_ENR_BL_M', 'SCH_ENR_BL_F', 'SCH_ENR_WH_M', 'SCH_ENR_WH_F',\n",
       "       'SCH_ENR_TR_M', 'SCH_ENR_TR_F', 'TOT_ENR_M', 'TOT_ENR_F',\n",
       "       'SCH_ENR_LEP_M', 'SCH_ENR_LEP_F', 'SCH_ENR_IDEA_M',\n",
       "       'SCH_ENR_IDEA_F', 'SCH_DUAL_IND', 'SCH_DUALENR_HI_M',\n",
       "       'SCH_DUALENR_HI_F', 'SCH_DUALENR_AM_M', 'SCH_DUALENR_AM_F',\n",
       "       'SCH_DUALENR_AS_M', 'SCH_DUALENR_AS_F', 'SCH_DUALENR_HP_M',\n",
       "       'SCH_DUALENR_HP_F', 'SCH_DUALENR_BL_M', 'SCH_DUALENR_BL_F',\n",
       "       'SCH_DUALENR_WH_M', 'SCH_DUALENR_WH_F', 'SCH_DUALENR_TR_M',\n",
       "       'SCH_DUALENR_TR_F', 'TOT_DUALENR_M', 'TOT_DUALENR_F',\n",
       "       'SCH_DUALENR_LEP_M', 'SCH_DUALENR_LEP_F', 'SCH_DUALENR_IDEA_M',\n",
       "       'SCH_DUALENR_IDEA_F', 'SCH_APENR_IND', 'SCH_APENR_HI_M',\n",
       "       'SCH_APENR_HI_F', 'SCH_APENR_AM_M', 'SCH_APENR_AM_F',\n",
       "       'SCH_APENR_AS_M', 'SCH_APENR_AS_F', 'SCH_APENR_HP_M',\n",
       "       'SCH_APENR_HP_F', 'SCH_APENR_BL_M', 'SCH_APENR_BL_F',\n",
       "       'SCH_APENR_WH_M', 'SCH_APENR_WH_F', 'SCH_APENR_TR_M',\n",
       "       'SCH_APENR_TR_F', 'TOT_APENR_M', 'TOT_APENR_F', 'SCH_APENR_LEP_M',\n",
       "       'SCH_APENR_LEP_F', 'SCH_APENR_IDEA_M', 'SCH_APENR_IDEA_F',\n",
       "       'SCH_IBENR_IND', 'SCH_IBENR_HI_M', 'SCH_IBENR_HI_F',\n",
       "       'SCH_IBENR_AM_M', 'SCH_IBENR_AM_F', 'SCH_IBENR_AS_M',\n",
       "       'SCH_IBENR_AS_F', 'SCH_IBENR_HP_M', 'SCH_IBENR_HP_F',\n",
       "       'SCH_IBENR_BL_M', 'SCH_IBENR_BL_F', 'SCH_IBENR_WH_M',\n",
       "       'SCH_IBENR_WH_F', 'SCH_IBENR_TR_M', 'SCH_IBENR_TR_F',\n",
       "       'TOT_IBENR_M', 'TOT_IBENR_F', 'SCH_IBENR_LEP_M', 'SCH_IBENR_LEP_F',\n",
       "       'SCH_IBENR_IDEA_M', 'SCH_IBENR_IDEA_F'], dtype=object)"
      ]
     },
     "execution_count": 4,
     "metadata": {},
     "output_type": "execute_result"
    }
   ],
   "source": [
    "crdc_1516.columns.values"
   ]
  },
  {
   "cell_type": "markdown",
   "metadata": {},
   "source": [
    "# <font color = green> Clean Missing Values / Add Enrollment columns </font>\n",
    "Specificially those for int-columns -- these are recorded as negative numbers that interfere with the enrollment calculations."
   ]
  },
  {
   "cell_type": "code",
   "execution_count": 5,
   "metadata": {},
   "outputs": [],
   "source": [
    "crdc_1516_cleaned = crdc_1516.copy()"
   ]
  },
  {
   "cell_type": "code",
   "execution_count": 6,
   "metadata": {},
   "outputs": [],
   "source": [
    "def missing_value_mapper(value):\n",
    "    if isinstance(value, int):\n",
    "        if value < 0:\n",
    "            return 0\n",
    "    return value\n",
    "\n",
    "crdc_1516_cleaned = crdc_1516_cleaned.applymap(missing_value_mapper)"
   ]
  },
  {
   "cell_type": "markdown",
   "metadata": {},
   "source": [
    "<font color = blue>** -- Totals Columns -- **</font>"
   ]
  },
  {
   "cell_type": "markdown",
   "metadata": {},
   "source": [
    "** Total enrollments **"
   ]
  },
  {
   "cell_type": "code",
   "execution_count": 7,
   "metadata": {},
   "outputs": [],
   "source": [
    "crdc_1516_cleaned['total_enrollment'] = crdc_1516_cleaned['TOT_ENR_M'] + crdc_1516_cleaned['TOT_ENR_F']"
   ]
  },
  {
   "cell_type": "markdown",
   "metadata": {},
   "source": [
    "** Total white enrollments **"
   ]
  },
  {
   "cell_type": "code",
   "execution_count": 8,
   "metadata": {},
   "outputs": [],
   "source": [
    "crdc_1516_cleaned['total_white_enrollment'] = crdc_1516_cleaned['SCH_ENR_WH_M'] + crdc_1516_cleaned['SCH_ENR_WH_F']"
   ]
  },
  {
   "cell_type": "markdown",
   "metadata": {},
   "source": [
    "** Total non-white enrollments **"
   ]
  },
  {
   "cell_type": "code",
   "execution_count": 9,
   "metadata": {},
   "outputs": [],
   "source": [
    "crdc_1516_cleaned['total_nonwhite_enrollment'] = crdc_1516_cleaned['total_enrollment'] - crdc_1516_cleaned['total_white_enrollment']"
   ]
  },
  {
   "cell_type": "markdown",
   "metadata": {},
   "source": [
    "**Total Racial Breakdowns**"
   ]
  },
  {
   "cell_type": "code",
   "execution_count": 10,
   "metadata": {},
   "outputs": [],
   "source": [
    "crdc_1516_cleaned['total_hi_enrollment'] = crdc_1516_cleaned['SCH_ENR_HI_M'] + crdc_1516_cleaned['SCH_ENR_HI_F']\n",
    "crdc_1516_cleaned['total_am_enrollment'] = crdc_1516_cleaned['SCH_ENR_AM_M'] + crdc_1516_cleaned['SCH_ENR_AM_F']\n",
    "crdc_1516_cleaned['total_as_enrollment'] = crdc_1516_cleaned['SCH_ENR_AS_M'] + crdc_1516_cleaned['SCH_ENR_AS_F']\n",
    "crdc_1516_cleaned['total_bl_enrollment'] = crdc_1516_cleaned['SCH_ENR_BL_M'] + crdc_1516_cleaned['SCH_ENR_BL_F']\n",
    "crdc_1516_cleaned['total_hp_enrollment'] = crdc_1516_cleaned['SCH_ENR_HP_M'] + crdc_1516_cleaned['SCH_ENR_HP_F']\n",
    "crdc_1516_cleaned['total_tr_enrollment'] = crdc_1516_cleaned['SCH_ENR_TR_M'] + crdc_1516_cleaned['SCH_ENR_TR_F']"
   ]
  },
  {
   "cell_type": "markdown",
   "metadata": {},
   "source": [
    "** Total LEP enrollment **"
   ]
  },
  {
   "cell_type": "code",
   "execution_count": 11,
   "metadata": {},
   "outputs": [],
   "source": [
    "crdc_1516_cleaned['total_lep_enrollment'] = crdc_1516_cleaned['SCH_ENR_LEP_M'] + crdc_1516_cleaned['SCH_ENR_LEP_F']"
   ]
  },
  {
   "cell_type": "markdown",
   "metadata": {},
   "source": [
    "** Total IDEA enrollment **"
   ]
  },
  {
   "cell_type": "code",
   "execution_count": 12,
   "metadata": {},
   "outputs": [],
   "source": [
    "crdc_1516_cleaned['total_idea_enrollment'] = crdc_1516_cleaned['SCH_ENR_IDEA_M'] + crdc_1516_cleaned['SCH_ENR_IDEA_F']"
   ]
  },
  {
   "cell_type": "markdown",
   "metadata": {},
   "source": [
    "<font color = blue>** -- DE Columns -- **</font>"
   ]
  },
  {
   "cell_type": "markdown",
   "metadata": {},
   "source": [
    "** Total DE Enrollment **"
   ]
  },
  {
   "cell_type": "code",
   "execution_count": 13,
   "metadata": {},
   "outputs": [],
   "source": [
    "crdc_1516_cleaned['de_total_enrollment'] = crdc_1516_cleaned['TOT_DUALENR_M'] + crdc_1516_cleaned['TOT_DUALENR_F']"
   ]
  },
  {
   "cell_type": "markdown",
   "metadata": {},
   "source": [
    "** Total DE white enrollment **"
   ]
  },
  {
   "cell_type": "code",
   "execution_count": 14,
   "metadata": {},
   "outputs": [],
   "source": [
    "crdc_1516_cleaned['de_white_enrollment'] = crdc_1516_cleaned['SCH_DUALENR_WH_F'] +  crdc_1516_cleaned['SCH_DUALENR_WH_M']"
   ]
  },
  {
   "cell_type": "markdown",
   "metadata": {},
   "source": [
    "** Total DE non-white enrollment **"
   ]
  },
  {
   "cell_type": "code",
   "execution_count": 15,
   "metadata": {},
   "outputs": [],
   "source": [
    "crdc_1516_cleaned['de_nonwhite_enrollment'] = crdc_1516_cleaned['de_total_enrollment'] - crdc_1516_cleaned['de_white_enrollment']"
   ]
  },
  {
   "cell_type": "markdown",
   "metadata": {},
   "source": [
    "** DE Racial Breakdowns **"
   ]
  },
  {
   "cell_type": "code",
   "execution_count": 16,
   "metadata": {},
   "outputs": [],
   "source": [
    "crdc_1516_cleaned['de_hi_enrollment'] = crdc_1516_cleaned['SCH_DUALENR_HI_M'] + crdc_1516_cleaned['SCH_DUALENR_HI_F']\n",
    "crdc_1516_cleaned['de_am_enrollment'] = crdc_1516_cleaned['SCH_DUALENR_AM_M'] + crdc_1516_cleaned['SCH_DUALENR_AM_F']\n",
    "crdc_1516_cleaned['de_as_enrollment'] = crdc_1516_cleaned['SCH_DUALENR_AS_M'] + crdc_1516_cleaned['SCH_DUALENR_AS_F']\n",
    "crdc_1516_cleaned['de_bl_enrollment'] = crdc_1516_cleaned['SCH_DUALENR_BL_M'] + crdc_1516_cleaned['SCH_DUALENR_BL_F']\n",
    "crdc_1516_cleaned['de_hp_enrollment'] = crdc_1516_cleaned['SCH_DUALENR_HP_M'] + crdc_1516_cleaned['SCH_DUALENR_HP_F']\n",
    "crdc_1516_cleaned['de_tr_enrollment'] = crdc_1516_cleaned['SCH_DUALENR_TR_M'] + crdc_1516_cleaned['SCH_DUALENR_TR_F']"
   ]
  },
  {
   "cell_type": "markdown",
   "metadata": {},
   "source": [
    "** Total DE LEA-enrollment **"
   ]
  },
  {
   "cell_type": "code",
   "execution_count": 17,
   "metadata": {},
   "outputs": [],
   "source": [
    "crdc_1516_cleaned['de_lep_enrollment'] = crdc_1516_cleaned['SCH_DUALENR_LEP_M'] + crdc_1516_cleaned['SCH_DUALENR_LEP_F']"
   ]
  },
  {
   "cell_type": "markdown",
   "metadata": {},
   "source": [
    "** Total DE IDEA-enrollment **"
   ]
  },
  {
   "cell_type": "code",
   "execution_count": 18,
   "metadata": {},
   "outputs": [],
   "source": [
    "crdc_1516_cleaned['de_idea_enrollment'] = crdc_1516_cleaned['SCH_DUALENR_IDEA_M'] + crdc_1516_cleaned['SCH_DUALENR_IDEA_F']"
   ]
  },
  {
   "cell_type": "markdown",
   "metadata": {},
   "source": [
    "<font color = blue>** -- AP Columns -- **</font>"
   ]
  },
  {
   "cell_type": "markdown",
   "metadata": {},
   "source": [
    "** Total AP enrollment **"
   ]
  },
  {
   "cell_type": "code",
   "execution_count": 19,
   "metadata": {},
   "outputs": [],
   "source": [
    "crdc_1516_cleaned['ap_total_enrollment'] = crdc_1516_cleaned['TOT_APENR_M'] + crdc_1516_cleaned['TOT_APENR_F']"
   ]
  },
  {
   "cell_type": "markdown",
   "metadata": {},
   "source": [
    "**Total AP white enrollment**"
   ]
  },
  {
   "cell_type": "code",
   "execution_count": 20,
   "metadata": {},
   "outputs": [],
   "source": [
    "crdc_1516_cleaned['ap_white_enrollment'] = crdc_1516_cleaned['SCH_APENR_WH_F'] +  crdc_1516_cleaned['SCH_APENR_WH_M']"
   ]
  },
  {
   "cell_type": "markdown",
   "metadata": {},
   "source": [
    "**Total AP non-white enrollment**"
   ]
  },
  {
   "cell_type": "code",
   "execution_count": 21,
   "metadata": {},
   "outputs": [],
   "source": [
    "crdc_1516_cleaned['ap_nonwhite_enrollment'] = crdc_1516_cleaned['ap_total_enrollment'] - crdc_1516_cleaned['ap_white_enrollment']"
   ]
  },
  {
   "cell_type": "markdown",
   "metadata": {},
   "source": [
    "**AP Racial Breakdowns**"
   ]
  },
  {
   "cell_type": "code",
   "execution_count": 22,
   "metadata": {},
   "outputs": [],
   "source": [
    "crdc_1516_cleaned['ap_hi_enrollment'] = crdc_1516_cleaned['SCH_APENR_HI_M'] + crdc_1516_cleaned['SCH_APENR_HI_F']\n",
    "crdc_1516_cleaned['ap_am_enrollment'] = crdc_1516_cleaned['SCH_APENR_AM_M'] + crdc_1516_cleaned['SCH_APENR_AM_F']\n",
    "crdc_1516_cleaned['ap_as_enrollment'] = crdc_1516_cleaned['SCH_APENR_AS_M'] + crdc_1516_cleaned['SCH_APENR_AS_F']\n",
    "crdc_1516_cleaned['ap_bl_enrollment'] = crdc_1516_cleaned['SCH_APENR_BL_M'] + crdc_1516_cleaned['SCH_APENR_BL_F']\n",
    "crdc_1516_cleaned['ap_hp_enrollment'] = crdc_1516_cleaned['SCH_APENR_HP_M'] + crdc_1516_cleaned['SCH_APENR_HP_F']\n",
    "crdc_1516_cleaned['ap_tr_enrollment'] = crdc_1516_cleaned['SCH_APENR_TR_M'] + crdc_1516_cleaned['SCH_APENR_TR_F']"
   ]
  },
  {
   "cell_type": "markdown",
   "metadata": {},
   "source": [
    "**Total AP LEA-enrollment**"
   ]
  },
  {
   "cell_type": "code",
   "execution_count": 23,
   "metadata": {},
   "outputs": [],
   "source": [
    "crdc_1516_cleaned['ap_lep_enrollment'] = crdc_1516_cleaned['SCH_APENR_LEP_M'] + crdc_1516_cleaned['SCH_APENR_LEP_F']"
   ]
  },
  {
   "cell_type": "markdown",
   "metadata": {},
   "source": [
    "**Total AP IDEA-enrollment**"
   ]
  },
  {
   "cell_type": "code",
   "execution_count": 24,
   "metadata": {},
   "outputs": [],
   "source": [
    "crdc_1516_cleaned['ap_idea_enrollment'] = crdc_1516_cleaned['SCH_APENR_IDEA_M'] + crdc_1516_cleaned['SCH_APENR_IDEA_F']"
   ]
  },
  {
   "cell_type": "markdown",
   "metadata": {},
   "source": [
    "# <font color = green> Manipulate DataFrame </font>"
   ]
  },
  {
   "cell_type": "markdown",
   "metadata": {},
   "source": [
    "** Add Size Column **"
   ]
  },
  {
   "cell_type": "code",
   "execution_count": 25,
   "metadata": {},
   "outputs": [],
   "source": [
    "def school_sizer(enroll):\n",
    "    if enroll < 100:\n",
    "        return 1\n",
    "    elif 100 <= enroll < 500:\n",
    "        return 2\n",
    "    elif 500 <= enroll < 1200:\n",
    "        return 3\n",
    "    return 4"
   ]
  },
  {
   "cell_type": "code",
   "execution_count": 26,
   "metadata": {},
   "outputs": [],
   "source": [
    "crdc_1516_cleaned['size_group'] = crdc_1516_cleaned['total_enrollment'].apply(lambda x: school_sizer(x))"
   ]
  },
  {
   "cell_type": "markdown",
   "metadata": {},
   "source": [
    "** Add Region Column **"
   ]
  },
  {
   "cell_type": "code",
   "execution_count": 27,
   "metadata": {},
   "outputs": [],
   "source": [
    "\"\"\"\n",
    "1:  Middle States Commission on Higher Education - New York, New Jersey, Pennsylvania, Delaware, Maryland, the District of Columbia\n",
    "\n",
    "2:  New England Association of Schools and Colleges - Connecticut, Maine, Massachusetts, New Hampshire, Rhode Island, and Vermont\n",
    "\n",
    "3:  Higher Learning Commission - Arkansas, Arizona, Colorado, Iowa, Illinois, Indiana, Kansas, Michigan, Minnesota, Missouri, \n",
    "    North Dakota, Nebraska, New Mexico, Ohio, Oklahoma, South Dakota, Wisconsin, West Virginia, and Wyoming\n",
    "\n",
    "4:  Northwest Commission on Colleges and Universities - Alaska, Idaho, Montana, Nevada, Oregon, Utah, and Washington\n",
    "\n",
    "5:  Southern Association of Colleges and Schools - Alabama, Florida, Georgia, Kentucky, Louisiana, Mississippi, \n",
    "    North Carolina, South Carolina, Tennessee, Texas and Virginia\n",
    "\n",
    "6:  Western Association of Schools and Colleges - California, Hawaii\n",
    "\"\"\"\n",
    "\n",
    "middle_states = \"NY,NJ,PA,DE,MD,DC\".split(',')\n",
    "new_england = \"CT,ME,MA,NH,RI,VT\".split(',')\n",
    "higher_learning_commission = \"AR,AZ,CO,IA,IL,IN,KS,MI,MN,MO,ND,NE,NM,OH,OK,SD,WI,WV,WY\".split(',')\n",
    "northwest_commission = \"AK,ID,MT,NV,OR,UT,WA\".split(',')\n",
    "southern_association = \"AL,FL,GA,KY,LA,MS,NC,SC,TN,TX,VA\".split(',')\n",
    "western_association = \"CA,HI\".split(',')"
   ]
  },
  {
   "cell_type": "code",
   "execution_count": 28,
   "metadata": {},
   "outputs": [],
   "source": [
    "def region_mapper(state):\n",
    "    if state in middle_states:\n",
    "        return \"MSCHE\"\n",
    "    elif state in new_england:\n",
    "        return \"NEASC\"\n",
    "    elif state in higher_learning_commission:\n",
    "        return \"HLC\"\n",
    "    elif state in northwest_commission:\n",
    "        return \"NWCCU\"\n",
    "    elif state in southern_association:\n",
    "        return \"SACS\"\n",
    "    elif state in western_association:\n",
    "        return \"WASC\"\n",
    "    else:\n",
    "        return \"Messed Up\"\n",
    "    \n",
    "crdc_1516_cleaned['region_accred'] = crdc_1516_cleaned['LEA_STATE'].apply(lambda x: region_mapper(x))"
   ]
  },
  {
   "cell_type": "markdown",
   "metadata": {},
   "source": [
    "** Add Ethnicity Percentage **"
   ]
  },
  {
   "cell_type": "code",
   "execution_count": 29,
   "metadata": {},
   "outputs": [],
   "source": [
    "crdc_1516_cleaned['pct_eth'] = crdc_1516_cleaned['total_nonwhite_enrollment'] / crdc_1516_cleaned['total_enrollment']"
   ]
  },
  {
   "cell_type": "code",
   "execution_count": 30,
   "metadata": {
    "scrolled": true
   },
   "outputs": [
    {
     "data": {
      "text/plain": [
       "Text(0.5,0,'Ethnicity Percentage')"
      ]
     },
     "execution_count": 30,
     "metadata": {},
     "output_type": "execute_result"
    },
    {
     "data": {
      "image/png": "[encoded data removed]",
      "text/plain": [
       "<Figure size 432x288 with 1 Axes>"
      ]
     },
     "metadata": {},
     "output_type": "display_data"
    }
   ],
   "source": [
    "crdc_1516_cleaned.pct_eth.plot.hist(bins=100, xlim = [0,1], edgecolor = 'k')\n",
    "plt.title('Distribution of Schools by Ethnicity Percentages')\n",
    "plt.xlabel('Ethnicity Percentage')\n",
    "# plt.savefig(fname = './Visualizations/By_ethnicity_dist_200.png', dpi = 200)"
   ]
  },
  {
   "cell_type": "markdown",
   "metadata": {},
   "source": [
    "** Add Ethnicity Percentage Quintile **"
   ]
  },
  {
   "cell_type": "code",
   "execution_count": 31,
   "metadata": {},
   "outputs": [],
   "source": [
    "def eth_grouper(pct):\n",
    "    if pct <= .20:\n",
    "        return 1\n",
    "    elif .20 < pct <= .4:\n",
    "        return 2\n",
    "    elif .4 < pct <= 0.6:\n",
    "        return 3\n",
    "    elif .6 < pct <= .8:\n",
    "        return 4\n",
    "    return 5\n",
    "    \n",
    "crdc_1516_cleaned['eth_quintile'] = crdc_1516_cleaned['pct_eth'].apply(lambda pct: eth_grouper(pct))"
   ]
  },
  {
   "cell_type": "markdown",
   "metadata": {},
   "source": [
    "# <font color = green> Filter non-Yes Schools </font>"
   ]
  },
  {
   "cell_type": "code",
   "execution_count": 213,
   "metadata": {},
   "outputs": [],
   "source": [
    "def have_gr9_or_younger(df):\n",
    "    \"\"\"Calculates the number of schools in a given DataFrame (df) offer grades of 8th or younger (i.e. non-high school grades)\"\"\"\n",
    "    count = 0\n",
    "    for index, row in df.iterrows():\n",
    "        if row.SCH_GRADE_G08 == 'Yes':\n",
    "            count += 1\n",
    "        elif row.SCH_GRADE_G07 == 'Yes':\n",
    "            count += 1\n",
    "        elif row.SCH_GRADE_G06 == 'Yes':\n",
    "            count += 1\n",
    "        elif row.SCH_GRADE_G05 == 'Yes':\n",
    "            count += 1\n",
    "        elif row.SCH_GRADE_G04 == 'Yes':\n",
    "            count += 1\n",
    "        elif row.SCH_GRADE_G03 == 'Yes':\n",
    "            count += 1\n",
    "        elif row.SCH_GRADE_G02 == 'Yes':\n",
    "            count += 1\n",
    "        elif row.SCH_GRADE_G01 == 'Yes':\n",
    "            count += 1\n",
    "        elif row.SCH_GRADE_KG == 'Yes':\n",
    "            count += 1\n",
    "        elif row.SCH_GRADE_PS == 'Yes':\n",
    "            count += 1\n",
    "    return round(count / len(df),3)"
   ]
  },
  {
   "cell_type": "markdown",
   "metadata": {},
   "source": [
    "**DE**"
   ]
  },
  {
   "cell_type": "code",
   "execution_count": 32,
   "metadata": {},
   "outputs": [],
   "source": [
    "crdc_1516_deYes = crdc_1516_cleaned[crdc_1516_cleaned.SCH_DUAL_IND == 'Yes']"
   ]
  },
  {
   "cell_type": "code",
   "execution_count": 185,
   "metadata": {},
   "outputs": [
    {
     "data": {
      "text/plain": [
       "14361"
      ]
     },
     "execution_count": 185,
     "metadata": {},
     "output_type": "execute_result"
    }
   ],
   "source": [
    "len(crdc_1516_deYes)"
   ]
  },
  {
   "cell_type": "code",
   "execution_count": 214,
   "metadata": {},
   "outputs": [
    {
     "data": {
      "text/plain": [
       "0.276"
      ]
     },
     "execution_count": 214,
     "metadata": {},
     "output_type": "execute_result"
    }
   ],
   "source": [
    "\"\"\"What portion of schools in that offer DE have grades of 8th or younger?\"\"\"\n",
    "have_gr9_or_younger(crdc_1516_deYes)"
   ]
  },
  {
   "cell_type": "code",
   "execution_count": 33,
   "metadata": {},
   "outputs": [
    {
     "data": {
      "text/plain": [
       "1180054"
      ]
     },
     "metadata": {},
     "output_type": "display_data"
    },
    {
     "data": {
      "text/plain": [
       "1180054"
      ]
     },
     "execution_count": 33,
     "metadata": {},
     "output_type": "execute_result"
    }
   ],
   "source": [
    "de_total_enrollment = crdc_1516_deYes['de_total_enrollment'].sum()\n",
    "display(de_total_enrollment)\n",
    "crdc_1516_cleaned['de_total_enrollment'].sum()"
   ]
  },
  {
   "cell_type": "markdown",
   "metadata": {},
   "source": [
    "** AP **"
   ]
  },
  {
   "cell_type": "code",
   "execution_count": 34,
   "metadata": {},
   "outputs": [],
   "source": [
    "crdc_1516_apYes = crdc_1516_cleaned[crdc_1516_cleaned.SCH_APENR_IND == 'Yes']"
   ]
  },
  {
   "cell_type": "code",
   "execution_count": 212,
   "metadata": {},
   "outputs": [
    {
     "data": {
      "text/plain": [
       "13421"
      ]
     },
     "execution_count": 212,
     "metadata": {},
     "output_type": "execute_result"
    }
   ],
   "source": [
    "len(crdc_1516_apYes)"
   ]
  },
  {
   "cell_type": "code",
   "execution_count": 215,
   "metadata": {},
   "outputs": [
    {
     "data": {
      "text/plain": [
       "0.204"
      ]
     },
     "execution_count": 215,
     "metadata": {},
     "output_type": "execute_result"
    }
   ],
   "source": [
    "\"\"\"What portion of schools in that offer AP have grades of 8th or younger?\"\"\"\n",
    "have_gr9_or_younger(crdc_1516_apYes)"
   ]
  },
  {
   "cell_type": "code",
   "execution_count": 35,
   "metadata": {},
   "outputs": [
    {
     "data": {
      "text/plain": [
       "2808786"
      ]
     },
     "metadata": {},
     "output_type": "display_data"
    },
    {
     "data": {
      "text/plain": [
       "2808786"
      ]
     },
     "execution_count": 35,
     "metadata": {},
     "output_type": "execute_result"
    }
   ],
   "source": [
    "ap_total_enrollment = crdc_1516_apYes['ap_total_enrollment'].sum()\n",
    "display(ap_total_enrollment)\n",
    "crdc_1516_cleaned['ap_total_enrollment'].sum()"
   ]
  },
  {
   "cell_type": "markdown",
   "metadata": {},
   "source": [
    "# <font color = green> Analysis </font>"
   ]
  },
  {
   "cell_type": "markdown",
   "metadata": {},
   "source": [
    "** Total Enrollment in all schools **"
   ]
  },
  {
   "cell_type": "code",
   "execution_count": 36,
   "metadata": {},
   "outputs": [
    {
     "data": {
      "text/plain": [
       "50574476"
      ]
     },
     "execution_count": 36,
     "metadata": {},
     "output_type": "execute_result"
    }
   ],
   "source": [
    "crdc_1516_cleaned['total_enrollment'].sum()"
   ]
  },
  {
   "cell_type": "markdown",
   "metadata": {},
   "source": [
    "**Total Enrollment in DE-offering schools**"
   ]
  },
  {
   "cell_type": "code",
   "execution_count": 37,
   "metadata": {},
   "outputs": [
    {
     "data": {
      "text/plain": [
       "11691182"
      ]
     },
     "execution_count": 37,
     "metadata": {},
     "output_type": "execute_result"
    }
   ],
   "source": [
    "deOffering_total_enrollment = crdc_1516_deYes['total_enrollment'].sum()\n",
    "deOffering_total_enrollment"
   ]
  },
  {
   "cell_type": "markdown",
   "metadata": {},
   "source": [
    "**Total Enrollment in AP-offering schools**"
   ]
  },
  {
   "cell_type": "code",
   "execution_count": 38,
   "metadata": {},
   "outputs": [
    {
     "data": {
      "text/plain": [
       "13840827"
      ]
     },
     "execution_count": 38,
     "metadata": {},
     "output_type": "execute_result"
    }
   ],
   "source": [
    "apOffering_total_enrollment = crdc_1516_apYes['total_enrollment'].sum()\n",
    "apOffering_total_enrollment"
   ]
  },
  {
   "cell_type": "markdown",
   "metadata": {},
   "source": [
    "## By Gender"
   ]
  },
  {
   "cell_type": "markdown",
   "metadata": {},
   "source": [
    "** Total **"
   ]
  },
  {
   "cell_type": "code",
   "execution_count": 39,
   "metadata": {},
   "outputs": [
    {
     "name": "stdout",
     "output_type": "stream",
     "text": [
      "Male: 25995405\n",
      "Female:  24579071\n"
     ]
    }
   ],
   "source": [
    "print('Male:', crdc_1516_cleaned['TOT_ENR_M'].sum())\n",
    "print('Female: ', crdc_1516_cleaned['TOT_ENR_F'].sum())"
   ]
  },
  {
   "cell_type": "markdown",
   "metadata": {},
   "source": [
    "** DE-enrolled **"
   ]
  },
  {
   "cell_type": "code",
   "execution_count": 40,
   "metadata": {},
   "outputs": [
    {
     "name": "stdout",
     "output_type": "stream",
     "text": [
      "Male: 536812  ( 0.455 )\n",
      "Female:  643242  ( 0.545 )\n"
     ]
    }
   ],
   "source": [
    "total_dualEnr_m = crdc_1516_deYes['TOT_DUALENR_M'].sum()\n",
    "total_dualEnr_f = crdc_1516_deYes['TOT_DUALENR_F'].sum()\n",
    "de_pct_m = round(total_dualEnr_m / (de_total_enrollment), 3)\n",
    "de_pct_f = round(total_dualEnr_f / (de_total_enrollment), 3)\n",
    "print('Male:', total_dualEnr_m, ' (', de_pct_m, ')')\n",
    "print('Female: ', total_dualEnr_f, ' (', de_pct_f, ')')"
   ]
  },
  {
   "cell_type": "markdown",
   "metadata": {},
   "source": [
    "** AP-enrolled **"
   ]
  },
  {
   "cell_type": "code",
   "execution_count": 41,
   "metadata": {},
   "outputs": [
    {
     "name": "stdout",
     "output_type": "stream",
     "text": [
      "Male: 1229700  ( 0.438 )\n",
      "Female:  1579086  ( 0.562 )\n"
     ]
    }
   ],
   "source": [
    "total_apEnr_m = crdc_1516_apYes['TOT_APENR_M'].sum()\n",
    "total_apEnr_f = crdc_1516_apYes['TOT_APENR_F'].sum()\n",
    "ap_pct_m = round(total_apEnr_m / (ap_total_enrollment), 3)\n",
    "ap_pct_f = round(total_apEnr_f / (ap_total_enrollment), 3)\n",
    "print('Male:', total_apEnr_m, ' (', ap_pct_m, ')')\n",
    "print('Female: ', total_apEnr_f, ' (', ap_pct_f, ')')"
   ]
  },
  {
   "cell_type": "markdown",
   "metadata": {},
   "source": [
    "**Totals in DE-Offering Schools**"
   ]
  },
  {
   "cell_type": "code",
   "execution_count": 42,
   "metadata": {},
   "outputs": [
    {
     "name": "stdout",
     "output_type": "stream",
     "text": [
      "Male: 5956484  ( 0.509 )\n",
      "Female:  5734698  ( 0.491 )\n"
     ]
    }
   ],
   "source": [
    "total_enr_deOffering_m = crdc_1516_deYes['TOT_ENR_M'].sum()\n",
    "total_enr_deOffering_f = crdc_1516_deYes['TOT_ENR_F'].sum()\n",
    "deOffering_pct_m = round(total_enr_deOffering_m / (deOffering_total_enrollment), 3)\n",
    "deOffering_pct_f = round(total_enr_deOffering_f / (deOffering_total_enrollment), 3)\n",
    "print('Male:', total_enr_deOffering_m, ' (', deOffering_pct_m, ')')\n",
    "print('Female: ', total_enr_deOffering_f, ' (', deOffering_pct_f, ')')"
   ]
  },
  {
   "cell_type": "markdown",
   "metadata": {},
   "source": [
    "**Totals in AP-Offering Schools**"
   ]
  },
  {
   "cell_type": "code",
   "execution_count": 43,
   "metadata": {},
   "outputs": [
    {
     "name": "stdout",
     "output_type": "stream",
     "text": [
      "Male: 7038270  ( 0.509 )\n",
      "Female:  6802557  ( 0.491 )\n"
     ]
    }
   ],
   "source": [
    "total_enr_apOffering_m = crdc_1516_apYes['TOT_ENR_M'].sum()\n",
    "total_enr_apOffering_f = crdc_1516_apYes['TOT_ENR_F'].sum()\n",
    "apOffering_pct_m = round(total_enr_apOffering_m / (apOffering_total_enrollment), 3)\n",
    "apOffering_pct_f = round(total_enr_apOffering_f / (apOffering_total_enrollment), 3)\n",
    "print('Male:', total_enr_apOffering_m, ' (', apOffering_pct_m, ')')\n",
    "print('Female: ', total_enr_apOffering_f, ' (', apOffering_pct_f, ')')"
   ]
  },
  {
   "cell_type": "code",
   "execution_count": 44,
   "metadata": {},
   "outputs": [
    {
     "name": "stdout",
     "output_type": "stream",
     "text": [
      "Females make up 49.1% of the total enrollment of schools that offer AP-courses, but make up 56.2% of the total AP enrollment.\n"
     ]
    }
   ],
   "source": [
    "print('Females make up ' + str(apOffering_pct_f * 100) + '% ' + \n",
    "      'of the total enrollment of schools that offer AP-courses, but make up ' + str(ap_pct_f * 100) + '% ' +\n",
    "      'of the total AP enrollment.')"
   ]
  },
  {
   "cell_type": "markdown",
   "metadata": {},
   "source": [
    "## By Race"
   ]
  },
  {
   "cell_type": "markdown",
   "metadata": {},
   "source": [
    "** DE **"
   ]
  },
  {
   "cell_type": "code",
   "execution_count": 45,
   "metadata": {},
   "outputs": [
    {
     "name": "stdout",
     "output_type": "stream",
     "text": [
      "Hispanic: 199014  ( 0.169 )\n",
      "American Indian/Alaska Native: 11675  ( 0.01 )\n",
      "Asian: 59970  ( 0.051 )\n",
      "Black: 104655  ( 0.089 )\n",
      "Native Hawaiian/Pacific Islander: 4246  ( 0.004 )\n",
      "Two or More Races: 31956  ( 0.027 )\n",
      "White: 768538  ( 0.651 )\n"
     ]
    }
   ],
   "source": [
    "total_dualEnr_hi = crdc_1516_deYes['de_hi_enrollment'].sum()\n",
    "total_dualEnr_am = crdc_1516_deYes['de_am_enrollment'].sum()\n",
    "total_dualEnr_as = crdc_1516_deYes['de_as_enrollment'].sum()\n",
    "total_dualEnr_bl = crdc_1516_deYes['de_bl_enrollment'].sum()\n",
    "total_dualEnr_hp = crdc_1516_deYes['de_hp_enrollment'].sum()\n",
    "total_dualEnr_tr = crdc_1516_deYes['de_tr_enrollment'].sum()\n",
    "total_dualEnr_wh = crdc_1516_deYes['de_white_enrollment'].sum()\n",
    "\n",
    "de_pct_hi = round(total_dualEnr_hi / (de_total_enrollment), 3)\n",
    "de_pct_am = round(total_dualEnr_am / (de_total_enrollment), 3)\n",
    "de_pct_as = round(total_dualEnr_as / (de_total_enrollment), 3)\n",
    "de_pct_bl = round(total_dualEnr_bl / (de_total_enrollment), 3)\n",
    "de_pct_hp = round(total_dualEnr_hp / (de_total_enrollment), 3)\n",
    "de_pct_tr = round(total_dualEnr_tr / (de_total_enrollment), 3)\n",
    "de_pct_wh = round(total_dualEnr_wh / (de_total_enrollment), 3)\n",
    "\n",
    "\n",
    "print('Hispanic:', total_dualEnr_hi, ' (', de_pct_hi, ')')\n",
    "print('American Indian/Alaska Native:', total_dualEnr_am, ' (', de_pct_am, ')')\n",
    "print('Asian:', total_dualEnr_as, ' (', de_pct_as, ')')\n",
    "print('Black:', total_dualEnr_bl, ' (', de_pct_bl, ')')\n",
    "print('Native Hawaiian/Pacific Islander:', total_dualEnr_hp, ' (', de_pct_hp, ')')\n",
    "print('Two or More Races:', total_dualEnr_tr, ' (', de_pct_tr, ')')\n",
    "print('White:', total_dualEnr_wh, ' (', de_pct_wh, ')')\n"
   ]
  },
  {
   "cell_type": "markdown",
   "metadata": {},
   "source": [
    "** AP **"
   ]
  },
  {
   "cell_type": "code",
   "execution_count": 49,
   "metadata": {},
   "outputs": [
    {
     "name": "stdout",
     "output_type": "stream",
     "text": [
      "Hispanic: 600303  ( 0.214 )\n",
      "American Indian/Alaska Native: 17674  ( 0.006 )\n",
      "Asian: 300185  ( 0.107 )\n",
      "Black: 264958  ( 0.094 )\n",
      "Native Hawaiian/Pacific Islanapr: 10056  ( 0.004 )\n",
      "Two or More Races: 81973  ( 0.029 )\n",
      "White: 1533637  ( 0.546 )\n"
     ]
    }
   ],
   "source": [
    "total_apEnr_hi = crdc_1516_apYes['ap_hi_enrollment'].sum()\n",
    "total_apEnr_am = crdc_1516_apYes['ap_am_enrollment'].sum()\n",
    "total_apEnr_as = crdc_1516_apYes['ap_as_enrollment'].sum()\n",
    "total_apEnr_bl = crdc_1516_apYes['ap_bl_enrollment'].sum()\n",
    "total_apEnr_hp = crdc_1516_apYes['ap_hp_enrollment'].sum()\n",
    "total_apEnr_tr = crdc_1516_apYes['ap_tr_enrollment'].sum()\n",
    "total_apEnr_wh = crdc_1516_apYes['ap_white_enrollment'].sum()\n",
    "\n",
    "ap_pct_hi = round(total_apEnr_hi / (ap_total_enrollment), 3)\n",
    "ap_pct_am = round(total_apEnr_am / (ap_total_enrollment), 3)\n",
    "ap_pct_as = round(total_apEnr_as / (ap_total_enrollment), 3)\n",
    "ap_pct_bl = round(total_apEnr_bl / (ap_total_enrollment), 3)\n",
    "ap_pct_hp = round(total_apEnr_hp / (ap_total_enrollment), 3)\n",
    "ap_pct_tr = round(total_apEnr_tr / (ap_total_enrollment), 3)\n",
    "ap_pct_wh = round(total_apEnr_wh / (ap_total_enrollment), 3)\n",
    "\n",
    "\n",
    "print('Hispanic:', total_apEnr_hi, ' (', ap_pct_hi, ')')\n",
    "print('American Indian/Alaska Native:', total_apEnr_am, ' (', ap_pct_am, ')')\n",
    "print('Asian:', total_apEnr_as, ' (', ap_pct_as, ')')\n",
    "print('Black:', total_apEnr_bl, ' (', ap_pct_bl, ')')\n",
    "print('Native Hawaiian/Pacific Islanapr:', total_apEnr_hp, ' (', ap_pct_hp, ')')\n",
    "print('Two or More Races:', total_apEnr_tr, ' (', ap_pct_tr, ')')\n",
    "print('White:', total_apEnr_wh, ' (', ap_pct_wh, ')')\n"
   ]
  },
  {
   "cell_type": "markdown",
   "metadata": {},
   "source": [
    "**Totals in DE-Offering Schools**"
   ]
  },
  {
   "cell_type": "code",
   "execution_count": 46,
   "metadata": {},
   "outputs": [
    {
     "name": "stdout",
     "output_type": "stream",
     "text": [
      "Hispanic: 2460264  ( 0.21 )\n",
      "American Indian/Alaska Native: 125366  ( 0.011 )\n",
      "Asian: 515911  ( 0.044 )\n",
      "Black: 1777223  ( 0.152 )\n",
      "Native Hawaiian/Pacific Islander: 49060  ( 0.004 )\n",
      "Two or More Races: 331681  ( 0.028 )\n",
      "White: 6431677  ( 0.55 )\n"
     ]
    }
   ],
   "source": [
    "total_enr_deOffering_hi = crdc_1516_deYes['total_hi_enrollment'].sum()\n",
    "total_enr_deOffering_am = crdc_1516_deYes['total_am_enrollment'].sum()\n",
    "total_enr_deOffering_as = crdc_1516_deYes['total_as_enrollment'].sum()\n",
    "total_enr_deOffering_bl = crdc_1516_deYes['total_bl_enrollment'].sum()\n",
    "total_enr_deOffering_hp = crdc_1516_deYes['total_hp_enrollment'].sum()\n",
    "total_enr_deOffering_tr = crdc_1516_deYes['total_tr_enrollment'].sum()\n",
    "total_enr_deOffering_wh = crdc_1516_deYes['total_white_enrollment'].sum()\n",
    "\n",
    "deOffering_pct_hi = round(total_enr_deOffering_hi / (deOffering_total_enrollment), 3)\n",
    "deOffering_pct_am = round(total_enr_deOffering_am / (deOffering_total_enrollment), 3)\n",
    "deOffering_pct_as = round(total_enr_deOffering_as / (deOffering_total_enrollment), 3)\n",
    "deOffering_pct_bl = round(total_enr_deOffering_bl / (deOffering_total_enrollment), 3)\n",
    "deOffering_pct_hp = round(total_enr_deOffering_hp / (deOffering_total_enrollment), 3)\n",
    "deOffering_pct_tr = round(total_enr_deOffering_tr / (deOffering_total_enrollment), 3)\n",
    "deOffering_pct_wh = round(total_enr_deOffering_wh / (deOffering_total_enrollment), 3)\n",
    "\n",
    "print('Hispanic:', total_enr_deOffering_hi, ' (', deOffering_pct_hi, ')')\n",
    "print('American Indian/Alaska Native:', total_enr_deOffering_am, ' (', deOffering_pct_am, ')')\n",
    "print('Asian:', total_enr_deOffering_as, ' (', deOffering_pct_as, ')')\n",
    "print('Black:', total_enr_deOffering_bl, ' (', deOffering_pct_bl, ')')\n",
    "print('Native Hawaiian/Pacific Islander:', total_enr_deOffering_hp, ' (', deOffering_pct_hp, ')')\n",
    "print('Two or More Races:', total_enr_deOffering_tr, ' (', deOffering_pct_tr, ')')\n",
    "print('White:', total_enr_deOffering_wh, ' (', deOffering_pct_wh, ')')"
   ]
  },
  {
   "cell_type": "markdown",
   "metadata": {},
   "source": [
    "**Totals in AP-Offering Schools**"
   ]
  },
  {
   "cell_type": "code",
   "execution_count": 50,
   "metadata": {},
   "outputs": [
    {
     "name": "stdout",
     "output_type": "stream",
     "text": [
      "Hispanic: 3367784  ( 0.243 )\n",
      "American Indian/Alaska Native: 123272  ( 0.009 )\n",
      "Asian: 751709  ( 0.054 )\n",
      "Black: 2106157  ( 0.152 )\n",
      "Native Hawaiian/Pacific Islanapr: 59846  ( 0.004 )\n",
      "Two or More Races: 396959  ( 0.029 )\n",
      "White: 7035100  ( 0.508 )\n"
     ]
    }
   ],
   "source": [
    "total_enr_apOffering_hi = crdc_1516_apYes['total_hi_enrollment'].sum()\n",
    "total_enr_apOffering_am = crdc_1516_apYes['total_am_enrollment'].sum()\n",
    "total_enr_apOffering_as = crdc_1516_apYes['total_as_enrollment'].sum()\n",
    "total_enr_apOffering_bl = crdc_1516_apYes['total_bl_enrollment'].sum()\n",
    "total_enr_apOffering_hp = crdc_1516_apYes['total_hp_enrollment'].sum()\n",
    "total_enr_apOffering_tr = crdc_1516_apYes['total_tr_enrollment'].sum()\n",
    "total_enr_apOffering_wh = crdc_1516_apYes['total_white_enrollment'].sum()\n",
    "\n",
    "apOffering_pct_hi = round(total_enr_apOffering_hi / (apOffering_total_enrollment), 3)\n",
    "apOffering_pct_am = round(total_enr_apOffering_am / (apOffering_total_enrollment), 3)\n",
    "apOffering_pct_as = round(total_enr_apOffering_as / (apOffering_total_enrollment), 3)\n",
    "apOffering_pct_bl = round(total_enr_apOffering_bl / (apOffering_total_enrollment), 3)\n",
    "apOffering_pct_hp = round(total_enr_apOffering_hp / (apOffering_total_enrollment), 3)\n",
    "apOffering_pct_tr = round(total_enr_apOffering_tr / (apOffering_total_enrollment), 3)\n",
    "apOffering_pct_wh = round(total_enr_apOffering_wh / (apOffering_total_enrollment), 3)\n",
    "\n",
    "print('Hispanic:', total_enr_apOffering_hi, ' (', apOffering_pct_hi, ')')\n",
    "print('American Indian/Alaska Native:', total_enr_apOffering_am, ' (', apOffering_pct_am, ')')\n",
    "print('Asian:', total_enr_apOffering_as, ' (', apOffering_pct_as, ')')\n",
    "print('Black:', total_enr_apOffering_bl, ' (', apOffering_pct_bl, ')')\n",
    "print('Native Hawaiian/Pacific Islanapr:', total_enr_apOffering_hp, ' (', apOffering_pct_hp, ')')\n",
    "print('Two or More Races:', total_enr_apOffering_tr, ' (', apOffering_pct_tr, ')')\n",
    "print('White:', total_enr_apOffering_wh, ' (', apOffering_pct_wh, ')')"
   ]
  },
  {
   "cell_type": "markdown",
   "metadata": {},
   "source": [
    "## By State"
   ]
  },
  {
   "cell_type": "markdown",
   "metadata": {},
   "source": [
    "** DE **"
   ]
  },
  {
   "cell_type": "code",
   "execution_count": 66,
   "metadata": {},
   "outputs": [],
   "source": [
    "deOffering_state_total = crdc_1516_deYes.groupby('LEA_STATE')['total_enrollment'].sum().reset_index()\n",
    "de_state_enrollment = crdc_1516_deYes.groupby('LEA_STATE')['de_total_enrollment'].sum().reset_index()\n",
    "de_state = de_state_enrollment.merge(deOffering_state_total, how = 'inner', on = 'LEA_STATE')"
   ]
  },
  {
   "cell_type": "code",
   "execution_count": 67,
   "metadata": {},
   "outputs": [
    {
     "data": {
      "text/html": [
       "<div>\n",
       "<style scoped>\n",
       "    .dataframe tbody tr th:only-of-type {\n",
       "        vertical-align: middle;\n",
       "    }\n",
       "\n",
       "    .dataframe tbody tr th {\n",
       "        vertical-align: top;\n",
       "    }\n",
       "\n",
       "    .dataframe thead th {\n",
       "        text-align: right;\n",
       "    }\n",
       "</style>\n",
       "<table border=\"1\" class=\"dataframe\">\n",
       "  <thead>\n",
       "    <tr style=\"text-align: right;\">\n",
       "      <th></th>\n",
       "      <th>LEA_STATE</th>\n",
       "      <th>de_total_enrollment</th>\n",
       "      <th>total_enrollment</th>\n",
       "      <th>de_pct_enrolled</th>\n",
       "    </tr>\n",
       "  </thead>\n",
       "  <tbody>\n",
       "    <tr>\n",
       "      <th>0</th>\n",
       "      <td>IN</td>\n",
       "      <td>70807</td>\n",
       "      <td>299366</td>\n",
       "      <td>0.237</td>\n",
       "    </tr>\n",
       "    <tr>\n",
       "      <th>1</th>\n",
       "      <td>WA</td>\n",
       "      <td>56171</td>\n",
       "      <td>252466</td>\n",
       "      <td>0.222</td>\n",
       "    </tr>\n",
       "    <tr>\n",
       "      <th>2</th>\n",
       "      <td>IA</td>\n",
       "      <td>31517</td>\n",
       "      <td>155635</td>\n",
       "      <td>0.203</td>\n",
       "    </tr>\n",
       "    <tr>\n",
       "      <th>3</th>\n",
       "      <td>WI</td>\n",
       "      <td>45968</td>\n",
       "      <td>230186</td>\n",
       "      <td>0.200</td>\n",
       "    </tr>\n",
       "    <tr>\n",
       "      <th>4</th>\n",
       "      <td>WY</td>\n",
       "      <td>4863</td>\n",
       "      <td>24565</td>\n",
       "      <td>0.198</td>\n",
       "    </tr>\n",
       "    <tr>\n",
       "      <th>5</th>\n",
       "      <td>KS</td>\n",
       "      <td>24423</td>\n",
       "      <td>128212</td>\n",
       "      <td>0.190</td>\n",
       "    </tr>\n",
       "    <tr>\n",
       "      <th>6</th>\n",
       "      <td>ID</td>\n",
       "      <td>16486</td>\n",
       "      <td>89312</td>\n",
       "      <td>0.185</td>\n",
       "    </tr>\n",
       "    <tr>\n",
       "      <th>7</th>\n",
       "      <td>OR</td>\n",
       "      <td>27049</td>\n",
       "      <td>147728</td>\n",
       "      <td>0.183</td>\n",
       "    </tr>\n",
       "    <tr>\n",
       "      <th>8</th>\n",
       "      <td>NY</td>\n",
       "      <td>80188</td>\n",
       "      <td>480307</td>\n",
       "      <td>0.167</td>\n",
       "    </tr>\n",
       "    <tr>\n",
       "      <th>9</th>\n",
       "      <td>UT</td>\n",
       "      <td>23198</td>\n",
       "      <td>142938</td>\n",
       "      <td>0.162</td>\n",
       "    </tr>\n",
       "    <tr>\n",
       "      <th>10</th>\n",
       "      <td>MO</td>\n",
       "      <td>38623</td>\n",
       "      <td>251695</td>\n",
       "      <td>0.153</td>\n",
       "    </tr>\n",
       "    <tr>\n",
       "      <th>11</th>\n",
       "      <td>NE</td>\n",
       "      <td>13019</td>\n",
       "      <td>92250</td>\n",
       "      <td>0.141</td>\n",
       "    </tr>\n",
       "    <tr>\n",
       "      <th>12</th>\n",
       "      <td>NM</td>\n",
       "      <td>11927</td>\n",
       "      <td>84916</td>\n",
       "      <td>0.140</td>\n",
       "    </tr>\n",
       "    <tr>\n",
       "      <th>13</th>\n",
       "      <td>AZ</td>\n",
       "      <td>31460</td>\n",
       "      <td>227141</td>\n",
       "      <td>0.139</td>\n",
       "    </tr>\n",
       "    <tr>\n",
       "      <th>14</th>\n",
       "      <td>CT</td>\n",
       "      <td>15329</td>\n",
       "      <td>110903</td>\n",
       "      <td>0.138</td>\n",
       "    </tr>\n",
       "    <tr>\n",
       "      <th>15</th>\n",
       "      <td>ND</td>\n",
       "      <td>4317</td>\n",
       "      <td>32498</td>\n",
       "      <td>0.133</td>\n",
       "    </tr>\n",
       "    <tr>\n",
       "      <th>16</th>\n",
       "      <td>NJ</td>\n",
       "      <td>35409</td>\n",
       "      <td>281036</td>\n",
       "      <td>0.126</td>\n",
       "    </tr>\n",
       "    <tr>\n",
       "      <th>17</th>\n",
       "      <td>AR</td>\n",
       "      <td>13636</td>\n",
       "      <td>109572</td>\n",
       "      <td>0.124</td>\n",
       "    </tr>\n",
       "    <tr>\n",
       "      <th>18</th>\n",
       "      <td>MN</td>\n",
       "      <td>25123</td>\n",
       "      <td>209231</td>\n",
       "      <td>0.120</td>\n",
       "    </tr>\n",
       "    <tr>\n",
       "      <th>19</th>\n",
       "      <td>KY</td>\n",
       "      <td>18167</td>\n",
       "      <td>173020</td>\n",
       "      <td>0.105</td>\n",
       "    </tr>\n",
       "    <tr>\n",
       "      <th>20</th>\n",
       "      <td>OH</td>\n",
       "      <td>50420</td>\n",
       "      <td>491559</td>\n",
       "      <td>0.103</td>\n",
       "    </tr>\n",
       "    <tr>\n",
       "      <th>21</th>\n",
       "      <td>IL</td>\n",
       "      <td>50567</td>\n",
       "      <td>509515</td>\n",
       "      <td>0.099</td>\n",
       "    </tr>\n",
       "    <tr>\n",
       "      <th>22</th>\n",
       "      <td>TX</td>\n",
       "      <td>133439</td>\n",
       "      <td>1377392</td>\n",
       "      <td>0.097</td>\n",
       "    </tr>\n",
       "    <tr>\n",
       "      <th>23</th>\n",
       "      <td>VA</td>\n",
       "      <td>32212</td>\n",
       "      <td>337469</td>\n",
       "      <td>0.095</td>\n",
       "    </tr>\n",
       "    <tr>\n",
       "      <th>24</th>\n",
       "      <td>NH</td>\n",
       "      <td>3208</td>\n",
       "      <td>35433</td>\n",
       "      <td>0.091</td>\n",
       "    </tr>\n",
       "    <tr>\n",
       "      <th>25</th>\n",
       "      <td>SD</td>\n",
       "      <td>3248</td>\n",
       "      <td>35949</td>\n",
       "      <td>0.090</td>\n",
       "    </tr>\n",
       "    <tr>\n",
       "      <th>26</th>\n",
       "      <td>NC</td>\n",
       "      <td>30014</td>\n",
       "      <td>342264</td>\n",
       "      <td>0.088</td>\n",
       "    </tr>\n",
       "    <tr>\n",
       "      <th>27</th>\n",
       "      <td>MT</td>\n",
       "      <td>2950</td>\n",
       "      <td>35071</td>\n",
       "      <td>0.084</td>\n",
       "    </tr>\n",
       "    <tr>\n",
       "      <th>28</th>\n",
       "      <td>LA</td>\n",
       "      <td>17843</td>\n",
       "      <td>211901</td>\n",
       "      <td>0.084</td>\n",
       "    </tr>\n",
       "    <tr>\n",
       "      <th>29</th>\n",
       "      <td>TN</td>\n",
       "      <td>21261</td>\n",
       "      <td>271153</td>\n",
       "      <td>0.078</td>\n",
       "    </tr>\n",
       "    <tr>\n",
       "      <th>30</th>\n",
       "      <td>CO</td>\n",
       "      <td>19233</td>\n",
       "      <td>247686</td>\n",
       "      <td>0.078</td>\n",
       "    </tr>\n",
       "    <tr>\n",
       "      <th>31</th>\n",
       "      <td>WV</td>\n",
       "      <td>4704</td>\n",
       "      <td>66933</td>\n",
       "      <td>0.070</td>\n",
       "    </tr>\n",
       "    <tr>\n",
       "      <th>32</th>\n",
       "      <td>PA</td>\n",
       "      <td>25327</td>\n",
       "      <td>364971</td>\n",
       "      <td>0.069</td>\n",
       "    </tr>\n",
       "    <tr>\n",
       "      <th>33</th>\n",
       "      <td>VT</td>\n",
       "      <td>1845</td>\n",
       "      <td>26770</td>\n",
       "      <td>0.069</td>\n",
       "    </tr>\n",
       "    <tr>\n",
       "      <th>34</th>\n",
       "      <td>FL</td>\n",
       "      <td>55254</td>\n",
       "      <td>805188</td>\n",
       "      <td>0.069</td>\n",
       "    </tr>\n",
       "    <tr>\n",
       "      <th>35</th>\n",
       "      <td>AK</td>\n",
       "      <td>2120</td>\n",
       "      <td>31092</td>\n",
       "      <td>0.068</td>\n",
       "    </tr>\n",
       "    <tr>\n",
       "      <th>36</th>\n",
       "      <td>MS</td>\n",
       "      <td>9341</td>\n",
       "      <td>136422</td>\n",
       "      <td>0.068</td>\n",
       "    </tr>\n",
       "    <tr>\n",
       "      <th>37</th>\n",
       "      <td>RI</td>\n",
       "      <td>1466</td>\n",
       "      <td>22303</td>\n",
       "      <td>0.066</td>\n",
       "    </tr>\n",
       "    <tr>\n",
       "      <th>38</th>\n",
       "      <td>SC</td>\n",
       "      <td>13538</td>\n",
       "      <td>219318</td>\n",
       "      <td>0.062</td>\n",
       "    </tr>\n",
       "    <tr>\n",
       "      <th>39</th>\n",
       "      <td>ME</td>\n",
       "      <td>2229</td>\n",
       "      <td>36521</td>\n",
       "      <td>0.061</td>\n",
       "    </tr>\n",
       "    <tr>\n",
       "      <th>40</th>\n",
       "      <td>DE</td>\n",
       "      <td>1820</td>\n",
       "      <td>30821</td>\n",
       "      <td>0.059</td>\n",
       "    </tr>\n",
       "    <tr>\n",
       "      <th>41</th>\n",
       "      <td>OK</td>\n",
       "      <td>8064</td>\n",
       "      <td>147261</td>\n",
       "      <td>0.055</td>\n",
       "    </tr>\n",
       "    <tr>\n",
       "      <th>42</th>\n",
       "      <td>NV</td>\n",
       "      <td>2392</td>\n",
       "      <td>49177</td>\n",
       "      <td>0.049</td>\n",
       "    </tr>\n",
       "    <tr>\n",
       "      <th>43</th>\n",
       "      <td>AL</td>\n",
       "      <td>11002</td>\n",
       "      <td>230650</td>\n",
       "      <td>0.048</td>\n",
       "    </tr>\n",
       "    <tr>\n",
       "      <th>44</th>\n",
       "      <td>MI</td>\n",
       "      <td>21284</td>\n",
       "      <td>446543</td>\n",
       "      <td>0.048</td>\n",
       "    </tr>\n",
       "    <tr>\n",
       "      <th>45</th>\n",
       "      <td>HI</td>\n",
       "      <td>2749</td>\n",
       "      <td>57134</td>\n",
       "      <td>0.048</td>\n",
       "    </tr>\n",
       "    <tr>\n",
       "      <th>46</th>\n",
       "      <td>CA</td>\n",
       "      <td>34746</td>\n",
       "      <td>719408</td>\n",
       "      <td>0.048</td>\n",
       "    </tr>\n",
       "    <tr>\n",
       "      <th>47</th>\n",
       "      <td>GA</td>\n",
       "      <td>20348</td>\n",
       "      <td>502845</td>\n",
       "      <td>0.040</td>\n",
       "    </tr>\n",
       "    <tr>\n",
       "      <th>48</th>\n",
       "      <td>MD</td>\n",
       "      <td>6554</td>\n",
       "      <td>232390</td>\n",
       "      <td>0.028</td>\n",
       "    </tr>\n",
       "    <tr>\n",
       "      <th>49</th>\n",
       "      <td>DC</td>\n",
       "      <td>71</td>\n",
       "      <td>3123</td>\n",
       "      <td>0.023</td>\n",
       "    </tr>\n",
       "    <tr>\n",
       "      <th>50</th>\n",
       "      <td>MA</td>\n",
       "      <td>3125</td>\n",
       "      <td>143943</td>\n",
       "      <td>0.022</td>\n",
       "    </tr>\n",
       "  </tbody>\n",
       "</table>\n",
       "</div>"
      ],
      "text/plain": [
       "   LEA_STATE  de_total_enrollment  total_enrollment  de_pct_enrolled\n",
       "0         IN                70807            299366            0.237\n",
       "1         WA                56171            252466            0.222\n",
       "2         IA                31517            155635            0.203\n",
       "3         WI                45968            230186            0.200\n",
       "4         WY                 4863             24565            0.198\n",
       "5         KS                24423            128212            0.190\n",
       "6         ID                16486             89312            0.185\n",
       "7         OR                27049            147728            0.183\n",
       "8         NY                80188            480307            0.167\n",
       "9         UT                23198            142938            0.162\n",
       "10        MO                38623            251695            0.153\n",
       "11        NE                13019             92250            0.141\n",
       "12        NM                11927             84916            0.140\n",
       "13        AZ                31460            227141            0.139\n",
       "14        CT                15329            110903            0.138\n",
       "15        ND                 4317             32498            0.133\n",
       "16        NJ                35409            281036            0.126\n",
       "17        AR                13636            109572            0.124\n",
       "18        MN                25123            209231            0.120\n",
       "19        KY                18167            173020            0.105\n",
       "20        OH                50420            491559            0.103\n",
       "21        IL                50567            509515            0.099\n",
       "22        TX               133439           1377392            0.097\n",
       "23        VA                32212            337469            0.095\n",
       "24        NH                 3208             35433            0.091\n",
       "25        SD                 3248             35949            0.090\n",
       "26        NC                30014            342264            0.088\n",
       "27        MT                 2950             35071            0.084\n",
       "28        LA                17843            211901            0.084\n",
       "29        TN                21261            271153            0.078\n",
       "30        CO                19233            247686            0.078\n",
       "31        WV                 4704             66933            0.070\n",
       "32        PA                25327            364971            0.069\n",
       "33        VT                 1845             26770            0.069\n",
       "34        FL                55254            805188            0.069\n",
       "35        AK                 2120             31092            0.068\n",
       "36        MS                 9341            136422            0.068\n",
       "37        RI                 1466             22303            0.066\n",
       "38        SC                13538            219318            0.062\n",
       "39        ME                 2229             36521            0.061\n",
       "40        DE                 1820             30821            0.059\n",
       "41        OK                 8064            147261            0.055\n",
       "42        NV                 2392             49177            0.049\n",
       "43        AL                11002            230650            0.048\n",
       "44        MI                21284            446543            0.048\n",
       "45        HI                 2749             57134            0.048\n",
       "46        CA                34746            719408            0.048\n",
       "47        GA                20348            502845            0.040\n",
       "48        MD                 6554            232390            0.028\n",
       "49        DC                   71              3123            0.023\n",
       "50        MA                 3125            143943            0.022"
      ]
     },
     "execution_count": 67,
     "metadata": {},
     "output_type": "execute_result"
    }
   ],
   "source": [
    "de_state['de_pct_enrolled'] = round(de_state['de_total_enrollment'] / de_state['total_enrollment'], 3)\n",
    "de_state.sort_values('de_pct_enrolled', ascending = False).reset_index().drop('index', axis = 1)"
   ]
  },
  {
   "cell_type": "code",
   "execution_count": 81,
   "metadata": {},
   "outputs": [],
   "source": [
    "de_data = dict(type = 'choropleth',\n",
    "            locations = de_state['LEA_STATE'],\n",
    "            locationmode = 'USA-states',\n",
    "            z = de_state['de_pct_enrolled'])\n",
    "\n",
    "de_layout = dict(title = 'Percentage of Total Enrollment in DE',\n",
    "    geo = {'scope':'usa'})\n",
    "\n",
    "de_choromap = go.Figure(data = [de_data], layout = de_layout)"
   ]
  },
  {
   "cell_type": "code",
   "execution_count": 82,
   "metadata": {},
   "outputs": [
    {
     "data": {
      "application/vnd.plotly.v1+json": {
       "data": [
        {
         "locationmode": "USA-states",
         "locations": [
          "AK",
          "AL",
          "AR",
          "AZ",
          "CA",
          "CO",
          "CT",
          "DC",
          "DE",
          "FL",
          "GA",
          "HI",
          "IA",
          "ID",
          "IL",
          "IN",
          "KS",
          "KY",
          "LA",
          "MA",
          "MD",
          "ME",
          "MI",
          "MN",
          "MO",
          "MS",
          "MT",
          "NC",
          "ND",
          "NE",
          "NH",
          "NJ",
          "NM",
          "NV",
          "NY",
          "OH",
          "OK",
          "OR",
          "PA",
          "RI",
          "SC",
          "SD",
          "TN",
          "TX",
          "UT",
          "VA",
          "VT",
          "WA",
          "WI",
          "WV",
          "WY"
         ],
         "type": "choropleth",
         "z": [
          0.068,
          0.048,
          0.124,
          0.139,
          0.048,
          0.078,
          0.138,
          0.023,
          0.059,
          0.069,
          0.04,
          0.048,
          0.203,
          0.185,
          0.099,
          0.237,
          0.19,
          0.105,
          0.084,
          0.022,
          0.028,
          0.061,
          0.048,
          0.12,
          0.153,
          0.068,
          0.084,
          0.088,
          0.133,
          0.141,
          0.091,
          0.126,
          0.14,
          0.049,
          0.167,
          0.103,
          0.055,
          0.183,
          0.069,
          0.066,
          0.062,
          0.09,
          0.078,
          0.097,
          0.162,
          0.095,
          0.069,
          0.222,
          0.2,
          0.07,
          0.198
         ]
        }
       ],
       "layout": {
        "geo": {
         "scope": "usa"
        },
        "title": "Percentage of Total Enrollment in DE"
       }
      },
      "text/html": [
       "<div id=\"5616b48f-196b-4511-ac85-8c6929ef54f2\" style=\"height: 525px; width: 100%;\" class=\"plotly-graph-div\"></div><script type=\"text/javascript\">require([\"plotly\"], function(Plotly) { window.PLOTLYENV=window.PLOTLYENV || {};window.PLOTLYENV.BASE_URL=\"https://plot.ly\";Plotly.newPlot(\"5616b48f-196b-4511-ac85-8c6929ef54f2\", [{\"type\": \"choropleth\", \"locations\": [\"AK\", \"AL\", \"AR\", \"AZ\", \"CA\", \"CO\", \"CT\", \"DC\", \"DE\", \"FL\", \"GA\", \"HI\", \"IA\", \"ID\", \"IL\", \"IN\", \"KS\", \"KY\", \"LA\", \"MA\", \"MD\", \"ME\", \"MI\", \"MN\", \"MO\", \"MS\", \"MT\", \"NC\", \"ND\", \"NE\", \"NH\", \"NJ\", \"NM\", \"NV\", \"NY\", \"OH\", \"OK\", \"OR\", \"PA\", \"RI\", \"SC\", \"SD\", \"TN\", \"TX\", \"UT\", \"VA\", \"VT\", \"WA\", \"WI\", \"WV\", \"WY\"], \"locationmode\": \"USA-states\", \"z\": [0.068, 0.048, 0.124, 0.139, 0.048, 0.078, 0.138, 0.023, 0.059, 0.069, 0.04, 0.048, 0.203, 0.185, 0.099, 0.237, 0.19, 0.105, 0.084, 0.022, 0.028, 0.061, 0.048, 0.12, 0.153, 0.068, 0.084, 0.088, 0.133, 0.141, 0.091, 0.126, 0.14, 0.049, 0.167, 0.103, 0.055, 0.183, 0.069, 0.066, 0.062, 0.09, 0.078, 0.097, 0.162, 0.095, 0.069, 0.222, 0.2, 0.07, 0.198]}], {\"title\": \"Percentage of Total Enrollment in DE\", \"geo\": {\"scope\": \"usa\"}}, {\"showLink\": true, \"linkText\": \"Export to plot.ly\"})});</script>"
      ],
      "text/vnd.plotly.v1+html": [
       "<div id=\"5616b48f-196b-4511-ac85-8c6929ef54f2\" style=\"height: 525px; width: 100%;\" class=\"plotly-graph-div\"></div><script type=\"text/javascript\">require([\"plotly\"], function(Plotly) { window.PLOTLYENV=window.PLOTLYENV || {};window.PLOTLYENV.BASE_URL=\"https://plot.ly\";Plotly.newPlot(\"5616b48f-196b-4511-ac85-8c6929ef54f2\", [{\"type\": \"choropleth\", \"locations\": [\"AK\", \"AL\", \"AR\", \"AZ\", \"CA\", \"CO\", \"CT\", \"DC\", \"DE\", \"FL\", \"GA\", \"HI\", \"IA\", \"ID\", \"IL\", \"IN\", \"KS\", \"KY\", \"LA\", \"MA\", \"MD\", \"ME\", \"MI\", \"MN\", \"MO\", \"MS\", \"MT\", \"NC\", \"ND\", \"NE\", \"NH\", \"NJ\", \"NM\", \"NV\", \"NY\", \"OH\", \"OK\", \"OR\", \"PA\", \"RI\", \"SC\", \"SD\", \"TN\", \"TX\", \"UT\", \"VA\", \"VT\", \"WA\", \"WI\", \"WV\", \"WY\"], \"locationmode\": \"USA-states\", \"z\": [0.068, 0.048, 0.124, 0.139, 0.048, 0.078, 0.138, 0.023, 0.059, 0.069, 0.04, 0.048, 0.203, 0.185, 0.099, 0.237, 0.19, 0.105, 0.084, 0.022, 0.028, 0.061, 0.048, 0.12, 0.153, 0.068, 0.084, 0.088, 0.133, 0.141, 0.091, 0.126, 0.14, 0.049, 0.167, 0.103, 0.055, 0.183, 0.069, 0.066, 0.062, 0.09, 0.078, 0.097, 0.162, 0.095, 0.069, 0.222, 0.2, 0.07, 0.198]}], {\"title\": \"Percentage of Total Enrollment in DE\", \"geo\": {\"scope\": \"usa\"}}, {\"showLink\": true, \"linkText\": \"Export to plot.ly\"})});</script>"
      ]
     },
     "metadata": {},
     "output_type": "display_data"
    }
   ],
   "source": [
    "iplot(de_choromap)\n",
    "# iplot(de_choromap, image = 'png', filename='./Visualizations/by_state_de_choropleth')"
   ]
  },
  {
   "cell_type": "markdown",
   "metadata": {},
   "source": [
    "** AP **"
   ]
  },
  {
   "cell_type": "code",
   "execution_count": 68,
   "metadata": {},
   "outputs": [],
   "source": [
    "apOffering_state_total = crdc_1516_apYes.groupby('LEA_STATE')['total_enrollment'].sum().reset_index()\n",
    "ap_state_enrollment = crdc_1516_apYes.groupby('LEA_STATE')['ap_total_enrollment'].sum().reset_index()\n",
    "ap_state = ap_state_enrollment.merge(apOffering_state_total, how = 'inner', on = 'LEA_STATE')"
   ]
  },
  {
   "cell_type": "code",
   "execution_count": 70,
   "metadata": {},
   "outputs": [
    {
     "data": {
      "text/html": [
       "<div>\n",
       "<style scoped>\n",
       "    .dataframe tbody tr th:only-of-type {\n",
       "        vertical-align: middle;\n",
       "    }\n",
       "\n",
       "    .dataframe tbody tr th {\n",
       "        vertical-align: top;\n",
       "    }\n",
       "\n",
       "    .dataframe thead th {\n",
       "        text-align: right;\n",
       "    }\n",
       "</style>\n",
       "<table border=\"1\" class=\"dataframe\">\n",
       "  <thead>\n",
       "    <tr style=\"text-align: right;\">\n",
       "      <th></th>\n",
       "      <th>LEA_STATE</th>\n",
       "      <th>ap_total_enrollment</th>\n",
       "      <th>total_enrollment</th>\n",
       "      <th>ap_pct_enrolled</th>\n",
       "    </tr>\n",
       "  </thead>\n",
       "  <tbody>\n",
       "    <tr>\n",
       "      <th>0</th>\n",
       "      <td>MD</td>\n",
       "      <td>71123</td>\n",
       "      <td>249564</td>\n",
       "      <td>0.285</td>\n",
       "    </tr>\n",
       "    <tr>\n",
       "      <th>1</th>\n",
       "      <td>DC</td>\n",
       "      <td>4183</td>\n",
       "      <td>16767</td>\n",
       "      <td>0.249</td>\n",
       "    </tr>\n",
       "    <tr>\n",
       "      <th>2</th>\n",
       "      <td>TX</td>\n",
       "      <td>349188</td>\n",
       "      <td>1418672</td>\n",
       "      <td>0.246</td>\n",
       "    </tr>\n",
       "    <tr>\n",
       "      <th>3</th>\n",
       "      <td>FL</td>\n",
       "      <td>195563</td>\n",
       "      <td>802627</td>\n",
       "      <td>0.244</td>\n",
       "    </tr>\n",
       "    <tr>\n",
       "      <th>4</th>\n",
       "      <td>CA</td>\n",
       "      <td>425288</td>\n",
       "      <td>1808848</td>\n",
       "      <td>0.235</td>\n",
       "    </tr>\n",
       "    <tr>\n",
       "      <th>5</th>\n",
       "      <td>VA</td>\n",
       "      <td>88948</td>\n",
       "      <td>379640</td>\n",
       "      <td>0.234</td>\n",
       "    </tr>\n",
       "    <tr>\n",
       "      <th>6</th>\n",
       "      <td>KY</td>\n",
       "      <td>44659</td>\n",
       "      <td>191543</td>\n",
       "      <td>0.233</td>\n",
       "    </tr>\n",
       "    <tr>\n",
       "      <th>7</th>\n",
       "      <td>MN</td>\n",
       "      <td>46681</td>\n",
       "      <td>203082</td>\n",
       "      <td>0.230</td>\n",
       "    </tr>\n",
       "    <tr>\n",
       "      <th>8</th>\n",
       "      <td>GA</td>\n",
       "      <td>115363</td>\n",
       "      <td>509999</td>\n",
       "      <td>0.226</td>\n",
       "    </tr>\n",
       "    <tr>\n",
       "      <th>9</th>\n",
       "      <td>IL</td>\n",
       "      <td>125295</td>\n",
       "      <td>561617</td>\n",
       "      <td>0.223</td>\n",
       "    </tr>\n",
       "    <tr>\n",
       "      <th>10</th>\n",
       "      <td>WA</td>\n",
       "      <td>63940</td>\n",
       "      <td>286527</td>\n",
       "      <td>0.223</td>\n",
       "    </tr>\n",
       "    <tr>\n",
       "      <th>11</th>\n",
       "      <td>CO</td>\n",
       "      <td>53962</td>\n",
       "      <td>243486</td>\n",
       "      <td>0.222</td>\n",
       "    </tr>\n",
       "    <tr>\n",
       "      <th>12</th>\n",
       "      <td>NM</td>\n",
       "      <td>18189</td>\n",
       "      <td>82712</td>\n",
       "      <td>0.220</td>\n",
       "    </tr>\n",
       "    <tr>\n",
       "      <th>13</th>\n",
       "      <td>WI</td>\n",
       "      <td>55283</td>\n",
       "      <td>252751</td>\n",
       "      <td>0.219</td>\n",
       "    </tr>\n",
       "    <tr>\n",
       "      <th>14</th>\n",
       "      <td>AR</td>\n",
       "      <td>30370</td>\n",
       "      <td>140973</td>\n",
       "      <td>0.215</td>\n",
       "    </tr>\n",
       "    <tr>\n",
       "      <th>15</th>\n",
       "      <td>CT</td>\n",
       "      <td>33033</td>\n",
       "      <td>156361</td>\n",
       "      <td>0.211</td>\n",
       "    </tr>\n",
       "    <tr>\n",
       "      <th>16</th>\n",
       "      <td>NE</td>\n",
       "      <td>12967</td>\n",
       "      <td>65624</td>\n",
       "      <td>0.198</td>\n",
       "    </tr>\n",
       "    <tr>\n",
       "      <th>17</th>\n",
       "      <td>MA</td>\n",
       "      <td>55368</td>\n",
       "      <td>283118</td>\n",
       "      <td>0.196</td>\n",
       "    </tr>\n",
       "    <tr>\n",
       "      <th>18</th>\n",
       "      <td>NY</td>\n",
       "      <td>151912</td>\n",
       "      <td>791183</td>\n",
       "      <td>0.192</td>\n",
       "    </tr>\n",
       "    <tr>\n",
       "      <th>19</th>\n",
       "      <td>OR</td>\n",
       "      <td>26958</td>\n",
       "      <td>141309</td>\n",
       "      <td>0.191</td>\n",
       "    </tr>\n",
       "    <tr>\n",
       "      <th>20</th>\n",
       "      <td>NJ</td>\n",
       "      <td>76843</td>\n",
       "      <td>407956</td>\n",
       "      <td>0.188</td>\n",
       "    </tr>\n",
       "    <tr>\n",
       "      <th>21</th>\n",
       "      <td>MI</td>\n",
       "      <td>75995</td>\n",
       "      <td>418118</td>\n",
       "      <td>0.182</td>\n",
       "    </tr>\n",
       "    <tr>\n",
       "      <th>22</th>\n",
       "      <td>KS</td>\n",
       "      <td>17490</td>\n",
       "      <td>98447</td>\n",
       "      <td>0.178</td>\n",
       "    </tr>\n",
       "    <tr>\n",
       "      <th>23</th>\n",
       "      <td>DE</td>\n",
       "      <td>6595</td>\n",
       "      <td>37292</td>\n",
       "      <td>0.177</td>\n",
       "    </tr>\n",
       "    <tr>\n",
       "      <th>24</th>\n",
       "      <td>IN</td>\n",
       "      <td>54131</td>\n",
       "      <td>309486</td>\n",
       "      <td>0.175</td>\n",
       "    </tr>\n",
       "    <tr>\n",
       "      <th>25</th>\n",
       "      <td>AZ</td>\n",
       "      <td>51166</td>\n",
       "      <td>292471</td>\n",
       "      <td>0.175</td>\n",
       "    </tr>\n",
       "    <tr>\n",
       "      <th>26</th>\n",
       "      <td>OK</td>\n",
       "      <td>27028</td>\n",
       "      <td>154941</td>\n",
       "      <td>0.174</td>\n",
       "    </tr>\n",
       "    <tr>\n",
       "      <th>27</th>\n",
       "      <td>ID</td>\n",
       "      <td>10815</td>\n",
       "      <td>62159</td>\n",
       "      <td>0.174</td>\n",
       "    </tr>\n",
       "    <tr>\n",
       "      <th>28</th>\n",
       "      <td>UT</td>\n",
       "      <td>35975</td>\n",
       "      <td>211246</td>\n",
       "      <td>0.170</td>\n",
       "    </tr>\n",
       "    <tr>\n",
       "      <th>29</th>\n",
       "      <td>NV</td>\n",
       "      <td>24168</td>\n",
       "      <td>142938</td>\n",
       "      <td>0.169</td>\n",
       "    </tr>\n",
       "    <tr>\n",
       "      <th>30</th>\n",
       "      <td>MO</td>\n",
       "      <td>33289</td>\n",
       "      <td>198090</td>\n",
       "      <td>0.168</td>\n",
       "    </tr>\n",
       "    <tr>\n",
       "      <th>31</th>\n",
       "      <td>NC</td>\n",
       "      <td>74215</td>\n",
       "      <td>452340</td>\n",
       "      <td>0.164</td>\n",
       "    </tr>\n",
       "    <tr>\n",
       "      <th>32</th>\n",
       "      <td>ME</td>\n",
       "      <td>8428</td>\n",
       "      <td>51602</td>\n",
       "      <td>0.163</td>\n",
       "    </tr>\n",
       "    <tr>\n",
       "      <th>33</th>\n",
       "      <td>AL</td>\n",
       "      <td>31166</td>\n",
       "      <td>197786</td>\n",
       "      <td>0.158</td>\n",
       "    </tr>\n",
       "    <tr>\n",
       "      <th>34</th>\n",
       "      <td>PA</td>\n",
       "      <td>84786</td>\n",
       "      <td>552395</td>\n",
       "      <td>0.153</td>\n",
       "    </tr>\n",
       "    <tr>\n",
       "      <th>35</th>\n",
       "      <td>RI</td>\n",
       "      <td>5885</td>\n",
       "      <td>39413</td>\n",
       "      <td>0.149</td>\n",
       "    </tr>\n",
       "    <tr>\n",
       "      <th>36</th>\n",
       "      <td>TN</td>\n",
       "      <td>33972</td>\n",
       "      <td>230038</td>\n",
       "      <td>0.148</td>\n",
       "    </tr>\n",
       "    <tr>\n",
       "      <th>37</th>\n",
       "      <td>VT</td>\n",
       "      <td>3816</td>\n",
       "      <td>25989</td>\n",
       "      <td>0.147</td>\n",
       "    </tr>\n",
       "    <tr>\n",
       "      <th>38</th>\n",
       "      <td>WY</td>\n",
       "      <td>2743</td>\n",
       "      <td>18787</td>\n",
       "      <td>0.146</td>\n",
       "    </tr>\n",
       "    <tr>\n",
       "      <th>39</th>\n",
       "      <td>MT</td>\n",
       "      <td>4671</td>\n",
       "      <td>32953</td>\n",
       "      <td>0.142</td>\n",
       "    </tr>\n",
       "    <tr>\n",
       "      <th>40</th>\n",
       "      <td>IA</td>\n",
       "      <td>15580</td>\n",
       "      <td>109813</td>\n",
       "      <td>0.142</td>\n",
       "    </tr>\n",
       "    <tr>\n",
       "      <th>41</th>\n",
       "      <td>OH</td>\n",
       "      <td>59443</td>\n",
       "      <td>424982</td>\n",
       "      <td>0.140</td>\n",
       "    </tr>\n",
       "    <tr>\n",
       "      <th>42</th>\n",
       "      <td>SC</td>\n",
       "      <td>29742</td>\n",
       "      <td>212130</td>\n",
       "      <td>0.140</td>\n",
       "    </tr>\n",
       "    <tr>\n",
       "      <th>43</th>\n",
       "      <td>AK</td>\n",
       "      <td>4308</td>\n",
       "      <td>31113</td>\n",
       "      <td>0.138</td>\n",
       "    </tr>\n",
       "    <tr>\n",
       "      <th>44</th>\n",
       "      <td>NH</td>\n",
       "      <td>7762</td>\n",
       "      <td>56415</td>\n",
       "      <td>0.138</td>\n",
       "    </tr>\n",
       "    <tr>\n",
       "      <th>45</th>\n",
       "      <td>WV</td>\n",
       "      <td>10655</td>\n",
       "      <td>80950</td>\n",
       "      <td>0.132</td>\n",
       "    </tr>\n",
       "    <tr>\n",
       "      <th>46</th>\n",
       "      <td>ND</td>\n",
       "      <td>2774</td>\n",
       "      <td>21265</td>\n",
       "      <td>0.130</td>\n",
       "    </tr>\n",
       "    <tr>\n",
       "      <th>47</th>\n",
       "      <td>HI</td>\n",
       "      <td>6682</td>\n",
       "      <td>51481</td>\n",
       "      <td>0.130</td>\n",
       "    </tr>\n",
       "    <tr>\n",
       "      <th>48</th>\n",
       "      <td>LA</td>\n",
       "      <td>23099</td>\n",
       "      <td>181600</td>\n",
       "      <td>0.127</td>\n",
       "    </tr>\n",
       "    <tr>\n",
       "      <th>49</th>\n",
       "      <td>SD</td>\n",
       "      <td>3549</td>\n",
       "      <td>29171</td>\n",
       "      <td>0.122</td>\n",
       "    </tr>\n",
       "    <tr>\n",
       "      <th>50</th>\n",
       "      <td>MS</td>\n",
       "      <td>13742</td>\n",
       "      <td>121057</td>\n",
       "      <td>0.114</td>\n",
       "    </tr>\n",
       "  </tbody>\n",
       "</table>\n",
       "</div>"
      ],
      "text/plain": [
       "   LEA_STATE  ap_total_enrollment  total_enrollment  ap_pct_enrolled\n",
       "0         MD                71123            249564            0.285\n",
       "1         DC                 4183             16767            0.249\n",
       "2         TX               349188           1418672            0.246\n",
       "3         FL               195563            802627            0.244\n",
       "4         CA               425288           1808848            0.235\n",
       "5         VA                88948            379640            0.234\n",
       "6         KY                44659            191543            0.233\n",
       "7         MN                46681            203082            0.230\n",
       "8         GA               115363            509999            0.226\n",
       "9         IL               125295            561617            0.223\n",
       "10        WA                63940            286527            0.223\n",
       "11        CO                53962            243486            0.222\n",
       "12        NM                18189             82712            0.220\n",
       "13        WI                55283            252751            0.219\n",
       "14        AR                30370            140973            0.215\n",
       "15        CT                33033            156361            0.211\n",
       "16        NE                12967             65624            0.198\n",
       "17        MA                55368            283118            0.196\n",
       "18        NY               151912            791183            0.192\n",
       "19        OR                26958            141309            0.191\n",
       "20        NJ                76843            407956            0.188\n",
       "21        MI                75995            418118            0.182\n",
       "22        KS                17490             98447            0.178\n",
       "23        DE                 6595             37292            0.177\n",
       "24        IN                54131            309486            0.175\n",
       "25        AZ                51166            292471            0.175\n",
       "26        OK                27028            154941            0.174\n",
       "27        ID                10815             62159            0.174\n",
       "28        UT                35975            211246            0.170\n",
       "29        NV                24168            142938            0.169\n",
       "30        MO                33289            198090            0.168\n",
       "31        NC                74215            452340            0.164\n",
       "32        ME                 8428             51602            0.163\n",
       "33        AL                31166            197786            0.158\n",
       "34        PA                84786            552395            0.153\n",
       "35        RI                 5885             39413            0.149\n",
       "36        TN                33972            230038            0.148\n",
       "37        VT                 3816             25989            0.147\n",
       "38        WY                 2743             18787            0.146\n",
       "39        MT                 4671             32953            0.142\n",
       "40        IA                15580            109813            0.142\n",
       "41        OH                59443            424982            0.140\n",
       "42        SC                29742            212130            0.140\n",
       "43        AK                 4308             31113            0.138\n",
       "44        NH                 7762             56415            0.138\n",
       "45        WV                10655             80950            0.132\n",
       "46        ND                 2774             21265            0.130\n",
       "47        HI                 6682             51481            0.130\n",
       "48        LA                23099            181600            0.127\n",
       "49        SD                 3549             29171            0.122\n",
       "50        MS                13742            121057            0.114"
      ]
     },
     "execution_count": 70,
     "metadata": {},
     "output_type": "execute_result"
    }
   ],
   "source": [
    "ap_state['ap_pct_enrolled'] = round(ap_state['ap_total_enrollment'] / ap_state['total_enrollment'], 3)\n",
    "ap_state.sort_values('ap_pct_enrolled', ascending = False).reset_index().drop('index', axis = 1)"
   ]
  },
  {
   "cell_type": "code",
   "execution_count": 79,
   "metadata": {},
   "outputs": [],
   "source": [
    "ap_data = dict(type = 'choropleth',\n",
    "            locations = ap_state['LEA_STATE'],\n",
    "            locationmode = 'USA-states',\n",
    "            z = ap_state['ap_pct_enrolled'])\n",
    "\n",
    "ap_layout = dict(title = 'Percentage of Total Enrollment in AP',\n",
    "    geo = {'scope':'usa'})\n",
    "\n",
    "ap_choromap = go.Figure(data = [ap_data], layout = ap_layout)"
   ]
  },
  {
   "cell_type": "code",
   "execution_count": 80,
   "metadata": {},
   "outputs": [
    {
     "data": {
      "application/vnd.plotly.v1+json": {
       "data": [
        {
         "locationmode": "USA-states",
         "locations": [
          "AK",
          "AL",
          "AR",
          "AZ",
          "CA",
          "CO",
          "CT",
          "DC",
          "DE",
          "FL",
          "GA",
          "HI",
          "IA",
          "ID",
          "IL",
          "IN",
          "KS",
          "KY",
          "LA",
          "MA",
          "MD",
          "ME",
          "MI",
          "MN",
          "MO",
          "MS",
          "MT",
          "NC",
          "ND",
          "NE",
          "NH",
          "NJ",
          "NM",
          "NV",
          "NY",
          "OH",
          "OK",
          "OR",
          "PA",
          "RI",
          "SC",
          "SD",
          "TN",
          "TX",
          "UT",
          "VA",
          "VT",
          "WA",
          "WI",
          "WV",
          "WY"
         ],
         "type": "choropleth",
         "z": [
          0.138,
          0.158,
          0.215,
          0.175,
          0.235,
          0.222,
          0.211,
          0.249,
          0.177,
          0.244,
          0.226,
          0.13,
          0.142,
          0.174,
          0.223,
          0.175,
          0.178,
          0.233,
          0.127,
          0.196,
          0.285,
          0.163,
          0.182,
          0.23,
          0.168,
          0.114,
          0.142,
          0.164,
          0.13,
          0.198,
          0.138,
          0.188,
          0.22,
          0.169,
          0.192,
          0.14,
          0.174,
          0.191,
          0.153,
          0.149,
          0.14,
          0.122,
          0.148,
          0.246,
          0.17,
          0.234,
          0.147,
          0.223,
          0.219,
          0.132,
          0.146
         ]
        }
       ],
       "layout": {
        "geo": {
         "scope": "usa"
        },
        "title": "Percentage of Total Enrollment in AP"
       }
      },
      "text/html": [
       "<div id=\"7e485269-65fe-484a-95d4-58779c814e2a\" style=\"height: 525px; width: 100%;\" class=\"plotly-graph-div\"></div><script type=\"text/javascript\">require([\"plotly\"], function(Plotly) { window.PLOTLYENV=window.PLOTLYENV || {};window.PLOTLYENV.BASE_URL=\"https://plot.ly\";Plotly.newPlot(\"7e485269-65fe-484a-95d4-58779c814e2a\", [{\"type\": \"choropleth\", \"locations\": [\"AK\", \"AL\", \"AR\", \"AZ\", \"CA\", \"CO\", \"CT\", \"DC\", \"DE\", \"FL\", \"GA\", \"HI\", \"IA\", \"ID\", \"IL\", \"IN\", \"KS\", \"KY\", \"LA\", \"MA\", \"MD\", \"ME\", \"MI\", \"MN\", \"MO\", \"MS\", \"MT\", \"NC\", \"ND\", \"NE\", \"NH\", \"NJ\", \"NM\", \"NV\", \"NY\", \"OH\", \"OK\", \"OR\", \"PA\", \"RI\", \"SC\", \"SD\", \"TN\", \"TX\", \"UT\", \"VA\", \"VT\", \"WA\", \"WI\", \"WV\", \"WY\"], \"locationmode\": \"USA-states\", \"z\": [0.138, 0.158, 0.215, 0.175, 0.235, 0.222, 0.211, 0.249, 0.177, 0.244, 0.226, 0.13, 0.142, 0.174, 0.223, 0.175, 0.178, 0.233, 0.127, 0.196, 0.285, 0.163, 0.182, 0.23, 0.168, 0.114, 0.142, 0.164, 0.13, 0.198, 0.138, 0.188, 0.22, 0.169, 0.192, 0.14, 0.174, 0.191, 0.153, 0.149, 0.14, 0.122, 0.148, 0.246, 0.17, 0.234, 0.147, 0.223, 0.219, 0.132, 0.146]}], {\"title\": \"Percentage of Total Enrollment in AP\", \"geo\": {\"scope\": \"usa\"}}, {\"showLink\": true, \"linkText\": \"Export to plot.ly\"})});</script>"
      ],
      "text/vnd.plotly.v1+html": [
       "<div id=\"7e485269-65fe-484a-95d4-58779c814e2a\" style=\"height: 525px; width: 100%;\" class=\"plotly-graph-div\"></div><script type=\"text/javascript\">require([\"plotly\"], function(Plotly) { window.PLOTLYENV=window.PLOTLYENV || {};window.PLOTLYENV.BASE_URL=\"https://plot.ly\";Plotly.newPlot(\"7e485269-65fe-484a-95d4-58779c814e2a\", [{\"type\": \"choropleth\", \"locations\": [\"AK\", \"AL\", \"AR\", \"AZ\", \"CA\", \"CO\", \"CT\", \"DC\", \"DE\", \"FL\", \"GA\", \"HI\", \"IA\", \"ID\", \"IL\", \"IN\", \"KS\", \"KY\", \"LA\", \"MA\", \"MD\", \"ME\", \"MI\", \"MN\", \"MO\", \"MS\", \"MT\", \"NC\", \"ND\", \"NE\", \"NH\", \"NJ\", \"NM\", \"NV\", \"NY\", \"OH\", \"OK\", \"OR\", \"PA\", \"RI\", \"SC\", \"SD\", \"TN\", \"TX\", \"UT\", \"VA\", \"VT\", \"WA\", \"WI\", \"WV\", \"WY\"], \"locationmode\": \"USA-states\", \"z\": [0.138, 0.158, 0.215, 0.175, 0.235, 0.222, 0.211, 0.249, 0.177, 0.244, 0.226, 0.13, 0.142, 0.174, 0.223, 0.175, 0.178, 0.233, 0.127, 0.196, 0.285, 0.163, 0.182, 0.23, 0.168, 0.114, 0.142, 0.164, 0.13, 0.198, 0.138, 0.188, 0.22, 0.169, 0.192, 0.14, 0.174, 0.191, 0.153, 0.149, 0.14, 0.122, 0.148, 0.246, 0.17, 0.234, 0.147, 0.223, 0.219, 0.132, 0.146]}], {\"title\": \"Percentage of Total Enrollment in AP\", \"geo\": {\"scope\": \"usa\"}}, {\"showLink\": true, \"linkText\": \"Export to plot.ly\"})});</script>"
      ]
     },
     "metadata": {},
     "output_type": "display_data"
    }
   ],
   "source": [
    "iplot(ap_choromap)\n",
    "# iplot(de_choromap, image = 'png', filename='./Visualizations/by_state_de_choropleth')"
   ]
  },
  {
   "cell_type": "markdown",
   "metadata": {},
   "source": [
    "# By Region"
   ]
  },
  {
   "cell_type": "markdown",
   "metadata": {},
   "source": [
    "**DE**"
   ]
  },
  {
   "cell_type": "code",
   "execution_count": 88,
   "metadata": {},
   "outputs": [],
   "source": [
    "deOffering_region_total = crdc_1516_deYes.groupby('region_accred')['total_enrollment'].sum().reset_index()\n",
    "de_region_enrollment = crdc_1516_deYes.groupby('region_accred')['de_total_enrollment'].sum().reset_index()\n",
    "de_region = de_region_enrollment.merge(deOffering_region_total, how = 'inner', on = 'region_accred')"
   ]
  },
  {
   "cell_type": "code",
   "execution_count": 91,
   "metadata": {},
   "outputs": [
    {
     "data": {
      "text/html": [
       "<div>\n",
       "<style scoped>\n",
       "    .dataframe tbody tr th:only-of-type {\n",
       "        vertical-align: middle;\n",
       "    }\n",
       "\n",
       "    .dataframe tbody tr th {\n",
       "        vertical-align: top;\n",
       "    }\n",
       "\n",
       "    .dataframe thead th {\n",
       "        text-align: right;\n",
       "    }\n",
       "</style>\n",
       "<table border=\"1\" class=\"dataframe\">\n",
       "  <thead>\n",
       "    <tr style=\"text-align: right;\">\n",
       "      <th></th>\n",
       "      <th>region_accred</th>\n",
       "      <th>de_total_enrollment</th>\n",
       "      <th>total_enrollment</th>\n",
       "      <th>de_pct_enrolled</th>\n",
       "    </tr>\n",
       "  </thead>\n",
       "  <tbody>\n",
       "    <tr>\n",
       "      <th>0</th>\n",
       "      <td>NWCCU</td>\n",
       "      <td>130366</td>\n",
       "      <td>747784</td>\n",
       "      <td>0.174</td>\n",
       "    </tr>\n",
       "    <tr>\n",
       "      <th>1</th>\n",
       "      <td>HLC</td>\n",
       "      <td>473203</td>\n",
       "      <td>3790713</td>\n",
       "      <td>0.125</td>\n",
       "    </tr>\n",
       "    <tr>\n",
       "      <th>2</th>\n",
       "      <td>MSCHE</td>\n",
       "      <td>149369</td>\n",
       "      <td>1392648</td>\n",
       "      <td>0.107</td>\n",
       "    </tr>\n",
       "    <tr>\n",
       "      <th>3</th>\n",
       "      <td>SACS</td>\n",
       "      <td>362419</td>\n",
       "      <td>4607622</td>\n",
       "      <td>0.079</td>\n",
       "    </tr>\n",
       "    <tr>\n",
       "      <th>4</th>\n",
       "      <td>NEASC</td>\n",
       "      <td>27202</td>\n",
       "      <td>375873</td>\n",
       "      <td>0.072</td>\n",
       "    </tr>\n",
       "    <tr>\n",
       "      <th>5</th>\n",
       "      <td>WASC</td>\n",
       "      <td>37495</td>\n",
       "      <td>776542</td>\n",
       "      <td>0.048</td>\n",
       "    </tr>\n",
       "  </tbody>\n",
       "</table>\n",
       "</div>"
      ],
      "text/plain": [
       "  region_accred  de_total_enrollment  total_enrollment  de_pct_enrolled\n",
       "0         NWCCU               130366            747784            0.174\n",
       "1           HLC               473203           3790713            0.125\n",
       "2         MSCHE               149369           1392648            0.107\n",
       "3          SACS               362419           4607622            0.079\n",
       "4         NEASC                27202            375873            0.072\n",
       "5          WASC                37495            776542            0.048"
      ]
     },
     "execution_count": 91,
     "metadata": {},
     "output_type": "execute_result"
    }
   ],
   "source": [
    "de_region['de_pct_enrolled'] = round(de_region['de_total_enrollment'] / de_region['total_enrollment'], 3)\n",
    "de_region.sort_values('de_pct_enrolled', ascending = False).reset_index().drop('index', axis = 1)"
   ]
  },
  {
   "cell_type": "code",
   "execution_count": 95,
   "metadata": {},
   "outputs": [
    {
     "data": {
      "text/plain": [
       "Text(0.5,0,'')"
      ]
     },
     "execution_count": 95,
     "metadata": {},
     "output_type": "execute_result"
    },
    {
     "data": {
      "image/png": "[encoded data removed]",
      "text/plain": [
       "<Figure size 432x288 with 1 Axes>"
      ]
     },
     "metadata": {},
     "output_type": "display_data"
    }
   ],
   "source": [
    "de_region.plot.bar(x='region_accred', y='de_pct_enrolled')\n",
    "plt.title('Percentage of Total Enrollment in DE\\n by Region')\n",
    "plt.xticks(rotation = 0)\n",
    "plt.legend([])\n",
    "plt.xlabel('')"
   ]
  },
  {
   "cell_type": "markdown",
   "metadata": {},
   "source": [
    "**AP**"
   ]
  },
  {
   "cell_type": "code",
   "execution_count": 96,
   "metadata": {},
   "outputs": [],
   "source": [
    "apOffering_region_total = crdc_1516_apYes.groupby('region_accred')['total_enrollment'].sum().reset_index()\n",
    "ap_region_enrollment = crdc_1516_apYes.groupby('region_accred')['ap_total_enrollment'].sum().reset_index()\n",
    "ap_region = ap_region_enrollment.merge(apOffering_region_total, how = 'inner', on = 'region_accred')"
   ]
  },
  {
   "cell_type": "code",
   "execution_count": 98,
   "metadata": {},
   "outputs": [
    {
     "data": {
      "text/html": [
       "<div>\n",
       "<style scoped>\n",
       "    .dataframe tbody tr th:only-of-type {\n",
       "        vertical-align: middle;\n",
       "    }\n",
       "\n",
       "    .dataframe tbody tr th {\n",
       "        vertical-align: top;\n",
       "    }\n",
       "\n",
       "    .dataframe thead th {\n",
       "        text-align: right;\n",
       "    }\n",
       "</style>\n",
       "<table border=\"1\" class=\"dataframe\">\n",
       "  <thead>\n",
       "    <tr style=\"text-align: right;\">\n",
       "      <th></th>\n",
       "      <th>region_accred</th>\n",
       "      <th>ap_total_enrollment</th>\n",
       "      <th>total_enrollment</th>\n",
       "      <th>ap_pct_enrolled</th>\n",
       "    </tr>\n",
       "  </thead>\n",
       "  <tbody>\n",
       "    <tr>\n",
       "      <th>0</th>\n",
       "      <td>WASC</td>\n",
       "      <td>431970</td>\n",
       "      <td>1860329</td>\n",
       "      <td>0.232</td>\n",
       "    </tr>\n",
       "    <tr>\n",
       "      <th>1</th>\n",
       "      <td>SACS</td>\n",
       "      <td>999657</td>\n",
       "      <td>4697432</td>\n",
       "      <td>0.213</td>\n",
       "    </tr>\n",
       "    <tr>\n",
       "      <th>2</th>\n",
       "      <td>MSCHE</td>\n",
       "      <td>395442</td>\n",
       "      <td>2055157</td>\n",
       "      <td>0.192</td>\n",
       "    </tr>\n",
       "    <tr>\n",
       "      <th>3</th>\n",
       "      <td>HLC</td>\n",
       "      <td>696590</td>\n",
       "      <td>3706766</td>\n",
       "      <td>0.188</td>\n",
       "    </tr>\n",
       "    <tr>\n",
       "      <th>4</th>\n",
       "      <td>NWCCU</td>\n",
       "      <td>170835</td>\n",
       "      <td>908245</td>\n",
       "      <td>0.188</td>\n",
       "    </tr>\n",
       "    <tr>\n",
       "      <th>5</th>\n",
       "      <td>NEASC</td>\n",
       "      <td>114292</td>\n",
       "      <td>612898</td>\n",
       "      <td>0.186</td>\n",
       "    </tr>\n",
       "  </tbody>\n",
       "</table>\n",
       "</div>"
      ],
      "text/plain": [
       "  region_accred  ap_total_enrollment  total_enrollment  ap_pct_enrolled\n",
       "0          WASC               431970           1860329            0.232\n",
       "1          SACS               999657           4697432            0.213\n",
       "2         MSCHE               395442           2055157            0.192\n",
       "3           HLC               696590           3706766            0.188\n",
       "4         NWCCU               170835            908245            0.188\n",
       "5         NEASC               114292            612898            0.186"
      ]
     },
     "execution_count": 98,
     "metadata": {},
     "output_type": "execute_result"
    }
   ],
   "source": [
    "ap_region['ap_pct_enrolled'] = round(ap_region['ap_total_enrollment'] / ap_region['total_enrollment'], 3)\n",
    "ap_region.sort_values('ap_pct_enrolled', ascending = False).reset_index().drop('index', axis = 1)"
   ]
  },
  {
   "cell_type": "code",
   "execution_count": 100,
   "metadata": {},
   "outputs": [
    {
     "data": {
      "text/plain": [
       "Text(0.5,0,'')"
      ]
     },
     "execution_count": 100,
     "metadata": {},
     "output_type": "execute_result"
    },
    {
     "data": {
      "image/png": "[encoded data removed]",
      "text/plain": [
       "<Figure size 432x288 with 1 Axes>"
      ]
     },
     "metadata": {},
     "output_type": "display_data"
    }
   ],
   "source": [
    "ap_region.plot.bar(x='region_accred', y='ap_pct_enrolled')\n",
    "plt.title('Percentage of Total Enrollment in AP\\n by Region')\n",
    "plt.xticks(rotation = 0)\n",
    "plt.legend([])\n",
    "plt.xlabel('')"
   ]
  },
  {
   "cell_type": "markdown",
   "metadata": {},
   "source": [
    "# By Ethnicity Percentage of School"
   ]
  },
  {
   "cell_type": "markdown",
   "metadata": {},
   "source": [
    "**DE**"
   ]
  },
  {
   "cell_type": "code",
   "execution_count": 103,
   "metadata": {},
   "outputs": [],
   "source": [
    "deOffering_eth_total = crdc_1516_deYes.groupby('eth_quintile')['total_enrollment'].sum().reset_index()\n",
    "de_eth_enrollment = crdc_1516_deYes.groupby('eth_quintile')['de_total_enrollment'].sum().reset_index()\n",
    "de_eth = de_eth_enrollment.merge(deOffering_eth_total, how = 'inner', on = 'eth_quintile')"
   ]
  },
  {
   "cell_type": "code",
   "execution_count": 108,
   "metadata": {},
   "outputs": [
    {
     "data": {
      "text/html": [
       "<div>\n",
       "<style scoped>\n",
       "    .dataframe tbody tr th:only-of-type {\n",
       "        vertical-align: middle;\n",
       "    }\n",
       "\n",
       "    .dataframe tbody tr th {\n",
       "        vertical-align: top;\n",
       "    }\n",
       "\n",
       "    .dataframe thead th {\n",
       "        text-align: right;\n",
       "    }\n",
       "</style>\n",
       "<table border=\"1\" class=\"dataframe\">\n",
       "  <thead>\n",
       "    <tr style=\"text-align: right;\">\n",
       "      <th></th>\n",
       "      <th>eth_quintile</th>\n",
       "      <th>de_total_enrollment</th>\n",
       "      <th>total_enrollment</th>\n",
       "      <th>de_pct_enrolled</th>\n",
       "    </tr>\n",
       "  </thead>\n",
       "  <tbody>\n",
       "    <tr>\n",
       "      <th>0</th>\n",
       "      <td>1</td>\n",
       "      <td>415003</td>\n",
       "      <td>3233126</td>\n",
       "      <td>0.128</td>\n",
       "    </tr>\n",
       "    <tr>\n",
       "      <th>1</th>\n",
       "      <td>2</td>\n",
       "      <td>291684</td>\n",
       "      <td>2689506</td>\n",
       "      <td>0.108</td>\n",
       "    </tr>\n",
       "    <tr>\n",
       "      <th>2</th>\n",
       "      <td>3</td>\n",
       "      <td>179446</td>\n",
       "      <td>2045943</td>\n",
       "      <td>0.088</td>\n",
       "    </tr>\n",
       "    <tr>\n",
       "      <th>3</th>\n",
       "      <td>4</td>\n",
       "      <td>131835</td>\n",
       "      <td>1441606</td>\n",
       "      <td>0.091</td>\n",
       "    </tr>\n",
       "    <tr>\n",
       "      <th>4</th>\n",
       "      <td>5</td>\n",
       "      <td>162086</td>\n",
       "      <td>2281001</td>\n",
       "      <td>0.071</td>\n",
       "    </tr>\n",
       "  </tbody>\n",
       "</table>\n",
       "</div>"
      ],
      "text/plain": [
       "   eth_quintile  de_total_enrollment  total_enrollment  de_pct_enrolled\n",
       "0             1               415003           3233126            0.128\n",
       "1             2               291684           2689506            0.108\n",
       "2             3               179446           2045943            0.088\n",
       "3             4               131835           1441606            0.091\n",
       "4             5               162086           2281001            0.071"
      ]
     },
     "execution_count": 108,
     "metadata": {},
     "output_type": "execute_result"
    }
   ],
   "source": [
    "de_eth['de_pct_enrolled'] = round(de_eth['de_total_enrollment'] / de_eth['total_enrollment'], 3)\n",
    "de_eth"
   ]
  },
  {
   "cell_type": "code",
   "execution_count": 115,
   "metadata": {},
   "outputs": [
    {
     "data": {
      "text/plain": [
       "Text(0.5,0,'(Percentage non-white)')"
      ]
     },
     "execution_count": 115,
     "metadata": {},
     "output_type": "execute_result"
    },
    {
     "data": {
      "image/png": "[encoded data removed]",
      "text/plain": [
       "<Figure size 432x288 with 1 Axes>"
      ]
     },
     "metadata": {},
     "output_type": "display_data"
    }
   ],
   "source": [
    "de_eth.plot.bar(x='eth_quintile', y='de_pct_enrolled')\n",
    "plt.legend([])\n",
    "plt.title('Percentage of Enrollment in DE\\nBy Ethnicity Percentage Quintiles')\n",
    "plt.xticks(rotation = 0)\n",
    "plt.xticks([0,1,2,3,4], ['0-20%', '21-40%', '41-60%', '61-80%', '81-100%'])\n",
    "plt.xlabel('(Percentage non-white)')"
   ]
  },
  {
   "cell_type": "markdown",
   "metadata": {},
   "source": [
    "**AP**"
   ]
  },
  {
   "cell_type": "code",
   "execution_count": 113,
   "metadata": {},
   "outputs": [],
   "source": [
    "apOffering_eth_total = crdc_1516_apYes.groupby('eth_quintile')['total_enrollment'].sum().reset_index()\n",
    "ap_eth_enrollment = crdc_1516_apYes.groupby('eth_quintile')['ap_total_enrollment'].sum().reset_index()\n",
    "ap_eth = ap_eth_enrollment.merge(apOffering_eth_total, how = 'inner', on = 'eth_quintile')"
   ]
  },
  {
   "cell_type": "code",
   "execution_count": 114,
   "metadata": {},
   "outputs": [
    {
     "data": {
      "text/html": [
       "<div>\n",
       "<style scoped>\n",
       "    .dataframe tbody tr th:only-of-type {\n",
       "        vertical-align: middle;\n",
       "    }\n",
       "\n",
       "    .dataframe tbody tr th {\n",
       "        vertical-align: top;\n",
       "    }\n",
       "\n",
       "    .dataframe thead th {\n",
       "        text-align: right;\n",
       "    }\n",
       "</style>\n",
       "<table border=\"1\" class=\"dataframe\">\n",
       "  <thead>\n",
       "    <tr style=\"text-align: right;\">\n",
       "      <th></th>\n",
       "      <th>eth_quintile</th>\n",
       "      <th>ap_total_enrollment</th>\n",
       "      <th>total_enrollment</th>\n",
       "      <th>ap_pct_enrolled</th>\n",
       "    </tr>\n",
       "  </thead>\n",
       "  <tbody>\n",
       "    <tr>\n",
       "      <th>0</th>\n",
       "      <td>1</td>\n",
       "      <td>571383</td>\n",
       "      <td>3229567</td>\n",
       "      <td>0.177</td>\n",
       "    </tr>\n",
       "    <tr>\n",
       "      <th>1</th>\n",
       "      <td>2</td>\n",
       "      <td>656437</td>\n",
       "      <td>3006253</td>\n",
       "      <td>0.218</td>\n",
       "    </tr>\n",
       "    <tr>\n",
       "      <th>2</th>\n",
       "      <td>3</td>\n",
       "      <td>564997</td>\n",
       "      <td>2473886</td>\n",
       "      <td>0.228</td>\n",
       "    </tr>\n",
       "    <tr>\n",
       "      <th>3</th>\n",
       "      <td>4</td>\n",
       "      <td>416520</td>\n",
       "      <td>1907326</td>\n",
       "      <td>0.218</td>\n",
       "    </tr>\n",
       "    <tr>\n",
       "      <th>4</th>\n",
       "      <td>5</td>\n",
       "      <td>599449</td>\n",
       "      <td>3223795</td>\n",
       "      <td>0.186</td>\n",
       "    </tr>\n",
       "  </tbody>\n",
       "</table>\n",
       "</div>"
      ],
      "text/plain": [
       "   eth_quintile  ap_total_enrollment  total_enrollment  ap_pct_enrolled\n",
       "0             1               571383           3229567            0.177\n",
       "1             2               656437           3006253            0.218\n",
       "2             3               564997           2473886            0.228\n",
       "3             4               416520           1907326            0.218\n",
       "4             5               599449           3223795            0.186"
      ]
     },
     "execution_count": 114,
     "metadata": {},
     "output_type": "execute_result"
    }
   ],
   "source": [
    "ap_eth['ap_pct_enrolled'] = round(ap_eth['ap_total_enrollment'] / ap_eth['total_enrollment'], 3)\n",
    "ap_eth"
   ]
  },
  {
   "cell_type": "code",
   "execution_count": 116,
   "metadata": {},
   "outputs": [
    {
     "data": {
      "text/plain": [
       "Text(0.5,0,'(Percentage non-white)')"
      ]
     },
     "execution_count": 116,
     "metadata": {},
     "output_type": "execute_result"
    },
    {
     "data": {
      "image/png": "[encoded data removed]",
      "text/plain": [
       "<Figure size 432x288 with 1 Axes>"
      ]
     },
     "metadata": {},
     "output_type": "display_data"
    }
   ],
   "source": [
    "ap_eth.plot.bar(x='eth_quintile', y='ap_pct_enrolled')\n",
    "plt.legend([])\n",
    "plt.title('Percentage of Enrollment in AP\\nBy Ethnicity Percentage Quintiles')\n",
    "plt.xticks(rotation = 0)\n",
    "plt.xticks([0,1,2,3,4], ['0-20%', '21-40%', '41-60%', '61-80%', '81-100%'])\n",
    "plt.xlabel('(Percentage non-white)')"
   ]
  },
  {
   "cell_type": "markdown",
   "metadata": {},
   "source": [
    "# By Size"
   ]
  },
  {
   "cell_type": "markdown",
   "metadata": {},
   "source": [
    "**DE**"
   ]
  },
  {
   "cell_type": "code",
   "execution_count": 118,
   "metadata": {},
   "outputs": [],
   "source": [
    "deOffering_size_total = crdc_1516_deYes.groupby('size_group')['total_enrollment'].sum().reset_index()\n",
    "de_size_enrollment = crdc_1516_deYes.groupby('size_group')['de_total_enrollment'].sum().reset_index()\n",
    "de_size = de_size_enrollment.merge(deOffering_size_total, how = 'inner', on = 'size_group')"
   ]
  },
  {
   "cell_type": "code",
   "execution_count": 174,
   "metadata": {},
   "outputs": [
    {
     "data": {
      "text/html": [
       "<div>\n",
       "<style scoped>\n",
       "    .dataframe tbody tr th:only-of-type {\n",
       "        vertical-align: middle;\n",
       "    }\n",
       "\n",
       "    .dataframe tbody tr th {\n",
       "        vertical-align: top;\n",
       "    }\n",
       "\n",
       "    .dataframe thead th {\n",
       "        text-align: right;\n",
       "    }\n",
       "</style>\n",
       "<table border=\"1\" class=\"dataframe\">\n",
       "  <thead>\n",
       "    <tr style=\"text-align: right;\">\n",
       "      <th></th>\n",
       "      <th>size_group</th>\n",
       "      <th>de_total_enrollment</th>\n",
       "      <th>total_enrollment</th>\n",
       "      <th>de_pct_enrolled</th>\n",
       "    </tr>\n",
       "  </thead>\n",
       "  <tbody>\n",
       "    <tr>\n",
       "      <th>0</th>\n",
       "      <td>1</td>\n",
       "      <td>10278</td>\n",
       "      <td>63227</td>\n",
       "      <td>0.163</td>\n",
       "    </tr>\n",
       "    <tr>\n",
       "      <th>1</th>\n",
       "      <td>2</td>\n",
       "      <td>241451</td>\n",
       "      <td>1635252</td>\n",
       "      <td>0.148</td>\n",
       "    </tr>\n",
       "    <tr>\n",
       "      <th>2</th>\n",
       "      <td>3</td>\n",
       "      <td>346693</td>\n",
       "      <td>3223555</td>\n",
       "      <td>0.108</td>\n",
       "    </tr>\n",
       "    <tr>\n",
       "      <th>3</th>\n",
       "      <td>4</td>\n",
       "      <td>581632</td>\n",
       "      <td>6769148</td>\n",
       "      <td>0.086</td>\n",
       "    </tr>\n",
       "  </tbody>\n",
       "</table>\n",
       "</div>"
      ],
      "text/plain": [
       "   size_group  de_total_enrollment  total_enrollment  de_pct_enrolled\n",
       "0           1                10278             63227            0.163\n",
       "1           2               241451           1635252            0.148\n",
       "2           3               346693           3223555            0.108\n",
       "3           4               581632           6769148            0.086"
      ]
     },
     "execution_count": 174,
     "metadata": {},
     "output_type": "execute_result"
    }
   ],
   "source": [
    "de_size['de_pct_enrolled'] = round(de_size['de_total_enrollment'] / de_size['total_enrollment'], 3)\n",
    "de_size"
   ]
  },
  {
   "cell_type": "code",
   "execution_count": 124,
   "metadata": {},
   "outputs": [
    {
     "data": {
      "image/png": "[encoded data removed]",
      "text/plain": [
       "<Figure size 432x288 with 1 Axes>"
      ]
     },
     "metadata": {},
     "output_type": "display_data"
    }
   ],
   "source": [
    "de_size.plot.bar(x = 'size_group', y = 'de_pct_enrolled')\n",
    "plt.xticks(rotation = 0)\n",
    "plt.legend([])\n",
    "plt.xlabel('')\n",
    "plt.title('Percentage of Enrollment in DE\\nBy Size ')\n",
    "plt.xticks([0,1,2,3], ['<100', '100-499', '500-1199', '>1200'])\n",
    "plt.show()"
   ]
  },
  {
   "cell_type": "code",
   "execution_count": 171,
   "metadata": {},
   "outputs": [
    {
     "data": {
      "text/plain": [
       "(-1.1062005624724052,\n",
       " 1.1002952648796382,\n",
       " -1.1063107949548248,\n",
       " 1.1095768760172733)"
      ]
     },
     "execution_count": 171,
     "metadata": {},
     "output_type": "execute_result"
    },
    {
     "data": {
      "image/png": "[encoded data removed]",
      "text/plain": [
       "<Figure size 432x288 with 1 Axes>"
      ]
     },
     "metadata": {},
     "output_type": "display_data"
    }
   ],
   "source": [
    "ax = de_size.plot.pie(y = 'de_total_enrollment',\n",
    "                        autopct='%1.1f%%',\n",
    "                        startangle = 0, pctdistance=1.25, labels = None, fontsize = 13)\n",
    "plt.legend(labels = ['<100', '100-499', '500-1199', '>1200'], bbox_to_anchor = (1,0.71), title = 'Size of School',\n",
    "          frameon=True)\n",
    "plt.ylabel('')\n",
    "plt.title('Percentage of DE Enrollment by School Size Groups')\n",
    "\n",
    "centre_circle = plt.Circle((0,0),0.6,fc='white')\n",
    "fig = plt.gcf()\n",
    "fig.gca().add_artist(centre_circle)\n",
    "\n",
    "ax.axis('equal')"
   ]
  },
  {
   "cell_type": "markdown",
   "metadata": {},
   "source": [
    "**AP**"
   ]
  },
  {
   "cell_type": "code",
   "execution_count": 172,
   "metadata": {},
   "outputs": [],
   "source": [
    "apOffering_size_total = crdc_1516_apYes.groupby('size_group')['total_enrollment'].sum().reset_index()\n",
    "ap_size_enrollment = crdc_1516_apYes.groupby('size_group')['ap_total_enrollment'].sum().reset_index()\n",
    "ap_size = ap_size_enrollment.merge(apOffering_size_total, how = 'inner', on = 'size_group')"
   ]
  },
  {
   "cell_type": "code",
   "execution_count": 175,
   "metadata": {},
   "outputs": [
    {
     "data": {
      "text/html": [
       "<div>\n",
       "<style scoped>\n",
       "    .dataframe tbody tr th:only-of-type {\n",
       "        vertical-align: middle;\n",
       "    }\n",
       "\n",
       "    .dataframe tbody tr th {\n",
       "        vertical-align: top;\n",
       "    }\n",
       "\n",
       "    .dataframe thead th {\n",
       "        text-align: right;\n",
       "    }\n",
       "</style>\n",
       "<table border=\"1\" class=\"dataframe\">\n",
       "  <thead>\n",
       "    <tr style=\"text-align: right;\">\n",
       "      <th></th>\n",
       "      <th>size_group</th>\n",
       "      <th>ap_total_enrollment</th>\n",
       "      <th>total_enrollment</th>\n",
       "      <th>ap_pct_enrolled</th>\n",
       "    </tr>\n",
       "  </thead>\n",
       "  <tbody>\n",
       "    <tr>\n",
       "      <th>0</th>\n",
       "      <td>1</td>\n",
       "      <td>2404</td>\n",
       "      <td>17379</td>\n",
       "      <td>0.138</td>\n",
       "    </tr>\n",
       "    <tr>\n",
       "      <th>1</th>\n",
       "      <td>2</td>\n",
       "      <td>169979</td>\n",
       "      <td>1241883</td>\n",
       "      <td>0.137</td>\n",
       "    </tr>\n",
       "    <tr>\n",
       "      <th>2</th>\n",
       "      <td>3</td>\n",
       "      <td>637860</td>\n",
       "      <td>3811697</td>\n",
       "      <td>0.167</td>\n",
       "    </tr>\n",
       "    <tr>\n",
       "      <th>3</th>\n",
       "      <td>4</td>\n",
       "      <td>1998543</td>\n",
       "      <td>8769868</td>\n",
       "      <td>0.228</td>\n",
       "    </tr>\n",
       "  </tbody>\n",
       "</table>\n",
       "</div>"
      ],
      "text/plain": [
       "   size_group  ap_total_enrollment  total_enrollment  ap_pct_enrolled\n",
       "0           1                 2404             17379            0.138\n",
       "1           2               169979           1241883            0.137\n",
       "2           3               637860           3811697            0.167\n",
       "3           4              1998543           8769868            0.228"
      ]
     },
     "execution_count": 175,
     "metadata": {},
     "output_type": "execute_result"
    }
   ],
   "source": [
    "ap_size['ap_pct_enrolled'] = round(ap_size['ap_total_enrollment'] / ap_size['total_enrollment'], 3)\n",
    "ap_size"
   ]
  },
  {
   "cell_type": "code",
   "execution_count": 177,
   "metadata": {},
   "outputs": [
    {
     "data": {
      "image/png": "[encoded data removed]",
      "text/plain": [
       "<Figure size 432x288 with 1 Axes>"
      ]
     },
     "metadata": {},
     "output_type": "display_data"
    }
   ],
   "source": [
    "ap_size.plot.bar(x = 'size_group', y = 'ap_pct_enrolled')\n",
    "plt.xticks(rotation = 0)\n",
    "plt.legend([])\n",
    "plt.xlabel('')\n",
    "plt.title('Percentage of Enrollment in AP\\nBy Size ')\n",
    "plt.xticks([0,1,2,3], ['<100', '100-499', '500-1199', '>1200'])\n",
    "plt.show()"
   ]
  },
  {
   "cell_type": "code",
   "execution_count": 184,
   "metadata": {},
   "outputs": [
    {
     "data": {
      "text/plain": [
       "(-1.100406944667943,\n",
       " 1.1017475903725091,\n",
       " -1.1154844967629434,\n",
       " 1.1157524250126245)"
      ]
     },
     "execution_count": 184,
     "metadata": {},
     "output_type": "execute_result"
    },
    {
     "data": {
      "image/png": "[encoded data removed]",
      "text/plain": [
       "<Figure size 432x288 with 1 Axes>"
      ]
     },
     "metadata": {},
     "output_type": "display_data"
    }
   ],
   "source": [
    "ax = ap_size.plot.pie(y = 'ap_total_enrollment',\n",
    "                        autopct='%1.1f%%',\n",
    "                        startangle = -20, pctdistance=1.25, labels = None, fontsize = 13)\n",
    "plt.legend(labels = ['<100', '100-499', '500-1199', '>1200'], bbox_to_anchor = (1,0.71), title = 'Size of School',\n",
    "          frameon=True)\n",
    "plt.ylabel('')\n",
    "plt.title('Percentage of AP Enrollment by School Size Groups')\n",
    "\n",
    "centre_circle = plt.Circle((0,0),0.6,fc='white')\n",
    "fig = plt.gcf()\n",
    "fig.gca().add_artist(centre_circle)\n",
    "\n",
    "ax.axis('equal')"
   ]
  },
  {
   "cell_type": "code",
   "execution_count": null,
   "metadata": {},
   "outputs": [],
   "source": []
  }
 ],
 "metadata": {
  "kernelspec": {
   "display_name": "nacep_venv",
   "language": "python",
   "name": "nacep_venv"
  },
  "language_info": {
   "codemirror_mode": {
    "name": "ipython",
    "version": 3
   },
   "file_extension": ".py",
   "mimetype": "text/x-python",
   "name": "python",
   "nbconvert_exporter": "python",
   "pygments_lexer": "ipython3",
   "version": "3.6.5"
  }
 },
 "nbformat": 4,
 "nbformat_minor": 2
}
