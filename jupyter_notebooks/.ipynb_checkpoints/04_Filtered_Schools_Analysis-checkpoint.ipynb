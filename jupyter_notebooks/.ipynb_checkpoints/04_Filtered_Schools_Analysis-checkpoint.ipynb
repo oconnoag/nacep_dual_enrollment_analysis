{
 "cells": [
  {
   "cell_type": "markdown",
   "metadata": {},
   "source": [
    "# <u> NACEP </u>\n",
    "## 2015-16 CRDC\n",
    "## Filtered Schools Analysis\n",
    "#### Alijah O'Connor - 2018\n",
    "------------------------------------------------------------------------------------\n",
    "---"
   ]
  },
  {
   "cell_type": "code",
   "execution_count": 1,
   "metadata": {},
   "outputs": [],
   "source": [
    "import pandas as pd\n",
    "import numpy as np\n",
    "import seaborn as sns\n",
    "import matplotlib.pyplot as plt\n",
    "\n",
    "from my_functions import combokey_converter\n",
    "\n",
    "%matplotlib inline\n",
    "sns.set_style('whitegrid')\n",
    "plt.rc('axes', titlesize = 14, titleweight = 'bold', labelweight = 'bold')"
   ]
  },
  {
   "cell_type": "code",
   "execution_count": 2,
   "metadata": {},
   "outputs": [],
   "source": [
    "raw = pd.read_csv('../filtered_data/00_crdc_1516_initial.csv', \n",
    "                        dtype = {'LEAID':np.object})"
   ]
  },
  {
   "cell_type": "code",
   "execution_count": 3,
   "metadata": {},
   "outputs": [],
   "source": [
    "filtered = pd.read_csv('../filtered_data/04_filter_final.csv', dtype = {'LEAID':np.object})"
   ]
  },
  {
   "cell_type": "code",
   "execution_count": 4,
   "metadata": {},
   "outputs": [
    {
     "data": {
      "text/plain": [
       "96360"
      ]
     },
     "execution_count": 4,
     "metadata": {},
     "output_type": "execute_result"
    }
   ],
   "source": [
    "\"\"\"How long is the raw dataset?\"\"\"\n",
    "raw['COMBOKEY'] = combokey_converter.convert(raw, 'LEAID', 'SCHID')\n",
    "len(raw)"
   ]
  },
  {
   "cell_type": "code",
   "execution_count": 5,
   "metadata": {},
   "outputs": [],
   "source": [
    "filtered_combo = filtered[['COMBOKEY','LAT1516']]"
   ]
  },
  {
   "cell_type": "code",
   "execution_count": 6,
   "metadata": {},
   "outputs": [],
   "source": [
    "filtered_raw_joined = pd.merge(raw, filtered_combo, on = 'COMBOKEY', how = 'left')\n",
    "filtered_from_raw = filtered_raw_joined.copy()\n",
    "filtered_from_raw = filtered_from_raw[filtered_from_raw.LAT1516.isnull()]\n",
    "filtered_from_raw = filtered_from_raw.drop('LAT1516', axis = 1)"
   ]
  },
  {
   "cell_type": "markdown",
   "metadata": {},
   "source": [
    "# Set Up"
   ]
  },
  {
   "cell_type": "code",
   "execution_count": 7,
   "metadata": {},
   "outputs": [],
   "source": [
    "from my_functions.extra_functions import students_in_11_or_12\n",
    "filtered_from_raw['Students_in_11_12'] = filtered_from_raw \\\n",
    "                                            .apply(lambda row: students_in_11_or_12(row['SCH_GRADE_G11'],\n",
    "                                                                                    row['SCH_GRADE_G12']),\n",
    "                                                   axis = 1)"
   ]
  },
  {
   "cell_type": "code",
   "execution_count": 8,
   "metadata": {},
   "outputs": [],
   "source": [
    "def missing_value_mapper(value):\n",
    "    \"\"\"Converts any negative number into 0, as these negative numbers represent missing/null values\"\"\"\n",
    "    if isinstance(value, int):\n",
    "        if value < 0:\n",
    "            return 0\n",
    "    return value\n",
    "\n",
    "filtered_from_raw = filtered_from_raw.applymap(missing_value_mapper)"
   ]
  },
  {
   "cell_type": "code",
   "execution_count": 9,
   "metadata": {},
   "outputs": [],
   "source": [
    "filtered_from_raw['total_enrollment'] = filtered_from_raw['TOT_ENR_M'] + filtered_from_raw['TOT_ENR_F']\n",
    "from my_functions.extra_functions import hs_enrollment_averager\n",
    "filtered_from_raw['total_hs_enrollment'] = hs_enrollment_averager(filtered_from_raw)\n",
    "filtered_from_raw['de_total_enrollment'] = filtered_from_raw['TOT_DUALENR_M'] + filtered_from_raw['TOT_DUALENR_F']"
   ]
  },
  {
   "cell_type": "code",
   "execution_count": 86,
   "metadata": {},
   "outputs": [
    {
     "data": {
      "text/plain": [
       "77693"
      ]
     },
     "execution_count": 86,
     "metadata": {},
     "output_type": "execute_result"
    }
   ],
   "source": [
    "\"\"\"How many total filtered out schools?\"\"\"\n",
    "len(filtered_from_raw)"
   ]
  },
  {
   "cell_type": "markdown",
   "metadata": {},
   "source": [
    "## Get NCES information"
   ]
  },
  {
   "cell_type": "code",
   "execution_count": 11,
   "metadata": {},
   "outputs": [
    {
     "name": "stderr",
     "output_type": "stream",
     "text": [
      "/Users/alijahoconnor/Box Sync/OCR/Data_and_Analysis/venv/lib/python3.6/site-packages/IPython/core/interactiveshell.py:2785: DtypeWarning: Columns (13) have mixed types. Specify dtype option on import or set low_memory=False.\n",
      "  interactivity=interactivity, compiler=compiler, result=result)\n"
     ]
    }
   ],
   "source": [
    "nces_1516_full = pd.read_csv('../filtered_data/01_nces_1516_initial_combined_ccd.csv')\n",
    "nces_important_columns = ['combokey', 'SCH_TYPE', 'LEVEL', 'VIRTUAL', 'GSLO', 'GSHI',\n",
    "       'NMCNTY15', 'LOCALE15', 'LAT1516', 'LON1516']\n",
    "nces_1516_full = nces_1516_full[nces_important_columns]"
   ]
  },
  {
   "cell_type": "code",
   "execution_count": 12,
   "metadata": {},
   "outputs": [],
   "source": [
    "filtered_from_raw_with_nces = pd.merge(filtered_from_raw, nces_1516_full, left_on = 'COMBOKEY', \n",
    "                                       right_on = 'combokey', how = 'left', suffixes = ('', '_nces'))\n",
    "# filtered_from_raw_with_nces.to_csv('../filtered_data/04_filtered_out_schools.csv')"
   ]
  },
  {
   "cell_type": "code",
   "execution_count": 13,
   "metadata": {},
   "outputs": [],
   "source": [
    "non_matching_total = filtered_from_raw_with_nces[filtered_from_raw_with_nces.LEVEL.isnull()]\n",
    "matching_schools_total = filtered_from_raw_with_nces[filtered_from_raw_with_nces.LEVEL.notnull()]"
   ]
  },
  {
   "cell_type": "markdown",
   "metadata": {},
   "source": [
    "# Analysis"
   ]
  },
  {
   "cell_type": "markdown",
   "metadata": {},
   "source": [
    "### - Filtered-out Schools"
   ]
  },
  {
   "cell_type": "code",
   "execution_count": 72,
   "metadata": {},
   "outputs": [],
   "source": [
    "\"\"\"Breakdown of All schools with matching NCES tags\"\"\"\n",
    "total_jj_schools = matching_schools_total[matching_schools_total['JJ'] == 'Yes']\n",
    "total_alt_schools = matching_schools_total[matching_schools_total['SCH_STATUS_ALT'] == 'Yes']\n",
    "total_sped_schools = matching_schools_total[matching_schools_total['SCH_STATUS_SPED'] == 'Yes']\n",
    "total_non_hs_voc_schools = matching_schools_total[(matching_schools_total['LEVEL'] == '1') | \n",
    "                                       (matching_schools_total['LEVEL'] == '2') | \n",
    "                                      (matching_schools_total['LEVEL'] == 'N')]\n",
    "total_virtual_schools = matching_schools_total[matching_schools_total['VIRTUAL'] == 'Yes']\n",
    "total_nces_sped_schools = matching_schools_total[matching_schools_total['SCH_TYPE'] == 2]\n",
    "total_nces_alt_other_schools = matching_schools_total[matching_schools_total['SCH_TYPE'] == 4]\n",
    "total_without_11_12_schools = matching_schools_total[matching_schools_total['Students_in_11_12'] == 'No']"
   ]
  },
  {
   "cell_type": "code",
   "execution_count": 73,
   "metadata": {},
   "outputs": [],
   "source": [
    "\"\"\"Number of Schools in Each Category\"\"\"\n",
    "total_filtered_schools = len(filtered_from_raw)\n",
    "total_nces_matching_schools = len(matching_schools_total)\n",
    "total_nces_non_matching_schools = len(non_matching_total)\n",
    "\n",
    "total_jj_school_count = len(total_jj_schools)\n",
    "total_alt_school_count = len(total_alt_schools)\n",
    "total_sped_school_count = len(total_sped_schools)\n",
    "total_non_hs_voc_school_count = len(total_non_hs_voc_schools)\n",
    "total_virtual_school_count = len(total_virtual_schools)\n",
    "total_nces_sped_school_count = len(total_nces_sped_schools)\n",
    "total_nces_alt_other_school_count = len(total_nces_alt_other_schools)\n",
    "total_without_11_12_school_count = len(total_without_11_12_schools)"
   ]
  },
  {
   "cell_type": "markdown",
   "metadata": {},
   "source": [
    "### - Filtered Out HS Students"
   ]
  },
  {
   "cell_type": "code",
   "execution_count": 84,
   "metadata": {},
   "outputs": [],
   "source": [
    "\"\"\"Number of High Schoolers in those Schools\"\"\"\n",
    "total_hs = filtered_from_raw_with_nces.total_hs_enrollment.sum()\n",
    "matching_hs = matching_schools_total.total_hs_enrollment.sum()\n",
    "non_matching_hs = non_matching_total.total_hs_enrollment.sum()\n",
    "\n",
    "total_jj_school_hs = total_jj_schools.total_hs_enrollment.sum()\n",
    "total_alt_school_hs = total_alt_schools.total_hs_enrollment.sum()\n",
    "total_sped_school_hs = total_sped_schools.total_hs_enrollment.sum()\n",
    "total_non_hs_voc_school_hs = total_non_hs_voc_schools.total_hs_enrollment.sum()\n",
    "total_virtual_school_hs = total_virtual_schools.total_hs_enrollment.sum()\n",
    "total_nces_sped_school_hs = total_nces_sped_schools.total_hs_enrollment.sum()\n",
    "total_nces_alt_other_school_hs = total_nces_alt_other_schools.total_hs_enrollment.sum()\n",
    "total_without_11_12_school_hs = total_without_11_12_schools.total_hs_enrollment.sum()"
   ]
  },
  {
   "cell_type": "markdown",
   "metadata": {},
   "source": [
    "### - Filtered Out DE Students"
   ]
  },
  {
   "cell_type": "code",
   "execution_count": 88,
   "metadata": {},
   "outputs": [],
   "source": [
    "match_schools_with_de = matching_schools_total.copy()\n",
    "match_schools_with_de = match_schools_with_de[match_schools_with_de.de_total_enrollment > 0]"
   ]
  },
  {
   "cell_type": "code",
   "execution_count": 90,
   "metadata": {},
   "outputs": [],
   "source": [
    "\"\"\"Filtered out DE Students\"\"\"\n",
    "total_filtered_out_de_students = filtered_from_raw_with_nces.de_total_enrollment.sum()\n",
    "de_students_in_NCES_matching_schools =  match_schools_with_de.de_total_enrollment.sum()\n",
    "de_students_in_NCES_non_matching_schools = total_filtered_out_de_students - de_students_in_NCES_matching_schools\n",
    "\n",
    "jj_de_students = match_schools_with_de[match_schools_with_de['JJ'] == 'Yes'].de_total_enrollment.sum()\n",
    "alt_de_students_crdc = match_schools_with_de[match_schools_with_de.SCH_STATUS_ALT == 'Yes'].de_total_enrollment.sum()\n",
    "sped_de_students_crdc = match_schools_with_de[match_schools_with_de.SCH_STATUS_SPED == 'Yes'].de_total_enrollment.sum()\n",
    "level_1_2_N_DE_Students = match_schools_with_de[(match_schools_with_de.LEVEL == '1') | \n",
    "                                               (match_schools_with_de.LEVEL == '2') | \n",
    "                                               (match_schools_with_de.LEVEL == 'N')].de_total_enrollment.sum()\n",
    "virtual_de_students = match_schools_with_de[match_schools_with_de['VIRTUAL'] == 'Yes'].de_total_enrollment.sum()\n",
    "sped_de_students_nces = match_schools_with_de[match_schools_with_de['SCH_TYPE'] == 2].de_total_enrollment.sum()\n",
    "alt_de_students_nces = match_schools_with_de[match_schools_with_de['SCH_TYPE'] == 4].de_total_enrollment.sum()\n",
    "de_students_schools_without_11_12 = match_schools_with_de[match_schools_with_de.Students_in_11_12 == 'No']\\\n",
    "                                        .de_total_enrollment.sum()"
   ]
  },
  {
   "cell_type": "markdown",
   "metadata": {},
   "source": [
    "## Where are the Filtered Students?"
   ]
  },
  {
   "cell_type": "code",
   "execution_count": 91,
   "metadata": {},
   "outputs": [
    {
     "data": {
      "text/html": [
       "<div>\n",
       "<style scoped>\n",
       "    .dataframe tbody tr th:only-of-type {\n",
       "        vertical-align: middle;\n",
       "    }\n",
       "\n",
       "    .dataframe tbody tr th {\n",
       "        vertical-align: top;\n",
       "    }\n",
       "\n",
       "    .dataframe thead th {\n",
       "        text-align: right;\n",
       "    }\n",
       "</style>\n",
       "<table border=\"1\" class=\"dataframe\">\n",
       "  <thead>\n",
       "    <tr style=\"text-align: right;\">\n",
       "      <th></th>\n",
       "      <th>DE Students</th>\n",
       "      <th>HS Students</th>\n",
       "      <th>Schools</th>\n",
       "    </tr>\n",
       "  </thead>\n",
       "  <tbody>\n",
       "    <tr>\n",
       "      <th>Total Filtered Out</th>\n",
       "      <td>28384</td>\n",
       "      <td>970253</td>\n",
       "      <td>77693</td>\n",
       "    </tr>\n",
       "    <tr>\n",
       "      <th>NCES-Matching Schools</th>\n",
       "      <td>25810</td>\n",
       "      <td>847505</td>\n",
       "      <td>74493</td>\n",
       "    </tr>\n",
       "    <tr>\n",
       "      <th>NCES-Non-Matching Schools</th>\n",
       "      <td>2574</td>\n",
       "      <td>122748</td>\n",
       "      <td>3200</td>\n",
       "    </tr>\n",
       "    <tr>\n",
       "      <th>Juvenile Justice (CRDC)</th>\n",
       "      <td>363</td>\n",
       "      <td>16667</td>\n",
       "      <td>487</td>\n",
       "    </tr>\n",
       "    <tr>\n",
       "      <th>Alternative Education (CRDC)</th>\n",
       "      <td>7406</td>\n",
       "      <td>260122</td>\n",
       "      <td>3018</td>\n",
       "    </tr>\n",
       "    <tr>\n",
       "      <th>Special Education (CRDC)</th>\n",
       "      <td>2827</td>\n",
       "      <td>81562</td>\n",
       "      <td>1833</td>\n",
       "    </tr>\n",
       "    <tr>\n",
       "      <th>Schools w/o 11th/12th grade (CRDC)</th>\n",
       "      <td>4553</td>\n",
       "      <td>233974</td>\n",
       "      <td>68925</td>\n",
       "    </tr>\n",
       "    <tr>\n",
       "      <th>Virtual (NCES)</th>\n",
       "      <td>2766</td>\n",
       "      <td>100467</td>\n",
       "      <td>486</td>\n",
       "    </tr>\n",
       "    <tr>\n",
       "      <th>Special Education (NCES)</th>\n",
       "      <td>1167</td>\n",
       "      <td>55229</td>\n",
       "      <td>1487</td>\n",
       "    </tr>\n",
       "    <tr>\n",
       "      <th>Alternative/Other (NCES)</th>\n",
       "      <td>11171</td>\n",
       "      <td>362789</td>\n",
       "      <td>4296</td>\n",
       "    </tr>\n",
       "    <tr>\n",
       "      <th>Schools Reporting as Elementary/Middle/Other (NCES)</th>\n",
       "      <td>2917</td>\n",
       "      <td>108195</td>\n",
       "      <td>67960</td>\n",
       "    </tr>\n",
       "  </tbody>\n",
       "</table>\n",
       "</div>"
      ],
      "text/plain": [
       "                                                    DE Students  HS Students  \\\n",
       "Total Filtered Out                                        28384       970253   \n",
       "NCES-Matching Schools                                     25810       847505   \n",
       "NCES-Non-Matching Schools                                  2574       122748   \n",
       "Juvenile Justice (CRDC)                                     363        16667   \n",
       "Alternative Education (CRDC)                               7406       260122   \n",
       "Special Education (CRDC)                                   2827        81562   \n",
       "Schools w/o 11th/12th grade (CRDC)                         4553       233974   \n",
       "Virtual (NCES)                                             2766       100467   \n",
       "Special Education (NCES)                                   1167        55229   \n",
       "Alternative/Other (NCES)                                  11171       362789   \n",
       "Schools Reporting as Elementary/Middle/Other (N...         2917       108195   \n",
       "\n",
       "                                                    Schools  \n",
       "Total Filtered Out                                    77693  \n",
       "NCES-Matching Schools                                 74493  \n",
       "NCES-Non-Matching Schools                              3200  \n",
       "Juvenile Justice (CRDC)                                 487  \n",
       "Alternative Education (CRDC)                           3018  \n",
       "Special Education (CRDC)                               1833  \n",
       "Schools w/o 11th/12th grade (CRDC)                    68925  \n",
       "Virtual (NCES)                                          486  \n",
       "Special Education (NCES)                               1487  \n",
       "Alternative/Other (NCES)                               4296  \n",
       "Schools Reporting as Elementary/Middle/Other (N...    67960  "
      ]
     },
     "execution_count": 91,
     "metadata": {},
     "output_type": "execute_result"
    }
   ],
   "source": [
    "de_student_list = [total_filtered_out_de_students, de_students_in_NCES_matching_schools, de_students_in_NCES_non_matching_schools,\n",
    "                              jj_de_students, alt_de_students_crdc, sped_de_students_crdc, de_students_schools_without_11_12,\n",
    "                              virtual_de_students, sped_de_students_nces, alt_de_students_nces, level_1_2_N_DE_Students]\n",
    "filtered_out_schools = [total_filtered_schools, total_nces_matching_schools, total_nces_non_matching_schools,\n",
    "                        total_jj_school_count, total_alt_school_count, total_sped_school_count, \n",
    "                        total_without_11_12_school_count, total_virtual_school_count, total_nces_sped_school_count,\n",
    "                        total_nces_alt_other_school_count, total_non_hs_voc_school_count,]\n",
    "total_hs_list = [total_hs, matching_hs, non_matching_hs,\n",
    "                        total_jj_school_hs, total_alt_school_hs, total_sped_school_hs, \n",
    "                        total_without_11_12_school_hs, total_virtual_school_hs, total_nces_sped_school_hs,\n",
    "                        total_nces_alt_other_school_hs, total_non_hs_voc_school_hs,]\n",
    "filtered_list = ['Total Filtered Out', 'NCES-Matching Schools', 'NCES-Non-Matching Schools', 'Juvenile Justice (CRDC)', 'Alternative Education (CRDC)',\n",
    "                     'Special Education (CRDC)', 'Schools w/o 11th/12th grade (CRDC)', 'Virtual (NCES)', \n",
    "                     'Special Education (NCES)', 'Alternative/Other (NCES)', 'Schools Reporting as Elementary/Middle/Other (NCES)']\n",
    "\n",
    "pd.DataFrame({'DE Students': de_student_list, 'Schools': filtered_out_schools, 'HS Students': total_hs_list},\n",
    "            index = filtered_list)"
   ]
  },
  {
   "cell_type": "code",
   "execution_count": null,
   "metadata": {},
   "outputs": [],
   "source": []
  }
 ],
 "metadata": {
  "kernelspec": {
   "display_name": "nacep_venv",
   "language": "python",
   "name": "nacep_venv"
  },
  "language_info": {
   "codemirror_mode": {
    "name": "ipython",
    "version": 3
   },
   "file_extension": ".py",
   "mimetype": "text/x-python",
   "name": "python",
   "nbconvert_exporter": "python",
   "pygments_lexer": "ipython3",
   "version": "3.6.5"
  }
 },
 "nbformat": 4,
 "nbformat_minor": 2
}
