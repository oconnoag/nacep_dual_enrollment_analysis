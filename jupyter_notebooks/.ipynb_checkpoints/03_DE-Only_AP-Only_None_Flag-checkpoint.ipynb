{
 "cells": [
  {
   "cell_type": "markdown",
   "metadata": {},
   "source": [
    "# <u> NACEP </u>\n",
    "## 2015-16 CRDC\n",
    "## AP- & DE-Only Schools:   Flag Analysis"
   ]
  },
  {
   "cell_type": "code",
   "execution_count": 1,
   "metadata": {},
   "outputs": [
    {
     "data": {
      "text/html": [
       "<script>requirejs.config({paths: { 'plotly': ['https://cdn.plot.ly/plotly-latest.min']},});if(!window.Plotly) {{require(['plotly'],function(plotly) {window.Plotly=plotly;});}}</script>"
      ],
      "text/vnd.plotly.v1+html": [
       "<script>requirejs.config({paths: { 'plotly': ['https://cdn.plot.ly/plotly-latest.min']},});if(!window.Plotly) {{require(['plotly'],function(plotly) {window.Plotly=plotly;});}}</script>"
      ]
     },
     "metadata": {},
     "output_type": "display_data"
    }
   ],
   "source": [
    "import pandas as pd\n",
    "import numpy as np\n",
    "import seaborn as sns\n",
    "import matplotlib.pyplot as plt\n",
    "\n",
    "import plotly.plotly as py\n",
    "import plotly.graph_objs as go\n",
    "from plotly.offline import init_notebook_mode,iplot\n",
    "init_notebook_mode(connected = True)\n",
    "\n",
    "%matplotlib inline\n",
    "sns.set_style('whitegrid')\n",
    "plt.rc('axes', titlesize = 14, titleweight = 'bold', labelweight = 'bold')"
   ]
  },
  {
   "cell_type": "code",
   "execution_count": 2,
   "metadata": {},
   "outputs": [],
   "source": [
    "hs = pd.read_csv('../filtered_data/04_filter_final.csv', dtype = {'LEAID':np.object})"
   ]
  },
  {
   "cell_type": "code",
   "execution_count": 3,
   "metadata": {},
   "outputs": [
    {
     "data": {
      "text/plain": [
       "array(['COMBOKEY', 'SCH_NAME', 'GSHI', 'GSLO', 'JJ', 'LAT1516', 'LEAID',\n",
       "       'LEA_NAME', 'LEA_STATE', 'LEA_STATE_NAME', 'LEVEL', 'LOCALE15',\n",
       "       'LON1516', 'NMCNTY15', 'SCHID', 'SCH_APENR_AM_F', 'SCH_APENR_AM_M',\n",
       "       'SCH_APENR_AS_F', 'SCH_APENR_AS_M', 'SCH_APENR_BL_F',\n",
       "       'SCH_APENR_BL_M', 'SCH_APENR_HI_F', 'SCH_APENR_HI_M',\n",
       "       'SCH_APENR_HP_F', 'SCH_APENR_HP_M', 'SCH_APENR_IDEA_F',\n",
       "       'SCH_APENR_IDEA_M', 'SCH_APENR_IND', 'SCH_APENR_LEP_F',\n",
       "       'SCH_APENR_LEP_M', 'SCH_APENR_TR_F', 'SCH_APENR_TR_M',\n",
       "       'SCH_APENR_WH_F', 'SCH_APENR_WH_M', 'SCH_DUALENR_AM_F',\n",
       "       'SCH_DUALENR_AM_M', 'SCH_DUALENR_AS_F', 'SCH_DUALENR_AS_M',\n",
       "       'SCH_DUALENR_BL_F', 'SCH_DUALENR_BL_M', 'SCH_DUALENR_HI_F',\n",
       "       'SCH_DUALENR_HI_M', 'SCH_DUALENR_HP_F', 'SCH_DUALENR_HP_M',\n",
       "       'SCH_DUALENR_IDEA_F', 'SCH_DUALENR_IDEA_M', 'SCH_DUALENR_LEP_F',\n",
       "       'SCH_DUALENR_LEP_M', 'SCH_DUALENR_TR_F', 'SCH_DUALENR_TR_M',\n",
       "       'SCH_DUALENR_WH_F', 'SCH_DUALENR_WH_M', 'SCH_DUAL_IND',\n",
       "       'SCH_ENR_AM_F', 'SCH_ENR_AM_M', 'SCH_ENR_AS_F', 'SCH_ENR_AS_M',\n",
       "       'SCH_ENR_BL_F', 'SCH_ENR_BL_M', 'SCH_ENR_HI_F', 'SCH_ENR_HI_M',\n",
       "       'SCH_ENR_HP_F', 'SCH_ENR_HP_M', 'SCH_ENR_IDEA_F', 'SCH_ENR_IDEA_M',\n",
       "       'SCH_ENR_LEP_F', 'SCH_ENR_LEP_M', 'SCH_ENR_TR_F', 'SCH_ENR_TR_M',\n",
       "       'SCH_ENR_WH_F', 'SCH_ENR_WH_M', 'SCH_GRADE_G01', 'SCH_GRADE_G02',\n",
       "       'SCH_GRADE_G03', 'SCH_GRADE_G04', 'SCH_GRADE_G05', 'SCH_GRADE_G06',\n",
       "       'SCH_GRADE_G07', 'SCH_GRADE_G08', 'SCH_GRADE_G09', 'SCH_GRADE_G10',\n",
       "       'SCH_GRADE_G11', 'SCH_GRADE_G12', 'SCH_GRADE_KG', 'SCH_GRADE_PS',\n",
       "       'SCH_GRADE_UG', 'SCH_IBENR_AM_F', 'SCH_IBENR_AM_M',\n",
       "       'SCH_IBENR_AS_F', 'SCH_IBENR_AS_M', 'SCH_IBENR_BL_F',\n",
       "       'SCH_IBENR_BL_M', 'SCH_IBENR_HI_F', 'SCH_IBENR_HI_M',\n",
       "       'SCH_IBENR_HP_F', 'SCH_IBENR_HP_M', 'SCH_IBENR_IDEA_F',\n",
       "       'SCH_IBENR_IDEA_M', 'SCH_IBENR_IND', 'SCH_IBENR_LEP_F',\n",
       "       'SCH_IBENR_LEP_M', 'SCH_IBENR_TR_F', 'SCH_IBENR_TR_M',\n",
       "       'SCH_IBENR_WH_F', 'SCH_IBENR_WH_M', 'SCH_STATUS_ALT',\n",
       "       'SCH_STATUS_CHARTER', 'SCH_STATUS_MAGNET', 'SCH_STATUS_SPED',\n",
       "       'SCH_TYPE', 'SCH_TYPE_TEXT', 'SCH_UGDETAIL_HS', 'STABR',\n",
       "       'Students_in_11_12', 'TITLEI', 'TOT_APENR_F', 'TOT_APENR_M',\n",
       "       'TOT_DUALENR_F', 'TOT_DUALENR_M', 'TOT_ENR_F', 'TOT_ENR_M',\n",
       "       'TOT_IBENR_F', 'TOT_IBENR_M', 'VIRTUAL'], dtype=object)"
      ]
     },
     "execution_count": 3,
     "metadata": {},
     "output_type": "execute_result"
    }
   ],
   "source": [
    "hs.columns.values"
   ]
  },
  {
   "cell_type": "code",
   "execution_count": 4,
   "metadata": {},
   "outputs": [],
   "source": [
    "\"\"\"Total Enrollment Column\"\"\"\n",
    "hs['total_enrollment'] = hs['TOT_ENR_M'] + hs['TOT_ENR_F']"
   ]
  },
  {
   "cell_type": "code",
   "execution_count": 5,
   "metadata": {},
   "outputs": [],
   "source": [
    "def ap_only(ap_flag, de_flag):\n",
    "    if ap_flag == 'Yes' and de_flag == 'No':\n",
    "        return 1\n",
    "    return 0\n",
    "\n",
    "def de_only(ap_flag, de_flag):\n",
    "    if ap_flag =='No' and de_flag == 'Yes':\n",
    "        return 1\n",
    "    return 0\n",
    "\n",
    "def neither(ap_flag, de_flag):\n",
    "    if ap_flag == 'No' and de_flag == 'No':\n",
    "        return 1\n",
    "    return 0\n",
    "\n",
    "def both(ap_flag, de_flag):\n",
    "    if ap_flag == 'Yes' and de_flag == 'Yes':\n",
    "        return 1\n",
    "    return 0"
   ]
  },
  {
   "cell_type": "code",
   "execution_count": 6,
   "metadata": {},
   "outputs": [],
   "source": [
    "hs['ap_only'] = hs.apply(lambda row: ap_only(row['SCH_APENR_IND'],row['SCH_DUAL_IND']), axis=1)\n",
    "hs['de_only'] = hs.apply(lambda row: de_only(row['SCH_APENR_IND'],row['SCH_DUAL_IND']), axis=1)\n",
    "hs['neither_ap_de'] = hs.apply(lambda row: neither(row['SCH_APENR_IND'],row['SCH_DUAL_IND']), axis=1)\n",
    "hs['both_ap_de'] = hs.apply(lambda row: both(row['SCH_APENR_IND'],row['SCH_DUAL_IND']), axis=1)"
   ]
  },
  {
   "cell_type": "code",
   "execution_count": 7,
   "metadata": {},
   "outputs": [
    {
     "data": {
      "text/plain": [
       "0    15369\n",
       "1     3298\n",
       "Name: ap_only, dtype: int64"
      ]
     },
     "execution_count": 7,
     "metadata": {},
     "output_type": "execute_result"
    }
   ],
   "source": [
    "hs.ap_only.value_counts()"
   ]
  },
  {
   "cell_type": "code",
   "execution_count": 8,
   "metadata": {},
   "outputs": [
    {
     "data": {
      "text/plain": [
       "0    14795\n",
       "1     3872\n",
       "Name: de_only, dtype: int64"
      ]
     },
     "execution_count": 8,
     "metadata": {},
     "output_type": "execute_result"
    }
   ],
   "source": [
    "hs.de_only.value_counts()"
   ]
  },
  {
   "cell_type": "code",
   "execution_count": 9,
   "metadata": {},
   "outputs": [
    {
     "data": {
      "text/plain": [
       "0    16628\n",
       "1     2039\n",
       "Name: neither_ap_de, dtype: int64"
      ]
     },
     "execution_count": 9,
     "metadata": {},
     "output_type": "execute_result"
    }
   ],
   "source": [
    "hs.neither_ap_de.value_counts()"
   ]
  },
  {
   "cell_type": "code",
   "execution_count": 10,
   "metadata": {},
   "outputs": [
    {
     "data": {
      "text/plain": [
       "1    9458\n",
       "0    9209\n",
       "Name: both_ap_de, dtype: int64"
      ]
     },
     "execution_count": 10,
     "metadata": {},
     "output_type": "execute_result"
    }
   ],
   "source": [
    "hs.both_ap_de.value_counts()"
   ]
  },
  {
   "cell_type": "code",
   "execution_count": 11,
   "metadata": {},
   "outputs": [],
   "source": [
    "hs_ap_only = hs.copy()\n",
    "hs_ap_only = hs_ap_only[hs_ap_only.ap_only == 1]"
   ]
  },
  {
   "cell_type": "code",
   "execution_count": 12,
   "metadata": {},
   "outputs": [],
   "source": [
    "hs_de_only = hs.copy()\n",
    "hs_de_only = hs_de_only[hs_de_only.de_only == 1]"
   ]
  },
  {
   "cell_type": "code",
   "execution_count": 13,
   "metadata": {},
   "outputs": [],
   "source": [
    "hs_neither_ap_de = hs.copy()\n",
    "hs_neither_ap_de = hs_neither_ap_de[hs_neither_ap_de.neither_ap_de == 1]"
   ]
  },
  {
   "cell_type": "code",
   "execution_count": 14,
   "metadata": {},
   "outputs": [],
   "source": [
    "hs_both_ap_de = hs.copy()\n",
    "hs_both_ap_de = hs_both_ap_de[hs_both_ap_de.both_ap_de == 1]"
   ]
  },
  {
   "cell_type": "markdown",
   "metadata": {},
   "source": [
    "# By State"
   ]
  },
  {
   "cell_type": "code",
   "execution_count": 15,
   "metadata": {},
   "outputs": [],
   "source": [
    "\"\"\"Which states have many schools offering DE but not AP?\"\"\"\n",
    "hs_de_only_state = hs_de_only.groupby('LEA_STATE')['LEAID'].count().sort_values(ascending = False)\n",
    "hs_de_only_state = hs_de_only_state.rename('DE_Only')"
   ]
  },
  {
   "cell_type": "code",
   "execution_count": 16,
   "metadata": {},
   "outputs": [],
   "source": [
    "\"\"\"Which states have many schools offering AP but not DE?\"\"\"\n",
    "hs_ap_only_state = hs_ap_only.groupby('LEA_STATE')['LEAID'].count().sort_values(ascending = False)\n",
    "hs_ap_only_state = hs_ap_only_state.rename('AP_Only')"
   ]
  },
  {
   "cell_type": "code",
   "execution_count": 17,
   "metadata": {},
   "outputs": [],
   "source": [
    "\"\"\"Which states have many schools NOT offering AP or DE?\"\"\"\n",
    "hs_neither_ap_de_state = hs_neither_ap_de.groupby('LEA_STATE')['LEAID'].count().sort_values(ascending = False)\n",
    "hs_neither_ap_de_state = hs_neither_ap_de_state.rename('Neither_AP_DE')"
   ]
  },
  {
   "cell_type": "code",
   "execution_count": 18,
   "metadata": {},
   "outputs": [],
   "source": [
    "\"\"\"Which states have many schools offering AP and DE?\"\"\"\n",
    "hs_both_ap_de_state = hs_both_ap_de.groupby('LEA_STATE')['LEAID'].count().sort_values(ascending = False)\n",
    "hs_both_ap_de_state = hs_both_ap_de_state.rename('Both_AP_DE')"
   ]
  },
  {
   "cell_type": "code",
   "execution_count": 19,
   "metadata": {},
   "outputs": [
    {
     "data": {
      "text/html": [
       "<div>\n",
       "<style scoped>\n",
       "    .dataframe tbody tr th:only-of-type {\n",
       "        vertical-align: middle;\n",
       "    }\n",
       "\n",
       "    .dataframe tbody tr th {\n",
       "        vertical-align: top;\n",
       "    }\n",
       "\n",
       "    .dataframe thead th {\n",
       "        text-align: right;\n",
       "    }\n",
       "</style>\n",
       "<table border=\"1\" class=\"dataframe\">\n",
       "  <thead>\n",
       "    <tr style=\"text-align: right;\">\n",
       "      <th></th>\n",
       "      <th>DE_Only</th>\n",
       "      <th>AP_Only</th>\n",
       "      <th>Neither_AP_DE</th>\n",
       "      <th>Both_AP_DE</th>\n",
       "    </tr>\n",
       "  </thead>\n",
       "  <tbody>\n",
       "    <tr>\n",
       "      <th>TX</th>\n",
       "      <td>348</td>\n",
       "      <td>135</td>\n",
       "      <td>61</td>\n",
       "      <td>943</td>\n",
       "    </tr>\n",
       "    <tr>\n",
       "      <th>MO</th>\n",
       "      <td>281</td>\n",
       "      <td>23</td>\n",
       "      <td>45</td>\n",
       "      <td>200</td>\n",
       "    </tr>\n",
       "    <tr>\n",
       "      <th>OH</th>\n",
       "      <td>232</td>\n",
       "      <td>51</td>\n",
       "      <td>162</td>\n",
       "      <td>450</td>\n",
       "    </tr>\n",
       "    <tr>\n",
       "      <th>KS</th>\n",
       "      <td>200</td>\n",
       "      <td>14</td>\n",
       "      <td>37</td>\n",
       "      <td>80</td>\n",
       "    </tr>\n",
       "    <tr>\n",
       "      <th>IL</th>\n",
       "      <td>179</td>\n",
       "      <td>102</td>\n",
       "      <td>51</td>\n",
       "      <td>339</td>\n",
       "    </tr>\n",
       "    <tr>\n",
       "      <th>MI</th>\n",
       "      <td>166</td>\n",
       "      <td>52</td>\n",
       "      <td>61</td>\n",
       "      <td>396</td>\n",
       "    </tr>\n",
       "    <tr>\n",
       "      <th>NE</th>\n",
       "      <td>155</td>\n",
       "      <td>3</td>\n",
       "      <td>37</td>\n",
       "      <td>64</td>\n",
       "    </tr>\n",
       "    <tr>\n",
       "      <th>MN</th>\n",
       "      <td>154</td>\n",
       "      <td>47</td>\n",
       "      <td>87</td>\n",
       "      <td>144</td>\n",
       "    </tr>\n",
       "    <tr>\n",
       "      <th>IA</th>\n",
       "      <td>154</td>\n",
       "      <td>1</td>\n",
       "      <td>8</td>\n",
       "      <td>167</td>\n",
       "    </tr>\n",
       "    <tr>\n",
       "      <th>OK</th>\n",
       "      <td>125</td>\n",
       "      <td>56</td>\n",
       "      <td>80</td>\n",
       "      <td>184</td>\n",
       "    </tr>\n",
       "    <tr>\n",
       "      <th>TN</th>\n",
       "      <td>114</td>\n",
       "      <td>24</td>\n",
       "      <td>36</td>\n",
       "      <td>178</td>\n",
       "    </tr>\n",
       "    <tr>\n",
       "      <th>NY</th>\n",
       "      <td>106</td>\n",
       "      <td>492</td>\n",
       "      <td>182</td>\n",
       "      <td>440</td>\n",
       "    </tr>\n",
       "    <tr>\n",
       "      <th>LA</th>\n",
       "      <td>101</td>\n",
       "      <td>24</td>\n",
       "      <td>16</td>\n",
       "      <td>172</td>\n",
       "    </tr>\n",
       "    <tr>\n",
       "      <th>ND</th>\n",
       "      <td>101</td>\n",
       "      <td>0</td>\n",
       "      <td>21</td>\n",
       "      <td>35</td>\n",
       "    </tr>\n",
       "    <tr>\n",
       "      <th>AL</th>\n",
       "      <td>100</td>\n",
       "      <td>28</td>\n",
       "      <td>27</td>\n",
       "      <td>198</td>\n",
       "    </tr>\n",
       "    <tr>\n",
       "      <th>CO</th>\n",
       "      <td>98</td>\n",
       "      <td>40</td>\n",
       "      <td>32</td>\n",
       "      <td>190</td>\n",
       "    </tr>\n",
       "    <tr>\n",
       "      <th>OR</th>\n",
       "      <td>85</td>\n",
       "      <td>39</td>\n",
       "      <td>46</td>\n",
       "      <td>100</td>\n",
       "    </tr>\n",
       "    <tr>\n",
       "      <th>NM</th>\n",
       "      <td>80</td>\n",
       "      <td>11</td>\n",
       "      <td>7</td>\n",
       "      <td>68</td>\n",
       "    </tr>\n",
       "    <tr>\n",
       "      <th>ID</th>\n",
       "      <td>77</td>\n",
       "      <td>4</td>\n",
       "      <td>15</td>\n",
       "      <td>56</td>\n",
       "    </tr>\n",
       "    <tr>\n",
       "      <th>NC</th>\n",
       "      <td>74</td>\n",
       "      <td>112</td>\n",
       "      <td>39</td>\n",
       "      <td>312</td>\n",
       "    </tr>\n",
       "    <tr>\n",
       "      <th>SD</th>\n",
       "      <td>72</td>\n",
       "      <td>4</td>\n",
       "      <td>21</td>\n",
       "      <td>58</td>\n",
       "    </tr>\n",
       "    <tr>\n",
       "      <th>CA</th>\n",
       "      <td>72</td>\n",
       "      <td>747</td>\n",
       "      <td>197</td>\n",
       "      <td>416</td>\n",
       "    </tr>\n",
       "    <tr>\n",
       "      <th>AK</th>\n",
       "      <td>68</td>\n",
       "      <td>13</td>\n",
       "      <td>133</td>\n",
       "      <td>29</td>\n",
       "    </tr>\n",
       "    <tr>\n",
       "      <th>PA</th>\n",
       "      <td>66</td>\n",
       "      <td>198</td>\n",
       "      <td>45</td>\n",
       "      <td>368</td>\n",
       "    </tr>\n",
       "    <tr>\n",
       "      <th>AZ</th>\n",
       "      <td>58</td>\n",
       "      <td>69</td>\n",
       "      <td>153</td>\n",
       "      <td>122</td>\n",
       "    </tr>\n",
       "    <tr>\n",
       "      <th>MS</th>\n",
       "      <td>57</td>\n",
       "      <td>24</td>\n",
       "      <td>45</td>\n",
       "      <td>137</td>\n",
       "    </tr>\n",
       "    <tr>\n",
       "      <th>FL</th>\n",
       "      <td>56</td>\n",
       "      <td>34</td>\n",
       "      <td>28</td>\n",
       "      <td>448</td>\n",
       "    </tr>\n",
       "    <tr>\n",
       "      <th>WA</th>\n",
       "      <td>53</td>\n",
       "      <td>80</td>\n",
       "      <td>50</td>\n",
       "      <td>182</td>\n",
       "    </tr>\n",
       "    <tr>\n",
       "      <th>MT</th>\n",
       "      <td>44</td>\n",
       "      <td>22</td>\n",
       "      <td>46</td>\n",
       "      <td>55</td>\n",
       "    </tr>\n",
       "    <tr>\n",
       "      <th>WI</th>\n",
       "      <td>43</td>\n",
       "      <td>64</td>\n",
       "      <td>44</td>\n",
       "      <td>330</td>\n",
       "    </tr>\n",
       "    <tr>\n",
       "      <th>UT</th>\n",
       "      <td>37</td>\n",
       "      <td>20</td>\n",
       "      <td>13</td>\n",
       "      <td>86</td>\n",
       "    </tr>\n",
       "    <tr>\n",
       "      <th>GA</th>\n",
       "      <td>32</td>\n",
       "      <td>29</td>\n",
       "      <td>13</td>\n",
       "      <td>347</td>\n",
       "    </tr>\n",
       "    <tr>\n",
       "      <th>SC</th>\n",
       "      <td>32</td>\n",
       "      <td>6</td>\n",
       "      <td>11</td>\n",
       "      <td>180</td>\n",
       "    </tr>\n",
       "    <tr>\n",
       "      <th>WY</th>\n",
       "      <td>31</td>\n",
       "      <td>2</td>\n",
       "      <td>16</td>\n",
       "      <td>27</td>\n",
       "    </tr>\n",
       "    <tr>\n",
       "      <th>IN</th>\n",
       "      <td>27</td>\n",
       "      <td>38</td>\n",
       "      <td>23</td>\n",
       "      <td>290</td>\n",
       "    </tr>\n",
       "    <tr>\n",
       "      <th>KY</th>\n",
       "      <td>23</td>\n",
       "      <td>34</td>\n",
       "      <td>7</td>\n",
       "      <td>168</td>\n",
       "    </tr>\n",
       "    <tr>\n",
       "      <th>MA</th>\n",
       "      <td>22</td>\n",
       "      <td>158</td>\n",
       "      <td>32</td>\n",
       "      <td>137</td>\n",
       "    </tr>\n",
       "    <tr>\n",
       "      <th>CT</th>\n",
       "      <td>22</td>\n",
       "      <td>61</td>\n",
       "      <td>13</td>\n",
       "      <td>110</td>\n",
       "    </tr>\n",
       "    <tr>\n",
       "      <th>VA</th>\n",
       "      <td>21</td>\n",
       "      <td>33</td>\n",
       "      <td>1</td>\n",
       "      <td>266</td>\n",
       "    </tr>\n",
       "    <tr>\n",
       "      <th>NV</th>\n",
       "      <td>17</td>\n",
       "      <td>44</td>\n",
       "      <td>19</td>\n",
       "      <td>35</td>\n",
       "    </tr>\n",
       "    <tr>\n",
       "      <th>NJ</th>\n",
       "      <td>15</td>\n",
       "      <td>128</td>\n",
       "      <td>18</td>\n",
       "      <td>249</td>\n",
       "    </tr>\n",
       "    <tr>\n",
       "      <th>HI</th>\n",
       "      <td>15</td>\n",
       "      <td>0</td>\n",
       "      <td>6</td>\n",
       "      <td>42</td>\n",
       "    </tr>\n",
       "    <tr>\n",
       "      <th>AR</th>\n",
       "      <td>12</td>\n",
       "      <td>57</td>\n",
       "      <td>6</td>\n",
       "      <td>198</td>\n",
       "    </tr>\n",
       "    <tr>\n",
       "      <th>ME</th>\n",
       "      <td>10</td>\n",
       "      <td>37</td>\n",
       "      <td>10</td>\n",
       "      <td>63</td>\n",
       "    </tr>\n",
       "    <tr>\n",
       "      <th>NH</th>\n",
       "      <td>9</td>\n",
       "      <td>28</td>\n",
       "      <td>8</td>\n",
       "      <td>45</td>\n",
       "    </tr>\n",
       "    <tr>\n",
       "      <th>RI</th>\n",
       "      <td>8</td>\n",
       "      <td>21</td>\n",
       "      <td>3</td>\n",
       "      <td>23</td>\n",
       "    </tr>\n",
       "    <tr>\n",
       "      <th>VT</th>\n",
       "      <td>8</td>\n",
       "      <td>4</td>\n",
       "      <td>3</td>\n",
       "      <td>49</td>\n",
       "    </tr>\n",
       "    <tr>\n",
       "      <th>DE</th>\n",
       "      <td>5</td>\n",
       "      <td>10</td>\n",
       "      <td>1</td>\n",
       "      <td>20</td>\n",
       "    </tr>\n",
       "    <tr>\n",
       "      <th>WV</th>\n",
       "      <td>4</td>\n",
       "      <td>27</td>\n",
       "      <td>8</td>\n",
       "      <td>82</td>\n",
       "    </tr>\n",
       "    <tr>\n",
       "      <th>MD</th>\n",
       "      <td>3</td>\n",
       "      <td>26</td>\n",
       "      <td>15</td>\n",
       "      <td>174</td>\n",
       "    </tr>\n",
       "    <tr>\n",
       "      <th>DC</th>\n",
       "      <td>0</td>\n",
       "      <td>22</td>\n",
       "      <td>1</td>\n",
       "      <td>6</td>\n",
       "    </tr>\n",
       "  </tbody>\n",
       "</table>\n",
       "</div>"
      ],
      "text/plain": [
       "    DE_Only  AP_Only  Neither_AP_DE  Both_AP_DE\n",
       "TX      348      135             61         943\n",
       "MO      281       23             45         200\n",
       "OH      232       51            162         450\n",
       "KS      200       14             37          80\n",
       "IL      179      102             51         339\n",
       "MI      166       52             61         396\n",
       "NE      155        3             37          64\n",
       "MN      154       47             87         144\n",
       "IA      154        1              8         167\n",
       "OK      125       56             80         184\n",
       "TN      114       24             36         178\n",
       "NY      106      492            182         440\n",
       "LA      101       24             16         172\n",
       "ND      101        0             21          35\n",
       "AL      100       28             27         198\n",
       "CO       98       40             32         190\n",
       "OR       85       39             46         100\n",
       "NM       80       11              7          68\n",
       "ID       77        4             15          56\n",
       "NC       74      112             39         312\n",
       "SD       72        4             21          58\n",
       "CA       72      747            197         416\n",
       "AK       68       13            133          29\n",
       "PA       66      198             45         368\n",
       "AZ       58       69            153         122\n",
       "MS       57       24             45         137\n",
       "FL       56       34             28         448\n",
       "WA       53       80             50         182\n",
       "MT       44       22             46          55\n",
       "WI       43       64             44         330\n",
       "UT       37       20             13          86\n",
       "GA       32       29             13         347\n",
       "SC       32        6             11         180\n",
       "WY       31        2             16          27\n",
       "IN       27       38             23         290\n",
       "KY       23       34              7         168\n",
       "MA       22      158             32         137\n",
       "CT       22       61             13         110\n",
       "VA       21       33              1         266\n",
       "NV       17       44             19          35\n",
       "NJ       15      128             18         249\n",
       "HI       15        0              6          42\n",
       "AR       12       57              6         198\n",
       "ME       10       37             10          63\n",
       "NH        9       28              8          45\n",
       "RI        8       21              3          23\n",
       "VT        8        4              3          49\n",
       "DE        5       10              1          20\n",
       "WV        4       27              8          82\n",
       "MD        3       26             15         174\n",
       "DC        0       22              1           6"
      ]
     },
     "execution_count": 19,
     "metadata": {},
     "output_type": "execute_result"
    }
   ],
   "source": [
    "by_state = pd.concat([hs_de_only_state, hs_ap_only_state, hs_neither_ap_de_state, hs_both_ap_de_state], axis = 1)\n",
    "by_state.fillna(0).astype(int).sort_values('DE_Only', ascending = False)"
   ]
  },
  {
   "cell_type": "markdown",
   "metadata": {},
   "source": [
    "# By Size"
   ]
  },
  {
   "cell_type": "code",
   "execution_count": 20,
   "metadata": {},
   "outputs": [],
   "source": [
    "def school_sizer(enroll):\n",
    "    if enroll < 100:\n",
    "        return 1\n",
    "    elif 100 <= enroll < 500:\n",
    "        return 2\n",
    "    elif 500 <= enroll < 1200:\n",
    "        return 3\n",
    "    return 4"
   ]
  },
  {
   "cell_type": "code",
   "execution_count": 21,
   "metadata": {},
   "outputs": [],
   "source": [
    "hs_ap_only['size_group'] = hs_ap_only['total_enrollment'].apply(lambda x: school_sizer(x))\n",
    "hs_de_only['size_group'] = hs_de_only['total_enrollment'].apply(lambda x: school_sizer(x))\n",
    "hs_neither_ap_de['size_group'] = hs_neither_ap_de['total_enrollment'].apply(lambda x: school_sizer(x))\n",
    "hs_both_ap_de['size_group'] = hs_both_ap_de['total_enrollment'].apply(lambda x: school_sizer(x))"
   ]
  },
  {
   "cell_type": "code",
   "execution_count": 22,
   "metadata": {},
   "outputs": [],
   "source": [
    "hs_de_only_size = hs_de_only.groupby('size_group')['LEAID'].count()\n",
    "hs_de_only_size.rename('DE_Only', inplace=True);"
   ]
  },
  {
   "cell_type": "code",
   "execution_count": 23,
   "metadata": {},
   "outputs": [],
   "source": [
    "hs_ap_only_size = hs_ap_only.groupby('size_group')['LEAID'].count()\n",
    "hs_ap_only_size.rename('AP_Only', inplace=True);"
   ]
  },
  {
   "cell_type": "code",
   "execution_count": 24,
   "metadata": {},
   "outputs": [],
   "source": [
    "hs_neither_ap_de_size = hs_neither_ap_de.groupby('size_group')['LEAID'].count()\n",
    "hs_neither_ap_de_size.rename('Neither_AP_DE', inplace=True);"
   ]
  },
  {
   "cell_type": "code",
   "execution_count": 25,
   "metadata": {},
   "outputs": [],
   "source": [
    "hs_both_ap_de_size = hs_both_ap_de.groupby('size_group')['LEAID'].count()\n",
    "hs_both_ap_de_size.rename('Both_AP_DE', inplace=True);"
   ]
  },
  {
   "cell_type": "code",
   "execution_count": 26,
   "metadata": {},
   "outputs": [
    {
     "data": {
      "text/html": [
       "<div>\n",
       "<style scoped>\n",
       "    .dataframe tbody tr th:only-of-type {\n",
       "        vertical-align: middle;\n",
       "    }\n",
       "\n",
       "    .dataframe tbody tr th {\n",
       "        vertical-align: top;\n",
       "    }\n",
       "\n",
       "    .dataframe thead th {\n",
       "        text-align: right;\n",
       "    }\n",
       "</style>\n",
       "<table border=\"1\" class=\"dataframe\">\n",
       "  <thead>\n",
       "    <tr style=\"text-align: right;\">\n",
       "      <th></th>\n",
       "      <th>DE_Only</th>\n",
       "      <th>AP_Only</th>\n",
       "      <th>Neither_AP_DE</th>\n",
       "      <th>Both_AP_DE</th>\n",
       "    </tr>\n",
       "    <tr>\n",
       "      <th>size_group</th>\n",
       "      <th></th>\n",
       "      <th></th>\n",
       "      <th></th>\n",
       "      <th></th>\n",
       "    </tr>\n",
       "  </thead>\n",
       "  <tbody>\n",
       "    <tr>\n",
       "      <th>&lt;100</th>\n",
       "      <td>610</td>\n",
       "      <td>77</td>\n",
       "      <td>676</td>\n",
       "      <td>99</td>\n",
       "    </tr>\n",
       "    <tr>\n",
       "      <th>100-499</th>\n",
       "      <td>2600</td>\n",
       "      <td>986</td>\n",
       "      <td>1103</td>\n",
       "      <td>2598</td>\n",
       "    </tr>\n",
       "    <tr>\n",
       "      <th>500-1199</th>\n",
       "      <td>584</td>\n",
       "      <td>1180</td>\n",
       "      <td>214</td>\n",
       "      <td>3328</td>\n",
       "    </tr>\n",
       "    <tr>\n",
       "      <th>&gt;1200</th>\n",
       "      <td>78</td>\n",
       "      <td>1055</td>\n",
       "      <td>46</td>\n",
       "      <td>3433</td>\n",
       "    </tr>\n",
       "  </tbody>\n",
       "</table>\n",
       "</div>"
      ],
      "text/plain": [
       "            DE_Only  AP_Only  Neither_AP_DE  Both_AP_DE\n",
       "size_group                                             \n",
       "<100            610       77            676          99\n",
       "100-499        2600      986           1103        2598\n",
       "500-1199        584     1180            214        3328\n",
       ">1200            78     1055             46        3433"
      ]
     },
     "execution_count": 26,
     "metadata": {},
     "output_type": "execute_result"
    }
   ],
   "source": [
    "by_size = pd.concat([hs_de_only_size, hs_ap_only_size, hs_neither_ap_de_size, hs_both_ap_de_size], axis = 1)\n",
    "by_size.rename({1:'<100', 2:'100-499', 3:'500-1199', 4:'>1200'})"
   ]
  },
  {
   "cell_type": "markdown",
   "metadata": {},
   "source": [
    "# By Region"
   ]
  },
  {
   "cell_type": "code",
   "execution_count": 27,
   "metadata": {},
   "outputs": [],
   "source": [
    "\"\"\"\n",
    "1:  Middle States Commission on Higher Education - New York, New Jersey, Pennsylvania, Delaware, Maryland, the District of Columbia\n",
    "\n",
    "2:  New England Association of Schools and Colleges - Connecticut, Maine, Massachusetts, New Hampshire, Rhode Island, and Vermont\n",
    "\n",
    "3:  Higher Learning Commission - Arkansas, Arizona, Colorado, Iowa, Illinois, Indiana, Kansas, Michigan, Minnesota, Missouri, \n",
    "    North Dakota, Nebraska, New Mexico, Ohio, Oklahoma, South Dakota, Wisconsin, West Virginia, and Wyoming\n",
    "\n",
    "4:  Northwest Commission on Colleges and Universities - Alaska, Idaho, Montana, Nevada, Oregon, Utah, and Washington\n",
    "\n",
    "5:  Southern Association of Colleges and Schools - Alabama, Florida, Georgia, Kentucky, Louisiana, Mississippi, \n",
    "    North Carolina, South Carolina, Tennessee, Texas and Virginia\n",
    "\n",
    "6:  Western Association of Schools and Colleges - California, Hawaii\n",
    "\"\"\"\n",
    "\n",
    "middle_states = \"NY,NJ,PA,DE,MD,DC\".split(',')\n",
    "new_england = \"CT,ME,MA,NH,RI,VT\".split(',')\n",
    "higher_learning_commission = \"AR,AZ,CO,IA,IL,IN,KS,MI,MN,MO,ND,NE,NM,OH,OK,SD,WI,WV,WY\".split(',')\n",
    "northwest_commission = \"AK,ID,MT,NV,OR,UT,WA\".split(',')\n",
    "southern_association = \"AL,FL,GA,KY,LA,MS,NC,SC,TN,TX,VA\".split(',')\n",
    "western_association = \"CA,HI\".split(',')"
   ]
  },
  {
   "cell_type": "code",
   "execution_count": 28,
   "metadata": {},
   "outputs": [],
   "source": [
    "def region_mapper(state):\n",
    "    if state in middle_states:\n",
    "        return \"MSCHE\"\n",
    "    elif state in new_england:\n",
    "        return \"NEASC\"\n",
    "    elif state in higher_learning_commission:\n",
    "        return \"HLC\"\n",
    "    elif state in northwest_commission:\n",
    "        return \"NWCCU\"\n",
    "    elif state in southern_association:\n",
    "        return \"SACS\"\n",
    "    elif state in western_association:\n",
    "        return \"WASC\"\n",
    "    else:\n",
    "        return \"Messed Up\"\n",
    "    \n",
    "hs_de_only['region_accred'] = hs_de_only['LEA_STATE'].apply(lambda x: region_mapper(x))\n",
    "hs_ap_only['region_accred'] = hs_ap_only['LEA_STATE'].apply(lambda x: region_mapper(x))\n",
    "hs_neither_ap_de['region_accred'] = hs_neither_ap_de['LEA_STATE'].apply(lambda x: region_mapper(x))\n",
    "hs_both_ap_de['region_accred'] = hs_both_ap_de['LEA_STATE'].apply(lambda x: region_mapper(x))"
   ]
  },
  {
   "cell_type": "code",
   "execution_count": 29,
   "metadata": {},
   "outputs": [],
   "source": [
    "hs_de_only_region = hs_de_only.groupby('region_accred')['LEAID'].count()\n",
    "hs_de_only_region.rename('DE_Only', inplace=True);"
   ]
  },
  {
   "cell_type": "code",
   "execution_count": 30,
   "metadata": {},
   "outputs": [],
   "source": [
    "hs_ap_only_region = hs_ap_only.groupby('region_accred')['LEAID'].count()\n",
    "hs_ap_only_region.rename('AP_Only', inplace=True);"
   ]
  },
  {
   "cell_type": "code",
   "execution_count": 31,
   "metadata": {},
   "outputs": [],
   "source": [
    "hs_neither_ap_de_region = hs_neither_ap_de.groupby('region_accred')['LEAID'].count()\n",
    "hs_neither_ap_de_region.rename('Neither_AP_DE', inplace=True);"
   ]
  },
  {
   "cell_type": "code",
   "execution_count": 32,
   "metadata": {},
   "outputs": [],
   "source": [
    "hs_both_ap_de_region = hs_both_ap_de.groupby('region_accred')['LEAID'].count()\n",
    "hs_both_ap_de_region.rename('Both_AP_DE', inplace=True);"
   ]
  },
  {
   "cell_type": "code",
   "execution_count": 33,
   "metadata": {},
   "outputs": [
    {
     "data": {
      "text/html": [
       "<div>\n",
       "<style scoped>\n",
       "    .dataframe tbody tr th:only-of-type {\n",
       "        vertical-align: middle;\n",
       "    }\n",
       "\n",
       "    .dataframe tbody tr th {\n",
       "        vertical-align: top;\n",
       "    }\n",
       "\n",
       "    .dataframe thead th {\n",
       "        text-align: right;\n",
       "    }\n",
       "</style>\n",
       "<table border=\"1\" class=\"dataframe\">\n",
       "  <thead>\n",
       "    <tr style=\"text-align: right;\">\n",
       "      <th></th>\n",
       "      <th>DE_Only</th>\n",
       "      <th>AP_Only</th>\n",
       "      <th>Neither_AP_DE</th>\n",
       "      <th>Both_AP_DE</th>\n",
       "    </tr>\n",
       "    <tr>\n",
       "      <th>region_accred</th>\n",
       "      <th></th>\n",
       "      <th></th>\n",
       "      <th></th>\n",
       "      <th></th>\n",
       "    </tr>\n",
       "  </thead>\n",
       "  <tbody>\n",
       "    <tr>\n",
       "      <th>HLC</th>\n",
       "      <td>2172</td>\n",
       "      <td>661</td>\n",
       "      <td>899</td>\n",
       "      <td>3424</td>\n",
       "    </tr>\n",
       "    <tr>\n",
       "      <th>MSCHE</th>\n",
       "      <td>195</td>\n",
       "      <td>876</td>\n",
       "      <td>262</td>\n",
       "      <td>1257</td>\n",
       "    </tr>\n",
       "    <tr>\n",
       "      <th>NEASC</th>\n",
       "      <td>79</td>\n",
       "      <td>309</td>\n",
       "      <td>69</td>\n",
       "      <td>427</td>\n",
       "    </tr>\n",
       "    <tr>\n",
       "      <th>NWCCU</th>\n",
       "      <td>381</td>\n",
       "      <td>222</td>\n",
       "      <td>322</td>\n",
       "      <td>543</td>\n",
       "    </tr>\n",
       "    <tr>\n",
       "      <th>SACS</th>\n",
       "      <td>958</td>\n",
       "      <td>483</td>\n",
       "      <td>284</td>\n",
       "      <td>3349</td>\n",
       "    </tr>\n",
       "    <tr>\n",
       "      <th>WASC</th>\n",
       "      <td>87</td>\n",
       "      <td>747</td>\n",
       "      <td>203</td>\n",
       "      <td>458</td>\n",
       "    </tr>\n",
       "  </tbody>\n",
       "</table>\n",
       "</div>"
      ],
      "text/plain": [
       "               DE_Only  AP_Only  Neither_AP_DE  Both_AP_DE\n",
       "region_accred                                             \n",
       "HLC               2172      661            899        3424\n",
       "MSCHE              195      876            262        1257\n",
       "NEASC               79      309             69         427\n",
       "NWCCU              381      222            322         543\n",
       "SACS               958      483            284        3349\n",
       "WASC                87      747            203         458"
      ]
     },
     "execution_count": 33,
     "metadata": {},
     "output_type": "execute_result"
    }
   ],
   "source": [
    "pd.concat([hs_de_only_region, hs_ap_only_region, hs_neither_ap_de_region, hs_both_ap_de_region], axis = 1)"
   ]
  },
  {
   "cell_type": "markdown",
   "metadata": {},
   "source": [
    "# By Locale"
   ]
  },
  {
   "cell_type": "code",
   "execution_count": 34,
   "metadata": {},
   "outputs": [],
   "source": [
    "locale_map = {11: 'City', 12: 'City', 13: 'City', 14: 'City',\n",
    "              21: 'Suburban', 22: 'Suburban', 23: 'Suburban', 24: 'Suburban',\n",
    "              31: 'Town', 32: 'Town', 33: 'Town', 34: 'Town',\n",
    "              41: 'Rural', 42: 'Rural', 43: 'Rural', 44: 'Rural'}"
   ]
  },
  {
   "cell_type": "code",
   "execution_count": 35,
   "metadata": {},
   "outputs": [],
   "source": [
    "hs_de_only['locale'] = hs_de_only['LOCALE15'].map(locale_map)\n",
    "hs_ap_only['locale'] = hs_ap_only['LOCALE15'].map(locale_map)\n",
    "hs_neither_ap_de['locale'] = hs_neither_ap_de['LOCALE15'].map(locale_map)\n",
    "hs_both_ap_de['locale'] = hs_both_ap_de['LOCALE15'].map(locale_map)"
   ]
  },
  {
   "cell_type": "code",
   "execution_count": 36,
   "metadata": {},
   "outputs": [],
   "source": [
    "hs_de_only_locale = hs_de_only.groupby('locale')['LEAID'].count()\n",
    "hs_de_only_locale.rename('DE_Only', inplace=True);"
   ]
  },
  {
   "cell_type": "code",
   "execution_count": 37,
   "metadata": {},
   "outputs": [],
   "source": [
    "hs_ap_only_locale = hs_ap_only.groupby('locale')['LEAID'].count()\n",
    "hs_ap_only_locale.rename('AP_Only', inplace=True);"
   ]
  },
  {
   "cell_type": "code",
   "execution_count": 38,
   "metadata": {},
   "outputs": [],
   "source": [
    "hs_neither_ap_de_locale = hs_ap_only.groupby('locale')['LEAID'].count()\n",
    "hs_neither_ap_de_locale.rename('Neither_AP_DE', inplace=True);"
   ]
  },
  {
   "cell_type": "code",
   "execution_count": 39,
   "metadata": {},
   "outputs": [],
   "source": [
    "hs_both_ap_de_locale = hs_both_ap_de.groupby('locale')['LEAID'].count()\n",
    "hs_both_ap_de_locale.rename('Both_DE_AP', inplace=True);"
   ]
  },
  {
   "cell_type": "code",
   "execution_count": 40,
   "metadata": {},
   "outputs": [
    {
     "data": {
      "text/html": [
       "<div>\n",
       "<style scoped>\n",
       "    .dataframe tbody tr th:only-of-type {\n",
       "        vertical-align: middle;\n",
       "    }\n",
       "\n",
       "    .dataframe tbody tr th {\n",
       "        vertical-align: top;\n",
       "    }\n",
       "\n",
       "    .dataframe thead th {\n",
       "        text-align: right;\n",
       "    }\n",
       "</style>\n",
       "<table border=\"1\" class=\"dataframe\">\n",
       "  <thead>\n",
       "    <tr style=\"text-align: right;\">\n",
       "      <th></th>\n",
       "      <th>DE_Only</th>\n",
       "      <th>AP_Only</th>\n",
       "      <th>Neither_AP_DE</th>\n",
       "      <th>Both_DE_AP</th>\n",
       "    </tr>\n",
       "    <tr>\n",
       "      <th>locale</th>\n",
       "      <th></th>\n",
       "      <th></th>\n",
       "      <th></th>\n",
       "      <th></th>\n",
       "    </tr>\n",
       "  </thead>\n",
       "  <tbody>\n",
       "    <tr>\n",
       "      <th>City</th>\n",
       "      <td>335</td>\n",
       "      <td>1186</td>\n",
       "      <td>1186</td>\n",
       "      <td>1966</td>\n",
       "    </tr>\n",
       "    <tr>\n",
       "      <th>Rural</th>\n",
       "      <td>2718</td>\n",
       "      <td>692</td>\n",
       "      <td>692</td>\n",
       "      <td>3135</td>\n",
       "    </tr>\n",
       "    <tr>\n",
       "      <th>Suburban</th>\n",
       "      <td>268</td>\n",
       "      <td>1067</td>\n",
       "      <td>1067</td>\n",
       "      <td>2858</td>\n",
       "    </tr>\n",
       "    <tr>\n",
       "      <th>Town</th>\n",
       "      <td>551</td>\n",
       "      <td>353</td>\n",
       "      <td>353</td>\n",
       "      <td>1499</td>\n",
       "    </tr>\n",
       "  </tbody>\n",
       "</table>\n",
       "</div>"
      ],
      "text/plain": [
       "          DE_Only  AP_Only  Neither_AP_DE  Both_DE_AP\n",
       "locale                                               \n",
       "City          335     1186           1186        1966\n",
       "Rural        2718      692            692        3135\n",
       "Suburban      268     1067           1067        2858\n",
       "Town          551      353            353        1499"
      ]
     },
     "execution_count": 40,
     "metadata": {},
     "output_type": "execute_result"
    }
   ],
   "source": [
    "pd.concat([hs_de_only_locale, hs_ap_only_locale, hs_neither_ap_de_locale, hs_both_ap_de_locale], axis = 1)"
   ]
  },
  {
   "cell_type": "markdown",
   "metadata": {},
   "source": [
    "# By Ethncity "
   ]
  },
  {
   "cell_type": "code",
   "execution_count": 41,
   "metadata": {},
   "outputs": [],
   "source": [
    "hs_de_only['pct_eth'] = (hs_de_only['total_enrollment'] - hs_de_only['SCH_ENR_WH_F'] - hs_de_only['SCH_ENR_WH_M']) / hs_de_only['total_enrollment'] \n",
    "hs_ap_only['pct_eth'] = (hs_ap_only['total_enrollment'] - hs_ap_only['SCH_ENR_WH_F'] - hs_ap_only['SCH_ENR_WH_M']) / hs_ap_only['total_enrollment'] \n",
    "hs_neither_ap_de['pct_eth'] = (hs_neither_ap_de['total_enrollment'] - hs_neither_ap_de['SCH_ENR_WH_F'] - hs_neither_ap_de['SCH_ENR_WH_M']) / hs_neither_ap_de['total_enrollment'] \n",
    "hs_both_ap_de['pct_eth'] = (hs_both_ap_de['total_enrollment'] - hs_both_ap_de['SCH_ENR_WH_F'] - hs_both_ap_de['SCH_ENR_WH_M']) / hs_both_ap_de['total_enrollment'] "
   ]
  },
  {
   "cell_type": "code",
   "execution_count": 42,
   "metadata": {},
   "outputs": [],
   "source": [
    "def eth_grouper(pct):\n",
    "    if pct <= .20:\n",
    "        return 1\n",
    "    elif .20 < pct <= .4:\n",
    "        return 2\n",
    "    elif .4 < pct <= 0.6:\n",
    "        return 3\n",
    "    elif .6 < pct <= .8:\n",
    "        return 4\n",
    "    return 5"
   ]
  },
  {
   "cell_type": "code",
   "execution_count": 43,
   "metadata": {},
   "outputs": [],
   "source": [
    "hs_de_only['eth_quintile'] = hs_de_only['pct_eth'].apply(lambda x: eth_grouper(x))\n",
    "hs_ap_only['eth_quintile'] = hs_ap_only['pct_eth'].apply(lambda x: eth_grouper(x))\n",
    "hs_neither_ap_de['eth_quintile'] = hs_neither_ap_de['pct_eth'].apply(lambda x: eth_grouper(x))\n",
    "hs_both_ap_de['eth_quintile'] = hs_both_ap_de['pct_eth'].apply(lambda x: eth_grouper(x))"
   ]
  },
  {
   "cell_type": "code",
   "execution_count": 44,
   "metadata": {},
   "outputs": [],
   "source": [
    "hs_de_only_eth = hs_de_only.groupby('eth_quintile')['LEAID'].count()\n",
    "hs_de_only_eth.rename('DE_Only', inplace = True);"
   ]
  },
  {
   "cell_type": "code",
   "execution_count": 45,
   "metadata": {},
   "outputs": [],
   "source": [
    "hs_ap_only_eth = hs_ap_only.groupby('eth_quintile')['LEAID'].count()\n",
    "hs_ap_only_eth.rename('AP_Only', inplace = True);"
   ]
  },
  {
   "cell_type": "code",
   "execution_count": 46,
   "metadata": {},
   "outputs": [],
   "source": [
    "hs_neither_ap_de_eth = hs_neither_ap_de.groupby('eth_quintile')['LEAID'].count()\n",
    "hs_neither_ap_de_eth.rename('Neither_AP_DE', inplace = True);"
   ]
  },
  {
   "cell_type": "code",
   "execution_count": 47,
   "metadata": {},
   "outputs": [],
   "source": [
    "hs_both_ap_de_eth = hs_both_ap_de.groupby('eth_quintile')['LEAID'].count()\n",
    "hs_both_ap_de_eth.rename('Both_AP_DE', inplace = True);"
   ]
  },
  {
   "cell_type": "code",
   "execution_count": 48,
   "metadata": {},
   "outputs": [
    {
     "data": {
      "text/html": [
       "<div>\n",
       "<style scoped>\n",
       "    .dataframe tbody tr th:only-of-type {\n",
       "        vertical-align: middle;\n",
       "    }\n",
       "\n",
       "    .dataframe tbody tr th {\n",
       "        vertical-align: top;\n",
       "    }\n",
       "\n",
       "    .dataframe thead th {\n",
       "        text-align: right;\n",
       "    }\n",
       "</style>\n",
       "<table border=\"1\" class=\"dataframe\">\n",
       "  <thead>\n",
       "    <tr style=\"text-align: right;\">\n",
       "      <th></th>\n",
       "      <th>DE_Only</th>\n",
       "      <th>AP_Only</th>\n",
       "      <th>Neither_AP_DE</th>\n",
       "      <th>Both_AP_DE</th>\n",
       "    </tr>\n",
       "    <tr>\n",
       "      <th>eth_quintile</th>\n",
       "      <th></th>\n",
       "      <th></th>\n",
       "      <th></th>\n",
       "      <th></th>\n",
       "    </tr>\n",
       "  </thead>\n",
       "  <tbody>\n",
       "    <tr>\n",
       "      <th>1</th>\n",
       "      <td>2134</td>\n",
       "      <td>842</td>\n",
       "      <td>603</td>\n",
       "      <td>3543</td>\n",
       "    </tr>\n",
       "    <tr>\n",
       "      <th>2</th>\n",
       "      <td>699</td>\n",
       "      <td>508</td>\n",
       "      <td>310</td>\n",
       "      <td>1985</td>\n",
       "    </tr>\n",
       "    <tr>\n",
       "      <th>3</th>\n",
       "      <td>349</td>\n",
       "      <td>422</td>\n",
       "      <td>237</td>\n",
       "      <td>1406</td>\n",
       "    </tr>\n",
       "    <tr>\n",
       "      <th>4</th>\n",
       "      <td>239</td>\n",
       "      <td>413</td>\n",
       "      <td>218</td>\n",
       "      <td>954</td>\n",
       "    </tr>\n",
       "    <tr>\n",
       "      <th>5</th>\n",
       "      <td>451</td>\n",
       "      <td>1113</td>\n",
       "      <td>671</td>\n",
       "      <td>1570</td>\n",
       "    </tr>\n",
       "  </tbody>\n",
       "</table>\n",
       "</div>"
      ],
      "text/plain": [
       "              DE_Only  AP_Only  Neither_AP_DE  Both_AP_DE\n",
       "eth_quintile                                             \n",
       "1                2134      842            603        3543\n",
       "2                 699      508            310        1985\n",
       "3                 349      422            237        1406\n",
       "4                 239      413            218         954\n",
       "5                 451     1113            671        1570"
      ]
     },
     "execution_count": 48,
     "metadata": {},
     "output_type": "execute_result"
    }
   ],
   "source": [
    "pd.concat([hs_de_only_eth, hs_ap_only_eth, hs_neither_ap_de_eth, hs_both_ap_de_eth], axis = 1)"
   ]
  },
  {
   "cell_type": "code",
   "execution_count": null,
   "metadata": {},
   "outputs": [],
   "source": []
  }
 ],
 "metadata": {
  "kernelspec": {
   "display_name": "nacep_venv",
   "language": "python",
   "name": "nacep_venv"
  },
  "language_info": {
   "codemirror_mode": {
    "name": "ipython",
    "version": 3
   },
   "file_extension": ".py",
   "mimetype": "text/x-python",
   "name": "python",
   "nbconvert_exporter": "python",
   "pygments_lexer": "ipython3",
   "version": "3.6.5"
  }
 },
 "nbformat": 4,
 "nbformat_minor": 2
}
